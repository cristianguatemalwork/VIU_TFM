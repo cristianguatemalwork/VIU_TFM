{
 "cells": [
  {
   "cell_type": "code",
   "execution_count": null,
   "id": "305b533b",
   "metadata": {
    "ExecuteTime": {
     "end_time": "2024-07-15T17:26:43.826014Z",
     "start_time": "2024-07-15T17:24:55.183749Z"
    }
   },
   "outputs": [],
   "source": [
    "#Importación de librearías necesarias\n",
    "import pandas as pd\n",
    "from datetime import datetime\n",
    "import socket\n",
    "import numpy as np\n",
    "import math\n",
    "import time\n",
    "import pickle  #Para guardar archivos\n",
    "import os\n",
    "\n",
    "import matplotlib.pyplot as plt\n",
    "from scipy.cluster.hierarchy import dendrogram, linkage, fcluster"
   ]
  },
  {
   "cell_type": "code",
   "execution_count": null,
   "id": "3ad7f70c",
   "metadata": {
    "ExecuteTime": {
     "end_time": "2024-07-15T17:26:43.843808Z",
     "start_time": "2024-07-15T17:26:43.833283Z"
    }
   },
   "outputs": [],
   "source": [
    "#Path general de archivos\n",
    "if socket.gethostname()=='LAPTOP-PUSGG08B': #Ip de la laptop\n",
    "    ruta = \"E:/Cristian Guatemal/Master/Big Data y Ciencia de Datos/VIU_TFM/Data/TFM/\"\n",
    "    r_ruta = \"E:/Cristian Guatemal/Master/Big Data y Ciencia de Datos/VIU_TFM/RData/TFM/\"\n",
    "elif socket.gethostname()=='PCUIOMTDAIE6382': #Ip del working\n",
    "    ruta = \"C:/Users/cristian.guatemal/Documents/Master/Big_Data_Ciencia_Datos/VIU_TFM/Data/TFM/\"\n",
    "    r_ruta = \"C:/Users/cristian.guatemal/Documents/Master/Big_Data_Ciencia_Datos/VIU_TFM/RData/TFM/\"\n",
    "# Ruta del archivo de pensionistas de vejez\n",
    "ruta_vj = ruta + 'POB_VEJ_CD656_NEW.dsv'\n",
    "# Ruta del archivo de historia laboral de pensionistas\n",
    "ruta_afi = ruta + 'APORTES_CD656_new.dsv'"
   ]
  },
  {
   "cell_type": "code",
   "execution_count": null,
   "id": "28dfb4e5",
   "metadata": {
    "ExecuteTime": {
     "start_time": "2024-07-15T17:24:58.630Z"
    }
   },
   "outputs": [],
   "source": [
    "#Importación de archivos de afiliados\n",
    "inicio = time.time()\n",
    "afi = pd.read_csv( ruta_afi, delimiter='\\t', encoding='iso-8859-1', decimal='.')\n",
    "fin = time.time()  \n",
    "print('Tiempo de ejecución es: ',  (fin-inicio)//3600, ' horas con ' ,  (fin-inicio)%3600//60 , ' minutos y', \n",
    "        (fin-inicio)%60, ' segundos' )"
   ]
  },
  {
   "cell_type": "code",
   "execution_count": null,
   "id": "c19aaa90",
   "metadata": {
    "ExecuteTime": {
     "start_time": "2024-07-15T17:25:15.799Z"
    }
   },
   "outputs": [],
   "source": [
    "#Agrupamiento por relación de trabajo\n",
    "inicio = time.time()\n",
    "agrupa = [ (afi['SECTOR'].isin(['PRIVADO', 'PASANTE PRIVADO'])), \n",
    "           (afi['SECTOR'].isin(['PUBLICO', 'PASANTE PUBLICO'])), \n",
    "           (afi['SECTOR'].isin(['INDEPENDIENTES', '108-ARTISTA Y GESTOR DE CULTURA', \n",
    "                                '02-TRABAJ. AUT Y SIN RELAC DEPEN DESDE  2011-12 SOLO AF.VOLUNT  '])),\n",
    "           (afi['SECTOR'].isin(['69-VOLUNTARIO ECUATORIANO DOMICILIADO EN EL EXTERIOR ',\n",
    "                                '89-AFILIACION DOMICILIADO EN EL EXTERIOR'])),\n",
    "           (afi['SECTOR'] == '90-AFILIACION DOMICILIADO EN EL PAIS / SIN RELACION DEPENDENCIA'),\n",
    "           (afi['SECTOR'] == '06-CODIGO DEL TRABAJO - CT ')\n",
    "            ]\n",
    "            \n",
    "tipo = ['PRI', 'PUB', 'IND', 'VOL_EX', 'VOL_EC', 'COD_TR']\n",
    "\n",
    "afi['SECTOR_A'] = np.select( agrupa, tipo, default=afi['SECTOR'])\n",
    "fin = time.time()  \n",
    "print('Tiempo de ejecución es: ',  (fin-inicio)//3600, ' horas con ' ,  (fin-inicio)%3600//60 , ' minutos y', \n",
    "        (fin-inicio)%60, ' segundos' )"
   ]
  },
  {
   "cell_type": "code",
   "execution_count": null,
   "id": "8a62a1f0",
   "metadata": {
    "ExecuteTime": {
     "start_time": "2024-07-15T17:25:17.276Z"
    }
   },
   "outputs": [],
   "source": [
    "afi['SECTOR'].unique()"
   ]
  },
  {
   "cell_type": "code",
   "execution_count": null,
   "id": "b9d7fce7",
   "metadata": {
    "ExecuteTime": {
     "start_time": "2024-07-15T17:25:18.047Z"
    }
   },
   "outputs": [],
   "source": [
    "afi['SECTOR_A'].unique()"
   ]
  },
  {
   "cell_type": "code",
   "execution_count": null,
   "id": "a03a3ae9",
   "metadata": {
    "ExecuteTime": {
     "start_time": "2024-07-15T17:25:18.782Z"
    }
   },
   "outputs": [],
   "source": [
    "afi.shape"
   ]
  },
  {
   "cell_type": "code",
   "execution_count": null,
   "id": "04746277",
   "metadata": {
    "ExecuteTime": {
     "start_time": "2024-07-15T17:25:20.495Z"
    }
   },
   "outputs": [],
   "source": [
    "#Para acceder a las prestaciones de IVM debe tener al menos 5 años de aporte o 60 imposiciones\n",
    "ced_counts = afi.drop_duplicates(subset=['CEDULA_COD', 'ANIO', 'MES'])['CEDULA_COD'].value_counts()"
   ]
  },
  {
   "cell_type": "code",
   "execution_count": null,
   "id": "dbad0c44",
   "metadata": {
    "ExecuteTime": {
     "start_time": "2024-07-15T17:25:21.271Z"
    }
   },
   "outputs": [],
   "source": [
    "# numero de cedulas que tienen menos de 60 imposiciones\n",
    "ced_counts[ced_counts < 60].index.nunique()"
   ]
  },
  {
   "cell_type": "code",
   "execution_count": null,
   "id": "6165f941",
   "metadata": {
    "ExecuteTime": {
     "start_time": "2024-07-15T17:25:22.944Z"
    }
   },
   "outputs": [],
   "source": [
    "#Se filtran a las cedulas con menos de 60 imposicones \n",
    "inicio = time.time()\n",
    "afi_fil = afi[~afi['CEDULA_COD'].isin(ced_counts[ced_counts < 60].index)].copy()\n",
    "fin = time.time()  \n",
    "print('Tiempo de ejecución es: ',  (fin-inicio)//3600, ' horas con ' ,  (fin-inicio)%3600//60 , ' minutos y', (fin-inicio)%60, ' segundos' )\n",
    "\n",
    "#Se crea una variable fecha\n",
    "inicio = time.time()\n",
    "afi_fil.loc[:, 'FECHA'] = pd.to_datetime(afi_fil['ANIO'].astype(str) + '-' + afi_fil['MES'].astype(str).str.zfill(2) + '-01')\n",
    "fin = time.time()  \n",
    "print('Tiempo de ejecución es: ',  (fin-inicio)//3600, ' horas con ' ,  (fin-inicio)%3600//60 , ' minutos y', (fin-inicio)%60, ' segundos' )\n",
    "\n",
    "#Se ordenan los registros\n",
    "inicio = time.time()\n",
    "afi_fil = afi_fil.sort_values( by=[\"CEDULA_COD\",\"ANIO\", \"MES\"], ascending=[True, True, True] )\n",
    "fin = time.time()  \n",
    "print('Tiempo de ejecución es: ',  (fin-inicio)//3600, ' horas con ' ,  (fin-inicio)%3600//60 , ' minutos y', (fin-inicio)%60, ' segundos' )\n",
    "afi_fil.shape"
   ]
  },
  {
   "cell_type": "code",
   "execution_count": null,
   "id": "68f9e80c",
   "metadata": {
    "ExecuteTime": {
     "start_time": "2024-07-15T17:25:31.096Z"
    }
   },
   "outputs": [],
   "source": [
    "# Especifica la ruta del directorio donde quieres guardar el archivo\n",
    "directorio = r_ruta\n",
    "\n",
    "# Asegúrate de que el directorio existe\n",
    "os.makedirs(directorio, exist_ok=True)\n",
    "\n",
    "# Nombre del archivo\n",
    "nombre_archivo = 'viu_clean_afiliados.pkl'\n",
    "\n",
    "# Ruta completa del archivo\n",
    "ruta_archivo = os.path.join(directorio, nombre_archivo)\n",
    "\n",
    "# Objetos a guardar\n",
    "objeto1 = afi\n",
    "objeto2 = afi_fil\n",
    "\n",
    "# Guardar los objetos en el archivo\n",
    "with open(ruta_archivo, 'wb') as archivo:\n",
    "    pickle.dump(objeto1, archivo)\n",
    "    pickle.dump(objeto2, archivo)\n",
    "    \n",
    "# #Cargar los archivos\n",
    "# with open( ruta_archivo, 'rb') as archivo:\n",
    "#     pickle.load(archivo)  # Carga y descarta el primer objeto\n",
    "#     afi_fil = pickle.load(archivo)  # Carga el segundo objeto    "
   ]
  },
  {
   "cell_type": "code",
   "execution_count": null,
   "id": "d3968aa2",
   "metadata": {
    "ExecuteTime": {
     "end_time": "2024-07-15T17:15:23.991547Z",
     "start_time": "2024-07-15T17:15:23.991547Z"
    }
   },
   "outputs": [],
   "source": [
    "#Se eliminan archivos no necesarios para liberar la memoria\n",
    "del afi\n",
    "del objeto1\n",
    "del objeto2\n",
    "del ced_counts"
   ]
  },
  {
   "cell_type": "code",
   "execution_count": null,
   "id": "87d43629",
   "metadata": {
    "ExecuteTime": {
     "end_time": "2024-07-15T17:15:23.993540Z",
     "start_time": "2024-07-15T17:15:23.993540Z"
    }
   },
   "outputs": [],
   "source": [
    "afi_fil #Tiene una dimensión de (64638969 rows × 14 columns)"
   ]
  },
  {
   "cell_type": "code",
   "execution_count": null,
   "id": "3903704c",
   "metadata": {
    "ExecuteTime": {
     "end_time": "2024-07-15T17:15:23.995553Z",
     "start_time": "2024-07-15T17:15:23.995553Z"
    }
   },
   "outputs": [],
   "source": [
    "#Se seleccionan las características de la población para los año y mes de aportación\n",
    "afi_sel = afi_fil[['CEDULA_COD', 'ANIO', 'MES', 'FECHA','SALARIO', 'SECTOR_A']].copy()\n",
    "del afi_fil"
   ]
  },
  {
   "cell_type": "code",
   "execution_count": null,
   "id": "adcadef1",
   "metadata": {
    "ExecuteTime": {
     "end_time": "2024-07-15T17:15:23.996542Z",
     "start_time": "2024-07-15T17:15:23.996542Z"
    }
   },
   "outputs": [],
   "source": [
    "#Inicio de la HL\n",
    "caract = afi_sel.groupby('CEDULA_COD')['FECHA'].min().reset_index() \n",
    "caract.rename( columns={'FECHA': 'INI_HL'}, inplace=True)\n",
    "#Fin de la HL\n",
    "caract['FIN_HL'] = caract['CEDULA_COD'].map( afi_sel.groupby('CEDULA_COD')['FECHA'].max() )\n",
    "#Contar los meses, considerando duplicidad en los meses que puede tener aporte simultaneos\n",
    "caract['MES_AS'] = caract['CEDULA_COD'].map( afi_sel['CEDULA_COD'].value_counts() )\n",
    "#Meses trabajados unicos\n",
    "aux = afi_sel.drop_duplicates(subset=['CEDULA_COD', 'ANIO', 'MES'])\n",
    "caract['MES_TU'] = caract['CEDULA_COD'].map( aux['CEDULA_COD'].value_counts() )"
   ]
  },
  {
   "cell_type": "code",
   "execution_count": null,
   "id": "48d6a6d8",
   "metadata": {
    "ExecuteTime": {
     "end_time": "2024-07-15T17:15:23.998674Z",
     "start_time": "2024-07-15T17:15:23.998674Z"
    }
   },
   "outputs": [],
   "source": [
    "objeto3 = caract\n",
    "\n",
    "# Guardar los objetos en el archivo\n",
    "with open(ruta_archivo, 'ab') as archivo: \n",
    "    pickle.dump(objeto3, archivo)"
   ]
  },
  {
   "cell_type": "code",
   "execution_count": null,
   "id": "4c3149c5",
   "metadata": {
    "ExecuteTime": {
     "end_time": "2024-07-15T17:15:23.999664Z",
     "start_time": "2024-07-15T17:15:23.999664Z"
    }
   },
   "outputs": [],
   "source": [
    "del objeto3"
   ]
  },
  {
   "cell_type": "code",
   "execution_count": null,
   "id": "5d78279e",
   "metadata": {
    "ExecuteTime": {
     "end_time": "2024-07-15T17:15:24.002664Z",
     "start_time": "2024-07-15T17:15:24.002664Z"
    }
   },
   "outputs": [],
   "source": [
    "caract"
   ]
  },
  {
   "cell_type": "code",
   "execution_count": null,
   "id": "bc22a036",
   "metadata": {
    "ExecuteTime": {
     "end_time": "2024-07-15T17:15:24.003666Z",
     "start_time": "2024-07-15T17:15:24.003666Z"
    }
   },
   "outputs": [],
   "source": [
    "#Personas que tienen varios aportes simultaneos\n",
    "caract[caract['MES_AS']>caract['MES_TU']]"
   ]
  },
  {
   "cell_type": "code",
   "execution_count": null,
   "id": "16e523d3",
   "metadata": {
    "ExecuteTime": {
     "end_time": "2024-07-15T17:15:24.005665Z",
     "start_time": "2024-07-15T17:15:24.005665Z"
    }
   },
   "outputs": [],
   "source": [
    "#afi_sel[afi_sel['CEDULA_COD']==21729781].tail(60)"
   ]
  },
  {
   "cell_type": "code",
   "execution_count": null,
   "id": "bd0c7ea9",
   "metadata": {
    "ExecuteTime": {
     "end_time": "2024-07-15T17:15:24.007842Z",
     "start_time": "2024-07-15T17:15:24.007842Z"
    }
   },
   "outputs": [],
   "source": [
    "afi_sel =  afi_sel.sort_values( by=[\"CEDULA_COD\",\"ANIO\", \"MES\"], ascending=[True, False, False] )\n",
    "afi_sel['NUM_SEC_MES'] = 1\n",
    "afi_sel['%_NUM_SECTOR'] = afi_sel['SALARIO']"
   ]
  },
  {
   "cell_type": "code",
   "execution_count": null,
   "id": "508c16c5",
   "metadata": {
    "ExecuteTime": {
     "end_time": "2024-07-15T17:15:24.008844Z",
     "start_time": "2024-07-15T17:15:24.008844Z"
    }
   },
   "outputs": [],
   "source": [
    "aux = afi_sel[afi_sel.duplicated(subset=['CEDULA_COD', 'ANIO', 'MES'], keep=False)]\n",
    "aux1 = afi_sel[~afi_sel.duplicated(subset=['CEDULA_COD', 'ANIO', 'MES'], keep=False)]"
   ]
  },
  {
   "cell_type": "code",
   "execution_count": null,
   "id": "413f07c9",
   "metadata": {
    "ExecuteTime": {
     "end_time": "2024-07-15T17:15:24.010840Z",
     "start_time": "2024-07-15T17:15:24.010840Z"
    }
   },
   "outputs": [],
   "source": [
    "#Se debe analizar a las personas que tienen varios aportes en un mismo mes\n",
    "#Se suman los salarios y se concatenan los sectores para la cedula que en el mismo anio y mes tienen más de un sector\n",
    "inicio = time.time()\n",
    "afi_sel_g = aux.groupby(['CEDULA_COD', 'ANIO', 'MES']).agg({'SALARIO': 'sum',\n",
    "                                                            'SECTOR_A': lambda x: ';'.join(x),\n",
    "                                                            'NUM_SEC_MES': lambda x: len(x),\n",
    "                                                            '%_NUM_SECTOR': lambda x:  ';'.join((x / x.sum()).round(4).astype(str))\n",
    "                                                                }).reset_index()\n",
    "fin = time.time()  \n",
    "print('Tiempo de ejecución es: ',  (fin-inicio)//3600, ' horas con ' ,  (fin-inicio)%3600//60 , ' minutos y', (fin-inicio)%60, ' segundos' )\n"
   ]
  },
  {
   "cell_type": "code",
   "execution_count": null,
   "id": "666ab864",
   "metadata": {
    "ExecuteTime": {
     "end_time": "2024-07-15T17:15:24.012840Z",
     "start_time": "2024-07-15T17:15:24.012840Z"
    }
   },
   "outputs": [],
   "source": [
    "afi_sel_g"
   ]
  },
  {
   "cell_type": "code",
   "execution_count": null,
   "id": "cbe59597",
   "metadata": {
    "ExecuteTime": {
     "end_time": "2024-07-15T17:15:24.014839Z",
     "start_time": "2024-07-15T17:15:24.014839Z"
    }
   },
   "outputs": [],
   "source": [
    "afi_sel_g_all = pd.concat( [aux1[['CEDULA_COD', 'ANIO', 'MES', 'SALARIO', 'SECTOR_A', 'NUM_SEC_MES', '%_NUM_SECTOR']], \n",
    "                            afi_sel_g], ignore_index=True )"
   ]
  },
  {
   "cell_type": "code",
   "execution_count": null,
   "id": "4bfdd552",
   "metadata": {
    "ExecuteTime": {
     "end_time": "2024-07-15T17:15:24.015841Z",
     "start_time": "2024-07-15T17:15:24.015841Z"
    }
   },
   "outputs": [],
   "source": [
    "afi_sel_g_all"
   ]
  },
  {
   "cell_type": "code",
   "execution_count": null,
   "id": "bb3917c8",
   "metadata": {
    "ExecuteTime": {
     "end_time": "2024-07-15T17:15:24.017984Z",
     "start_time": "2024-07-15T17:15:24.017984Z"
    }
   },
   "outputs": [],
   "source": [
    "objeto4 = afi_sel_g_all\n",
    "\n",
    "# Guardar los objetos en el archivo\n",
    "with open(ruta_archivo, 'ab') as archivo: \n",
    "    pickle.dump(objeto4, archivo)"
   ]
  },
  {
   "cell_type": "code",
   "execution_count": null,
   "id": "12ce8372",
   "metadata": {},
   "outputs": [],
   "source": [
    "del aux\n",
    "del aux1\n",
    "del objeto4"
   ]
  },
  {
   "cell_type": "code",
   "execution_count": null,
   "id": "3c213049",
   "metadata": {
    "ExecuteTime": {
     "end_time": "2024-07-15T16:48:17.641714Z",
     "start_time": "2024-07-15T16:47:14.637745Z"
    }
   },
   "outputs": [],
   "source": [
    "afi_sel_g_all = afi_sel_g_all.sort_values( by=[\"CEDULA_COD\",\"ANIO\", \"MES\"], ascending=[True, False, False] )\n",
    "afi_sel_g_all.loc[ (afi_sel_g_all['NUM_SEC_MES'] == 1), '%_NUM_SECTOR'] = '1'"
   ]
  },
  {
   "cell_type": "code",
   "execution_count": null,
   "id": "828d7f59",
   "metadata": {
    "ExecuteTime": {
     "end_time": "2024-07-15T16:48:51.264190Z",
     "start_time": "2024-07-15T16:48:39.594405Z"
    }
   },
   "outputs": [],
   "source": [
    "afi_sel_g_all[afi_sel_g_all['CEDULA_COD']==216]"
   ]
  },
  {
   "cell_type": "code",
   "execution_count": null,
   "id": "5a4c3357",
   "metadata": {
    "ExecuteTime": {
     "end_time": "2024-07-15T16:48:59.576892Z",
     "start_time": "2024-07-15T16:48:55.300321Z"
    }
   },
   "outputs": [],
   "source": [
    "#Se reinician los index\n",
    "afi_sel_g_all.reset_index(inplace=True)\n",
    "afi_sel_g_all.rename(columns={'index': 'nuevo_indice'}, inplace=True)\n",
    "afi_sel_g_all.drop(columns=['nuevo_indice'], inplace=True)"
   ]
  },
  {
   "cell_type": "code",
   "execution_count": null,
   "id": "e48b33ad",
   "metadata": {
    "ExecuteTime": {
     "end_time": "2024-07-15T16:49:18.437797Z",
     "start_time": "2024-07-15T16:49:15.771825Z"
    }
   },
   "outputs": [],
   "source": [
    "afi_sel_g_all[afi_sel_g_all['CEDULA_COD']==126]"
   ]
  },
  {
   "cell_type": "code",
   "execution_count": null,
   "id": "87616db7",
   "metadata": {
    "ExecuteTime": {
     "end_time": "2024-07-15T16:49:15.698723Z",
     "start_time": "2024-07-15T16:48:59.956839Z"
    }
   },
   "outputs": [],
   "source": [
    "#se crean los grupos de 12 meses trabajados para tener\n",
    "n_grupo = 12\n",
    "afi_sel_g_all['GRUPO'] = (afi_sel_g_all.groupby('CEDULA_COD').cumcount() // n_grupo ) + 1\n",
    "#Se saca el salario promedio de cada grupo\n",
    "afi_sel_g_all['SAL_PROM_GRUPO'] = afi_sel_g_all.groupby(['CEDULA_COD', 'GRUPO'])['SALARIO'].transform('mean')"
   ]
  },
  {
   "cell_type": "code",
   "execution_count": null,
   "id": "79bc8b95",
   "metadata": {
    "ExecuteTime": {
     "end_time": "2024-07-15T16:49:15.769801Z",
     "start_time": "2024-07-15T16:49:15.701731Z"
    }
   },
   "outputs": [],
   "source": [
    "afi_sel_g_all"
   ]
  },
  {
   "cell_type": "code",
   "execution_count": null,
   "id": "edc13f78",
   "metadata": {
    "ExecuteTime": {
     "end_time": "2024-07-15T16:49:18.892556Z",
     "start_time": "2024-07-15T16:49:18.454964Z"
    }
   },
   "outputs": [],
   "source": [
    "afi_sel_g_all[afi_sel_g_all['CEDULA_COD']==126]['GRUPO'].unique()"
   ]
  },
  {
   "cell_type": "code",
   "execution_count": null,
   "id": "2ede2e6c",
   "metadata": {
    "ExecuteTime": {
     "end_time": "2024-07-15T16:49:28.056278Z",
     "start_time": "2024-07-15T16:49:18.894563Z"
    }
   },
   "outputs": [],
   "source": [
    "#Se obtienen los sueldos promedios para cada grupo y cada cedula\n",
    "inicio = time.time()\n",
    "df1 = afi_sel_g_all.groupby(['CEDULA_COD', 'GRUPO'])['SAL_PROM_GRUPO'].first().reset_index().copy()\n",
    "df1 = df1.sort_values(by = ['CEDULA_COD','SAL_PROM_GRUPO'], ascending=[True,False])\n",
    "fin = time.time()  \n",
    "print('Tiempo de ejecución es: ',  (fin-inicio)//3600, ' horas con ' ,  (fin-inicio)%3600//60 , ' minutos y', (fin-inicio)%60, ' segundos' )"
   ]
  },
  {
   "cell_type": "code",
   "execution_count": null,
   "id": "ca9b660f",
   "metadata": {
    "ExecuteTime": {
     "end_time": "2024-07-15T16:49:28.097696Z",
     "start_time": "2024-07-15T16:49:28.067742Z"
    }
   },
   "outputs": [],
   "source": [
    "df1"
   ]
  },
  {
   "cell_type": "code",
   "execution_count": null,
   "id": "d853c7f0",
   "metadata": {
    "ExecuteTime": {
     "end_time": "2024-07-15T16:49:28.438155Z",
     "start_time": "2024-07-15T16:49:28.099707Z"
    }
   },
   "outputs": [],
   "source": [
    " df1[df1['CEDULA_COD']==126]"
   ]
  },
  {
   "cell_type": "code",
   "execution_count": null,
   "id": "61e44e66",
   "metadata": {
    "ExecuteTime": {
     "end_time": "2024-07-15T16:49:39.865820Z",
     "start_time": "2024-07-15T16:49:28.443179Z"
    }
   },
   "outputs": [],
   "source": [
    "#Se seleccionan los 5 mejores años de sueldo\n",
    "inicio = time.time()\n",
    "top = 5\n",
    "#top_sal = df1.groupby('CEDULA_COD')['SAL_PROM_GRUPO'].nlargest(top).reset_index(level=0, drop=True)\n",
    "indices = df1.groupby('CEDULA_COD').apply(lambda x: x.index[:top]).explode()\n",
    "df2 = df1.loc[indices].reset_index(drop=True)\n",
    "fin = time.time()  \n",
    "print('Tiempo de ejecución es: ',  (fin-inicio)//3600, ' horas con ' ,  (fin-inicio)%3600//60 , ' minutos y', (fin-inicio)%60, ' segundos' )"
   ]
  },
  {
   "cell_type": "code",
   "execution_count": null,
   "id": "4590b8c7",
   "metadata": {
    "ExecuteTime": {
     "end_time": "2024-07-15T16:49:39.886734Z",
     "start_time": "2024-07-15T16:49:39.867971Z"
    }
   },
   "outputs": [],
   "source": [
    "df2[df2['CEDULA_COD']==126]"
   ]
  },
  {
   "cell_type": "code",
   "execution_count": null,
   "id": "7a5efcc3",
   "metadata": {
    "ExecuteTime": {
     "end_time": "2024-07-15T16:50:06.025672Z",
     "start_time": "2024-07-15T16:49:39.888915Z"
    }
   },
   "outputs": [],
   "source": [
    "#Seleccionar los cinco mejores años del grupo total de años de aporte\n",
    "combinaciones = set(zip(df2['CEDULA_COD'], df2['GRUPO']))\n",
    "afi_sel_g_all['GRUPO_SEL'] = [(cedula, grupo) in combinaciones for cedula, grupo in zip(afi_sel_g_all['CEDULA_COD'], afi_sel_g_all['GRUPO'])]\n",
    "afi_sel_g_all['GRUPO_SEL'] = afi_sel_g_all['GRUPO_SEL'].astype(int)"
   ]
  },
  {
   "cell_type": "code",
   "execution_count": null,
   "id": "7f02e554",
   "metadata": {
    "ExecuteTime": {
     "end_time": "2024-07-15T16:50:06.134042Z",
     "start_time": "2024-07-15T16:50:06.027696Z"
    }
   },
   "outputs": [],
   "source": [
    "afi_sel_g_all[afi_sel_g_all['CEDULA_COD']==126].tail(60)"
   ]
  },
  {
   "cell_type": "code",
   "execution_count": null,
   "id": "964f1d61",
   "metadata": {
    "ExecuteTime": {
     "end_time": "2024-07-15T16:50:43.971377Z",
     "start_time": "2024-07-15T16:50:06.135066Z"
    }
   },
   "outputs": [],
   "source": [
    "#Se crea una variable fecha para el período de mejores años y la base de cálculo\n",
    "inicio = time.time()\n",
    "mejores = afi_sel_g_all[afi_sel_g_all['GRUPO_SEL']==1].copy()\n",
    "mejores.loc[:, 'FECHA'] = pd.to_datetime(mejores['ANIO'].astype(str) + '-' + mejores['MES'].astype(str).str.zfill(2) + '-01')\n",
    "\n",
    "#Se calcula la base de calculo\n",
    "df_prom = mejores.groupby('CEDULA_COD')['SALARIO'].mean()\n",
    "fin = time.time()  \n",
    "print('Tiempo de ejecución es: ',  (fin-inicio)//3600, ' horas con ' ,  (fin-inicio)%3600//60 , ' minutos y', (fin-inicio)%60, ' segundos' )"
   ]
  },
  {
   "cell_type": "code",
   "execution_count": null,
   "id": "72f96eda",
   "metadata": {
    "ExecuteTime": {
     "end_time": "2024-07-15T16:50:43.973544Z",
     "start_time": "2024-07-15T16:50:43.973544Z"
    }
   },
   "outputs": [],
   "source": [
    "mejores"
   ]
  },
  {
   "cell_type": "code",
   "execution_count": null,
   "id": "97e8eed6",
   "metadata": {
    "ExecuteTime": {
     "end_time": "2024-07-15T16:50:43.974547Z",
     "start_time": "2024-07-15T16:50:43.974547Z"
    }
   },
   "outputs": [],
   "source": [
    "afi_sel_g_all['INI_CAL'] = afi_sel_g_all['CEDULA_COD'].map( mejores.groupby('CEDULA_COD')['FECHA'].max() )\n",
    "afi_sel_g_all['FIN_CAL'] = afi_sel_g_all['CEDULA_COD'].map( mejores.groupby('CEDULA_COD')['FECHA'].min() )\n",
    "afi_sel_g_all['BASE_CAL'] = afi_sel_g_all['CEDULA_COD'].map( df_prom )"
   ]
  },
  {
   "cell_type": "code",
   "execution_count": null,
   "id": "43447a9b",
   "metadata": {},
   "outputs": [],
   "source": [
    "caract['INI_CAL'] = caract['CEDULA_COD'].map( mejores.groupby('CEDULA_COD')['FECHA'].max() )\n",
    "caract['FIN_CAL'] = caract['CEDULA_COD'].map( mejores.groupby('CEDULA_COD')['FECHA'].min() )\n",
    "caract['BASE_CAL'] = caract['CEDULA_COD'].map( df_prom )\n",
    "caract"
   ]
  },
  {
   "cell_type": "code",
   "execution_count": null,
   "id": "63f0f8d6",
   "metadata": {
    "ExecuteTime": {
     "end_time": "2024-07-15T16:50:43.976543Z",
     "start_time": "2024-07-15T16:50:43.976543Z"
    }
   },
   "outputs": [],
   "source": [
    "del df1, df2, mejores"
   ]
  },
  {
   "cell_type": "code",
   "execution_count": null,
   "id": "8c4d61ef",
   "metadata": {
    "ExecuteTime": {
     "end_time": "2024-07-15T16:50:43.977547Z",
     "start_time": "2024-07-15T16:50:43.977547Z"
    }
   },
   "outputs": [],
   "source": [
    "afi_sel_g_all[ (afi_sel_g_all['CEDULA_COD']==126) & (afi_sel_g_all['GRUPO_SEL']==1)]['SALARIO'].mean()"
   ]
  },
  {
   "cell_type": "code",
   "execution_count": null,
   "id": "dcf1c923",
   "metadata": {
    "ExecuteTime": {
     "end_time": "2024-07-15T16:50:43.978544Z",
     "start_time": "2024-07-15T16:50:43.978544Z"
    }
   },
   "outputs": [],
   "source": [
    "afi_sel_g_all[ (afi_sel_g_all['CEDULA_COD']==126)]"
   ]
  },
  {
   "cell_type": "code",
   "execution_count": null,
   "id": "91b8ca09",
   "metadata": {},
   "outputs": [],
   "source": [
    "# #     df = asignar_grupo(sect, n_grupo)\n",
    "# #     df1 = valores_unicos_grupos(df)\n",
    "# #     df2 = sel_top_salarios(df1, top)\n",
    "# #     df = sel_grupo(df, df2)\n",
    "#     df = fec_sel_grupo(df)\n",
    "#     df = base_cal(df)\n",
    "#     df = ati_base_cal_m1(df, inferior)\n",
    "#     df = base_cal_sin_ati_m1(df)\n",
    "#     df = sbu_ajuste_m1(df, SBU)"
   ]
  },
  {
   "cell_type": "code",
   "execution_count": null,
   "id": "197dac7a",
   "metadata": {
    "ExecuteTime": {
     "end_time": "2024-07-15T16:50:43.979546Z",
     "start_time": "2024-07-15T16:50:43.979546Z"
    }
   },
   "outputs": [],
   "source": [
    "#Registros con años menores al 2000\n",
    "afi_sel_g_all[afi_sel_g_all['FIN_CAL'].dt.year<2000]"
   ]
  },
  {
   "cell_type": "code",
   "execution_count": null,
   "id": "cef47382",
   "metadata": {
    "ExecuteTime": {
     "end_time": "2024-07-15T16:50:43.981545Z",
     "start_time": "2024-07-15T16:50:43.981545Z"
    }
   },
   "outputs": [],
   "source": [
    "#Se agrega el valor del SBU\n",
    "SBU = pd.DataFrame( { 'ANIO':[2000,2001,2002, 2003, 2004, 2005, 2006, 2007, 2008, 2009, 2010, 2011, 2012, 2013, 2014, 2015, 2016, 2017, 2018, 2019, 2020,\n",
    "                              2021, 2022, 2023, 2024],\n",
    "                      'VALOR':[57,85.65,105, 122, 136, 150, 160, 170, 200, 218, 240, 264, 292, 318, 340, 354, 366, 375, 386, 394, 400, \n",
    "                              400, 425, 450, 460]})\n",
    "SBU"
   ]
  },
  {
   "cell_type": "code",
   "execution_count": null,
   "id": "c1ce61c6",
   "metadata": {
    "ExecuteTime": {
     "end_time": "2024-07-15T16:50:43.982578Z",
     "start_time": "2024-07-15T16:50:43.982578Z"
    }
   },
   "outputs": [],
   "source": [
    "afi_sel_g_all['SBU'] = afi_sel_g_all['ANIO'].map( SBU.groupby('ANIO')['VALOR'].first())"
   ]
  },
  {
   "cell_type": "code",
   "execution_count": null,
   "id": "9b77c8dc",
   "metadata": {
    "ExecuteTime": {
     "end_time": "2024-07-15T16:50:43.983668Z",
     "start_time": "2024-07-15T16:50:43.983668Z"
    }
   },
   "outputs": [],
   "source": [
    "afi_sel_g_all"
   ]
  },
  {
   "cell_type": "code",
   "execution_count": null,
   "id": "2719e7c9",
   "metadata": {
    "ExecuteTime": {
     "end_time": "2024-07-15T16:50:43.984670Z",
     "start_time": "2024-07-15T16:50:43.984670Z"
    }
   },
   "outputs": [],
   "source": [
    "#Cédula que tienen su historia laboral igual al SBU\n",
    "afi_sel_g_all['ID_SBU'] = afi_sel_g_all['SALARIO'] == afi_sel_g_all['SBU']\n",
    "#Si tiene -1 es un valor que no es un SBU en ese año y mes\n",
    "afi_sel_g_all['ID_SBU'] = afi_sel_g_all['ID_SBU'].astype(int)-1\n",
    "afi_sel_g_all"
   ]
  },
  {
   "cell_type": "code",
   "execution_count": null,
   "id": "d0c9f210",
   "metadata": {
    "ExecuteTime": {
     "end_time": "2024-07-15T16:50:43.986668Z",
     "start_time": "2024-07-15T16:50:43.986668Z"
    }
   },
   "outputs": [],
   "source": [
    "afi_sel_g_all[afi_sel_g_all['CEDULA_COD']==126].shape"
   ]
  },
  {
   "cell_type": "code",
   "execution_count": null,
   "id": "be1b64fc",
   "metadata": {
    "ExecuteTime": {
     "end_time": "2024-07-15T16:50:43.987670Z",
     "start_time": "2024-07-15T16:50:43.987670Z"
    }
   },
   "outputs": [],
   "source": [
    "afi_sel_g_all[(afi_sel_g_all['CEDULA_COD']==126) & (afi_sel_g_all['GRUPO_SEL']==1)]"
   ]
  },
  {
   "cell_type": "code",
   "execution_count": null,
   "id": "e50b861b",
   "metadata": {},
   "outputs": [],
   "source": [
    "objeto5 = afi_sel_g_all\n",
    "\n",
    "# Guardar los objetos en el archivo\n",
    "with open(ruta_archivo, 'ab') as archivo: \n",
    "    pickle.dump(objeto5, archivo)"
   ]
  },
  {
   "cell_type": "code",
   "execution_count": null,
   "id": "fa0c52d6",
   "metadata": {},
   "outputs": [],
   "source": [
    "del objeto5"
   ]
  },
  {
   "cell_type": "code",
   "execution_count": null,
   "id": "0ba21b68",
   "metadata": {},
   "outputs": [],
   "source": [
    "#Selección de cedulas con sus mejores años de sueldo y que su salario no sea un SBU\n",
    "data_sin_ati = afi_sel_g_all[ (afi_sel_g_all['GRUPO_SEL']==1) & (afi_sel_g_all['ID_SBU']!=-1)]\n",
    "data_ati = afi_sel_g_all[ (afi_sel_g_all['GRUPO_SEL']==1) & (afi_sel_g_all['ID_SBU']!=0)]"
   ]
  },
  {
   "cell_type": "code",
   "execution_count": null,
   "id": "0a14bf2d",
   "metadata": {},
   "outputs": [],
   "source": [
    "data_ati.shape #(21022610, 15)\n",
    "data_sin_ati.shape #(5449506, 15)"
   ]
  },
  {
   "cell_type": "code",
   "execution_count": null,
   "id": "1bcf53b0",
   "metadata": {},
   "outputs": [],
   "source": [
    "data_ati[data_ati['CEDULA_COD']==126][['CEDULA_COD','ANIO','MES','SALARIO']].shape"
   ]
  },
  {
   "cell_type": "code",
   "execution_count": null,
   "id": "faf69b4e",
   "metadata": {},
   "outputs": [],
   "source": [
    "data_ati[data_ati['CEDULA_COD']==126]"
   ]
  },
  {
   "cell_type": "code",
   "execution_count": null,
   "id": "e63dc2c2",
   "metadata": {},
   "outputs": [],
   "source": [
    "objeto6 = data_ati\n",
    "objeto7 = data_sin_ati\n",
    "\n",
    "# Guardar los objetos en el archivo\n",
    "with open(ruta_archivo, 'ab') as archivo: \n",
    "    pickle.dump(objeto6, archivo)\n",
    "    pickle.dump(objeto7, archivo)\n",
    "    \n",
    "del objeto6, objeto7"
   ]
  },
  {
   "cell_type": "code",
   "execution_count": null,
   "id": "b631559e",
   "metadata": {
    "ExecuteTime": {
     "end_time": "2024-07-15T14:22:45.686151Z",
     "start_time": "2024-07-15T14:17:33.929788Z"
    }
   },
   "outputs": [],
   "source": [
    "#Cargar los archivos\n",
    "directorio = r_ruta\n",
    "nombre_archivo = 'viu_clean_afiliados.pkl'\n",
    "ruta_archivo = os.path.join(directorio, nombre_archivo)\n",
    "\n",
    "objetos = []\n",
    "try:\n",
    "    with open(ruta_archivo, 'rb') as archivo:\n",
    "        while True:\n",
    "            try:\n",
    "                objetos.append(pickle.load(archivo))\n",
    "            except EOFError:\n",
    "                break\n",
    "except Exception as e:\n",
    "    print(f\"Ocurrió un error al intentar cargar el archivo: {e}\")\n",
    "\n",
    "# Verifica la cantidad de objetos y accede a ellos\n",
    "print(f\"El archivo contiene {len(objetos)} objetos.\")\n",
    "for i, obj in enumerate(objetos):\n",
    "    print(f\"Objeto {i+1}: {obj}\")\n",
    "\n",
    "# # Acceder a un objeto específico\n",
    "# if len(objetos) >= 3:\n",
    "#     afi_sel_g_all = objetos[2]  # Cargar el tercer objeto\n",
    "# else:\n",
    "#     print(\"El archivo no contiene suficientes objetos.\")"
   ]
  },
  {
   "cell_type": "code",
   "execution_count": null,
   "id": "db0b424a",
   "metadata": {
    "ExecuteTime": {
     "end_time": "2024-07-15T16:39:56.428964Z",
     "start_time": "2024-07-15T16:39:56.425006Z"
    }
   },
   "outputs": [],
   "source": [
    "#Análisis de atípicos\n",
    "#Método de clustering jerárquico\n",
    "data_ati = objetos[4]\n",
    "data_sin_ati = objetos[5]"
   ]
  },
  {
   "cell_type": "code",
   "execution_count": null,
   "id": "a6177b78",
   "metadata": {
    "ExecuteTime": {
     "end_time": "2024-07-15T16:40:13.959200Z",
     "start_time": "2024-07-15T16:40:04.105936Z"
    }
   },
   "outputs": [],
   "source": [
    "#data_ati = data_ati[ data_ati['SALARIO'] >= data_ati['SBU']]\n",
    "data_ati = data_ati.sort_values( by=[\"CEDULA_COD\",\"ANIO\", \"MES\"], ascending=[True, True, True] )\n",
    "data_ati"
   ]
  },
  {
   "cell_type": "code",
   "execution_count": null,
   "id": "c781fd34",
   "metadata": {
    "ExecuteTime": {
     "end_time": "2024-07-15T16:40:18.374902Z",
     "start_time": "2024-07-15T16:40:18.320576Z"
    }
   },
   "outputs": [],
   "source": [
    "data_ati[data_ati['CEDULA_COD']==1637]\n",
    "#data_sin_ati[data_sin_ati['CEDULA_COD']==8748]"
   ]
  },
  {
   "cell_type": "code",
   "execution_count": null,
   "id": "e7b2deda",
   "metadata": {
    "ExecuteTime": {
     "end_time": "2024-07-15T16:40:31.979079Z",
     "start_time": "2024-07-15T16:40:20.345401Z"
    }
   },
   "outputs": [],
   "source": [
    "data_ati_dic = data_ati.groupby('CEDULA_COD')['SALARIO'].apply(list).to_dict()\n",
    "data_ati_dic"
   ]
  },
  {
   "cell_type": "code",
   "execution_count": null,
   "id": "74424898",
   "metadata": {
    "ExecuteTime": {
     "end_time": "2024-07-15T16:40:58.066999Z",
     "start_time": "2024-07-15T16:40:58.061388Z"
    }
   },
   "outputs": [],
   "source": [
    "#cedula\n",
    "data_ati_dic[126]"
   ]
  },
  {
   "cell_type": "code",
   "execution_count": null,
   "id": "f1b069c8",
   "metadata": {
    "ExecuteTime": {
     "end_time": "2024-07-15T14:45:35.306426Z",
     "start_time": "2024-07-15T14:44:14.363300Z"
    }
   },
   "outputs": [],
   "source": [
    "#Algoritmo jerarquico basado en las derivadas\n",
    "data_val_ati = {}\n",
    "for cedula in data_ati_dic:\n",
    "    if( len( np.unique(data_ati_dic[cedula] ) ) > 3 ):\n",
    "        aux = np.array( np.unique( data_ati_dic[cedula] ) ).reshape(-1, 1)\n",
    "        Z = linkage( aux , method='single', metric='euclidean')\n",
    "        last = Z[-10:, 2]\n",
    "        last_rev = last[::-1]\n",
    "        idxs = np.arange(1, len(last) + 1)\n",
    "        acceleration = np.diff(last, 2)  # Segunda derivada de las distancias\n",
    "        acceleration_rev = acceleration[::-1]\n",
    "\n",
    "        k = acceleration_rev.argmax() + 2  # El codo en la gráfica de la segunda derivada\n",
    "        max_d = last_rev[k]\n",
    "\n",
    "        # Cortar el dendrograma a la altura determinada\n",
    "        clusters = fcluster(Z, max_d, criterion='distance')\n",
    "        unique, counts = np.unique(clusters, return_counts=True)\n",
    "        atypical_clusters = unique[counts == 1]\n",
    "        atypical_values = np.isin(clusters, atypical_clusters).astype(int)\n",
    "    \n",
    "        data_val_ati[cedula] = {\n",
    "        'SALARIO': aux.flatten().tolist(),\n",
    "        'ATIPICO':  atypical_values.tolist()\n",
    "        }\n",
    "    else:\n",
    "        data_val_ati[cedula] = {\n",
    "        'SALARIO': aux.flatten().tolist(),\n",
    "        'ATIPICO':  -1\n",
    "        }\n"
   ]
  },
  {
   "cell_type": "code",
   "execution_count": null,
   "id": "c588343d",
   "metadata": {
    "ExecuteTime": {
     "end_time": "2024-07-13T20:24:59.553282Z",
     "start_time": "2024-07-13T20:24:59.548207Z"
    }
   },
   "outputs": [],
   "source": [
    "cedula"
   ]
  },
  {
   "cell_type": "code",
   "execution_count": null,
   "id": "24c01c46",
   "metadata": {
    "ExecuteTime": {
     "end_time": "2024-07-13T20:25:10.132733Z",
     "start_time": "2024-07-13T20:25:09.300445Z"
    }
   },
   "outputs": [],
   "source": [
    "data_val_ati"
   ]
  },
  {
   "cell_type": "code",
   "execution_count": null,
   "id": "a38c0506",
   "metadata": {
    "ExecuteTime": {
     "end_time": "2024-07-15T16:39:18.209583Z",
     "start_time": "2024-07-15T16:39:17.661322Z"
    }
   },
   "outputs": [],
   "source": [
    "aux=None\n",
    "aux = np.array( data_ati_dic[126] ).reshape(-1, 1)\n",
    "print(aux)\n",
    "Z = linkage( aux , method='single', metric='euclidean')\n",
    "dendrograma = dendrogram(Z, no_plot=False)\n",
    "\n",
    "# Realizar el corte del dendrograma para obtener los clusters\n",
    "num_clusters = 2  # Puedes ajustar este valor según tus necesidades\n",
    "clusters = fcluster(Z, num_clusters, criterion='maxclust')\n",
    "\n",
    "# Calcular el centroide de cada clúster\n",
    "cluster_centers = np.array([aux[clusters == i].mean(axis=0) for i in range(1, num_clusters + 1)])\n",
    "\n",
    "# Calcular la distancia de cada punto al centroide de su clúster\n",
    "distances_to_center = cdist(aux, cluster_centers)\n",
    "\n",
    "# Calcular las distancias medias a los centroides\n",
    "mean_distances = distances_to_center.mean(axis=1)\n",
    "\n",
    "# Calcular un umbral para identificar valores atípicos (por ejemplo, el percentil 95)\n",
    "threshold = np.percentile(mean_distances, 95)\n",
    "\n",
    "# Identificar los valores atípicos\n",
    "outliers_indices = np.where(mean_distances > threshold)[0]\n",
    "outliers = aux[outliers_indices]"
   ]
  },
  {
   "cell_type": "code",
   "execution_count": null,
   "id": "15996ed6",
   "metadata": {
    "ExecuteTime": {
     "end_time": "2024-07-15T16:39:23.933701Z",
     "start_time": "2024-07-15T16:39:23.928811Z"
    }
   },
   "outputs": [],
   "source": [
    "outliers"
   ]
  },
  {
   "cell_type": "code",
   "execution_count": null,
   "id": "bbb5d114",
   "metadata": {
    "ExecuteTime": {
     "end_time": "2024-07-15T16:17:50.736261Z",
     "start_time": "2024-07-15T16:17:50.731020Z"
    }
   },
   "outputs": [],
   "source": [
    "max_d"
   ]
  },
  {
   "cell_type": "code",
   "execution_count": null,
   "id": "1f963e02",
   "metadata": {
    "ExecuteTime": {
     "end_time": "2024-07-15T16:14:33.038417Z",
     "start_time": "2024-07-15T16:14:33.033521Z"
    }
   },
   "outputs": [],
   "source": [
    "60*0.9"
   ]
  },
  {
   "cell_type": "code",
   "execution_count": null,
   "id": "b6171742",
   "metadata": {
    "ExecuteTime": {
     "end_time": "2024-07-13T20:18:19.596868Z",
     "start_time": "2024-07-13T20:18:19.590077Z"
    }
   },
   "outputs": [],
   "source": [
    "np.diff(last, 2) "
   ]
  },
  {
   "cell_type": "code",
   "execution_count": null,
   "id": "b4002f39",
   "metadata": {
    "ExecuteTime": {
     "end_time": "2024-07-13T19:32:35.675193Z",
     "start_time": "2024-07-13T19:32:35.668510Z"
    }
   },
   "outputs": [],
   "source": []
  }
 ],
 "metadata": {
  "kernelspec": {
   "display_name": "Python 3 (ipykernel)",
   "language": "python",
   "name": "python3"
  },
  "language_info": {
   "codemirror_mode": {
    "name": "ipython",
    "version": 3
   },
   "file_extension": ".py",
   "mimetype": "text/x-python",
   "name": "python",
   "nbconvert_exporter": "python",
   "pygments_lexer": "ipython3",
   "version": "3.11.4"
  },
  "toc": {
   "base_numbering": 1,
   "nav_menu": {},
   "number_sections": true,
   "sideBar": true,
   "skip_h1_title": false,
   "title_cell": "Table of Contents",
   "title_sidebar": "Contents",
   "toc_cell": false,
   "toc_position": {},
   "toc_section_display": true,
   "toc_window_display": false
  }
 },
 "nbformat": 4,
 "nbformat_minor": 5
}

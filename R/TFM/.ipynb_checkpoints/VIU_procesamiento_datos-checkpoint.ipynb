{
 "cells": [
  {
   "cell_type": "code",
   "execution_count": null,
   "id": "576d888a",
   "metadata": {},
   "outputs": [],
   "source": [
    "#Importación de librearías necesarias\n",
    "import pandas as pd\n",
    "from datetime import datetime\n",
    "import socket\n",
    "import numpy as np\n",
    "import time\n",
    "\n",
    "#Para no supervisado\n",
    "from matplotlib import pyplot as plt\n",
    "from scipy.cluster.hierarchy import dendrogram, linkage, fcluster"
   ]
  },
  {
   "cell_type": "code",
   "execution_count": null,
   "id": "69d4a244",
   "metadata": {},
   "outputs": [],
   "source": [
    "#Path general de archivos\n",
    "if socket.gethostname()=='LAPTOP-PUSGG08B': #Ip de la laptop\n",
    "    ruta = \"E:/Cristian Guatemal/Master/Big Data y Ciencia de Datos/VIU_TFM/Data/TFM/\"\n",
    "elif socket.gethostname()=='PCUIOMTDAIE6382': #Ip del working\n",
    "    ruta = \"C:/Users/cristian.guatemal/Documents/Master/Big_Data_Ciencia_Datos/VIU_TFM/Data/TFM/\"\n",
    "# Ruta del archivo de pensionistas de vejez\n",
    "ruta_vj = ruta + 'POB_VEJ_CD656.dsv'\n",
    "# Ruta del archivo de historia laboral de pensionistas\n",
    "ruta_afi = ruta + 'APORTES_CD656.dsv'"
   ]
  },
  {
   "cell_type": "code",
   "execution_count": null,
   "id": "d71f99d5",
   "metadata": {},
   "outputs": [],
   "source": [
    "vej = pd.read_csv( ruta_vj, delimiter='\\t', encoding='utf-8', decimal='.' )\n",
    "vej['FECHA_NACIMIENTO'] = pd.to_datetime(vej['FECHA_NACIMIENTO'], format='%d/%m/%Y')\n",
    "vej['FECHA_MUERTE'] = pd.to_datetime(vej['FECHA_MUERTE'], format='%d/%m/%Y')\n",
    "vej['FECHA_DERECHO'] = pd.to_datetime(vej['FECHA_DERECHO'], format='%d/%m/%Y')\n",
    "vej['RANGO_INI_5MEJ'] = pd.to_datetime(vej['RANGO_INI_5MEJ'], format='%d/%m/%Y')\n",
    "vej['RANGO_FIN_5MEJ'] = pd.to_datetime(vej['RANGO_FIN_5MEJ'], format='%d/%m/%Y')"
   ]
  },
  {
   "cell_type": "code",
   "execution_count": null,
   "id": "41fae74d",
   "metadata": {},
   "outputs": [],
   "source": [
    "#Datos de vejez\n",
    "vej.sort_values(by='CEDULA_COD',inplace=True)"
   ]
  },
  {
   "cell_type": "code",
   "execution_count": null,
   "id": "337096d5",
   "metadata": {},
   "outputs": [],
   "source": [
    "vej[vej['CEDULA_COD']==13125042]"
   ]
  },
  {
   "cell_type": "code",
   "execution_count": null,
   "id": "ef0aae6a",
   "metadata": {},
   "outputs": [],
   "source": [
    "#Se importa el archivo\n",
    "afi = pd.read_csv(ruta_afi, delimiter='\\t', encoding='utf-8', decimal='.')\n",
    "afi"
   ]
  },
  {
   "cell_type": "code",
   "execution_count": null,
   "id": "c6cd1a9e",
   "metadata": {},
   "outputs": [],
   "source": [
    "#Se trabaja con cedulas que al menos tengan 60 imposicciones, pues es la condición mínima\n",
    "ced_counts = afi['CEDULA_COD'].value_counts()\n",
    "afi = afi[~afi['CEDULA_COD'].isin(ced_counts[ced_counts < 61].index)]\n",
    "afi"
   ]
  },
  {
   "cell_type": "code",
   "execution_count": null,
   "id": "ae5c09f0",
   "metadata": {},
   "outputs": [],
   "source": [
    "afi['SECTOR'].unique()"
   ]
  },
  {
   "cell_type": "code",
   "execution_count": null,
   "id": "11fa4a1a",
   "metadata": {},
   "outputs": [],
   "source": [
    "#Cedulas y aparición en cada sector\n",
    "ced_sec = afi.groupby('CEDULA_COD')['SECTOR'].nunique()"
   ]
  },
  {
   "cell_type": "code",
   "execution_count": null,
   "id": "13764901",
   "metadata": {},
   "outputs": [],
   "source": [
    "ced_sec[ced_sec==2]"
   ]
  },
  {
   "cell_type": "code",
   "execution_count": null,
   "id": "c8f026b9",
   "metadata": {},
   "outputs": [],
   "source": [
    "afi[afi['CEDULA_COD']==13125042]['SECTOR'].unique()"
   ]
  },
  {
   "cell_type": "code",
   "execution_count": null,
   "id": "2e5eeaaa",
   "metadata": {},
   "outputs": [],
   "source": [
    "#Cédulas que tiene un único sector\n",
    "uni_ced_sec = ced_sec[ced_sec == 1].index.tolist()\n",
    "#Cédulas que tiene un dos sector\n",
    "dos_ced_sec = ced_sec[ced_sec == 2].index.tolist()\n",
    "#Cédulas que tiene un tres sector\n",
    "tres_ced_sec = ced_sec[ced_sec == 3].index.tolist()\n",
    "#Cédulas que tiene más tres sector\n",
    "mas_ced_sec = ced_sec[ced_sec > 3].index.tolist()"
   ]
  },
  {
   "cell_type": "code",
   "execution_count": null,
   "id": "736901d8",
   "metadata": {},
   "outputs": [],
   "source": [
    "#Afliados de HL con un único sector\n",
    "afi_uni = afi[afi['CEDULA_COD'].isin(uni_ced_sec)]\n",
    "#Afliados de HL con un único sector\n",
    "afi_dos = afi[afi['CEDULA_COD'].isin(dos_ced_sec)]\n",
    "#Afliados de HL con un único sector\n",
    "afi_tres = afi[afi['CEDULA_COD'].isin(tres_ced_sec)]\n",
    "#Afliados de HL con un único sector\n",
    "afi_mas = afi[afi['CEDULA_COD'].isin(mas_ced_sec)]"
   ]
  },
  {
   "cell_type": "code",
   "execution_count": null,
   "id": "a2736258",
   "metadata": {},
   "outputs": [],
   "source": [
    "#Se presenta la clasificación\n",
    "print('Se tiene un total ',afi['CEDULA_COD'].nunique(), ' personas que se va analizar su HL')\n",
    "print('Se tiene un total ',afi_uni['CEDULA_COD'].nunique(), ' personas que tienen un único sector')\n",
    "print('Se tiene un total ',afi_dos['CEDULA_COD'].nunique(), ' personas que tienen dos sectores')\n",
    "print('Se tiene un total ',afi_tres['CEDULA_COD'].nunique(), ' personas que tienen tres sectores')\n",
    "print('Se tiene un total ',afi_mas['CEDULA_COD'].nunique(), ' personas que tienen más de tres sectores')"
   ]
  },
  {
   "cell_type": "code",
   "execution_count": null,
   "id": "fa79d6c4",
   "metadata": {},
   "outputs": [],
   "source": [
    "391458+136187+26115+3022"
   ]
  },
  {
   "cell_type": "code",
   "execution_count": null,
   "id": "ca12bcad",
   "metadata": {},
   "outputs": [],
   "source": [
    "#Primero se va a trabajar con las cedúlas que tiene un único sector\n",
    "afi_uni['SECTOR'].unique()"
   ]
  },
  {
   "cell_type": "code",
   "execution_count": null,
   "id": "3823b0e1",
   "metadata": {},
   "outputs": [],
   "source": [
    "afi_uni['SECTOR'].unique()"
   ]
  },
  {
   "cell_type": "code",
   "execution_count": null,
   "id": "e6f907e4",
   "metadata": {},
   "outputs": [],
   "source": [
    "#Se desagrea por sector \n",
    "pri = afi_uni[ (afi_uni['SECTOR']=='PRIVADO') | (afi_uni['SECTOR']=='PASANTE PRIVADO')]\n",
    "pri = pri.sort_values( by=[\"CEDULA_COD\", \"ANIO\", \"MES\"], ascending=[True, False, False] )\n",
    "\n",
    "ind = afi_uni[ (afi_uni['SECTOR']=='INDEPENDIENTES') | (afi_uni['SECTOR']=='108-ARTISTA Y GESTOR DE CULTURA') |\n",
    "               (afi_uni['SECTOR']=='02-TRABAJ. AUT Y SIN RELAC DEPEN DESDE  2011-12 SOLO AF.VOLUNT  ')]\n",
    "ind = ind.sort_values( by=[\"CEDULA_COD\", \"ANIO\", \"MES\"], ascending=[True, False, False] )\n",
    "\n",
    "pub = afi_uni[ (afi_uni['SECTOR']=='PUBLICO') | (afi_uni['SECTOR']=='PASANTE PUBLICO')]\n",
    "pub = pub.sort_values( by=[\"CEDULA_COD\", \"ANIO\", \"MES\"], ascending=[True, False, False] )\n",
    "\n",
    "vol_ext = afi_uni[(afi_uni['SECTOR']=='69-VOLUNTARIO ECUATORIANO DOMICILIADO EN EL EXTERIOR ') |\n",
    "                  (afi_uni['SECTOR']=='89-AFILIACION DOMICILIADO EN EL EXTERIOR')]\n",
    "vol_ext = vol_ext.sort_values( by=[\"CEDULA_COD\", \"ANIO\", \"MES\"], ascending=[True, False, False] )\n",
    "\n",
    "vol_ecu = afi_uni[afi_uni['SECTOR']=='90-AFILIACION DOMICILIADO EN EL PAIS / SIN RELACION DEPENDENCIA']\n",
    "vol_ecu = vol_ecu.sort_values( by=[\"CEDULA_COD\", \"ANIO\", \"MES\"], ascending=[True, False, False] )"
   ]
  },
  {
   "cell_type": "code",
   "execution_count": null,
   "id": "7c0dd581",
   "metadata": {},
   "outputs": [],
   "source": [
    "#Desagregación por sector\n",
    "print('De ',  afi_uni['CEDULA_COD'].nunique(), ' personas que tienen un único sector se tiene:', '\\n')\n",
    "print( pri['CEDULA_COD'].nunique(), ' personas que están en el sector PRIVADO')\n",
    "print( pub['CEDULA_COD'].nunique(), ' personas que están en el sector PUBLICO')\n",
    "print( ind['CEDULA_COD'].nunique(), ' personas que están en el sector INDEPENDIENTE')\n",
    "print( vol_ext['CEDULA_COD'].nunique(), ' personas que están en el sector  Voluntario residente en el exterior')\n",
    "print( vol_ecu['CEDULA_COD'].nunique(), ' personas que están en el sector Voluntario residente en el ecuador')"
   ]
  },
  {
   "cell_type": "code",
   "execution_count": null,
   "id": "54eaba59",
   "metadata": {},
   "outputs": [],
   "source": [
    "#391458-177626-145990-32011\n",
    "177635+145992+46592+1994+19245"
   ]
  },
  {
   "cell_type": "code",
   "execution_count": null,
   "id": "fb69b6c3",
   "metadata": {},
   "outputs": [],
   "source": [
    "#Función para crear los grupos de salarios de 12 meses consecutivos para cada cedula\n",
    "def asignar_grupo(data, n_grupo):\n",
    "    df = data.copy()\n",
    "    df['GRUPO'] = (df.groupby('CEDULA_COD').cumcount() // n_grupo ) + 1\n",
    "    df['SAL_PROM_GRUPO'] = df.groupby(['CEDULA_COD', 'GRUPO'])['SALARIO'].transform('mean')\n",
    "    return df\n",
    "\n",
    "#Función para agrupar los valores de los sueldos\n",
    "def valores_unicos_grupos(data):\n",
    "    df = data.copy()\n",
    "    df1 = df.groupby(['CEDULA_COD', 'GRUPO'])['SAL_PROM_GRUPO'].unique()\n",
    "    df1 = df1.reset_index()\n",
    "    df1['SAL_PROM_GRUPO'] = df1['SAL_PROM_GRUPO'].apply(lambda x: x[0])\n",
    "    df1 = df1.sort_values(by = ['CEDULA_COD','SAL_PROM_GRUPO'], ascending=[True,False])\n",
    "    return df1\n",
    "\n",
    "#Función para seleccionar los 5 mejores años de sueldo promedio\n",
    "def sel_top_salarios( data, top ):\n",
    "    df = data.copy()\n",
    "    top_sal = df.groupby('CEDULA_COD')['SAL_PROM_GRUPO'].nlargest(top).reset_index(level=0, drop=True)\n",
    "    indices = top_sal.index\n",
    "    df1 = df.loc[indices].reset_index(drop=True)\n",
    "    return df1\n",
    "\n",
    "#Función para seleccionar los grupos de sueldos\n",
    "def sel_grupo(data1, data2):\n",
    "    df1 = data1.copy()\n",
    "    df2 = data2.copy()\n",
    "    combinaciones = set(zip(df2['CEDULA_COD'], df2['GRUPO']))\n",
    "    df1['SEL_GRUPO'] = [(cedula, grupo) in combinaciones for cedula, grupo in zip(df1['CEDULA_COD'], df1['GRUPO'])]\n",
    "    df1['SEL_GRUPO'] = df1['SEL_GRUPO'].astype(int)\n",
    "    return df1\n",
    "\n",
    "#Función para insertar las fecha de inicio y fin de los cinco mejores años\n",
    "def fec_sel_grupo(data):\n",
    "    df = data.copy()\n",
    "    grupo = data[data['SEL_GRUPO'] == 1].copy()\n",
    "    grupo['ANIO_MAX'] = grupo['CEDULA_COD'].map( grupo.groupby('CEDULA_COD')['ANIO'].max() )\n",
    "    grupo['MES_MAX']  = grupo['CEDULA_COD'].map(grupo[ grupo['ANIO']==grupo['ANIO_MAX']].groupby('CEDULA_COD')['MES'].max())\n",
    "    grupo['FEC_INI'] = grupo['ANIO_MAX'].astype(str) + '-' + grupo['MES_MAX'].astype(str)\n",
    "    grupo = grupo.groupby('CEDULA_COD')['FEC_INI'].unique().astype(str).str.strip('[ ]').str.replace(\"'\", '')\n",
    "    df['FEC_INI'] = df['CEDULA_COD'].map(grupo)\n",
    "    \n",
    "    grupo = data[data['SEL_GRUPO'] == 1].copy()\n",
    "    grupo['ANIO_MIN'] = grupo['CEDULA_COD'].map( grupo.groupby('CEDULA_COD')['ANIO'].min() )\n",
    "    grupo['MES_MIN']  = grupo['CEDULA_COD'].map(grupo[ grupo['ANIO']==grupo['ANIO_MIN']].groupby('CEDULA_COD')['MES'].min())\n",
    "    grupo['FEC_FIN'] = grupo['ANIO_MIN'].astype(str) + '-' + grupo['MES_MIN'].astype(str)\n",
    "    grupo = grupo.groupby('CEDULA_COD')['FEC_FIN'].unique().astype(str).str.strip('[ ]').str.replace(\"'\", '')\n",
    "    df['FEC_FIN'] = df['CEDULA_COD'].map(grupo)\n",
    "    return df\n",
    "\n",
    "#Función para calcular la base de calculo teórica\n",
    "def base_cal(data):\n",
    "    df = data.copy()\n",
    "    grupo = data[data['SEL_GRUPO'] == 1].copy()\n",
    "    df_prom = grupo.groupby('CEDULA_COD')['SALARIO'].mean()\n",
    "    df['BASE_CAL'] = df['CEDULA_COD'].map( df_prom )\n",
    "    return df\n",
    "\n",
    "#Función para calcular los valores atipicos dentro de los grupos seleccionados- Método Caja y Bigote\n",
    "def ati_base_cal_m1( data, inferior):\n",
    "    df = data.copy()\n",
    "    grupo = data[data['SEL_GRUPO'] == 1].copy()\n",
    "    Q1 = grupo.groupby('CEDULA_COD')['SALARIO'].quantile(0.25)\n",
    "    Q3 = grupo.groupby('CEDULA_COD')['SALARIO'].quantile(0.75)\n",
    "    IQR = Q3-Q1\n",
    "    LI = Q1 - 1.5 * IQR\n",
    "    LS = Q3 + 1.5 * IQR\n",
    "    df['IQR'] = df['CEDULA_COD'].map( IQR )\n",
    "    df['LI'] = df['CEDULA_COD'].map( LI )\n",
    "    df['LS'] = df['CEDULA_COD'].map( LS )\n",
    "    \n",
    "    if inferior==True:\n",
    "        df['ATI_M1'] = ((df['SALARIO'] < df['LI']) | (df['SALARIO'] > df['LS'])).astype(int)\n",
    "    else:\n",
    "        df['ATI_M1'] = ( df['SALARIO'] > df['LS'] ).astype(int)\n",
    "    \n",
    "    grupo = df[df['SEL_GRUPO'] == 1].copy()\n",
    "    n_ati = ( grupo.groupby('CEDULA_COD')['ATI_M1'].sum()/grupo.groupby('CEDULA_COD')['ATI_M1'].count() ) * 100\n",
    "    df['PATI_M1'] = df['CEDULA_COD'].map( n_ati )\n",
    "    df = df.drop(['IQR', 'LI', 'LS'], axis=1)\n",
    "    return df\n",
    "\n",
    "#Función para calcular la base de calculo sin los valores atipicos dentro de los grupos seleccionados método 1\n",
    "def base_cal_sin_ati_m1(data):\n",
    "    df = data.copy()\n",
    "    grupo = df[ (df['SEL_GRUPO'] == 1 ) & (df['ATI_M1'] != 1)].copy()\n",
    "    df_prom = grupo.groupby('CEDULA_COD')['SALARIO'].mean()\n",
    "    df['BCSATI_M1'] = df['CEDULA_COD'].map( df_prom ) #BCSATI_M1=Base de Calculo sin atipico del Método 1\n",
    "    df['INC_M1'] = df['BASE_CAL']/df['BCSATI_M1']\n",
    "    return df\n",
    "\n",
    "#Función para corregir atipicos que no sean sueldos con el SBU\n",
    "SBU = pd.DataFrame( { 'ANIO':[2002, 2003, 2004, 2005, 2006, 2007, 2008, 2009, 2010, 2011, 2012, 2013, 2014, 2015, 2016, 2017, 2018, 2019, 2020,\n",
    "                              2021, 2022, 2023],\n",
    "                      'VALOR':[105, 122, 136, 150, 160, 170, 200, 218, 240, 264, 292, 318, 340, 354, 366, 375, 386, 394, 400, \n",
    "                             400, 425, 450]})\n",
    "def sbu_ajuste_m1(data, SBU):\n",
    "    df = data.copy()\n",
    "    aux = SBU.groupby('ANIO')['VALOR'].unique().astype(str).str.strip('[ ]').str.replace(\"'\", '')\n",
    "    df['SBU'] = df['ANIO'].map( aux ).astype(float)\n",
    "    df['CO_ATI_M1'] = df['ATI_M1']\n",
    "    df.loc[(df['ATI_M1'] == 1) & (df['SALARIO'] == df['SBU']), 'CO_ATI_M1'] = 0  #C0_AT1_M1 es correción de atipicos metodo 1\n",
    "    \n",
    "    #Corrección de atipicos\n",
    "    grupo = df[ (df['SEL_GRUPO'] == 1 ) & (df['CO_ATI_M1'] != 1)].copy()\n",
    "    df_prom = grupo.groupby('CEDULA_COD')['SALARIO'].mean()\n",
    "    df['CO_BCSATI_M1'] = df['CEDULA_COD'].map( df_prom )\n",
    "    df['CO_INC_M1'] = df['BASE_CAL']/df['CO_BCSATI_M1']\n",
    "    \n",
    "    grupo = df[df['SEL_GRUPO'] == 1].copy()\n",
    "    n_ati = ( grupo.groupby('CEDULA_COD')['CO_ATI_M1'].sum()/grupo.groupby('CEDULA_COD')['CO_ATI_M1'].count() ) * 100\n",
    "    df['CO_PATI_M1'] = df['CEDULA_COD'].map( n_ati )\n",
    "    return df"
   ]
  },
  {
   "cell_type": "code",
   "execution_count": null,
   "id": "bae65339",
   "metadata": {},
   "outputs": [],
   "source": [
    "inicio = time.time()\n",
    "lista_sectores = ['pri', 'ind','pub', 'vol_ext', 'vol_ecu']\n",
    "\n",
    "n_grupo = 12  # Grupos de 12 porque corresponden a los 12 meses consecutivos\n",
    "top = 5  # 5 Mejores años de sueldo\n",
    "inferior = False\n",
    "\n",
    "# Lista para almacenar los DataFrames resultantes de aplicar las funciones\n",
    "resultados = pd.DataFrame()\n",
    "\n",
    "for sector in lista_sectores:  # Lista de nombres de DataFrames\n",
    "    # Obtener el DataFrame correspondiente al nombre usando globals()\n",
    "    sect = globals()[sector]\n",
    "    # Aplicar las funciones a cada DataFrame\n",
    "    df = asignar_grupo(sect, n_grupo)\n",
    "    df1 = valores_unicos_grupos(df)\n",
    "    df2 = sel_top_salarios(df1, top)\n",
    "    df = sel_grupo(df, df2)\n",
    "    df = fec_sel_grupo(df)\n",
    "    df = base_cal(df)\n",
    "    df = ati_base_cal_m1(df, inferior)\n",
    "    df = base_cal_sin_ati_m1(df)\n",
    "    df = sbu_ajuste_m1(df, SBU)\n",
    "    \n",
    "    # Añadir el DataFrame resultante a la lista de resultados\n",
    "    resultados = pd.concat([resultados, df], ignore_index=True)\n",
    "    sect = None\n",
    "    df = None\n",
    "    df1 = None\n",
    "    df2 = None\n",
    "    \n",
    "fin = time.time()  \n",
    "print('Tiempo de ejecución es: ',  (fin-inicio)//3600, ' horas con ' ,  (fin-inicio)%3600//60 , ' minutos y', \n",
    "        (fin-inicio)%60, ' segundos' )"
   ]
  },
  {
   "cell_type": "code",
   "execution_count": null,
   "id": "451f5246",
   "metadata": {},
   "outputs": [],
   "source": [
    "resultados"
   ]
  },
  {
   "cell_type": "code",
   "execution_count": null,
   "id": "a114948e",
   "metadata": {},
   "outputs": [],
   "source": [
    "resultados['CEDULA_COD'].nunique()"
   ]
  },
  {
   "cell_type": "code",
   "execution_count": null,
   "id": "f7a01a59",
   "metadata": {},
   "outputs": [],
   "source": [
    "# Definir el umbral automáticamente\n",
    "def encontrar_umbral(dendrograma, distancia):\n",
    "    deltas = []\n",
    "    for i in range(1, len(dendrograma['icoord'])):\n",
    "        delta = abs(dendrograma['icoord'][i][2] - dendrograma['icoord'][i-1][2])\n",
    "        deltas.append(delta)\n",
    "    max_delta_index = deltas.index(max(deltas))\n",
    "    return (dendrograma['dcoord'][max_delta_index][1] + dendrograma['dcoord'][max_delta_index+1][1]) / 2"
   ]
  },
  {
   "cell_type": "code",
   "execution_count": null,
   "id": "713a4939",
   "metadata": {},
   "outputs": [],
   "source": []
  },
  {
   "cell_type": "code",
   "execution_count": null,
   "id": "d3e9b28a",
   "metadata": {},
   "outputs": [],
   "source": [
    "data = resultados[resultados['SECTOR']=='PRIVADO'].copy()\n",
    "data"
   ]
  },
  {
   "cell_type": "code",
   "execution_count": null,
   "id": "8bcb64da",
   "metadata": {},
   "outputs": [],
   "source": [
    "#Eliminar las cedulas que tiene un solo registro\n",
    "ced_counts = data['CEDULA_COD'].value_counts()\n",
    "data = data[~data['CEDULA_COD'].isin(ced_counts[ced_counts <= 2].index)].copy()\n",
    "data"
   ]
  },
  {
   "cell_type": "code",
   "execution_count": null,
   "id": "3b452d53",
   "metadata": {},
   "outputs": [],
   "source": [
    "data[data['CEDULA_COD']==3804]"
   ]
  },
  {
   "cell_type": "code",
   "execution_count": null,
   "id": "ed007673",
   "metadata": {},
   "outputs": [],
   "source": [
    "df=data.copy()\n",
    "grupo = df[ (df['SEL_GRUPO'] == 1 )].copy()\n",
    "cel=grupo['CEDULA_COD'].unique()"
   ]
  },
  {
   "cell_type": "code",
   "execution_count": null,
   "id": "cd2779e3",
   "metadata": {},
   "outputs": [],
   "source": [
    "inicio = time.time()\n",
    "\n",
    "for cedula in cel:\n",
    "    aux=None\n",
    "    aux=pd.DataFrame( {'t': range(1, len(grupo[grupo['CEDULA_COD']==cedula]) + 1), \n",
    "                       'n': grupo[grupo['CEDULA_COD']==cedula]['SALARIO'].to_numpy() } ).values\n",
    "    \n",
    "    Z = linkage(aux, method='single', metric='euclidean')\n",
    "\n",
    "    dendrograma = dendrogram(Z, no_plot=True)\n",
    "    umbral = encontrar_umbral(dendrograma, aux)  \n",
    "    clusters = fcluster(Z, umbral, criterion='distance')\n",
    "    aux1 = pd.DataFrame()\n",
    "    aux1['CLUSTER'] = clusters\n",
    "    aux1['UMBRAL'] = umbral\n",
    "    aux1['CEDULA_COD'] = cedula\n",
    "    aux1_um = aux1.groupby('CEDULA_COD')['UMBRAL'].unique().astype(str).str.strip('[ ]').str.replace(\"'\", '').astype(float)\n",
    "    \n",
    "    data['UMBRAL'] = data['CEDULA_COD'].map( aux1_um )\n",
    "    \n",
    "    aux1.index = grupo[grupo['CEDULA_COD']==cedula].index\n",
    "    data.loc[:, 'CLUSTER'] = data.index.map(aux1['CLUSTER'].to_dict())\n",
    "fin = time.time()  \n",
    "print('Tiempo de ejecución es: ',  (fin-inicio)//3600, ' horas con ' ,  (fin-inicio)%3600//60 , ' minutos y', \n",
    "        (fin-inicio)%60, ' segundos' )\n"
   ]
  },
  {
   "cell_type": "code",
   "execution_count": null,
   "id": "3d5f6ae7",
   "metadata": {},
   "outputs": [],
   "source": [
    "cedula"
   ]
  },
  {
   "cell_type": "code",
   "execution_count": null,
   "id": "e72ac570",
   "metadata": {},
   "outputs": [],
   "source": [
    "data[(data['SEL_GRUPO']==1) & (data['CEDULA_COD']==265)]"
   ]
  },
  {
   "cell_type": "code",
   "execution_count": null,
   "id": "b754b73b",
   "metadata": {},
   "outputs": [],
   "source": [
    "data1=data[(data['CEDULA_COD']==3804) & (data['SEL_GRUPO']==1)]\n",
    "\n",
    "a={'t': range(1, len(data1) + 1),\n",
    "   'n': data1['SALARIO'].to_numpy()}\n",
    "\n",
    "a=pd.DataFrame(a).values\n",
    "a"
   ]
  },
  {
   "cell_type": "code",
   "execution_count": null,
   "id": "65e56048",
   "metadata": {},
   "outputs": [],
   "source": [
    "Z = linkage(a, method='single', metric='euclidean')\n",
    "Z"
   ]
  },
  {
   "cell_type": "code",
   "execution_count": null,
   "id": "a50aa7d3",
   "metadata": {},
   "outputs": [],
   "source": [
    "Z = linkage(a, method='single', metric='euclidean')\n",
    "dendrograma = dendrogram(Z, no_plot=False)\n",
    "umbral_automatico = encontrar_umbral(dendrograma, a)\n",
    "\n",
    "# print(\"Umbral automático:\", umbral_automatico)\n",
    "\n",
    "# # Obtener los clusters usando fcluster con el umbral automático\n",
    "# clusters = fcluster(Z, umbral_automatico, criterion='distance')\n",
    "\n",
    "# # Crear un DataFrame con los datos y los clusters asignados\n",
    "# df = pd.DataFrame(a, columns=['Índice', 'Salario'])\n",
    "# df['Cluster'] = clusters\n",
    "# df\n",
    "# Identificar los valores atípicos\n",
    "#valores_atipicos = df[df['Cluster'] != min(df['Cluster'])]\n",
    "#valores_atipicos"
   ]
  },
  {
   "cell_type": "code",
   "execution_count": null,
   "id": "3e72b906",
   "metadata": {},
   "outputs": [],
   "source": [
    "dendograma"
   ]
  },
  {
   "cell_type": "code",
   "execution_count": null,
   "id": "0e18373e",
   "metadata": {},
   "outputs": [],
   "source": [
    "#Aplicación de funciones por parte\n",
    "n_grupo = 12 # Grupos de 12 porque corresponde a los 12 meses consecutivos\n",
    "df = asignar_grupo( pri, n_grupo )\n",
    "df1 = valores_unicos_grupos( df )\n",
    "top = 5 # 5 Mejores años de sueldo\n",
    "df2 = sel_top_salarios( df1, top )\n",
    "df = sel_grupo(df, df2 )\n",
    "df = fec_sel_grupo( df )\n",
    "df = base_cal(df)\n",
    "inferior=False\n",
    "df = ati_base_cal_m1( df, inferior)\n",
    "df = base_cal_sin_ati_m1( df )\n",
    "df = sbu_ajuste_m1(df, SBU)\n"
   ]
  },
  {
   "cell_type": "code",
   "execution_count": null,
   "id": "93d26d2a",
   "metadata": {},
   "outputs": [],
   "source": [
    "#Verificación de la utilidad de las funciones\n",
    "#asignar_grupo\n",
    "# aux=df[df['CEDULA_COD']==100018].pivot_table(index=('ANIO'), columns=('MES'), values=('SALARIO'),aggfunc=lambda x: x).sort_index(ascending=False)\n",
    "# ordered_columns = aux.columns.sort_values(ascending=False)\n",
    "# aux = aux[ordered_columns]\n",
    "# aux  #--promedio del grupoo 2 OK (436.5533333333333)\n",
    "#------------------------------------------------------------------------------------------------------\n",
    "#valores_unicos_grupos\n",
    "# df1[df1['CEDULA_COD']==100018] si estan ordenados desde el mayor al menor\n",
    "#------------------------------------------------------------------------------------------------------\n",
    "#sel_top_salarios\n",
    "# df2[df2['CEDULA_COD']==100018] selecciona los 5 grupos de mejor sueldo\n",
    "#------------------------------------------------------------------------------------------------------\n",
    "#sel_grupo\n",
    "# aux=df[df['CEDULA_COD']==271].pivot_table(index=('ANIO'), columns=('MES'), values=('SALARIO'),aggfunc=lambda x: x).sort_index(ascending=False)\n",
    "# ordered_columns = aux.columns.sort_values(ascending=False)\n",
    "# aux = aux[ordered_columns]\n",
    "# aux\n",
    "# df1[df1['CEDULA_COD']==271] \n",
    "# df2[df2['CEDULA_COD']==271]\n",
    "# df[df['CEDULA_COD']== 271].pivot_table(index=('GRUPO'), values=('SEL_GRUPO'))\n",
    "# df[ (df['CEDULA_COD']==271) & (df['SEL_GRUPO']==1)].head(60)  #--Se verifica que si selecciona los grupos correctos\n",
    "#-------------------------------------------------------------------------------------------------------\n",
    "# fec_sel_grupo\n",
    "# df[ (df['CEDULA_COD']==100018) & (df['SEL_GRUPO']==1)] #--Se verifica que funciona bien\n",
    "#-------------------------------------------------------------------------------------------------------\n",
    "# base_cal\n",
    "# df[(df['CEDULA_COD']==271) & (df['SEL_GRUPO']==1)]['SALARIO'].mean()  #406.14783333333315 / 4362.616666666671\n",
    "# df[(df['CEDULA_COD']==271) & (df['SEL_GRUPO']==1)]  #--Se verifica que si saca el promedio de los mejores sueldos\n",
    "#-------------------------------------------------------------------------------------------------------\n",
    "# ati_base_cal_m1\n",
    "# df5[(df5['CEDULA_COD']==271) & (df['SEL_GRUPO']==1)]['SALARIO'].quantile(0.25) # 4275.95\n",
    "# df5[(df5['CEDULA_COD']==271) & (df['SEL_GRUPO']==1)]['SALARIO'].quantile(0.75) # 4275.95\n",
    "# IQR = 4275.95-4275.95 = 0 # SE verifica que si sale 0\n",
    "# LI = Q1 - 1.5 * IQR / 0\n",
    "# LS = Q3 + 1.5 * IQR / 0\n",
    "# df5[(df5['CEDULA_COD']==100018) & (df['SEL_GRUPO']==1)]['SALARIO'].quantile(0.25) # 381.0\n",
    "# df5[(df5['CEDULA_COD']==100018) & (df['SEL_GRUPO']==1)]['SALARIO'].quantile(0.75) # 427.3475\n",
    "# IQR = 427.3475-381.0 # SE verifica que si sale 46.347500000000025\n",
    "# LI = Q1 - 1.5 * IQR / 311.47875\n",
    "# LS = Q3 + 1.5 * IQR / 450.52125  #Se verifica que los valores son atipicos\n",
    "# ----------------------------------------------------------------------------------------------------------\n",
    "# base_cal_sin_ati_m1\n",
    "# df[ df['INC_M1']>1.50]\n",
    "# df[df['CEDULA_COD']==1883].head(60) #Se verifica que si cambia\n",
    "#-----------------------------------------------------------------------------------------------------------\n",
    "# sbu_ajuste_m1\n",
    "#df[(df['SEL_GRUPO']==1) & (df['ATI_M1']==1) & (df['CO_ATI_M1']==0)]\n",
    "#df[(df['SEL_GRUPO']==1) & (df['CEDULA_COD']==1248)][['SALARIO', 'BASE_CAL', 'ATI_M1','PATI_M1','BCSATI_M1','INC_M1','SBU','CO_ATI_M1','CO_BCSATI_M1','CO_INC_M1','CO_PATI_M1']]\n",
    "# Se verifica que se corrigen en función del SBU"
   ]
  },
  {
   "cell_type": "code",
   "execution_count": null,
   "id": "97cb4b9d",
   "metadata": {},
   "outputs": [],
   "source": [
    "list_sector = ['pri', 'pub' ]\n",
    "globals()list_sector[0]"
   ]
  },
  {
   "cell_type": "code",
   "execution_count": null,
   "id": "f498074a",
   "metadata": {},
   "outputs": [],
   "source": [
    "for df_name in ['pri', 'pub']:  # Lista de nombres de DataFrames\n",
    "    # Obtener el DataFrame correspondiente al nombre usando globals()\n",
    "    df =  globals()[df_name] \n",
    "    "
   ]
  },
  {
   "cell_type": "code",
   "execution_count": null,
   "id": "32bd14e1",
   "metadata": {},
   "outputs": [],
   "source": [
    "#Sector privado\n",
    "inicio = time.time()\n",
    "pri_t = pri.pivot_table(index=('CEDULA_COD'), columns=('ANIO', 'MES'), values=('SALARIO'),aggfunc=lambda x: x)\n",
    "pri_t.sort_values(by='CEDULA_COD',inplace=True)\n",
    "inicio = time.time()\n",
    "fin = time.time()\n",
    "print('Tiempo de ejecución:\\n')\n",
    "print('horas', (fin-inicio)//3600 )\n",
    "print('minutos', ((fin-inicio)%3600)//60 )\n",
    "print('segundos', (fin-inicio)%60 )"
   ]
  },
  {
   "cell_type": "code",
   "execution_count": null,
   "id": "368d6d16",
   "metadata": {},
   "outputs": [],
   "source": [
    "pri_t"
   ]
  },
  {
   "cell_type": "code",
   "execution_count": null,
   "id": "472c667d",
   "metadata": {},
   "outputs": [],
   "source": [
    "pri_t['Bas_Cal'] = pd.NA\n",
    "pri_t['Fec_Ini'] = pd.NA\n",
    "pri_t['Fec_Fin'] = pd.NA"
   ]
  },
  {
   "cell_type": "code",
   "execution_count": null,
   "id": "d268cb73",
   "metadata": {},
   "outputs": [],
   "source": [
    "inicio = time.time()\n",
    "\n",
    "meses = 12\n",
    "base = 5\n",
    "\n",
    "for persona in pri_t.index[:10000]:\n",
    "    \n",
    "    col_sel=pri_t.loc[persona].notna()\n",
    "    columnas_sin_nan = pri_t.columns[col_sel & ( pri_t.columns != \"CEDULA_COD\")  & ( pri_t.columns != \"Bas_Cal\") & ( pri_t.columns != \"Fec_Ini\") & ( pri_t.columns != \"Fec_Fin\")  ][::-1]\n",
    "    grupos = [columnas_sin_nan[i:i+meses] for i in range(0, len(columnas_sin_nan), meses)]\n",
    "    \n",
    "    sumas_por_grupo = {}\n",
    "    for grupo in grupos:\n",
    "        suma_grupo = pri_t[grupo].mean(axis=1).values[0]\n",
    "        sumas_por_grupo[tuple(grupo)] = suma_grupo\n",
    "        # Ordenar los grupos por su suma en orden descendente\n",
    "        grupos_ordenados = sorted(sumas_por_grupo.items(), key=lambda x: x[1], reverse=True)[:base]\n",
    "    \n",
    "    componentes1 = [[par for par in tupla[0]] for tupla in grupos_ordenados]\n",
    "    componentes = [item for sublist in componentes1 for item in sublist]\n",
    "    \n",
    "    clave = lambda tupla: tupla[0] * 100 + tupla[1]\n",
    "    # Encontrar el par de año y mes mínimo y máximo usando la clave personalizada\n",
    "    par_minimo = min((min(sublista, key=clave ) for sublista in componentes1), key=clave )\n",
    "    par_maximo = max((max(sublista, key=clave ) for sublista in componentes1), key=clave )\n",
    "    \n",
    "    pri_t.loc[pri_t.index==persona,'Bas_Cal'] = pri_t.iloc[pri_t.index==persona][componentes].mean(axis=1)\n",
    "    pri_t.loc[pri_t.index==persona,'Fec_Ini'] = \"{}/{}\".format(par_maximo[0], str(par_maximo[1]).zfill(2))\n",
    "    pri_t.loc[pri_t.index==persona,'Fec_Fin'] = \"{}/{}\".format(par_minimo[0], str(par_minimo[1]).zfill(2))\n",
    "        \n",
    "fin = time.time()\n",
    "print('Tiempo de ejecución:\\n')\n",
    "print('horas', (fin-inicio)//3600 )\n",
    "print('minutos', ((fin-inicio)%3600)//60 )\n",
    "print('segundos', (fin-inicio)%60 )   "
   ]
  },
  {
   "cell_type": "code",
   "execution_count": null,
   "id": "1a6194be",
   "metadata": {},
   "outputs": [],
   "source": [
    "pri_t"
   ]
  },
  {
   "cell_type": "code",
   "execution_count": null,
   "id": "7e89f373",
   "metadata": {},
   "outputs": [],
   "source": [
    "col_sel=pri.loc[persona].notna()\n",
    "columnas_sin_nan = pri.columns[col_sel][::-1]\n",
    "columnas_sin_nan\n",
    "# grupos = [columnas_sin_nan[i:i+meses] for i in range(0, len(columnas_sin_nan), meses)]\n",
    "    \n",
    "# sumas_por_grupo = {}\n",
    "# for grupo in grupos:\n",
    "#     suma_grupo = pri[grupo].mean(axis=1).values[0]\n",
    "#     sumas_por_grupo[tuple(grupo)] = suma_grupo\n",
    "#         # Ordenar los grupos por su suma en orden descendente\n",
    "#     grupos_ordenados = sorted(sumas_por_grupo.items(), key=lambda x: x[1], reverse=True)[:base]\n",
    "    \n",
    "# componentes1 = [[par for par in tupla[0]] for tupla in grupos_ordenados]\n",
    "# componentes = [item for sublist in componentes1 for item in sublist]\n",
    "    \n",
    "# clave = lambda tupla: tupla[0] * 100 + tupla[1]\n",
    "#     # Encontrar el par de año y mes mínimo y máximo usando la clave personalizada\n",
    "# par_minimo = min((min(sublista, key=clave ) for sublista in componentes1), key=clave )\n",
    "# par_maximo = max((max(sublista, key=clave ) for sublista in componentes1), key=clave )\n",
    "    \n",
    "# pri.loc[pri.index==persona,'Base_calculada'] = pri.iloc[pri.index==persona][componentes].mean(axis=1)\n",
    "# pri.loc[pri.index==persona,'Fec_Ini'] = pd.to_datetime('{},{}'.format( par_maximo[0], par_maximo[1]), format='%Y, %m')\n",
    "# pri.loc[pri.index==persona,'Fec_Fin'] = pd.to_datetime('{},{}'.format( par_minimo[0], par_minimo[1]), format='%Y, %m')"
   ]
  },
  {
   "cell_type": "code",
   "execution_count": null,
   "id": "50f6e95f",
   "metadata": {},
   "outputs": [],
   "source": [
    "from pyspark.sql import SparkSession\n",
    "from pyspark.sql.functions import mean\n",
    "from pyspark.sql.functions import col\n",
    "from pyspark.sql.functions import lit\n",
    "from pyspark.sql.functions import concat_ws\n",
    "from pyspark.sql.types import IntegerType\n",
    "\n",
    "spark = SparkSession.builder \\\n",
    "    .appName(\"YourApp\") \\\n",
    "    .getOrCreate()\n",
    "\n",
    "# Definir meses y base\n",
    "meses = 12\n",
    "base = 5\n",
    "\n"
   ]
  },
  {
   "cell_type": "code",
   "execution_count": null,
   "id": "765a51f4",
   "metadata": {},
   "outputs": [],
   "source": [
    "pri_spark = spark.createDataFrame(pd.DataFrame(pri))\n",
    "pri_spark"
   ]
  },
  {
   "cell_type": "code",
   "execution_count": null,
   "id": "b719181e",
   "metadata": {},
   "outputs": [],
   "source": [
    "#Para determinar las columnas con valores diferentes a NaN\n",
    "col_sel=pri.loc['100018'].notna()\n",
    "columnas_sin_nan = pri.columns[col_sel][::-1]"
   ]
  },
  {
   "cell_type": "code",
   "execution_count": null,
   "id": "75049fbd",
   "metadata": {},
   "outputs": [],
   "source": [
    "meses = 12\n",
    "grupos = [columnas_sin_nan[i:i+meses] for i in range(0, len(columnas_sin_nan), meses)]"
   ]
  },
  {
   "cell_type": "code",
   "execution_count": null,
   "id": "c84338d3",
   "metadata": {},
   "outputs": [],
   "source": [
    "pri.iloc[pri.index=='100018'].stack(0)"
   ]
  },
  {
   "cell_type": "code",
   "execution_count": null,
   "id": "b22903a0",
   "metadata": {},
   "outputs": [],
   "source": [
    "440.15+415.21+512.47+399.00+399.00+403.99+399.00+463.84+416.46+266.00+541.29+419.10"
   ]
  },
  {
   "cell_type": "code",
   "execution_count": null,
   "id": "3a084d95",
   "metadata": {},
   "outputs": [],
   "source": [
    "base = 5\n",
    "sumas_por_grupo = {}\n",
    "for grupo in grupos:\n",
    "    suma_grupo = pri[grupo].mean(axis=1).values[0]\n",
    "    sumas_por_grupo[tuple(grupo)] = suma_grupo\n",
    "\n",
    "# Ordenar los grupos por su suma en orden descendente\n",
    "grupos_ordenados = sorted(sumas_por_grupo.items(), key=lambda x: x[1], reverse=True)[:base]\n",
    "#grupos_ordenados"
   ]
  },
  {
   "cell_type": "code",
   "execution_count": null,
   "id": "72a2d297",
   "metadata": {},
   "outputs": [],
   "source": [
    "componentes1 = [[par for par in tupla[0]] for tupla in grupos_ordenados]\n",
    "componentes = [item for sublist in componentes1 for item in sublist]\n",
    "\n",
    "clave_personalizada = lambda tupla: tupla[0] * 100 + tupla[1]\n",
    "\n",
    "# Encontrar el par de año y mes mínimo y máximo usando la clave personalizada\n",
    "par_minimo = min((min(sublista, key=clave_personalizada) for sublista in componentes1), key=clave_personalizada)\n",
    "par_maximo = max((max(sublista, key=clave_personalizada) for sublista in componentes1), key=clave_personalizada)"
   ]
  },
  {
   "cell_type": "code",
   "execution_count": null,
   "id": "ee8d8eb9",
   "metadata": {},
   "outputs": [],
   "source": [
    "pri['Base_calculada']=pd.NA\n",
    "pri['Fec_Ini'] = pd.NA\n",
    "pri['Fec_Fin'] = pd.NA"
   ]
  },
  {
   "cell_type": "code",
   "execution_count": null,
   "id": "8a1e6a88",
   "metadata": {},
   "outputs": [],
   "source": [
    "pri['Base_calculada'] = pri.iloc[pri.index=='100018'][componentes].mean(axis=1)\n",
    "pri.loc[pri.index=='100018','Fec_Ini'] = pd.to_datetime('{}, {}'.format( par_maximo[0], par_maximo[1]), format='%Y, %m')\n",
    "pri.loc[pri.index=='100018','Fec_Fin'] = pd.to_datetime('{}, {}'.format( par_minimo[0], par_minimo[1]), format='%Y, %m')"
   ]
  },
  {
   "cell_type": "code",
   "execution_count": null,
   "id": "edd2441a",
   "metadata": {},
   "outputs": [],
   "source": [
    "pri"
   ]
  },
  {
   "cell_type": "code",
   "execution_count": null,
   "id": "65067776",
   "metadata": {},
   "outputs": [],
   "source": [
    "vej[vej['CEDULA_COD']==114]"
   ]
  },
  {
   "cell_type": "code",
   "execution_count": null,
   "id": "847f2ccf",
   "metadata": {},
   "outputs": [],
   "source": [
    "afi[afi['CEDULA_COD']==114]"
   ]
  },
  {
   "cell_type": "code",
   "execution_count": null,
   "id": "d09aa06f",
   "metadata": {},
   "outputs": [],
   "source": [
    "afi.loc[['114']]"
   ]
  },
  {
   "cell_type": "code",
   "execution_count": null,
   "id": "651e5207",
   "metadata": {},
   "outputs": [],
   "source": [
    "import pickle\n",
    "\n",
    "# Nombre del archivo donde se guardará el objeto\n",
    "nombre_archivo = 'proceso.pkl'\n",
    "\n",
    "# Guardar el objeto en el archivo\n",
    "with open(nombre_archivo, 'wb') as archivo:\n",
    "    pickle.dump(pri, archivo)"
   ]
  },
  {
   "cell_type": "code",
   "execution_count": null,
   "id": "4ce8a234",
   "metadata": {},
   "outputs": [],
   "source": [
    "import pickle\n",
    "\n",
    "# Nombre del archivo donde se guardó el objeto\n",
    "nombre_archivo = 'proceso.pkl'\n",
    "\n",
    "# Cargar el objeto desde el archivo\n",
    "with open(nombre_archivo, 'rb') as archivo:\n",
    "    mi_objeto_cargado = pickle.load(archivo)\n",
    "\n",
    "print(mi_objeto_cargado)"
   ]
  }
 ],
 "metadata": {
  "kernelspec": {
   "display_name": "Python 3 (ipykernel)",
   "language": "python",
   "name": "python3"
  },
  "language_info": {
   "codemirror_mode": {
    "name": "ipython",
    "version": 3
   },
   "file_extension": ".py",
   "mimetype": "text/x-python",
   "name": "python",
   "nbconvert_exporter": "python",
   "pygments_lexer": "ipython3",
   "version": "3.9.13"
  }
 },
 "nbformat": 4,
 "nbformat_minor": 5
}

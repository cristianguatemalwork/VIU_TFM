{
 "cells": [
  {
   "cell_type": "code",
   "execution_count": 1,
   "id": "576d888a",
   "metadata": {},
   "outputs": [],
   "source": [
    "#Importación de librearías necesarias\n",
    "import pandas as pd\n",
    "from datetime import datetime\n",
    "import socket\n",
    "import numpy as np\n",
    "import time"
   ]
  },
  {
   "cell_type": "code",
   "execution_count": 2,
   "id": "69d4a244",
   "metadata": {},
   "outputs": [],
   "source": [
    "#Path general de archivos\n",
    "if socket.gethostname()=='LAPTOP-PUSGG08B': #Ip de la laptop\n",
    "    ruta = \"E:/Cristian Guatemal/Master/Big Data y Ciencia de Datos/VIU_TFM/Data/TFM/\"\n",
    "elif socket.gethostname()=='LAPTOP-PUSGG08B11': #Ip del working\n",
    "    ruta = \"E:/Cristian Guatemal/Master/Big Data y Ciencia de Datos/VIU_TFM/Data/TFM/\"\n",
    "# Ruta del archivo de pensionistas de vejez\n",
    "ruta_vj = ruta + 'POB_VEJ_CD656.dsv'\n",
    "# Ruta del archivo de historia laboral de pensionistas\n",
    "ruta_afi = ruta + 'APORTES_CD656.dsv'"
   ]
  },
  {
   "cell_type": "code",
   "execution_count": 3,
   "id": "d71f99d5",
   "metadata": {},
   "outputs": [],
   "source": [
    "vej = pd.read_csv( ruta_vj, delimiter='\\t', encoding='utf-8', decimal='.' )\n",
    "vej['FECHA_NACIMIENTO'] = pd.to_datetime(vej['FECHA_NACIMIENTO'], format='%d/%m/%Y')\n",
    "vej['FECHA_MUERTE'] = pd.to_datetime(vej['FECHA_MUERTE'], format='%d/%m/%Y')\n",
    "vej['FECHA_DERECHO'] = pd.to_datetime(vej['FECHA_DERECHO'], format='%d/%m/%Y')\n",
    "vej['RANGO_INI_5MEJ'] = pd.to_datetime(vej['RANGO_INI_5MEJ'], format='%d/%m/%Y')\n",
    "vej['RANGO_FIN_5MEJ'] = pd.to_datetime(vej['RANGO_FIN_5MEJ'], format='%d/%m/%Y')"
   ]
  },
  {
   "cell_type": "code",
   "execution_count": 4,
   "id": "41fae74d",
   "metadata": {},
   "outputs": [],
   "source": [
    "#Datos de vejez\n",
    "vej.sort_values(by='CEDULA_COD',inplace=True)"
   ]
  },
  {
   "cell_type": "code",
   "execution_count": 5,
   "id": "337096d5",
   "metadata": {},
   "outputs": [
    {
     "data": {
      "text/html": [
       "<div>\n",
       "<style scoped>\n",
       "    .dataframe tbody tr th:only-of-type {\n",
       "        vertical-align: middle;\n",
       "    }\n",
       "\n",
       "    .dataframe tbody tr th {\n",
       "        vertical-align: top;\n",
       "    }\n",
       "\n",
       "    .dataframe thead th {\n",
       "        text-align: right;\n",
       "    }\n",
       "</style>\n",
       "<table border=\"1\" class=\"dataframe\">\n",
       "  <thead>\n",
       "    <tr style=\"text-align: right;\">\n",
       "      <th></th>\n",
       "      <th>CEDULA_COD</th>\n",
       "      <th>SEXO</th>\n",
       "      <th>FECHA_NACIMIENTO</th>\n",
       "      <th>FECHA_MUERTE</th>\n",
       "      <th>FECHA_DERECHO</th>\n",
       "      <th>NUM_IMPOSICIONES</th>\n",
       "      <th>COEFICIENTE_TEO</th>\n",
       "      <th>COEFICIENTE_REAL</th>\n",
       "      <th>BASE_AP_TEO</th>\n",
       "      <th>BASE_AP_REAL</th>\n",
       "      <th>PENSION</th>\n",
       "      <th>TIPO_PRESTACION</th>\n",
       "      <th>RANGO_INI_5MEJ</th>\n",
       "      <th>RANGO_FIN_5MEJ</th>\n",
       "    </tr>\n",
       "  </thead>\n",
       "  <tbody>\n",
       "    <tr>\n",
       "      <th>471930</th>\n",
       "      <td>100018</td>\n",
       "      <td>H</td>\n",
       "      <td>1949-12-08</td>\n",
       "      <td>2020-10-06</td>\n",
       "      <td>2010-03-01</td>\n",
       "      <td>399</td>\n",
       "      <td>0.7875</td>\n",
       "      <td>0.7875</td>\n",
       "      <td>319.68</td>\n",
       "      <td>319.68</td>\n",
       "      <td>498.51</td>\n",
       "      <td>VEJEZ</td>\n",
       "      <td>2019-10-31</td>\n",
       "      <td>2002-03-01</td>\n",
       "    </tr>\n",
       "  </tbody>\n",
       "</table>\n",
       "</div>"
      ],
      "text/plain": [
       "        CEDULA_COD SEXO FECHA_NACIMIENTO FECHA_MUERTE FECHA_DERECHO  \\\n",
       "471930      100018    H       1949-12-08   2020-10-06    2010-03-01   \n",
       "\n",
       "        NUM_IMPOSICIONES  COEFICIENTE_TEO  COEFICIENTE_REAL  BASE_AP_TEO  \\\n",
       "471930               399           0.7875            0.7875       319.68   \n",
       "\n",
       "        BASE_AP_REAL  PENSION TIPO_PRESTACION RANGO_INI_5MEJ RANGO_FIN_5MEJ  \n",
       "471930        319.68   498.51           VEJEZ     2019-10-31     2002-03-01  "
      ]
     },
     "execution_count": 5,
     "metadata": {},
     "output_type": "execute_result"
    }
   ],
   "source": [
    "vej[vej['CEDULA_COD']==100018]"
   ]
  },
  {
   "cell_type": "code",
   "execution_count": 6,
   "id": "ef0aae6a",
   "metadata": {},
   "outputs": [],
   "source": [
    "#Se importa el archivo\n",
    "afi = pd.read_csv(ruta_afi, delimiter='\\t', encoding='utf-8', decimal='.')\n",
    "#afi.sort_values(by='CEDULA_COD',inplace=True)\n",
    "#afi=afi.set_index(['CEDULA_COD'])\n",
    "# afi[afi['CEDULA_COD']==114]"
   ]
  },
  {
   "cell_type": "code",
   "execution_count": 7,
   "id": "c6cd1a9e",
   "metadata": {},
   "outputs": [
    {
     "data": {
      "text/html": [
       "<div>\n",
       "<style scoped>\n",
       "    .dataframe tbody tr th:only-of-type {\n",
       "        vertical-align: middle;\n",
       "    }\n",
       "\n",
       "    .dataframe tbody tr th {\n",
       "        vertical-align: top;\n",
       "    }\n",
       "\n",
       "    .dataframe thead th {\n",
       "        text-align: right;\n",
       "    }\n",
       "</style>\n",
       "<table border=\"1\" class=\"dataframe\">\n",
       "  <thead>\n",
       "    <tr style=\"text-align: right;\">\n",
       "      <th></th>\n",
       "      <th>CEDULA_COD</th>\n",
       "      <th>ANIO</th>\n",
       "      <th>MES</th>\n",
       "      <th>SALARIO</th>\n",
       "      <th>PORCENTAJE_AP</th>\n",
       "      <th>SECTOR</th>\n",
       "    </tr>\n",
       "  </thead>\n",
       "  <tbody>\n",
       "    <tr>\n",
       "      <th>0</th>\n",
       "      <td>20057738</td>\n",
       "      <td>2003</td>\n",
       "      <td>3</td>\n",
       "      <td>135.03</td>\n",
       "      <td>20.5</td>\n",
       "      <td>PRIVADO</td>\n",
       "    </tr>\n",
       "    <tr>\n",
       "      <th>1</th>\n",
       "      <td>15613923</td>\n",
       "      <td>2003</td>\n",
       "      <td>11</td>\n",
       "      <td>65.61</td>\n",
       "      <td>20.5</td>\n",
       "      <td>PRIVADO</td>\n",
       "    </tr>\n",
       "    <tr>\n",
       "      <th>2</th>\n",
       "      <td>16057398</td>\n",
       "      <td>1996</td>\n",
       "      <td>11</td>\n",
       "      <td>56.65</td>\n",
       "      <td>20.5</td>\n",
       "      <td>PRIVADO</td>\n",
       "    </tr>\n",
       "    <tr>\n",
       "      <th>3</th>\n",
       "      <td>16023482</td>\n",
       "      <td>1997</td>\n",
       "      <td>9</td>\n",
       "      <td>15.11</td>\n",
       "      <td>20.5</td>\n",
       "      <td>PRIVADO</td>\n",
       "    </tr>\n",
       "    <tr>\n",
       "      <th>4</th>\n",
       "      <td>16021285</td>\n",
       "      <td>1998</td>\n",
       "      <td>1</td>\n",
       "      <td>27.27</td>\n",
       "      <td>20.5</td>\n",
       "      <td>PUBLICO</td>\n",
       "    </tr>\n",
       "    <tr>\n",
       "      <th>...</th>\n",
       "      <td>...</td>\n",
       "      <td>...</td>\n",
       "      <td>...</td>\n",
       "      <td>...</td>\n",
       "      <td>...</td>\n",
       "      <td>...</td>\n",
       "    </tr>\n",
       "    <tr>\n",
       "      <th>66555199</th>\n",
       "      <td>16773012</td>\n",
       "      <td>2005</td>\n",
       "      <td>9</td>\n",
       "      <td>230.00</td>\n",
       "      <td>20.5</td>\n",
       "      <td>PRIVADO</td>\n",
       "    </tr>\n",
       "    <tr>\n",
       "      <th>66555200</th>\n",
       "      <td>5709849</td>\n",
       "      <td>2007</td>\n",
       "      <td>1</td>\n",
       "      <td>278.95</td>\n",
       "      <td>30.5</td>\n",
       "      <td>PUBLICO</td>\n",
       "    </tr>\n",
       "    <tr>\n",
       "      <th>66555201</th>\n",
       "      <td>19960695</td>\n",
       "      <td>2008</td>\n",
       "      <td>9</td>\n",
       "      <td>1400.00</td>\n",
       "      <td>20.5</td>\n",
       "      <td>PRIVADO</td>\n",
       "    </tr>\n",
       "    <tr>\n",
       "      <th>66555202</th>\n",
       "      <td>11118795</td>\n",
       "      <td>1993</td>\n",
       "      <td>3</td>\n",
       "      <td>56.65</td>\n",
       "      <td>20.5</td>\n",
       "      <td>PRIVADO</td>\n",
       "    </tr>\n",
       "    <tr>\n",
       "      <th>66555203</th>\n",
       "      <td>16263858</td>\n",
       "      <td>2010</td>\n",
       "      <td>9</td>\n",
       "      <td>270.00</td>\n",
       "      <td>20.5</td>\n",
       "      <td>PRIVADO</td>\n",
       "    </tr>\n",
       "  </tbody>\n",
       "</table>\n",
       "<p>66555204 rows × 6 columns</p>\n",
       "</div>"
      ],
      "text/plain": [
       "          CEDULA_COD  ANIO  MES  SALARIO  PORCENTAJE_AP   SECTOR\n",
       "0           20057738  2003    3   135.03           20.5  PRIVADO\n",
       "1           15613923  2003   11    65.61           20.5  PRIVADO\n",
       "2           16057398  1996   11    56.65           20.5  PRIVADO\n",
       "3           16023482  1997    9    15.11           20.5  PRIVADO\n",
       "4           16021285  1998    1    27.27           20.5  PUBLICO\n",
       "...              ...   ...  ...      ...            ...      ...\n",
       "66555199    16773012  2005    9   230.00           20.5  PRIVADO\n",
       "66555200     5709849  2007    1   278.95           30.5  PUBLICO\n",
       "66555201    19960695  2008    9  1400.00           20.5  PRIVADO\n",
       "66555202    11118795  1993    3    56.65           20.5  PRIVADO\n",
       "66555203    16263858  2010    9   270.00           20.5  PRIVADO\n",
       "\n",
       "[66555204 rows x 6 columns]"
      ]
     },
     "execution_count": 7,
     "metadata": {},
     "output_type": "execute_result"
    }
   ],
   "source": [
    "afi"
   ]
  },
  {
   "cell_type": "code",
   "execution_count": 8,
   "id": "ae5c09f0",
   "metadata": {},
   "outputs": [
    {
     "data": {
      "text/plain": [
       "array(['PRIVADO', 'PUBLICO', 'INDEPENDIENTES',\n",
       "       '02-TRABAJ. AUT Y SIN RELAC DEPEN DESDE  2011-12 SOLO AF.VOLUNT  ',\n",
       "       '69-VOLUNTARIO ECUATORIANO DOMICILIADO EN EL EXTERIOR ',\n",
       "       '90-AFILIACION DOMICILIADO EN EL PAIS / SIN RELACION DEPENDENCIA',\n",
       "       '89-AFILIACION DOMICILIADO EN EL EXTERIOR', 'PASANTE PRIVADO',\n",
       "       'PASANTE PUBLICO', '108-ARTISTA Y GESTOR DE CULTURA',\n",
       "       '06-CODIGO DEL TRABAJO - CT '], dtype=object)"
      ]
     },
     "execution_count": 8,
     "metadata": {},
     "output_type": "execute_result"
    }
   ],
   "source": [
    "afi['SECTOR'].unique()"
   ]
  },
  {
   "cell_type": "code",
   "execution_count": 9,
   "id": "11fa4a1a",
   "metadata": {},
   "outputs": [],
   "source": [
    "#Cedulas y aparición en cada sector\n",
    "ced_sec = afi.groupby('CEDULA_COD')['SECTOR'].nunique()"
   ]
  },
  {
   "cell_type": "code",
   "execution_count": 10,
   "id": "13764901",
   "metadata": {},
   "outputs": [
    {
     "data": {
      "text/plain": [
       "CEDULA_COD\n",
       "216         2\n",
       "288         2\n",
       "387         2\n",
       "397         2\n",
       "402         2\n",
       "           ..\n",
       "20942932    2\n",
       "20949683    2\n",
       "21035907    2\n",
       "21579009    2\n",
       "23075971    2\n",
       "Name: SECTOR, Length: 136187, dtype: int64"
      ]
     },
     "execution_count": 10,
     "metadata": {},
     "output_type": "execute_result"
    }
   ],
   "source": [
    "ced_sec[ced_sec==2]"
   ]
  },
  {
   "cell_type": "code",
   "execution_count": 11,
   "id": "c8f026b9",
   "metadata": {},
   "outputs": [
    {
     "data": {
      "text/plain": [
       "array([], dtype=object)"
      ]
     },
     "execution_count": 11,
     "metadata": {},
     "output_type": "execute_result"
    }
   ],
   "source": [
    "afi[afi['CEDULA_COD']=='100018']['SECTOR'].unique()"
   ]
  },
  {
   "cell_type": "code",
   "execution_count": 12,
   "id": "2e5eeaaa",
   "metadata": {},
   "outputs": [],
   "source": [
    "#Cédulas que tiene un único sector\n",
    "uni_ced_sec = ced_sec[ced_sec == 1].index.tolist()\n",
    "#Cédulas que tiene un dos sector\n",
    "dos_ced_sec = ced_sec[ced_sec == 2].index.tolist()\n",
    "#Cédulas que tiene un tres sector\n",
    "tres_ced_sec = ced_sec[ced_sec == 3].index.tolist()\n",
    "#Cédulas que tiene más tres sector\n",
    "mas_ced_sec = ced_sec[ced_sec > 3].index.tolist()"
   ]
  },
  {
   "cell_type": "code",
   "execution_count": 13,
   "id": "736901d8",
   "metadata": {},
   "outputs": [],
   "source": [
    "#Afliados de HL con un único sector\n",
    "afi_uni = afi[afi['CEDULA_COD'].isin(uni_ced_sec)]\n",
    "#Afliados de HL con un único sector\n",
    "afi_dos = afi[afi['CEDULA_COD'].isin(dos_ced_sec)]\n",
    "#Afliados de HL con un único sector\n",
    "afi_tres = afi[afi['CEDULA_COD'].isin(tres_ced_sec)]\n",
    "#Afliados de HL con un único sector\n",
    "afi_mas = afi[afi['CEDULA_COD'].isin(mas_ced_sec)]"
   ]
  },
  {
   "cell_type": "code",
   "execution_count": 14,
   "id": "a2736258",
   "metadata": {},
   "outputs": [
    {
     "name": "stdout",
     "output_type": "stream",
     "text": [
      "Se tiene un total  556782  personas que se va analizar su HL\n",
      "Se tiene un total  391458  personas que tienen un único sector\n",
      "Se tiene un total  136187  personas que tienen dos sectores\n",
      "Se tiene un total  26115  personas que tienen tres sectores\n",
      "Se tiene un total  3022  personas que tienen más de tres sectores\n"
     ]
    }
   ],
   "source": [
    "#Se presenta la clasificación\n",
    "print('Se tiene un total ',afi['CEDULA_COD'].nunique(), ' personas que se va analizar su HL')\n",
    "print('Se tiene un total ',afi_uni['CEDULA_COD'].nunique(), ' personas que tienen un único sector')\n",
    "print('Se tiene un total ',afi_dos['CEDULA_COD'].nunique(), ' personas que tienen dos sectores')\n",
    "print('Se tiene un total ',afi_tres['CEDULA_COD'].nunique(), ' personas que tienen tres sectores')\n",
    "print('Se tiene un total ',afi_mas['CEDULA_COD'].nunique(), ' personas que tienen más de tres sectores')"
   ]
  },
  {
   "cell_type": "code",
   "execution_count": 15,
   "id": "fa79d6c4",
   "metadata": {},
   "outputs": [
    {
     "data": {
      "text/plain": [
       "556782"
      ]
     },
     "execution_count": 15,
     "metadata": {},
     "output_type": "execute_result"
    }
   ],
   "source": [
    "391458+136187+26115+3022"
   ]
  },
  {
   "cell_type": "code",
   "execution_count": 16,
   "id": "ca12bcad",
   "metadata": {},
   "outputs": [
    {
     "data": {
      "text/plain": [
       "array(['PRIVADO', 'PUBLICO', 'INDEPENDIENTES',\n",
       "       '02-TRABAJ. AUT Y SIN RELAC DEPEN DESDE  2011-12 SOLO AF.VOLUNT  ',\n",
       "       '90-AFILIACION DOMICILIADO EN EL PAIS / SIN RELACION DEPENDENCIA',\n",
       "       '89-AFILIACION DOMICILIADO EN EL EXTERIOR',\n",
       "       '108-ARTISTA Y GESTOR DE CULTURA', 'PASANTE PRIVADO',\n",
       "       '69-VOLUNTARIO ECUATORIANO DOMICILIADO EN EL EXTERIOR ',\n",
       "       'PASANTE PUBLICO'], dtype=object)"
      ]
     },
     "execution_count": 16,
     "metadata": {},
     "output_type": "execute_result"
    }
   ],
   "source": [
    "#Primero se va a trabajar con las cedúlas que tiene un único sector\n",
    "afi_uni['SECTOR'].unique()"
   ]
  },
  {
   "cell_type": "code",
   "execution_count": 17,
   "id": "3823b0e1",
   "metadata": {},
   "outputs": [
    {
     "data": {
      "text/plain": [
       "array([], dtype=object)"
      ]
     },
     "execution_count": 17,
     "metadata": {},
     "output_type": "execute_result"
    }
   ],
   "source": [
    "afi_uni[afi_uni['CEDULA_COD']=='16021285']['SECTOR'].unique()"
   ]
  },
  {
   "cell_type": "code",
   "execution_count": 41,
   "id": "e6f907e4",
   "metadata": {},
   "outputs": [],
   "source": [
    "#Se desagrea por sector \n",
    "pri=afi_uni[afi_uni['SECTOR']=='PRIVADO']\n",
    "#pri.sort_values(by='CEDULA_COD',inplace=True)\n",
    "pub=afi_uni[afi_uni['SECTOR']=='PUBLICO']\n",
    "#pub.sort_values(by='CEDULA_COD',inplace=True)\n",
    "ind=afi_uni[afi_uni['SECTOR']=='INDEPENDIENTES']\n",
    "#ind.sort_values(by='CEDULA_COD',inplace=True)\n",
    "# vol_ext=afi[(afi['SECTOR']=='69-VOLUNTARIO ECUATORIANO DOMICILIADO EN EL EXTERIOR ') |\n",
    "#             afi['SECTOR']=='89-AFILIACION DOMICILIADO EN EL EXTERIOR']\n",
    "# vol_ecu=afi[afi['SECTOR']=='90-AFILIACION DOMICILIADO EN EL PAIS / SIN RELACION DEPENDENCIA']"
   ]
  },
  {
   "cell_type": "code",
   "execution_count": 24,
   "id": "7c0dd581",
   "metadata": {},
   "outputs": [
    {
     "name": "stdout",
     "output_type": "stream",
     "text": [
      "De  391458  personas que tienen un único sector se tiene: \n",
      "\n",
      "177626  personas que están en el sector PRIVADO\n",
      "145990  personas que están en el sector PUBLICO\n",
      "32011  personas que están en el sector INDEPENDIENTE\n"
     ]
    }
   ],
   "source": [
    "#Desagregación por sector\n",
    "print('De ',afi_uni['CEDULA_COD'].nunique(), ' personas que tienen un único sector se tiene:', '\\n')\n",
    "print( pri['CEDULA_COD'].nunique(), ' personas que están en el sector PRIVADO')\n",
    "print( pub['CEDULA_COD'].nunique(), ' personas que están en el sector PUBLICO')\n",
    "print( ind['CEDULA_COD'].nunique(), ' personas que están en el sector INDEPENDIENTE')"
   ]
  },
  {
   "cell_type": "code",
   "execution_count": 25,
   "id": "54eaba59",
   "metadata": {},
   "outputs": [
    {
     "data": {
      "text/plain": [
       "35831"
      ]
     },
     "execution_count": 25,
     "metadata": {},
     "output_type": "execute_result"
    }
   ],
   "source": [
    "391458-177626-145990-32011"
   ]
  },
  {
   "cell_type": "code",
   "execution_count": 42,
   "id": "706b3830",
   "metadata": {},
   "outputs": [],
   "source": [
    "pri=pri.sort_values( by=[\"CEDULA_COD\", \"ANIO\", \"MES\"], ascending=[True, False, False] )"
   ]
  },
  {
   "cell_type": "code",
   "execution_count": 209,
   "id": "fb69b6c3",
   "metadata": {},
   "outputs": [],
   "source": [
    "#Función para crear los grupos de salarios de 12 meses consecutivos para cada cedula\n",
    "def asignar_grupo(data, n_grupo):\n",
    "    df = data.copy()\n",
    "    df['GRUPO'] = (df.groupby('CEDULA_COD').cumcount() // n_grupo ) + 1\n",
    "    df['SAL_PROM_GRUPO'] = df.groupby(['CEDULA_COD', 'GRUPO'])['SALARIO'].transform('mean')\n",
    "    return df\n",
    "\n",
    "#Función para agrupar los valores de los sueldos\n",
    "def valores_unicos_grupos(data):\n",
    "    df = data.copy()\n",
    "    df1 = df.groupby(['CEDULA_COD', 'GRUPO'])['SAL_PROM_GRUPO'].unique()\n",
    "    df1 = df1.reset_index()\n",
    "    df1['SAL_PROM_GRUPO'] = df1['SAL_PROM_GRUPO'].apply(lambda x: x[0])\n",
    "    df1 = df1.sort_values(by = ['CEDULA_COD','SAL_PROM_GRUPO'], ascending=[True,False])\n",
    "    return df1\n",
    "\n",
    "#Función para seleccionar los 5 mejores años de sueldo promedio\n",
    "def sel_top_salarios( data, top ):\n",
    "    df = data.copy()\n",
    "    top_sal = df.groupby('CEDULA_COD')['SAL_PROM_GRUPO'].nlargest(top).reset_index(level=0, drop=True)\n",
    "    indices = top_sal.index\n",
    "    df1 = df.loc[indices].reset_index(drop=True)\n",
    "    return df1\n",
    "\n",
    "#Función para seleccionar los grupos de sueldos\n",
    "def sel_grupo(data1, data2):\n",
    "    df1 = data1.copy()\n",
    "    df2 = data2.copy()\n",
    "    combinaciones = set(zip(df2['CEDULA_COD'], df2['GRUPO']))\n",
    "    df1['SEL_GRUPO'] = [(cedula, grupo) in combinaciones for cedula, grupo in zip(df1['CEDULA_COD'], df1['GRUPO'])]\n",
    "    df1['SEL_GRUPO'] = df1['SEL_GRUPO'].astype(int)\n",
    "    return df1\n",
    "\n",
    "#Función para insertar las fecha de inicio y fin de los cinco mejores años\n",
    "def fec_sel_grupo(data):\n",
    "    df = data.copy()\n",
    "    grupo = data[data['SEL_GRUPO'] == 1].copy()\n",
    "    grupo['ANIO_MAX'] = grupo['CEDULA_COD'].map( grupo.groupby('CEDULA_COD')['ANIO'].max() )\n",
    "    grupo['MES_MAX']  = grupo['CEDULA_COD'].map(grupo[ grupo['ANIO']==grupo['ANIO_MAX']].groupby('CEDULA_COD')['MES'].max())\n",
    "    grupo['FEC_INI'] = grupo['ANIO_MAX'].astype(str) + '-' + grupo['MES_MAX'].astype(str)\n",
    "    grupo = grupo.groupby('CEDULA_COD')['FEC_INI'].unique().astype(str).str.strip('[ ]').str.replace(\"'\", '')\n",
    "    df['FEC_INI'] = df['CEDULA_COD'].map(grupo)\n",
    "    \n",
    "    grupo = data[data['SEL_GRUPO'] == 1].copy()\n",
    "    grupo['ANIO_MIN'] = grupo['CEDULA_COD'].map( grupo.groupby('CEDULA_COD')['ANIO'].min() )\n",
    "    grupo['MES_MIN']  = grupo['CEDULA_COD'].map(grupo[ grupo['ANIO']==grupo['ANIO_MIN']].groupby('CEDULA_COD')['MES'].min())\n",
    "    grupo['FEC_FIN'] = grupo['ANIO_MIN'].astype(str) + '-' + grupo['MES_MIN'].astype(str)\n",
    "    grupo = grupo.groupby('CEDULA_COD')['FEC_FIN'].unique().astype(str).str.strip('[ ]').str.replace(\"'\", '')\n",
    "    df['FEC_FIN'] = df['CEDULA_COD'].map(grupo)\n",
    "    return df\n",
    "\n",
    "#Función para calcular la base de calculo teórica\n",
    "def base_cal(data):\n",
    "    df = data.copy()\n",
    "    grupo = data[data['SEL_GRUPO'] == 1].copy()\n",
    "    df_prom = grupo.groupby('CEDULA_COD')['SALARIO'].mean()\n",
    "    df['BASE_CAL'] = df['CEDULA_COD'].map( df_prom )\n",
    "    return df\n",
    "\n",
    "#Función para calcular los valores atipicos dentro de los grupos seleccionados- Método Caja y Bigote\n",
    "def ati_base_cal_m1( data, inferior):\n",
    "    df = data.copy()\n",
    "    grupo = data[data['SEL_GRUPO'] == 1].copy()\n",
    "    Q1 = grupo.groupby('CEDULA_COD')['SALARIO'].quantile(0.25)\n",
    "    Q3 = grupo.groupby('CEDULA_COD')['SALARIO'].quantile(0.75)\n",
    "    IQR = Q3-Q1\n",
    "    LI = Q1 - 1.5 * IQR\n",
    "    LS = Q3 + 1.5 * IQR\n",
    "    df['IQR'] = df['CEDULA_COD'].map( IQR )\n",
    "    df['LI'] = df['CEDULA_COD'].map( LI )\n",
    "    df['LS'] = df['CEDULA_COD'].map( LS )\n",
    "    \n",
    "    if inferior==True:\n",
    "        df['ATI_M1'] = ((df['SALARIO'] < df['LI']) | (df['SALARIO'] > df['LS'])).astype(int)\n",
    "    else:\n",
    "        df['ATI_M1'] = ( df['SALARIO'] > df['LS'] ).astype(int)\n",
    "    \n",
    "    grupo = df[df['SEL_GRUPO'] == 1].copy()\n",
    "    n_ati = ( grupo.groupby('CEDULA_COD')['ATI_M1'].sum()/grupo.groupby('CEDULA_COD')['ATI_M1'].count() ) * 100\n",
    "    df['PATI_M1'] = df['CEDULA_COD'].map( n_ati )\n",
    "    df = df.drop(['IQR', 'LI', 'LS'], axis=1)\n",
    "    return df\n",
    "\n",
    "#Función para calcular la base de calculo sin los valores atipicos dentro de los grupos seleccionados método 1\n",
    "def base_cal_sin_ati_m1(data):\n",
    "    df = data.copy()\n",
    "    grupo = df[ (df['SEL_GRUPO'] == 1 ) & (df['ATI_M1'] != 1)].copy()\n",
    "    df_prom = grupo.groupby('CEDULA_COD')['SALARIO'].mean()\n",
    "    df['BCSATI_M1'] = df['CEDULA_COD'].map( df_prom ) #BCSATI_M1=Base de Calculo sin atipico del Método 1\n",
    "    df['INC_M1'] = df['BASE_CAL']/df['BCSATI_M1']\n",
    "    return df\n",
    "\n",
    "#Función para corregir atipicos que no sean sueldos con el SBU\n",
    "SBU = pd.DataFrame( { 'ANIO':[2002, 2003, 2004, 2005, 2006, 2007, 2008, 2009, 2010, 2011, 2012, 2013, 2014, 2015, 2016, 2017, 2018, 2019, 2020,\n",
    "                              2021, 2022, 2023],\n",
    "                      'sbu':[105, 122, 136, 150, 160, 170, 200, 218, 240, 264, 292, 318, 340, 354, 366, 375, 386, 394, 400, \n",
    "                             400, 425, 450]})\n",
    "def sbu_ajuste_m1(data, SBU):\n",
    "    df = data.copy()\n",
    "    aux = SBU.groupby('ANIO')['sbu'].unique().astype(str).str.strip('[ ]').str.replace(\"'\", '')\n",
    "    df['SBU'] = df['ANIO'].map( aux )\n",
    "    df['CO_ATI_M1'] = df['ATI_M1']\n",
    "    df.loc[(df['ATI_M1'] == 1) & (df['SALARIO'] == df['SBU']), 'CO_ATI_M1'] = 0  #CAT1_M1 es correción de atipicos metodo 1\n",
    "    \n",
    "#     #Corrección de atipicos\n",
    "#     grupo = df[ (df['SEL_GRUPO'] == 1 ) & (df['CATI_M1'] != 1)].copy()\n",
    "#     df_prom = grupo.groupby('CEDULA_COD')['SALARIO'].mean()\n",
    "#     df['CO_BCSATI_M1'] = df['CEDULA_COD'].map( df_prom )\n",
    "    \n",
    "#     grupo = df[df['SEL_GRUPO'] == 1].copy()\n",
    "#     n_ati = ( grupo.groupby('CEDULA_COD')['CATI_M1'].sum()/grupo.groupby('CEDULA_COD')['CATI_M1'].count() ) * 100\n",
    "#     df['CO_PATI_M1'] = df['CEDULA_COD'].map( n_ati )\n",
    "    return df\n",
    "\n",
    "#Función para calcular la base de calculo sin los valores atipicos que son SBU dentro de los grupos seleccionados\n",
    "def base_cal_sin_ati2(df):\n",
    "    grupo = df[ (df['SEL_GRUPO'] == 1 ) & (df['ATI2'] != 1)].copy()\n",
    "    df_prom = grupo.groupby('CEDULA_COD')['SALARIO'].mean()\n",
    "    df['BASE_CAL_SIN_ATI2'] = df['CEDULA_COD'].map( df_prom )\n",
    "    \n",
    "    grupo = df[df['SEL_GRUPO'] == 1].copy()\n",
    "    n_ati = ( grupo.groupby('CEDULA_COD')['ATI2'].sum()/grupo.groupby('CEDULA_COD')['ATI2'].count() ) * 100\n",
    "    df['POR_ATI2'] = df['CEDULA_COD'].map( n_ati )\n",
    "    return df\n"
   ]
  },
  {
   "cell_type": "code",
   "execution_count": 194,
   "id": "0e18373e",
   "metadata": {},
   "outputs": [],
   "source": [
    "#Aplicación de funciones por parte\n",
    "n_grupo = 12 # Grupos de 12 porque corresponde a los 12 meses consecutivos\n",
    "df = asignar_grupo( pri, n_grupo )\n",
    "df1 = valores_unicos_grupos( df )\n",
    "top = 5 # 5 Mejores años de sueldo\n",
    "df2 = sel_top_salarios( df1, top )\n",
    "df = sel_grupo(df, df2 )\n",
    "df = fec_sel_grupo( df )\n",
    "df = base_cal(df)\n",
    "inferior=False\n",
    "df = ati_base_cal_m1( df, inferior)\n",
    "df = base_cal_sin_ati_m1( df )\n",
    "\n",
    "# n_grupo = 12 # Grupos de 12\n",
    "# df = asignar_grupo(pri, n_grupo )\n",
    "# df1 = valores_unicos_grupos(df)\n",
    "# top = 5 # 5 Mejores años de sueldo\n",
    "# df2 = sel_top_salarios(df1,top)\n",
    "# df3 = sel_grupo(df, df2 )\n",
    "# df3 = fec_sel_grupo( df3 )\n",
    "# df4 = base_cal(df3)\n",
    "# df5 = ati_base_cal(df4)\n",
    "# df6 = base_cal_sin_ati(df5)\n",
    "# df7 = sbu_ajuste(df6, SBU)\n",
    "# df8 = base_cal_sin_ati2(df7)"
   ]
  },
  {
   "cell_type": "code",
   "execution_count": 221,
   "id": "e7a8779b",
   "metadata": {},
   "outputs": [],
   "source": [
    "df4 = sbu_ajuste_m1(df, SBU)\n"
   ]
  },
  {
   "cell_type": "code",
   "execution_count": 222,
   "id": "93d26d2a",
   "metadata": {},
   "outputs": [
    {
     "data": {
      "text/html": [
       "<div>\n",
       "<style scoped>\n",
       "    .dataframe tbody tr th:only-of-type {\n",
       "        vertical-align: middle;\n",
       "    }\n",
       "\n",
       "    .dataframe tbody tr th {\n",
       "        vertical-align: top;\n",
       "    }\n",
       "\n",
       "    .dataframe thead th {\n",
       "        text-align: right;\n",
       "    }\n",
       "</style>\n",
       "<table border=\"1\" class=\"dataframe\">\n",
       "  <thead>\n",
       "    <tr style=\"text-align: right;\">\n",
       "      <th></th>\n",
       "      <th>CEDULA_COD</th>\n",
       "      <th>ANIO</th>\n",
       "      <th>MES</th>\n",
       "      <th>SALARIO</th>\n",
       "      <th>PORCENTAJE_AP</th>\n",
       "      <th>SECTOR</th>\n",
       "      <th>GRUPO</th>\n",
       "      <th>SAL_PROM_GRUPO</th>\n",
       "      <th>SEL_GRUPO</th>\n",
       "      <th>FEC_INI</th>\n",
       "      <th>FEC_FIN</th>\n",
       "      <th>BASE_CAL</th>\n",
       "      <th>ATI_M1</th>\n",
       "      <th>PATI_M1</th>\n",
       "      <th>SBU</th>\n",
       "      <th>CATI_M1</th>\n",
       "      <th>CO_BCSATI_M1</th>\n",
       "      <th>CO_PATI_M1</th>\n",
       "    </tr>\n",
       "  </thead>\n",
       "  <tbody>\n",
       "    <tr>\n",
       "      <th>1089807</th>\n",
       "      <td>115</td>\n",
       "      <td>2006</td>\n",
       "      <td>4</td>\n",
       "      <td>11.67</td>\n",
       "      <td>20.5</td>\n",
       "      <td>PRIVADO</td>\n",
       "      <td>1</td>\n",
       "      <td>312.407778</td>\n",
       "      <td>1</td>\n",
       "      <td>2006-4</td>\n",
       "      <td>2005-8</td>\n",
       "      <td>312.407778</td>\n",
       "      <td>0</td>\n",
       "      <td>0.0</td>\n",
       "      <td>160</td>\n",
       "      <td>0</td>\n",
       "      <td>312.407778</td>\n",
       "      <td>0.0</td>\n",
       "    </tr>\n",
       "    <tr>\n",
       "      <th>15464706</th>\n",
       "      <td>115</td>\n",
       "      <td>2006</td>\n",
       "      <td>3</td>\n",
       "      <td>350.00</td>\n",
       "      <td>20.5</td>\n",
       "      <td>PRIVADO</td>\n",
       "      <td>1</td>\n",
       "      <td>312.407778</td>\n",
       "      <td>1</td>\n",
       "      <td>2006-4</td>\n",
       "      <td>2005-8</td>\n",
       "      <td>312.407778</td>\n",
       "      <td>0</td>\n",
       "      <td>0.0</td>\n",
       "      <td>160</td>\n",
       "      <td>0</td>\n",
       "      <td>312.407778</td>\n",
       "      <td>0.0</td>\n",
       "    </tr>\n",
       "    <tr>\n",
       "      <th>6217219</th>\n",
       "      <td>115</td>\n",
       "      <td>2006</td>\n",
       "      <td>2</td>\n",
       "      <td>350.00</td>\n",
       "      <td>20.5</td>\n",
       "      <td>PRIVADO</td>\n",
       "      <td>1</td>\n",
       "      <td>312.407778</td>\n",
       "      <td>1</td>\n",
       "      <td>2006-4</td>\n",
       "      <td>2005-8</td>\n",
       "      <td>312.407778</td>\n",
       "      <td>0</td>\n",
       "      <td>0.0</td>\n",
       "      <td>160</td>\n",
       "      <td>0</td>\n",
       "      <td>312.407778</td>\n",
       "      <td>0.0</td>\n",
       "    </tr>\n",
       "    <tr>\n",
       "      <th>28832615</th>\n",
       "      <td>115</td>\n",
       "      <td>2006</td>\n",
       "      <td>1</td>\n",
       "      <td>350.00</td>\n",
       "      <td>20.5</td>\n",
       "      <td>PRIVADO</td>\n",
       "      <td>1</td>\n",
       "      <td>312.407778</td>\n",
       "      <td>1</td>\n",
       "      <td>2006-4</td>\n",
       "      <td>2005-8</td>\n",
       "      <td>312.407778</td>\n",
       "      <td>0</td>\n",
       "      <td>0.0</td>\n",
       "      <td>160</td>\n",
       "      <td>0</td>\n",
       "      <td>312.407778</td>\n",
       "      <td>0.0</td>\n",
       "    </tr>\n",
       "    <tr>\n",
       "      <th>29577534</th>\n",
       "      <td>115</td>\n",
       "      <td>2005</td>\n",
       "      <td>12</td>\n",
       "      <td>350.00</td>\n",
       "      <td>20.5</td>\n",
       "      <td>PRIVADO</td>\n",
       "      <td>1</td>\n",
       "      <td>312.407778</td>\n",
       "      <td>1</td>\n",
       "      <td>2006-4</td>\n",
       "      <td>2005-8</td>\n",
       "      <td>312.407778</td>\n",
       "      <td>0</td>\n",
       "      <td>0.0</td>\n",
       "      <td>150</td>\n",
       "      <td>0</td>\n",
       "      <td>312.407778</td>\n",
       "      <td>0.0</td>\n",
       "    </tr>\n",
       "    <tr>\n",
       "      <th>...</th>\n",
       "      <td>...</td>\n",
       "      <td>...</td>\n",
       "      <td>...</td>\n",
       "      <td>...</td>\n",
       "      <td>...</td>\n",
       "      <td>...</td>\n",
       "      <td>...</td>\n",
       "      <td>...</td>\n",
       "      <td>...</td>\n",
       "      <td>...</td>\n",
       "      <td>...</td>\n",
       "      <td>...</td>\n",
       "      <td>...</td>\n",
       "      <td>...</td>\n",
       "      <td>...</td>\n",
       "      <td>...</td>\n",
       "      <td>...</td>\n",
       "      <td>...</td>\n",
       "    </tr>\n",
       "    <tr>\n",
       "      <th>55204229</th>\n",
       "      <td>23652869</td>\n",
       "      <td>1990</td>\n",
       "      <td>8</td>\n",
       "      <td>56.65</td>\n",
       "      <td>20.5</td>\n",
       "      <td>PRIVADO</td>\n",
       "      <td>5</td>\n",
       "      <td>56.650000</td>\n",
       "      <td>1</td>\n",
       "      <td>1995-2</td>\n",
       "      <td>1990-4</td>\n",
       "      <td>56.650000</td>\n",
       "      <td>0</td>\n",
       "      <td>0.0</td>\n",
       "      <td>NaN</td>\n",
       "      <td>0</td>\n",
       "      <td>56.650000</td>\n",
       "      <td>0.0</td>\n",
       "    </tr>\n",
       "    <tr>\n",
       "      <th>58546388</th>\n",
       "      <td>23652869</td>\n",
       "      <td>1990</td>\n",
       "      <td>7</td>\n",
       "      <td>56.65</td>\n",
       "      <td>20.5</td>\n",
       "      <td>PRIVADO</td>\n",
       "      <td>5</td>\n",
       "      <td>56.650000</td>\n",
       "      <td>1</td>\n",
       "      <td>1995-2</td>\n",
       "      <td>1990-4</td>\n",
       "      <td>56.650000</td>\n",
       "      <td>0</td>\n",
       "      <td>0.0</td>\n",
       "      <td>NaN</td>\n",
       "      <td>0</td>\n",
       "      <td>56.650000</td>\n",
       "      <td>0.0</td>\n",
       "    </tr>\n",
       "    <tr>\n",
       "      <th>47939262</th>\n",
       "      <td>23652869</td>\n",
       "      <td>1990</td>\n",
       "      <td>6</td>\n",
       "      <td>56.65</td>\n",
       "      <td>20.5</td>\n",
       "      <td>PRIVADO</td>\n",
       "      <td>5</td>\n",
       "      <td>56.650000</td>\n",
       "      <td>1</td>\n",
       "      <td>1995-2</td>\n",
       "      <td>1990-4</td>\n",
       "      <td>56.650000</td>\n",
       "      <td>0</td>\n",
       "      <td>0.0</td>\n",
       "      <td>NaN</td>\n",
       "      <td>0</td>\n",
       "      <td>56.650000</td>\n",
       "      <td>0.0</td>\n",
       "    </tr>\n",
       "    <tr>\n",
       "      <th>956289</th>\n",
       "      <td>23652869</td>\n",
       "      <td>1990</td>\n",
       "      <td>5</td>\n",
       "      <td>56.65</td>\n",
       "      <td>20.5</td>\n",
       "      <td>PRIVADO</td>\n",
       "      <td>5</td>\n",
       "      <td>56.650000</td>\n",
       "      <td>1</td>\n",
       "      <td>1995-2</td>\n",
       "      <td>1990-4</td>\n",
       "      <td>56.650000</td>\n",
       "      <td>0</td>\n",
       "      <td>0.0</td>\n",
       "      <td>NaN</td>\n",
       "      <td>0</td>\n",
       "      <td>56.650000</td>\n",
       "      <td>0.0</td>\n",
       "    </tr>\n",
       "    <tr>\n",
       "      <th>38372702</th>\n",
       "      <td>23652869</td>\n",
       "      <td>1990</td>\n",
       "      <td>4</td>\n",
       "      <td>56.65</td>\n",
       "      <td>20.5</td>\n",
       "      <td>PRIVADO</td>\n",
       "      <td>5</td>\n",
       "      <td>56.650000</td>\n",
       "      <td>1</td>\n",
       "      <td>1995-2</td>\n",
       "      <td>1990-4</td>\n",
       "      <td>56.650000</td>\n",
       "      <td>0</td>\n",
       "      <td>0.0</td>\n",
       "      <td>NaN</td>\n",
       "      <td>0</td>\n",
       "      <td>56.650000</td>\n",
       "      <td>0.0</td>\n",
       "    </tr>\n",
       "  </tbody>\n",
       "</table>\n",
       "<p>19758517 rows × 18 columns</p>\n",
       "</div>"
      ],
      "text/plain": [
       "          CEDULA_COD  ANIO  MES  SALARIO  PORCENTAJE_AP   SECTOR  GRUPO  \\\n",
       "1089807          115  2006    4    11.67           20.5  PRIVADO      1   \n",
       "15464706         115  2006    3   350.00           20.5  PRIVADO      1   \n",
       "6217219          115  2006    2   350.00           20.5  PRIVADO      1   \n",
       "28832615         115  2006    1   350.00           20.5  PRIVADO      1   \n",
       "29577534         115  2005   12   350.00           20.5  PRIVADO      1   \n",
       "...              ...   ...  ...      ...            ...      ...    ...   \n",
       "55204229    23652869  1990    8    56.65           20.5  PRIVADO      5   \n",
       "58546388    23652869  1990    7    56.65           20.5  PRIVADO      5   \n",
       "47939262    23652869  1990    6    56.65           20.5  PRIVADO      5   \n",
       "956289      23652869  1990    5    56.65           20.5  PRIVADO      5   \n",
       "38372702    23652869  1990    4    56.65           20.5  PRIVADO      5   \n",
       "\n",
       "          SAL_PROM_GRUPO  SEL_GRUPO FEC_INI FEC_FIN    BASE_CAL  ATI_M1  \\\n",
       "1089807       312.407778          1  2006-4  2005-8  312.407778       0   \n",
       "15464706      312.407778          1  2006-4  2005-8  312.407778       0   \n",
       "6217219       312.407778          1  2006-4  2005-8  312.407778       0   \n",
       "28832615      312.407778          1  2006-4  2005-8  312.407778       0   \n",
       "29577534      312.407778          1  2006-4  2005-8  312.407778       0   \n",
       "...                  ...        ...     ...     ...         ...     ...   \n",
       "55204229       56.650000          1  1995-2  1990-4   56.650000       0   \n",
       "58546388       56.650000          1  1995-2  1990-4   56.650000       0   \n",
       "47939262       56.650000          1  1995-2  1990-4   56.650000       0   \n",
       "956289         56.650000          1  1995-2  1990-4   56.650000       0   \n",
       "38372702       56.650000          1  1995-2  1990-4   56.650000       0   \n",
       "\n",
       "          PATI_M1  SBU  CATI_M1  CO_BCSATI_M1  CO_PATI_M1  \n",
       "1089807       0.0  160        0    312.407778         0.0  \n",
       "15464706      0.0  160        0    312.407778         0.0  \n",
       "6217219       0.0  160        0    312.407778         0.0  \n",
       "28832615      0.0  160        0    312.407778         0.0  \n",
       "29577534      0.0  150        0    312.407778         0.0  \n",
       "...           ...  ...      ...           ...         ...  \n",
       "55204229      0.0  NaN        0     56.650000         0.0  \n",
       "58546388      0.0  NaN        0     56.650000         0.0  \n",
       "47939262      0.0  NaN        0     56.650000         0.0  \n",
       "956289        0.0  NaN        0     56.650000         0.0  \n",
       "38372702      0.0  NaN        0     56.650000         0.0  \n",
       "\n",
       "[19758517 rows x 18 columns]"
      ]
     },
     "execution_count": 222,
     "metadata": {},
     "output_type": "execute_result"
    }
   ],
   "source": [
    "#Verificación de la utilidad de las funciones\n",
    "#asignar_grupo\n",
    "# aux=df[df['CEDULA_COD']==100018].pivot_table(index=('ANIO'), columns=('MES'), values=('SALARIO'),aggfunc=lambda x: x).sort_index(ascending=False)\n",
    "# ordered_columns = aux.columns.sort_values(ascending=False)\n",
    "# aux = aux[ordered_columns]\n",
    "# aux  #--promedio del grupoo 2 OK (436.5533333333333)\n",
    "#------------------------------------------------------------------------------------------------------\n",
    "#valores_unicos_grupos\n",
    "# df1[df1['CEDULA_COD']==100018] si estan ordenados desde el mayor al menor\n",
    "#------------------------------------------------------------------------------------------------------\n",
    "#sel_top_salarios\n",
    "# df2[df2['CEDULA_COD']==100018] selecciona los 5 grupos de mejor sueldo\n",
    "#------------------------------------------------------------------------------------------------------\n",
    "#sel_grupo\n",
    "# aux=df[df['CEDULA_COD']==271].pivot_table(index=('ANIO'), columns=('MES'), values=('SALARIO'),aggfunc=lambda x: x).sort_index(ascending=False)\n",
    "# ordered_columns = aux.columns.sort_values(ascending=False)\n",
    "# aux = aux[ordered_columns]\n",
    "# aux\n",
    "# df1[df1['CEDULA_COD']==271] \n",
    "# df2[df2['CEDULA_COD']==271]\n",
    "# df[df['CEDULA_COD']== 271].pivot_table(index=('GRUPO'), values=('SEL_GRUPO'))\n",
    "# df[ (df['CEDULA_COD']==271) & (df['SEL_GRUPO']==1)].head(60)  #--Se verifica que si selecciona los grupos correctos\n",
    "#-------------------------------------------------------------------------------------------------------\n",
    "# fec_sel_grupo\n",
    "# df[ (df['CEDULA_COD']==100018) & (df['SEL_GRUPO']==1)] #--Se verifica que funciona bien\n",
    "#-------------------------------------------------------------------------------------------------------\n",
    "# base_cal\n",
    "# df[(df['CEDULA_COD']==271) & (df['SEL_GRUPO']==1)]['SALARIO'].mean()  #406.14783333333315 / 4362.616666666671\n",
    "# df[(df['CEDULA_COD']==271) & (df['SEL_GRUPO']==1)]  #--Se verifica que si saca el promedio de los mejores sueldos\n",
    "#-------------------------------------------------------------------------------------------------------\n",
    "# ati_base_cal_m1\n",
    "# df5[(df5['CEDULA_COD']==271) & (df['SEL_GRUPO']==1)]['SALARIO'].quantile(0.25) # 4275.95\n",
    "# df5[(df5['CEDULA_COD']==271) & (df['SEL_GRUPO']==1)]['SALARIO'].quantile(0.75) # 4275.95\n",
    "# IQR = 4275.95-4275.95 = 0 # SE verifica que si sale 0\n",
    "# LI = Q1 - 1.5 * IQR / 0\n",
    "# LS = Q3 + 1.5 * IQR / 0\n",
    "# df5[(df5['CEDULA_COD']==100018) & (df['SEL_GRUPO']==1)]['SALARIO'].quantile(0.25) # 381.0\n",
    "# df5[(df5['CEDULA_COD']==100018) & (df['SEL_GRUPO']==1)]['SALARIO'].quantile(0.75) # 427.3475\n",
    "# IQR = 427.3475-381.0 # SE verifica que si sale 46.347500000000025\n",
    "# LI = Q1 - 1.5 * IQR / 311.47875\n",
    "# LS = Q3 + 1.5 * IQR / 450.52125  #Se verifica que los valores son atipicos\n",
    "# ----------------------------------------------------------------------------------------------------------\n",
    "# base_cal_sin_ati_m1\n",
    "# df[ df['INC_M1']>1.50]\n",
    "# df[df['CEDULA_COD']==1883].head(60) #Se verifica que si cambia\n",
    "#-----------------------------------------------------------------------------------------------------------\n",
    "# sbu_ajuste_m1\n",
    "#df4[(df4['SEL_GRUPO']==1) & (df4['ATI_M1']==1) & (df4['CATI_M1']==0)]\n",
    "df4"
   ]
  },
  {
   "cell_type": "code",
   "execution_count": 198,
   "id": "c64c3642",
   "metadata": {},
   "outputs": [
    {
     "data": {
      "text/plain": [
       "1.0103565595059842"
      ]
     },
     "execution_count": 198,
     "metadata": {},
     "output_type": "execute_result"
    }
   ],
   "source": [
    "406.147833/401.984655"
   ]
  },
  {
   "cell_type": "code",
   "execution_count": 23,
   "id": "3d8d509c",
   "metadata": {},
   "outputs": [
    {
     "ename": "KeyError",
     "evalue": "\"['ANIO_MAX', 'MES_MAX', 'ANIO_MIN', 'MES_MIN'] not found in axis\"",
     "output_type": "error",
     "traceback": [
      "\u001b[1;31m---------------------------------------------------------------------------\u001b[0m",
      "\u001b[1;31mKeyError\u001b[0m                                  Traceback (most recent call last)",
      "\u001b[1;32m~\\AppData\\Local\\Temp\\ipykernel_14072\\3578963285.py\u001b[0m in \u001b[0;36m<module>\u001b[1;34m\u001b[0m\n\u001b[0;32m      5\u001b[0m \u001b[0mdf2\u001b[0m \u001b[1;33m=\u001b[0m \u001b[0msel_top_salarios\u001b[0m\u001b[1;33m(\u001b[0m\u001b[0mdf1\u001b[0m\u001b[1;33m,\u001b[0m\u001b[0mtop\u001b[0m\u001b[1;33m)\u001b[0m\u001b[1;33m\u001b[0m\u001b[1;33m\u001b[0m\u001b[0m\n\u001b[0;32m      6\u001b[0m \u001b[0mdf3\u001b[0m \u001b[1;33m=\u001b[0m \u001b[0msel_grupo\u001b[0m\u001b[1;33m(\u001b[0m\u001b[0mdf\u001b[0m\u001b[1;33m,\u001b[0m \u001b[0mdf2\u001b[0m \u001b[1;33m)\u001b[0m\u001b[1;33m\u001b[0m\u001b[1;33m\u001b[0m\u001b[0m\n\u001b[1;32m----> 7\u001b[1;33m \u001b[0mdf3\u001b[0m \u001b[1;33m=\u001b[0m \u001b[0mfec_sel_grupo\u001b[0m\u001b[1;33m(\u001b[0m \u001b[0mdf3\u001b[0m \u001b[1;33m)\u001b[0m\u001b[1;33m\u001b[0m\u001b[1;33m\u001b[0m\u001b[0m\n\u001b[0m\u001b[0;32m      8\u001b[0m \u001b[1;31m# df4 = base_cal(df3)\u001b[0m\u001b[1;33m\u001b[0m\u001b[1;33m\u001b[0m\u001b[0m\n\u001b[0;32m      9\u001b[0m \u001b[1;31m# df5 = ati_base_cal(df4)\u001b[0m\u001b[1;33m\u001b[0m\u001b[1;33m\u001b[0m\u001b[0m\n",
      "\u001b[1;32m~\\AppData\\Local\\Temp\\ipykernel_14072\\29097008.py\u001b[0m in \u001b[0;36mfec_sel_grupo\u001b[1;34m(df)\u001b[0m\n\u001b[0;32m     42\u001b[0m     \u001b[0mdf\u001b[0m\u001b[1;33m[\u001b[0m\u001b[1;34m'FEC_FIN'\u001b[0m\u001b[1;33m]\u001b[0m \u001b[1;33m=\u001b[0m \u001b[0mdf\u001b[0m\u001b[1;33m[\u001b[0m\u001b[1;34m'CEDULA_COD'\u001b[0m\u001b[1;33m]\u001b[0m\u001b[1;33m.\u001b[0m\u001b[0mmap\u001b[0m\u001b[1;33m(\u001b[0m\u001b[0mgrupo\u001b[0m\u001b[1;33m)\u001b[0m\u001b[1;33m\u001b[0m\u001b[1;33m\u001b[0m\u001b[0m\n\u001b[0;32m     43\u001b[0m \u001b[1;33m\u001b[0m\u001b[0m\n\u001b[1;32m---> 44\u001b[1;33m     \u001b[0mdf\u001b[0m \u001b[1;33m=\u001b[0m \u001b[0mdf\u001b[0m\u001b[1;33m.\u001b[0m\u001b[0mdrop\u001b[0m\u001b[1;33m(\u001b[0m\u001b[1;33m[\u001b[0m\u001b[1;34m'ANIO_MAX'\u001b[0m\u001b[1;33m,\u001b[0m \u001b[1;34m'MES_MAX'\u001b[0m\u001b[1;33m,\u001b[0m \u001b[1;34m'ANIO_MIN'\u001b[0m\u001b[1;33m,\u001b[0m \u001b[1;34m'MES_MIN'\u001b[0m\u001b[1;33m]\u001b[0m\u001b[1;33m,\u001b[0m \u001b[0maxis\u001b[0m\u001b[1;33m=\u001b[0m\u001b[1;36m1\u001b[0m\u001b[1;33m)\u001b[0m\u001b[1;33m\u001b[0m\u001b[1;33m\u001b[0m\u001b[0m\n\u001b[0m\u001b[0;32m     45\u001b[0m     \u001b[1;32mreturn\u001b[0m \u001b[0mdf\u001b[0m\u001b[1;33m\u001b[0m\u001b[1;33m\u001b[0m\u001b[0m\n\u001b[0;32m     46\u001b[0m \u001b[1;33m\u001b[0m\u001b[0m\n",
      "\u001b[1;32mC:\\ProgramData\\Anaconda3\\lib\\site-packages\\pandas\\util\\_decorators.py\u001b[0m in \u001b[0;36mwrapper\u001b[1;34m(*args, **kwargs)\u001b[0m\n\u001b[0;32m    309\u001b[0m                     \u001b[0mstacklevel\u001b[0m\u001b[1;33m=\u001b[0m\u001b[0mstacklevel\u001b[0m\u001b[1;33m,\u001b[0m\u001b[1;33m\u001b[0m\u001b[1;33m\u001b[0m\u001b[0m\n\u001b[0;32m    310\u001b[0m                 )\n\u001b[1;32m--> 311\u001b[1;33m             \u001b[1;32mreturn\u001b[0m \u001b[0mfunc\u001b[0m\u001b[1;33m(\u001b[0m\u001b[1;33m*\u001b[0m\u001b[0margs\u001b[0m\u001b[1;33m,\u001b[0m \u001b[1;33m**\u001b[0m\u001b[0mkwargs\u001b[0m\u001b[1;33m)\u001b[0m\u001b[1;33m\u001b[0m\u001b[1;33m\u001b[0m\u001b[0m\n\u001b[0m\u001b[0;32m    312\u001b[0m \u001b[1;33m\u001b[0m\u001b[0m\n\u001b[0;32m    313\u001b[0m         \u001b[1;32mreturn\u001b[0m \u001b[0mwrapper\u001b[0m\u001b[1;33m\u001b[0m\u001b[1;33m\u001b[0m\u001b[0m\n",
      "\u001b[1;32mC:\\ProgramData\\Anaconda3\\lib\\site-packages\\pandas\\core\\frame.py\u001b[0m in \u001b[0;36mdrop\u001b[1;34m(self, labels, axis, index, columns, level, inplace, errors)\u001b[0m\n\u001b[0;32m   4955\u001b[0m                 \u001b[0mweight\u001b[0m  \u001b[1;36m1.0\u001b[0m     \u001b[1;36m0.8\u001b[0m\u001b[1;33m\u001b[0m\u001b[1;33m\u001b[0m\u001b[0m\n\u001b[0;32m   4956\u001b[0m         \"\"\"\n\u001b[1;32m-> 4957\u001b[1;33m         return super().drop(\n\u001b[0m\u001b[0;32m   4958\u001b[0m             \u001b[0mlabels\u001b[0m\u001b[1;33m=\u001b[0m\u001b[0mlabels\u001b[0m\u001b[1;33m,\u001b[0m\u001b[1;33m\u001b[0m\u001b[1;33m\u001b[0m\u001b[0m\n\u001b[0;32m   4959\u001b[0m             \u001b[0maxis\u001b[0m\u001b[1;33m=\u001b[0m\u001b[0maxis\u001b[0m\u001b[1;33m,\u001b[0m\u001b[1;33m\u001b[0m\u001b[1;33m\u001b[0m\u001b[0m\n",
      "\u001b[1;32mC:\\ProgramData\\Anaconda3\\lib\\site-packages\\pandas\\core\\generic.py\u001b[0m in \u001b[0;36mdrop\u001b[1;34m(self, labels, axis, index, columns, level, inplace, errors)\u001b[0m\n\u001b[0;32m   4265\u001b[0m         \u001b[1;32mfor\u001b[0m \u001b[0maxis\u001b[0m\u001b[1;33m,\u001b[0m \u001b[0mlabels\u001b[0m \u001b[1;32min\u001b[0m \u001b[0maxes\u001b[0m\u001b[1;33m.\u001b[0m\u001b[0mitems\u001b[0m\u001b[1;33m(\u001b[0m\u001b[1;33m)\u001b[0m\u001b[1;33m:\u001b[0m\u001b[1;33m\u001b[0m\u001b[1;33m\u001b[0m\u001b[0m\n\u001b[0;32m   4266\u001b[0m             \u001b[1;32mif\u001b[0m \u001b[0mlabels\u001b[0m \u001b[1;32mis\u001b[0m \u001b[1;32mnot\u001b[0m \u001b[1;32mNone\u001b[0m\u001b[1;33m:\u001b[0m\u001b[1;33m\u001b[0m\u001b[1;33m\u001b[0m\u001b[0m\n\u001b[1;32m-> 4267\u001b[1;33m                 \u001b[0mobj\u001b[0m \u001b[1;33m=\u001b[0m \u001b[0mobj\u001b[0m\u001b[1;33m.\u001b[0m\u001b[0m_drop_axis\u001b[0m\u001b[1;33m(\u001b[0m\u001b[0mlabels\u001b[0m\u001b[1;33m,\u001b[0m \u001b[0maxis\u001b[0m\u001b[1;33m,\u001b[0m \u001b[0mlevel\u001b[0m\u001b[1;33m=\u001b[0m\u001b[0mlevel\u001b[0m\u001b[1;33m,\u001b[0m \u001b[0merrors\u001b[0m\u001b[1;33m=\u001b[0m\u001b[0merrors\u001b[0m\u001b[1;33m)\u001b[0m\u001b[1;33m\u001b[0m\u001b[1;33m\u001b[0m\u001b[0m\n\u001b[0m\u001b[0;32m   4268\u001b[0m \u001b[1;33m\u001b[0m\u001b[0m\n\u001b[0;32m   4269\u001b[0m         \u001b[1;32mif\u001b[0m \u001b[0minplace\u001b[0m\u001b[1;33m:\u001b[0m\u001b[1;33m\u001b[0m\u001b[1;33m\u001b[0m\u001b[0m\n",
      "\u001b[1;32mC:\\ProgramData\\Anaconda3\\lib\\site-packages\\pandas\\core\\generic.py\u001b[0m in \u001b[0;36m_drop_axis\u001b[1;34m(self, labels, axis, level, errors, consolidate, only_slice)\u001b[0m\n\u001b[0;32m   4309\u001b[0m                 \u001b[0mnew_axis\u001b[0m \u001b[1;33m=\u001b[0m \u001b[0maxis\u001b[0m\u001b[1;33m.\u001b[0m\u001b[0mdrop\u001b[0m\u001b[1;33m(\u001b[0m\u001b[0mlabels\u001b[0m\u001b[1;33m,\u001b[0m \u001b[0mlevel\u001b[0m\u001b[1;33m=\u001b[0m\u001b[0mlevel\u001b[0m\u001b[1;33m,\u001b[0m \u001b[0merrors\u001b[0m\u001b[1;33m=\u001b[0m\u001b[0merrors\u001b[0m\u001b[1;33m)\u001b[0m\u001b[1;33m\u001b[0m\u001b[1;33m\u001b[0m\u001b[0m\n\u001b[0;32m   4310\u001b[0m             \u001b[1;32melse\u001b[0m\u001b[1;33m:\u001b[0m\u001b[1;33m\u001b[0m\u001b[1;33m\u001b[0m\u001b[0m\n\u001b[1;32m-> 4311\u001b[1;33m                 \u001b[0mnew_axis\u001b[0m \u001b[1;33m=\u001b[0m \u001b[0maxis\u001b[0m\u001b[1;33m.\u001b[0m\u001b[0mdrop\u001b[0m\u001b[1;33m(\u001b[0m\u001b[0mlabels\u001b[0m\u001b[1;33m,\u001b[0m \u001b[0merrors\u001b[0m\u001b[1;33m=\u001b[0m\u001b[0merrors\u001b[0m\u001b[1;33m)\u001b[0m\u001b[1;33m\u001b[0m\u001b[1;33m\u001b[0m\u001b[0m\n\u001b[0m\u001b[0;32m   4312\u001b[0m             \u001b[0mindexer\u001b[0m \u001b[1;33m=\u001b[0m \u001b[0maxis\u001b[0m\u001b[1;33m.\u001b[0m\u001b[0mget_indexer\u001b[0m\u001b[1;33m(\u001b[0m\u001b[0mnew_axis\u001b[0m\u001b[1;33m)\u001b[0m\u001b[1;33m\u001b[0m\u001b[1;33m\u001b[0m\u001b[0m\n\u001b[0;32m   4313\u001b[0m \u001b[1;33m\u001b[0m\u001b[0m\n",
      "\u001b[1;32mC:\\ProgramData\\Anaconda3\\lib\\site-packages\\pandas\\core\\indexes\\base.py\u001b[0m in \u001b[0;36mdrop\u001b[1;34m(self, labels, errors)\u001b[0m\n\u001b[0;32m   6659\u001b[0m         \u001b[1;32mif\u001b[0m \u001b[0mmask\u001b[0m\u001b[1;33m.\u001b[0m\u001b[0many\u001b[0m\u001b[1;33m(\u001b[0m\u001b[1;33m)\u001b[0m\u001b[1;33m:\u001b[0m\u001b[1;33m\u001b[0m\u001b[1;33m\u001b[0m\u001b[0m\n\u001b[0;32m   6660\u001b[0m             \u001b[1;32mif\u001b[0m \u001b[0merrors\u001b[0m \u001b[1;33m!=\u001b[0m \u001b[1;34m\"ignore\"\u001b[0m\u001b[1;33m:\u001b[0m\u001b[1;33m\u001b[0m\u001b[1;33m\u001b[0m\u001b[0m\n\u001b[1;32m-> 6661\u001b[1;33m                 \u001b[1;32mraise\u001b[0m \u001b[0mKeyError\u001b[0m\u001b[1;33m(\u001b[0m\u001b[1;34mf\"{list(labels[mask])} not found in axis\"\u001b[0m\u001b[1;33m)\u001b[0m\u001b[1;33m\u001b[0m\u001b[1;33m\u001b[0m\u001b[0m\n\u001b[0m\u001b[0;32m   6662\u001b[0m             \u001b[0mindexer\u001b[0m \u001b[1;33m=\u001b[0m \u001b[0mindexer\u001b[0m\u001b[1;33m[\u001b[0m\u001b[1;33m~\u001b[0m\u001b[0mmask\u001b[0m\u001b[1;33m]\u001b[0m\u001b[1;33m\u001b[0m\u001b[1;33m\u001b[0m\u001b[0m\n\u001b[0;32m   6663\u001b[0m         \u001b[1;32mreturn\u001b[0m \u001b[0mself\u001b[0m\u001b[1;33m.\u001b[0m\u001b[0mdelete\u001b[0m\u001b[1;33m(\u001b[0m\u001b[0mindexer\u001b[0m\u001b[1;33m)\u001b[0m\u001b[1;33m\u001b[0m\u001b[1;33m\u001b[0m\u001b[0m\n",
      "\u001b[1;31mKeyError\u001b[0m: \"['ANIO_MAX', 'MES_MAX', 'ANIO_MIN', 'MES_MIN'] not found in axis\""
     ]
    }
   ],
   "source": [
    "n_grupo = 12 # Grupos de 12\n",
    "df = asignar_grupo(pri, n_grupo )\n",
    "df1 = valores_unicos_grupos(df)\n",
    "top = 5 # 5 Mejores años de sueldo\n",
    "df2 = sel_top_salarios(df1,top)\n",
    "df3 = sel_grupo(df, df2 )\n",
    "df3 = fec_sel_grupo( df3 )\n",
    "# df4 = base_cal(df3)\n",
    "# df5 = ati_base_cal(df4)\n",
    "# df6 = base_cal_sin_ati(df5)\n",
    "# df7 = sbu_ajuste(df6, SBU)\n",
    "# df8 = base_cal_sin_ati2(df7)"
   ]
  },
  {
   "cell_type": "code",
   "execution_count": null,
   "id": "60886170",
   "metadata": {},
   "outputs": [],
   "source": [
    "#df3 = df3.drop(['ANIO_MAX', 'ANIO_MIN', 'MES_MAX', 'MES_MIN'], axis=1)\n",
    "grupo = df[df['SEL_GRUPO'] == 1].copy()\n",
    "grupo['ANIO_MAX'] = grupo['CEDULA_COD'].map( grupo.groupby('CEDULA_COD')['ANIO'].max() )\n",
    "grupo['MES_MAX']  = grupo['CEDULA_COD'].map(grupo[ grupo['ANIO']==grupo['ANIO_MAX']].groupby('CEDULA_COD')['MES'].max())\n",
    "grupo['FEC_INI'] = grupo['ANIO_MAX'].astype(str) + '-' + grupo['MES_MAX'].astype(str)\n",
    "grupo = grupo.groupby('CEDULA_COD')['FEC_INI'].unique().astype(str).str.strip('[ ]').str.replace(\"'\", '')\n",
    "#df['FEC_INI'] = df['CEDULA_COD'].map(grupo)\n",
    "\n",
    "\n",
    "#df['ANIO_MAX'] = df['CEDULA_COD'].map(aux)\n",
    "#grupo = df[ (df['SEL_GRUPO'] == 1) & (df['ANIO']==df['ANIO_MAX'] )]\n",
    "#aux1 = pd.DataFrame( grupo.groupby('CEDULA_COD')['MES'].max()).reset_index()\n",
    "#df['MES_MAX'] = df['CEDULA_COD'].map(aux)\n",
    "\n",
    "#aux_con = pd.merge(aux, aux1, on='CEDULA_COD')\n",
    "#aux_con\n",
    "grupo"
   ]
  },
  {
   "cell_type": "code",
   "execution_count": null,
   "id": "2cdda688",
   "metadata": {},
   "outputs": [],
   "source": [
    "df3[df3['CEDULA_COD']==100018].head(60)\n",
    "#grupo[grupo['CEDULA_COD']==100018]\n",
    "#aux\n",
    "#aux_con['RESULTADO'] = aux_con['ANIO_MAX'].astype(str) + '-' +aux_con['MES_MAX'].astype(str)\n",
    "#aux_con"
   ]
  },
  {
   "cell_type": "code",
   "execution_count": null,
   "id": "7d57dbc6",
   "metadata": {},
   "outputs": [],
   "source": [
    "df8[( df8['CEDULA_COD']==805) & (df8['SEL_GRUPO']==1) & (df8['ATI']==1)]\n",
    "#df5 = ati_base_cal(df4)\n",
    "#df5 = base_cal_sin_ati(df5)\n",
    "#df3[df3['CEDULA_COD']==100018]\n",
    "#df4[df4['CEDULA_COD']==100018]['SALARIO'].quantile(0.25)\n",
    "#df5[df5['POR_ATI']>5]"
   ]
  },
  {
   "cell_type": "code",
   "execution_count": null,
   "id": "dfe49386",
   "metadata": {},
   "outputs": [],
   "source": [
    "df8[( df8['CEDULA_COD']==805)]"
   ]
  },
  {
   "cell_type": "code",
   "execution_count": null,
   "id": "e9d6e10e",
   "metadata": {},
   "outputs": [],
   "source": [
    "#df5.groupby('CEDULA_COD')['ATI'].count()\n",
    "#df5[ (df5['CEDULA_COD']==100018)]\n",
    "df5[ (df5['CEDULA_COD']==100018) & (df5['SEL_GRUPO']==1)]\n",
    "\n",
    "#df5[(df5['CEDULA_COD']==100018) & (df5['SEL_GRUPO']==1)]['ATI'].count()"
   ]
  },
  {
   "cell_type": "code",
   "execution_count": null,
   "id": "d5a80008",
   "metadata": {
    "scrolled": true
   },
   "outputs": [],
   "source": [
    "(404.370351/406.147833 -1)*100"
   ]
  },
  {
   "cell_type": "code",
   "execution_count": null,
   "id": "32bd14e1",
   "metadata": {},
   "outputs": [],
   "source": [
    "#Sector privado\n",
    "inicio = time.time()\n",
    "pri_t = pri.pivot_table(index=('CEDULA_COD'), columns=('ANIO', 'MES'), values=('SALARIO'),aggfunc=lambda x: x)\n",
    "pri_t.sort_values(by='CEDULA_COD',inplace=True)\n",
    "fin = time.time()\n",
    "print('Tiempo de ejecución:\\n')\n",
    "print('horas', (fin-inicio)//3600 )\n",
    "print('minutos', ((fin-inicio)%3600)//60 )\n",
    "print('segundos', (fin-inicio)%60 )"
   ]
  },
  {
   "cell_type": "code",
   "execution_count": null,
   "id": "368d6d16",
   "metadata": {},
   "outputs": [],
   "source": [
    "pri_t"
   ]
  },
  {
   "cell_type": "code",
   "execution_count": null,
   "id": "472c667d",
   "metadata": {},
   "outputs": [],
   "source": [
    "pri_t['Bas_Cal'] = pd.NA\n",
    "pri_t['Fec_Ini'] = pd.NA\n",
    "pri_t['Fec_Fin'] = pd.NA"
   ]
  },
  {
   "cell_type": "code",
   "execution_count": null,
   "id": "d268cb73",
   "metadata": {},
   "outputs": [],
   "source": [
    "inicio = time.time()\n",
    "\n",
    "meses = 12\n",
    "base = 5\n",
    "\n",
    "for persona in pri_t.index[:10000]:\n",
    "    \n",
    "    col_sel=pri_t.loc[persona].notna()\n",
    "    columnas_sin_nan = pri_t.columns[col_sel & ( pri_t.columns != \"CEDULA_COD\")  & ( pri_t.columns != \"Bas_Cal\") & ( pri_t.columns != \"Fec_Ini\") & ( pri_t.columns != \"Fec_Fin\")  ][::-1]\n",
    "    grupos = [columnas_sin_nan[i:i+meses] for i in range(0, len(columnas_sin_nan), meses)]\n",
    "    \n",
    "    sumas_por_grupo = {}\n",
    "    for grupo in grupos:\n",
    "        suma_grupo = pri_t[grupo].mean(axis=1).values[0]\n",
    "        sumas_por_grupo[tuple(grupo)] = suma_grupo\n",
    "        # Ordenar los grupos por su suma en orden descendente\n",
    "        grupos_ordenados = sorted(sumas_por_grupo.items(), key=lambda x: x[1], reverse=True)[:base]\n",
    "    \n",
    "    componentes1 = [[par for par in tupla[0]] for tupla in grupos_ordenados]\n",
    "    componentes = [item for sublist in componentes1 for item in sublist]\n",
    "    \n",
    "    clave = lambda tupla: tupla[0] * 100 + tupla[1]\n",
    "    # Encontrar el par de año y mes mínimo y máximo usando la clave personalizada\n",
    "    par_minimo = min((min(sublista, key=clave ) for sublista in componentes1), key=clave )\n",
    "    par_maximo = max((max(sublista, key=clave ) for sublista in componentes1), key=clave )\n",
    "    \n",
    "    pri_t.loc[pri_t.index==persona,'Bas_Cal'] = pri_t.iloc[pri_t.index==persona][componentes].mean(axis=1)\n",
    "    pri_t.loc[pri_t.index==persona,'Fec_Ini'] = \"{}/{}\".format(par_maximo[0], str(par_maximo[1]).zfill(2))\n",
    "    pri_t.loc[pri_t.index==persona,'Fec_Fin'] = \"{}/{}\".format(par_minimo[0], str(par_minimo[1]).zfill(2))\n",
    "        \n",
    "fin = time.time()\n",
    "print('Tiempo de ejecución:\\n')\n",
    "print('horas', (fin-inicio)//3600 )\n",
    "print('minutos', ((fin-inicio)%3600)//60 )\n",
    "print('segundos', (fin-inicio)%60 )   "
   ]
  },
  {
   "cell_type": "code",
   "execution_count": null,
   "id": "1a6194be",
   "metadata": {},
   "outputs": [],
   "source": [
    "pri_t"
   ]
  },
  {
   "cell_type": "code",
   "execution_count": null,
   "id": "7e89f373",
   "metadata": {},
   "outputs": [],
   "source": [
    "col_sel=pri.loc[persona].notna()\n",
    "columnas_sin_nan = pri.columns[col_sel][::-1]\n",
    "columnas_sin_nan\n",
    "# grupos = [columnas_sin_nan[i:i+meses] for i in range(0, len(columnas_sin_nan), meses)]\n",
    "    \n",
    "# sumas_por_grupo = {}\n",
    "# for grupo in grupos:\n",
    "#     suma_grupo = pri[grupo].mean(axis=1).values[0]\n",
    "#     sumas_por_grupo[tuple(grupo)] = suma_grupo\n",
    "#         # Ordenar los grupos por su suma en orden descendente\n",
    "#     grupos_ordenados = sorted(sumas_por_grupo.items(), key=lambda x: x[1], reverse=True)[:base]\n",
    "    \n",
    "# componentes1 = [[par for par in tupla[0]] for tupla in grupos_ordenados]\n",
    "# componentes = [item for sublist in componentes1 for item in sublist]\n",
    "    \n",
    "# clave = lambda tupla: tupla[0] * 100 + tupla[1]\n",
    "#     # Encontrar el par de año y mes mínimo y máximo usando la clave personalizada\n",
    "# par_minimo = min((min(sublista, key=clave ) for sublista in componentes1), key=clave )\n",
    "# par_maximo = max((max(sublista, key=clave ) for sublista in componentes1), key=clave )\n",
    "    \n",
    "# pri.loc[pri.index==persona,'Base_calculada'] = pri.iloc[pri.index==persona][componentes].mean(axis=1)\n",
    "# pri.loc[pri.index==persona,'Fec_Ini'] = pd.to_datetime('{},{}'.format( par_maximo[0], par_maximo[1]), format='%Y, %m')\n",
    "# pri.loc[pri.index==persona,'Fec_Fin'] = pd.to_datetime('{},{}'.format( par_minimo[0], par_minimo[1]), format='%Y, %m')"
   ]
  },
  {
   "cell_type": "code",
   "execution_count": null,
   "id": "50f6e95f",
   "metadata": {},
   "outputs": [],
   "source": [
    "from pyspark.sql import SparkSession\n",
    "from pyspark.sql.functions import mean\n",
    "from pyspark.sql.functions import col\n",
    "from pyspark.sql.functions import lit\n",
    "from pyspark.sql.functions import concat_ws\n",
    "from pyspark.sql.types import IntegerType\n",
    "\n",
    "spark = SparkSession.builder \\\n",
    "    .appName(\"YourApp\") \\\n",
    "    .getOrCreate()\n",
    "\n",
    "# Definir meses y base\n",
    "meses = 12\n",
    "base = 5\n",
    "\n"
   ]
  },
  {
   "cell_type": "code",
   "execution_count": null,
   "id": "765a51f4",
   "metadata": {},
   "outputs": [],
   "source": [
    "pri_spark = spark.createDataFrame(pd.DataFrame(pri))\n",
    "pri_spark"
   ]
  },
  {
   "cell_type": "code",
   "execution_count": null,
   "id": "b719181e",
   "metadata": {},
   "outputs": [],
   "source": [
    "#Para determinar las columnas con valores diferentes a NaN\n",
    "col_sel=pri.loc['100018'].notna()\n",
    "columnas_sin_nan = pri.columns[col_sel][::-1]"
   ]
  },
  {
   "cell_type": "code",
   "execution_count": null,
   "id": "75049fbd",
   "metadata": {},
   "outputs": [],
   "source": [
    "meses = 12\n",
    "grupos = [columnas_sin_nan[i:i+meses] for i in range(0, len(columnas_sin_nan), meses)]"
   ]
  },
  {
   "cell_type": "code",
   "execution_count": null,
   "id": "c84338d3",
   "metadata": {},
   "outputs": [],
   "source": [
    "pri.iloc[pri.index=='100018'].stack(0)"
   ]
  },
  {
   "cell_type": "code",
   "execution_count": null,
   "id": "b22903a0",
   "metadata": {},
   "outputs": [],
   "source": [
    "440.15+415.21+512.47+399.00+399.00+403.99+399.00+463.84+416.46+266.00+541.29+419.10"
   ]
  },
  {
   "cell_type": "code",
   "execution_count": null,
   "id": "3a084d95",
   "metadata": {},
   "outputs": [],
   "source": [
    "base = 5\n",
    "sumas_por_grupo = {}\n",
    "for grupo in grupos:\n",
    "    suma_grupo = pri[grupo].mean(axis=1).values[0]\n",
    "    sumas_por_grupo[tuple(grupo)] = suma_grupo\n",
    "\n",
    "# Ordenar los grupos por su suma en orden descendente\n",
    "grupos_ordenados = sorted(sumas_por_grupo.items(), key=lambda x: x[1], reverse=True)[:base]\n",
    "#grupos_ordenados"
   ]
  },
  {
   "cell_type": "code",
   "execution_count": null,
   "id": "72a2d297",
   "metadata": {},
   "outputs": [],
   "source": [
    "componentes1 = [[par for par in tupla[0]] for tupla in grupos_ordenados]\n",
    "componentes = [item for sublist in componentes1 for item in sublist]\n",
    "\n",
    "clave_personalizada = lambda tupla: tupla[0] * 100 + tupla[1]\n",
    "\n",
    "# Encontrar el par de año y mes mínimo y máximo usando la clave personalizada\n",
    "par_minimo = min((min(sublista, key=clave_personalizada) for sublista in componentes1), key=clave_personalizada)\n",
    "par_maximo = max((max(sublista, key=clave_personalizada) for sublista in componentes1), key=clave_personalizada)"
   ]
  },
  {
   "cell_type": "code",
   "execution_count": null,
   "id": "ee8d8eb9",
   "metadata": {},
   "outputs": [],
   "source": [
    "pri['Base_calculada']=pd.NA\n",
    "pri['Fec_Ini'] = pd.NA\n",
    "pri['Fec_Fin'] = pd.NA"
   ]
  },
  {
   "cell_type": "code",
   "execution_count": null,
   "id": "8a1e6a88",
   "metadata": {},
   "outputs": [],
   "source": [
    "pri['Base_calculada'] = pri.iloc[pri.index=='100018'][componentes].mean(axis=1)\n",
    "pri.loc[pri.index=='100018','Fec_Ini'] = pd.to_datetime('{}, {}'.format( par_maximo[0], par_maximo[1]), format='%Y, %m')\n",
    "pri.loc[pri.index=='100018','Fec_Fin'] = pd.to_datetime('{}, {}'.format( par_minimo[0], par_minimo[1]), format='%Y, %m')"
   ]
  },
  {
   "cell_type": "code",
   "execution_count": null,
   "id": "edd2441a",
   "metadata": {},
   "outputs": [],
   "source": [
    "pri"
   ]
  },
  {
   "cell_type": "code",
   "execution_count": null,
   "id": "65067776",
   "metadata": {},
   "outputs": [],
   "source": [
    "vej[vej['CEDULA_COD']==114]"
   ]
  },
  {
   "cell_type": "code",
   "execution_count": null,
   "id": "847f2ccf",
   "metadata": {},
   "outputs": [],
   "source": [
    "afi[afi['CEDULA_COD']==114]"
   ]
  },
  {
   "cell_type": "code",
   "execution_count": null,
   "id": "d09aa06f",
   "metadata": {},
   "outputs": [],
   "source": [
    "afi.loc[['114']]"
   ]
  },
  {
   "cell_type": "code",
   "execution_count": null,
   "id": "651e5207",
   "metadata": {},
   "outputs": [],
   "source": [
    "import pickle\n",
    "\n",
    "# Nombre del archivo donde se guardará el objeto\n",
    "nombre_archivo = 'proceso.pkl'\n",
    "\n",
    "# Guardar el objeto en el archivo\n",
    "with open(nombre_archivo, 'wb') as archivo:\n",
    "    pickle.dump(pri, archivo)"
   ]
  },
  {
   "cell_type": "code",
   "execution_count": null,
   "id": "4ce8a234",
   "metadata": {},
   "outputs": [],
   "source": [
    "import pickle\n",
    "\n",
    "# Nombre del archivo donde se guardó el objeto\n",
    "nombre_archivo = 'proceso.pkl'\n",
    "\n",
    "# Cargar el objeto desde el archivo\n",
    "with open(nombre_archivo, 'rb') as archivo:\n",
    "    mi_objeto_cargado = pickle.load(archivo)\n",
    "\n",
    "print(mi_objeto_cargado)"
   ]
  }
 ],
 "metadata": {
  "kernelspec": {
   "display_name": "Python 3 (ipykernel)",
   "language": "python",
   "name": "python3"
  },
  "language_info": {
   "codemirror_mode": {
    "name": "ipython",
    "version": 3
   },
   "file_extension": ".py",
   "mimetype": "text/x-python",
   "name": "python",
   "nbconvert_exporter": "python",
   "pygments_lexer": "ipython3",
   "version": "3.9.13"
  }
 },
 "nbformat": 4,
 "nbformat_minor": 5
}

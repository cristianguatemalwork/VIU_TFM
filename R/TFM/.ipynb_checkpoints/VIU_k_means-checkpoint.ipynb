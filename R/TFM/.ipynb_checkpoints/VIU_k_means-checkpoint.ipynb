{
 "cells": [
  {
   "cell_type": "code",
   "execution_count": 1,
   "id": "fb12dac7",
   "metadata": {
    "ExecuteTime": {
     "end_time": "2024-07-31T17:48:55.217608Z",
     "start_time": "2024-07-31T17:48:35.655094Z"
    }
   },
   "outputs": [],
   "source": [
    "#Importación de librearías necesarias\n",
    "import pandas as pd\n",
    "from datetime import datetime\n",
    "import socket\n",
    "import numpy as np\n",
    "import math\n",
    "import time\n",
    "import pickle  #Para guardar archivos\n",
    "import os\n",
    "os.environ['OMP_NUM_THREADS'] = '1'\n",
    "\n",
    "from pympler import asizeof #Para liberar memoria\n",
    "import gc\n",
    "\n",
    "import matplotlib.pyplot as plt\n",
    "from matplotlib.colors import ListedColormap, to_rgb\n",
    "\n",
    "from sklearn import metrics\n",
    "from sklearn.cluster import KMeans\n",
    "import kneed\n",
    "import random\n",
    "\n",
    "from sklearn.preprocessing import StandardScaler\n",
    "\n",
    "semilla = 8"
   ]
  },
  {
   "cell_type": "code",
   "execution_count": 2,
   "id": "db7a9f6f",
   "metadata": {
    "ExecuteTime": {
     "end_time": "2024-07-31T17:48:55.234306Z",
     "start_time": "2024-07-31T17:48:55.223863Z"
    }
   },
   "outputs": [],
   "source": [
    "#Path general de archivos\n",
    "if socket.gethostname()=='LAPTOP-PUSGG08B': #Ip de la laptop\n",
    "    ruta = \"E:/Cristian Guatemal/Master/Big Data y Ciencia de Datos/VIU_TFM/Data/TFM/\"\n",
    "    r_ruta = \"E:/Cristian Guatemal/Master/Big Data y Ciencia de Datos/VIU_TFM/RData/TFM/\"\n",
    "elif socket.gethostname()=='PCUIOMTDAIE6382': #Ip del working\n",
    "    ruta =   \"D:/Master/Big_Data_Ciencia_Datos/VIU_TFM/Data/TFM/\"\n",
    "    r_ruta = \"D:/Master/Big_Data_Ciencia_Datos/VIU_TFM/RData/TFM/\"\n",
    "# Ruta del archivo de pensionistas de vejez\n",
    "ruta_vj = ruta + 'POB_VEJ_CD656_NEW.dsv'\n",
    "# Ruta del archivo de historia laboral de pensionistas\n",
    "ruta_afi = ruta + 'APORTES_CD656_new.dsv'"
   ]
  },
  {
   "cell_type": "code",
   "execution_count": 3,
   "id": "5e15e93b",
   "metadata": {
    "ExecuteTime": {
     "end_time": "2024-07-31T17:49:55.137048Z",
     "start_time": "2024-07-31T17:48:55.242631Z"
    }
   },
   "outputs": [],
   "source": [
    "# Cargar archivo------------------------------------------------------------------------------------------------------------\n",
    "directorio = r_ruta\n",
    "nombre_archivo = 'viu_clean_afi_sel_g_all_2.pkl'\n",
    "ruta_archivo = os.path.join(directorio, nombre_archivo)\n",
    "\n",
    "with open( ruta_archivo, 'rb') as archivo:\n",
    "    data_l = pickle.load( archivo )     "
   ]
  },
  {
   "cell_type": "code",
   "execution_count": 4,
   "id": "6a9249e2",
   "metadata": {
    "ExecuteTime": {
     "end_time": "2024-07-31T17:49:55.146614Z",
     "start_time": "2024-07-31T17:49:55.139206Z"
    }
   },
   "outputs": [
    {
     "data": {
      "text/plain": [
       "(62130167, 16)"
      ]
     },
     "execution_count": 4,
     "metadata": {},
     "output_type": "execute_result"
    }
   ],
   "source": [
    "data_l.shape #(62130167, 16)"
   ]
  },
  {
   "cell_type": "code",
   "execution_count": 5,
   "id": "217c4de9",
   "metadata": {
    "ExecuteTime": {
     "end_time": "2024-07-31T17:50:56.548878Z",
     "start_time": "2024-07-31T17:49:55.148614Z"
    }
   },
   "outputs": [
    {
     "name": "stdout",
     "output_type": "stream",
     "text": [
      "Tiempo de ejecución es:  0.0  horas con  1.0  minutos y 14.243931770324707  segundos\n"
     ]
    }
   ],
   "source": [
    "inicio = time.time()\n",
    "data_l = data_l.sort_values( by=[\"CEDULA_COD\",\"ANIO\", \"MES\"], ascending=[ True, True, True] )\n",
    "data_l.reset_index(inplace=True)\n",
    "data_l.rename(columns={'index': 'nuevo_indice'}, inplace=True)\n",
    "data_l.drop(columns=['nuevo_indice'], inplace=True)\n",
    "data_l['INDICE'] = data_l.index\n",
    "\n",
    "#Casos de no análisis\n",
    "data_no_grupo = data_l[ (data_l['GRUPO_SEL']==0) ].copy()\n",
    "data_no_grupo['ATI_CJ_M1'] = np.nan\n",
    "data_no_grupo['ATI_CJ_M2'] = np.nan\n",
    "data_no_grupo['ATI_CJ_M3'] = np.nan\n",
    "\n",
    "#Casos de análisis\n",
    "data = data_l[ (data_l['GRUPO_SEL']==1) ].copy()\n",
    "\n",
    "fin = time.time()  \n",
    "print('Tiempo de ejecución es: ',  (fin-inicio)//3600, ' horas con ' ,  (fin-inicio)%3600//60 , ' minutos y', (fin-inicio)%60, ' segundos' )"
   ]
  },
  {
   "cell_type": "code",
   "execution_count": 6,
   "id": "26e91003",
   "metadata": {
    "ExecuteTime": {
     "end_time": "2024-07-31T16:45:05.930618Z",
     "start_time": "2024-07-31T16:45:05.001286Z"
    }
   },
   "outputs": [
    {
     "data": {
      "text/html": [
       "<div>\n",
       "<style scoped>\n",
       "    .dataframe tbody tr th:only-of-type {\n",
       "        vertical-align: middle;\n",
       "    }\n",
       "\n",
       "    .dataframe tbody tr th {\n",
       "        vertical-align: top;\n",
       "    }\n",
       "\n",
       "    .dataframe thead th {\n",
       "        text-align: right;\n",
       "    }\n",
       "</style>\n",
       "<table border=\"1\" class=\"dataframe\">\n",
       "  <thead>\n",
       "    <tr style=\"text-align: right;\">\n",
       "      <th></th>\n",
       "      <th>CEDULA_COD</th>\n",
       "      <th>ANIO</th>\n",
       "      <th>MES</th>\n",
       "      <th>SALARIO</th>\n",
       "      <th>SALARIO_SECTOR</th>\n",
       "      <th>SECTOR_A</th>\n",
       "      <th>NUM_SEC_MES</th>\n",
       "      <th>%_NUM_SECTOR</th>\n",
       "      <th>GRUPO</th>\n",
       "      <th>SAL_PROM_GRUPO</th>\n",
       "      <th>GRUPO_SEL</th>\n",
       "      <th>INI_CAL</th>\n",
       "      <th>FIN_CAL</th>\n",
       "      <th>BASE_CAL</th>\n",
       "      <th>SBU</th>\n",
       "      <th>ID_SBU</th>\n",
       "      <th>INDICE</th>\n",
       "    </tr>\n",
       "  </thead>\n",
       "  <tbody>\n",
       "    <tr>\n",
       "      <th>13</th>\n",
       "      <td>126</td>\n",
       "      <td>2006</td>\n",
       "      <td>1</td>\n",
       "      <td>161.67</td>\n",
       "      <td>161.67</td>\n",
       "      <td>PRI</td>\n",
       "      <td>1</td>\n",
       "      <td>1</td>\n",
       "      <td>5</td>\n",
       "      <td>161.670000</td>\n",
       "      <td>1</td>\n",
       "      <td>2010-12-01</td>\n",
       "      <td>2006-01-01</td>\n",
       "      <td>210.635</td>\n",
       "      <td>160.0</td>\n",
       "      <td>-1</td>\n",
       "      <td>13</td>\n",
       "    </tr>\n",
       "    <tr>\n",
       "      <th>14</th>\n",
       "      <td>126</td>\n",
       "      <td>2006</td>\n",
       "      <td>2</td>\n",
       "      <td>161.67</td>\n",
       "      <td>161.67</td>\n",
       "      <td>PRI</td>\n",
       "      <td>1</td>\n",
       "      <td>1</td>\n",
       "      <td>5</td>\n",
       "      <td>161.670000</td>\n",
       "      <td>1</td>\n",
       "      <td>2010-12-01</td>\n",
       "      <td>2006-01-01</td>\n",
       "      <td>210.635</td>\n",
       "      <td>160.0</td>\n",
       "      <td>-1</td>\n",
       "      <td>14</td>\n",
       "    </tr>\n",
       "    <tr>\n",
       "      <th>15</th>\n",
       "      <td>126</td>\n",
       "      <td>2006</td>\n",
       "      <td>3</td>\n",
       "      <td>161.67</td>\n",
       "      <td>161.67</td>\n",
       "      <td>PRI</td>\n",
       "      <td>1</td>\n",
       "      <td>1</td>\n",
       "      <td>5</td>\n",
       "      <td>161.670000</td>\n",
       "      <td>1</td>\n",
       "      <td>2010-12-01</td>\n",
       "      <td>2006-01-01</td>\n",
       "      <td>210.635</td>\n",
       "      <td>160.0</td>\n",
       "      <td>-1</td>\n",
       "      <td>15</td>\n",
       "    </tr>\n",
       "    <tr>\n",
       "      <th>16</th>\n",
       "      <td>126</td>\n",
       "      <td>2006</td>\n",
       "      <td>4</td>\n",
       "      <td>161.67</td>\n",
       "      <td>161.67</td>\n",
       "      <td>PRI</td>\n",
       "      <td>1</td>\n",
       "      <td>1</td>\n",
       "      <td>5</td>\n",
       "      <td>161.670000</td>\n",
       "      <td>1</td>\n",
       "      <td>2010-12-01</td>\n",
       "      <td>2006-01-01</td>\n",
       "      <td>210.635</td>\n",
       "      <td>160.0</td>\n",
       "      <td>-1</td>\n",
       "      <td>16</td>\n",
       "    </tr>\n",
       "    <tr>\n",
       "      <th>17</th>\n",
       "      <td>126</td>\n",
       "      <td>2006</td>\n",
       "      <td>5</td>\n",
       "      <td>161.67</td>\n",
       "      <td>161.67</td>\n",
       "      <td>PRI</td>\n",
       "      <td>1</td>\n",
       "      <td>1</td>\n",
       "      <td>5</td>\n",
       "      <td>161.670000</td>\n",
       "      <td>1</td>\n",
       "      <td>2010-12-01</td>\n",
       "      <td>2006-01-01</td>\n",
       "      <td>210.635</td>\n",
       "      <td>160.0</td>\n",
       "      <td>-1</td>\n",
       "      <td>17</td>\n",
       "    </tr>\n",
       "    <tr>\n",
       "      <th>...</th>\n",
       "      <td>...</td>\n",
       "      <td>...</td>\n",
       "      <td>...</td>\n",
       "      <td>...</td>\n",
       "      <td>...</td>\n",
       "      <td>...</td>\n",
       "      <td>...</td>\n",
       "      <td>...</td>\n",
       "      <td>...</td>\n",
       "      <td>...</td>\n",
       "      <td>...</td>\n",
       "      <td>...</td>\n",
       "      <td>...</td>\n",
       "      <td>...</td>\n",
       "      <td>...</td>\n",
       "      <td>...</td>\n",
       "      <td>...</td>\n",
       "    </tr>\n",
       "    <tr>\n",
       "      <th>62130162</th>\n",
       "      <td>23594465</td>\n",
       "      <td>2017</td>\n",
       "      <td>11</td>\n",
       "      <td>14045.72</td>\n",
       "      <td>14045.72</td>\n",
       "      <td>PRI</td>\n",
       "      <td>1</td>\n",
       "      <td>1</td>\n",
       "      <td>1</td>\n",
       "      <td>16205.699167</td>\n",
       "      <td>1</td>\n",
       "      <td>2018-03-01</td>\n",
       "      <td>2013-04-01</td>\n",
       "      <td>16604.299</td>\n",
       "      <td>375.0</td>\n",
       "      <td>-1</td>\n",
       "      <td>62130162</td>\n",
       "    </tr>\n",
       "    <tr>\n",
       "      <th>62130163</th>\n",
       "      <td>23594465</td>\n",
       "      <td>2017</td>\n",
       "      <td>12</td>\n",
       "      <td>14164.25</td>\n",
       "      <td>14164.25</td>\n",
       "      <td>PRI</td>\n",
       "      <td>1</td>\n",
       "      <td>1</td>\n",
       "      <td>1</td>\n",
       "      <td>16205.699167</td>\n",
       "      <td>1</td>\n",
       "      <td>2018-03-01</td>\n",
       "      <td>2013-04-01</td>\n",
       "      <td>16604.299</td>\n",
       "      <td>375.0</td>\n",
       "      <td>-1</td>\n",
       "      <td>62130163</td>\n",
       "    </tr>\n",
       "    <tr>\n",
       "      <th>62130164</th>\n",
       "      <td>23594465</td>\n",
       "      <td>2018</td>\n",
       "      <td>1</td>\n",
       "      <td>12903.21</td>\n",
       "      <td>12903.21</td>\n",
       "      <td>PRI</td>\n",
       "      <td>1</td>\n",
       "      <td>1</td>\n",
       "      <td>1</td>\n",
       "      <td>16205.699167</td>\n",
       "      <td>1</td>\n",
       "      <td>2018-03-01</td>\n",
       "      <td>2013-04-01</td>\n",
       "      <td>16604.299</td>\n",
       "      <td>386.0</td>\n",
       "      <td>-1</td>\n",
       "      <td>62130164</td>\n",
       "    </tr>\n",
       "    <tr>\n",
       "      <th>62130165</th>\n",
       "      <td>23594465</td>\n",
       "      <td>2018</td>\n",
       "      <td>2</td>\n",
       "      <td>42432.21</td>\n",
       "      <td>42432.21</td>\n",
       "      <td>PRI</td>\n",
       "      <td>1</td>\n",
       "      <td>1</td>\n",
       "      <td>1</td>\n",
       "      <td>16205.699167</td>\n",
       "      <td>1</td>\n",
       "      <td>2018-03-01</td>\n",
       "      <td>2013-04-01</td>\n",
       "      <td>16604.299</td>\n",
       "      <td>386.0</td>\n",
       "      <td>-1</td>\n",
       "      <td>62130165</td>\n",
       "    </tr>\n",
       "    <tr>\n",
       "      <th>62130166</th>\n",
       "      <td>23594465</td>\n",
       "      <td>2018</td>\n",
       "      <td>3</td>\n",
       "      <td>12738.28</td>\n",
       "      <td>12738.28</td>\n",
       "      <td>PRI</td>\n",
       "      <td>1</td>\n",
       "      <td>1</td>\n",
       "      <td>1</td>\n",
       "      <td>16205.699167</td>\n",
       "      <td>1</td>\n",
       "      <td>2018-03-01</td>\n",
       "      <td>2013-04-01</td>\n",
       "      <td>16604.299</td>\n",
       "      <td>386.0</td>\n",
       "      <td>-1</td>\n",
       "      <td>62130166</td>\n",
       "    </tr>\n",
       "  </tbody>\n",
       "</table>\n",
       "<p>26472116 rows × 17 columns</p>\n",
       "</div>"
      ],
      "text/plain": [
       "          CEDULA_COD  ANIO  MES   SALARIO SALARIO_SECTOR SECTOR_A  \\\n",
       "13               126  2006    1    161.67         161.67      PRI   \n",
       "14               126  2006    2    161.67         161.67      PRI   \n",
       "15               126  2006    3    161.67         161.67      PRI   \n",
       "16               126  2006    4    161.67         161.67      PRI   \n",
       "17               126  2006    5    161.67         161.67      PRI   \n",
       "...              ...   ...  ...       ...            ...      ...   \n",
       "62130162    23594465  2017   11  14045.72       14045.72      PRI   \n",
       "62130163    23594465  2017   12  14164.25       14164.25      PRI   \n",
       "62130164    23594465  2018    1  12903.21       12903.21      PRI   \n",
       "62130165    23594465  2018    2  42432.21       42432.21      PRI   \n",
       "62130166    23594465  2018    3  12738.28       12738.28      PRI   \n",
       "\n",
       "          NUM_SEC_MES %_NUM_SECTOR  GRUPO  SAL_PROM_GRUPO  GRUPO_SEL  \\\n",
       "13                  1            1      5      161.670000          1   \n",
       "14                  1            1      5      161.670000          1   \n",
       "15                  1            1      5      161.670000          1   \n",
       "16                  1            1      5      161.670000          1   \n",
       "17                  1            1      5      161.670000          1   \n",
       "...               ...          ...    ...             ...        ...   \n",
       "62130162            1            1      1    16205.699167          1   \n",
       "62130163            1            1      1    16205.699167          1   \n",
       "62130164            1            1      1    16205.699167          1   \n",
       "62130165            1            1      1    16205.699167          1   \n",
       "62130166            1            1      1    16205.699167          1   \n",
       "\n",
       "            INI_CAL    FIN_CAL   BASE_CAL    SBU  ID_SBU    INDICE  \n",
       "13       2010-12-01 2006-01-01    210.635  160.0      -1        13  \n",
       "14       2010-12-01 2006-01-01    210.635  160.0      -1        14  \n",
       "15       2010-12-01 2006-01-01    210.635  160.0      -1        15  \n",
       "16       2010-12-01 2006-01-01    210.635  160.0      -1        16  \n",
       "17       2010-12-01 2006-01-01    210.635  160.0      -1        17  \n",
       "...             ...        ...        ...    ...     ...       ...  \n",
       "62130162 2018-03-01 2013-04-01  16604.299  375.0      -1  62130162  \n",
       "62130163 2018-03-01 2013-04-01  16604.299  375.0      -1  62130163  \n",
       "62130164 2018-03-01 2013-04-01  16604.299  386.0      -1  62130164  \n",
       "62130165 2018-03-01 2013-04-01  16604.299  386.0      -1  62130165  \n",
       "62130166 2018-03-01 2013-04-01  16604.299  386.0      -1  62130166  \n",
       "\n",
       "[26472116 rows x 17 columns]"
      ]
     },
     "execution_count": 6,
     "metadata": {},
     "output_type": "execute_result"
    }
   ],
   "source": [
    "data"
   ]
  },
  {
   "cell_type": "code",
   "execution_count": null,
   "id": "45aaee27",
   "metadata": {
    "ExecuteTime": {
     "end_time": "2024-07-31T17:51:03.933932Z",
     "start_time": "2024-07-31T17:50:56.559015Z"
    }
   },
   "outputs": [],
   "source": [
    "data_si = data[  (( data['SALARIO'] >= data['SBU'] ) & ( data['ANIO'] >= 2000 )) ].copy() \n",
    "data_no = data[ ~(( data['SALARIO'] >= data['SBU'] ) & ( data['ANIO'] >= 2000 )) ].copy() "
   ]
  },
  {
   "cell_type": "code",
   "execution_count": null,
   "id": "b70f6cb7",
   "metadata": {
    "ExecuteTime": {
     "end_time": "2024-07-31T17:51:23.072659Z",
     "start_time": "2024-07-31T17:51:03.937903Z"
    }
   },
   "outputs": [],
   "source": [
    "#Solo se considerarn valores únicos, para evitar que al momento de generar el centroide exista conflicto de que\n",
    "# varias observaciones tengan el mismo valor\n",
    "data_si_dic = data_si.groupby('CEDULA_COD').agg({'SALARIO': lambda x: list(set(x)) }).to_dict(orient='index')\n",
    "data_no_dic = data_no.groupby('CEDULA_COD').agg({'SALARIO': lambda x: list(set(x)) }).to_dict(orient='index')"
   ]
  },
  {
   "cell_type": "code",
   "execution_count": null,
   "id": "6937716e",
   "metadata": {
    "ExecuteTime": {
     "end_time": "2024-07-31T16:45:42.998513Z",
     "start_time": "2024-07-31T16:45:41.095394Z"
    }
   },
   "outputs": [],
   "source": [
    "data_si_dic"
   ]
  },
  {
   "cell_type": "code",
   "execution_count": null,
   "id": "749dcf13",
   "metadata": {
    "ExecuteTime": {
     "end_time": "2024-07-31T17:51:23.103092Z",
     "start_time": "2024-07-31T17:51:23.074660Z"
    }
   },
   "outputs": [],
   "source": [
    "#Determinación del número de cluster según el método del codo y Silueta\n",
    "def max_clust_silueta( silhouettes ):\n",
    "    silhouettes = np.array(silhouettes)\n",
    "    diferencias = np.abs(1 - silhouettes)\n",
    "    indice_cercano = np.argmin( diferencias )\n",
    "    return indice_cercano + 2\n",
    "\n",
    "def num_cluster( data_si_dic, num, num_sample ):\n",
    "    print('*' * 102)\n",
    "    print('Determinación del número de clúster por el método del codo y silueta')\n",
    "    inicio = time.time()\n",
    "    \n",
    "    sample_size = num_sample\n",
    "    sample_keys = random.sample( list(data_si_dic.keys()), min(sample_size, len(data_si_dic)))\n",
    "    \n",
    "    data_filt = {key: data_si_dic[key] for key in sample_keys if key in data_si_dic}\n",
    "    \n",
    "    for ced  in data_filt:\n",
    "        \n",
    "        aux = np.array( data_filt[ced]['SALARIO']).reshape(-1, 1)\n",
    "        \n",
    "        if len(aux) <= 1:\n",
    "            data_filt[ced]['num_codo'] = 1\n",
    "            data_filt[ced]['max_silueta'] = 1\n",
    "           \n",
    "        \n",
    "        tf = min(num, len(aux) - 1) + 1\n",
    "        \n",
    "        distorsion = []\n",
    "        silueta = []\n",
    "\n",
    "        for i in range( 2, tf ):\n",
    "            km = KMeans( i, init = 'k-means++', n_init = 1, max_iter = 300, tol = 1e-4, random_state = semilla )\n",
    "            clustering = km.fit_predict( aux )\n",
    "\n",
    "            if( len( np.unique( clustering ) ) > 1):\n",
    "                distorsion.append( km.inertia_ )\n",
    "                silueta.append( metrics.silhouette_score(aux, clustering))\n",
    "            \n",
    "            else:\n",
    "                distorsion.append(0)\n",
    "                silueta.append(0)\n",
    "    \n",
    "        if( len(distorsion) > 1 and len(silueta) > 1 ):\n",
    "            data_filt[ced]['num_codo'] = kneed.KneeLocator(range(2, tf), distorsion[:tf], curve=\"convex\", \n",
    "                                                             direction=\"decreasing\").elbow or 1\n",
    "    \n",
    "            data_filt[ced]['max_silueta'] =  max_clust_silueta( silueta )\n",
    "        \n",
    "        else:\n",
    "            data_filt[ced]['num_codo'] = 1\n",
    "            data_filt[ced]['max_silueta'] = 1\n",
    "            \n",
    "    \n",
    "\n",
    "    fin = time.time()  \n",
    "    print('\\tTiempo de ejecución es: ',  (fin-inicio)//3600, ' horas con ' ,  (fin-inicio)%3600//60 , ' minutos y', (fin-inicio)%60, ' segundos' )\n",
    "    print('*' * 102)\n",
    "    return data_filt"
   ]
  },
  {
   "cell_type": "code",
   "execution_count": null,
   "id": "fe21ba06",
   "metadata": {
    "ExecuteTime": {
     "end_time": "2024-07-31T17:53:10.378930Z",
     "start_time": "2024-07-31T17:51:23.105102Z"
    }
   },
   "outputs": [],
   "source": [
    "data_filt = num_cluster( data_si_dic, 5, 400 ) #Analizar como sacar un buen muestreo de esto"
   ]
  },
  {
   "cell_type": "code",
   "execution_count": null,
   "id": "e588ff09",
   "metadata": {
    "ExecuteTime": {
     "end_time": "2024-07-31T19:29:35.061446Z",
     "start_time": "2024-07-31T19:29:35.055558Z"
    }
   },
   "outputs": [],
   "source": [
    "data_filt.keys()"
   ]
  },
  {
   "cell_type": "code",
   "execution_count": null,
   "id": "efaf13b3",
   "metadata": {
    "ExecuteTime": {
     "end_time": "2024-07-31T20:22:20.167472Z",
     "start_time": "2024-07-31T20:22:20.158401Z"
    }
   },
   "outputs": [],
   "source": [
    "def graf_obs( data_filt, ced ):\n",
    "    valores = data_filt[ced]['SALARIO']\n",
    "    plt.figure( figsize=(10, 6))\n",
    "    plt.scatter(range(len(valores)), valores, color='blue', marker='o')\n",
    "\n",
    "    # Etiquetas y título\n",
    "    plt.ylabel(\"USD\")\n",
    "    plt.title(\"Gráfico del salario único\")\n",
    "\n",
    "    plt.grid(True)\n",
    "    plt.show()\n",
    "\n",
    "def graf_obs_kmean( data_filt, ced):\n",
    "    valores = np.array([[i + 1, valor] for i, valor in enumerate(data_filt[ced]['SALARIO'])])\n",
    "    n = data_filt[ced]['num_codo']\n",
    "    \n",
    "    # Aplicar KMeans\n",
    "    kmeans = KMeans(n_clusters=n, init='k-means++', n_init=10, random_state=42)\n",
    "    y_pred = kmeans.fit_predict(valores)\n",
    "    \n",
    "    plt.figure(figsize=(10, 6))\n",
    "    \n",
    "    # Colormap para los clusters\n",
    "    cmap = plt.get_cmap(\"jet\")\n",
    "    \n",
    "    scatter = plt.scatter(valores[:, 0], valores[:, 1], c=y_pred, cmap=cmap, label='_nolegend_')\n",
    "    \n",
    "    \n",
    "    plt.scatter(kmeans.cluster_centers_[:, 0],\n",
    "                kmeans.cluster_centers_[:, 1],\n",
    "                marker='^',\n",
    "                c=list(range(0,n)),\n",
    "                s=100,\n",
    "                linewidth=2,\n",
    "                edgecolor='black',\n",
    "                cmap=\"jet\",\n",
    "                label=[f'Clúster {i+1}' for i in range(n)])\n",
    "    plt.xlabel(\"Datos\")\n",
    "    plt.ylabel(\"USD\")\n",
    "    plt.title(\"Gráfico de Clústeres con Centroides\")\n",
    "    plt.grid(True)\n",
    "    \n",
    "     # Crear manejadores de leyenda para los puntos\n",
    "    handles, labels = scatter.legend_elements(prop=\"colors\", alpha=0.6)\n",
    "    \n",
    "    # Añadir la leyenda para los puntos y los centroides\n",
    "    plt.legend( handles = handles, labels = [f'Clúster {i+1}' for i in range(n)], loc='best')\n",
    "\n",
    "    plt.show()"
   ]
  },
  {
   "cell_type": "code",
   "execution_count": null,
   "id": "89ff5d43",
   "metadata": {
    "ExecuteTime": {
     "end_time": "2024-07-31T20:24:53.164162Z",
     "start_time": "2024-07-31T20:24:52.990703Z"
    }
   },
   "outputs": [],
   "source": [
    "graf_obs( data_filt, 16346108 )"
   ]
  },
  {
   "cell_type": "code",
   "execution_count": null,
   "id": "5dae890f",
   "metadata": {
    "ExecuteTime": {
     "end_time": "2024-07-31T20:24:57.767645Z",
     "start_time": "2024-07-31T20:24:56.694686Z"
    }
   },
   "outputs": [],
   "source": [
    "graf_obs_kmean( data_filt, 16346108)"
   ]
  },
  {
   "cell_type": "code",
   "execution_count": 7,
   "id": "7000c4ef",
   "metadata": {
    "ExecuteTime": {
     "end_time": "2024-07-31T21:20:27.181015Z",
     "start_time": "2024-07-31T21:18:16.838375Z"
    }
   },
   "outputs": [],
   "source": [
    "#Algortimos K-means\n",
    "cedula_1 = data.groupby('CEDULA_COD')['NUM_SEC_MES'].apply( lambda x: (x != 1).any() )\n",
    "cedula_dist = cedula_1[ cedula_1 ].index\n",
    "ul = data[ ~data['CEDULA_COD'].isin( cedula_dist )]\n",
    "ml = data[  data['CEDULA_COD'].isin( cedula_dist )]\n"
   ]
  },
  {
   "cell_type": "code",
   "execution_count": 8,
   "id": "00a2ad25",
   "metadata": {
    "ExecuteTime": {
     "end_time": "2024-07-31T21:21:55.927493Z",
     "start_time": "2024-07-31T21:21:54.947280Z"
    }
   },
   "outputs": [
    {
     "name": "stdout",
     "output_type": "stream",
     "text": [
      "Total de cédulas 442570\n",
      "Cedulas que tienen un único sector 373069\n",
      "Cedulas que tienen más de un único sector 69501\n"
     ]
    }
   ],
   "source": [
    "print('Total de cédulas', data['CEDULA_COD'].nunique()) #442570\n",
    "print('Cedulas que tienen un único sector', ul['CEDULA_COD'].nunique()) #373069\n",
    "print('Cedulas que tienen más de un único sector', ml['CEDULA_COD'].nunique()) #69501"
   ]
  },
  {
   "cell_type": "code",
   "execution_count": 41,
   "id": "adc55fa5",
   "metadata": {},
   "outputs": [
    {
     "name": "stdout",
     "output_type": "stream",
     "text": [
      "**************************************** Normalización Z-Score  ****************************************\n",
      "\tTiempo de ejecución es:  0.0  horas con  0.0  minutos y 18.887230396270752  segundos\n",
      "******************************************************************************************************\n"
     ]
    }
   ],
   "source": [
    "#Normalización de datos-Z-core\n",
    "print('*' * 40, 'Normalización Z-Score ', '*' * 40)\n",
    "inicio = time.time()\n",
    "scaler = StandardScaler()\n",
    "\n",
    "# Aplicar la normalización usando transform\n",
    "def data_norm( df1 ):\n",
    "    df = df1.copy()\n",
    "    me = df.groupby('CEDULA_COD')['SALARIO'].mean()\n",
    "    st = df.groupby('CEDULA_COD')['SALARIO'].std()\n",
    "    df['ME'] = df['CEDULA_COD'].map( me )\n",
    "    df['ST'] = df['CEDULA_COD'].map( st )\n",
    "    df['SALARIO_NORM'] = ( df['SALARIO'] - df['ME'] )  / df['ST'] \n",
    "    return df\n",
    "\n",
    "ul =  data_norm( ul )\n",
    "ml =  data_norm( ml )\n",
    "fin = time.time()  \n",
    "print('\\tTiempo de ejecución es: ',  (fin-inicio)//3600, ' horas con ' ,  (fin-inicio)%3600//60 , ' minutos y', (fin-inicio)%60, ' segundos' )\n",
    "print('*' * 102)\n"
   ]
  },
  {
   "cell_type": "code",
   "execution_count": 42,
   "id": "9d5eea52",
   "metadata": {
    "ExecuteTime": {
     "end_time": "2024-07-31T21:29:05.301991Z",
     "start_time": "2024-07-31T21:28:09.255123Z"
    }
   },
   "outputs": [],
   "source": [
    "ul_dic = ul.groupby('CEDULA_COD').agg({'SALARIO': list,'SALARIO_NORM': list, 'INDICE': list}).to_dict(orient='index')\n",
    "ml_dic = ml.groupby('CEDULA_COD').agg({'SALARIO': list,'SALARIO_NORM': list, 'INDICE': list}).to_dict(orient='index')"
   ]
  },
  {
   "cell_type": "code",
   "execution_count": 50,
   "id": "0eb162bd",
   "metadata": {
    "ExecuteTime": {
     "end_time": "2024-07-31T21:30:25.856413Z",
     "start_time": "2024-07-31T21:30:25.238230Z"
    }
   },
   "outputs": [
    {
     "data": {
      "text/plain": [
       "-4.179024926830773"
      ]
     },
     "execution_count": 50,
     "metadata": {},
     "output_type": "execute_result"
    }
   ],
   "source": [
    "( 8.06-np.mean(ul_dic[126]['SALARIO']))/np.std(ul_dic[126]['SALARIO'])"
   ]
  },
  {
   "cell_type": "code",
   "execution_count": null,
   "id": "74aaea94",
   "metadata": {
    "ExecuteTime": {
     "end_time": "2024-07-31T20:30:49.201813Z",
     "start_time": "2024-07-31T20:30:48.321325Z"
    }
   },
   "outputs": [],
   "source": [
    "n = 2\n",
    "valores = np.array([[i + 1, valor] for i, valor in enumerate(data_si_dic[126]['SALARIO'])])\n",
    "kmeans = KMeans( n_clusters = n, init = 'k-means++', n_init=10, random_state=42)\n",
    "y_pred = kmeans.fit_predict(valores)"
   ]
  },
  {
   "cell_type": "code",
   "execution_count": null,
   "id": "0977f285",
   "metadata": {
    "ExecuteTime": {
     "end_time": "2024-07-31T21:33:14.178252Z",
     "start_time": "2024-07-31T21:33:14.171569Z"
    }
   },
   "outputs": [],
   "source": [
    "ul_dic[3057]"
   ]
  },
  {
   "cell_type": "code",
   "execution_count": null,
   "id": "8016e523",
   "metadata": {
    "ExecuteTime": {
     "end_time": "2024-07-31T21:35:34.908548Z",
     "start_time": "2024-07-31T21:35:34.902859Z"
    }
   },
   "outputs": [],
   "source": [
    "valores.shape[0]"
   ]
  },
  {
   "cell_type": "code",
   "execution_count": null,
   "id": "62edce89",
   "metadata": {
    "ExecuteTime": {
     "end_time": "2024-07-31T22:03:27.773063Z",
     "start_time": "2024-07-31T22:03:14.359128Z"
    }
   },
   "outputs": [],
   "source": [
    "print('*' * 102)\n",
    "print('Clasificación de las observaciones según cluster')\n",
    "inicio = time.time()\n",
    "n = 2\n",
    "for ced in ul_dic:\n",
    "    valores = np.array([[i + 1, valor] for i, valor in enumerate(ul_dic[ced]['SALARIO'])])\n",
    "    \n",
    "    if valores.shape[0] >= n:\n",
    "        kmeans = KMeans( n_clusters = n, init = 'k-means++', n_init = 1, random_state = semilla)\n",
    "        ul_dic[ced]['Ati'] = kmeans.fit_predict(valores)\n",
    "    else:\n",
    "        ul_dic[ced]['Ati'] = np.nan \n",
    "        \n",
    "fin = time.time()  \n",
    "print('\\tTiempo de ejecución es: ',  (fin-inicio)//3600, ' horas con ' ,  (fin-inicio)%3600//60 , ' minutos y', (fin-inicio)%60, ' segundos' )\n",
    "print('*' * 102)"
   ]
  },
  {
   "cell_type": "code",
   "execution_count": null,
   "id": "8bf379bc",
   "metadata": {
    "ExecuteTime": {
     "end_time": "2024-07-31T22:00:49.177610Z",
     "start_time": "2024-07-31T22:00:45.932477Z"
    }
   },
   "outputs": [],
   "source": [
    "from dask.distributed import Scheduler, Client\n",
    "client = Client()\n",
    "print(client.scheduler_info())"
   ]
  },
  {
   "cell_type": "code",
   "execution_count": null,
   "id": "71ca4ac9",
   "metadata": {
    "ExecuteTime": {
     "end_time": "2024-07-31T22:02:59.843145Z",
     "start_time": "2024-07-31T22:02:59.819436Z"
    }
   },
   "outputs": [],
   "source": [
    "scheduler_info = client.scheduler_info()\n",
    "print(\"Scheduler Info:\", scheduler_info)\n",
    "\n",
    "# Ajusta según la estructura del diccionario\n",
    "services = scheduler_info.get('services', {})\n",
    "print(\"Services:\", services)\n",
    "for service, url in services.items():\n",
    "    if 'tcp://' in url:\n",
    "        print(\"Scheduler URL:\", url)\n",
    "        break"
   ]
  },
  {
   "cell_type": "code",
   "execution_count": null,
   "id": "d48bb755",
   "metadata": {
    "ExecuteTime": {
     "end_time": "2024-07-31T21:31:17.362100Z",
     "start_time": "2024-07-31T21:31:15.838554Z"
    }
   },
   "outputs": [],
   "source": [
    "import numpy as np\n",
    "import time\n",
    "from sklearn.cluster import KMeans\n",
    "from joblib import Parallel, delayed\n",
    "\n",
    "# Definir la función para aplicar KMeans a un conjunto de datos\n",
    "def aplicar_kmeans(ced, valores, n, semilla):\n",
    "    kmeans = KMeans( n_clusters = n, init='k-means++', n_init=1, random_state=semilla)\n",
    "    etiquetas = kmeans.fit_predict(valores)\n",
    "    return ced, etiquetas\n",
    "\n",
    "print('*' * 102)\n",
    "print('Clasificación de las observaciones según cluster')\n",
    "inicio = time.time()\n",
    "\n",
    "# Configuraciones\n",
    "n = 2\n",
    "semilla = 42  # Asegúrate de definir 'semilla' como en tu código original\n",
    "\n",
    "# Crear listas de valores para paralelización\n",
    "datos = [(ced, np.array([[i + 1, valor] for i, valor in enumerate(ul[ced]['SALARIO'])]), n, semilla) \n",
    "         for ced in ul]\n",
    "\n",
    "# Aplicar KMeans en paralelo\n",
    "resultados = Parallel(n_jobs=-1)(delayed(aplicar_kmeans)(*d) for d in datos)\n",
    "\n",
    "# Almacenar resultados en el diccionario\n",
    "for ced, etiquetas in resultados:\n",
    "    ul[ced]['Ati'] = etiquetas\n",
    "    print(ced)\n",
    "\n",
    "fin = time.time()  \n",
    "print('\\tTiempo de ejecución es: ',  (fin-inicio)//3600, ' horas con ' ,  (fin-inicio)%3600//60 , ' minutos y', (fin-inicio)%60, ' segundos' )\n",
    "print('*' * 102)"
   ]
  }
 ],
 "metadata": {
  "kernelspec": {
   "display_name": "Python 3 (ipykernel)",
   "language": "python",
   "name": "python3"
  },
  "language_info": {
   "codemirror_mode": {
    "name": "ipython",
    "version": 3
   },
   "file_extension": ".py",
   "mimetype": "text/x-python",
   "name": "python",
   "nbconvert_exporter": "python",
   "pygments_lexer": "ipython3",
   "version": "3.9.13"
  },
  "toc": {
   "base_numbering": 1,
   "nav_menu": {},
   "number_sections": true,
   "sideBar": true,
   "skip_h1_title": false,
   "title_cell": "Table of Contents",
   "title_sidebar": "Contents",
   "toc_cell": false,
   "toc_position": {},
   "toc_section_display": true,
   "toc_window_display": false
  }
 },
 "nbformat": 4,
 "nbformat_minor": 5
}

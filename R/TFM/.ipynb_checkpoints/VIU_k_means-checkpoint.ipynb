{
 "cells": [
  {
   "cell_type": "code",
   "execution_count": 1,
   "id": "fb12dac7",
   "metadata": {
    "ExecuteTime": {
     "end_time": "2024-07-30T21:39:27.641316Z",
     "start_time": "2024-07-30T21:38:58.698959Z"
    }
   },
   "outputs": [],
   "source": [
    "#Importación de librearías necesarias\n",
    "import pandas as pd\n",
    "from datetime import datetime\n",
    "import socket\n",
    "import numpy as np\n",
    "import math\n",
    "import time\n",
    "import pickle  #Para guardar archivos\n",
    "import os\n",
    "os.environ['OMP_NUM_THREADS'] = '1'\n",
    "\n",
    "from pympler import asizeof #Para liberar memoria\n",
    "import gc\n",
    "\n",
    "import matplotlib.pyplot as plt\n",
    "from matplotlib.colors import ListedColormap, to_rgb\n",
    "\n",
    "from sklearn import metrics\n",
    "from sklearn.cluster import KMeans\n",
    "import kneed\n",
    "\n",
    "semilla = 8"
   ]
  },
  {
   "cell_type": "code",
   "execution_count": 2,
   "id": "db7a9f6f",
   "metadata": {
    "ExecuteTime": {
     "end_time": "2024-07-30T21:00:36.670195Z",
     "start_time": "2024-07-30T21:00:36.664934Z"
    }
   },
   "outputs": [],
   "source": [
    "#Path general de archivos\n",
    "if socket.gethostname()=='LAPTOP-PUSGG08B': #Ip de la laptop\n",
    "    ruta = \"E:/Cristian Guatemal/Master/Big Data y Ciencia de Datos/VIU_TFM/Data/TFM/\"\n",
    "    r_ruta = \"E:/Cristian Guatemal/Master/Big Data y Ciencia de Datos/VIU_TFM/RData/TFM/\"\n",
    "elif socket.gethostname()=='PCUIOMTDAIE6382': #Ip del working\n",
    "    ruta =   \"D:/Master/Big_Data_Ciencia_Datos/VIU_TFM/Data/TFM/\"\n",
    "    r_ruta = \"D:/Master/Big_Data_Ciencia_Datos/VIU_TFM/RData/TFM/\"\n",
    "# Ruta del archivo de pensionistas de vejez\n",
    "ruta_vj = ruta + 'POB_VEJ_CD656_NEW.dsv'\n",
    "# Ruta del archivo de historia laboral de pensionistas\n",
    "ruta_afi = ruta + 'APORTES_CD656_new.dsv'"
   ]
  },
  {
   "cell_type": "code",
   "execution_count": 3,
   "id": "5e15e93b",
   "metadata": {
    "ExecuteTime": {
     "end_time": "2024-07-30T21:05:19.115416Z",
     "start_time": "2024-07-30T21:00:37.854853Z"
    }
   },
   "outputs": [],
   "source": [
    "# Cargar archivo------------------------------------------------------------------------------------------------------------\n",
    "directorio = r_ruta\n",
    "nombre_archivo = 'viu_clean_afi_sel_g_all_2.pkl'\n",
    "ruta_archivo = os.path.join(directorio, nombre_archivo)\n",
    "\n",
    "with open( ruta_archivo, 'rb') as archivo:\n",
    "    data_l = pickle.load( archivo )     "
   ]
  },
  {
   "cell_type": "code",
   "execution_count": 4,
   "id": "6a9249e2",
   "metadata": {
    "ExecuteTime": {
     "end_time": "2024-07-30T21:05:19.126697Z",
     "start_time": "2024-07-30T21:05:19.118421Z"
    }
   },
   "outputs": [
    {
     "data": {
      "text/plain": [
       "(62130167, 16)"
      ]
     },
     "execution_count": 4,
     "metadata": {},
     "output_type": "execute_result"
    }
   ],
   "source": [
    "data_l.shape #(62130167, 16)"
   ]
  },
  {
   "cell_type": "code",
   "execution_count": 5,
   "id": "217c4de9",
   "metadata": {
    "ExecuteTime": {
     "end_time": "2024-07-30T21:06:23.391490Z",
     "start_time": "2024-07-30T21:05:19.129696Z"
    }
   },
   "outputs": [
    {
     "name": "stdout",
     "output_type": "stream",
     "text": [
      "Tiempo de ejecución es:  0.0  horas con  0.0  minutos y 59.46226954460144  segundos\n"
     ]
    }
   ],
   "source": [
    "inicio = time.time()\n",
    "data_l = data_l.sort_values( by=[\"CEDULA_COD\",\"ANIO\", \"MES\"], ascending=[ True, True, True] )\n",
    "data_l.reset_index(inplace=True)\n",
    "data_l.rename(columns={'index': 'nuevo_indice'}, inplace=True)\n",
    "data_l.drop(columns=['nuevo_indice'], inplace=True)\n",
    "data_l['INDICE'] = data_l.index\n",
    "\n",
    "#Casos de no análisis\n",
    "data_no_grupo = data_l[ (data_l['GRUPO_SEL']==0) ].copy()\n",
    "data_no_grupo['ATI_CJ_M1'] = np.nan\n",
    "data_no_grupo['ATI_CJ_M2'] = np.nan\n",
    "data_no_grupo['ATI_CJ_M3'] = np.nan\n",
    "\n",
    "#Casos de análisis\n",
    "data = data_l[ (data_l['GRUPO_SEL']==1) ].copy()\n",
    "\n",
    "fin = time.time()  \n",
    "print('Tiempo de ejecución es: ',  (fin-inicio)//3600, ' horas con ' ,  (fin-inicio)%3600//60 , ' minutos y', (fin-inicio)%60, ' segundos' )"
   ]
  },
  {
   "cell_type": "code",
   "execution_count": 6,
   "id": "26e91003",
   "metadata": {
    "ExecuteTime": {
     "end_time": "2024-07-30T21:27:42.937467Z",
     "start_time": "2024-07-30T21:27:42.915908Z"
    }
   },
   "outputs": [
    {
     "data": {
      "text/html": [
       "<div>\n",
       "<style scoped>\n",
       "    .dataframe tbody tr th:only-of-type {\n",
       "        vertical-align: middle;\n",
       "    }\n",
       "\n",
       "    .dataframe tbody tr th {\n",
       "        vertical-align: top;\n",
       "    }\n",
       "\n",
       "    .dataframe thead th {\n",
       "        text-align: right;\n",
       "    }\n",
       "</style>\n",
       "<table border=\"1\" class=\"dataframe\">\n",
       "  <thead>\n",
       "    <tr style=\"text-align: right;\">\n",
       "      <th></th>\n",
       "      <th>CEDULA_COD</th>\n",
       "      <th>ANIO</th>\n",
       "      <th>MES</th>\n",
       "      <th>SALARIO</th>\n",
       "      <th>SALARIO_SECTOR</th>\n",
       "      <th>SECTOR_A</th>\n",
       "      <th>NUM_SEC_MES</th>\n",
       "      <th>%_NUM_SECTOR</th>\n",
       "      <th>GRUPO</th>\n",
       "      <th>SAL_PROM_GRUPO</th>\n",
       "      <th>GRUPO_SEL</th>\n",
       "      <th>INI_CAL</th>\n",
       "      <th>FIN_CAL</th>\n",
       "      <th>BASE_CAL</th>\n",
       "      <th>SBU</th>\n",
       "      <th>ID_SBU</th>\n",
       "      <th>INDICE</th>\n",
       "    </tr>\n",
       "  </thead>\n",
       "  <tbody>\n",
       "    <tr>\n",
       "      <th>13</th>\n",
       "      <td>126</td>\n",
       "      <td>2006</td>\n",
       "      <td>1</td>\n",
       "      <td>161.67</td>\n",
       "      <td>161.67</td>\n",
       "      <td>PRI</td>\n",
       "      <td>1</td>\n",
       "      <td>1</td>\n",
       "      <td>5</td>\n",
       "      <td>161.670000</td>\n",
       "      <td>1</td>\n",
       "      <td>2010-12-01</td>\n",
       "      <td>2006-01-01</td>\n",
       "      <td>210.635</td>\n",
       "      <td>160.0</td>\n",
       "      <td>-1</td>\n",
       "      <td>13</td>\n",
       "    </tr>\n",
       "    <tr>\n",
       "      <th>14</th>\n",
       "      <td>126</td>\n",
       "      <td>2006</td>\n",
       "      <td>2</td>\n",
       "      <td>161.67</td>\n",
       "      <td>161.67</td>\n",
       "      <td>PRI</td>\n",
       "      <td>1</td>\n",
       "      <td>1</td>\n",
       "      <td>5</td>\n",
       "      <td>161.670000</td>\n",
       "      <td>1</td>\n",
       "      <td>2010-12-01</td>\n",
       "      <td>2006-01-01</td>\n",
       "      <td>210.635</td>\n",
       "      <td>160.0</td>\n",
       "      <td>-1</td>\n",
       "      <td>14</td>\n",
       "    </tr>\n",
       "    <tr>\n",
       "      <th>15</th>\n",
       "      <td>126</td>\n",
       "      <td>2006</td>\n",
       "      <td>3</td>\n",
       "      <td>161.67</td>\n",
       "      <td>161.67</td>\n",
       "      <td>PRI</td>\n",
       "      <td>1</td>\n",
       "      <td>1</td>\n",
       "      <td>5</td>\n",
       "      <td>161.670000</td>\n",
       "      <td>1</td>\n",
       "      <td>2010-12-01</td>\n",
       "      <td>2006-01-01</td>\n",
       "      <td>210.635</td>\n",
       "      <td>160.0</td>\n",
       "      <td>-1</td>\n",
       "      <td>15</td>\n",
       "    </tr>\n",
       "    <tr>\n",
       "      <th>16</th>\n",
       "      <td>126</td>\n",
       "      <td>2006</td>\n",
       "      <td>4</td>\n",
       "      <td>161.67</td>\n",
       "      <td>161.67</td>\n",
       "      <td>PRI</td>\n",
       "      <td>1</td>\n",
       "      <td>1</td>\n",
       "      <td>5</td>\n",
       "      <td>161.670000</td>\n",
       "      <td>1</td>\n",
       "      <td>2010-12-01</td>\n",
       "      <td>2006-01-01</td>\n",
       "      <td>210.635</td>\n",
       "      <td>160.0</td>\n",
       "      <td>-1</td>\n",
       "      <td>16</td>\n",
       "    </tr>\n",
       "    <tr>\n",
       "      <th>17</th>\n",
       "      <td>126</td>\n",
       "      <td>2006</td>\n",
       "      <td>5</td>\n",
       "      <td>161.67</td>\n",
       "      <td>161.67</td>\n",
       "      <td>PRI</td>\n",
       "      <td>1</td>\n",
       "      <td>1</td>\n",
       "      <td>5</td>\n",
       "      <td>161.670000</td>\n",
       "      <td>1</td>\n",
       "      <td>2010-12-01</td>\n",
       "      <td>2006-01-01</td>\n",
       "      <td>210.635</td>\n",
       "      <td>160.0</td>\n",
       "      <td>-1</td>\n",
       "      <td>17</td>\n",
       "    </tr>\n",
       "    <tr>\n",
       "      <th>...</th>\n",
       "      <td>...</td>\n",
       "      <td>...</td>\n",
       "      <td>...</td>\n",
       "      <td>...</td>\n",
       "      <td>...</td>\n",
       "      <td>...</td>\n",
       "      <td>...</td>\n",
       "      <td>...</td>\n",
       "      <td>...</td>\n",
       "      <td>...</td>\n",
       "      <td>...</td>\n",
       "      <td>...</td>\n",
       "      <td>...</td>\n",
       "      <td>...</td>\n",
       "      <td>...</td>\n",
       "      <td>...</td>\n",
       "      <td>...</td>\n",
       "    </tr>\n",
       "    <tr>\n",
       "      <th>62130162</th>\n",
       "      <td>23594465</td>\n",
       "      <td>2017</td>\n",
       "      <td>11</td>\n",
       "      <td>14045.72</td>\n",
       "      <td>14045.72</td>\n",
       "      <td>PRI</td>\n",
       "      <td>1</td>\n",
       "      <td>1</td>\n",
       "      <td>1</td>\n",
       "      <td>16205.699167</td>\n",
       "      <td>1</td>\n",
       "      <td>2018-03-01</td>\n",
       "      <td>2013-04-01</td>\n",
       "      <td>16604.299</td>\n",
       "      <td>375.0</td>\n",
       "      <td>-1</td>\n",
       "      <td>62130162</td>\n",
       "    </tr>\n",
       "    <tr>\n",
       "      <th>62130163</th>\n",
       "      <td>23594465</td>\n",
       "      <td>2017</td>\n",
       "      <td>12</td>\n",
       "      <td>14164.25</td>\n",
       "      <td>14164.25</td>\n",
       "      <td>PRI</td>\n",
       "      <td>1</td>\n",
       "      <td>1</td>\n",
       "      <td>1</td>\n",
       "      <td>16205.699167</td>\n",
       "      <td>1</td>\n",
       "      <td>2018-03-01</td>\n",
       "      <td>2013-04-01</td>\n",
       "      <td>16604.299</td>\n",
       "      <td>375.0</td>\n",
       "      <td>-1</td>\n",
       "      <td>62130163</td>\n",
       "    </tr>\n",
       "    <tr>\n",
       "      <th>62130164</th>\n",
       "      <td>23594465</td>\n",
       "      <td>2018</td>\n",
       "      <td>1</td>\n",
       "      <td>12903.21</td>\n",
       "      <td>12903.21</td>\n",
       "      <td>PRI</td>\n",
       "      <td>1</td>\n",
       "      <td>1</td>\n",
       "      <td>1</td>\n",
       "      <td>16205.699167</td>\n",
       "      <td>1</td>\n",
       "      <td>2018-03-01</td>\n",
       "      <td>2013-04-01</td>\n",
       "      <td>16604.299</td>\n",
       "      <td>386.0</td>\n",
       "      <td>-1</td>\n",
       "      <td>62130164</td>\n",
       "    </tr>\n",
       "    <tr>\n",
       "      <th>62130165</th>\n",
       "      <td>23594465</td>\n",
       "      <td>2018</td>\n",
       "      <td>2</td>\n",
       "      <td>42432.21</td>\n",
       "      <td>42432.21</td>\n",
       "      <td>PRI</td>\n",
       "      <td>1</td>\n",
       "      <td>1</td>\n",
       "      <td>1</td>\n",
       "      <td>16205.699167</td>\n",
       "      <td>1</td>\n",
       "      <td>2018-03-01</td>\n",
       "      <td>2013-04-01</td>\n",
       "      <td>16604.299</td>\n",
       "      <td>386.0</td>\n",
       "      <td>-1</td>\n",
       "      <td>62130165</td>\n",
       "    </tr>\n",
       "    <tr>\n",
       "      <th>62130166</th>\n",
       "      <td>23594465</td>\n",
       "      <td>2018</td>\n",
       "      <td>3</td>\n",
       "      <td>12738.28</td>\n",
       "      <td>12738.28</td>\n",
       "      <td>PRI</td>\n",
       "      <td>1</td>\n",
       "      <td>1</td>\n",
       "      <td>1</td>\n",
       "      <td>16205.699167</td>\n",
       "      <td>1</td>\n",
       "      <td>2018-03-01</td>\n",
       "      <td>2013-04-01</td>\n",
       "      <td>16604.299</td>\n",
       "      <td>386.0</td>\n",
       "      <td>-1</td>\n",
       "      <td>62130166</td>\n",
       "    </tr>\n",
       "  </tbody>\n",
       "</table>\n",
       "<p>26472116 rows × 17 columns</p>\n",
       "</div>"
      ],
      "text/plain": [
       "          CEDULA_COD  ANIO  MES   SALARIO SALARIO_SECTOR SECTOR_A  \\\n",
       "13               126  2006    1    161.67         161.67      PRI   \n",
       "14               126  2006    2    161.67         161.67      PRI   \n",
       "15               126  2006    3    161.67         161.67      PRI   \n",
       "16               126  2006    4    161.67         161.67      PRI   \n",
       "17               126  2006    5    161.67         161.67      PRI   \n",
       "...              ...   ...  ...       ...            ...      ...   \n",
       "62130162    23594465  2017   11  14045.72       14045.72      PRI   \n",
       "62130163    23594465  2017   12  14164.25       14164.25      PRI   \n",
       "62130164    23594465  2018    1  12903.21       12903.21      PRI   \n",
       "62130165    23594465  2018    2  42432.21       42432.21      PRI   \n",
       "62130166    23594465  2018    3  12738.28       12738.28      PRI   \n",
       "\n",
       "          NUM_SEC_MES %_NUM_SECTOR  GRUPO  SAL_PROM_GRUPO  GRUPO_SEL  \\\n",
       "13                  1            1      5      161.670000          1   \n",
       "14                  1            1      5      161.670000          1   \n",
       "15                  1            1      5      161.670000          1   \n",
       "16                  1            1      5      161.670000          1   \n",
       "17                  1            1      5      161.670000          1   \n",
       "...               ...          ...    ...             ...        ...   \n",
       "62130162            1            1      1    16205.699167          1   \n",
       "62130163            1            1      1    16205.699167          1   \n",
       "62130164            1            1      1    16205.699167          1   \n",
       "62130165            1            1      1    16205.699167          1   \n",
       "62130166            1            1      1    16205.699167          1   \n",
       "\n",
       "            INI_CAL    FIN_CAL   BASE_CAL    SBU  ID_SBU    INDICE  \n",
       "13       2010-12-01 2006-01-01    210.635  160.0      -1        13  \n",
       "14       2010-12-01 2006-01-01    210.635  160.0      -1        14  \n",
       "15       2010-12-01 2006-01-01    210.635  160.0      -1        15  \n",
       "16       2010-12-01 2006-01-01    210.635  160.0      -1        16  \n",
       "17       2010-12-01 2006-01-01    210.635  160.0      -1        17  \n",
       "...             ...        ...        ...    ...     ...       ...  \n",
       "62130162 2018-03-01 2013-04-01  16604.299  375.0      -1  62130162  \n",
       "62130163 2018-03-01 2013-04-01  16604.299  375.0      -1  62130163  \n",
       "62130164 2018-03-01 2013-04-01  16604.299  386.0      -1  62130164  \n",
       "62130165 2018-03-01 2013-04-01  16604.299  386.0      -1  62130165  \n",
       "62130166 2018-03-01 2013-04-01  16604.299  386.0      -1  62130166  \n",
       "\n",
       "[26472116 rows x 17 columns]"
      ]
     },
     "execution_count": 6,
     "metadata": {},
     "output_type": "execute_result"
    }
   ],
   "source": [
    "data"
   ]
  },
  {
   "cell_type": "code",
   "execution_count": 7,
   "id": "45aaee27",
   "metadata": {
    "ExecuteTime": {
     "end_time": "2024-07-30T21:28:46.101064Z",
     "start_time": "2024-07-30T21:28:40.010680Z"
    }
   },
   "outputs": [],
   "source": [
    "data_si = data[  (( data['SALARIO'] >= data['SBU'] ) & ( data['ANIO'] >= 2000 )) ].copy() \n",
    "data_no = data[ ~(( data['SALARIO'] >= data['SBU'] ) & ( data['ANIO'] >= 2000 )) ].copy() "
   ]
  },
  {
   "cell_type": "code",
   "execution_count": 8,
   "id": "b70f6cb7",
   "metadata": {
    "ExecuteTime": {
     "end_time": "2024-07-30T21:29:19.857073Z",
     "start_time": "2024-07-30T21:28:47.947571Z"
    }
   },
   "outputs": [],
   "source": [
    "data_si_dic = data_si.groupby('CEDULA_COD').agg({'SALARIO': list, 'INDICE': list}).to_dict(orient='index')\n",
    "data_no_dic = data_no.groupby('CEDULA_COD').agg({'SALARIO': list, 'INDICE': list}).to_dict(orient='index')"
   ]
  },
  {
   "cell_type": "code",
   "execution_count": 165,
   "id": "749dcf13",
   "metadata": {
    "ExecuteTime": {
     "end_time": "2024-07-30T21:46:51.670051Z",
     "start_time": "2024-07-30T21:46:51.662984Z"
    }
   },
   "outputs": [],
   "source": [
    "#Determinación del número de cluster según el método del codo y Silueta\n",
    "def max_clust_silueta( silhouettes ):\n",
    "    valor_cercano = silhouettes[0]\n",
    "    indice_cercano = 0\n",
    "    \n",
    "    for indice, valor in enumerate(silhouettes):\n",
    "        if abs(1 - valor) < abs(1 - valor_cercano):\n",
    "            valor_cercano = valor\n",
    "            indice_cercano = indice\n",
    "            \n",
    "    indice_cercano  = indice_cercano + 2\n",
    "    return( indice_cercano )\n",
    "\n",
    "def num_cluster( data_si_dic, num ):\n",
    "    print('*' * 10, 'Determinación del número de clúster por el método del codo y silueta', '*' * 10)\n",
    "    inicio = time.time()\n",
    "    \n",
    "    for ced  in data_si_dic:\n",
    "        aux = None\n",
    "        aux = np.unique( np.array( data_si_dic[ced]['SALARIO']) ).reshape(-1, 1)\n",
    "        \n",
    "        data_si_dic[ced]['distorsion'] = []\n",
    "        data_si_dic[ced]['silueta'] = []\n",
    "        \n",
    "        tf = min(num, len(aux) - 1) + 1\n",
    "\n",
    "        for i in range( 2, tf ):\n",
    "            km = KMeans( i, init = 'k-means++', n_init = 1, max_iter = 300, tol = 1e-4, random_state = semilla )\n",
    "            clustering = km.fit_predict( aux )\n",
    "\n",
    "            if( len( np.unique( clustering ) ) > 1):\n",
    "                data_si_dic[ced]['distorsion'].append( km.inertia_ )\n",
    "                data_si_dic[ced]['silueta'].append( metrics.silhouette_score( aux, clustering ) )\n",
    "            \n",
    "            else:\n",
    "                data_si_dic[ced]['distorsion'] = [0] \n",
    "                data_si_dic[ced]['silueta'] =  [0] \n",
    "    \n",
    "        if( len( data_si_dic[ced]['distorsion'] ) > 1 & len( data_si_dic[ced]['silueta'] ) > 1 ):\n",
    "            data_si_dic[ced]['num_codo'] = kneed.KneeLocator( range( 2, tf ), \n",
    "                                                              data_si_dic[ced]['distorsion'][ :num ],\n",
    "                                                              curve=\"convex\", direction=\"decreasing\" ).elbow\n",
    "    \n",
    "            data_si_dic[ced]['max_silueta'] =  max_clust_silueta( data_si_dic[ced]['silueta'] )\n",
    "        \n",
    "        else:\n",
    "            data_si_dic[ced]['num_codo'] = 1\n",
    "            data_si_dic[ced]['max_silueta'] = 1\n",
    "            \n",
    "    return data_si_dic\n",
    "\n",
    "    fin = time.time()  \n",
    "    print('\\tTiempo de ejecución es: ',  (fin-inicio)//3600, ' horas con ' ,  (fin-inicio)%3600//60 , ' minutos y', (fin-inicio)%60, ' segundos' )\n",
    "    print('*' * 102)"
   ]
  },
  {
   "cell_type": "code",
   "execution_count": 166,
   "id": "28797be3",
   "metadata": {},
   "outputs": [
    {
     "name": "stdout",
     "output_type": "stream",
     "text": [
      "********** Determinación del número de clúster por el método del codo y silueta **********\n"
     ]
    },
    {
     "ename": "KeyboardInterrupt",
     "evalue": "",
     "output_type": "error",
     "traceback": [
      "\u001b[1;31m---------------------------------------------------------------------------\u001b[0m",
      "\u001b[1;31mKeyboardInterrupt\u001b[0m                         Traceback (most recent call last)",
      "\u001b[1;32m~\\AppData\\Local\\Temp\\ipykernel_20220\\587954813.py\u001b[0m in \u001b[0;36m<module>\u001b[1;34m\u001b[0m\n\u001b[0;32m      1\u001b[0m \u001b[0mnum\u001b[0m \u001b[1;33m=\u001b[0m \u001b[1;36m4\u001b[0m\u001b[1;33m\u001b[0m\u001b[1;33m\u001b[0m\u001b[0m\n\u001b[1;32m----> 2\u001b[1;33m \u001b[0ma\u001b[0m \u001b[1;33m=\u001b[0m \u001b[0mnum_cluster\u001b[0m\u001b[1;33m(\u001b[0m \u001b[0mdata_si_dic\u001b[0m\u001b[1;33m,\u001b[0m \u001b[0mnum\u001b[0m \u001b[1;33m)\u001b[0m\u001b[1;33m\u001b[0m\u001b[1;33m\u001b[0m\u001b[0m\n\u001b[0m",
      "\u001b[1;32m~\\AppData\\Local\\Temp\\ipykernel_20220\\596942143.py\u001b[0m in \u001b[0;36mnum_cluster\u001b[1;34m(data_si_dic, num)\u001b[0m\n\u001b[0;32m     31\u001b[0m             \u001b[1;32mif\u001b[0m\u001b[1;33m(\u001b[0m \u001b[0mlen\u001b[0m\u001b[1;33m(\u001b[0m \u001b[0mnp\u001b[0m\u001b[1;33m.\u001b[0m\u001b[0munique\u001b[0m\u001b[1;33m(\u001b[0m \u001b[0mclustering\u001b[0m \u001b[1;33m)\u001b[0m \u001b[1;33m)\u001b[0m \u001b[1;33m>\u001b[0m \u001b[1;36m1\u001b[0m\u001b[1;33m)\u001b[0m\u001b[1;33m:\u001b[0m\u001b[1;33m\u001b[0m\u001b[1;33m\u001b[0m\u001b[0m\n\u001b[0;32m     32\u001b[0m                 \u001b[0mdata_si_dic\u001b[0m\u001b[1;33m[\u001b[0m\u001b[0mced\u001b[0m\u001b[1;33m]\u001b[0m\u001b[1;33m[\u001b[0m\u001b[1;34m'distorsion'\u001b[0m\u001b[1;33m]\u001b[0m\u001b[1;33m.\u001b[0m\u001b[0mappend\u001b[0m\u001b[1;33m(\u001b[0m \u001b[0mkm\u001b[0m\u001b[1;33m.\u001b[0m\u001b[0minertia_\u001b[0m \u001b[1;33m)\u001b[0m\u001b[1;33m\u001b[0m\u001b[1;33m\u001b[0m\u001b[0m\n\u001b[1;32m---> 33\u001b[1;33m                 \u001b[0mdata_si_dic\u001b[0m\u001b[1;33m[\u001b[0m\u001b[0mced\u001b[0m\u001b[1;33m]\u001b[0m\u001b[1;33m[\u001b[0m\u001b[1;34m'silueta'\u001b[0m\u001b[1;33m]\u001b[0m\u001b[1;33m.\u001b[0m\u001b[0mappend\u001b[0m\u001b[1;33m(\u001b[0m \u001b[0mmetrics\u001b[0m\u001b[1;33m.\u001b[0m\u001b[0msilhouette_score\u001b[0m\u001b[1;33m(\u001b[0m \u001b[0maux\u001b[0m\u001b[1;33m,\u001b[0m \u001b[0mclustering\u001b[0m \u001b[1;33m)\u001b[0m \u001b[1;33m)\u001b[0m\u001b[1;33m\u001b[0m\u001b[1;33m\u001b[0m\u001b[0m\n\u001b[0m\u001b[0;32m     34\u001b[0m \u001b[1;33m\u001b[0m\u001b[0m\n\u001b[0;32m     35\u001b[0m             \u001b[1;32melse\u001b[0m\u001b[1;33m:\u001b[0m\u001b[1;33m\u001b[0m\u001b[1;33m\u001b[0m\u001b[0m\n",
      "\u001b[1;32mC:\\ProgramData\\Anaconda3\\lib\\site-packages\\sklearn\\metrics\\cluster\\_unsupervised.py\u001b[0m in \u001b[0;36msilhouette_score\u001b[1;34m(X, labels, metric, sample_size, random_state, **kwds)\u001b[0m\n\u001b[0;32m    115\u001b[0m         \u001b[1;32melse\u001b[0m\u001b[1;33m:\u001b[0m\u001b[1;33m\u001b[0m\u001b[1;33m\u001b[0m\u001b[0m\n\u001b[0;32m    116\u001b[0m             \u001b[0mX\u001b[0m\u001b[1;33m,\u001b[0m \u001b[0mlabels\u001b[0m \u001b[1;33m=\u001b[0m \u001b[0mX\u001b[0m\u001b[1;33m[\u001b[0m\u001b[0mindices\u001b[0m\u001b[1;33m]\u001b[0m\u001b[1;33m,\u001b[0m \u001b[0mlabels\u001b[0m\u001b[1;33m[\u001b[0m\u001b[0mindices\u001b[0m\u001b[1;33m]\u001b[0m\u001b[1;33m\u001b[0m\u001b[1;33m\u001b[0m\u001b[0m\n\u001b[1;32m--> 117\u001b[1;33m     \u001b[1;32mreturn\u001b[0m \u001b[0mnp\u001b[0m\u001b[1;33m.\u001b[0m\u001b[0mmean\u001b[0m\u001b[1;33m(\u001b[0m\u001b[0msilhouette_samples\u001b[0m\u001b[1;33m(\u001b[0m\u001b[0mX\u001b[0m\u001b[1;33m,\u001b[0m \u001b[0mlabels\u001b[0m\u001b[1;33m,\u001b[0m \u001b[0mmetric\u001b[0m\u001b[1;33m=\u001b[0m\u001b[0mmetric\u001b[0m\u001b[1;33m,\u001b[0m \u001b[1;33m**\u001b[0m\u001b[0mkwds\u001b[0m\u001b[1;33m)\u001b[0m\u001b[1;33m)\u001b[0m\u001b[1;33m\u001b[0m\u001b[1;33m\u001b[0m\u001b[0m\n\u001b[0m\u001b[0;32m    118\u001b[0m \u001b[1;33m\u001b[0m\u001b[0m\n\u001b[0;32m    119\u001b[0m \u001b[1;33m\u001b[0m\u001b[0m\n",
      "\u001b[1;32mC:\\ProgramData\\Anaconda3\\lib\\site-packages\\sklearn\\metrics\\cluster\\_unsupervised.py\u001b[0m in \u001b[0;36msilhouette_samples\u001b[1;34m(X, labels, metric, **kwds)\u001b[0m\n\u001b[0;32m    231\u001b[0m         \u001b[0m_silhouette_reduce\u001b[0m\u001b[1;33m,\u001b[0m \u001b[0mlabels\u001b[0m\u001b[1;33m=\u001b[0m\u001b[0mlabels\u001b[0m\u001b[1;33m,\u001b[0m \u001b[0mlabel_freqs\u001b[0m\u001b[1;33m=\u001b[0m\u001b[0mlabel_freqs\u001b[0m\u001b[1;33m\u001b[0m\u001b[1;33m\u001b[0m\u001b[0m\n\u001b[0;32m    232\u001b[0m     )\n\u001b[1;32m--> 233\u001b[1;33m     \u001b[0mresults\u001b[0m \u001b[1;33m=\u001b[0m \u001b[0mzip\u001b[0m\u001b[1;33m(\u001b[0m\u001b[1;33m*\u001b[0m\u001b[0mpairwise_distances_chunked\u001b[0m\u001b[1;33m(\u001b[0m\u001b[0mX\u001b[0m\u001b[1;33m,\u001b[0m \u001b[0mreduce_func\u001b[0m\u001b[1;33m=\u001b[0m\u001b[0mreduce_func\u001b[0m\u001b[1;33m,\u001b[0m \u001b[1;33m**\u001b[0m\u001b[0mkwds\u001b[0m\u001b[1;33m)\u001b[0m\u001b[1;33m)\u001b[0m\u001b[1;33m\u001b[0m\u001b[1;33m\u001b[0m\u001b[0m\n\u001b[0m\u001b[0;32m    234\u001b[0m     \u001b[0mintra_clust_dists\u001b[0m\u001b[1;33m,\u001b[0m \u001b[0minter_clust_dists\u001b[0m \u001b[1;33m=\u001b[0m \u001b[0mresults\u001b[0m\u001b[1;33m\u001b[0m\u001b[1;33m\u001b[0m\u001b[0m\n\u001b[0;32m    235\u001b[0m     \u001b[0mintra_clust_dists\u001b[0m \u001b[1;33m=\u001b[0m \u001b[0mnp\u001b[0m\u001b[1;33m.\u001b[0m\u001b[0mconcatenate\u001b[0m\u001b[1;33m(\u001b[0m\u001b[0mintra_clust_dists\u001b[0m\u001b[1;33m)\u001b[0m\u001b[1;33m\u001b[0m\u001b[1;33m\u001b[0m\u001b[0m\n",
      "\u001b[1;32mC:\\ProgramData\\Anaconda3\\lib\\site-packages\\sklearn\\metrics\\pairwise.py\u001b[0m in \u001b[0;36mpairwise_distances_chunked\u001b[1;34m(X, Y, reduce_func, metric, n_jobs, working_memory, **kwds)\u001b[0m\n\u001b[0;32m   1724\u001b[0m         \u001b[1;32mif\u001b[0m \u001b[0mreduce_func\u001b[0m \u001b[1;32mis\u001b[0m \u001b[1;32mnot\u001b[0m \u001b[1;32mNone\u001b[0m\u001b[1;33m:\u001b[0m\u001b[1;33m\u001b[0m\u001b[1;33m\u001b[0m\u001b[0m\n\u001b[0;32m   1725\u001b[0m             \u001b[0mchunk_size\u001b[0m \u001b[1;33m=\u001b[0m \u001b[0mD_chunk\u001b[0m\u001b[1;33m.\u001b[0m\u001b[0mshape\u001b[0m\u001b[1;33m[\u001b[0m\u001b[1;36m0\u001b[0m\u001b[1;33m]\u001b[0m\u001b[1;33m\u001b[0m\u001b[1;33m\u001b[0m\u001b[0m\n\u001b[1;32m-> 1726\u001b[1;33m             \u001b[0mD_chunk\u001b[0m \u001b[1;33m=\u001b[0m \u001b[0mreduce_func\u001b[0m\u001b[1;33m(\u001b[0m\u001b[0mD_chunk\u001b[0m\u001b[1;33m,\u001b[0m \u001b[0msl\u001b[0m\u001b[1;33m.\u001b[0m\u001b[0mstart\u001b[0m\u001b[1;33m)\u001b[0m\u001b[1;33m\u001b[0m\u001b[1;33m\u001b[0m\u001b[0m\n\u001b[0m\u001b[0;32m   1727\u001b[0m             \u001b[0m_check_chunk_size\u001b[0m\u001b[1;33m(\u001b[0m\u001b[0mD_chunk\u001b[0m\u001b[1;33m,\u001b[0m \u001b[0mchunk_size\u001b[0m\u001b[1;33m)\u001b[0m\u001b[1;33m\u001b[0m\u001b[1;33m\u001b[0m\u001b[0m\n\u001b[0;32m   1728\u001b[0m         \u001b[1;32myield\u001b[0m \u001b[0mD_chunk\u001b[0m\u001b[1;33m\u001b[0m\u001b[1;33m\u001b[0m\u001b[0m\n",
      "\u001b[1;32mC:\\ProgramData\\Anaconda3\\lib\\site-packages\\sklearn\\metrics\\cluster\\_unsupervised.py\u001b[0m in \u001b[0;36m_silhouette_reduce\u001b[1;34m(D_chunk, start, labels, label_freqs)\u001b[0m\n\u001b[0;32m    144\u001b[0m     \u001b[0mintra_clust_dists\u001b[0m \u001b[1;33m=\u001b[0m \u001b[0mclust_dists\u001b[0m\u001b[1;33m[\u001b[0m\u001b[0mintra_index\u001b[0m\u001b[1;33m]\u001b[0m\u001b[1;33m\u001b[0m\u001b[1;33m\u001b[0m\u001b[0m\n\u001b[0;32m    145\u001b[0m     \u001b[1;31m# of the remaining distances we normalise and extract the minimum\u001b[0m\u001b[1;33m\u001b[0m\u001b[1;33m\u001b[0m\u001b[0m\n\u001b[1;32m--> 146\u001b[1;33m     \u001b[0mclust_dists\u001b[0m\u001b[1;33m[\u001b[0m\u001b[0mintra_index\u001b[0m\u001b[1;33m]\u001b[0m \u001b[1;33m=\u001b[0m \u001b[0mnp\u001b[0m\u001b[1;33m.\u001b[0m\u001b[0minf\u001b[0m\u001b[1;33m\u001b[0m\u001b[1;33m\u001b[0m\u001b[0m\n\u001b[0m\u001b[0;32m    147\u001b[0m     \u001b[0mclust_dists\u001b[0m \u001b[1;33m/=\u001b[0m \u001b[0mlabel_freqs\u001b[0m\u001b[1;33m\u001b[0m\u001b[1;33m\u001b[0m\u001b[0m\n\u001b[0;32m    148\u001b[0m     \u001b[0minter_clust_dists\u001b[0m \u001b[1;33m=\u001b[0m \u001b[0mclust_dists\u001b[0m\u001b[1;33m.\u001b[0m\u001b[0mmin\u001b[0m\u001b[1;33m(\u001b[0m\u001b[0maxis\u001b[0m\u001b[1;33m=\u001b[0m\u001b[1;36m1\u001b[0m\u001b[1;33m)\u001b[0m\u001b[1;33m\u001b[0m\u001b[1;33m\u001b[0m\u001b[0m\n",
      "\u001b[1;31mKeyboardInterrupt\u001b[0m: "
     ]
    }
   ],
   "source": [
    "num = 4\n",
    "a = num_cluster( data_si_dic, num )"
   ]
  },
  {
   "cell_type": "code",
   "execution_count": 156,
   "id": "13c1c287",
   "metadata": {},
   "outputs": [
    {
     "data": {
      "text/plain": [
       "array([[161.67],\n",
       "       [170.  ],\n",
       "       [200.  ],\n",
       "       [250.  ]])"
      ]
     },
     "execution_count": 156,
     "metadata": {},
     "output_type": "execute_result"
    }
   ],
   "source": [
    " np.unique( np.array( data_si_dic[126]['SALARIO']) ).reshape(-1, 1)"
   ]
  },
  {
   "cell_type": "code",
   "execution_count": 163,
   "id": "dbaf5065",
   "metadata": {},
   "outputs": [
    {
     "name": "stdout",
     "output_type": "stream",
     "text": [
      "********** Determinación del número de clúster por el método del codo y silueta **********\n"
     ]
    },
    {
     "ename": "ValueError",
     "evalue": "x and y arrays must be equal in length along interpolation axis.",
     "output_type": "error",
     "traceback": [
      "\u001b[1;31m---------------------------------------------------------------------------\u001b[0m",
      "\u001b[1;31mValueError\u001b[0m                                Traceback (most recent call last)",
      "\u001b[1;32m~\\AppData\\Local\\Temp\\ipykernel_20220\\2510644565.py\u001b[0m in \u001b[0;36m<module>\u001b[1;34m\u001b[0m\n\u001b[0;32m     23\u001b[0m     \u001b[1;32mif\u001b[0m\u001b[1;33m(\u001b[0m \u001b[0mlen\u001b[0m\u001b[1;33m(\u001b[0m \u001b[0mdata_si_dic\u001b[0m\u001b[1;33m[\u001b[0m\u001b[0mced\u001b[0m\u001b[1;33m]\u001b[0m\u001b[1;33m[\u001b[0m\u001b[1;34m'distorsion'\u001b[0m\u001b[1;33m]\u001b[0m \u001b[1;33m)\u001b[0m \u001b[1;33m>\u001b[0m \u001b[1;36m1\u001b[0m \u001b[1;33m&\u001b[0m \u001b[0mlen\u001b[0m\u001b[1;33m(\u001b[0m \u001b[0mdata_si_dic\u001b[0m\u001b[1;33m[\u001b[0m\u001b[0mced\u001b[0m\u001b[1;33m]\u001b[0m\u001b[1;33m[\u001b[0m\u001b[1;34m'silueta'\u001b[0m\u001b[1;33m]\u001b[0m \u001b[1;33m)\u001b[0m \u001b[1;33m)\u001b[0m\u001b[1;33m:\u001b[0m\u001b[1;33m\u001b[0m\u001b[1;33m\u001b[0m\u001b[0m\n\u001b[0;32m     24\u001b[0m \u001b[1;33m\u001b[0m\u001b[0m\n\u001b[1;32m---> 25\u001b[1;33m         data_si_dic[ced]['num_codo'] = kneed.KneeLocator( range(2, min(num, len(aux)) + 1 ), \n\u001b[0m\u001b[0;32m     26\u001b[0m                                           \u001b[0mdata_si_dic\u001b[0m\u001b[1;33m[\u001b[0m\u001b[0mced\u001b[0m\u001b[1;33m]\u001b[0m\u001b[1;33m[\u001b[0m\u001b[1;34m'distorsion'\u001b[0m\u001b[1;33m]\u001b[0m\u001b[1;33m[\u001b[0m \u001b[1;33m:\u001b[0m\u001b[0mnum\u001b[0m \u001b[1;33m]\u001b[0m\u001b[1;33m,\u001b[0m\u001b[1;33m\u001b[0m\u001b[1;33m\u001b[0m\u001b[0m\n\u001b[0;32m     27\u001b[0m                                           curve=\"convex\", direction=\"decreasing\" ).elbow\n",
      "\u001b[1;32m~\\AppData\\Roaming\\Python\\Python39\\site-packages\\kneed\\knee_locator.py\u001b[0m in \u001b[0;36m__init__\u001b[1;34m(self, x, y, S, curve, direction, interp_method, online, polynomial_degree)\u001b[0m\n\u001b[0;32m    169\u001b[0m         \u001b[1;31m# Step 1: fit a smooth line\u001b[0m\u001b[1;33m\u001b[0m\u001b[1;33m\u001b[0m\u001b[0m\n\u001b[0;32m    170\u001b[0m         \u001b[1;32mif\u001b[0m \u001b[0minterp_method\u001b[0m \u001b[1;33m==\u001b[0m \u001b[1;34m\"interp1d\"\u001b[0m\u001b[1;33m:\u001b[0m\u001b[1;33m\u001b[0m\u001b[1;33m\u001b[0m\u001b[0m\n\u001b[1;32m--> 171\u001b[1;33m             \u001b[0muspline\u001b[0m \u001b[1;33m=\u001b[0m \u001b[0minterpolate\u001b[0m\u001b[1;33m.\u001b[0m\u001b[0minterp1d\u001b[0m\u001b[1;33m(\u001b[0m\u001b[0mself\u001b[0m\u001b[1;33m.\u001b[0m\u001b[0mx\u001b[0m\u001b[1;33m,\u001b[0m \u001b[0mself\u001b[0m\u001b[1;33m.\u001b[0m\u001b[0my\u001b[0m\u001b[1;33m)\u001b[0m\u001b[1;33m\u001b[0m\u001b[1;33m\u001b[0m\u001b[0m\n\u001b[0m\u001b[0;32m    172\u001b[0m             \u001b[0mself\u001b[0m\u001b[1;33m.\u001b[0m\u001b[0mDs_y\u001b[0m \u001b[1;33m=\u001b[0m \u001b[0muspline\u001b[0m\u001b[1;33m(\u001b[0m\u001b[0mself\u001b[0m\u001b[1;33m.\u001b[0m\u001b[0mx\u001b[0m\u001b[1;33m)\u001b[0m\u001b[1;33m\u001b[0m\u001b[1;33m\u001b[0m\u001b[0m\n\u001b[0;32m    173\u001b[0m         \u001b[1;32melif\u001b[0m \u001b[0minterp_method\u001b[0m \u001b[1;33m==\u001b[0m \u001b[1;34m\"polynomial\"\u001b[0m\u001b[1;33m:\u001b[0m\u001b[1;33m\u001b[0m\u001b[1;33m\u001b[0m\u001b[0m\n",
      "\u001b[1;32mC:\\ProgramData\\Anaconda3\\lib\\site-packages\\scipy\\interpolate\\_interpolate.py\u001b[0m in \u001b[0;36m__init__\u001b[1;34m(self, x, y, kind, axis, copy, bounds_error, fill_value, assume_sorted)\u001b[0m\n\u001b[0;32m    444\u001b[0m                  assume_sorted=False):\n\u001b[0;32m    445\u001b[0m         \u001b[1;34m\"\"\" Initialize a 1-D linear interpolation class.\"\"\"\u001b[0m\u001b[1;33m\u001b[0m\u001b[1;33m\u001b[0m\u001b[0m\n\u001b[1;32m--> 446\u001b[1;33m         \u001b[0m_Interpolator1D\u001b[0m\u001b[1;33m.\u001b[0m\u001b[0m__init__\u001b[0m\u001b[1;33m(\u001b[0m\u001b[0mself\u001b[0m\u001b[1;33m,\u001b[0m \u001b[0mx\u001b[0m\u001b[1;33m,\u001b[0m \u001b[0my\u001b[0m\u001b[1;33m,\u001b[0m \u001b[0maxis\u001b[0m\u001b[1;33m=\u001b[0m\u001b[0maxis\u001b[0m\u001b[1;33m)\u001b[0m\u001b[1;33m\u001b[0m\u001b[1;33m\u001b[0m\u001b[0m\n\u001b[0m\u001b[0;32m    447\u001b[0m \u001b[1;33m\u001b[0m\u001b[0m\n\u001b[0;32m    448\u001b[0m         \u001b[0mself\u001b[0m\u001b[1;33m.\u001b[0m\u001b[0mbounds_error\u001b[0m \u001b[1;33m=\u001b[0m \u001b[0mbounds_error\u001b[0m  \u001b[1;31m# used by fill_value setter\u001b[0m\u001b[1;33m\u001b[0m\u001b[1;33m\u001b[0m\u001b[0m\n",
      "\u001b[1;32mC:\\ProgramData\\Anaconda3\\lib\\site-packages\\scipy\\interpolate\\_polyint.py\u001b[0m in \u001b[0;36m__init__\u001b[1;34m(self, xi, yi, axis)\u001b[0m\n\u001b[0;32m     52\u001b[0m         \u001b[0mself\u001b[0m\u001b[1;33m.\u001b[0m\u001b[0mdtype\u001b[0m \u001b[1;33m=\u001b[0m \u001b[1;32mNone\u001b[0m\u001b[1;33m\u001b[0m\u001b[1;33m\u001b[0m\u001b[0m\n\u001b[0;32m     53\u001b[0m         \u001b[1;32mif\u001b[0m \u001b[0myi\u001b[0m \u001b[1;32mis\u001b[0m \u001b[1;32mnot\u001b[0m \u001b[1;32mNone\u001b[0m\u001b[1;33m:\u001b[0m\u001b[1;33m\u001b[0m\u001b[1;33m\u001b[0m\u001b[0m\n\u001b[1;32m---> 54\u001b[1;33m             \u001b[0mself\u001b[0m\u001b[1;33m.\u001b[0m\u001b[0m_set_yi\u001b[0m\u001b[1;33m(\u001b[0m\u001b[0myi\u001b[0m\u001b[1;33m,\u001b[0m \u001b[0mxi\u001b[0m\u001b[1;33m=\u001b[0m\u001b[0mxi\u001b[0m\u001b[1;33m,\u001b[0m \u001b[0maxis\u001b[0m\u001b[1;33m=\u001b[0m\u001b[0maxis\u001b[0m\u001b[1;33m)\u001b[0m\u001b[1;33m\u001b[0m\u001b[1;33m\u001b[0m\u001b[0m\n\u001b[0m\u001b[0;32m     55\u001b[0m \u001b[1;33m\u001b[0m\u001b[0m\n\u001b[0;32m     56\u001b[0m     \u001b[1;32mdef\u001b[0m \u001b[0m__call__\u001b[0m\u001b[1;33m(\u001b[0m\u001b[0mself\u001b[0m\u001b[1;33m,\u001b[0m \u001b[0mx\u001b[0m\u001b[1;33m)\u001b[0m\u001b[1;33m:\u001b[0m\u001b[1;33m\u001b[0m\u001b[1;33m\u001b[0m\u001b[0m\n",
      "\u001b[1;32mC:\\ProgramData\\Anaconda3\\lib\\site-packages\\scipy\\interpolate\\_polyint.py\u001b[0m in \u001b[0;36m_set_yi\u001b[1;34m(self, yi, xi, axis)\u001b[0m\n\u001b[0;32m    122\u001b[0m             \u001b[0mshape\u001b[0m \u001b[1;33m=\u001b[0m \u001b[1;33m(\u001b[0m\u001b[1;36m1\u001b[0m\u001b[1;33m,\u001b[0m\u001b[1;33m)\u001b[0m\u001b[1;33m\u001b[0m\u001b[1;33m\u001b[0m\u001b[0m\n\u001b[0;32m    123\u001b[0m         \u001b[1;32mif\u001b[0m \u001b[0mxi\u001b[0m \u001b[1;32mis\u001b[0m \u001b[1;32mnot\u001b[0m \u001b[1;32mNone\u001b[0m \u001b[1;32mand\u001b[0m \u001b[0mshape\u001b[0m\u001b[1;33m[\u001b[0m\u001b[0maxis\u001b[0m\u001b[1;33m]\u001b[0m \u001b[1;33m!=\u001b[0m \u001b[0mlen\u001b[0m\u001b[1;33m(\u001b[0m\u001b[0mxi\u001b[0m\u001b[1;33m)\u001b[0m\u001b[1;33m:\u001b[0m\u001b[1;33m\u001b[0m\u001b[1;33m\u001b[0m\u001b[0m\n\u001b[1;32m--> 124\u001b[1;33m             raise ValueError(\"x and y arrays must be equal in length along \"\n\u001b[0m\u001b[0;32m    125\u001b[0m                              \"interpolation axis.\")\n\u001b[0;32m    126\u001b[0m \u001b[1;33m\u001b[0m\u001b[0m\n",
      "\u001b[1;31mValueError\u001b[0m: x and y arrays must be equal in length along interpolation axis."
     ]
    }
   ],
   "source": [
    "print('*' * 10, 'Determinación del número de clúster por el método del codo y silueta', '*' * 10)\n",
    "inicio = time.time()\n",
    "num=4\n",
    "for ced  in data_si_dic:\n",
    "    aux = None\n",
    "    aux = np.unique( np.array( data_si_dic[ced]['SALARIO']) ).reshape(-1, 1)\n",
    "\n",
    "    data_si_dic[ced]['distorsion'] = []\n",
    "    data_si_dic[ced]['silueta'] = []\n",
    "   \n",
    "    for i in range(2, min(num, len(aux) - 1) + 1):\n",
    "        km = KMeans( i, init='random', n_init = 10, max_iter = 300, tol = 1e-4, random_state = semilla )\n",
    "        clustering = km.fit_predict( aux )\n",
    "        \n",
    "        if len( np.unique( clustering ) ) > 1:\n",
    "            data_si_dic[ced]['distorsion'].append( km.inertia_ )\n",
    "            data_si_dic[ced]['silueta'].append( metrics.silhouette_score( aux, clustering ) )\n",
    "            \n",
    "        else:\n",
    "            data_si_dic[ced]['distorsion'] = [0]\n",
    "            data_si_dic[ced]['silueta'] = [0]\n",
    "            \n",
    "    if( len( data_si_dic[ced]['distorsion'] ) > 1 & len( data_si_dic[ced]['silueta'] ) ):\n",
    "        \n",
    "        data_si_dic[ced]['num_codo'] = kneed.KneeLocator( range(2, min(num, len(aux)) + 1 ), \n",
    "                                          data_si_dic[ced]['distorsion'][ :num ],\n",
    "                                          curve=\"convex\", direction=\"decreasing\" ).elbow\n",
    "        data_si_dic[ced]['max_silueta'] =  max_clust_silueta( data_si_dic[ced]['silueta'] )\n",
    "        \n",
    "    else:\n",
    "        data_si_dic[ced]['num_codo'] = 1\n",
    "        data_si_dic[ced]['max_silueta'] = 1\n",
    "        "
   ]
  },
  {
   "cell_type": "code",
   "execution_count": 162,
   "id": "48a58f7e",
   "metadata": {},
   "outputs": [
    {
     "ename": "ValueError",
     "evalue": "Number of labels is 4. Valid values are 2 to n_samples - 1 (inclusive)",
     "output_type": "error",
     "traceback": [
      "\u001b[1;31m---------------------------------------------------------------------------\u001b[0m",
      "\u001b[1;31mValueError\u001b[0m                                Traceback (most recent call last)",
      "\u001b[1;32m~\\AppData\\Local\\Temp\\ipykernel_20220\\933246243.py\u001b[0m in \u001b[0;36m<module>\u001b[1;34m\u001b[0m\n\u001b[0;32m      1\u001b[0m \u001b[1;31m#range(2, min(num, len(aux)) + 1)\u001b[0m\u001b[1;33m\u001b[0m\u001b[1;33m\u001b[0m\u001b[0m\n\u001b[0;32m      2\u001b[0m \u001b[1;31m#len(aux)\u001b[0m\u001b[1;33m\u001b[0m\u001b[1;33m\u001b[0m\u001b[0m\n\u001b[1;32m----> 3\u001b[1;33m \u001b[0mmetrics\u001b[0m\u001b[1;33m.\u001b[0m\u001b[0msilhouette_score\u001b[0m\u001b[1;33m(\u001b[0m \u001b[0maux\u001b[0m\u001b[1;33m,\u001b[0m \u001b[0mclustering\u001b[0m \u001b[1;33m)\u001b[0m\u001b[1;33m\u001b[0m\u001b[1;33m\u001b[0m\u001b[0m\n\u001b[0m",
      "\u001b[1;32mC:\\ProgramData\\Anaconda3\\lib\\site-packages\\sklearn\\metrics\\cluster\\_unsupervised.py\u001b[0m in \u001b[0;36msilhouette_score\u001b[1;34m(X, labels, metric, sample_size, random_state, **kwds)\u001b[0m\n\u001b[0;32m    115\u001b[0m         \u001b[1;32melse\u001b[0m\u001b[1;33m:\u001b[0m\u001b[1;33m\u001b[0m\u001b[1;33m\u001b[0m\u001b[0m\n\u001b[0;32m    116\u001b[0m             \u001b[0mX\u001b[0m\u001b[1;33m,\u001b[0m \u001b[0mlabels\u001b[0m \u001b[1;33m=\u001b[0m \u001b[0mX\u001b[0m\u001b[1;33m[\u001b[0m\u001b[0mindices\u001b[0m\u001b[1;33m]\u001b[0m\u001b[1;33m,\u001b[0m \u001b[0mlabels\u001b[0m\u001b[1;33m[\u001b[0m\u001b[0mindices\u001b[0m\u001b[1;33m]\u001b[0m\u001b[1;33m\u001b[0m\u001b[1;33m\u001b[0m\u001b[0m\n\u001b[1;32m--> 117\u001b[1;33m     \u001b[1;32mreturn\u001b[0m \u001b[0mnp\u001b[0m\u001b[1;33m.\u001b[0m\u001b[0mmean\u001b[0m\u001b[1;33m(\u001b[0m\u001b[0msilhouette_samples\u001b[0m\u001b[1;33m(\u001b[0m\u001b[0mX\u001b[0m\u001b[1;33m,\u001b[0m \u001b[0mlabels\u001b[0m\u001b[1;33m,\u001b[0m \u001b[0mmetric\u001b[0m\u001b[1;33m=\u001b[0m\u001b[0mmetric\u001b[0m\u001b[1;33m,\u001b[0m \u001b[1;33m**\u001b[0m\u001b[0mkwds\u001b[0m\u001b[1;33m)\u001b[0m\u001b[1;33m)\u001b[0m\u001b[1;33m\u001b[0m\u001b[1;33m\u001b[0m\u001b[0m\n\u001b[0m\u001b[0;32m    118\u001b[0m \u001b[1;33m\u001b[0m\u001b[0m\n\u001b[0;32m    119\u001b[0m \u001b[1;33m\u001b[0m\u001b[0m\n",
      "\u001b[1;32mC:\\ProgramData\\Anaconda3\\lib\\site-packages\\sklearn\\metrics\\cluster\\_unsupervised.py\u001b[0m in \u001b[0;36msilhouette_samples\u001b[1;34m(X, labels, metric, **kwds)\u001b[0m\n\u001b[0;32m    225\u001b[0m     \u001b[0mn_samples\u001b[0m \u001b[1;33m=\u001b[0m \u001b[0mlen\u001b[0m\u001b[1;33m(\u001b[0m\u001b[0mlabels\u001b[0m\u001b[1;33m)\u001b[0m\u001b[1;33m\u001b[0m\u001b[1;33m\u001b[0m\u001b[0m\n\u001b[0;32m    226\u001b[0m     \u001b[0mlabel_freqs\u001b[0m \u001b[1;33m=\u001b[0m \u001b[0mnp\u001b[0m\u001b[1;33m.\u001b[0m\u001b[0mbincount\u001b[0m\u001b[1;33m(\u001b[0m\u001b[0mlabels\u001b[0m\u001b[1;33m)\u001b[0m\u001b[1;33m\u001b[0m\u001b[1;33m\u001b[0m\u001b[0m\n\u001b[1;32m--> 227\u001b[1;33m     \u001b[0mcheck_number_of_labels\u001b[0m\u001b[1;33m(\u001b[0m\u001b[0mlen\u001b[0m\u001b[1;33m(\u001b[0m\u001b[0mle\u001b[0m\u001b[1;33m.\u001b[0m\u001b[0mclasses_\u001b[0m\u001b[1;33m)\u001b[0m\u001b[1;33m,\u001b[0m \u001b[0mn_samples\u001b[0m\u001b[1;33m)\u001b[0m\u001b[1;33m\u001b[0m\u001b[1;33m\u001b[0m\u001b[0m\n\u001b[0m\u001b[0;32m    228\u001b[0m \u001b[1;33m\u001b[0m\u001b[0m\n\u001b[0;32m    229\u001b[0m     \u001b[0mkwds\u001b[0m\u001b[1;33m[\u001b[0m\u001b[1;34m\"metric\"\u001b[0m\u001b[1;33m]\u001b[0m \u001b[1;33m=\u001b[0m \u001b[0mmetric\u001b[0m\u001b[1;33m\u001b[0m\u001b[1;33m\u001b[0m\u001b[0m\n",
      "\u001b[1;32mC:\\ProgramData\\Anaconda3\\lib\\site-packages\\sklearn\\metrics\\cluster\\_unsupervised.py\u001b[0m in \u001b[0;36mcheck_number_of_labels\u001b[1;34m(n_labels, n_samples)\u001b[0m\n\u001b[0;32m     31\u001b[0m     \"\"\"\n\u001b[0;32m     32\u001b[0m     \u001b[1;32mif\u001b[0m \u001b[1;32mnot\u001b[0m \u001b[1;36m1\u001b[0m \u001b[1;33m<\u001b[0m \u001b[0mn_labels\u001b[0m \u001b[1;33m<\u001b[0m \u001b[0mn_samples\u001b[0m\u001b[1;33m:\u001b[0m\u001b[1;33m\u001b[0m\u001b[1;33m\u001b[0m\u001b[0m\n\u001b[1;32m---> 33\u001b[1;33m         raise ValueError(\n\u001b[0m\u001b[0;32m     34\u001b[0m             \u001b[1;34m\"Number of labels is %d. Valid values are 2 to n_samples - 1 (inclusive)\"\u001b[0m\u001b[1;33m\u001b[0m\u001b[1;33m\u001b[0m\u001b[0m\n\u001b[0;32m     35\u001b[0m             \u001b[1;33m%\u001b[0m \u001b[0mn_labels\u001b[0m\u001b[1;33m\u001b[0m\u001b[1;33m\u001b[0m\u001b[0m\n",
      "\u001b[1;31mValueError\u001b[0m: Number of labels is 4. Valid values are 2 to n_samples - 1 (inclusive)"
     ]
    }
   ],
   "source": [
    "#range(2, min(num, len(aux)) + 1)\n",
    "#len(aux)\n",
    "metrics.silhouette_score( aux, clustering )"
   ]
  },
  {
   "cell_type": "code",
   "execution_count": 164,
   "id": "02503163",
   "metadata": {},
   "outputs": [],
   "source": [
    "ced=126\n",
    "aux = None\n",
    "aux = np.unique( np.array( data_si_dic[ced]['SALARIO']) ).reshape(-1, 1)\n",
    "\n",
    "data_si_dic[ced]['distorsion'] = []\n",
    "data_si_dic[ced]['silueta'] = []\n",
    "\n",
    "for i in range(2, min(num, len(aux) - 1) + 1):\n",
    "    km = KMeans( i, init='random', n_init = 10, max_iter = 300, tol = 1e-4, random_state = semilla )\n",
    "    clustering = km.fit_predict( aux )\n",
    "\n",
    "    if len( np.unique( clustering ) ) > 1:\n",
    "        data_si_dic[ced]['distorsion'].append( km.inertia_ )\n",
    "        data_si_dic[ced]['silueta'].append( metrics.silhouette_score( aux, clustering ) )\n",
    "\n",
    "    else:\n",
    "        data_si_dic[ced]['distorsion'] = [0]\n",
    "        data_si_dic[ced]['silueta'] = [0]\n",
    "\n",
    "# if( len( data_si_dic[ced]['distorsion'] ) > 1 & len( data_si_dic[ced]['silueta'] ) ):\n",
    "\n",
    "#     data_si_dic[ced]['num_codo'] = kneed.KneeLocator( range(2, min(num, len(aux)) + 1 ), \n",
    "#                                       data_si_dic[ced]['distorsion'][ :num ],\n",
    "#                                       curve=\"convex\", direction=\"decreasing\" ).elbow\n",
    "#     data_si_dic[ced]['max_silueta'] =  max_clust_silueta( data_si_dic[ced]['silueta'] )\n",
    "\n",
    "# else:\n",
    "#     data_si_dic[ced]['num_codo'] = 1\n",
    "#     data_si_dic[ced]['max_silueta'] = 1\n"
   ]
  },
  {
   "cell_type": "code",
   "execution_count": 93,
   "id": "98779981",
   "metadata": {
    "ExecuteTime": {
     "end_time": "2024-07-30T21:49:21.978417Z",
     "start_time": "2024-07-30T21:48:55.040018Z"
    }
   },
   "outputs": [
    {
     "name": "stderr",
     "output_type": "stream",
     "text": [
      "C:\\ProgramData\\Anaconda3\\lib\\site-packages\\sklearn\\cluster\\_kmeans.py:1255: ConvergenceWarning: Number of distinct clusters (1) found smaller than n_clusters (2). Possibly due to duplicate points in X.\n",
      "  return self.fit(X, sample_weight=sample_weight).labels_\n"
     ]
    },
    {
     "ename": "ValueError",
     "evalue": "Number of labels is 1. Valid values are 2 to n_samples - 1 (inclusive)",
     "output_type": "error",
     "traceback": [
      "\u001b[1;31m---------------------------------------------------------------------------\u001b[0m",
      "\u001b[1;31mValueError\u001b[0m                                Traceback (most recent call last)",
      "\u001b[1;32m~\\AppData\\Local\\Temp\\ipykernel_20220\\2639075203.py\u001b[0m in \u001b[0;36m<module>\u001b[1;34m\u001b[0m\n\u001b[0;32m      7\u001b[0m     \u001b[0mclustering\u001b[0m \u001b[1;33m=\u001b[0m \u001b[0mkm\u001b[0m\u001b[1;33m.\u001b[0m\u001b[0mfit_predict\u001b[0m\u001b[1;33m(\u001b[0m\u001b[0mdata\u001b[0m \u001b[1;33m)\u001b[0m\u001b[1;33m\u001b[0m\u001b[1;33m\u001b[0m\u001b[0m\n\u001b[0;32m      8\u001b[0m     \u001b[0mdistortions\u001b[0m\u001b[1;33m.\u001b[0m\u001b[0mappend\u001b[0m\u001b[1;33m(\u001b[0m\u001b[0mkm\u001b[0m\u001b[1;33m.\u001b[0m\u001b[0minertia_\u001b[0m\u001b[1;33m)\u001b[0m\u001b[1;33m\u001b[0m\u001b[1;33m\u001b[0m\u001b[0m\n\u001b[1;32m----> 9\u001b[1;33m     \u001b[0msilhouettes\u001b[0m\u001b[1;33m.\u001b[0m\u001b[0mappend\u001b[0m\u001b[1;33m(\u001b[0m\u001b[0mmetrics\u001b[0m\u001b[1;33m.\u001b[0m\u001b[0msilhouette_score\u001b[0m\u001b[1;33m(\u001b[0m \u001b[0mdata\u001b[0m\u001b[1;33m,\u001b[0m \u001b[0mclustering\u001b[0m\u001b[1;33m)\u001b[0m\u001b[1;33m)\u001b[0m\u001b[1;33m\u001b[0m\u001b[1;33m\u001b[0m\u001b[0m\n\u001b[0m",
      "\u001b[1;32mC:\\ProgramData\\Anaconda3\\lib\\site-packages\\sklearn\\metrics\\cluster\\_unsupervised.py\u001b[0m in \u001b[0;36msilhouette_score\u001b[1;34m(X, labels, metric, sample_size, random_state, **kwds)\u001b[0m\n\u001b[0;32m    115\u001b[0m         \u001b[1;32melse\u001b[0m\u001b[1;33m:\u001b[0m\u001b[1;33m\u001b[0m\u001b[1;33m\u001b[0m\u001b[0m\n\u001b[0;32m    116\u001b[0m             \u001b[0mX\u001b[0m\u001b[1;33m,\u001b[0m \u001b[0mlabels\u001b[0m \u001b[1;33m=\u001b[0m \u001b[0mX\u001b[0m\u001b[1;33m[\u001b[0m\u001b[0mindices\u001b[0m\u001b[1;33m]\u001b[0m\u001b[1;33m,\u001b[0m \u001b[0mlabels\u001b[0m\u001b[1;33m[\u001b[0m\u001b[0mindices\u001b[0m\u001b[1;33m]\u001b[0m\u001b[1;33m\u001b[0m\u001b[1;33m\u001b[0m\u001b[0m\n\u001b[1;32m--> 117\u001b[1;33m     \u001b[1;32mreturn\u001b[0m \u001b[0mnp\u001b[0m\u001b[1;33m.\u001b[0m\u001b[0mmean\u001b[0m\u001b[1;33m(\u001b[0m\u001b[0msilhouette_samples\u001b[0m\u001b[1;33m(\u001b[0m\u001b[0mX\u001b[0m\u001b[1;33m,\u001b[0m \u001b[0mlabels\u001b[0m\u001b[1;33m,\u001b[0m \u001b[0mmetric\u001b[0m\u001b[1;33m=\u001b[0m\u001b[0mmetric\u001b[0m\u001b[1;33m,\u001b[0m \u001b[1;33m**\u001b[0m\u001b[0mkwds\u001b[0m\u001b[1;33m)\u001b[0m\u001b[1;33m)\u001b[0m\u001b[1;33m\u001b[0m\u001b[1;33m\u001b[0m\u001b[0m\n\u001b[0m\u001b[0;32m    118\u001b[0m \u001b[1;33m\u001b[0m\u001b[0m\n\u001b[0;32m    119\u001b[0m \u001b[1;33m\u001b[0m\u001b[0m\n",
      "\u001b[1;32mC:\\ProgramData\\Anaconda3\\lib\\site-packages\\sklearn\\metrics\\cluster\\_unsupervised.py\u001b[0m in \u001b[0;36msilhouette_samples\u001b[1;34m(X, labels, metric, **kwds)\u001b[0m\n\u001b[0;32m    225\u001b[0m     \u001b[0mn_samples\u001b[0m \u001b[1;33m=\u001b[0m \u001b[0mlen\u001b[0m\u001b[1;33m(\u001b[0m\u001b[0mlabels\u001b[0m\u001b[1;33m)\u001b[0m\u001b[1;33m\u001b[0m\u001b[1;33m\u001b[0m\u001b[0m\n\u001b[0;32m    226\u001b[0m     \u001b[0mlabel_freqs\u001b[0m \u001b[1;33m=\u001b[0m \u001b[0mnp\u001b[0m\u001b[1;33m.\u001b[0m\u001b[0mbincount\u001b[0m\u001b[1;33m(\u001b[0m\u001b[0mlabels\u001b[0m\u001b[1;33m)\u001b[0m\u001b[1;33m\u001b[0m\u001b[1;33m\u001b[0m\u001b[0m\n\u001b[1;32m--> 227\u001b[1;33m     \u001b[0mcheck_number_of_labels\u001b[0m\u001b[1;33m(\u001b[0m\u001b[0mlen\u001b[0m\u001b[1;33m(\u001b[0m\u001b[0mle\u001b[0m\u001b[1;33m.\u001b[0m\u001b[0mclasses_\u001b[0m\u001b[1;33m)\u001b[0m\u001b[1;33m,\u001b[0m \u001b[0mn_samples\u001b[0m\u001b[1;33m)\u001b[0m\u001b[1;33m\u001b[0m\u001b[1;33m\u001b[0m\u001b[0m\n\u001b[0m\u001b[0;32m    228\u001b[0m \u001b[1;33m\u001b[0m\u001b[0m\n\u001b[0;32m    229\u001b[0m     \u001b[0mkwds\u001b[0m\u001b[1;33m[\u001b[0m\u001b[1;34m\"metric\"\u001b[0m\u001b[1;33m]\u001b[0m \u001b[1;33m=\u001b[0m \u001b[0mmetric\u001b[0m\u001b[1;33m\u001b[0m\u001b[1;33m\u001b[0m\u001b[0m\n",
      "\u001b[1;32mC:\\ProgramData\\Anaconda3\\lib\\site-packages\\sklearn\\metrics\\cluster\\_unsupervised.py\u001b[0m in \u001b[0;36mcheck_number_of_labels\u001b[1;34m(n_labels, n_samples)\u001b[0m\n\u001b[0;32m     31\u001b[0m     \"\"\"\n\u001b[0;32m     32\u001b[0m     \u001b[1;32mif\u001b[0m \u001b[1;32mnot\u001b[0m \u001b[1;36m1\u001b[0m \u001b[1;33m<\u001b[0m \u001b[0mn_labels\u001b[0m \u001b[1;33m<\u001b[0m \u001b[0mn_samples\u001b[0m\u001b[1;33m:\u001b[0m\u001b[1;33m\u001b[0m\u001b[1;33m\u001b[0m\u001b[0m\n\u001b[1;32m---> 33\u001b[1;33m         raise ValueError(\n\u001b[0m\u001b[0;32m     34\u001b[0m             \u001b[1;34m\"Number of labels is %d. Valid values are 2 to n_samples - 1 (inclusive)\"\u001b[0m\u001b[1;33m\u001b[0m\u001b[1;33m\u001b[0m\u001b[0m\n\u001b[0;32m     35\u001b[0m             \u001b[1;33m%\u001b[0m \u001b[0mn_labels\u001b[0m\u001b[1;33m\u001b[0m\u001b[1;33m\u001b[0m\u001b[0m\n",
      "\u001b[1;31mValueError\u001b[0m: Number of labels is 1. Valid values are 2 to n_samples - 1 (inclusive)"
     ]
    }
   ],
   "source": [
    "distortions = []\n",
    "silhouettes = []\n",
    "\n",
    "data = np.array( data_si_dic[3057]['SALARIO'] ).reshape(-1, 1)\n",
    "for i in range(2, 10):\n",
    "    km = KMeans( i, init='random', n_init=10, max_iter=300, tol=1e-4, random_state = semilla)\n",
    "    clustering = km.fit_predict(data )\n",
    "    distortions.append(km.inertia_)\n",
    "    silhouettes.append(metrics.silhouette_score( data, clustering))"
   ]
  },
  {
   "cell_type": "code",
   "execution_count": 25,
   "id": "7f7b0efc",
   "metadata": {
    "ExecuteTime": {
     "end_time": "2024-07-30T21:49:22.208820Z",
     "start_time": "2024-07-30T21:49:21.981411Z"
    }
   },
   "outputs": [
    {
     "data": {
      "image/png": "[encoded data removed]",
      "text/plain": [
       "<Figure size 640x480 with 1 Axes>"
      ]
     },
     "metadata": {},
     "output_type": "display_data"
    }
   ],
   "source": [
    "plt.plot(range(2,10), distortions, marker='o')\n",
    "plt.xticks(range(2, 10))\n",
    "plt.xlabel('K')\n",
    "plt.ylabel('Distortion')\n",
    "plt.grid(True)\n",
    "plt.show()"
   ]
  },
  {
   "cell_type": "code",
   "execution_count": 26,
   "id": "4ed09354",
   "metadata": {
    "ExecuteTime": {
     "end_time": "2024-07-30T21:49:22.432933Z",
     "start_time": "2024-07-30T21:49:22.212043Z"
    }
   },
   "outputs": [
    {
     "name": "stdout",
     "output_type": "stream",
     "text": [
      "Elbow:  4\n"
     ]
    },
    {
     "data": {
      "image/png": "[encoded data removed]",
      "text/plain": [
       "<Figure size 600x600 with 1 Axes>"
      ]
     },
     "metadata": {},
     "output_type": "display_data"
    }
   ],
   "source": [
    "kneedle = kneed.KneeLocator(range(2, 10), distortions[:20], curve=\"convex\", direction=\"decreasing\")\n",
    "elbow_point = kneedle.elbow\n",
    "print('Elbow: ', elbow_point)\n",
    "kneedle.plot_knee()"
   ]
  },
  {
   "cell_type": "code",
   "execution_count": 22,
   "id": "b248d286",
   "metadata": {},
   "outputs": [
    {
     "data": {
      "text/plain": [
       "[64467.484003588535,\n",
       " 20402.54989407947,\n",
       " 6994.553560336138,\n",
       " 3945.8513658508464,\n",
       " 1165.7324623214308,\n",
       " 642.4360337499999,\n",
       " 295.22791375000054,\n",
       " 43.85752000000007]"
      ]
     },
     "execution_count": 22,
     "metadata": {},
     "output_type": "execute_result"
    }
   ],
   "source": [
    "distortions\n"
   ]
  },
  {
   "cell_type": "code",
   "execution_count": 54,
   "id": "484b23bd",
   "metadata": {
    "ExecuteTime": {
     "end_time": "2024-07-30T21:49:22.602194Z",
     "start_time": "2024-07-30T21:49:22.435935Z"
    }
   },
   "outputs": [
    {
     "data": {
      "image/png": "[encoded data removed]",
      "text/plain": [
       "<Figure size 640x480 with 1 Axes>"
      ]
     },
     "metadata": {},
     "output_type": "display_data"
    }
   ],
   "source": [
    "plt.plot(range(2,20), silhouettes , marker='o')\n",
    "plt.xticks(range(2, 20))\n",
    "plt.xlabel('K')\n",
    "plt.ylabel('Silhouette')\n",
    "plt.grid(True)\n",
    "plt.show()"
   ]
  },
  {
   "cell_type": "code",
   "execution_count": 39,
   "id": "e326f910",
   "metadata": {},
   "outputs": [
    {
     "data": {
      "text/plain": [
       "[0.6995889246329805,\n",
       " 0.8130470005984992,\n",
       " 0.8458259500251094,\n",
       " 0.97,\n",
       " 0.97,\n",
       " 0.9084506412944163,\n",
       " 0.9302437828994431,\n",
       " 0.9513189560536675]"
      ]
     },
     "execution_count": 39,
     "metadata": {},
     "output_type": "execute_result"
    }
   ],
   "source": [
    "silhouettes"
   ]
  },
  {
   "cell_type": "code",
   "execution_count": 43,
   "id": "4bff5060",
   "metadata": {},
   "outputs": [
    {
     "name": "stdout",
     "output_type": "stream",
     "text": [
      "Valor más cercano a 1: 0.97\n",
      "Índice del valor: 4\n"
     ]
    }
   ],
   "source": [
    "valor_cercano = silhouettes[0]\n",
    "\n",
    "# Iterar a través de los valores para encontrar el más cercano a 1\n",
    "indice_cercano = 0\n",
    "\n",
    "# Iterar a través de los valores para encontrar el más cercano a 1\n",
    "for indice, valor in enumerate(silhouettes):\n",
    "    if abs(1 - valor) < abs(1 - valor_cercano):\n",
    "        valor_cercano = valor\n",
    "        indice_cercano = indice\n",
    "indice_cercano+=1\n",
    "# Imprimir el valor más cercano y su índice\n",
    "print(f\"Valor más cercano a 1: {valor_cercano}\")\n",
    "print(f\"Índice del valor: {indice_cercano}\")"
   ]
  },
  {
   "cell_type": "code",
   "execution_count": 55,
   "id": "c8be4473",
   "metadata": {
    "ExecuteTime": {
     "end_time": "2024-07-30T21:49:22.760799Z",
     "start_time": "2024-07-30T21:49:22.603720Z"
    }
   },
   "outputs": [
    {
     "data": {
      "image/png": "[encoded data removed]",
      "text/plain": [
       "<Figure size 640x480 with 1 Axes>"
      ]
     },
     "metadata": {},
     "output_type": "display_data"
    }
   ],
   "source": [
    "plt.scatter( np.arange(np.array( data_si_dic[216]['SALARIO'] ).shape[0]), np.array( data_si_dic[216]['SALARIO'] ) )\n",
    "\n",
    "# Añadir etiquetas y título\n",
    "plt.xlabel('Índice')\n",
    "plt.ylabel('Salario')\n",
    "plt.title('Gráfico de Puntos de Salarios')\n",
    "\n",
    "# Mostrar el gráfico\n",
    "plt.show()"
   ]
  }
 ],
 "metadata": {
  "kernelspec": {
   "display_name": "Python 3 (ipykernel)",
   "language": "python",
   "name": "python3"
  },
  "language_info": {
   "codemirror_mode": {
    "name": "ipython",
    "version": 3
   },
   "file_extension": ".py",
   "mimetype": "text/x-python",
   "name": "python",
   "nbconvert_exporter": "python",
   "pygments_lexer": "ipython3",
   "version": "3.9.13"
  },
  "toc": {
   "base_numbering": 1,
   "nav_menu": {},
   "number_sections": true,
   "sideBar": true,
   "skip_h1_title": false,
   "title_cell": "Table of Contents",
   "title_sidebar": "Contents",
   "toc_cell": false,
   "toc_position": {},
   "toc_section_display": true,
   "toc_window_display": false
  }
 },
 "nbformat": 4,
 "nbformat_minor": 5
}

{
 "cells": [
  {
   "cell_type": "code",
   "execution_count": 1,
   "id": "305b533b",
   "metadata": {
    "ExecuteTime": {
     "end_time": "2024-07-15T20:23:01.185620Z",
     "start_time": "2024-07-15T20:22:36.016732Z"
    }
   },
   "outputs": [],
   "source": [
    "#Importación de librearías necesarias\n",
    "import pandas as pd\n",
    "from datetime import datetime\n",
    "import socket\n",
    "import numpy as np\n",
    "import math\n",
    "import time\n",
    "import pickle  #Para guardar archivos\n",
    "import os\n",
    "\n",
    "import matplotlib.pyplot as plt\n",
    "from scipy.cluster.hierarchy import dendrogram, linkage, fcluster"
   ]
  },
  {
   "cell_type": "code",
   "execution_count": 2,
   "id": "3ad7f70c",
   "metadata": {
    "ExecuteTime": {
     "end_time": "2024-07-15T20:23:01.204186Z",
     "start_time": "2024-07-15T20:23:01.185620Z"
    }
   },
   "outputs": [],
   "source": [
    "#Path general de archivos\n",
    "if socket.gethostname()=='LAPTOP-PUSGG08B': #Ip de la laptop\n",
    "    ruta = \"E:/Cristian Guatemal/Master/Big Data y Ciencia de Datos/VIU_TFM/Data/TFM/\"\n",
    "    r_ruta = \"E:/Cristian Guatemal/Master/Big Data y Ciencia de Datos/VIU_TFM/RData/TFM/\"\n",
    "elif socket.gethostname()=='PCUIOMTDAIE6382': #Ip del working\n",
    "    ruta = \"C:/Users/cristian.guatemal/Documents/Master/Big_Data_Ciencia_Datos/VIU_TFM/Data/TFM/\"\n",
    "    r_ruta = \"C:/Users/cristian.guatemal/Documents/Master/Big_Data_Ciencia_Datos/VIU_TFM/RData/TFM/\"\n",
    "# Ruta del archivo de pensionistas de vejez\n",
    "ruta_vj = ruta + 'POB_VEJ_CD656_NEW.dsv'\n",
    "# Ruta del archivo de historia laboral de pensionistas\n",
    "ruta_afi = ruta + 'APORTES_CD656_new.dsv'"
   ]
  },
  {
   "cell_type": "code",
   "execution_count": null,
   "id": "28dfb4e5",
   "metadata": {
    "ExecuteTime": {
     "end_time": "2024-07-15T17:40:29.504433Z",
     "start_time": "2024-07-15T17:38:33.999235Z"
    }
   },
   "outputs": [],
   "source": [
    "#Importación de archivos de afiliados\n",
    "inicio = time.time()\n",
    "afi = pd.read_csv( ruta_afi, delimiter='\\t', encoding='iso-8859-1', decimal='.')\n",
    "fin = time.time()  \n",
    "print('Tiempo de ejecución es: ',  (fin-inicio)//3600, ' horas con ' ,  (fin-inicio)%3600//60 , ' minutos y', \n",
    "        (fin-inicio)%60, ' segundos' )"
   ]
  },
  {
   "cell_type": "code",
   "execution_count": null,
   "id": "c19aaa90",
   "metadata": {
    "ExecuteTime": {
     "end_time": "2024-07-15T17:41:21.920678Z",
     "start_time": "2024-07-15T17:40:55.737050Z"
    }
   },
   "outputs": [],
   "source": [
    "#Agrupamiento por relación de trabajo\n",
    "inicio = time.time()\n",
    "agrupa = [ (afi['SECTOR'].isin(['PRIVADO', 'PASANTE PRIVADO'])), \n",
    "           (afi['SECTOR'].isin(['PUBLICO', 'PASANTE PUBLICO'])), \n",
    "           (afi['SECTOR'].isin(['INDEPENDIENTES', '108-ARTISTA Y GESTOR DE CULTURA', \n",
    "                                '02-TRABAJ. AUT Y SIN RELAC DEPEN DESDE  2011-12 SOLO AF.VOLUNT  '])),\n",
    "           (afi['SECTOR'].isin(['69-VOLUNTARIO ECUATORIANO DOMICILIADO EN EL EXTERIOR ',\n",
    "                                '89-AFILIACION DOMICILIADO EN EL EXTERIOR'])),\n",
    "           (afi['SECTOR'] == '90-AFILIACION DOMICILIADO EN EL PAIS / SIN RELACION DEPENDENCIA'),\n",
    "           (afi['SECTOR'] == '06-CODIGO DEL TRABAJO - CT ')\n",
    "            ]\n",
    "            \n",
    "tipo = ['PRI', 'PUB', 'IND', 'VOL_EX', 'VOL_EC', 'COD_TR']\n",
    "\n",
    "afi['SECTOR_A'] = np.select( agrupa, tipo, default=afi['SECTOR'])\n",
    "fin = time.time()  \n",
    "print('Tiempo de ejecución es: ',  (fin-inicio)//3600, ' horas con ' ,  (fin-inicio)%3600//60 , ' minutos y', \n",
    "        (fin-inicio)%60, ' segundos' )"
   ]
  },
  {
   "cell_type": "code",
   "execution_count": null,
   "id": "8a62a1f0",
   "metadata": {
    "ExecuteTime": {
     "end_time": "2024-07-15T17:41:26.031814Z",
     "start_time": "2024-07-15T17:41:21.923839Z"
    }
   },
   "outputs": [],
   "source": [
    "afi['SECTOR'].unique()"
   ]
  },
  {
   "cell_type": "code",
   "execution_count": null,
   "id": "b9d7fce7",
   "metadata": {
    "ExecuteTime": {
     "end_time": "2024-07-15T17:41:29.344291Z",
     "start_time": "2024-07-15T17:41:26.033925Z"
    }
   },
   "outputs": [],
   "source": [
    "afi['SECTOR_A'].unique()"
   ]
  },
  {
   "cell_type": "code",
   "execution_count": null,
   "id": "a03a3ae9",
   "metadata": {
    "ExecuteTime": {
     "end_time": "2024-07-15T17:41:29.351637Z",
     "start_time": "2024-07-15T17:41:29.346292Z"
    }
   },
   "outputs": [],
   "source": [
    "afi.shape"
   ]
  },
  {
   "cell_type": "code",
   "execution_count": null,
   "id": "04746277",
   "metadata": {
    "ExecuteTime": {
     "end_time": "2024-07-15T17:42:22.570617Z",
     "start_time": "2024-07-15T17:41:29.353744Z"
    }
   },
   "outputs": [],
   "source": [
    "#Para acceder a las prestaciones de IVM debe tener al menos 5 años de aporte o 60 imposiciones\n",
    "ced_counts = afi.drop_duplicates(subset=['CEDULA_COD', 'ANIO', 'MES'])['CEDULA_COD'].value_counts()"
   ]
  },
  {
   "cell_type": "code",
   "execution_count": null,
   "id": "dbad0c44",
   "metadata": {
    "ExecuteTime": {
     "end_time": "2024-07-15T17:42:22.635232Z",
     "start_time": "2024-07-15T17:42:22.572609Z"
    }
   },
   "outputs": [],
   "source": [
    "# numero de cedulas que tienen menos de 60 imposiciones\n",
    "ced_counts[ced_counts < 60].index.nunique()"
   ]
  },
  {
   "cell_type": "code",
   "execution_count": null,
   "id": "6165f941",
   "metadata": {
    "ExecuteTime": {
     "start_time": "2024-07-15T17:41:05.174Z"
    }
   },
   "outputs": [],
   "source": [
    "#Se filtran a las cedulas con menos de 60 imposicones \n",
    "inicio = time.time()\n",
    "afi_fil = afi[~afi['CEDULA_COD'].isin(ced_counts[ced_counts < 60].index)].copy()\n",
    "fin = time.time()  \n",
    "print('Tiempo de ejecución es: ',  (fin-inicio)//3600, ' horas con ' ,  (fin-inicio)%3600//60 , ' minutos y', (fin-inicio)%60, ' segundos' )\n",
    "\n",
    "#Se crea una variable fecha\n",
    "inicio = time.time()\n",
    "afi_fil.loc[:, 'FECHA'] = pd.to_datetime(afi_fil['ANIO'].astype(str) + '-' + afi_fil['MES'].astype(str).str.zfill(2) + '-01')\n",
    "fin = time.time()  \n",
    "print('Tiempo de ejecución es: ',  (fin-inicio)//3600, ' horas con ' ,  (fin-inicio)%3600//60 , ' minutos y', (fin-inicio)%60, ' segundos' )\n",
    "\n",
    "#Se ordenan los registros\n",
    "inicio = time.time()\n",
    "afi_fil = afi_fil.sort_values( by=[\"CEDULA_COD\",\"ANIO\", \"MES\"], ascending=[True, True, True] )\n",
    "fin = time.time()  \n",
    "print('Tiempo de ejecución es: ',  (fin-inicio)//3600, ' horas con ' ,  (fin-inicio)%3600//60 , ' minutos y', (fin-inicio)%60, ' segundos' )\n",
    "afi_fil.shape"
   ]
  },
  {
   "cell_type": "code",
   "execution_count": null,
   "id": "68f9e80c",
   "metadata": {
    "ExecuteTime": {
     "start_time": "2024-07-15T17:41:07.198Z"
    }
   },
   "outputs": [],
   "source": [
    "# Especifica la ruta del directorio donde quieres guardar el archivo\n",
    "directorio = r_ruta\n",
    "\n",
    "# Asegúrate de que el directorio existe\n",
    "os.makedirs(directorio, exist_ok=True)\n",
    "\n",
    "# Nombre del archivo\n",
    "nombre_archivo = 'viu_clean_afiliados.pkl'\n",
    "\n",
    "# Ruta completa del archivo\n",
    "ruta_archivo = os.path.join(directorio, nombre_archivo)\n",
    "\n",
    "# Objetos a guardar\n",
    "objeto1 = afi\n",
    "objeto2 = afi_fil\n",
    "\n",
    "# Guardar los objetos en el archivo\n",
    "with open(ruta_archivo, 'wb') as archivo:\n",
    "    pickle.dump(objeto1, archivo)\n",
    "    pickle.dump(objeto2, archivo)\n",
    "    \n",
    "# #Cargar los archivos\n",
    "# with open( ruta_archivo, 'rb') as archivo:\n",
    "#     pickle.load(archivo)  # Carga y descarta el primer objeto\n",
    "#     afi_fil = pickle.load(archivo)  # Carga el segundo objeto    "
   ]
  },
  {
   "cell_type": "code",
   "execution_count": null,
   "id": "d3968aa2",
   "metadata": {
    "ExecuteTime": {
     "end_time": "2024-07-15T17:15:23.991547Z",
     "start_time": "2024-07-15T17:15:23.991547Z"
    }
   },
   "outputs": [],
   "source": [
    "#Se eliminan archivos no necesarios para liberar la memoria\n",
    "del afi\n",
    "del objeto1\n",
    "del objeto2\n",
    "del ced_counts"
   ]
  },
  {
   "cell_type": "code",
   "execution_count": null,
   "id": "87d43629",
   "metadata": {
    "ExecuteTime": {
     "end_time": "2024-07-15T17:15:23.993540Z",
     "start_time": "2024-07-15T17:15:23.993540Z"
    }
   },
   "outputs": [],
   "source": [
    "afi_fil #Tiene una dimensión de (64638969 rows × 14 columns)"
   ]
  },
  {
   "cell_type": "code",
   "execution_count": null,
   "id": "3903704c",
   "metadata": {
    "ExecuteTime": {
     "end_time": "2024-07-15T17:15:23.995553Z",
     "start_time": "2024-07-15T17:15:23.995553Z"
    }
   },
   "outputs": [],
   "source": [
    "#Se seleccionan las características de la población para los año y mes de aportación\n",
    "afi_sel = afi_fil[['CEDULA_COD', 'ANIO', 'MES', 'FECHA','SALARIO', 'SECTOR_A']].copy()\n",
    "del afi_fil"
   ]
  },
  {
   "cell_type": "code",
   "execution_count": null,
   "id": "adcadef1",
   "metadata": {
    "ExecuteTime": {
     "end_time": "2024-07-15T17:15:23.996542Z",
     "start_time": "2024-07-15T17:15:23.996542Z"
    }
   },
   "outputs": [],
   "source": [
    "#Inicio de la HL\n",
    "caract = afi_sel.groupby('CEDULA_COD')['FECHA'].min().reset_index() \n",
    "caract.rename( columns={'FECHA': 'INI_HL'}, inplace=True)\n",
    "#Fin de la HL\n",
    "caract['FIN_HL'] = caract['CEDULA_COD'].map( afi_sel.groupby('CEDULA_COD')['FECHA'].max() )\n",
    "#Contar los meses, considerando duplicidad en los meses que puede tener aporte simultaneos\n",
    "caract['MES_AS'] = caract['CEDULA_COD'].map( afi_sel['CEDULA_COD'].value_counts() )\n",
    "#Meses trabajados unicos\n",
    "aux = afi_sel.drop_duplicates(subset=['CEDULA_COD', 'ANIO', 'MES'])\n",
    "caract['MES_TU'] = caract['CEDULA_COD'].map( aux['CEDULA_COD'].value_counts() )"
   ]
  },
  {
   "cell_type": "code",
   "execution_count": null,
   "id": "48d6a6d8",
   "metadata": {
    "ExecuteTime": {
     "end_time": "2024-07-15T17:15:23.998674Z",
     "start_time": "2024-07-15T17:15:23.998674Z"
    }
   },
   "outputs": [],
   "source": [
    "objeto3 = caract\n",
    "\n",
    "# Guardar los objetos en el archivo\n",
    "with open(ruta_archivo, 'ab') as archivo: \n",
    "    pickle.dump(objeto3, archivo)"
   ]
  },
  {
   "cell_type": "code",
   "execution_count": null,
   "id": "4c3149c5",
   "metadata": {
    "ExecuteTime": {
     "end_time": "2024-07-15T17:15:23.999664Z",
     "start_time": "2024-07-15T17:15:23.999664Z"
    }
   },
   "outputs": [],
   "source": [
    "del objeto3"
   ]
  },
  {
   "cell_type": "code",
   "execution_count": null,
   "id": "5d78279e",
   "metadata": {
    "ExecuteTime": {
     "end_time": "2024-07-15T17:15:24.002664Z",
     "start_time": "2024-07-15T17:15:24.002664Z"
    }
   },
   "outputs": [],
   "source": [
    "caract"
   ]
  },
  {
   "cell_type": "code",
   "execution_count": null,
   "id": "bc22a036",
   "metadata": {
    "ExecuteTime": {
     "end_time": "2024-07-15T17:15:24.003666Z",
     "start_time": "2024-07-15T17:15:24.003666Z"
    }
   },
   "outputs": [],
   "source": [
    "#Personas que tienen varios aportes simultaneos\n",
    "caract[caract['MES_AS']>caract['MES_TU']]"
   ]
  },
  {
   "cell_type": "code",
   "execution_count": null,
   "id": "16e523d3",
   "metadata": {
    "ExecuteTime": {
     "end_time": "2024-07-15T17:15:24.005665Z",
     "start_time": "2024-07-15T17:15:24.005665Z"
    }
   },
   "outputs": [],
   "source": [
    "#afi_sel[afi_sel['CEDULA_COD']==21729781].tail(60)"
   ]
  },
  {
   "cell_type": "code",
   "execution_count": null,
   "id": "bd0c7ea9",
   "metadata": {
    "ExecuteTime": {
     "end_time": "2024-07-15T17:15:24.007842Z",
     "start_time": "2024-07-15T17:15:24.007842Z"
    }
   },
   "outputs": [],
   "source": [
    "afi_sel =  afi_sel.sort_values( by=[\"CEDULA_COD\",\"ANIO\", \"MES\"], ascending=[True, False, False] )\n",
    "afi_sel['NUM_SEC_MES'] = 1\n",
    "afi_sel['%_NUM_SECTOR'] = afi_sel['SALARIO']"
   ]
  },
  {
   "cell_type": "code",
   "execution_count": null,
   "id": "508c16c5",
   "metadata": {
    "ExecuteTime": {
     "end_time": "2024-07-15T17:15:24.008844Z",
     "start_time": "2024-07-15T17:15:24.008844Z"
    }
   },
   "outputs": [],
   "source": [
    "aux = afi_sel[afi_sel.duplicated(subset=['CEDULA_COD', 'ANIO', 'MES'], keep=False)]\n",
    "aux1 = afi_sel[~afi_sel.duplicated(subset=['CEDULA_COD', 'ANIO', 'MES'], keep=False)]"
   ]
  },
  {
   "cell_type": "code",
   "execution_count": null,
   "id": "413f07c9",
   "metadata": {
    "ExecuteTime": {
     "end_time": "2024-07-15T17:15:24.010840Z",
     "start_time": "2024-07-15T17:15:24.010840Z"
    }
   },
   "outputs": [],
   "source": [
    "#Se debe analizar a las personas que tienen varios aportes en un mismo mes\n",
    "#Se suman los salarios y se concatenan los sectores para la cedula que en el mismo anio y mes tienen más de un sector\n",
    "inicio = time.time()\n",
    "afi_sel_g = aux.groupby(['CEDULA_COD', 'ANIO', 'MES']).agg({'SALARIO': 'sum',\n",
    "                                                            'SECTOR_A': lambda x: ';'.join(x),\n",
    "                                                            'NUM_SEC_MES': lambda x: len(x),\n",
    "                                                            '%_NUM_SECTOR': lambda x:  ';'.join((x / x.sum()).round(4).astype(str))\n",
    "                                                                }).reset_index()\n",
    "fin = time.time()  \n",
    "print('Tiempo de ejecución es: ',  (fin-inicio)//3600, ' horas con ' ,  (fin-inicio)%3600//60 , ' minutos y', (fin-inicio)%60, ' segundos' )\n"
   ]
  },
  {
   "cell_type": "code",
   "execution_count": null,
   "id": "666ab864",
   "metadata": {
    "ExecuteTime": {
     "end_time": "2024-07-15T17:15:24.012840Z",
     "start_time": "2024-07-15T17:15:24.012840Z"
    }
   },
   "outputs": [],
   "source": [
    "afi_sel_g"
   ]
  },
  {
   "cell_type": "code",
   "execution_count": null,
   "id": "cbe59597",
   "metadata": {
    "ExecuteTime": {
     "end_time": "2024-07-15T17:15:24.014839Z",
     "start_time": "2024-07-15T17:15:24.014839Z"
    }
   },
   "outputs": [],
   "source": [
    "afi_sel_g_all = pd.concat( [aux1[['CEDULA_COD', 'ANIO', 'MES', 'SALARIO', 'SECTOR_A', 'NUM_SEC_MES', '%_NUM_SECTOR']], \n",
    "                            afi_sel_g], ignore_index=True )"
   ]
  },
  {
   "cell_type": "code",
   "execution_count": null,
   "id": "4bfdd552",
   "metadata": {
    "ExecuteTime": {
     "end_time": "2024-07-15T17:15:24.015841Z",
     "start_time": "2024-07-15T17:15:24.015841Z"
    }
   },
   "outputs": [],
   "source": [
    "afi_sel_g_all"
   ]
  },
  {
   "cell_type": "code",
   "execution_count": null,
   "id": "bb3917c8",
   "metadata": {
    "ExecuteTime": {
     "end_time": "2024-07-15T17:15:24.017984Z",
     "start_time": "2024-07-15T17:15:24.017984Z"
    }
   },
   "outputs": [],
   "source": [
    "objeto4 = afi_sel_g_all\n",
    "\n",
    "# Guardar los objetos en el archivo\n",
    "with open(ruta_archivo, 'ab') as archivo: \n",
    "    pickle.dump(objeto4, archivo)"
   ]
  },
  {
   "cell_type": "code",
   "execution_count": 4,
   "id": "64e1b80c",
   "metadata": {
    "ExecuteTime": {
     "end_time": "2024-07-15T20:35:18.490089Z",
     "start_time": "2024-07-15T20:35:17.362006Z"
    }
   },
   "outputs": [],
   "source": [
    "#afi_sel_g_all = objetos[3]"
   ]
  },
  {
   "cell_type": "code",
   "execution_count": null,
   "id": "12ce8372",
   "metadata": {
    "ExecuteTime": {
     "end_time": "2024-07-15T17:57:16.383287Z",
     "start_time": "2024-07-15T17:57:04.665045Z"
    }
   },
   "outputs": [],
   "source": [
    "del aux\n",
    "del aux1\n",
    "del objeto4"
   ]
  },
  {
   "cell_type": "code",
   "execution_count": null,
   "id": "3c213049",
   "metadata": {
    "ExecuteTime": {
     "start_time": "2024-07-15T20:35:59.850Z"
    }
   },
   "outputs": [],
   "source": [
    "afi_sel_g_all = afi_sel_g_all.sort_values( by=[\"CEDULA_COD\",\"ANIO\", \"MES\"], ascending=[True, False, False] )\n",
    "afi_sel_g_all.loc[ (afi_sel_g_all['NUM_SEC_MES'] == 1), '%_NUM_SECTOR'] = '1'"
   ]
  },
  {
   "cell_type": "code",
   "execution_count": null,
   "id": "828d7f59",
   "metadata": {
    "ExecuteTime": {
     "start_time": "2024-07-15T20:36:04.170Z"
    }
   },
   "outputs": [],
   "source": [
    "afi_sel_g_all[afi_sel_g_all['CEDULA_COD']==216]"
   ]
  },
  {
   "cell_type": "code",
   "execution_count": null,
   "id": "5a4c3357",
   "metadata": {
    "ExecuteTime": {
     "start_time": "2024-07-15T20:36:06.439Z"
    }
   },
   "outputs": [],
   "source": [
    "#Se reinician los index\n",
    "afi_sel_g_all.reset_index(inplace=True)\n",
    "afi_sel_g_all.rename(columns={'index': 'nuevo_indice'}, inplace=True)\n",
    "afi_sel_g_all.drop(columns=['nuevo_indice'], inplace=True)"
   ]
  },
  {
   "cell_type": "code",
   "execution_count": null,
   "id": "e48b33ad",
   "metadata": {
    "ExecuteTime": {
     "start_time": "2024-07-15T20:36:08.095Z"
    }
   },
   "outputs": [],
   "source": [
    "afi_sel_g_all[afi_sel_g_all['CEDULA_COD']==126]"
   ]
  },
  {
   "cell_type": "code",
   "execution_count": null,
   "id": "87616db7",
   "metadata": {
    "ExecuteTime": {
     "end_time": "2024-07-15T16:49:15.698723Z",
     "start_time": "2024-07-15T16:48:59.956839Z"
    }
   },
   "outputs": [],
   "source": [
    "#se crean los grupos de 12 meses trabajados para tener\n",
    "n_grupo = 12\n",
    "afi_sel_g_all['GRUPO'] = (afi_sel_g_all.groupby('CEDULA_COD').cumcount() // n_grupo ) + 1\n",
    "#Se saca el salario promedio de cada grupo\n",
    "afi_sel_g_all['SAL_PROM_GRUPO'] = afi_sel_g_all.groupby(['CEDULA_COD', 'GRUPO'])['SALARIO'].transform('mean')"
   ]
  },
  {
   "cell_type": "code",
   "execution_count": null,
   "id": "79bc8b95",
   "metadata": {
    "ExecuteTime": {
     "end_time": "2024-07-15T16:49:15.769801Z",
     "start_time": "2024-07-15T16:49:15.701731Z"
    }
   },
   "outputs": [],
   "source": [
    "afi_sel_g_all"
   ]
  },
  {
   "cell_type": "code",
   "execution_count": null,
   "id": "edc13f78",
   "metadata": {
    "ExecuteTime": {
     "end_time": "2024-07-15T16:49:18.892556Z",
     "start_time": "2024-07-15T16:49:18.454964Z"
    }
   },
   "outputs": [],
   "source": [
    "afi_sel_g_all[afi_sel_g_all['CEDULA_COD']==126]['GRUPO'].unique()"
   ]
  },
  {
   "cell_type": "code",
   "execution_count": null,
   "id": "2ede2e6c",
   "metadata": {
    "ExecuteTime": {
     "end_time": "2024-07-15T16:49:28.056278Z",
     "start_time": "2024-07-15T16:49:18.894563Z"
    }
   },
   "outputs": [],
   "source": [
    "#Se obtienen los sueldos promedios para cada grupo y cada cedula\n",
    "inicio = time.time()\n",
    "df1 = afi_sel_g_all.groupby(['CEDULA_COD', 'GRUPO'])['SAL_PROM_GRUPO'].first().reset_index().copy()\n",
    "df1 = df1.sort_values(by = ['CEDULA_COD','SAL_PROM_GRUPO'], ascending=[True,False])\n",
    "fin = time.time()  \n",
    "print('Tiempo de ejecución es: ',  (fin-inicio)//3600, ' horas con ' ,  (fin-inicio)%3600//60 , ' minutos y', (fin-inicio)%60, ' segundos' )"
   ]
  },
  {
   "cell_type": "code",
   "execution_count": null,
   "id": "ca9b660f",
   "metadata": {
    "ExecuteTime": {
     "end_time": "2024-07-15T16:49:28.097696Z",
     "start_time": "2024-07-15T16:49:28.067742Z"
    }
   },
   "outputs": [],
   "source": [
    "df1"
   ]
  },
  {
   "cell_type": "code",
   "execution_count": null,
   "id": "d853c7f0",
   "metadata": {
    "ExecuteTime": {
     "end_time": "2024-07-15T16:49:28.438155Z",
     "start_time": "2024-07-15T16:49:28.099707Z"
    }
   },
   "outputs": [],
   "source": [
    " df1[df1['CEDULA_COD']==126]"
   ]
  },
  {
   "cell_type": "code",
   "execution_count": null,
   "id": "61e44e66",
   "metadata": {
    "ExecuteTime": {
     "end_time": "2024-07-15T16:49:39.865820Z",
     "start_time": "2024-07-15T16:49:28.443179Z"
    }
   },
   "outputs": [],
   "source": [
    "#Se seleccionan los 5 mejores años de sueldo\n",
    "inicio = time.time()\n",
    "top = 5\n",
    "#top_sal = df1.groupby('CEDULA_COD')['SAL_PROM_GRUPO'].nlargest(top).reset_index(level=0, drop=True)\n",
    "indices = df1.groupby('CEDULA_COD').apply(lambda x: x.index[:top]).explode()\n",
    "df2 = df1.loc[indices].reset_index(drop=True)\n",
    "fin = time.time()  \n",
    "print('Tiempo de ejecución es: ',  (fin-inicio)//3600, ' horas con ' ,  (fin-inicio)%3600//60 , ' minutos y', (fin-inicio)%60, ' segundos' )"
   ]
  },
  {
   "cell_type": "code",
   "execution_count": null,
   "id": "4590b8c7",
   "metadata": {
    "ExecuteTime": {
     "end_time": "2024-07-15T16:49:39.886734Z",
     "start_time": "2024-07-15T16:49:39.867971Z"
    }
   },
   "outputs": [],
   "source": [
    "df2[df2['CEDULA_COD']==126]"
   ]
  },
  {
   "cell_type": "code",
   "execution_count": null,
   "id": "7a5efcc3",
   "metadata": {
    "ExecuteTime": {
     "end_time": "2024-07-15T16:50:06.025672Z",
     "start_time": "2024-07-15T16:49:39.888915Z"
    }
   },
   "outputs": [],
   "source": [
    "#Seleccionar los cinco mejores años del grupo total de años de aporte\n",
    "combinaciones = set(zip(df2['CEDULA_COD'], df2['GRUPO']))\n",
    "afi_sel_g_all['GRUPO_SEL'] = [(cedula, grupo) in combinaciones for cedula, grupo in zip(afi_sel_g_all['CEDULA_COD'], afi_sel_g_all['GRUPO'])]\n",
    "afi_sel_g_all['GRUPO_SEL'] = afi_sel_g_all['GRUPO_SEL'].astype(int)"
   ]
  },
  {
   "cell_type": "code",
   "execution_count": null,
   "id": "7f02e554",
   "metadata": {
    "ExecuteTime": {
     "end_time": "2024-07-15T16:50:06.134042Z",
     "start_time": "2024-07-15T16:50:06.027696Z"
    }
   },
   "outputs": [],
   "source": [
    "afi_sel_g_all[afi_sel_g_all['CEDULA_COD']==126].tail(60)"
   ]
  },
  {
   "cell_type": "code",
   "execution_count": null,
   "id": "964f1d61",
   "metadata": {
    "ExecuteTime": {
     "end_time": "2024-07-15T16:50:43.971377Z",
     "start_time": "2024-07-15T16:50:06.135066Z"
    }
   },
   "outputs": [],
   "source": [
    "#Se crea una variable fecha para el período de mejores años y la base de cálculo\n",
    "inicio = time.time()\n",
    "mejores = afi_sel_g_all[afi_sel_g_all['GRUPO_SEL']==1].copy()\n",
    "mejores.loc[:, 'FECHA'] = pd.to_datetime(mejores['ANIO'].astype(str) + '-' + mejores['MES'].astype(str).str.zfill(2) + '-01')\n",
    "\n",
    "#Se calcula la base de calculo\n",
    "df_prom = mejores.groupby('CEDULA_COD')['SALARIO'].mean()\n",
    "fin = time.time()  \n",
    "print('Tiempo de ejecución es: ',  (fin-inicio)//3600, ' horas con ' ,  (fin-inicio)%3600//60 , ' minutos y', (fin-inicio)%60, ' segundos' )"
   ]
  },
  {
   "cell_type": "code",
   "execution_count": null,
   "id": "72f96eda",
   "metadata": {
    "ExecuteTime": {
     "end_time": "2024-07-15T16:50:43.973544Z",
     "start_time": "2024-07-15T16:50:43.973544Z"
    }
   },
   "outputs": [],
   "source": [
    "mejores"
   ]
  },
  {
   "cell_type": "code",
   "execution_count": null,
   "id": "97e8eed6",
   "metadata": {
    "ExecuteTime": {
     "end_time": "2024-07-15T16:50:43.974547Z",
     "start_time": "2024-07-15T16:50:43.974547Z"
    }
   },
   "outputs": [],
   "source": [
    "afi_sel_g_all['INI_CAL'] = afi_sel_g_all['CEDULA_COD'].map( mejores.groupby('CEDULA_COD')['FECHA'].max() )\n",
    "afi_sel_g_all['FIN_CAL'] = afi_sel_g_all['CEDULA_COD'].map( mejores.groupby('CEDULA_COD')['FECHA'].min() )\n",
    "afi_sel_g_all['BASE_CAL'] = afi_sel_g_all['CEDULA_COD'].map( df_prom )"
   ]
  },
  {
   "cell_type": "code",
   "execution_count": null,
   "id": "43447a9b",
   "metadata": {},
   "outputs": [],
   "source": [
    "caract['INI_CAL'] = caract['CEDULA_COD'].map( mejores.groupby('CEDULA_COD')['FECHA'].max() )\n",
    "caract['FIN_CAL'] = caract['CEDULA_COD'].map( mejores.groupby('CEDULA_COD')['FECHA'].min() )\n",
    "caract['BASE_CAL'] = caract['CEDULA_COD'].map( df_prom )\n",
    "caract"
   ]
  },
  {
   "cell_type": "code",
   "execution_count": null,
   "id": "63f0f8d6",
   "metadata": {
    "ExecuteTime": {
     "end_time": "2024-07-15T16:50:43.976543Z",
     "start_time": "2024-07-15T16:50:43.976543Z"
    }
   },
   "outputs": [],
   "source": [
    "del df1, df2, mejores"
   ]
  },
  {
   "cell_type": "code",
   "execution_count": null,
   "id": "8c4d61ef",
   "metadata": {
    "ExecuteTime": {
     "end_time": "2024-07-15T16:50:43.977547Z",
     "start_time": "2024-07-15T16:50:43.977547Z"
    }
   },
   "outputs": [],
   "source": [
    "afi_sel_g_all[ (afi_sel_g_all['CEDULA_COD']==126) & (afi_sel_g_all['GRUPO_SEL']==1)]['SALARIO'].mean()"
   ]
  },
  {
   "cell_type": "code",
   "execution_count": null,
   "id": "dcf1c923",
   "metadata": {
    "ExecuteTime": {
     "end_time": "2024-07-15T16:50:43.978544Z",
     "start_time": "2024-07-15T16:50:43.978544Z"
    }
   },
   "outputs": [],
   "source": [
    "afi_sel_g_all[ (afi_sel_g_all['CEDULA_COD']==126)]"
   ]
  },
  {
   "cell_type": "code",
   "execution_count": null,
   "id": "91b8ca09",
   "metadata": {},
   "outputs": [],
   "source": [
    "# #     df = asignar_grupo(sect, n_grupo)\n",
    "# #     df1 = valores_unicos_grupos(df)\n",
    "# #     df2 = sel_top_salarios(df1, top)\n",
    "# #     df = sel_grupo(df, df2)\n",
    "#     df = fec_sel_grupo(df)\n",
    "#     df = base_cal(df)\n",
    "#     df = ati_base_cal_m1(df, inferior)\n",
    "#     df = base_cal_sin_ati_m1(df)\n",
    "#     df = sbu_ajuste_m1(df, SBU)"
   ]
  },
  {
   "cell_type": "code",
   "execution_count": null,
   "id": "197dac7a",
   "metadata": {
    "ExecuteTime": {
     "end_time": "2024-07-15T16:50:43.979546Z",
     "start_time": "2024-07-15T16:50:43.979546Z"
    }
   },
   "outputs": [],
   "source": [
    "#Registros con años menores al 2000\n",
    "afi_sel_g_all[afi_sel_g_all['FIN_CAL'].dt.year<2000]"
   ]
  },
  {
   "cell_type": "code",
   "execution_count": null,
   "id": "cef47382",
   "metadata": {
    "ExecuteTime": {
     "end_time": "2024-07-15T16:50:43.981545Z",
     "start_time": "2024-07-15T16:50:43.981545Z"
    }
   },
   "outputs": [],
   "source": [
    "#Se agrega el valor del SBU\n",
    "SBU = pd.DataFrame( { 'ANIO':[2000,2001,2002, 2003, 2004, 2005, 2006, 2007, 2008, 2009, 2010, 2011, 2012, 2013, 2014, 2015, 2016, 2017, 2018, 2019, 2020,\n",
    "                              2021, 2022, 2023, 2024],\n",
    "                      'VALOR':[57,85.65,105, 122, 136, 150, 160, 170, 200, 218, 240, 264, 292, 318, 340, 354, 366, 375, 386, 394, 400, \n",
    "                              400, 425, 450, 460]})\n",
    "SBU"
   ]
  },
  {
   "cell_type": "code",
   "execution_count": null,
   "id": "c1ce61c6",
   "metadata": {
    "ExecuteTime": {
     "end_time": "2024-07-15T16:50:43.982578Z",
     "start_time": "2024-07-15T16:50:43.982578Z"
    }
   },
   "outputs": [],
   "source": [
    "afi_sel_g_all['SBU'] = afi_sel_g_all['ANIO'].map( SBU.groupby('ANIO')['VALOR'].first())"
   ]
  },
  {
   "cell_type": "code",
   "execution_count": null,
   "id": "9b77c8dc",
   "metadata": {
    "ExecuteTime": {
     "end_time": "2024-07-15T16:50:43.983668Z",
     "start_time": "2024-07-15T16:50:43.983668Z"
    }
   },
   "outputs": [],
   "source": [
    "afi_sel_g_all"
   ]
  },
  {
   "cell_type": "code",
   "execution_count": null,
   "id": "2719e7c9",
   "metadata": {
    "ExecuteTime": {
     "end_time": "2024-07-15T16:50:43.984670Z",
     "start_time": "2024-07-15T16:50:43.984670Z"
    }
   },
   "outputs": [],
   "source": [
    "#Cédula que tienen su historia laboral igual al SBU\n",
    "afi_sel_g_all['ID_SBU'] = afi_sel_g_all['SALARIO'] == afi_sel_g_all['SBU']\n",
    "#Si tiene -1 es un valor que no es un SBU en ese año y mes\n",
    "afi_sel_g_all['ID_SBU'] = afi_sel_g_all['ID_SBU'].astype(int)-1\n",
    "afi_sel_g_all"
   ]
  },
  {
   "cell_type": "code",
   "execution_count": null,
   "id": "d0c9f210",
   "metadata": {
    "ExecuteTime": {
     "end_time": "2024-07-15T16:50:43.986668Z",
     "start_time": "2024-07-15T16:50:43.986668Z"
    }
   },
   "outputs": [],
   "source": [
    "afi_sel_g_all[afi_sel_g_all['CEDULA_COD']==126].shape"
   ]
  },
  {
   "cell_type": "code",
   "execution_count": null,
   "id": "be1b64fc",
   "metadata": {
    "ExecuteTime": {
     "end_time": "2024-07-15T16:50:43.987670Z",
     "start_time": "2024-07-15T16:50:43.987670Z"
    }
   },
   "outputs": [],
   "source": [
    "afi_sel_g_all[(afi_sel_g_all['CEDULA_COD']==126) & (afi_sel_g_all['GRUPO_SEL']==1)]"
   ]
  },
  {
   "cell_type": "code",
   "execution_count": null,
   "id": "c0a09e4a",
   "metadata": {},
   "outputs": [],
   "source": [
    "objeto5 = afi_sel_g_all\n",
    "\n",
    "# Guardar los objetos en el archivo\n",
    "with open(ruta_archivo, 'ab') as archivo: \n",
    "    pickle.dump(objeto5, archivo)"
   ]
  },
  {
   "cell_type": "code",
   "execution_count": null,
   "id": "8a54aec4",
   "metadata": {},
   "outputs": [],
   "source": [
    "del objeto5"
   ]
  },
  {
   "cell_type": "code",
   "execution_count": null,
   "id": "0ba21b68",
   "metadata": {},
   "outputs": [],
   "source": [
    "#Selección de cedulas con sus mejores años de sueldo y que su salario no sea un SBU\n",
    "data_sin_ati = afi_sel_g_all[ (afi_sel_g_all['GRUPO_SEL']==1) & (afi_sel_g_all['ID_SBU']!=-1)]\n",
    "data_ati = afi_sel_g_all[ (afi_sel_g_all['GRUPO_SEL']==1) & (afi_sel_g_all['ID_SBU']!=0)]"
   ]
  },
  {
   "cell_type": "code",
   "execution_count": null,
   "id": "0a14bf2d",
   "metadata": {},
   "outputs": [],
   "source": [
    "data_ati.shape #(21022610, 15)\n",
    "data_sin_ati.shape #(5449506, 15)"
   ]
  },
  {
   "cell_type": "code",
   "execution_count": null,
   "id": "1bcf53b0",
   "metadata": {},
   "outputs": [],
   "source": [
    "data_ati[data_ati['CEDULA_COD']==126][['CEDULA_COD','ANIO','MES','SALARIO']].shape"
   ]
  },
  {
   "cell_type": "code",
   "execution_count": null,
   "id": "faf69b4e",
   "metadata": {},
   "outputs": [],
   "source": [
    "data_ati[data_ati['CEDULA_COD']==126]"
   ]
  },
  {
   "cell_type": "code",
   "execution_count": null,
   "id": "e63dc2c2",
   "metadata": {},
   "outputs": [],
   "source": [
    "objeto6 = data_ati\n",
    "objeto7 = data_sin_ati\n",
    "\n",
    "# Guardar los objetos en el archivo\n",
    "with open(ruta_archivo, 'ab') as archivo: \n",
    "    pickle.dump(objeto6, archivo)\n",
    "    pickle.dump(objeto7, archivo)\n",
    "    \n",
    "del objeto6, objeto7"
   ]
  },
  {
   "cell_type": "code",
   "execution_count": 3,
   "id": "b631559e",
   "metadata": {
    "ExecuteTime": {
     "end_time": "2024-07-15T20:35:17.032347Z",
     "start_time": "2024-07-15T20:23:01.204186Z"
    }
   },
   "outputs": [
    {
     "name": "stdout",
     "output_type": "stream",
     "text": [
      "El archivo contiene 6 objetos.\n",
      "Objeto 1:           CEDULA_COD  ANIO  MES CODSEC          SECTOR  \\\n",
      "0           16260000  2003   12      R         PRIVADO   \n",
      "1           10788805  1994    4      R         PRIVADO   \n",
      "2            1866110  1991   12      R         PRIVADO   \n",
      "3            3579340  1986    5      R         PRIVADO   \n",
      "4           10605673  2003   11      R         PRIVADO   \n",
      "...              ...   ...  ...    ...             ...   \n",
      "68062265    13322434  2017    9      R         PRIVADO   \n",
      "68062266    10495276  2017   11      R         PRIVADO   \n",
      "68062267     1503916  2019   12      P         PUBLICO   \n",
      "68062268    16254330  2019    8      R  INDEPENDIENTES   \n",
      "68062269     6091299  2020    7      P         PUBLICO   \n",
      "\n",
      "                                                  DESTIPEMP  \\\n",
      "0                 2-EMPRESA PRIVADA -SOCIEDADES / COMPANIAS   \n",
      "1                3-EMPRESA UNIPERSONAL /  PEQUEÑA INDUSTRIA   \n",
      "2                                    25-EMPLEADOR DOMESTICO   \n",
      "3                3-EMPRESA UNIPERSONAL /  PEQUEÑA INDUSTRIA   \n",
      "4                 2-EMPRESA PRIVADA -SOCIEDADES / COMPANIAS   \n",
      "...                                                     ...   \n",
      "68062265          2-EMPRESA PRIVADA -SOCIEDADES / COMPANIAS   \n",
      "68062266         3-EMPRESA UNIPERSONAL /  PEQUEÑA INDUSTRIA   \n",
      "68062267  14-FUNCION EJECUTIVA, LEGISL, JUDICIAL Y ORGAN...   \n",
      "68062268          2-EMPRESA PRIVADA -SOCIEDADES / COMPANIAS   \n",
      "68062269  14-FUNCION EJECUTIVA, LEGISL, JUDICIAL Y ORGAN...   \n",
      "\n",
      "                                                  DESRELTRA     CODCII  \\\n",
      "0                               06-CODIGO DEL TRABAJO - CT        D171   \n",
      "1                               06-CODIGO DEL TRABAJO - CT     M711011   \n",
      "2                                19-SERVICIO DOMESTICO - CT       P950   \n",
      "3                               06-CODIGO DEL TRABAJO - CT     A011301   \n",
      "4                               06-CODIGO DEL TRABAJO - CT     K741409   \n",
      "...                                                     ...        ...   \n",
      "68062265                        06-CODIGO DEL TRABAJO - CT   G45100102   \n",
      "68062266                        06-CODIGO DEL TRABAJO - CT        D289   \n",
      "68062267     10-DOC. MAGISTERIO  NOMBRAMIENTOS Y CONTRATOS        M802   \n",
      "68062268  109-GERENTE ADMINISTRADOR SIN RELACIÓN DE DEPE...  S96090705   \n",
      "68062269                        06-CODIGO DEL TRABAJO - CT   Q86200103   \n",
      "\n",
      "          PROVINCIA                           CANTON  SALARIO  PORCENTAJE_AP  \\\n",
      "0         PICHINCHA  DISTRITO METROPOLITANO DE QUITO   207.63           41.0   \n",
      "1          IMBABURA                           IBARRA    56.65           20.5   \n",
      "2         PICHINCHA  DISTRITO METROPOLITANO DE QUITO    20.00           20.5   \n",
      "3            EL ORO                          MACHALA    56.65           20.5   \n",
      "4          IMBABURA                           IBARRA   150.13           41.0   \n",
      "...             ...                              ...      ...            ...   \n",
      "68062265  PICHINCHA  DISTRITO METROPOLITANO DE QUITO   400.00           20.6   \n",
      "68062266  PICHINCHA  DISTRITO METROPOLITANO DE QUITO   900.00           20.6   \n",
      "68062267      CAÑAR                          AZOGUES   817.00           20.6   \n",
      "68062268  PICHINCHA  DISTRITO METROPOLITANO DE QUITO   394.00           17.6   \n",
      "68062269     GUAYAS                        GUAYAQUIL   824.80           20.6   \n",
      "\n",
      "         SECTOR_A  \n",
      "0             PRI  \n",
      "1             PRI  \n",
      "2             PRI  \n",
      "3             PRI  \n",
      "4             PRI  \n",
      "...           ...  \n",
      "68062265      PRI  \n",
      "68062266      PRI  \n",
      "68062267      PUB  \n",
      "68062268      IND  \n",
      "68062269      PUB  \n",
      "\n",
      "[68062270 rows x 13 columns]\n",
      "Objeto 2:           CEDULA_COD  ANIO  MES CODSEC   SECTOR  \\\n",
      "26481585         126  2004   12      R  PRIVADO   \n",
      "67442511         126  2005    1      R  PRIVADO   \n",
      "41179435         126  2005    2      R  PRIVADO   \n",
      "44033860         126  2005    3      R  PRIVADO   \n",
      "47099991         126  2005    4      R  PRIVADO   \n",
      "...              ...   ...  ...    ...      ...   \n",
      "27896256    23594465  2017   11      R  PRIVADO   \n",
      "5107034     23594465  2017   12      R  PRIVADO   \n",
      "44333802    23594465  2018    1      R  PRIVADO   \n",
      "38102314    23594465  2018    2      R  PRIVADO   \n",
      "54561026    23594465  2018    3      R  PRIVADO   \n",
      "\n",
      "                                          DESTIPEMP  \\\n",
      "26481585  2-EMPRESA PRIVADA -SOCIEDADES / COMPANIAS   \n",
      "67442511  2-EMPRESA PRIVADA -SOCIEDADES / COMPANIAS   \n",
      "41179435  2-EMPRESA PRIVADA -SOCIEDADES / COMPANIAS   \n",
      "44033860  2-EMPRESA PRIVADA -SOCIEDADES / COMPANIAS   \n",
      "47099991  2-EMPRESA PRIVADA -SOCIEDADES / COMPANIAS   \n",
      "...                                             ...   \n",
      "27896256  2-EMPRESA PRIVADA -SOCIEDADES / COMPANIAS   \n",
      "5107034   2-EMPRESA PRIVADA -SOCIEDADES / COMPANIAS   \n",
      "44333802  2-EMPRESA PRIVADA -SOCIEDADES / COMPANIAS   \n",
      "38102314  2-EMPRESA PRIVADA -SOCIEDADES / COMPANIAS   \n",
      "54561026  2-EMPRESA PRIVADA -SOCIEDADES / COMPANIAS   \n",
      "\n",
      "                            DESRELTRA     CODCII  PROVINCIA  \\\n",
      "26481585  06-CODIGO DEL TRABAJO - CT   K66220001      AZUAY   \n",
      "67442511  06-CODIGO DEL TRABAJO - CT   K66220001      AZUAY   \n",
      "41179435  06-CODIGO DEL TRABAJO - CT   K66220001      AZUAY   \n",
      "44033860  06-CODIGO DEL TRABAJO - CT   K66220001      AZUAY   \n",
      "47099991  06-CODIGO DEL TRABAJO - CT   K66220001      AZUAY   \n",
      "...                               ...        ...        ...   \n",
      "27896256  06-CODIGO DEL TRABAJO - CT        C111  PICHINCHA   \n",
      "5107034   06-CODIGO DEL TRABAJO - CT        C111  PICHINCHA   \n",
      "44333802  06-CODIGO DEL TRABAJO - CT        C111  PICHINCHA   \n",
      "38102314  06-CODIGO DEL TRABAJO - CT        C111  PICHINCHA   \n",
      "54561026  06-CODIGO DEL TRABAJO - CT        C111  PICHINCHA   \n",
      "\n",
      "                                   CANTON   SALARIO  PORCENTAJE_AP SECTOR_A  \\\n",
      "26481585                           CUENCA    147.45           20.5      PRI   \n",
      "67442511                           CUENCA    161.67           41.0      PRI   \n",
      "41179435                           CUENCA    161.67           20.5      PRI   \n",
      "44033860                           CUENCA    161.67           20.5      PRI   \n",
      "47099991                           CUENCA    161.67           20.5      PRI   \n",
      "...                                   ...       ...            ...      ...   \n",
      "27896256  DISTRITO METROPOLITANO DE QUITO  14045.72           20.6      PRI   \n",
      "5107034   DISTRITO METROPOLITANO DE QUITO  14164.25           20.6      PRI   \n",
      "44333802  DISTRITO METROPOLITANO DE QUITO  12903.21           20.6      PRI   \n",
      "38102314  DISTRITO METROPOLITANO DE QUITO  42432.21           20.6      PRI   \n",
      "54561026  DISTRITO METROPOLITANO DE QUITO  12738.28           20.6      PRI   \n",
      "\n",
      "              FECHA  \n",
      "26481585 2004-12-01  \n",
      "67442511 2005-01-01  \n",
      "41179435 2005-02-01  \n",
      "44033860 2005-03-01  \n",
      "47099991 2005-04-01  \n",
      "...             ...  \n",
      "27896256 2017-11-01  \n",
      "5107034  2017-12-01  \n",
      "44333802 2018-01-01  \n",
      "38102314 2018-02-01  \n",
      "54561026 2018-03-01  \n",
      "\n",
      "[64638969 rows x 14 columns]\n",
      "Objeto 3:         CEDULA_COD     INI_HL     FIN_HL  MES_AS  MES_TU\n",
      "0              126 2004-12-01 2010-12-01      73      73\n",
      "1              152 2004-07-01 2009-09-01      63      63\n",
      "2              216 2004-07-01 2009-09-01      98      63\n",
      "3              230 2004-12-01 2015-05-01     126     126\n",
      "4              235 2004-08-01 2011-06-01      83      83\n",
      "...            ...        ...        ...     ...     ...\n",
      "442565    23075971 2017-02-01 2022-10-01      66      66\n",
      "442566    23402574 2010-01-01 2019-02-01     110     110\n",
      "442567    23456125 2016-07-01 2022-03-01      69      69\n",
      "442568    23503686 2004-09-01 2011-11-01      87      87\n",
      "442569    23594465 2012-05-01 2018-03-01      71      71\n",
      "\n",
      "[442570 rows x 5 columns]\n",
      "Objeto 4:           CEDULA_COD  ANIO  MES  SALARIO    SECTOR_A  NUM_SEC_MES  \\\n",
      "0                126  2010   12     8.06         PRI            1   \n",
      "1                126  2010   11   250.00         PRI            1   \n",
      "2                126  2010   10   250.00         PRI            1   \n",
      "3                126  2010    9   250.00         PRI            1   \n",
      "4                126  2010    8   250.00         PRI            1   \n",
      "...              ...   ...  ...      ...         ...          ...   \n",
      "62130162    20949683  2014    3   696.22     PRI;PUB            2   \n",
      "62130163    21035240  2010    9   332.59     PRI;PRI            2   \n",
      "62130164    21035907  2008    6   409.27     PRI;PUB            2   \n",
      "62130165    21104059  2016    4   270.72     PRI;PRI            2   \n",
      "62130166    21729781  2018    1   618.00  VOL_EC;PRI            2   \n",
      "\n",
      "           %_NUM_SECTOR  \n",
      "0                  8.06  \n",
      "1                 250.0  \n",
      "2                 250.0  \n",
      "3                 250.0  \n",
      "4                 250.0  \n",
      "...                 ...  \n",
      "62130162  0.7597;0.2403  \n",
      "62130163  0.5845;0.4155  \n",
      "62130164  0.4154;0.5846  \n",
      "62130165  0.4459;0.5541  \n",
      "62130166  0.6877;0.3123  \n",
      "\n",
      "[62130167 rows x 7 columns]\n",
      "Objeto 5:           CEDULA_COD  ANIO  MES   SALARIO SECTOR_A  NUM_SEC_MES %_NUM_SECTOR  \\\n",
      "0                126  2010   12      8.06      PRI            1            1   \n",
      "1                126  2010   11    250.00      PRI            1            1   \n",
      "2                126  2010   10    250.00      PRI            1            1   \n",
      "3                126  2010    9    250.00      PRI            1            1   \n",
      "4                126  2010    8    250.00      PRI            1            1   \n",
      "...              ...   ...  ...       ...      ...          ...          ...   \n",
      "62130151    23594465  2013    8  12464.35      PRI            1            1   \n",
      "62130152    23594465  2013    7  12451.36      PRI            1            1   \n",
      "62130153    23594465  2013    6  12464.34      PRI            1            1   \n",
      "62130154    23594465  2013    5  18476.35      PRI            1            1   \n",
      "62130155    23594465  2013    4  13417.92      PRI            1            1   \n",
      "\n",
      "          GRUPO  SAL_PROM_GRUPO  GRUPO_SEL    INI_CAL    FIN_CAL   BASE_CAL  \\\n",
      "0             1      229.838333          1 2010-12-01 2006-01-01    210.635   \n",
      "1             1      229.838333          1 2010-12-01 2006-01-01    210.635   \n",
      "2             1      229.838333          1 2010-12-01 2006-01-01    210.635   \n",
      "3             1      229.838333          1 2010-12-01 2006-01-01    210.635   \n",
      "4             1      229.838333          1 2010-12-01 2006-01-01    210.635   \n",
      "...         ...             ...        ...        ...        ...        ...   \n",
      "62130151      5    17158.475000          1 2018-03-01 2013-04-01  16604.299   \n",
      "62130152      5    17158.475000          1 2018-03-01 2013-04-01  16604.299   \n",
      "62130153      5    17158.475000          1 2018-03-01 2013-04-01  16604.299   \n",
      "62130154      5    17158.475000          1 2018-03-01 2013-04-01  16604.299   \n",
      "62130155      5    17158.475000          1 2018-03-01 2013-04-01  16604.299   \n",
      "\n",
      "            SBU  ID_SBU  \n",
      "0         240.0      -1  \n",
      "1         240.0      -1  \n",
      "2         240.0      -1  \n",
      "3         240.0      -1  \n",
      "4         240.0      -1  \n",
      "...         ...     ...  \n",
      "62130151  318.0      -1  \n",
      "62130152  318.0      -1  \n",
      "62130153  318.0      -1  \n",
      "62130154  318.0      -1  \n",
      "62130155  318.0      -1  \n",
      "\n",
      "[21022610 rows x 15 columns]\n",
      "Objeto 6:           CEDULA_COD  ANIO  MES  SALARIO SECTOR_A  NUM_SEC_MES %_NUM_SECTOR  \\\n",
      "34               126  2008    2    200.0      PRI            1            1   \n",
      "35               126  2008    1    200.0      PRI            1            1   \n",
      "36               126  2007   12    170.0      PRI            1            1   \n",
      "37               126  2007   11    170.0      PRI            1            1   \n",
      "38               126  2007   10    170.0      PRI            1            1   \n",
      "...              ...   ...  ...      ...      ...          ...          ...   \n",
      "62130064    23503686  2007    4    170.0      PRI            1            1   \n",
      "62130065    23503686  2007    3    170.0      PRI            1            1   \n",
      "62130066    23503686  2007    2    170.0      PRI            1            1   \n",
      "62130067    23503686  2007    1    170.0      PRI            1            1   \n",
      "62130068    23503686  2006   12    160.0      PRI            1            1   \n",
      "\n",
      "          GRUPO  SAL_PROM_GRUPO  GRUPO_SEL    INI_CAL    FIN_CAL    BASE_CAL  \\\n",
      "34            3      241.666667          1 2010-12-01 2006-01-01  210.635000   \n",
      "35            3      241.666667          1 2010-12-01 2006-01-01  210.635000   \n",
      "36            4      170.000000          1 2010-12-01 2006-01-01  210.635000   \n",
      "37            4      170.000000          1 2010-12-01 2006-01-01  210.635000   \n",
      "38            4      170.000000          1 2010-12-01 2006-01-01  210.635000   \n",
      "...         ...             ...        ...        ...        ...         ...   \n",
      "62130064      5      169.166667          1 2011-11-01 2006-12-01  215.797833   \n",
      "62130065      5      169.166667          1 2011-11-01 2006-12-01  215.797833   \n",
      "62130066      5      169.166667          1 2011-11-01 2006-12-01  215.797833   \n",
      "62130067      5      169.166667          1 2011-11-01 2006-12-01  215.797833   \n",
      "62130068      5      169.166667          1 2011-11-01 2006-12-01  215.797833   \n",
      "\n",
      "            SBU  ID_SBU  \n",
      "34        200.0       0  \n",
      "35        200.0       0  \n",
      "36        170.0       0  \n",
      "37        170.0       0  \n",
      "38        170.0       0  \n",
      "...         ...     ...  \n",
      "62130064  170.0       0  \n",
      "62130065  170.0       0  \n",
      "62130066  170.0       0  \n",
      "62130067  170.0       0  \n",
      "62130068  160.0       0  \n",
      "\n",
      "[5449506 rows x 15 columns]\n"
     ]
    }
   ],
   "source": [
    "#Cargar los archivos\n",
    "directorio = r_ruta\n",
    "nombre_archivo = 'viu_clean_afiliados.pkl'\n",
    "ruta_archivo = os.path.join(directorio, nombre_archivo)\n",
    "\n",
    "objetos = []\n",
    "try:\n",
    "    with open(ruta_archivo, 'rb') as archivo:\n",
    "        while True:\n",
    "            try:\n",
    "                objetos.append(pickle.load(archivo))\n",
    "            except EOFError:\n",
    "                break\n",
    "except Exception as e:\n",
    "    print(f\"Ocurrió un error al intentar cargar el archivo: {e}\")\n",
    "\n",
    "# Verifica la cantidad de objetos y accede a ellos\n",
    "print(f\"El archivo contiene {len(objetos)} objetos.\")\n",
    "for i, obj in enumerate(objetos):\n",
    "    print(f\"Objeto {i+1}: {obj}\")\n",
    "\n",
    "# # Acceder a un objeto específico\n",
    "# if len(objetos) >= 3:\n",
    "#     afi_sel_g_all = objetos[2]  # Cargar el tercer objeto\n",
    "# else:\n",
    "#     print(\"El archivo no contiene suficientes objetos.\")"
   ]
  },
  {
   "cell_type": "code",
   "execution_count": null,
   "id": "db0b424a",
   "metadata": {
    "ExecuteTime": {
     "end_time": "2024-07-15T16:39:56.428964Z",
     "start_time": "2024-07-15T16:39:56.425006Z"
    }
   },
   "outputs": [],
   "source": [
    "#Análisis de atípicos\n",
    "#Método de clustering jerárquico\n",
    "data_ati = objetos[4]\n",
    "data_sin_ati = objetos[5]"
   ]
  },
  {
   "cell_type": "code",
   "execution_count": null,
   "id": "a6177b78",
   "metadata": {
    "ExecuteTime": {
     "end_time": "2024-07-15T16:40:13.959200Z",
     "start_time": "2024-07-15T16:40:04.105936Z"
    }
   },
   "outputs": [],
   "source": [
    "#data_ati = data_ati[ data_ati['SALARIO'] >= data_ati['SBU']]\n",
    "data_ati = data_ati.sort_values( by=[\"CEDULA_COD\",\"ANIO\", \"MES\"], ascending=[True, True, True] )\n",
    "data_ati"
   ]
  },
  {
   "cell_type": "code",
   "execution_count": null,
   "id": "c781fd34",
   "metadata": {
    "ExecuteTime": {
     "end_time": "2024-07-15T16:40:18.374902Z",
     "start_time": "2024-07-15T16:40:18.320576Z"
    }
   },
   "outputs": [],
   "source": [
    "data_ati[data_ati['CEDULA_COD']==1637]\n",
    "#data_sin_ati[data_sin_ati['CEDULA_COD']==8748]"
   ]
  },
  {
   "cell_type": "code",
   "execution_count": null,
   "id": "e7b2deda",
   "metadata": {
    "ExecuteTime": {
     "end_time": "2024-07-15T16:40:31.979079Z",
     "start_time": "2024-07-15T16:40:20.345401Z"
    }
   },
   "outputs": [],
   "source": [
    "data_ati_dic = data_ati.groupby('CEDULA_COD')['SALARIO'].apply(list).to_dict()\n",
    "data_ati_dic"
   ]
  },
  {
   "cell_type": "code",
   "execution_count": null,
   "id": "74424898",
   "metadata": {
    "ExecuteTime": {
     "end_time": "2024-07-15T16:40:58.066999Z",
     "start_time": "2024-07-15T16:40:58.061388Z"
    }
   },
   "outputs": [],
   "source": [
    "#cedula\n",
    "data_ati_dic[126]"
   ]
  },
  {
   "cell_type": "code",
   "execution_count": null,
   "id": "f1b069c8",
   "metadata": {
    "ExecuteTime": {
     "end_time": "2024-07-15T14:45:35.306426Z",
     "start_time": "2024-07-15T14:44:14.363300Z"
    }
   },
   "outputs": [],
   "source": [
    "#Algoritmo jerarquico basado en las derivadas\n",
    "data_val_ati = {}\n",
    "for cedula in data_ati_dic:\n",
    "    if( len( np.unique(data_ati_dic[cedula] ) ) > 3 ):\n",
    "        aux = np.array( np.unique( data_ati_dic[cedula] ) ).reshape(-1, 1)\n",
    "        Z = linkage( aux , method='single', metric='euclidean')\n",
    "        last = Z[-10:, 2]\n",
    "        last_rev = last[::-1]\n",
    "        idxs = np.arange(1, len(last) + 1)\n",
    "        acceleration = np.diff(last, 2)  # Segunda derivada de las distancias\n",
    "        acceleration_rev = acceleration[::-1]\n",
    "\n",
    "        k = acceleration_rev.argmax() + 2  # El codo en la gráfica de la segunda derivada\n",
    "        max_d = last_rev[k]\n",
    "\n",
    "        # Cortar el dendrograma a la altura determinada\n",
    "        clusters = fcluster(Z, max_d, criterion='distance')\n",
    "        unique, counts = np.unique(clusters, return_counts=True)\n",
    "        atypical_clusters = unique[counts == 1]\n",
    "        atypical_values = np.isin(clusters, atypical_clusters).astype(int)\n",
    "    \n",
    "        data_val_ati[cedula] = {\n",
    "        'SALARIO': aux.flatten().tolist(),\n",
    "        'ATIPICO':  atypical_values.tolist()\n",
    "        }\n",
    "    else:\n",
    "        data_val_ati[cedula] = {\n",
    "        'SALARIO': aux.flatten().tolist(),\n",
    "        'ATIPICO':  -1\n",
    "        }\n"
   ]
  },
  {
   "cell_type": "code",
   "execution_count": null,
   "id": "c588343d",
   "metadata": {
    "ExecuteTime": {
     "end_time": "2024-07-13T20:24:59.553282Z",
     "start_time": "2024-07-13T20:24:59.548207Z"
    }
   },
   "outputs": [],
   "source": [
    "cedula"
   ]
  },
  {
   "cell_type": "code",
   "execution_count": null,
   "id": "24c01c46",
   "metadata": {
    "ExecuteTime": {
     "end_time": "2024-07-13T20:25:10.132733Z",
     "start_time": "2024-07-13T20:25:09.300445Z"
    }
   },
   "outputs": [],
   "source": [
    "data_val_ati"
   ]
  },
  {
   "cell_type": "code",
   "execution_count": null,
   "id": "a38c0506",
   "metadata": {
    "ExecuteTime": {
     "end_time": "2024-07-15T16:39:18.209583Z",
     "start_time": "2024-07-15T16:39:17.661322Z"
    }
   },
   "outputs": [],
   "source": [
    "aux=None\n",
    "aux = np.array( data_ati_dic[126] ).reshape(-1, 1)\n",
    "print(aux)\n",
    "Z = linkage( aux , method='single', metric='euclidean')\n",
    "dendrograma = dendrogram(Z, no_plot=False)\n",
    "\n",
    "# Realizar el corte del dendrograma para obtener los clusters\n",
    "num_clusters = 2  # Puedes ajustar este valor según tus necesidades\n",
    "clusters = fcluster(Z, num_clusters, criterion='maxclust')\n",
    "\n",
    "# Calcular el centroide de cada clúster\n",
    "cluster_centers = np.array([aux[clusters == i].mean(axis=0) for i in range(1, num_clusters + 1)])\n",
    "\n",
    "# Calcular la distancia de cada punto al centroide de su clúster\n",
    "distances_to_center = cdist(aux, cluster_centers)\n",
    "\n",
    "# Calcular las distancias medias a los centroides\n",
    "mean_distances = distances_to_center.mean(axis=1)\n",
    "\n",
    "# Calcular un umbral para identificar valores atípicos (por ejemplo, el percentil 95)\n",
    "threshold = np.percentile(mean_distances, 95)\n",
    "\n",
    "# Identificar los valores atípicos\n",
    "outliers_indices = np.where(mean_distances > threshold)[0]\n",
    "outliers = aux[outliers_indices]"
   ]
  },
  {
   "cell_type": "code",
   "execution_count": null,
   "id": "430efb7c",
   "metadata": {
    "ExecuteTime": {
     "end_time": "2024-07-15T16:39:23.933701Z",
     "start_time": "2024-07-15T16:39:23.928811Z"
    }
   },
   "outputs": [],
   "source": [
    "outliers"
   ]
  },
  {
   "cell_type": "code",
   "execution_count": null,
   "id": "aed5ecd6",
   "metadata": {
    "ExecuteTime": {
     "end_time": "2024-07-15T16:17:50.736261Z",
     "start_time": "2024-07-15T16:17:50.731020Z"
    }
   },
   "outputs": [],
   "source": [
    "max_d"
   ]
  },
  {
   "cell_type": "code",
   "execution_count": null,
   "id": "1f963e02",
   "metadata": {
    "ExecuteTime": {
     "end_time": "2024-07-15T16:14:33.038417Z",
     "start_time": "2024-07-15T16:14:33.033521Z"
    }
   },
   "outputs": [],
   "source": [
    "60*0.9"
   ]
  },
  {
   "cell_type": "code",
   "execution_count": null,
   "id": "b6171742",
   "metadata": {
    "ExecuteTime": {
     "end_time": "2024-07-13T20:18:19.596868Z",
     "start_time": "2024-07-13T20:18:19.590077Z"
    }
   },
   "outputs": [],
   "source": [
    "np.diff(last, 2) "
   ]
  },
  {
   "cell_type": "code",
   "execution_count": null,
   "id": "b4002f39",
   "metadata": {
    "ExecuteTime": {
     "end_time": "2024-07-13T19:32:35.675193Z",
     "start_time": "2024-07-13T19:32:35.668510Z"
    }
   },
   "outputs": [],
   "source": []
  }
 ],
 "metadata": {
  "kernelspec": {
   "display_name": "Python 3 (ipykernel)",
   "language": "python",
   "name": "python3"
  },
  "language_info": {
   "codemirror_mode": {
    "name": "ipython",
    "version": 3
   },
   "file_extension": ".py",
   "mimetype": "text/x-python",
   "name": "python",
   "nbconvert_exporter": "python",
   "pygments_lexer": "ipython3",
   "version": "3.11.4"
  },
  "toc": {
   "base_numbering": 1,
   "nav_menu": {},
   "number_sections": true,
   "sideBar": true,
   "skip_h1_title": false,
   "title_cell": "Table of Contents",
   "title_sidebar": "Contents",
   "toc_cell": false,
   "toc_position": {},
   "toc_section_display": true,
   "toc_window_display": false
  }
 },
 "nbformat": 4,
 "nbformat_minor": 5
}

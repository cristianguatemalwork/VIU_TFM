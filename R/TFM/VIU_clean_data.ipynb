{
 "cells": [
  {
   "cell_type": "code",
   "execution_count": 1,
   "id": "305b533b",
   "metadata": {
    "ExecuteTime": {
     "end_time": "2024-07-29T21:09:00.409492Z",
     "start_time": "2024-07-29T21:08:56.268612Z"
    }
   },
   "outputs": [],
   "source": [
    "#Importación de librearías necesarias\n",
    "import pandas as pd\n",
    "from datetime import datetime\n",
    "import socket\n",
    "import numpy as np\n",
    "import math\n",
    "import time\n",
    "import pickle  #Para guardar archivos\n",
    "import os\n",
    "\n",
    "from pympler import asizeof #Para liberar memoria\n",
    "import gc\n",
    "\n",
    "import matplotlib.pyplot as plt\n",
    "from matplotlib.colors import ListedColormap, to_rgb\n",
    "\n",
    "\n",
    "from scipy.cluster.hierarchy import dendrogram, linkage, fcluster\n",
    "from scipy.spatial.distance import cdist"
   ]
  },
  {
   "cell_type": "code",
   "execution_count": 2,
   "id": "3ad7f70c",
   "metadata": {
    "ExecuteTime": {
     "end_time": "2024-07-29T21:09:00.417798Z",
     "start_time": "2024-07-29T21:09:00.409492Z"
    }
   },
   "outputs": [],
   "source": [
    "#Path general de archivos\n",
    "if socket.gethostname()=='LAPTOP-PUSGG08B': #Ip de la laptop\n",
    "    ruta = \"E:/Cristian Guatemal/Master/Big Data y Ciencia de Datos/VIU_TFM/Data/TFM/\"\n",
    "    r_ruta = \"E:/Cristian Guatemal/Master/Big Data y Ciencia de Datos/VIU_TFM/RData/TFM/\"\n",
    "elif socket.gethostname()=='PCUIOMTDAIE6382': #Ip del working\n",
    "    ruta =   \"D:/Master/Big_Data_Ciencia_Datos/VIU_TFM/Data/TFM/\"\n",
    "    r_ruta = \"D:/Master/Big_Data_Ciencia_Datos/VIU_TFM/RData/TFM/\"\n",
    "# Ruta del archivo de pensionistas de vejez\n",
    "ruta_vj = ruta + 'POB_VEJ_CD656_NEW.dsv'\n",
    "# Ruta del archivo de historia laboral de pensionistas\n",
    "ruta_afi = ruta + 'APORTES_CD656_new.dsv'"
   ]
  },
  {
   "cell_type": "code",
   "execution_count": null,
   "id": "28dfb4e5",
   "metadata": {
    "ExecuteTime": {
     "end_time": "2024-07-15T17:40:29.504433Z",
     "start_time": "2024-07-15T17:38:33.999235Z"
    }
   },
   "outputs": [],
   "source": [
    "#Importación de archivos de afiliados\n",
    "inicio = time.time()\n",
    "afi = pd.read_csv( ruta_afi, delimiter='\\t', encoding='iso-8859-1', decimal='.')\n",
    "fin = time.time()  \n",
    "print('Tiempo de ejecución es: ',  (fin-inicio)//3600, ' horas con ' ,  (fin-inicio)%3600//60 , ' minutos y', \n",
    "        (fin-inicio)%60, ' segundos' )"
   ]
  },
  {
   "cell_type": "code",
   "execution_count": null,
   "id": "c19aaa90",
   "metadata": {
    "ExecuteTime": {
     "end_time": "2024-07-15T17:41:21.920678Z",
     "start_time": "2024-07-15T17:40:55.737050Z"
    }
   },
   "outputs": [],
   "source": [
    "#Agrupamiento por relación de trabajo\n",
    "inicio = time.time()\n",
    "agrupa = [ (afi['SECTOR'].isin(['PRIVADO', 'PASANTE PRIVADO'])), \n",
    "           (afi['SECTOR'].isin(['PUBLICO', 'PASANTE PUBLICO'])), \n",
    "           (afi['SECTOR'].isin(['INDEPENDIENTES', '108-ARTISTA Y GESTOR DE CULTURA', \n",
    "                                '02-TRABAJ. AUT Y SIN RELAC DEPEN DESDE  2011-12 SOLO AF.VOLUNT  '])),\n",
    "           (afi['SECTOR'].isin(['69-VOLUNTARIO ECUATORIANO DOMICILIADO EN EL EXTERIOR ',\n",
    "                                '89-AFILIACION DOMICILIADO EN EL EXTERIOR'])),\n",
    "           (afi['SECTOR'] == '90-AFILIACION DOMICILIADO EN EL PAIS / SIN RELACION DEPENDENCIA'),\n",
    "           (afi['SECTOR'] == '06-CODIGO DEL TRABAJO - CT ')\n",
    "            ]\n",
    "            \n",
    "tipo = ['PRI', 'PUB', 'IND', 'VOL_EX', 'VOL_EC', 'COD_TR']\n",
    "\n",
    "afi['SECTOR_A'] = np.select( agrupa, tipo, default=afi['SECTOR'])\n",
    "fin = time.time()  \n",
    "print('Tiempo de ejecución es: ',  (fin-inicio)//3600, ' horas con ' ,  (fin-inicio)%3600//60 , ' minutos y', \n",
    "        (fin-inicio)%60, ' segundos' )"
   ]
  },
  {
   "cell_type": "code",
   "execution_count": null,
   "id": "8a62a1f0",
   "metadata": {
    "ExecuteTime": {
     "end_time": "2024-07-15T17:41:26.031814Z",
     "start_time": "2024-07-15T17:41:21.923839Z"
    }
   },
   "outputs": [],
   "source": [
    "afi['SECTOR'].unique()"
   ]
  },
  {
   "cell_type": "code",
   "execution_count": null,
   "id": "b9d7fce7",
   "metadata": {
    "ExecuteTime": {
     "end_time": "2024-07-15T17:41:29.344291Z",
     "start_time": "2024-07-15T17:41:26.033925Z"
    }
   },
   "outputs": [],
   "source": [
    "afi['SECTOR_A'].unique()"
   ]
  },
  {
   "cell_type": "code",
   "execution_count": null,
   "id": "a03a3ae9",
   "metadata": {
    "ExecuteTime": {
     "end_time": "2024-07-15T17:41:29.351637Z",
     "start_time": "2024-07-15T17:41:29.346292Z"
    }
   },
   "outputs": [],
   "source": [
    "afi.shape"
   ]
  },
  {
   "cell_type": "code",
   "execution_count": null,
   "id": "04746277",
   "metadata": {
    "ExecuteTime": {
     "end_time": "2024-07-15T17:42:22.570617Z",
     "start_time": "2024-07-15T17:41:29.353744Z"
    }
   },
   "outputs": [],
   "source": [
    "#Para acceder a las prestaciones de IVM debe tener al menos 5 años de aporte o 60 imposiciones\n",
    "ced_counts = afi.drop_duplicates(subset=['CEDULA_COD', 'ANIO', 'MES'])['CEDULA_COD'].value_counts()"
   ]
  },
  {
   "cell_type": "code",
   "execution_count": null,
   "id": "dbad0c44",
   "metadata": {
    "ExecuteTime": {
     "end_time": "2024-07-15T17:42:22.635232Z",
     "start_time": "2024-07-15T17:42:22.572609Z"
    }
   },
   "outputs": [],
   "source": [
    "# numero de cedulas que tienen menos de 60 imposiciones\n",
    "ced_counts[ced_counts < 60].index.nunique()"
   ]
  },
  {
   "cell_type": "code",
   "execution_count": null,
   "id": "6165f941",
   "metadata": {
    "ExecuteTime": {
     "start_time": "2024-07-15T17:41:05.174Z"
    }
   },
   "outputs": [],
   "source": [
    "#Se filtran a las cedulas con menos de 60 imposicones \n",
    "inicio = time.time()\n",
    "afi_fil = afi[~afi['CEDULA_COD'].isin(ced_counts[ced_counts < 60].index)].copy()\n",
    "fin = time.time()  \n",
    "print('Tiempo de ejecución es: ',  (fin-inicio)//3600, ' horas con ' ,  (fin-inicio)%3600//60 , ' minutos y', (fin-inicio)%60, ' segundos' )\n",
    "\n",
    "#Se crea una variable fecha\n",
    "inicio = time.time()\n",
    "afi_fil.loc[:, 'FECHA'] = pd.to_datetime(afi_fil['ANIO'].astype(str) + '-' + afi_fil['MES'].astype(str).str.zfill(2) + '-01')\n",
    "fin = time.time()  \n",
    "print('Tiempo de ejecución es: ',  (fin-inicio)//3600, ' horas con ' ,  (fin-inicio)%3600//60 , ' minutos y', (fin-inicio)%60, ' segundos' )\n",
    "\n",
    "#Se ordenan los registros\n",
    "inicio = time.time()\n",
    "afi_fil = afi_fil.sort_values( by=[\"CEDULA_COD\",\"ANIO\", \"MES\"], ascending=[True, True, True] )\n",
    "fin = time.time()  \n",
    "print('Tiempo de ejecución es: ',  (fin-inicio)//3600, ' horas con ' ,  (fin-inicio)%3600//60 , ' minutos y', (fin-inicio)%60, ' segundos' )\n",
    "afi_fil.shape"
   ]
  },
  {
   "cell_type": "code",
   "execution_count": null,
   "id": "68f9e80c",
   "metadata": {
    "ExecuteTime": {
     "start_time": "2024-07-15T17:41:07.198Z"
    }
   },
   "outputs": [],
   "source": [
    "# Guadar archivo------------------------------------------------------------------------------------------------------------\n",
    "directorio = r_ruta\n",
    "\n",
    "# Asegúrate de que el directorio existe\n",
    "os.makedirs(directorio, exist_ok=True)\n",
    "\n",
    "# Nombre del archivo\n",
    "nombre_archivo = 'viu_clean_afi.pkl'\n",
    "# Ruta completa del archivo\n",
    "ruta_archivo = os.path.join(directorio, nombre_archivo)\n",
    "# Objetos a guardar\n",
    "objeto1 = afi\n",
    "\n",
    "# Guardar los objetos en el archivo\n",
    "with open(ruta_archivo, 'wb') as archivo:\n",
    "    pickle.dump(objeto1, archivo)\n",
    "    \n",
    "    \n",
    "# Nombre del archivo\n",
    "nombre_archivo = 'viu_clean_afi_fil.pkl'\n",
    "# Ruta completa del archivo\n",
    "ruta_archivo = os.path.join(directorio, nombre_archivo)\n",
    "# Objetos a guardar\n",
    "objeto2 = afi_fil\n",
    "\n",
    "# Guardar los objetos en el archivo\n",
    "with open(ruta_archivo, 'wb') as archivo:\n",
    "    pickle.dump(objeto2, archivo)"
   ]
  },
  {
   "cell_type": "code",
   "execution_count": null,
   "id": "8f44bc9e",
   "metadata": {},
   "outputs": [],
   "source": [
    "# Cargar archivo------------------------------------------------------------------------------------------------------------\n",
    "# directorio = r_ruta\n",
    "# nombre_archivo = 'viu_clean_afi_fil.pkl'\n",
    "# ruta_archivo = os.path.join(directorio, nombre_archivo)\n",
    "\n",
    "# with open( ruta_archivo, 'rb') as archivo:\n",
    "#     afi_fil = pickle.load( archivo )    "
   ]
  },
  {
   "cell_type": "code",
   "execution_count": null,
   "id": "d3968aa2",
   "metadata": {
    "ExecuteTime": {
     "end_time": "2024-07-15T17:15:23.991547Z",
     "start_time": "2024-07-15T17:15:23.991547Z"
    }
   },
   "outputs": [],
   "source": [
    "#Se eliminan archivos no necesarios para liberar la memoria\n",
    "del afi\n",
    "del objeto1\n",
    "del objeto2\n",
    "del ced_counts"
   ]
  },
  {
   "cell_type": "code",
   "execution_count": null,
   "id": "87d43629",
   "metadata": {
    "ExecuteTime": {
     "end_time": "2024-07-15T17:15:23.993540Z",
     "start_time": "2024-07-15T17:15:23.993540Z"
    }
   },
   "outputs": [],
   "source": [
    "afi_fil #Tiene una dimensión de (64638969 rows × 14 columns) "
   ]
  },
  {
   "cell_type": "code",
   "execution_count": null,
   "id": "3903704c",
   "metadata": {
    "ExecuteTime": {
     "end_time": "2024-07-15T17:15:23.995553Z",
     "start_time": "2024-07-15T17:15:23.995553Z"
    }
   },
   "outputs": [],
   "source": [
    "#Se seleccionan las características de la población para los año y mes de aportación\n",
    "afi_sel = afi_fil[['CEDULA_COD', 'ANIO', 'MES', 'FECHA','SALARIO', 'SECTOR_A']].copy()\n",
    "del afi_fil"
   ]
  },
  {
   "cell_type": "code",
   "execution_count": null,
   "id": "adcadef1",
   "metadata": {
    "ExecuteTime": {
     "end_time": "2024-07-15T17:15:23.996542Z",
     "start_time": "2024-07-15T17:15:23.996542Z"
    }
   },
   "outputs": [],
   "source": [
    "#Inicio de la HL\n",
    "caract = afi_sel.groupby('CEDULA_COD')['FECHA'].min().reset_index() \n",
    "caract.rename( columns={'FECHA': 'INI_HL'}, inplace=True)\n",
    "#Fin de la HL\n",
    "caract['FIN_HL'] = caract['CEDULA_COD'].map( afi_sel.groupby('CEDULA_COD')['FECHA'].max() )\n",
    "#Contar los meses, considerando duplicidad en los meses que puede tener aporte simultaneos\n",
    "caract['MES_AS'] = caract['CEDULA_COD'].map( afi_sel['CEDULA_COD'].value_counts() )\n",
    "#Meses trabajados unicos\n",
    "aux = afi_sel.drop_duplicates(subset=['CEDULA_COD', 'ANIO', 'MES'])\n",
    "caract['MES_TU'] = caract['CEDULA_COD'].map( aux['CEDULA_COD'].value_counts() )"
   ]
  },
  {
   "cell_type": "code",
   "execution_count": null,
   "id": "48d6a6d8",
   "metadata": {
    "ExecuteTime": {
     "end_time": "2024-07-15T17:15:23.998674Z",
     "start_time": "2024-07-15T17:15:23.998674Z"
    }
   },
   "outputs": [],
   "source": [
    "# Guadar archivo------------------------------------------------------------------------------------------------------------\n",
    "nombre_archivo = 'viu_clean_caract.pkl'\n",
    "# Ruta completa del archivo\n",
    "ruta_archivo = os.path.join(directorio, nombre_archivo)\n",
    "# Objetos a guardar\n",
    "objeto3 = caract\n",
    "\n",
    "# Guardar los objetos en el archivo\n",
    "with open(ruta_archivo, 'wb') as archivo:\n",
    "    pickle.dump(objeto3, archivo)    "
   ]
  },
  {
   "cell_type": "code",
   "execution_count": null,
   "id": "4c3149c5",
   "metadata": {
    "ExecuteTime": {
     "end_time": "2024-07-15T17:15:23.999664Z",
     "start_time": "2024-07-15T17:15:23.999664Z"
    }
   },
   "outputs": [],
   "source": [
    "del objeto3"
   ]
  },
  {
   "cell_type": "code",
   "execution_count": null,
   "id": "5d78279e",
   "metadata": {
    "ExecuteTime": {
     "end_time": "2024-07-15T17:15:24.002664Z",
     "start_time": "2024-07-15T17:15:24.002664Z"
    }
   },
   "outputs": [],
   "source": [
    "caract"
   ]
  },
  {
   "cell_type": "code",
   "execution_count": null,
   "id": "bc22a036",
   "metadata": {
    "ExecuteTime": {
     "end_time": "2024-07-15T17:15:24.003666Z",
     "start_time": "2024-07-15T17:15:24.003666Z"
    }
   },
   "outputs": [],
   "source": [
    "#Personas que tienen varios aportes simultaneos\n",
    "caract[caract['MES_AS']>caract['MES_TU']]"
   ]
  },
  {
   "cell_type": "code",
   "execution_count": null,
   "id": "16e523d3",
   "metadata": {
    "ExecuteTime": {
     "end_time": "2024-07-15T17:15:24.005665Z",
     "start_time": "2024-07-15T17:15:24.005665Z"
    }
   },
   "outputs": [],
   "source": [
    "#afi_sel[afi_sel['CEDULA_COD']==21729781].tail(60)"
   ]
  },
  {
   "cell_type": "code",
   "execution_count": null,
   "id": "bd0c7ea9",
   "metadata": {
    "ExecuteTime": {
     "end_time": "2024-07-15T17:15:24.007842Z",
     "start_time": "2024-07-15T17:15:24.007842Z"
    }
   },
   "outputs": [],
   "source": [
    "afi_sel =  afi_sel.sort_values( by=[\"CEDULA_COD\",\"ANIO\", \"MES\"], ascending=[True, False, False] )\n",
    "afi_sel['SALARIO_SECTOR'] = afi_sel['SALARIO']\n",
    "afi_sel['NUM_SEC_MES'] = 1\n",
    "afi_sel['%_NUM_SECTOR'] = afi_sel['SALARIO']"
   ]
  },
  {
   "cell_type": "code",
   "execution_count": null,
   "id": "508c16c5",
   "metadata": {
    "ExecuteTime": {
     "end_time": "2024-07-15T17:15:24.008844Z",
     "start_time": "2024-07-15T17:15:24.008844Z"
    }
   },
   "outputs": [],
   "source": [
    "aux = afi_sel[afi_sel.duplicated(subset=['CEDULA_COD', 'ANIO', 'MES'], keep=False)]\n",
    "aux1 = afi_sel[~afi_sel.duplicated(subset=['CEDULA_COD', 'ANIO', 'MES'], keep=False)]"
   ]
  },
  {
   "cell_type": "code",
   "execution_count": null,
   "id": "9f992a36",
   "metadata": {},
   "outputs": [],
   "source": [
    "aux"
   ]
  },
  {
   "cell_type": "code",
   "execution_count": null,
   "id": "413f07c9",
   "metadata": {
    "ExecuteTime": {
     "end_time": "2024-07-15T17:15:24.010840Z",
     "start_time": "2024-07-15T17:15:24.010840Z"
    }
   },
   "outputs": [],
   "source": [
    "#Se debe analizar a las personas que tienen varios aportes en un mismo mes\n",
    "#Se suman los salarios y se concatenan los sectores para la cedula que en el mismo anio y mes tienen más de un sector\n",
    "inicio = time.time()\n",
    "afi_sel_g = aux.groupby(['CEDULA_COD', 'ANIO', 'MES']).agg({'SALARIO': 'sum',\n",
    "                                                            'SALARIO_SECTOR': lambda x: ';'.join(x.astype(str)),\n",
    "                                                            'SECTOR_A': lambda x: ';'.join(x),\n",
    "                                                            'NUM_SEC_MES': lambda x: len(x),\n",
    "                                                            '%_NUM_SECTOR': lambda x:  ';'.join((x / x.sum()).round(4).astype(str))\n",
    "                                                                }).reset_index()\n",
    "fin = time.time()  \n",
    "print('Tiempo de ejecución es: ',  (fin-inicio)//3600, ' horas con ' ,  (fin-inicio)%3600//60 , ' minutos y', (fin-inicio)%60, ' segundos' )\n"
   ]
  },
  {
   "cell_type": "code",
   "execution_count": null,
   "id": "666ab864",
   "metadata": {
    "ExecuteTime": {
     "end_time": "2024-07-15T17:15:24.012840Z",
     "start_time": "2024-07-15T17:15:24.012840Z"
    }
   },
   "outputs": [],
   "source": [
    "afi_sel_g"
   ]
  },
  {
   "cell_type": "code",
   "execution_count": null,
   "id": "cbe59597",
   "metadata": {
    "ExecuteTime": {
     "end_time": "2024-07-15T17:15:24.014839Z",
     "start_time": "2024-07-15T17:15:24.014839Z"
    }
   },
   "outputs": [],
   "source": [
    "afi_sel_g_all = pd.concat( [aux1[['CEDULA_COD', 'ANIO', 'MES', 'SALARIO', 'SALARIO_SECTOR','SECTOR_A', 'NUM_SEC_MES', '%_NUM_SECTOR']], \n",
    "                            afi_sel_g], ignore_index=True )"
   ]
  },
  {
   "cell_type": "code",
   "execution_count": null,
   "id": "4bfdd552",
   "metadata": {
    "ExecuteTime": {
     "end_time": "2024-07-15T17:15:24.015841Z",
     "start_time": "2024-07-15T17:15:24.015841Z"
    }
   },
   "outputs": [],
   "source": [
    "afi_sel_g_all"
   ]
  },
  {
   "cell_type": "code",
   "execution_count": null,
   "id": "bb3917c8",
   "metadata": {
    "ExecuteTime": {
     "end_time": "2024-07-15T17:15:24.017984Z",
     "start_time": "2024-07-15T17:15:24.017984Z"
    }
   },
   "outputs": [],
   "source": [
    "# Guadar archivo------------------------------------------------------------------------------------------------------------\n",
    "nombre_archivo = 'viu_clean_afi_sel_g_all.pkl'\n",
    "# Ruta completa del archivo\n",
    "ruta_archivo = os.path.join(directorio, nombre_archivo)\n",
    "# Objetos a guardar\n",
    "objeto4 = afi_sel_g_all\n",
    "\n",
    "# Guardar los objetos en el archivo\n",
    "with open(ruta_archivo, 'wb') as archivo:\n",
    "    pickle.dump(objeto4, archivo)      "
   ]
  },
  {
   "cell_type": "code",
   "execution_count": null,
   "id": "64e1b80c",
   "metadata": {
    "ExecuteTime": {
     "end_time": "2024-07-15T20:35:18.490089Z",
     "start_time": "2024-07-15T20:35:17.362006Z"
    }
   },
   "outputs": [],
   "source": [
    "#afi_sel_g_all = objetos[3]"
   ]
  },
  {
   "cell_type": "code",
   "execution_count": null,
   "id": "12ce8372",
   "metadata": {
    "ExecuteTime": {
     "end_time": "2024-07-15T17:57:16.383287Z",
     "start_time": "2024-07-15T17:57:04.665045Z"
    }
   },
   "outputs": [],
   "source": [
    "del aux\n",
    "del aux1\n",
    "del objeto4"
   ]
  },
  {
   "cell_type": "code",
   "execution_count": null,
   "id": "3c213049",
   "metadata": {
    "ExecuteTime": {
     "start_time": "2024-07-15T20:35:59.850Z"
    }
   },
   "outputs": [],
   "source": [
    "afi_sel_g_all = afi_sel_g_all.sort_values( by=[\"CEDULA_COD\",\"ANIO\", \"MES\"], ascending=[True, False, False] )\n",
    "afi_sel_g_all.loc[ (afi_sel_g_all['NUM_SEC_MES'] == 1), '%_NUM_SECTOR'] = '1'"
   ]
  },
  {
   "cell_type": "code",
   "execution_count": null,
   "id": "828d7f59",
   "metadata": {
    "ExecuteTime": {
     "start_time": "2024-07-15T20:36:04.170Z"
    }
   },
   "outputs": [],
   "source": [
    "afi_sel_g_all[afi_sel_g_all['CEDULA_COD']==216]"
   ]
  },
  {
   "cell_type": "code",
   "execution_count": null,
   "id": "5a4c3357",
   "metadata": {
    "ExecuteTime": {
     "start_time": "2024-07-15T20:36:06.439Z"
    }
   },
   "outputs": [],
   "source": [
    "#Se reinician los index\n",
    "afi_sel_g_all.reset_index(inplace=True)\n",
    "afi_sel_g_all.rename(columns={'index': 'nuevo_indice'}, inplace=True)\n",
    "afi_sel_g_all.drop(columns=['nuevo_indice'], inplace=True)"
   ]
  },
  {
   "cell_type": "code",
   "execution_count": null,
   "id": "e48b33ad",
   "metadata": {
    "ExecuteTime": {
     "start_time": "2024-07-15T20:36:08.095Z"
    }
   },
   "outputs": [],
   "source": [
    "afi_sel_g_all[afi_sel_g_all['CEDULA_COD']==126]"
   ]
  },
  {
   "cell_type": "code",
   "execution_count": null,
   "id": "87616db7",
   "metadata": {
    "ExecuteTime": {
     "end_time": "2024-07-15T16:49:15.698723Z",
     "start_time": "2024-07-15T16:48:59.956839Z"
    }
   },
   "outputs": [],
   "source": [
    "#se crean los grupos de 12 meses trabajados para tener\n",
    "n_grupo = 12\n",
    "afi_sel_g_all['GRUPO'] = (afi_sel_g_all.groupby('CEDULA_COD').cumcount() // n_grupo ) + 1\n",
    "#Se saca el salario promedio de cada grupo\n",
    "afi_sel_g_all['SAL_PROM_GRUPO'] = afi_sel_g_all.groupby(['CEDULA_COD', 'GRUPO'])['SALARIO'].transform('mean')"
   ]
  },
  {
   "cell_type": "code",
   "execution_count": null,
   "id": "79bc8b95",
   "metadata": {
    "ExecuteTime": {
     "end_time": "2024-07-15T16:49:15.769801Z",
     "start_time": "2024-07-15T16:49:15.701731Z"
    }
   },
   "outputs": [],
   "source": [
    "afi_sel_g_all"
   ]
  },
  {
   "cell_type": "code",
   "execution_count": null,
   "id": "edc13f78",
   "metadata": {
    "ExecuteTime": {
     "end_time": "2024-07-15T16:49:18.892556Z",
     "start_time": "2024-07-15T16:49:18.454964Z"
    }
   },
   "outputs": [],
   "source": [
    "afi_sel_g_all[afi_sel_g_all['CEDULA_COD']==126]['GRUPO'].unique()"
   ]
  },
  {
   "cell_type": "code",
   "execution_count": null,
   "id": "2ede2e6c",
   "metadata": {
    "ExecuteTime": {
     "end_time": "2024-07-15T16:49:28.056278Z",
     "start_time": "2024-07-15T16:49:18.894563Z"
    }
   },
   "outputs": [],
   "source": [
    "#Se obtienen los sueldos promedios para cada grupo y cada cedula\n",
    "inicio = time.time()\n",
    "df1 = afi_sel_g_all.groupby(['CEDULA_COD', 'GRUPO'])['SAL_PROM_GRUPO'].first().reset_index().copy()\n",
    "df1 = df1.sort_values(by = ['CEDULA_COD','SAL_PROM_GRUPO'], ascending=[True,False])\n",
    "fin = time.time()  \n",
    "print('Tiempo de ejecución es: ',  (fin-inicio)//3600, ' horas con ' ,  (fin-inicio)%3600//60 , ' minutos y', (fin-inicio)%60, ' segundos' )"
   ]
  },
  {
   "cell_type": "code",
   "execution_count": null,
   "id": "ca9b660f",
   "metadata": {
    "ExecuteTime": {
     "end_time": "2024-07-15T16:49:28.097696Z",
     "start_time": "2024-07-15T16:49:28.067742Z"
    }
   },
   "outputs": [],
   "source": [
    "df1"
   ]
  },
  {
   "cell_type": "code",
   "execution_count": null,
   "id": "d853c7f0",
   "metadata": {
    "ExecuteTime": {
     "end_time": "2024-07-15T16:49:28.438155Z",
     "start_time": "2024-07-15T16:49:28.099707Z"
    }
   },
   "outputs": [],
   "source": [
    " df1[df1['CEDULA_COD']==126]"
   ]
  },
  {
   "cell_type": "code",
   "execution_count": null,
   "id": "61e44e66",
   "metadata": {
    "ExecuteTime": {
     "end_time": "2024-07-15T16:49:39.865820Z",
     "start_time": "2024-07-15T16:49:28.443179Z"
    }
   },
   "outputs": [],
   "source": [
    "#Se seleccionan los 5 mejores años de sueldo\n",
    "inicio = time.time()\n",
    "top = 5\n",
    "#top_sal = df1.groupby('CEDULA_COD')['SAL_PROM_GRUPO'].nlargest(top).reset_index(level=0, drop=True)\n",
    "indices = df1.groupby('CEDULA_COD').apply(lambda x: x.index[:top]).explode()\n",
    "df2 = df1.loc[indices].reset_index(drop=True)\n",
    "fin = time.time()  \n",
    "print('Tiempo de ejecución es: ',  (fin-inicio)//3600, ' horas con ' ,  (fin-inicio)%3600//60 , ' minutos y', (fin-inicio)%60, ' segundos' )"
   ]
  },
  {
   "cell_type": "code",
   "execution_count": null,
   "id": "4590b8c7",
   "metadata": {
    "ExecuteTime": {
     "end_time": "2024-07-15T16:49:39.886734Z",
     "start_time": "2024-07-15T16:49:39.867971Z"
    }
   },
   "outputs": [],
   "source": [
    "df2[df2['CEDULA_COD']==126]"
   ]
  },
  {
   "cell_type": "code",
   "execution_count": null,
   "id": "7a5efcc3",
   "metadata": {
    "ExecuteTime": {
     "end_time": "2024-07-15T16:50:06.025672Z",
     "start_time": "2024-07-15T16:49:39.888915Z"
    }
   },
   "outputs": [],
   "source": [
    "#Seleccionar los cinco mejores años del grupo total de años de aporte\n",
    "combinaciones = set(zip(df2['CEDULA_COD'], df2['GRUPO']))\n",
    "afi_sel_g_all['GRUPO_SEL'] = [(cedula, grupo) in combinaciones for cedula, grupo in zip(afi_sel_g_all['CEDULA_COD'], afi_sel_g_all['GRUPO'])]\n",
    "afi_sel_g_all['GRUPO_SEL'] = afi_sel_g_all['GRUPO_SEL'].astype(int)"
   ]
  },
  {
   "cell_type": "code",
   "execution_count": null,
   "id": "92f94379",
   "metadata": {},
   "outputs": [],
   "source": [
    "#Verificar que todas las cédulas tengan al menos 60 registros de los salarios\n",
    "ced_counts1 = afi_sel_g_all.drop_duplicates(subset=['CEDULA_COD', 'ANIO', 'MES'])['CEDULA_COD'].value_counts()\n",
    "ced_counts1[ced_counts1 < 60].index.nunique()"
   ]
  },
  {
   "cell_type": "code",
   "execution_count": null,
   "id": "7f02e554",
   "metadata": {
    "ExecuteTime": {
     "end_time": "2024-07-15T16:50:06.134042Z",
     "start_time": "2024-07-15T16:50:06.027696Z"
    }
   },
   "outputs": [],
   "source": [
    "afi_sel_g_all[afi_sel_g_all['CEDULA_COD']==126].tail(60)"
   ]
  },
  {
   "cell_type": "code",
   "execution_count": null,
   "id": "964f1d61",
   "metadata": {
    "ExecuteTime": {
     "end_time": "2024-07-15T16:50:43.971377Z",
     "start_time": "2024-07-15T16:50:06.135066Z"
    }
   },
   "outputs": [],
   "source": [
    "#Se crea una variable fecha para el período de mejores años y la base de cálculo\n",
    "inicio = time.time()\n",
    "mejores = afi_sel_g_all[afi_sel_g_all['GRUPO_SEL']==1].copy()\n",
    "mejores.loc[:, 'FECHA'] = pd.to_datetime(mejores['ANIO'].astype(str) + '-' + mejores['MES'].astype(str).str.zfill(2) + '-01')\n",
    "\n",
    "#Se calcula la base de calculo\n",
    "df_prom = mejores.groupby('CEDULA_COD')['SALARIO'].mean()\n",
    "fin = time.time()  \n",
    "print('Tiempo de ejecución es: ',  (fin-inicio)//3600, ' horas con ' ,  (fin-inicio)%3600//60 , ' minutos y', (fin-inicio)%60, ' segundos' )"
   ]
  },
  {
   "cell_type": "code",
   "execution_count": null,
   "id": "72f96eda",
   "metadata": {
    "ExecuteTime": {
     "end_time": "2024-07-15T16:50:43.973544Z",
     "start_time": "2024-07-15T16:50:43.973544Z"
    }
   },
   "outputs": [],
   "source": [
    "mejores"
   ]
  },
  {
   "cell_type": "code",
   "execution_count": null,
   "id": "97e8eed6",
   "metadata": {
    "ExecuteTime": {
     "end_time": "2024-07-15T16:50:43.974547Z",
     "start_time": "2024-07-15T16:50:43.974547Z"
    }
   },
   "outputs": [],
   "source": [
    "afi_sel_g_all['INI_CAL'] = afi_sel_g_all['CEDULA_COD'].map( mejores.groupby('CEDULA_COD')['FECHA'].max() )\n",
    "afi_sel_g_all['FIN_CAL'] = afi_sel_g_all['CEDULA_COD'].map( mejores.groupby('CEDULA_COD')['FECHA'].min() )\n",
    "afi_sel_g_all['BASE_CAL'] = afi_sel_g_all['CEDULA_COD'].map( df_prom )"
   ]
  },
  {
   "cell_type": "code",
   "execution_count": null,
   "id": "43447a9b",
   "metadata": {},
   "outputs": [],
   "source": [
    "caract['INI_CAL'] = caract['CEDULA_COD'].map( mejores.groupby('CEDULA_COD')['FECHA'].max() )\n",
    "caract['FIN_CAL'] = caract['CEDULA_COD'].map( mejores.groupby('CEDULA_COD')['FECHA'].min() )\n",
    "caract['BASE_CAL'] = caract['CEDULA_COD'].map( df_prom )\n",
    "caract"
   ]
  },
  {
   "cell_type": "code",
   "execution_count": null,
   "id": "63f0f8d6",
   "metadata": {
    "ExecuteTime": {
     "end_time": "2024-07-15T16:50:43.976543Z",
     "start_time": "2024-07-15T16:50:43.976543Z"
    }
   },
   "outputs": [],
   "source": [
    "del df1, df2, mejores"
   ]
  },
  {
   "cell_type": "code",
   "execution_count": null,
   "id": "8c4d61ef",
   "metadata": {
    "ExecuteTime": {
     "end_time": "2024-07-15T16:50:43.977547Z",
     "start_time": "2024-07-15T16:50:43.977547Z"
    }
   },
   "outputs": [],
   "source": [
    "afi_sel_g_all[ (afi_sel_g_all['CEDULA_COD']==126) & (afi_sel_g_all['GRUPO_SEL']==1)]['SALARIO'].mean()"
   ]
  },
  {
   "cell_type": "code",
   "execution_count": null,
   "id": "dcf1c923",
   "metadata": {
    "ExecuteTime": {
     "end_time": "2024-07-15T16:50:43.978544Z",
     "start_time": "2024-07-15T16:50:43.978544Z"
    }
   },
   "outputs": [],
   "source": [
    "afi_sel_g_all[ (afi_sel_g_all['CEDULA_COD']==126)]"
   ]
  },
  {
   "cell_type": "code",
   "execution_count": null,
   "id": "91b8ca09",
   "metadata": {},
   "outputs": [],
   "source": [
    "# #     df = asignar_grupo(sect, n_grupo)\n",
    "# #     df1 = valores_unicos_grupos(df)\n",
    "# #     df2 = sel_top_salarios(df1, top)\n",
    "# #     df = sel_grupo(df, df2)\n",
    "#     df = fec_sel_grupo(df)\n",
    "#     df = base_cal(df)\n",
    "#     df = ati_base_cal_m1(df, inferior)\n",
    "#     df = base_cal_sin_ati_m1(df)\n",
    "#     df = sbu_ajuste_m1(df, SBU)"
   ]
  },
  {
   "cell_type": "code",
   "execution_count": null,
   "id": "197dac7a",
   "metadata": {
    "ExecuteTime": {
     "end_time": "2024-07-15T16:50:43.979546Z",
     "start_time": "2024-07-15T16:50:43.979546Z"
    }
   },
   "outputs": [],
   "source": [
    "#Registros con años menores al 2000\n",
    "afi_sel_g_all[afi_sel_g_all['FIN_CAL'].dt.year<2000]"
   ]
  },
  {
   "cell_type": "code",
   "execution_count": null,
   "id": "cef47382",
   "metadata": {
    "ExecuteTime": {
     "end_time": "2024-07-15T16:50:43.981545Z",
     "start_time": "2024-07-15T16:50:43.981545Z"
    }
   },
   "outputs": [],
   "source": [
    "#Se agrega el valor del SBU\n",
    "SBU = pd.DataFrame( { 'ANIO':[2000,2001,2002, 2003, 2004, 2005, 2006, 2007, 2008, 2009, 2010, 2011, 2012, 2013, 2014, 2015, 2016, 2017, 2018, 2019, 2020,\n",
    "                              2021, 2022, 2023, 2024],\n",
    "                      'VALOR':[57,85.65,105, 122, 136, 150, 160, 170, 200, 218, 240, 264, 292, 318, 340, 354, 366, 375, 386, 394, 400, \n",
    "                              400, 425, 450, 460]})\n",
    "SBU"
   ]
  },
  {
   "cell_type": "code",
   "execution_count": null,
   "id": "c1ce61c6",
   "metadata": {
    "ExecuteTime": {
     "end_time": "2024-07-15T16:50:43.982578Z",
     "start_time": "2024-07-15T16:50:43.982578Z"
    }
   },
   "outputs": [],
   "source": [
    "afi_sel_g_all['SBU'] = afi_sel_g_all['ANIO'].map( SBU.groupby('ANIO')['VALOR'].first())"
   ]
  },
  {
   "cell_type": "code",
   "execution_count": null,
   "id": "9b77c8dc",
   "metadata": {
    "ExecuteTime": {
     "end_time": "2024-07-15T16:50:43.983668Z",
     "start_time": "2024-07-15T16:50:43.983668Z"
    }
   },
   "outputs": [],
   "source": [
    "afi_sel_g_all"
   ]
  },
  {
   "cell_type": "code",
   "execution_count": null,
   "id": "2719e7c9",
   "metadata": {
    "ExecuteTime": {
     "end_time": "2024-07-15T16:50:43.984670Z",
     "start_time": "2024-07-15T16:50:43.984670Z"
    }
   },
   "outputs": [],
   "source": [
    "#Cédula que tienen su historia laboral igual al SBU\n",
    "afi_sel_g_all['ID_SBU'] = afi_sel_g_all['SALARIO'] == afi_sel_g_all['SBU']\n",
    "#Si tiene -1 es un valor que no es un SBU en ese año y mes\n",
    "afi_sel_g_all['ID_SBU'] = afi_sel_g_all['ID_SBU'].astype(int)-1\n",
    "afi_sel_g_all"
   ]
  },
  {
   "cell_type": "code",
   "execution_count": null,
   "id": "fca249ce",
   "metadata": {},
   "outputs": [],
   "source": [
    "#Verificar que todas las cédulas tengan 60 registros\n",
    "ced_counts2 = afi_sel_g_all.drop_duplicates(subset=['CEDULA_COD', 'ANIO', 'MES'])['CEDULA_COD'].value_counts()\n",
    "ced_counts2[ced_counts2 < 60].index.nunique()"
   ]
  },
  {
   "cell_type": "code",
   "execution_count": null,
   "id": "d0c9f210",
   "metadata": {
    "ExecuteTime": {
     "end_time": "2024-07-15T16:50:43.986668Z",
     "start_time": "2024-07-15T16:50:43.986668Z"
    }
   },
   "outputs": [],
   "source": [
    "afi_sel_g_all[afi_sel_g_all['CEDULA_COD']==126].shape"
   ]
  },
  {
   "cell_type": "code",
   "execution_count": null,
   "id": "be1b64fc",
   "metadata": {
    "ExecuteTime": {
     "end_time": "2024-07-15T16:50:43.987670Z",
     "start_time": "2024-07-15T16:50:43.987670Z"
    }
   },
   "outputs": [],
   "source": [
    "afi_sel_g_all[(afi_sel_g_all['CEDULA_COD']==126) & (afi_sel_g_all['GRUPO_SEL']==1)]"
   ]
  },
  {
   "cell_type": "code",
   "execution_count": null,
   "id": "c0a09e4a",
   "metadata": {},
   "outputs": [],
   "source": [
    "# Guadar archivo------------------------------------------------------------------------------------------------------------\n",
    "nombre_archivo = 'viu_clean_afi_sel_g_all_2.pkl'\n",
    "# Ruta completa del archivo\n",
    "ruta_archivo = os.path.join(directorio, nombre_archivo)\n",
    "# Objetos a guardar\n",
    "objeto5 = afi_sel_g_all\n",
    "\n",
    "# Guardar los objetos en el archivo\n",
    "with open(ruta_archivo, 'wb') as archivo:\n",
    "    pickle.dump(objeto5, archivo)      \n",
    "\n",
    "del objeto 5"
   ]
  },
  {
   "cell_type": "code",
   "execution_count": null,
   "id": "8a54aec4",
   "metadata": {},
   "outputs": [],
   "source": [
    "objeto5"
   ]
  },
  {
   "cell_type": "code",
   "execution_count": null,
   "id": "0ba21b68",
   "metadata": {},
   "outputs": [],
   "source": [
    "#Selección de cedulas con sus mejores años de sueldo y que su salario no sea un SBU\n",
    "data_sin_ati = afi_sel_g_all[ (afi_sel_g_all['GRUPO_SEL']==1) & (afi_sel_g_all['ID_SBU']!=-1)]\n",
    "data_ati = afi_sel_g_all[ (afi_sel_g_all['GRUPO_SEL']==1) & (afi_sel_g_all['ID_SBU']!=0)]"
   ]
  },
  {
   "cell_type": "code",
   "execution_count": null,
   "id": "0a14bf2d",
   "metadata": {},
   "outputs": [],
   "source": [
    "data_ati.shape #(21022610, 15)\n",
    "data_sin_ati.shape #(5449506, 15)"
   ]
  },
  {
   "cell_type": "code",
   "execution_count": null,
   "id": "1bcf53b0",
   "metadata": {},
   "outputs": [],
   "source": [
    "data_ati[data_ati['CEDULA_COD']==126][['CEDULA_COD','ANIO','MES','SALARIO']].shape"
   ]
  },
  {
   "cell_type": "code",
   "execution_count": null,
   "id": "faf69b4e",
   "metadata": {},
   "outputs": [],
   "source": [
    "data_ati[data_ati['CEDULA_COD']==126]"
   ]
  },
  {
   "cell_type": "code",
   "execution_count": null,
   "id": "e63dc2c2",
   "metadata": {},
   "outputs": [],
   "source": [
    "# Guadar archivo------------------------------------------------------------------------------------------------------------\n",
    "nombre_archivo = 'viu_clean_data_ati.pkl'\n",
    "# Ruta completa del archivo\n",
    "ruta_archivo = os.path.join(directorio, nombre_archivo)\n",
    "# Objetos a guardar\n",
    "objeto6 = data_ati\n",
    "\n",
    "# Guardar los objetos en el archivo\n",
    "with open(ruta_archivo, 'wb') as archivo:\n",
    "    pickle.dump(objeto6, archivo)         \n",
    "\n",
    "# Nombre del archivo\n",
    "nombre_archivo = 'viu_clean_data_sin_ati.pkl'\n",
    "# Ruta completa del archivo\n",
    "ruta_archivo = os.path.join(directorio, nombre_archivo)\n",
    "# Objetos a guardar\n",
    "objeto7 = data_sin_ati\n",
    "\n",
    "# Guardar los objetos en el archivo\n",
    "with open(ruta_archivo, 'wb') as archivo:\n",
    "    pickle.dump(objeto7, archivo)     \n",
    "    \n",
    "del objeto6, objeto7"
   ]
  },
  {
   "cell_type": "code",
   "execution_count": null,
   "id": "a1526f38",
   "metadata": {
    "ExecuteTime": {
     "end_time": "2024-07-29T16:13:24.286278Z",
     "start_time": "2024-07-29T16:13:24.286278Z"
    }
   },
   "outputs": [],
   "source": [
    "# Cargar archivo------------------------------------------------------------------------------------------------------------\n",
    "directorio = r_ruta\n",
    "nombre_archivo = 'viu_clean_afi_sel_g_all_2.pkl'\n",
    "ruta_archivo = os.path.join(directorio, nombre_archivo)\n",
    "\n",
    "with open( ruta_archivo, 'rb') as archivo:\n",
    "    data_l = pickle.load( archivo )     "
   ]
  },
  {
   "cell_type": "code",
   "execution_count": null,
   "id": "db0b424a",
   "metadata": {
    "ExecuteTime": {
     "end_time": "2024-07-29T16:13:24.287282Z",
     "start_time": "2024-07-29T16:13:24.287282Z"
    }
   },
   "outputs": [],
   "source": [
    "#Análisis de atípicos\n",
    "#Método de clustering jerárquico\n",
    "# data_l = afi_sel_g_all.copy()\n",
    "data_l.shape #(62130167, 16)"
   ]
  },
  {
   "cell_type": "code",
   "execution_count": null,
   "id": "b6df3017",
   "metadata": {},
   "outputs": [],
   "source": [
    "# del objeto5,  afi_sel_g_all\n",
    "# gc.collect()"
   ]
  },
  {
   "cell_type": "code",
   "execution_count": null,
   "id": "a6177b78",
   "metadata": {
    "ExecuteTime": {
     "end_time": "2024-07-25T19:03:08.916976Z",
     "start_time": "2024-07-25T19:02:20.050083Z"
    }
   },
   "outputs": [],
   "source": [
    "inicio = time.time()\n",
    "data_l = data_l.sort_values( by=[\"CEDULA_COD\",\"ANIO\", \"MES\"], ascending=[ True, True, True] )\n",
    "data_l.reset_index(inplace=True)\n",
    "data_l.rename(columns={'index': 'nuevo_indice'}, inplace=True)\n",
    "data_l.drop(columns=['nuevo_indice'], inplace=True)\n",
    "data_l['INDICE'] = data_l.index\n",
    "\n",
    "#Casos de no análisis\n",
    "data_no_grupo = data_l[ (data_l['GRUPO_SEL']==0) ].copy()\n",
    "data_no_grupo['ATI_CJ_M1'] = np.nan\n",
    "data_no_grupo['ATI_CJ_M2'] = np.nan\n",
    "data_no_grupo['ATI_CJ_M3'] = np.nan\n",
    "\n",
    "#Casos de análisis\n",
    "data = data_l[ (data_l['GRUPO_SEL']==1) ].copy()\n",
    "\n",
    "fin = time.time()  \n",
    "print('Tiempo de ejecución es: ',  (fin-inicio)//3600, ' horas con ' ,  (fin-inicio)%3600//60 , ' minutos y', (fin-inicio)%60, ' segundos' )\n"
   ]
  },
  {
   "cell_type": "code",
   "execution_count": 10,
   "id": "7baa127e",
   "metadata": {
    "ExecuteTime": {
     "end_time": "2024-07-29T21:17:22.965043Z",
     "start_time": "2024-07-29T21:17:22.870188Z"
    }
   },
   "outputs": [],
   "source": [
    "#Para ejecutar el cluster jerarquico\n",
    "def cluster_jerarquico( data_si_dic, k):\n",
    "    inicio = time.time()\n",
    "    nom = 'ATI_CJ_M' + str( k+1 )\n",
    "    data_val_ati = {}\n",
    "    for cedula in data_si_dic:\n",
    "\n",
    "        if( len( data_si_dic[ cedula ]['SALARIO'] ) > 1 ): #Para formar al menos un cluster\n",
    "\n",
    "            aux = np.array( data_si_dic[ cedula ]['SALARIO'] ).reshape(-1, 1)\n",
    "            Z = linkage( aux , method='single', metric='euclidean')\n",
    "\n",
    "            num_clusters = 2  # Puedes ajustar este valor según tus necesidades\n",
    "            clusters = fcluster(Z, num_clusters, criterion='maxclust')\n",
    "\n",
    "            if( len( np.unique(clusters) ) > 1 ): #Para considerar al menos 2 cluster\n",
    "                # Calcular el centroide de cada clúster\n",
    "                cluster_centers = np.array([[ np.nanmean(aux[clusters == i], axis=0)[0], i ] for i in range(1, num_clusters + 1)] ) \n",
    "\n",
    "                Q1 = np.quantile(aux, 0.25)\n",
    "                Q3 = np.quantile(aux, 0.75)\n",
    "                IQR = Q3-Q1\n",
    "                LI = Q1 - 1.5 * IQR\n",
    "                LS = Q3 + 1.5 * IQR\n",
    "\n",
    "                cl_at = np.where( cluster_centers[:,0] > (LS +  1e-8) )[0]\n",
    "                cluster_centers[cl_at][:, 1]\n",
    "\n",
    "                mod_aux = np.zeros((len(aux), 2))\n",
    "                mod_aux[:, 0] = aux[:, 0]  # Copiar los valores originales de aux en la primera columna\n",
    "                mod_aux[np.isin(clusters, cluster_centers[cl_at][:, 1]), 1] = 1  # Asignar 1 en la segunda columna donde el cluster es 1\n",
    "\n",
    "                data_val_ati[cedula] = {'SALARIO': mod_aux[:, 0].tolist(),\n",
    "                                             nom : mod_aux[:, 1].tolist(),\n",
    "                                        'INDICE' : data_si_dic[ cedula ]['INDICE']}\n",
    "            else:\n",
    "                data_val_ati[cedula] = { 'SALARIO': aux.flatten().tolist(),\n",
    "                                               nom:  [-1] * len(aux),\n",
    "                                         'INDICE' : data_si_dic[ cedula ]['INDICE']} \n",
    "\n",
    "        else:\n",
    "            data_val_ati[cedula] = { 'SALARIO': data_si_dic[ cedula ]['SALARIO'],\n",
    "                                           nom:  [-2] * len( data_si_dic[ cedula ]['SALARIO'] ),\n",
    "                                     'INDICE' : data_si_dic[ cedula ]['INDICE']}\n",
    "    fin = time.time()  \n",
    "    print('\\tTiempo de ejecución es: ',  (fin-inicio)//3600, ' horas con ' ,  (fin-inicio)%3600//60 , ' minutos y', (fin-inicio)%60, ' segundos' )\n",
    "    \n",
    "    return data_val_ati\n",
    " \n",
    "#Para unir los resultados\n",
    "def extend_data( data_val_ati, k ):\n",
    "    inicio = time.time()\n",
    "    nom = 'ATI_CJ_M' + str( k + 1 )\n",
    "    data1 = { 'CEDULA_COD': [], 'SALARIO': [], nom : [], 'INDICE':[]}\n",
    "\n",
    "    # Llenar las listas con los datos del diccionario\n",
    "    for cedula, values in data_val_ati.items():\n",
    "        salario = values['SALARIO']\n",
    "        atipico = values[ nom ]\n",
    "        indice = values['INDICE']\n",
    "        num_rows = len(salario)\n",
    "\n",
    "        # Extender las listas en el diccionario de datos\n",
    "        data1['CEDULA_COD'].extend([cedula] * num_rows)\n",
    "        data1['SALARIO'].extend(salario)\n",
    "        data1[ nom ].extend(atipico)\n",
    "        data1['INDICE'].extend(indice)\n",
    "\n",
    "    fin = time.time()  \n",
    "    print('\\tTiempo de ejecución es: ',  (fin-inicio)//3600, ' horas con ' ,  (fin-inicio)%3600//60 , ' minutos y', (fin-inicio)%60, ' segundos' )\n",
    "    return data1\n",
    "\n",
    "#Para graficar el comportamiento de los atipicos\n",
    "def graf_ati(ced, k):\n",
    "    nom = 'ATI_CJ_M'+ str(k)\n",
    "    dt = data_l[(data_l['GRUPO_SEL']==1) & (data_l['CEDULA_COD']==ced)]\n",
    "    unique_ati = dt[ nom ].nunique(dropna=False)\n",
    "    categories = dt[ nom ].unique()\n",
    "\n",
    "    # Generar una lista de colores discretos\n",
    "    colors = plt.cm.coolwarm(np.linspace(0, 1, unique_ati))\n",
    "\n",
    "    # Crear un mapa de colores discreto\n",
    "    cmap = ListedColormap(colors)\n",
    "\n",
    "    # Graficar\n",
    "    plt.figure(figsize=(8, 5))\n",
    "    scatter = plt.scatter(dt.index, dt['SALARIO'], c=dt[ nom ], cmap=cmap)\n",
    "\n",
    "    plt.xlabel('Index')\n",
    "    plt.ylabel('Salario')\n",
    "    plt.title('Gráfico de Salario')\n",
    "\n",
    "    # Crear una leyenda discreta personalizada\n",
    "    # Definir las etiquetas para cada categoría\n",
    "    labels = { 0: 'No es atípico', 1: 'Es atípico', -1: 'Es un solo clúter', -2:'No forma parte del proceso',\n",
    "               np.nan: 'Valor NA'}\n",
    "\n",
    "    # Crear los handles para la leyenda\n",
    "    handles = [plt.Line2D([0], [0], marker='o', color='w', \n",
    "                          markersize=10, markerfacecolor=cmap(i), \n",
    "                          label=labels[i]) for i in categories]\n",
    "\n",
    "    plt.legend(handles=handles, title='Tipo de Salario')\n",
    "    plt.show()"
   ]
  },
  {
   "cell_type": "code",
   "execution_count": null,
   "id": "21fce47c",
   "metadata": {
    "ExecuteTime": {
     "end_time": "2024-07-25T20:45:29.331279Z",
     "start_time": "2024-07-25T20:45:29.040611Z"
    }
   },
   "outputs": [],
   "source": [
    "data[ ~(( data['SALARIO'] >= data['SBU'] ) & ( data['ANIO'] >= 2000 )) ]"
   ]
  },
  {
   "cell_type": "code",
   "execution_count": null,
   "id": "54c0c1e4",
   "metadata": {
    "ExecuteTime": {
     "end_time": "2024-07-25T19:21:54.907233Z",
     "start_time": "2024-07-25T19:03:19.095243Z"
    }
   },
   "outputs": [],
   "source": [
    "#Se crea un bucle para cada caso\n",
    "for k in range(0,3):\n",
    "    nom = 'ATI_CJ_M' + str( k+1 )\n",
    "    if (k==0):\n",
    "        ##Primer Caso--Considerando solo los salarios mayores al SBU y desde el año 2000\n",
    "        print('*' * 50, 'Caso ', str( k+1 ), '*' * 50)\n",
    "        data_si = data[   (( data['SALARIO'] >= data['SBU'] ) & ( data['ANIO'] >= 2000 )) ].copy() \n",
    "        data_no = data[ ~(( data['SALARIO'] >= data['SBU'] ) & ( data['ANIO'] >= 2000 )) ].copy() \n",
    "        data_no[ nom ] = np.nan\n",
    "        print('Tamaño de la data utilizada dentro de los años seleccionados', data_si.shape) #(26006294, 16)\n",
    "        print('Tamaño de la data no utilizada dentro de los años seleccionados',data_no.shape)  #(465822, 16)\n",
    "        \n",
    "        data_si_dic = data_si.groupby('CEDULA_COD').agg({'SALARIO': list, 'INDICE': list}).to_dict(orient='index')\n",
    "        data_no_dic = data_no.groupby('CEDULA_COD').agg({'SALARIO': list, 'INDICE': list}).to_dict(orient='index')\n",
    "        \n",
    "        print('Algoritmo Cluster Jerárquico')\n",
    "        data_val_ati = cluster_jerarquico( data_si_dic, k )\n",
    "        print('Extensión del diccionario')\n",
    "        data1 = extend_data( data_val_ati, k )\n",
    "        \n",
    "        print('Concatenación de dataframe')\n",
    "        inicio = time.time()\n",
    "        data_jerar = None\n",
    "        data_jerar = pd.concat( [ data_no_grupo[['CEDULA_COD', 'SALARIO',  nom , 'INDICE']],\n",
    "                                  pd.DataFrame( data1 ), \n",
    "                                  data_no[['CEDULA_COD', 'SALARIO',  nom , 'INDICE']] ], axis=0)\n",
    "    \n",
    "        data_jerar = data_jerar.sort_values( by=[\"INDICE\"], ascending=[ True ] )\n",
    "        data_jerar.reset_index(inplace=True)\n",
    "        data_jerar.rename(columns={'index': 'nuevo_indice'}, inplace=True)\n",
    "        data_jerar.drop(columns=['nuevo_indice'], inplace=True)\n",
    "        fin = time.time()  \n",
    "        print('\\tTiempo de ejecución es: ',  (fin-inicio)//3600, ' horas con ' ,  (fin-inicio)%3600//60 , ' minutos y', (fin-inicio)%60, ' segundos' )\n",
    "        \n",
    "        print('Creación de la columna')\n",
    "        inicio = time.time()\n",
    "        data_l[ nom ] = np.nan\n",
    "        aux = data_jerar[ nom ].to_numpy()\n",
    "        data_l.iloc[:, data_l.columns.get_loc( nom )] = aux\n",
    "        fin = time.time()  \n",
    "        print('\\tTiempo de ejecución es: ',  (fin-inicio)//3600, ' horas con ' ,  (fin-inicio)%3600//60 , ' minutos y', (fin-inicio)%60, ' segundos' )\n",
    "        \n",
    "        print('Verificación de posibles errores')\n",
    "        inicio = time.time()\n",
    "        dif1 = data_l[data_l['SALARIO']!= data_jerar['SALARIO']].index\n",
    "        fin = time.time()  \n",
    "        print('\\tTiempo de ejecución es: ',  (fin-inicio)//3600, ' horas con ' ,  (fin-inicio)%3600//60 , ' minutos y', (fin-inicio)%60, ' segundos' )\n",
    "        print('*' * 108, '\\n')  \n",
    "        \n",
    "    if (k==1):\n",
    "        ##Segundo Caso--Considerando todo el registro de los mejores años\n",
    "        print('*' * 50, 'Caso ', str( k+1 ), '*' * 50)\n",
    "        data_si = data.copy()\n",
    "        print('Tamaño de la data utilizada dentro de los años seleccionados', data_si.shape) \n",
    "        \n",
    "        data_si_dic = data_si.groupby('CEDULA_COD').agg({'SALARIO': list, 'INDICE': list}).to_dict(orient='index')\n",
    "        \n",
    "        print('Algoritmo Cluster Jerárquico')\n",
    "        data_val_ati = cluster_jerarquico( data_si_dic, k )\n",
    "        print('Extensión del diccionario')\n",
    "        data1 = extend_data( data_val_ati, k )\n",
    "        \n",
    "        print('Concatenación de dataframe')\n",
    "        inicio = time.time()\n",
    "        data_jerar = None\n",
    "        data_jerar = pd.concat( [ data_no_grupo[['CEDULA_COD', 'SALARIO', nom, 'INDICE']],\n",
    "                                  pd.DataFrame( data1 ) ], axis=0)\n",
    "    \n",
    "        data_jerar = data_jerar.sort_values( by=[\"INDICE\"], ascending=[ True ] )\n",
    "        data_jerar.reset_index(inplace=True)\n",
    "        data_jerar.rename(columns={'index': 'nuevo_indice'}, inplace=True)\n",
    "        data_jerar.drop(columns=['nuevo_indice'], inplace=True)\n",
    "        fin = time.time()  \n",
    "        print('\\tTiempo de ejecución es: ',  (fin-inicio)//3600, ' horas con ' ,  (fin-inicio)%3600//60 , ' minutos y', (fin-inicio)%60, ' segundos' )\n",
    "        \n",
    "        print('Creación de la columna')\n",
    "        inicio = time.time()\n",
    "        data_l[ nom ] = np.nan\n",
    "        aux = data_jerar[ nom ].to_numpy()\n",
    "        data_l.iloc[:, data_l.columns.get_loc( nom ) ] = aux\n",
    "        fin = time.time()  \n",
    "        print('\\tTiempo de ejecución es: ',  (fin-inicio)//3600, ' horas con ' ,  (fin-inicio)%3600//60 , ' minutos y', (fin-inicio)%60, ' segundos' )\n",
    "        \n",
    "        print('Verificación de posibles errores')\n",
    "        inicio = time.time()\n",
    "        dif2 = data_l[data_l['SALARIO']!= data_jerar['SALARIO']].index\n",
    "        fin = time.time()  \n",
    "        print('\\tTiempo de ejecución es: ',  (fin-inicio)//3600, ' horas con ' ,  (fin-inicio)%3600//60 , ' minutos y', (fin-inicio)%60, ' segundos' )\n",
    "        print('*' * 108, '\\n')\n",
    "        \n",
    "    if (k==2):\n",
    "        ##Tercer Caso--Considerando todo el registro de los mejores años, pero a partir del año 2000\n",
    "        print('*' * 50, 'Caso ', str( k+1 ), '*' * 50)\n",
    "        data_si = data[  ( ( data['ANIO'] >= 2000 )) ].copy()\n",
    "        data_no = data[ ~( ( data['ANIO'] >= 2000 )) ].copy()   \n",
    "        data_no[ nom ] = np.nan\n",
    "        print('Tamaño de la data utilizada dentro de los años seleccionados', data_si.shape) \n",
    "        print('Tamaño de la data no utilizada dentro de los años seleccionados',data_no.shape) \n",
    "        \n",
    "        data_si_dic = data_si.groupby('CEDULA_COD').agg({'SALARIO': list, 'INDICE': list}).to_dict(orient='index')\n",
    "        data_no_dic = data_no.groupby('CEDULA_COD').agg({'SALARIO': list, 'INDICE': list}).to_dict(orient='index')\n",
    "        \n",
    "        print('Algoritmo Cluster Jerárquico')\n",
    "        data_val_ati = cluster_jerarquico( data_si_dic, k )\n",
    "        print('Extensión del diccionario')\n",
    "        data1 = extend_data( data_val_ati, k )\n",
    "        \n",
    "        print('Concatenación de dataframe')\n",
    "        inicio = time.time()\n",
    "        data_jerar = None\n",
    "        data_jerar = pd.concat( [ data_no_grupo[['CEDULA_COD', 'SALARIO', nom, 'INDICE']],\n",
    "                                  pd.DataFrame( data1 ), \n",
    "                                  data_no[['CEDULA_COD', 'SALARIO', nom, 'INDICE']] ], axis=0)\n",
    "    \n",
    "        data_jerar = data_jerar.sort_values( by=[\"INDICE\"], ascending=[ True ] )\n",
    "        data_jerar.reset_index(inplace=True)\n",
    "        data_jerar.rename(columns={'index': 'nuevo_indice'}, inplace=True)\n",
    "        data_jerar.drop(columns=['nuevo_indice'], inplace=True)\n",
    "        fin = time.time()  \n",
    "        print('\\tTiempo de ejecución es: ',  (fin-inicio)//3600, ' horas con ' ,  (fin-inicio)%3600//60 , ' minutos y', (fin-inicio)%60, ' segundos' )\n",
    "        \n",
    "        print('Creación de la columna')\n",
    "        inicio = time.time()\n",
    "        data_l[ nom ] = np.nan\n",
    "        aux = data_jerar[ nom ].to_numpy()\n",
    "        data_l.iloc[:, data_l.columns.get_loc( nom )] = aux\n",
    "        fin = time.time()  \n",
    "        print('\\tTiempo de ejecución es: ',  (fin-inicio)//3600, ' horas con ' ,  (fin-inicio)%3600//60 , ' minutos y', (fin-inicio)%60, ' segundos' )\n",
    "        \n",
    "        print('Verificación de posibles errores')\n",
    "        inicio = time.time()\n",
    "        dif3 = data_l[data_l['SALARIO']!= data_jerar['SALARIO']].index\n",
    "        fin = time.time()  \n",
    "        print('\\tTiempo de ejecución es: ',  (fin-inicio)//3600, ' horas con ' ,  (fin-inicio)%3600//60 , ' minutos y', (fin-inicio)%60, ' segundos' )\n",
    "        print('*' * 108, '\\n')\n",
    "\n",
    "\n",
    "\n",
    "        "
   ]
  },
  {
   "cell_type": "code",
   "execution_count": null,
   "id": "2a68ccfc",
   "metadata": {
    "ExecuteTime": {
     "end_time": "2024-07-25T16:51:13.598217Z",
     "start_time": "2024-07-25T16:50:59.228662Z"
    }
   },
   "outputs": [],
   "source": [
    "del data, data_jerar, data1, aux, data_si, data_no, data_no_grupo, data_val_ati\n",
    "gc.collect()"
   ]
  },
  {
   "cell_type": "code",
   "execution_count": null,
   "id": "996ae463",
   "metadata": {
    "ExecuteTime": {
     "end_time": "2024-07-25T19:59:59.289302Z",
     "start_time": "2024-07-25T19:22:09.489799Z"
    }
   },
   "outputs": [],
   "source": [
    "#Se calculan los limítes máximos de aportación en función de la HL\n",
    "#Caso 1: Para toda la historia laboral\n",
    "inicio = time.time()   \n",
    "grupo1 = data_l.copy()\n",
    "Q1 = grupo1.groupby('CEDULA_COD')['SALARIO'].quantile(0.25)\n",
    "Q3 = grupo1.groupby('CEDULA_COD')['SALARIO'].quantile(0.75)\n",
    "IQR = Q3-Q1\n",
    "LI = Q1 - 1.5 * IQR\n",
    "LS = Q3 + 1.5 * IQR\n",
    "data_l['LS1'] = data_l['CEDULA_COD'].map( LS )\n",
    "\n",
    "#Caso 2: Para la historia laboral a partir del año 2020\n",
    "grupo2 = data_l[ data_l['ANIO']>=2000 ].copy()\n",
    "Q1 = grupo2.groupby('CEDULA_COD')['SALARIO'].quantile(0.25)\n",
    "Q3 = grupo2.groupby('CEDULA_COD')['SALARIO'].quantile(0.75)\n",
    "IQR = Q3-Q1\n",
    "LI = Q1 - 1.5 * IQR\n",
    "LS = Q3 + 1.5 * IQR\n",
    "data_l['LS2'] = data_l['CEDULA_COD'].map( LS )\n",
    "\n",
    "fin = time.time()  \n",
    "print('\\tTiempo de ejecución es: ',  (fin-inicio)//3600, ' horas con ' ,  (fin-inicio)%3600//60 , ' minutos y', (fin-inicio)%60, ' segundos')\n",
    "\n",
    "del grupo1, grupo2, Q1, Q3, IQR, LI, LS\n",
    "gc.collect()"
   ]
  },
  {
   "cell_type": "code",
   "execution_count": null,
   "id": "526778c8",
   "metadata": {
    "ExecuteTime": {
     "end_time": "2024-07-25T21:29:49.388343Z",
     "start_time": "2024-07-25T21:29:49.231131Z"
    }
   },
   "outputs": [],
   "source": [
    "#El valor de NA implica que esos datos no son parte de data_si, por lo que no se analizaron\n",
    "#El valor de -1 implica que se formó un solo cluster\n",
    "#El valor de -2 implica que en la selección de datos (data_si), la cedula solo tenía un único valor para formar los cluster\n",
    "# pues era el resultado de filtrar el data_si\n",
    "\n",
    "##Se analiza el caso de los valores de atipicos del método 1\n",
    "# data_l[ ( data_l['GRUPO_SEL']==1 )]['ATI_CJ_M1'].unique() #array([ 0., nan,  1., -1., -2.])\n",
    "# data_l[ ( data_l['GRUPO_SEL']==1 ) & (data_l['ATI_CJ_M1']==-2)] #86 rows × 21 columns\n",
    "# data_l[ ( data_l['GRUPO_SEL']==1 ) & (data_l['ATI_CJ_M1'].isna())]  #465822 rows × 21 columns\n",
    "# data_l[ ( data_l['GRUPO_SEL']==1 ) & (data_l['ATI_CJ_M1']==-1)]  # 3292785 rows × 21 columns\n",
    "\n",
    "##Se analiza el caso de los valores de atipicos del método 2\n",
    "# data_l[ ( data_l['GRUPO_SEL']==1 )]['ATI_CJ_M2'].unique() #rray([ 0.,  1., -1.])\n",
    "# ata_l[ ( data_l['GRUPO_SEL']==1 ) & (data_l['ATI_CJ_M2']==-1)]  #3125765 rows × 21 columns\n",
    "\n",
    "##Se analiza el caso de los valores de atipicos del método 3\n",
    "# data_l[ ( data_l['GRUPO_SEL']==1 )]['ATI_CJ_M3'].unique() #array([ 0.,  1., -1., nan, -2.])\n",
    "# data_l[ ( data_l['GRUPO_SEL']==1 ) & (data_l['ATI_CJ_M3']==-2)] #2 rows × 21 columns\n",
    "# data_l[ ( data_l['GRUPO_SEL']==1 ) & (data_l['ATI_CJ_M3'].isna())]  # 7454 rows × 21 columns\n",
    "# data_l[ ( data_l['GRUPO_SEL']==1 ) & (data_l['ATI_CJ_M3']==-1)] #3125140 rows × 21 columns"
   ]
  },
  {
   "cell_type": "code",
   "execution_count": null,
   "id": "8e954366",
   "metadata": {
    "ExecuteTime": {
     "end_time": "2024-07-25T21:45:18.282658Z",
     "start_time": "2024-07-25T21:45:16.613882Z"
    }
   },
   "outputs": [],
   "source": [
    "#Cedulas que tiene datos atípicos----------------------------------------------------------------------------------------------\n",
    "print('*' * 50, 'Caso ', str( 1 ), '*' * 50)\n",
    "print('\\tCedulas con al menos un atípico:', data_l[ (data_l['GRUPO_SEL']==1) & (data_l['ATI_CJ_M1']==1)]['CEDULA_COD'].nunique()) #134017\n",
    "print('\\tCedulas con valor -2:',            data_l[ (data_l['GRUPO_SEL']==1) & (data_l['ATI_CJ_M1']==-2)]['CEDULA_COD'].nunique()) #86\n",
    "print('\\tCedulas con valor nan:',           data_l[ (data_l['GRUPO_SEL']==1) & (data_l['ATI_CJ_M1'].isna())]['CEDULA_COD'].nunique()) #85804\n",
    "print('\\tCedulas con valor -1:',            data_l[ (data_l['GRUPO_SEL']==1) & (data_l['ATI_CJ_M1']==-1)]['CEDULA_COD'].nunique()) #55669\n",
    "print('\\tCedulas con valor 0:',             data_l[ (data_l['GRUPO_SEL']==1) & (data_l['ATI_CJ_M1']==0)]['CEDULA_COD'].nunique()) #379216\n",
    "print('*' * 50, 'Caso ', str( 2 ), '*' * 50)\n",
    "print('\\tCedulas con al menos un atípico:', data_l[ (data_l['GRUPO_SEL']==1) & (data_l['ATI_CJ_M2']==1)]['CEDULA_COD'].nunique()) #123850\n",
    "print('\\tCedulas con valor -2:',            data_l[ (data_l['GRUPO_SEL']==1) & (data_l['ATI_CJ_M2']==-2)]['CEDULA_COD'].nunique()) #0\n",
    "print('\\tCedulas con valor nan:',           data_l[ (data_l['GRUPO_SEL']==1) & (data_l['ATI_CJ_M2'].isna())]['CEDULA_COD'].nunique()) #0\n",
    "print('\\tCedulas con valor -1:',            data_l[ (data_l['GRUPO_SEL']==1) & (data_l['ATI_CJ_M2']==-1)]['CEDULA_COD'].nunique()) #52121\n",
    "print('\\tCedulas con valor 0:',             data_l[ (data_l['GRUPO_SEL']==1) & (data_l['ATI_CJ_M2']==0)]['CEDULA_COD'].nunique()) #383682\n",
    "print('*' * 50, 'Caso ', str( 3 ), '*' * 50)\n",
    "print('\\tCedulas con al menos un atípico:', data_l[ (data_l['GRUPO_SEL']==1) & (data_l['ATI_CJ_M3']==1)]['CEDULA_COD'].nunique()) #123826\n",
    "print('\\tCedulas con valor -2:',            data_l[ (data_l['GRUPO_SEL']==1) & (data_l['ATI_CJ_M3']==-2)]['CEDULA_COD'].nunique()) #2\n",
    "print('\\tCedulas con valor nan:',           data_l[ (data_l['GRUPO_SEL']==1) & (data_l['ATI_CJ_M3'].isna())]['CEDULA_COD'].nunique()) #499\n",
    "print('\\tCedulas con valor -1:',            data_l[ (data_l['GRUPO_SEL']==1) & (data_l['ATI_CJ_M3']==-1)]['CEDULA_COD'].nunique()) # 52124\n",
    "print('\\tCedulas con valor 0:',             data_l[ (data_l['GRUPO_SEL']==1) & (data_l['ATI_CJ_M3']==0)]['CEDULA_COD'].nunique()) #383653\n",
    "print('*' * 50, 'Caso ', str( 1 ), '*' * 50)"
   ]
  },
  {
   "cell_type": "code",
   "execution_count": null,
   "id": "91c660c0",
   "metadata": {
    "ExecuteTime": {
     "end_time": "2024-07-25T21:38:53.498456Z",
     "start_time": "2024-07-25T21:38:53.139066Z"
    }
   },
   "outputs": [],
   "source": [
    "graf_ati(23075971, 1)"
   ]
  },
  {
   "cell_type": "code",
   "execution_count": null,
   "id": "4b28217e",
   "metadata": {
    "ExecuteTime": {
     "end_time": "2024-07-25T21:16:44.105401Z",
     "start_time": "2024-07-25T21:16:40.435608Z"
    }
   },
   "outputs": [],
   "source": [
    "#Caso 1- Correcciones---------------------------------------------------------------------------------------------------\n",
    "#Se corrige en función deL Límite máximo de la HL a apartir del año 2000, pues es la fecha en la que entra en dolar a ecuador ( -2 -> 1 )\n",
    "data_l.loc[ ( (data_l['GRUPO_SEL']==1) & (data_l['ATI_CJ_M1']==-2) & (data_l['SALARIO'] > data_l['LS2']) ), 'ATI_CJ_M1'] = 1 #quedan 45 casos\n",
    "#Se corrige en función del valores menoRes al limite máximo la HL a apartir del año 2000, pues es la fecha en la que entra en dolar a ecuador ( -2 -> 0 )\n",
    "data_l.loc[ ( (data_l['GRUPO_SEL']==1) & (data_l['ATI_CJ_M1']==-2) & (data_l['SALARIO'] <= data_l['LS2']) ), 'ATI_CJ_M1'] = 0 \n",
    "# Se hacen las correcciones para los valores -2, en donde si el Salario es menor o igual a un SBU no es atípico( -2 -> 0 )\n",
    "data_l.loc[ ( (data_l['GRUPO_SEL']==1) & (data_l['ATI_CJ_M1']==-2) & (data_l['SALARIO'] <= data_l['SBU']) ), 'ATI_CJ_M1'] = 0 \n",
    "\n",
    "#Se corrige en función deL Límite máximo de toda la HL, pues si no hay datos del SBU para atrás ( NA -> 1 )\n",
    "data_l.loc[ ( (data_l['GRUPO_SEL']==1) & (data_l['ATI_CJ_M1'].isna()) & (data_l['SALARIO'] > data_l['LS1']) ), 'ATI_CJ_M1'] = 1  #quedan 463235 casos\n",
    "#Se corrige en función del valores menoRes al limite máximo la HL, pues si no hay datos del SBU para atrás ( NA -> 0 )\n",
    "data_l.loc[ ( (data_l['GRUPO_SEL']==1) & (data_l['ATI_CJ_M1'].isna()) & (data_l['SALARIO'] <= data_l['LS1']) ), 'ATI_CJ_M1'] = 0  #\n",
    "#Se hacen las correcciones para los valores NA, en donde si el Salario es menor o igual a un SBU no es atípico( NA -> 0 )\n",
    "data_l.loc[ ( (data_l['GRUPO_SEL']==1) & (data_l['ATI_CJ_M1'].isna()) & (data_l['SALARIO'] <= data_l['SBU']) ), 'ATI_CJ_M1'] = 0  \n",
    "\n",
    "#Se hacen las correcciones para los valores -1, en donde si el Salario es mayor a LS1 es atípico( -1 -> 1 )\n",
    "data_l.loc[ ( (data_l['GRUPO_SEL']==1) & (data_l['ATI_CJ_M1']==-1) & (data_l['SALARIO'] > data_l['LS1']) ), 'ATI_CJ_M1'] = 1 #quedan 3267088\n",
    "#Se hacen las correcciones para los valores -1, en donde si el Salario es menor o igual a LS1 no es atípico( -1 -> 0 )\n",
    "data_l.loc[ ( (data_l['GRUPO_SEL']==1) & (data_l['ATI_CJ_M1']==-1) & (data_l['SALARIO'] <= data_l['LS1']) ), 'ATI_CJ_M1'] = 0 #q \n",
    "#Se hacen las correcciones para los valores -1, en donde si el Salario es menor o igual a un SBU no es atípico( -1 -> 0 )\n",
    "data_l.loc[ ( (data_l['GRUPO_SEL']==1) & (data_l['ATI_CJ_M1']==-1) & (data_l['SALARIO'] <= data_l['SBU']) ), 'ATI_CJ_M1'] = 0 #\n",
    "\n",
    "#Se hacen las correcciones para los valores 1, en donde si el Salario es menor o igual al SBU no es atípico( 1 -> 0 )\n",
    "data_l.loc[ ( (data_l['GRUPO_SEL']==1) & (data_l['ATI_CJ_M1']==1) & (data_l['SALARIO'] <= data_l['SBU']) ), 'ATI_CJ_M1'] = 0"
   ]
  },
  {
   "cell_type": "code",
   "execution_count": null,
   "id": "3540288f",
   "metadata": {
    "ExecuteTime": {
     "end_time": "2024-07-25T21:22:55.507498Z",
     "start_time": "2024-07-25T21:22:54.407972Z"
    }
   },
   "outputs": [],
   "source": [
    "#Caso 2 - Correcciones---------------------------------------------------------------------------------------------------\n",
    "#No existen valores igual a NA e igual a -2\n",
    "#Se hacen las correcciones para los valores -1, en donde si el Salario es mayor a LS1 es atípico( -1 -> 1 )\n",
    "data_l.loc[ ( (data_l['GRUPO_SEL']==1) & (data_l['ATI_CJ_M2']==-1) & (data_l['SALARIO'] > data_l['LS1']) ), 'ATI_CJ_M2'] = 1 # quedan 3104185\n",
    "#Se hacen las correcciones para los valores -1, en donde si el Salario es menor o igual a LS1 no es atípico( -1 -> 0 )\n",
    "data_l.loc[ ( (data_l['GRUPO_SEL']==1) & (data_l['ATI_CJ_M2']==-1) & (data_l['SALARIO'] <= data_l['LS1']) ), 'ATI_CJ_M2'] = 0\n",
    "#Se hacen las correcciones para los valores -1, en donde si el Salario es menor o igual a un SBU no es atípico( -1 -> 0 )\n",
    "data_l.loc[ ( (data_l['GRUPO_SEL']==1) & (data_l['ATI_CJ_M2']==-1) & (data_l['SALARIO'] <= data_l['SBU']) ), 'ATI_CJ_M2'] = 0 \n",
    "#Se hacen las correcciones para los valores 1, en donde si el Salario es menor o igual al SBU no es atípico( 1 -> 0 )\n",
    "data_l.loc[ ( (data_l['GRUPO_SEL']==1) & (data_l['ATI_CJ_M2']==1) & (data_l['SALARIO'] <= data_l['SBU']) ), 'ATI_CJ_M2'] = 0"
   ]
  },
  {
   "cell_type": "code",
   "execution_count": null,
   "id": "34bb134c",
   "metadata": {
    "ExecuteTime": {
     "end_time": "2024-07-25T21:29:49.231131Z",
     "start_time": "2024-07-25T21:29:45.628932Z"
    }
   },
   "outputs": [],
   "source": [
    "#Caso 3 - Correcciones-------------------------------------------------------------------------------------------------\n",
    "#Se corrige en función deL Límite máximo de la HL a apartir del año 2000, pues es la fecha en la que entra en dolar a ecuador ( -2 -> 1 )\n",
    "data_l.loc[ ( (data_l['GRUPO_SEL']==1) & (data_l['ATI_CJ_M3']==-2) & (data_l['SALARIO'] > data_l['LS2']) ), 'ATI_CJ_M3'] = 1 # quedan 2 casos\n",
    "#Se corrige en función del valores menores al limite máximo la HL a apartir del año 2000, pues es la fecha en la que entra en dolar a ecuador ( -2 -> 0 )\n",
    "data_l.loc[ ( (data_l['GRUPO_SEL']==1) & (data_l['ATI_CJ_M3']==-2) & (data_l['SALARIO'] <= data_l['LS2']) ), 'ATI_CJ_M3'] = 0\n",
    "#Se hacen las correcciones para los valores -2, en donde si el Salario es menor o igual a un SBU no es atípico( -2 -> 0 )\n",
    "data_l.loc[ ( (data_l['GRUPO_SEL']==1) & (data_l['ATI_CJ_M3']==-2) & (data_l['SALARIO'] <= data_l['SBU']) ), 'ATI_CJ_M3'] = 0 #\n",
    "\n",
    "#Se corrige en función deL Límite máximo de toda la HL, pues si no hay datos del SBU para atrás ( NA -> 1 )\n",
    "data_l.loc[ ( (data_l['GRUPO_SEL']==1) & (data_l['ATI_CJ_M3'].isna()) & (data_l['SALARIO'] > data_l['LS1']) ), 'ATI_CJ_M3'] = 1 #quedan 7394 casos\n",
    "#Se corrige en función del valores menoRes al limite máximo la HL, pues sno hay datos del SBU para atrás ( NA -> 0 )\n",
    "data_l.loc[ ( (data_l['GRUPO_SEL']==1) & (data_l['ATI_CJ_M3'].isna()) & (data_l['SALARIO'] <= data_l['LS1']) ), 'ATI_CJ_M3'] = 0  \n",
    "#Se hacen las correcciones para los valores NA, en donde si el Salario es menor o igual a un SBU no es atípico( NA -> 0 )\n",
    "data_l.loc[ ( (data_l['GRUPO_SEL']==1) & (data_l['ATI_CJ_M3'].isna()) & (data_l['SALARIO'] <= data_l['SBU']) ), 'ATI_CJ_M3'] = 0 \n",
    "\n",
    "#Se hacen las correcciones para los valores -1, en donde si el Salario es mayor a LS1 es atípico( -1 -> 1 )\n",
    "data_l.loc[ ( (data_l['GRUPO_SEL']==1) & (data_l['ATI_CJ_M3']==-1) & (data_l['SALARIO'] > data_l['LS1']) ), 'ATI_CJ_M3'] = 1 #quedan 3103457  casos\n",
    "#Se hacen las correcciones para los valores -1, en donde si el Salario es menor o igual a LS1 no es atípico( -1 -> 0 )\n",
    "data_l.loc[ ( (data_l['GRUPO_SEL']==1) & (data_l['ATI_CJ_M3']==-1) & (data_l['SALARIO'] <= data_l['LS1']) ), 'ATI_CJ_M3'] = 0\n",
    "#Se hacen las correcciones para los valores -1, en donde si el Salario es menor o igual a un SBU no es atípico( -1 -> 0 )\n",
    "data_l.loc[ ( (data_l['GRUPO_SEL']==1) & (data_l['ATI_CJ_M3']==-1) & (data_l['SALARIO'] <= data_l['SBU']) ), 'ATI_CJ_M3'] = 0 \n",
    "#Se hacen las correcciones para los valores 1, en donde si el Salario es menor o igual al SBU no es atípico( 1 -> 0 )\n",
    "data_l.loc[ ( (data_l['GRUPO_SEL']==1) & (data_l['ATI_CJ_M3']==1) & (data_l['SALARIO'] <= data_l['SBU']) ), 'ATI_CJ_M3'] = 0"
   ]
  },
  {
   "cell_type": "code",
   "execution_count": null,
   "id": "5cf8223c",
   "metadata": {},
   "outputs": [],
   "source": [
    "graf_ati(23075971, 1)"
   ]
  },
  {
   "cell_type": "code",
   "execution_count": null,
   "id": "960ed602",
   "metadata": {},
   "outputs": [],
   "source": [
    "#Cedulas que tiene datos atípicos----------------------------------------------------------------------------------------------\n",
    "print('*' * 50, 'Caso ', str( 1 ), '*' * 50)\n",
    "print('\\tCedulas con al menos un atípico:', data_l[ (data_l['GRUPO_SEL']==1) & (data_l['ATI_CJ_M1']==1)]['CEDULA_COD'].nunique()) #125237\n",
    "print('\\tCedulas con sin atípicos:',        data_l[ (data_l['GRUPO_SEL']==1) & (data_l['ATI_CJ_M1']==0)]['CEDULA_COD'].nunique()) #436149\n",
    "print('*' * 50, 'Caso ', str( 2 ), '*' * 50)\n",
    "print('\\tCedulas con al menos un atípico:', data_l[ (data_l['GRUPO_SEL']==1) & (data_l['ATI_CJ_M2']==1)]['CEDULA_COD'].nunique()) #116931\n",
    "print('\\tCedulas con sin atípicos:',        data_l[ (data_l['GRUPO_SEL']==1) & (data_l['ATI_CJ_M2']==0)]['CEDULA_COD'].nunique()) #436148\n",
    "print('*' * 50, 'Caso ', str( 3 ), '*' * 50)\n",
    "print('\\tCedulas con al menos un atípico:', data_l[ (data_l['GRUPO_SEL']==1) & (data_l['ATI_CJ_M3']==1)]['CEDULA_COD'].nunique()) #116938\n",
    "print('\\tCedulas con sin atípicos:',        data_l[ (data_l['GRUPO_SEL']==1) & (data_l['ATI_CJ_M3']==0)]['CEDULA_COD'].nunique()) #436149\n",
    "print('*' * 102)"
   ]
  },
  {
   "cell_type": "code",
   "execution_count": null,
   "id": "ae91edff",
   "metadata": {
    "ExecuteTime": {
     "end_time": "2024-07-29T15:48:00.380178Z",
     "start_time": "2024-07-29T15:48:00.357873Z"
    }
   },
   "outputs": [],
   "source": [
    "# Guadar archivo------------------------------------------------------------------------------------------------------------\n",
    "nombre_archivo = 'viu_clean_data_l.pkl'\n",
    "# Ruta completa del archivo\n",
    "ruta_archivo = os.path.join(directorio, nombre_archivo)\n",
    "# Objetos a guardar\n",
    "objeto8 = data_l\n",
    "\n",
    "# Guardar los objetos en el archivo\n",
    "with open(ruta_archivo, 'wb') as archivo:\n",
    "    pickle.dump(objeto8, archivo)      \n",
    "\n",
    "del objeto8"
   ]
  },
  {
   "cell_type": "code",
   "execution_count": null,
   "id": "70d03263",
   "metadata": {
    "ExecuteTime": {
     "end_time": "2024-07-29T16:15:47.567505Z",
     "start_time": "2024-07-29T16:15:47.557819Z"
    }
   },
   "outputs": [],
   "source": [
    "data_l.shape"
   ]
  },
  {
   "cell_type": "code",
   "execution_count": 3,
   "id": "c37a6de3",
   "metadata": {
    "ExecuteTime": {
     "end_time": "2024-07-29T21:10:41.872950Z",
     "start_time": "2024-07-29T21:09:08.857893Z"
    }
   },
   "outputs": [],
   "source": [
    "# Cargar archivo------------------------------------------------------------------------------------------------------------\n",
    "directorio = r_ruta\n",
    "nombre_archivo = 'viu_clean_data_l.pkl'\n",
    "ruta_archivo = os.path.join(directorio, nombre_archivo)\n",
    "\n",
    "with open( ruta_archivo, 'rb') as archivo:\n",
    "    data_l = pickle.load( archivo )     "
   ]
  },
  {
   "cell_type": "code",
   "execution_count": 4,
   "id": "2ad6f24b",
   "metadata": {
    "ExecuteTime": {
     "end_time": "2024-07-29T21:12:05.505781Z",
     "start_time": "2024-07-29T21:10:41.872950Z"
    }
   },
   "outputs": [
    {
     "name": "stdout",
     "output_type": "stream",
     "text": [
      "************************************************** Caso  1 **************************************************\n",
      "\tCedulas con al menos un atípico con un único sector: 77175\n",
      "\tCedulas con al menos un atípico con más de un único sector: 48062\n",
      "************************************************** Caso  2 **************************************************\n",
      "\tCedulas con al menos un atípico con un único sector: 72182\n",
      "\tCedulas con al menos un atípico con más de un único sector: 44749\n",
      "************************************************** Caso  3 **************************************************\n",
      "\tCedulas con al menos un atípico con un único sector: 72185\n",
      "\tCedulas con al menos un atípico con más de un único sector: 44753\n",
      "******************************************************************************************************\n"
     ]
    }
   ],
   "source": [
    "#Analisis para atípicos vs aportes simultáneos\n",
    "cedula_1 = data_l.groupby('CEDULA_COD')['NUM_SEC_MES'].apply( lambda x: (x != 1).any() )\n",
    "cedula_dist = cedula_1[ cedula_1 ].index\n",
    "ul = data_l[ ~data_l['CEDULA_COD'].isin( cedula_dist )]\n",
    "ml = data_l[  data_l['CEDULA_COD'].isin( cedula_dist )]\n",
    "\n",
    "#Cedulas que tiene datos atípicos----------------------------------------------------------------------------------------------\n",
    "print('*' * 50, 'Caso ', str( 1 ), '*' * 50)\n",
    "print('\\tCedulas con al menos un atípico con un único sector:',\n",
    "      ul[ (ul['GRUPO_SEL']==1) & (ul['ATI_CJ_M1']==1)]['CEDULA_COD'].nunique()) \n",
    "print('\\tCedulas con al menos un atípico con más de un único sector:',\n",
    "      ml[ (ml['GRUPO_SEL']==1) & (ml['ATI_CJ_M1']==1)]['CEDULA_COD'].nunique())\n",
    "print('*' * 50, 'Caso ', str( 2 ), '*' * 50)\n",
    "print('\\tCedulas con al menos un atípico con un único sector:',\n",
    "      ul[ (ul['GRUPO_SEL']==1) & (ul['ATI_CJ_M2']==1)]['CEDULA_COD'].nunique()) \n",
    "print('\\tCedulas con al menos un atípico con más de un único sector:',\n",
    "      ml[ (ml['GRUPO_SEL']==1) & (ml['ATI_CJ_M2']==1)]['CEDULA_COD'].nunique())\n",
    "print('*' * 50, 'Caso ', str( 3 ), '*' * 50)\n",
    "print('\\tCedulas con al menos un atípico con un único sector:',\n",
    "      ul[ (ul['GRUPO_SEL']==1) & (ul['ATI_CJ_M3']==1)]['CEDULA_COD'].nunique()) \n",
    "print('\\tCedulas con al menos un atípico con más de un único sector:',\n",
    "      ml[ (ml['GRUPO_SEL']==1) & (ml['ATI_CJ_M3']==1)]['CEDULA_COD'].nunique())\n",
    "print('*' * 102)\n"
   ]
  },
  {
   "cell_type": "code",
   "execution_count": 5,
   "id": "ad35e523",
   "metadata": {
    "ExecuteTime": {
     "end_time": "2024-07-29T21:13:27.393902Z",
     "start_time": "2024-07-29T21:12:05.505781Z"
    }
   },
   "outputs": [
    {
     "name": "stdout",
     "output_type": "stream",
     "text": [
      "\tTiempo de ejecución es:  0.0  horas con  1.0  minutos y 20.381609201431274  segundos\n"
     ]
    },
    {
     "data": {
      "text/plain": [
       "0"
      ]
     },
     "execution_count": 5,
     "metadata": {},
     "output_type": "execute_result"
    }
   ],
   "source": [
    "#Creando limites de atipicos\n",
    "inicio = time.time()   \n",
    "#Caso 3: Para toda la historia laboral sin considerar aportes simultáneos\n",
    "# cedula_1 = data_l.groupby('CEDULA_COD')['NUM_SEC_MES'].apply( lambda x: (x != 1).any() )\n",
    "# cedula_dist = cedula_1[ cedula_1 ].index\n",
    "# grupo3 = data_l[ ~data_l['CEDULA_COD'].isin( cedula_dist )]\n",
    "grupo3 = ul\n",
    "\n",
    "Q1 = grupo3.groupby('CEDULA_COD')['SALARIO'].quantile(0.25)\n",
    "Q3 = grupo3.groupby('CEDULA_COD')['SALARIO'].quantile(0.75)\n",
    "IQR = Q3-Q1\n",
    "LI = Q1 - 1.5 * IQR\n",
    "LS = Q3 + 1.5 * IQR\n",
    "data_l['LS3'] = data_l['CEDULA_COD'].map( LS )\n",
    "\n",
    "#Caso 4: Para toda la historia laboral considerando aportes simultáneos\n",
    "#grupo4 = data_l[ data_l['CEDULA_COD'].isin( cedula_dist )]\n",
    "grupo4 = ml\n",
    "dic_aux = grupo4.groupby('CEDULA_COD').agg({'SALARIO_SECTOR': list, 'INDICE': list}).to_dict(orient='index')\n",
    "\n",
    "for cedula in dic_aux:\n",
    "    dic_aux[cedula]['SALARIO_SECTOR'] = [ [float(val) for val in sal.replace(':', ';').split(';')] \n",
    "                                            if isinstance(sal, str) \n",
    "                                            else [float(sal)]\n",
    "                                            for sal in dic_aux[cedula]['SALARIO_SECTOR']\n",
    "                                        ]\n",
    "    # Aplanar la lista de listas de SALARIO_SECTOR\n",
    "    salarios = None\n",
    "    salarios = [salario for sublist in dic_aux[cedula]['SALARIO_SECTOR'] for salario in sublist]\n",
    "    dic_aux[cedula]['Q1'] =  np.percentile(salarios, 25)\n",
    "    dic_aux[cedula]['Q3'] =  np.percentile(salarios, 75)\n",
    "    dic_aux[cedula]['IQR'] = dic_aux[cedula]['Q3'] -  dic_aux[cedula]['Q1']\n",
    "    dic_aux[cedula]['LI'] =  dic_aux[cedula]['Q1'] -  1.5  * dic_aux[cedula]['IQR']\n",
    "    dic_aux[cedula]['LS'] =  dic_aux[cedula]['Q3'] +  1.5  * dic_aux[cedula]['IQR']\n",
    "\n",
    "data1 = { 'CEDULA_COD': [], 'LS': [] }\n",
    "\n",
    "for cedula, val in dic_aux.items():\n",
    "    data1['CEDULA_COD'].append(cedula)\n",
    "    data1['LS'].append( val['LS'] )\n",
    "\n",
    "LS = pd.DataFrame( data1 )\n",
    "LS = LS.groupby('CEDULA_COD')['LS'].first()\n",
    "data_l['LS4'] = data_l['CEDULA_COD'].map( LS )  \n",
    "\n",
    "fin = time.time()  \n",
    "print('\\tTiempo de ejecución es: ',  (fin-inicio)//3600, ' horas con ' ,  (fin-inicio)%3600//60 , ' minutos y', (fin-inicio)%60, ' segundos')\n",
    "\n",
    "del grupo3, grupo4, dic_aux, data1, Q1, Q3, IQR, LI, LS\n",
    "gc.collect()"
   ]
  },
  {
   "cell_type": "code",
   "execution_count": 6,
   "id": "efd021ba",
   "metadata": {
    "ExecuteTime": {
     "end_time": "2024-07-29T21:13:43.452591Z",
     "start_time": "2024-07-29T21:13:42.320515Z"
    }
   },
   "outputs": [
    {
     "data": {
      "text/plain": [
       "array([     397,      472,     1073, ..., 21035240, 21104059, 21729781],\n",
       "      dtype=int64)"
      ]
     },
     "execution_count": 6,
     "metadata": {},
     "output_type": "execute_result"
    }
   ],
   "source": [
    "ml[ (ml['GRUPO_SEL']==1) & (ml['ATI_CJ_M1']==1) ]['CEDULA_COD'].unique()"
   ]
  },
  {
   "cell_type": "code",
   "execution_count": 7,
   "id": "766ab806",
   "metadata": {
    "ExecuteTime": {
     "end_time": "2024-07-29T21:14:53.819673Z",
     "start_time": "2024-07-29T21:13:46.102691Z"
    }
   },
   "outputs": [
    {
     "data": {
      "text/html": [
       "<div>\n",
       "<style scoped>\n",
       "    .dataframe tbody tr th:only-of-type {\n",
       "        vertical-align: middle;\n",
       "    }\n",
       "\n",
       "    .dataframe tbody tr th {\n",
       "        vertical-align: top;\n",
       "    }\n",
       "\n",
       "    .dataframe thead th {\n",
       "        text-align: right;\n",
       "    }\n",
       "</style>\n",
       "<table border=\"1\" class=\"dataframe\">\n",
       "  <thead>\n",
       "    <tr style=\"text-align: right;\">\n",
       "      <th></th>\n",
       "      <th>CEDULA_COD</th>\n",
       "      <th>ANIO</th>\n",
       "      <th>MES</th>\n",
       "      <th>SALARIO</th>\n",
       "      <th>SALARIO_SECTOR</th>\n",
       "      <th>SECTOR_A</th>\n",
       "      <th>NUM_SEC_MES</th>\n",
       "      <th>%_NUM_SECTOR</th>\n",
       "      <th>GRUPO</th>\n",
       "      <th>SAL_PROM_GRUPO</th>\n",
       "      <th>...</th>\n",
       "      <th>SBU</th>\n",
       "      <th>ID_SBU</th>\n",
       "      <th>INDICE</th>\n",
       "      <th>ATI_CJ_M1</th>\n",
       "      <th>ATI_CJ_M2</th>\n",
       "      <th>ATI_CJ_M3</th>\n",
       "      <th>LS1</th>\n",
       "      <th>LS2</th>\n",
       "      <th>LS3</th>\n",
       "      <th>LS4</th>\n",
       "    </tr>\n",
       "  </thead>\n",
       "  <tbody>\n",
       "    <tr>\n",
       "      <th>1104</th>\n",
       "      <td>397</td>\n",
       "      <td>2007</td>\n",
       "      <td>2</td>\n",
       "      <td>448.96</td>\n",
       "      <td>448.96</td>\n",
       "      <td>PUB</td>\n",
       "      <td>1</td>\n",
       "      <td>1</td>\n",
       "      <td>5</td>\n",
       "      <td>510.380833</td>\n",
       "      <td>...</td>\n",
       "      <td>170.0</td>\n",
       "      <td>-1</td>\n",
       "      <td>1104</td>\n",
       "      <td>0.0</td>\n",
       "      <td>0.0</td>\n",
       "      <td>0.0</td>\n",
       "      <td>3282.6475</td>\n",
       "      <td>3282.6475</td>\n",
       "      <td>NaN</td>\n",
       "      <td>1326.56</td>\n",
       "    </tr>\n",
       "    <tr>\n",
       "      <th>1105</th>\n",
       "      <td>397</td>\n",
       "      <td>2007</td>\n",
       "      <td>3</td>\n",
       "      <td>448.96</td>\n",
       "      <td>448.96</td>\n",
       "      <td>PUB</td>\n",
       "      <td>1</td>\n",
       "      <td>1</td>\n",
       "      <td>5</td>\n",
       "      <td>510.380833</td>\n",
       "      <td>...</td>\n",
       "      <td>170.0</td>\n",
       "      <td>-1</td>\n",
       "      <td>1105</td>\n",
       "      <td>0.0</td>\n",
       "      <td>0.0</td>\n",
       "      <td>0.0</td>\n",
       "      <td>3282.6475</td>\n",
       "      <td>3282.6475</td>\n",
       "      <td>NaN</td>\n",
       "      <td>1326.56</td>\n",
       "    </tr>\n",
       "    <tr>\n",
       "      <th>1106</th>\n",
       "      <td>397</td>\n",
       "      <td>2007</td>\n",
       "      <td>4</td>\n",
       "      <td>448.96</td>\n",
       "      <td>448.96</td>\n",
       "      <td>PUB</td>\n",
       "      <td>1</td>\n",
       "      <td>1</td>\n",
       "      <td>5</td>\n",
       "      <td>510.380833</td>\n",
       "      <td>...</td>\n",
       "      <td>170.0</td>\n",
       "      <td>-1</td>\n",
       "      <td>1106</td>\n",
       "      <td>0.0</td>\n",
       "      <td>0.0</td>\n",
       "      <td>0.0</td>\n",
       "      <td>3282.6475</td>\n",
       "      <td>3282.6475</td>\n",
       "      <td>NaN</td>\n",
       "      <td>1326.56</td>\n",
       "    </tr>\n",
       "    <tr>\n",
       "      <th>1107</th>\n",
       "      <td>397</td>\n",
       "      <td>2007</td>\n",
       "      <td>5</td>\n",
       "      <td>448.96</td>\n",
       "      <td>448.96</td>\n",
       "      <td>PUB</td>\n",
       "      <td>1</td>\n",
       "      <td>1</td>\n",
       "      <td>5</td>\n",
       "      <td>510.380833</td>\n",
       "      <td>...</td>\n",
       "      <td>170.0</td>\n",
       "      <td>-1</td>\n",
       "      <td>1107</td>\n",
       "      <td>0.0</td>\n",
       "      <td>0.0</td>\n",
       "      <td>0.0</td>\n",
       "      <td>3282.6475</td>\n",
       "      <td>3282.6475</td>\n",
       "      <td>NaN</td>\n",
       "      <td>1326.56</td>\n",
       "    </tr>\n",
       "    <tr>\n",
       "      <th>1108</th>\n",
       "      <td>397</td>\n",
       "      <td>2007</td>\n",
       "      <td>6</td>\n",
       "      <td>448.96</td>\n",
       "      <td>448.96</td>\n",
       "      <td>PUB</td>\n",
       "      <td>1</td>\n",
       "      <td>1</td>\n",
       "      <td>5</td>\n",
       "      <td>510.380833</td>\n",
       "      <td>...</td>\n",
       "      <td>170.0</td>\n",
       "      <td>-1</td>\n",
       "      <td>1108</td>\n",
       "      <td>0.0</td>\n",
       "      <td>0.0</td>\n",
       "      <td>0.0</td>\n",
       "      <td>3282.6475</td>\n",
       "      <td>3282.6475</td>\n",
       "      <td>NaN</td>\n",
       "      <td>1326.56</td>\n",
       "    </tr>\n",
       "    <tr>\n",
       "      <th>1109</th>\n",
       "      <td>397</td>\n",
       "      <td>2007</td>\n",
       "      <td>7</td>\n",
       "      <td>488.94</td>\n",
       "      <td>488.94</td>\n",
       "      <td>PUB</td>\n",
       "      <td>1</td>\n",
       "      <td>1</td>\n",
       "      <td>5</td>\n",
       "      <td>510.380833</td>\n",
       "      <td>...</td>\n",
       "      <td>170.0</td>\n",
       "      <td>-1</td>\n",
       "      <td>1109</td>\n",
       "      <td>0.0</td>\n",
       "      <td>0.0</td>\n",
       "      <td>0.0</td>\n",
       "      <td>3282.6475</td>\n",
       "      <td>3282.6475</td>\n",
       "      <td>NaN</td>\n",
       "      <td>1326.56</td>\n",
       "    </tr>\n",
       "    <tr>\n",
       "      <th>1110</th>\n",
       "      <td>397</td>\n",
       "      <td>2007</td>\n",
       "      <td>8</td>\n",
       "      <td>488.94</td>\n",
       "      <td>488.94</td>\n",
       "      <td>PUB</td>\n",
       "      <td>1</td>\n",
       "      <td>1</td>\n",
       "      <td>5</td>\n",
       "      <td>510.380833</td>\n",
       "      <td>...</td>\n",
       "      <td>170.0</td>\n",
       "      <td>-1</td>\n",
       "      <td>1110</td>\n",
       "      <td>0.0</td>\n",
       "      <td>0.0</td>\n",
       "      <td>0.0</td>\n",
       "      <td>3282.6475</td>\n",
       "      <td>3282.6475</td>\n",
       "      <td>NaN</td>\n",
       "      <td>1326.56</td>\n",
       "    </tr>\n",
       "    <tr>\n",
       "      <th>1111</th>\n",
       "      <td>397</td>\n",
       "      <td>2007</td>\n",
       "      <td>9</td>\n",
       "      <td>728.81</td>\n",
       "      <td>728.81</td>\n",
       "      <td>PUB</td>\n",
       "      <td>1</td>\n",
       "      <td>1</td>\n",
       "      <td>5</td>\n",
       "      <td>510.380833</td>\n",
       "      <td>...</td>\n",
       "      <td>170.0</td>\n",
       "      <td>-1</td>\n",
       "      <td>1111</td>\n",
       "      <td>0.0</td>\n",
       "      <td>0.0</td>\n",
       "      <td>0.0</td>\n",
       "      <td>3282.6475</td>\n",
       "      <td>3282.6475</td>\n",
       "      <td>NaN</td>\n",
       "      <td>1326.56</td>\n",
       "    </tr>\n",
       "    <tr>\n",
       "      <th>1112</th>\n",
       "      <td>397</td>\n",
       "      <td>2007</td>\n",
       "      <td>10</td>\n",
       "      <td>543.27</td>\n",
       "      <td>543.27</td>\n",
       "      <td>PUB</td>\n",
       "      <td>1</td>\n",
       "      <td>1</td>\n",
       "      <td>5</td>\n",
       "      <td>510.380833</td>\n",
       "      <td>...</td>\n",
       "      <td>170.0</td>\n",
       "      <td>-1</td>\n",
       "      <td>1112</td>\n",
       "      <td>0.0</td>\n",
       "      <td>0.0</td>\n",
       "      <td>0.0</td>\n",
       "      <td>3282.6475</td>\n",
       "      <td>3282.6475</td>\n",
       "      <td>NaN</td>\n",
       "      <td>1326.56</td>\n",
       "    </tr>\n",
       "    <tr>\n",
       "      <th>1113</th>\n",
       "      <td>397</td>\n",
       "      <td>2007</td>\n",
       "      <td>11</td>\n",
       "      <td>543.27</td>\n",
       "      <td>543.27</td>\n",
       "      <td>PUB</td>\n",
       "      <td>1</td>\n",
       "      <td>1</td>\n",
       "      <td>5</td>\n",
       "      <td>510.380833</td>\n",
       "      <td>...</td>\n",
       "      <td>170.0</td>\n",
       "      <td>-1</td>\n",
       "      <td>1113</td>\n",
       "      <td>0.0</td>\n",
       "      <td>0.0</td>\n",
       "      <td>0.0</td>\n",
       "      <td>3282.6475</td>\n",
       "      <td>3282.6475</td>\n",
       "      <td>NaN</td>\n",
       "      <td>1326.56</td>\n",
       "    </tr>\n",
       "    <tr>\n",
       "      <th>1114</th>\n",
       "      <td>397</td>\n",
       "      <td>2007</td>\n",
       "      <td>12</td>\n",
       "      <td>543.27</td>\n",
       "      <td>543.27</td>\n",
       "      <td>PUB</td>\n",
       "      <td>1</td>\n",
       "      <td>1</td>\n",
       "      <td>5</td>\n",
       "      <td>510.380833</td>\n",
       "      <td>...</td>\n",
       "      <td>170.0</td>\n",
       "      <td>-1</td>\n",
       "      <td>1114</td>\n",
       "      <td>0.0</td>\n",
       "      <td>0.0</td>\n",
       "      <td>0.0</td>\n",
       "      <td>3282.6475</td>\n",
       "      <td>3282.6475</td>\n",
       "      <td>NaN</td>\n",
       "      <td>1326.56</td>\n",
       "    </tr>\n",
       "    <tr>\n",
       "      <th>1115</th>\n",
       "      <td>397</td>\n",
       "      <td>2008</td>\n",
       "      <td>1</td>\n",
       "      <td>543.27</td>\n",
       "      <td>543.27</td>\n",
       "      <td>PUB</td>\n",
       "      <td>1</td>\n",
       "      <td>1</td>\n",
       "      <td>5</td>\n",
       "      <td>510.380833</td>\n",
       "      <td>...</td>\n",
       "      <td>200.0</td>\n",
       "      <td>-1</td>\n",
       "      <td>1115</td>\n",
       "      <td>0.0</td>\n",
       "      <td>0.0</td>\n",
       "      <td>0.0</td>\n",
       "      <td>3282.6475</td>\n",
       "      <td>3282.6475</td>\n",
       "      <td>NaN</td>\n",
       "      <td>1326.56</td>\n",
       "    </tr>\n",
       "    <tr>\n",
       "      <th>1116</th>\n",
       "      <td>397</td>\n",
       "      <td>2008</td>\n",
       "      <td>2</td>\n",
       "      <td>543.27</td>\n",
       "      <td>543.27</td>\n",
       "      <td>PUB</td>\n",
       "      <td>1</td>\n",
       "      <td>1</td>\n",
       "      <td>4</td>\n",
       "      <td>1375.294167</td>\n",
       "      <td>...</td>\n",
       "      <td>200.0</td>\n",
       "      <td>-1</td>\n",
       "      <td>1116</td>\n",
       "      <td>0.0</td>\n",
       "      <td>0.0</td>\n",
       "      <td>0.0</td>\n",
       "      <td>3282.6475</td>\n",
       "      <td>3282.6475</td>\n",
       "      <td>NaN</td>\n",
       "      <td>1326.56</td>\n",
       "    </tr>\n",
       "    <tr>\n",
       "      <th>1117</th>\n",
       "      <td>397</td>\n",
       "      <td>2008</td>\n",
       "      <td>3</td>\n",
       "      <td>1411.19</td>\n",
       "      <td>800.0;611.19</td>\n",
       "      <td>PRI;PUB</td>\n",
       "      <td>2</td>\n",
       "      <td>0.5669;0.4331</td>\n",
       "      <td>4</td>\n",
       "      <td>1375.294167</td>\n",
       "      <td>...</td>\n",
       "      <td>200.0</td>\n",
       "      <td>-1</td>\n",
       "      <td>1117</td>\n",
       "      <td>0.0</td>\n",
       "      <td>0.0</td>\n",
       "      <td>0.0</td>\n",
       "      <td>3282.6475</td>\n",
       "      <td>3282.6475</td>\n",
       "      <td>NaN</td>\n",
       "      <td>1326.56</td>\n",
       "    </tr>\n",
       "    <tr>\n",
       "      <th>1118</th>\n",
       "      <td>397</td>\n",
       "      <td>2008</td>\n",
       "      <td>4</td>\n",
       "      <td>1547.03</td>\n",
       "      <td>800.0;747.03</td>\n",
       "      <td>PRI;PUB</td>\n",
       "      <td>2</td>\n",
       "      <td>0.5171;0.4829</td>\n",
       "      <td>4</td>\n",
       "      <td>1375.294167</td>\n",
       "      <td>...</td>\n",
       "      <td>200.0</td>\n",
       "      <td>-1</td>\n",
       "      <td>1118</td>\n",
       "      <td>0.0</td>\n",
       "      <td>0.0</td>\n",
       "      <td>0.0</td>\n",
       "      <td>3282.6475</td>\n",
       "      <td>3282.6475</td>\n",
       "      <td>NaN</td>\n",
       "      <td>1326.56</td>\n",
       "    </tr>\n",
       "    <tr>\n",
       "      <th>1119</th>\n",
       "      <td>397</td>\n",
       "      <td>2008</td>\n",
       "      <td>5</td>\n",
       "      <td>1411.19</td>\n",
       "      <td>611.19;800.0</td>\n",
       "      <td>PUB;PRI</td>\n",
       "      <td>2</td>\n",
       "      <td>0.4331;0.5669</td>\n",
       "      <td>4</td>\n",
       "      <td>1375.294167</td>\n",
       "      <td>...</td>\n",
       "      <td>200.0</td>\n",
       "      <td>-1</td>\n",
       "      <td>1119</td>\n",
       "      <td>0.0</td>\n",
       "      <td>0.0</td>\n",
       "      <td>0.0</td>\n",
       "      <td>3282.6475</td>\n",
       "      <td>3282.6475</td>\n",
       "      <td>NaN</td>\n",
       "      <td>1326.56</td>\n",
       "    </tr>\n",
       "    <tr>\n",
       "      <th>1120</th>\n",
       "      <td>397</td>\n",
       "      <td>2008</td>\n",
       "      <td>6</td>\n",
       "      <td>1411.19</td>\n",
       "      <td>800.0;611.19</td>\n",
       "      <td>PRI;PUB</td>\n",
       "      <td>2</td>\n",
       "      <td>0.5669;0.4331</td>\n",
       "      <td>4</td>\n",
       "      <td>1375.294167</td>\n",
       "      <td>...</td>\n",
       "      <td>200.0</td>\n",
       "      <td>-1</td>\n",
       "      <td>1120</td>\n",
       "      <td>0.0</td>\n",
       "      <td>0.0</td>\n",
       "      <td>0.0</td>\n",
       "      <td>3282.6475</td>\n",
       "      <td>3282.6475</td>\n",
       "      <td>NaN</td>\n",
       "      <td>1326.56</td>\n",
       "    </tr>\n",
       "    <tr>\n",
       "      <th>1121</th>\n",
       "      <td>397</td>\n",
       "      <td>2008</td>\n",
       "      <td>7</td>\n",
       "      <td>1411.19</td>\n",
       "      <td>800.0;611.19</td>\n",
       "      <td>PRI;PUB</td>\n",
       "      <td>2</td>\n",
       "      <td>0.5669;0.4331</td>\n",
       "      <td>4</td>\n",
       "      <td>1375.294167</td>\n",
       "      <td>...</td>\n",
       "      <td>200.0</td>\n",
       "      <td>-1</td>\n",
       "      <td>1121</td>\n",
       "      <td>0.0</td>\n",
       "      <td>0.0</td>\n",
       "      <td>0.0</td>\n",
       "      <td>3282.6475</td>\n",
       "      <td>3282.6475</td>\n",
       "      <td>NaN</td>\n",
       "      <td>1326.56</td>\n",
       "    </tr>\n",
       "    <tr>\n",
       "      <th>1122</th>\n",
       "      <td>397</td>\n",
       "      <td>2008</td>\n",
       "      <td>8</td>\n",
       "      <td>1449.39</td>\n",
       "      <td>800.0;649.39</td>\n",
       "      <td>PRI;PUB</td>\n",
       "      <td>2</td>\n",
       "      <td>0.552;0.448</td>\n",
       "      <td>4</td>\n",
       "      <td>1375.294167</td>\n",
       "      <td>...</td>\n",
       "      <td>200.0</td>\n",
       "      <td>-1</td>\n",
       "      <td>1122</td>\n",
       "      <td>0.0</td>\n",
       "      <td>0.0</td>\n",
       "      <td>0.0</td>\n",
       "      <td>3282.6475</td>\n",
       "      <td>3282.6475</td>\n",
       "      <td>NaN</td>\n",
       "      <td>1326.56</td>\n",
       "    </tr>\n",
       "    <tr>\n",
       "      <th>1123</th>\n",
       "      <td>397</td>\n",
       "      <td>2008</td>\n",
       "      <td>9</td>\n",
       "      <td>1449.39</td>\n",
       "      <td>649.39;800.0</td>\n",
       "      <td>PUB;PRI</td>\n",
       "      <td>2</td>\n",
       "      <td>0.448;0.552</td>\n",
       "      <td>4</td>\n",
       "      <td>1375.294167</td>\n",
       "      <td>...</td>\n",
       "      <td>200.0</td>\n",
       "      <td>-1</td>\n",
       "      <td>1123</td>\n",
       "      <td>0.0</td>\n",
       "      <td>0.0</td>\n",
       "      <td>0.0</td>\n",
       "      <td>3282.6475</td>\n",
       "      <td>3282.6475</td>\n",
       "      <td>NaN</td>\n",
       "      <td>1326.56</td>\n",
       "    </tr>\n",
       "    <tr>\n",
       "      <th>1124</th>\n",
       "      <td>397</td>\n",
       "      <td>2008</td>\n",
       "      <td>10</td>\n",
       "      <td>1449.39</td>\n",
       "      <td>800.0;649.39</td>\n",
       "      <td>PRI;PUB</td>\n",
       "      <td>2</td>\n",
       "      <td>0.552;0.448</td>\n",
       "      <td>4</td>\n",
       "      <td>1375.294167</td>\n",
       "      <td>...</td>\n",
       "      <td>200.0</td>\n",
       "      <td>-1</td>\n",
       "      <td>1124</td>\n",
       "      <td>0.0</td>\n",
       "      <td>0.0</td>\n",
       "      <td>0.0</td>\n",
       "      <td>3282.6475</td>\n",
       "      <td>3282.6475</td>\n",
       "      <td>NaN</td>\n",
       "      <td>1326.56</td>\n",
       "    </tr>\n",
       "    <tr>\n",
       "      <th>1125</th>\n",
       "      <td>397</td>\n",
       "      <td>2008</td>\n",
       "      <td>11</td>\n",
       "      <td>1449.39</td>\n",
       "      <td>800.0;649.39</td>\n",
       "      <td>PRI;PUB</td>\n",
       "      <td>2</td>\n",
       "      <td>0.552;0.448</td>\n",
       "      <td>4</td>\n",
       "      <td>1375.294167</td>\n",
       "      <td>...</td>\n",
       "      <td>200.0</td>\n",
       "      <td>-1</td>\n",
       "      <td>1125</td>\n",
       "      <td>0.0</td>\n",
       "      <td>0.0</td>\n",
       "      <td>0.0</td>\n",
       "      <td>3282.6475</td>\n",
       "      <td>3282.6475</td>\n",
       "      <td>NaN</td>\n",
       "      <td>1326.56</td>\n",
       "    </tr>\n",
       "    <tr>\n",
       "      <th>1126</th>\n",
       "      <td>397</td>\n",
       "      <td>2008</td>\n",
       "      <td>12</td>\n",
       "      <td>1449.39</td>\n",
       "      <td>649.39;800.0</td>\n",
       "      <td>PUB;PRI</td>\n",
       "      <td>2</td>\n",
       "      <td>0.448;0.552</td>\n",
       "      <td>4</td>\n",
       "      <td>1375.294167</td>\n",
       "      <td>...</td>\n",
       "      <td>200.0</td>\n",
       "      <td>-1</td>\n",
       "      <td>1126</td>\n",
       "      <td>0.0</td>\n",
       "      <td>0.0</td>\n",
       "      <td>0.0</td>\n",
       "      <td>3282.6475</td>\n",
       "      <td>3282.6475</td>\n",
       "      <td>NaN</td>\n",
       "      <td>1326.56</td>\n",
       "    </tr>\n",
       "    <tr>\n",
       "      <th>1127</th>\n",
       "      <td>397</td>\n",
       "      <td>2009</td>\n",
       "      <td>1</td>\n",
       "      <td>1521.52</td>\n",
       "      <td>800.0;721.52</td>\n",
       "      <td>PRI;PUB</td>\n",
       "      <td>2</td>\n",
       "      <td>0.5258;0.4742</td>\n",
       "      <td>4</td>\n",
       "      <td>1375.294167</td>\n",
       "      <td>...</td>\n",
       "      <td>218.0</td>\n",
       "      <td>-1</td>\n",
       "      <td>1127</td>\n",
       "      <td>0.0</td>\n",
       "      <td>0.0</td>\n",
       "      <td>0.0</td>\n",
       "      <td>3282.6475</td>\n",
       "      <td>3282.6475</td>\n",
       "      <td>NaN</td>\n",
       "      <td>1326.56</td>\n",
       "    </tr>\n",
       "    <tr>\n",
       "      <th>1128</th>\n",
       "      <td>397</td>\n",
       "      <td>2009</td>\n",
       "      <td>2</td>\n",
       "      <td>1521.52</td>\n",
       "      <td>800.0;721.52</td>\n",
       "      <td>PRI;PUB</td>\n",
       "      <td>2</td>\n",
       "      <td>0.5258;0.4742</td>\n",
       "      <td>3</td>\n",
       "      <td>1521.510833</td>\n",
       "      <td>...</td>\n",
       "      <td>218.0</td>\n",
       "      <td>-1</td>\n",
       "      <td>1128</td>\n",
       "      <td>0.0</td>\n",
       "      <td>0.0</td>\n",
       "      <td>0.0</td>\n",
       "      <td>3282.6475</td>\n",
       "      <td>3282.6475</td>\n",
       "      <td>NaN</td>\n",
       "      <td>1326.56</td>\n",
       "    </tr>\n",
       "    <tr>\n",
       "      <th>1129</th>\n",
       "      <td>397</td>\n",
       "      <td>2009</td>\n",
       "      <td>3</td>\n",
       "      <td>1521.51</td>\n",
       "      <td>721.51;800.0</td>\n",
       "      <td>PUB;PRI</td>\n",
       "      <td>2</td>\n",
       "      <td>0.4742;0.5258</td>\n",
       "      <td>3</td>\n",
       "      <td>1521.510833</td>\n",
       "      <td>...</td>\n",
       "      <td>218.0</td>\n",
       "      <td>-1</td>\n",
       "      <td>1129</td>\n",
       "      <td>0.0</td>\n",
       "      <td>0.0</td>\n",
       "      <td>0.0</td>\n",
       "      <td>3282.6475</td>\n",
       "      <td>3282.6475</td>\n",
       "      <td>NaN</td>\n",
       "      <td>1326.56</td>\n",
       "    </tr>\n",
       "    <tr>\n",
       "      <th>1130</th>\n",
       "      <td>397</td>\n",
       "      <td>2009</td>\n",
       "      <td>4</td>\n",
       "      <td>1521.51</td>\n",
       "      <td>721.51;800.0</td>\n",
       "      <td>PUB;PRI</td>\n",
       "      <td>2</td>\n",
       "      <td>0.4742;0.5258</td>\n",
       "      <td>3</td>\n",
       "      <td>1521.510833</td>\n",
       "      <td>...</td>\n",
       "      <td>218.0</td>\n",
       "      <td>-1</td>\n",
       "      <td>1130</td>\n",
       "      <td>0.0</td>\n",
       "      <td>0.0</td>\n",
       "      <td>0.0</td>\n",
       "      <td>3282.6475</td>\n",
       "      <td>3282.6475</td>\n",
       "      <td>NaN</td>\n",
       "      <td>1326.56</td>\n",
       "    </tr>\n",
       "    <tr>\n",
       "      <th>1131</th>\n",
       "      <td>397</td>\n",
       "      <td>2009</td>\n",
       "      <td>5</td>\n",
       "      <td>1521.51</td>\n",
       "      <td>721.51;800.0</td>\n",
       "      <td>PUB;PRI</td>\n",
       "      <td>2</td>\n",
       "      <td>0.4742;0.5258</td>\n",
       "      <td>3</td>\n",
       "      <td>1521.510833</td>\n",
       "      <td>...</td>\n",
       "      <td>218.0</td>\n",
       "      <td>-1</td>\n",
       "      <td>1131</td>\n",
       "      <td>0.0</td>\n",
       "      <td>0.0</td>\n",
       "      <td>0.0</td>\n",
       "      <td>3282.6475</td>\n",
       "      <td>3282.6475</td>\n",
       "      <td>NaN</td>\n",
       "      <td>1326.56</td>\n",
       "    </tr>\n",
       "    <tr>\n",
       "      <th>1132</th>\n",
       "      <td>397</td>\n",
       "      <td>2009</td>\n",
       "      <td>6</td>\n",
       "      <td>1521.51</td>\n",
       "      <td>800.0;721.51</td>\n",
       "      <td>PRI;PUB</td>\n",
       "      <td>2</td>\n",
       "      <td>0.5258;0.4742</td>\n",
       "      <td>3</td>\n",
       "      <td>1521.510833</td>\n",
       "      <td>...</td>\n",
       "      <td>218.0</td>\n",
       "      <td>-1</td>\n",
       "      <td>1132</td>\n",
       "      <td>0.0</td>\n",
       "      <td>0.0</td>\n",
       "      <td>0.0</td>\n",
       "      <td>3282.6475</td>\n",
       "      <td>3282.6475</td>\n",
       "      <td>NaN</td>\n",
       "      <td>1326.56</td>\n",
       "    </tr>\n",
       "    <tr>\n",
       "      <th>1133</th>\n",
       "      <td>397</td>\n",
       "      <td>2009</td>\n",
       "      <td>7</td>\n",
       "      <td>1521.51</td>\n",
       "      <td>800.0;721.51</td>\n",
       "      <td>PRI;PUB</td>\n",
       "      <td>2</td>\n",
       "      <td>0.5258;0.4742</td>\n",
       "      <td>3</td>\n",
       "      <td>1521.510833</td>\n",
       "      <td>...</td>\n",
       "      <td>218.0</td>\n",
       "      <td>-1</td>\n",
       "      <td>1133</td>\n",
       "      <td>0.0</td>\n",
       "      <td>0.0</td>\n",
       "      <td>0.0</td>\n",
       "      <td>3282.6475</td>\n",
       "      <td>3282.6475</td>\n",
       "      <td>NaN</td>\n",
       "      <td>1326.56</td>\n",
       "    </tr>\n",
       "    <tr>\n",
       "      <th>1134</th>\n",
       "      <td>397</td>\n",
       "      <td>2009</td>\n",
       "      <td>8</td>\n",
       "      <td>1521.51</td>\n",
       "      <td>800.0;721.51</td>\n",
       "      <td>PRI;PUB</td>\n",
       "      <td>2</td>\n",
       "      <td>0.5258;0.4742</td>\n",
       "      <td>3</td>\n",
       "      <td>1521.510833</td>\n",
       "      <td>...</td>\n",
       "      <td>218.0</td>\n",
       "      <td>-1</td>\n",
       "      <td>1134</td>\n",
       "      <td>0.0</td>\n",
       "      <td>0.0</td>\n",
       "      <td>0.0</td>\n",
       "      <td>3282.6475</td>\n",
       "      <td>3282.6475</td>\n",
       "      <td>NaN</td>\n",
       "      <td>1326.56</td>\n",
       "    </tr>\n",
       "    <tr>\n",
       "      <th>1135</th>\n",
       "      <td>397</td>\n",
       "      <td>2009</td>\n",
       "      <td>9</td>\n",
       "      <td>1521.51</td>\n",
       "      <td>800.0;721.51</td>\n",
       "      <td>PRI;PUB</td>\n",
       "      <td>2</td>\n",
       "      <td>0.5258;0.4742</td>\n",
       "      <td>3</td>\n",
       "      <td>1521.510833</td>\n",
       "      <td>...</td>\n",
       "      <td>218.0</td>\n",
       "      <td>-1</td>\n",
       "      <td>1135</td>\n",
       "      <td>0.0</td>\n",
       "      <td>0.0</td>\n",
       "      <td>0.0</td>\n",
       "      <td>3282.6475</td>\n",
       "      <td>3282.6475</td>\n",
       "      <td>NaN</td>\n",
       "      <td>1326.56</td>\n",
       "    </tr>\n",
       "    <tr>\n",
       "      <th>1136</th>\n",
       "      <td>397</td>\n",
       "      <td>2009</td>\n",
       "      <td>10</td>\n",
       "      <td>1521.51</td>\n",
       "      <td>721.51;800.0</td>\n",
       "      <td>PUB;PRI</td>\n",
       "      <td>2</td>\n",
       "      <td>0.4742;0.5258</td>\n",
       "      <td>3</td>\n",
       "      <td>1521.510833</td>\n",
       "      <td>...</td>\n",
       "      <td>218.0</td>\n",
       "      <td>-1</td>\n",
       "      <td>1136</td>\n",
       "      <td>0.0</td>\n",
       "      <td>0.0</td>\n",
       "      <td>0.0</td>\n",
       "      <td>3282.6475</td>\n",
       "      <td>3282.6475</td>\n",
       "      <td>NaN</td>\n",
       "      <td>1326.56</td>\n",
       "    </tr>\n",
       "    <tr>\n",
       "      <th>1137</th>\n",
       "      <td>397</td>\n",
       "      <td>2009</td>\n",
       "      <td>11</td>\n",
       "      <td>1521.51</td>\n",
       "      <td>721.51;800.0</td>\n",
       "      <td>PUB;PRI</td>\n",
       "      <td>2</td>\n",
       "      <td>0.4742;0.5258</td>\n",
       "      <td>3</td>\n",
       "      <td>1521.510833</td>\n",
       "      <td>...</td>\n",
       "      <td>218.0</td>\n",
       "      <td>-1</td>\n",
       "      <td>1137</td>\n",
       "      <td>0.0</td>\n",
       "      <td>0.0</td>\n",
       "      <td>0.0</td>\n",
       "      <td>3282.6475</td>\n",
       "      <td>3282.6475</td>\n",
       "      <td>NaN</td>\n",
       "      <td>1326.56</td>\n",
       "    </tr>\n",
       "    <tr>\n",
       "      <th>1138</th>\n",
       "      <td>397</td>\n",
       "      <td>2009</td>\n",
       "      <td>12</td>\n",
       "      <td>1521.51</td>\n",
       "      <td>721.51;800.0</td>\n",
       "      <td>PUB;PRI</td>\n",
       "      <td>2</td>\n",
       "      <td>0.4742;0.5258</td>\n",
       "      <td>3</td>\n",
       "      <td>1521.510833</td>\n",
       "      <td>...</td>\n",
       "      <td>218.0</td>\n",
       "      <td>-1</td>\n",
       "      <td>1138</td>\n",
       "      <td>0.0</td>\n",
       "      <td>0.0</td>\n",
       "      <td>0.0</td>\n",
       "      <td>3282.6475</td>\n",
       "      <td>3282.6475</td>\n",
       "      <td>NaN</td>\n",
       "      <td>1326.56</td>\n",
       "    </tr>\n",
       "    <tr>\n",
       "      <th>1139</th>\n",
       "      <td>397</td>\n",
       "      <td>2010</td>\n",
       "      <td>1</td>\n",
       "      <td>1521.51</td>\n",
       "      <td>721.51;800.0</td>\n",
       "      <td>PUB;PRI</td>\n",
       "      <td>2</td>\n",
       "      <td>0.4742;0.5258</td>\n",
       "      <td>3</td>\n",
       "      <td>1521.510833</td>\n",
       "      <td>...</td>\n",
       "      <td>240.0</td>\n",
       "      <td>-1</td>\n",
       "      <td>1139</td>\n",
       "      <td>0.0</td>\n",
       "      <td>0.0</td>\n",
       "      <td>0.0</td>\n",
       "      <td>3282.6475</td>\n",
       "      <td>3282.6475</td>\n",
       "      <td>NaN</td>\n",
       "      <td>1326.56</td>\n",
       "    </tr>\n",
       "    <tr>\n",
       "      <th>1140</th>\n",
       "      <td>397</td>\n",
       "      <td>2010</td>\n",
       "      <td>2</td>\n",
       "      <td>1521.51</td>\n",
       "      <td>721.51;800.0</td>\n",
       "      <td>PUB;PRI</td>\n",
       "      <td>2</td>\n",
       "      <td>0.4742;0.5258</td>\n",
       "      <td>2</td>\n",
       "      <td>1560.422500</td>\n",
       "      <td>...</td>\n",
       "      <td>240.0</td>\n",
       "      <td>-1</td>\n",
       "      <td>1140</td>\n",
       "      <td>0.0</td>\n",
       "      <td>0.0</td>\n",
       "      <td>0.0</td>\n",
       "      <td>3282.6475</td>\n",
       "      <td>3282.6475</td>\n",
       "      <td>NaN</td>\n",
       "      <td>1326.56</td>\n",
       "    </tr>\n",
       "    <tr>\n",
       "      <th>1141</th>\n",
       "      <td>397</td>\n",
       "      <td>2010</td>\n",
       "      <td>3</td>\n",
       "      <td>1563.96</td>\n",
       "      <td>763.96;800.0</td>\n",
       "      <td>PUB;PRI</td>\n",
       "      <td>2</td>\n",
       "      <td>0.4885;0.5115</td>\n",
       "      <td>2</td>\n",
       "      <td>1560.422500</td>\n",
       "      <td>...</td>\n",
       "      <td>240.0</td>\n",
       "      <td>-1</td>\n",
       "      <td>1141</td>\n",
       "      <td>0.0</td>\n",
       "      <td>0.0</td>\n",
       "      <td>0.0</td>\n",
       "      <td>3282.6475</td>\n",
       "      <td>3282.6475</td>\n",
       "      <td>NaN</td>\n",
       "      <td>1326.56</td>\n",
       "    </tr>\n",
       "    <tr>\n",
       "      <th>1142</th>\n",
       "      <td>397</td>\n",
       "      <td>2010</td>\n",
       "      <td>4</td>\n",
       "      <td>1563.96</td>\n",
       "      <td>800.0;763.96</td>\n",
       "      <td>PRI;PUB</td>\n",
       "      <td>2</td>\n",
       "      <td>0.5115;0.4885</td>\n",
       "      <td>2</td>\n",
       "      <td>1560.422500</td>\n",
       "      <td>...</td>\n",
       "      <td>240.0</td>\n",
       "      <td>-1</td>\n",
       "      <td>1142</td>\n",
       "      <td>0.0</td>\n",
       "      <td>0.0</td>\n",
       "      <td>0.0</td>\n",
       "      <td>3282.6475</td>\n",
       "      <td>3282.6475</td>\n",
       "      <td>NaN</td>\n",
       "      <td>1326.56</td>\n",
       "    </tr>\n",
       "    <tr>\n",
       "      <th>1143</th>\n",
       "      <td>397</td>\n",
       "      <td>2010</td>\n",
       "      <td>5</td>\n",
       "      <td>1563.96</td>\n",
       "      <td>800.0;763.96</td>\n",
       "      <td>PRI;PUB</td>\n",
       "      <td>2</td>\n",
       "      <td>0.5115;0.4885</td>\n",
       "      <td>2</td>\n",
       "      <td>1560.422500</td>\n",
       "      <td>...</td>\n",
       "      <td>240.0</td>\n",
       "      <td>-1</td>\n",
       "      <td>1143</td>\n",
       "      <td>0.0</td>\n",
       "      <td>0.0</td>\n",
       "      <td>0.0</td>\n",
       "      <td>3282.6475</td>\n",
       "      <td>3282.6475</td>\n",
       "      <td>NaN</td>\n",
       "      <td>1326.56</td>\n",
       "    </tr>\n",
       "    <tr>\n",
       "      <th>1144</th>\n",
       "      <td>397</td>\n",
       "      <td>2010</td>\n",
       "      <td>6</td>\n",
       "      <td>1563.96</td>\n",
       "      <td>763.96;800.0</td>\n",
       "      <td>PUB;PRI</td>\n",
       "      <td>2</td>\n",
       "      <td>0.4885;0.5115</td>\n",
       "      <td>2</td>\n",
       "      <td>1560.422500</td>\n",
       "      <td>...</td>\n",
       "      <td>240.0</td>\n",
       "      <td>-1</td>\n",
       "      <td>1144</td>\n",
       "      <td>0.0</td>\n",
       "      <td>0.0</td>\n",
       "      <td>0.0</td>\n",
       "      <td>3282.6475</td>\n",
       "      <td>3282.6475</td>\n",
       "      <td>NaN</td>\n",
       "      <td>1326.56</td>\n",
       "    </tr>\n",
       "    <tr>\n",
       "      <th>1145</th>\n",
       "      <td>397</td>\n",
       "      <td>2010</td>\n",
       "      <td>7</td>\n",
       "      <td>1563.96</td>\n",
       "      <td>800.0;763.96</td>\n",
       "      <td>PRI;PUB</td>\n",
       "      <td>2</td>\n",
       "      <td>0.5115;0.4885</td>\n",
       "      <td>2</td>\n",
       "      <td>1560.422500</td>\n",
       "      <td>...</td>\n",
       "      <td>240.0</td>\n",
       "      <td>-1</td>\n",
       "      <td>1145</td>\n",
       "      <td>0.0</td>\n",
       "      <td>0.0</td>\n",
       "      <td>0.0</td>\n",
       "      <td>3282.6475</td>\n",
       "      <td>3282.6475</td>\n",
       "      <td>NaN</td>\n",
       "      <td>1326.56</td>\n",
       "    </tr>\n",
       "    <tr>\n",
       "      <th>1146</th>\n",
       "      <td>397</td>\n",
       "      <td>2010</td>\n",
       "      <td>8</td>\n",
       "      <td>1563.96</td>\n",
       "      <td>800.0;763.96</td>\n",
       "      <td>PRI;PUB</td>\n",
       "      <td>2</td>\n",
       "      <td>0.5115;0.4885</td>\n",
       "      <td>2</td>\n",
       "      <td>1560.422500</td>\n",
       "      <td>...</td>\n",
       "      <td>240.0</td>\n",
       "      <td>-1</td>\n",
       "      <td>1146</td>\n",
       "      <td>0.0</td>\n",
       "      <td>0.0</td>\n",
       "      <td>0.0</td>\n",
       "      <td>3282.6475</td>\n",
       "      <td>3282.6475</td>\n",
       "      <td>NaN</td>\n",
       "      <td>1326.56</td>\n",
       "    </tr>\n",
       "    <tr>\n",
       "      <th>1147</th>\n",
       "      <td>397</td>\n",
       "      <td>2010</td>\n",
       "      <td>9</td>\n",
       "      <td>1563.96</td>\n",
       "      <td>800.0;763.96</td>\n",
       "      <td>PRI;PUB</td>\n",
       "      <td>2</td>\n",
       "      <td>0.5115;0.4885</td>\n",
       "      <td>2</td>\n",
       "      <td>1560.422500</td>\n",
       "      <td>...</td>\n",
       "      <td>240.0</td>\n",
       "      <td>-1</td>\n",
       "      <td>1147</td>\n",
       "      <td>0.0</td>\n",
       "      <td>0.0</td>\n",
       "      <td>0.0</td>\n",
       "      <td>3282.6475</td>\n",
       "      <td>3282.6475</td>\n",
       "      <td>NaN</td>\n",
       "      <td>1326.56</td>\n",
       "    </tr>\n",
       "    <tr>\n",
       "      <th>1148</th>\n",
       "      <td>397</td>\n",
       "      <td>2010</td>\n",
       "      <td>10</td>\n",
       "      <td>1563.96</td>\n",
       "      <td>800.0;763.96</td>\n",
       "      <td>PRI;PUB</td>\n",
       "      <td>2</td>\n",
       "      <td>0.5115;0.4885</td>\n",
       "      <td>2</td>\n",
       "      <td>1560.422500</td>\n",
       "      <td>...</td>\n",
       "      <td>240.0</td>\n",
       "      <td>-1</td>\n",
       "      <td>1148</td>\n",
       "      <td>0.0</td>\n",
       "      <td>0.0</td>\n",
       "      <td>0.0</td>\n",
       "      <td>3282.6475</td>\n",
       "      <td>3282.6475</td>\n",
       "      <td>NaN</td>\n",
       "      <td>1326.56</td>\n",
       "    </tr>\n",
       "    <tr>\n",
       "      <th>1149</th>\n",
       "      <td>397</td>\n",
       "      <td>2010</td>\n",
       "      <td>11</td>\n",
       "      <td>1563.96</td>\n",
       "      <td>763.96;800.0</td>\n",
       "      <td>PUB;PRI</td>\n",
       "      <td>2</td>\n",
       "      <td>0.4885;0.5115</td>\n",
       "      <td>2</td>\n",
       "      <td>1560.422500</td>\n",
       "      <td>...</td>\n",
       "      <td>240.0</td>\n",
       "      <td>-1</td>\n",
       "      <td>1149</td>\n",
       "      <td>0.0</td>\n",
       "      <td>0.0</td>\n",
       "      <td>0.0</td>\n",
       "      <td>3282.6475</td>\n",
       "      <td>3282.6475</td>\n",
       "      <td>NaN</td>\n",
       "      <td>1326.56</td>\n",
       "    </tr>\n",
       "    <tr>\n",
       "      <th>1150</th>\n",
       "      <td>397</td>\n",
       "      <td>2010</td>\n",
       "      <td>12</td>\n",
       "      <td>1563.96</td>\n",
       "      <td>763.96;800.0</td>\n",
       "      <td>PUB;PRI</td>\n",
       "      <td>2</td>\n",
       "      <td>0.4885;0.5115</td>\n",
       "      <td>2</td>\n",
       "      <td>1560.422500</td>\n",
       "      <td>...</td>\n",
       "      <td>240.0</td>\n",
       "      <td>-1</td>\n",
       "      <td>1150</td>\n",
       "      <td>0.0</td>\n",
       "      <td>0.0</td>\n",
       "      <td>0.0</td>\n",
       "      <td>3282.6475</td>\n",
       "      <td>3282.6475</td>\n",
       "      <td>NaN</td>\n",
       "      <td>1326.56</td>\n",
       "    </tr>\n",
       "    <tr>\n",
       "      <th>1151</th>\n",
       "      <td>397</td>\n",
       "      <td>2011</td>\n",
       "      <td>1</td>\n",
       "      <td>1563.96</td>\n",
       "      <td>763.96;800.0</td>\n",
       "      <td>PUB;PRI</td>\n",
       "      <td>2</td>\n",
       "      <td>0.4885;0.5115</td>\n",
       "      <td>2</td>\n",
       "      <td>1560.422500</td>\n",
       "      <td>...</td>\n",
       "      <td>264.0</td>\n",
       "      <td>-1</td>\n",
       "      <td>1151</td>\n",
       "      <td>0.0</td>\n",
       "      <td>0.0</td>\n",
       "      <td>0.0</td>\n",
       "      <td>3282.6475</td>\n",
       "      <td>3282.6475</td>\n",
       "      <td>NaN</td>\n",
       "      <td>1326.56</td>\n",
       "    </tr>\n",
       "    <tr>\n",
       "      <th>1152</th>\n",
       "      <td>397</td>\n",
       "      <td>2011</td>\n",
       "      <td>2</td>\n",
       "      <td>1763.96</td>\n",
       "      <td>1000.0;763.96</td>\n",
       "      <td>PRI;PUB</td>\n",
       "      <td>2</td>\n",
       "      <td>0.5669;0.4331</td>\n",
       "      <td>1</td>\n",
       "      <td>2459.493333</td>\n",
       "      <td>...</td>\n",
       "      <td>264.0</td>\n",
       "      <td>-1</td>\n",
       "      <td>1152</td>\n",
       "      <td>0.0</td>\n",
       "      <td>0.0</td>\n",
       "      <td>0.0</td>\n",
       "      <td>3282.6475</td>\n",
       "      <td>3282.6475</td>\n",
       "      <td>NaN</td>\n",
       "      <td>1326.56</td>\n",
       "    </tr>\n",
       "    <tr>\n",
       "      <th>1153</th>\n",
       "      <td>397</td>\n",
       "      <td>2011</td>\n",
       "      <td>3</td>\n",
       "      <td>1763.96</td>\n",
       "      <td>763.96;1000.0</td>\n",
       "      <td>PUB;PRI</td>\n",
       "      <td>2</td>\n",
       "      <td>0.4331;0.5669</td>\n",
       "      <td>1</td>\n",
       "      <td>2459.493333</td>\n",
       "      <td>...</td>\n",
       "      <td>264.0</td>\n",
       "      <td>-1</td>\n",
       "      <td>1153</td>\n",
       "      <td>0.0</td>\n",
       "      <td>0.0</td>\n",
       "      <td>0.0</td>\n",
       "      <td>3282.6475</td>\n",
       "      <td>3282.6475</td>\n",
       "      <td>NaN</td>\n",
       "      <td>1326.56</td>\n",
       "    </tr>\n",
       "    <tr>\n",
       "      <th>1154</th>\n",
       "      <td>397</td>\n",
       "      <td>2011</td>\n",
       "      <td>4</td>\n",
       "      <td>2590.00</td>\n",
       "      <td>1590.0;1000.0</td>\n",
       "      <td>PUB;PRI</td>\n",
       "      <td>2</td>\n",
       "      <td>0.6139;0.3861</td>\n",
       "      <td>1</td>\n",
       "      <td>2459.493333</td>\n",
       "      <td>...</td>\n",
       "      <td>264.0</td>\n",
       "      <td>-1</td>\n",
       "      <td>1154</td>\n",
       "      <td>1.0</td>\n",
       "      <td>1.0</td>\n",
       "      <td>1.0</td>\n",
       "      <td>3282.6475</td>\n",
       "      <td>3282.6475</td>\n",
       "      <td>NaN</td>\n",
       "      <td>1326.56</td>\n",
       "    </tr>\n",
       "    <tr>\n",
       "      <th>1155</th>\n",
       "      <td>397</td>\n",
       "      <td>2011</td>\n",
       "      <td>5</td>\n",
       "      <td>2590.00</td>\n",
       "      <td>1590.0;1000.0</td>\n",
       "      <td>PUB;PRI</td>\n",
       "      <td>2</td>\n",
       "      <td>0.6139;0.3861</td>\n",
       "      <td>1</td>\n",
       "      <td>2459.493333</td>\n",
       "      <td>...</td>\n",
       "      <td>264.0</td>\n",
       "      <td>-1</td>\n",
       "      <td>1155</td>\n",
       "      <td>1.0</td>\n",
       "      <td>1.0</td>\n",
       "      <td>1.0</td>\n",
       "      <td>3282.6475</td>\n",
       "      <td>3282.6475</td>\n",
       "      <td>NaN</td>\n",
       "      <td>1326.56</td>\n",
       "    </tr>\n",
       "    <tr>\n",
       "      <th>1156</th>\n",
       "      <td>397</td>\n",
       "      <td>2011</td>\n",
       "      <td>6</td>\n",
       "      <td>2590.00</td>\n",
       "      <td>1590.0;1000.0</td>\n",
       "      <td>PUB;PRI</td>\n",
       "      <td>2</td>\n",
       "      <td>0.6139;0.3861</td>\n",
       "      <td>1</td>\n",
       "      <td>2459.493333</td>\n",
       "      <td>...</td>\n",
       "      <td>264.0</td>\n",
       "      <td>-1</td>\n",
       "      <td>1156</td>\n",
       "      <td>1.0</td>\n",
       "      <td>1.0</td>\n",
       "      <td>1.0</td>\n",
       "      <td>3282.6475</td>\n",
       "      <td>3282.6475</td>\n",
       "      <td>NaN</td>\n",
       "      <td>1326.56</td>\n",
       "    </tr>\n",
       "    <tr>\n",
       "      <th>1157</th>\n",
       "      <td>397</td>\n",
       "      <td>2011</td>\n",
       "      <td>7</td>\n",
       "      <td>2590.00</td>\n",
       "      <td>1590.0;1000.0</td>\n",
       "      <td>PUB;PRI</td>\n",
       "      <td>2</td>\n",
       "      <td>0.6139;0.3861</td>\n",
       "      <td>1</td>\n",
       "      <td>2459.493333</td>\n",
       "      <td>...</td>\n",
       "      <td>264.0</td>\n",
       "      <td>-1</td>\n",
       "      <td>1157</td>\n",
       "      <td>1.0</td>\n",
       "      <td>1.0</td>\n",
       "      <td>1.0</td>\n",
       "      <td>3282.6475</td>\n",
       "      <td>3282.6475</td>\n",
       "      <td>NaN</td>\n",
       "      <td>1326.56</td>\n",
       "    </tr>\n",
       "    <tr>\n",
       "      <th>1158</th>\n",
       "      <td>397</td>\n",
       "      <td>2011</td>\n",
       "      <td>8</td>\n",
       "      <td>2590.00</td>\n",
       "      <td>1000.0;1590.0</td>\n",
       "      <td>PRI;PUB</td>\n",
       "      <td>2</td>\n",
       "      <td>0.3861;0.6139</td>\n",
       "      <td>1</td>\n",
       "      <td>2459.493333</td>\n",
       "      <td>...</td>\n",
       "      <td>264.0</td>\n",
       "      <td>-1</td>\n",
       "      <td>1158</td>\n",
       "      <td>1.0</td>\n",
       "      <td>1.0</td>\n",
       "      <td>1.0</td>\n",
       "      <td>3282.6475</td>\n",
       "      <td>3282.6475</td>\n",
       "      <td>NaN</td>\n",
       "      <td>1326.56</td>\n",
       "    </tr>\n",
       "    <tr>\n",
       "      <th>1159</th>\n",
       "      <td>397</td>\n",
       "      <td>2011</td>\n",
       "      <td>9</td>\n",
       "      <td>2590.00</td>\n",
       "      <td>1000.0;1590.0</td>\n",
       "      <td>PRI;PUB</td>\n",
       "      <td>2</td>\n",
       "      <td>0.3861;0.6139</td>\n",
       "      <td>1</td>\n",
       "      <td>2459.493333</td>\n",
       "      <td>...</td>\n",
       "      <td>264.0</td>\n",
       "      <td>-1</td>\n",
       "      <td>1159</td>\n",
       "      <td>1.0</td>\n",
       "      <td>1.0</td>\n",
       "      <td>1.0</td>\n",
       "      <td>3282.6475</td>\n",
       "      <td>3282.6475</td>\n",
       "      <td>NaN</td>\n",
       "      <td>1326.56</td>\n",
       "    </tr>\n",
       "    <tr>\n",
       "      <th>1160</th>\n",
       "      <td>397</td>\n",
       "      <td>2011</td>\n",
       "      <td>10</td>\n",
       "      <td>2590.00</td>\n",
       "      <td>1590.0;1000.0</td>\n",
       "      <td>PUB;PRI</td>\n",
       "      <td>2</td>\n",
       "      <td>0.6139;0.3861</td>\n",
       "      <td>1</td>\n",
       "      <td>2459.493333</td>\n",
       "      <td>...</td>\n",
       "      <td>264.0</td>\n",
       "      <td>-1</td>\n",
       "      <td>1160</td>\n",
       "      <td>1.0</td>\n",
       "      <td>1.0</td>\n",
       "      <td>1.0</td>\n",
       "      <td>3282.6475</td>\n",
       "      <td>3282.6475</td>\n",
       "      <td>NaN</td>\n",
       "      <td>1326.56</td>\n",
       "    </tr>\n",
       "    <tr>\n",
       "      <th>1161</th>\n",
       "      <td>397</td>\n",
       "      <td>2011</td>\n",
       "      <td>11</td>\n",
       "      <td>2590.00</td>\n",
       "      <td>1590.0;1000.0</td>\n",
       "      <td>PUB;PRI</td>\n",
       "      <td>2</td>\n",
       "      <td>0.6139;0.3861</td>\n",
       "      <td>1</td>\n",
       "      <td>2459.493333</td>\n",
       "      <td>...</td>\n",
       "      <td>264.0</td>\n",
       "      <td>-1</td>\n",
       "      <td>1161</td>\n",
       "      <td>1.0</td>\n",
       "      <td>1.0</td>\n",
       "      <td>1.0</td>\n",
       "      <td>3282.6475</td>\n",
       "      <td>3282.6475</td>\n",
       "      <td>NaN</td>\n",
       "      <td>1326.56</td>\n",
       "    </tr>\n",
       "    <tr>\n",
       "      <th>1162</th>\n",
       "      <td>397</td>\n",
       "      <td>2011</td>\n",
       "      <td>12</td>\n",
       "      <td>2590.00</td>\n",
       "      <td>1590.0;1000.0</td>\n",
       "      <td>PUB;PRI</td>\n",
       "      <td>2</td>\n",
       "      <td>0.6139;0.3861</td>\n",
       "      <td>1</td>\n",
       "      <td>2459.493333</td>\n",
       "      <td>...</td>\n",
       "      <td>264.0</td>\n",
       "      <td>-1</td>\n",
       "      <td>1162</td>\n",
       "      <td>1.0</td>\n",
       "      <td>1.0</td>\n",
       "      <td>1.0</td>\n",
       "      <td>3282.6475</td>\n",
       "      <td>3282.6475</td>\n",
       "      <td>NaN</td>\n",
       "      <td>1326.56</td>\n",
       "    </tr>\n",
       "    <tr>\n",
       "      <th>1163</th>\n",
       "      <td>397</td>\n",
       "      <td>2012</td>\n",
       "      <td>1</td>\n",
       "      <td>2676.00</td>\n",
       "      <td>1000.0;1676.0</td>\n",
       "      <td>PRI;PUB</td>\n",
       "      <td>2</td>\n",
       "      <td>0.3737;0.6263</td>\n",
       "      <td>1</td>\n",
       "      <td>2459.493333</td>\n",
       "      <td>...</td>\n",
       "      <td>292.0</td>\n",
       "      <td>-1</td>\n",
       "      <td>1163</td>\n",
       "      <td>1.0</td>\n",
       "      <td>1.0</td>\n",
       "      <td>1.0</td>\n",
       "      <td>3282.6475</td>\n",
       "      <td>3282.6475</td>\n",
       "      <td>NaN</td>\n",
       "      <td>1326.56</td>\n",
       "    </tr>\n",
       "  </tbody>\n",
       "</table>\n",
       "<p>60 rows × 24 columns</p>\n",
       "</div>"
      ],
      "text/plain": [
       "      CEDULA_COD  ANIO  MES  SALARIO SALARIO_SECTOR SECTOR_A  NUM_SEC_MES  \\\n",
       "1104         397  2007    2   448.96         448.96      PUB            1   \n",
       "1105         397  2007    3   448.96         448.96      PUB            1   \n",
       "1106         397  2007    4   448.96         448.96      PUB            1   \n",
       "1107         397  2007    5   448.96         448.96      PUB            1   \n",
       "1108         397  2007    6   448.96         448.96      PUB            1   \n",
       "1109         397  2007    7   488.94         488.94      PUB            1   \n",
       "1110         397  2007    8   488.94         488.94      PUB            1   \n",
       "1111         397  2007    9   728.81         728.81      PUB            1   \n",
       "1112         397  2007   10   543.27         543.27      PUB            1   \n",
       "1113         397  2007   11   543.27         543.27      PUB            1   \n",
       "1114         397  2007   12   543.27         543.27      PUB            1   \n",
       "1115         397  2008    1   543.27         543.27      PUB            1   \n",
       "1116         397  2008    2   543.27         543.27      PUB            1   \n",
       "1117         397  2008    3  1411.19   800.0;611.19  PRI;PUB            2   \n",
       "1118         397  2008    4  1547.03   800.0;747.03  PRI;PUB            2   \n",
       "1119         397  2008    5  1411.19   611.19;800.0  PUB;PRI            2   \n",
       "1120         397  2008    6  1411.19   800.0;611.19  PRI;PUB            2   \n",
       "1121         397  2008    7  1411.19   800.0;611.19  PRI;PUB            2   \n",
       "1122         397  2008    8  1449.39   800.0;649.39  PRI;PUB            2   \n",
       "1123         397  2008    9  1449.39   649.39;800.0  PUB;PRI            2   \n",
       "1124         397  2008   10  1449.39   800.0;649.39  PRI;PUB            2   \n",
       "1125         397  2008   11  1449.39   800.0;649.39  PRI;PUB            2   \n",
       "1126         397  2008   12  1449.39   649.39;800.0  PUB;PRI            2   \n",
       "1127         397  2009    1  1521.52   800.0;721.52  PRI;PUB            2   \n",
       "1128         397  2009    2  1521.52   800.0;721.52  PRI;PUB            2   \n",
       "1129         397  2009    3  1521.51   721.51;800.0  PUB;PRI            2   \n",
       "1130         397  2009    4  1521.51   721.51;800.0  PUB;PRI            2   \n",
       "1131         397  2009    5  1521.51   721.51;800.0  PUB;PRI            2   \n",
       "1132         397  2009    6  1521.51   800.0;721.51  PRI;PUB            2   \n",
       "1133         397  2009    7  1521.51   800.0;721.51  PRI;PUB            2   \n",
       "1134         397  2009    8  1521.51   800.0;721.51  PRI;PUB            2   \n",
       "1135         397  2009    9  1521.51   800.0;721.51  PRI;PUB            2   \n",
       "1136         397  2009   10  1521.51   721.51;800.0  PUB;PRI            2   \n",
       "1137         397  2009   11  1521.51   721.51;800.0  PUB;PRI            2   \n",
       "1138         397  2009   12  1521.51   721.51;800.0  PUB;PRI            2   \n",
       "1139         397  2010    1  1521.51   721.51;800.0  PUB;PRI            2   \n",
       "1140         397  2010    2  1521.51   721.51;800.0  PUB;PRI            2   \n",
       "1141         397  2010    3  1563.96   763.96;800.0  PUB;PRI            2   \n",
       "1142         397  2010    4  1563.96   800.0;763.96  PRI;PUB            2   \n",
       "1143         397  2010    5  1563.96   800.0;763.96  PRI;PUB            2   \n",
       "1144         397  2010    6  1563.96   763.96;800.0  PUB;PRI            2   \n",
       "1145         397  2010    7  1563.96   800.0;763.96  PRI;PUB            2   \n",
       "1146         397  2010    8  1563.96   800.0;763.96  PRI;PUB            2   \n",
       "1147         397  2010    9  1563.96   800.0;763.96  PRI;PUB            2   \n",
       "1148         397  2010   10  1563.96   800.0;763.96  PRI;PUB            2   \n",
       "1149         397  2010   11  1563.96   763.96;800.0  PUB;PRI            2   \n",
       "1150         397  2010   12  1563.96   763.96;800.0  PUB;PRI            2   \n",
       "1151         397  2011    1  1563.96   763.96;800.0  PUB;PRI            2   \n",
       "1152         397  2011    2  1763.96  1000.0;763.96  PRI;PUB            2   \n",
       "1153         397  2011    3  1763.96  763.96;1000.0  PUB;PRI            2   \n",
       "1154         397  2011    4  2590.00  1590.0;1000.0  PUB;PRI            2   \n",
       "1155         397  2011    5  2590.00  1590.0;1000.0  PUB;PRI            2   \n",
       "1156         397  2011    6  2590.00  1590.0;1000.0  PUB;PRI            2   \n",
       "1157         397  2011    7  2590.00  1590.0;1000.0  PUB;PRI            2   \n",
       "1158         397  2011    8  2590.00  1000.0;1590.0  PRI;PUB            2   \n",
       "1159         397  2011    9  2590.00  1000.0;1590.0  PRI;PUB            2   \n",
       "1160         397  2011   10  2590.00  1590.0;1000.0  PUB;PRI            2   \n",
       "1161         397  2011   11  2590.00  1590.0;1000.0  PUB;PRI            2   \n",
       "1162         397  2011   12  2590.00  1590.0;1000.0  PUB;PRI            2   \n",
       "1163         397  2012    1  2676.00  1000.0;1676.0  PRI;PUB            2   \n",
       "\n",
       "       %_NUM_SECTOR  GRUPO  SAL_PROM_GRUPO  ...    SBU ID_SBU INDICE  \\\n",
       "1104              1      5      510.380833  ...  170.0     -1   1104   \n",
       "1105              1      5      510.380833  ...  170.0     -1   1105   \n",
       "1106              1      5      510.380833  ...  170.0     -1   1106   \n",
       "1107              1      5      510.380833  ...  170.0     -1   1107   \n",
       "1108              1      5      510.380833  ...  170.0     -1   1108   \n",
       "1109              1      5      510.380833  ...  170.0     -1   1109   \n",
       "1110              1      5      510.380833  ...  170.0     -1   1110   \n",
       "1111              1      5      510.380833  ...  170.0     -1   1111   \n",
       "1112              1      5      510.380833  ...  170.0     -1   1112   \n",
       "1113              1      5      510.380833  ...  170.0     -1   1113   \n",
       "1114              1      5      510.380833  ...  170.0     -1   1114   \n",
       "1115              1      5      510.380833  ...  200.0     -1   1115   \n",
       "1116              1      4     1375.294167  ...  200.0     -1   1116   \n",
       "1117  0.5669;0.4331      4     1375.294167  ...  200.0     -1   1117   \n",
       "1118  0.5171;0.4829      4     1375.294167  ...  200.0     -1   1118   \n",
       "1119  0.4331;0.5669      4     1375.294167  ...  200.0     -1   1119   \n",
       "1120  0.5669;0.4331      4     1375.294167  ...  200.0     -1   1120   \n",
       "1121  0.5669;0.4331      4     1375.294167  ...  200.0     -1   1121   \n",
       "1122    0.552;0.448      4     1375.294167  ...  200.0     -1   1122   \n",
       "1123    0.448;0.552      4     1375.294167  ...  200.0     -1   1123   \n",
       "1124    0.552;0.448      4     1375.294167  ...  200.0     -1   1124   \n",
       "1125    0.552;0.448      4     1375.294167  ...  200.0     -1   1125   \n",
       "1126    0.448;0.552      4     1375.294167  ...  200.0     -1   1126   \n",
       "1127  0.5258;0.4742      4     1375.294167  ...  218.0     -1   1127   \n",
       "1128  0.5258;0.4742      3     1521.510833  ...  218.0     -1   1128   \n",
       "1129  0.4742;0.5258      3     1521.510833  ...  218.0     -1   1129   \n",
       "1130  0.4742;0.5258      3     1521.510833  ...  218.0     -1   1130   \n",
       "1131  0.4742;0.5258      3     1521.510833  ...  218.0     -1   1131   \n",
       "1132  0.5258;0.4742      3     1521.510833  ...  218.0     -1   1132   \n",
       "1133  0.5258;0.4742      3     1521.510833  ...  218.0     -1   1133   \n",
       "1134  0.5258;0.4742      3     1521.510833  ...  218.0     -1   1134   \n",
       "1135  0.5258;0.4742      3     1521.510833  ...  218.0     -1   1135   \n",
       "1136  0.4742;0.5258      3     1521.510833  ...  218.0     -1   1136   \n",
       "1137  0.4742;0.5258      3     1521.510833  ...  218.0     -1   1137   \n",
       "1138  0.4742;0.5258      3     1521.510833  ...  218.0     -1   1138   \n",
       "1139  0.4742;0.5258      3     1521.510833  ...  240.0     -1   1139   \n",
       "1140  0.4742;0.5258      2     1560.422500  ...  240.0     -1   1140   \n",
       "1141  0.4885;0.5115      2     1560.422500  ...  240.0     -1   1141   \n",
       "1142  0.5115;0.4885      2     1560.422500  ...  240.0     -1   1142   \n",
       "1143  0.5115;0.4885      2     1560.422500  ...  240.0     -1   1143   \n",
       "1144  0.4885;0.5115      2     1560.422500  ...  240.0     -1   1144   \n",
       "1145  0.5115;0.4885      2     1560.422500  ...  240.0     -1   1145   \n",
       "1146  0.5115;0.4885      2     1560.422500  ...  240.0     -1   1146   \n",
       "1147  0.5115;0.4885      2     1560.422500  ...  240.0     -1   1147   \n",
       "1148  0.5115;0.4885      2     1560.422500  ...  240.0     -1   1148   \n",
       "1149  0.4885;0.5115      2     1560.422500  ...  240.0     -1   1149   \n",
       "1150  0.4885;0.5115      2     1560.422500  ...  240.0     -1   1150   \n",
       "1151  0.4885;0.5115      2     1560.422500  ...  264.0     -1   1151   \n",
       "1152  0.5669;0.4331      1     2459.493333  ...  264.0     -1   1152   \n",
       "1153  0.4331;0.5669      1     2459.493333  ...  264.0     -1   1153   \n",
       "1154  0.6139;0.3861      1     2459.493333  ...  264.0     -1   1154   \n",
       "1155  0.6139;0.3861      1     2459.493333  ...  264.0     -1   1155   \n",
       "1156  0.6139;0.3861      1     2459.493333  ...  264.0     -1   1156   \n",
       "1157  0.6139;0.3861      1     2459.493333  ...  264.0     -1   1157   \n",
       "1158  0.3861;0.6139      1     2459.493333  ...  264.0     -1   1158   \n",
       "1159  0.3861;0.6139      1     2459.493333  ...  264.0     -1   1159   \n",
       "1160  0.6139;0.3861      1     2459.493333  ...  264.0     -1   1160   \n",
       "1161  0.6139;0.3861      1     2459.493333  ...  264.0     -1   1161   \n",
       "1162  0.6139;0.3861      1     2459.493333  ...  264.0     -1   1162   \n",
       "1163  0.3737;0.6263      1     2459.493333  ...  292.0     -1   1163   \n",
       "\n",
       "      ATI_CJ_M1  ATI_CJ_M2  ATI_CJ_M3        LS1        LS2  LS3      LS4  \n",
       "1104        0.0        0.0        0.0  3282.6475  3282.6475  NaN  1326.56  \n",
       "1105        0.0        0.0        0.0  3282.6475  3282.6475  NaN  1326.56  \n",
       "1106        0.0        0.0        0.0  3282.6475  3282.6475  NaN  1326.56  \n",
       "1107        0.0        0.0        0.0  3282.6475  3282.6475  NaN  1326.56  \n",
       "1108        0.0        0.0        0.0  3282.6475  3282.6475  NaN  1326.56  \n",
       "1109        0.0        0.0        0.0  3282.6475  3282.6475  NaN  1326.56  \n",
       "1110        0.0        0.0        0.0  3282.6475  3282.6475  NaN  1326.56  \n",
       "1111        0.0        0.0        0.0  3282.6475  3282.6475  NaN  1326.56  \n",
       "1112        0.0        0.0        0.0  3282.6475  3282.6475  NaN  1326.56  \n",
       "1113        0.0        0.0        0.0  3282.6475  3282.6475  NaN  1326.56  \n",
       "1114        0.0        0.0        0.0  3282.6475  3282.6475  NaN  1326.56  \n",
       "1115        0.0        0.0        0.0  3282.6475  3282.6475  NaN  1326.56  \n",
       "1116        0.0        0.0        0.0  3282.6475  3282.6475  NaN  1326.56  \n",
       "1117        0.0        0.0        0.0  3282.6475  3282.6475  NaN  1326.56  \n",
       "1118        0.0        0.0        0.0  3282.6475  3282.6475  NaN  1326.56  \n",
       "1119        0.0        0.0        0.0  3282.6475  3282.6475  NaN  1326.56  \n",
       "1120        0.0        0.0        0.0  3282.6475  3282.6475  NaN  1326.56  \n",
       "1121        0.0        0.0        0.0  3282.6475  3282.6475  NaN  1326.56  \n",
       "1122        0.0        0.0        0.0  3282.6475  3282.6475  NaN  1326.56  \n",
       "1123        0.0        0.0        0.0  3282.6475  3282.6475  NaN  1326.56  \n",
       "1124        0.0        0.0        0.0  3282.6475  3282.6475  NaN  1326.56  \n",
       "1125        0.0        0.0        0.0  3282.6475  3282.6475  NaN  1326.56  \n",
       "1126        0.0        0.0        0.0  3282.6475  3282.6475  NaN  1326.56  \n",
       "1127        0.0        0.0        0.0  3282.6475  3282.6475  NaN  1326.56  \n",
       "1128        0.0        0.0        0.0  3282.6475  3282.6475  NaN  1326.56  \n",
       "1129        0.0        0.0        0.0  3282.6475  3282.6475  NaN  1326.56  \n",
       "1130        0.0        0.0        0.0  3282.6475  3282.6475  NaN  1326.56  \n",
       "1131        0.0        0.0        0.0  3282.6475  3282.6475  NaN  1326.56  \n",
       "1132        0.0        0.0        0.0  3282.6475  3282.6475  NaN  1326.56  \n",
       "1133        0.0        0.0        0.0  3282.6475  3282.6475  NaN  1326.56  \n",
       "1134        0.0        0.0        0.0  3282.6475  3282.6475  NaN  1326.56  \n",
       "1135        0.0        0.0        0.0  3282.6475  3282.6475  NaN  1326.56  \n",
       "1136        0.0        0.0        0.0  3282.6475  3282.6475  NaN  1326.56  \n",
       "1137        0.0        0.0        0.0  3282.6475  3282.6475  NaN  1326.56  \n",
       "1138        0.0        0.0        0.0  3282.6475  3282.6475  NaN  1326.56  \n",
       "1139        0.0        0.0        0.0  3282.6475  3282.6475  NaN  1326.56  \n",
       "1140        0.0        0.0        0.0  3282.6475  3282.6475  NaN  1326.56  \n",
       "1141        0.0        0.0        0.0  3282.6475  3282.6475  NaN  1326.56  \n",
       "1142        0.0        0.0        0.0  3282.6475  3282.6475  NaN  1326.56  \n",
       "1143        0.0        0.0        0.0  3282.6475  3282.6475  NaN  1326.56  \n",
       "1144        0.0        0.0        0.0  3282.6475  3282.6475  NaN  1326.56  \n",
       "1145        0.0        0.0        0.0  3282.6475  3282.6475  NaN  1326.56  \n",
       "1146        0.0        0.0        0.0  3282.6475  3282.6475  NaN  1326.56  \n",
       "1147        0.0        0.0        0.0  3282.6475  3282.6475  NaN  1326.56  \n",
       "1148        0.0        0.0        0.0  3282.6475  3282.6475  NaN  1326.56  \n",
       "1149        0.0        0.0        0.0  3282.6475  3282.6475  NaN  1326.56  \n",
       "1150        0.0        0.0        0.0  3282.6475  3282.6475  NaN  1326.56  \n",
       "1151        0.0        0.0        0.0  3282.6475  3282.6475  NaN  1326.56  \n",
       "1152        0.0        0.0        0.0  3282.6475  3282.6475  NaN  1326.56  \n",
       "1153        0.0        0.0        0.0  3282.6475  3282.6475  NaN  1326.56  \n",
       "1154        1.0        1.0        1.0  3282.6475  3282.6475  NaN  1326.56  \n",
       "1155        1.0        1.0        1.0  3282.6475  3282.6475  NaN  1326.56  \n",
       "1156        1.0        1.0        1.0  3282.6475  3282.6475  NaN  1326.56  \n",
       "1157        1.0        1.0        1.0  3282.6475  3282.6475  NaN  1326.56  \n",
       "1158        1.0        1.0        1.0  3282.6475  3282.6475  NaN  1326.56  \n",
       "1159        1.0        1.0        1.0  3282.6475  3282.6475  NaN  1326.56  \n",
       "1160        1.0        1.0        1.0  3282.6475  3282.6475  NaN  1326.56  \n",
       "1161        1.0        1.0        1.0  3282.6475  3282.6475  NaN  1326.56  \n",
       "1162        1.0        1.0        1.0  3282.6475  3282.6475  NaN  1326.56  \n",
       "1163        1.0        1.0        1.0  3282.6475  3282.6475  NaN  1326.56  \n",
       "\n",
       "[60 rows x 24 columns]"
      ]
     },
     "execution_count": 7,
     "metadata": {},
     "output_type": "execute_result"
    }
   ],
   "source": [
    "data_l[ (data_l['GRUPO_SEL']==1) & (data_l['CEDULA_COD']==397)]"
   ]
  },
  {
   "cell_type": "code",
   "execution_count": null,
   "id": "c5234c9d",
   "metadata": {
    "ExecuteTime": {
     "end_time": "2024-07-29T21:47:21.104482Z",
     "start_time": "2024-07-29T21:47:21.104482Z"
    }
   },
   "outputs": [],
   "source": [
    "del ul, ml\n",
    "gc.collect()"
   ]
  },
  {
   "cell_type": "code",
   "execution_count": 11,
   "id": "9d6c5b48",
   "metadata": {
    "ExecuteTime": {
     "end_time": "2024-07-29T21:17:47.901404Z",
     "start_time": "2024-07-29T21:17:30.842769Z"
    }
   },
   "outputs": [
    {
     "data": {
      "image/png": "[encoded data removed]",
      "text/plain": [
       "<Figure size 800x500 with 1 Axes>"
      ]
     },
     "metadata": {},
     "output_type": "display_data"
    }
   ],
   "source": [
    "graf_ati(397, 1)"
   ]
  },
  {
   "cell_type": "code",
   "execution_count": 12,
   "id": "9f03a34c",
   "metadata": {
    "ExecuteTime": {
     "end_time": "2024-07-29T21:19:28.730025Z",
     "start_time": "2024-07-29T21:17:52.237504Z"
    }
   },
   "outputs": [
    {
     "name": "stdout",
     "output_type": "stream",
     "text": [
      "\tTiempo de ejecución es:  0.0  horas con  0.0  minutos y 48.01354384422302  segundos\n"
     ]
    },
    {
     "data": {
      "text/plain": [
       "0"
      ]
     },
     "execution_count": 12,
     "metadata": {},
     "output_type": "execute_result"
    }
   ],
   "source": [
    "data_l['ATI_CJ_AS'] = 0\n",
    "grupo1 = None\n",
    "grupo1 = data_l[  data_l['CEDULA_COD'].isin( cedula_dist )].copy() #Es igual a ml pero se actualizan los valores\n",
    "\n",
    "inicio = time.time()   \n",
    "dic_sim = grupo1.groupby('CEDULA_COD').agg({'SALARIO_SECTOR': list, 'LS4': list,'INDICE': list}).to_dict(orient='index')\n",
    "\n",
    "for cedula in dic_sim:\n",
    "    dic_sim[cedula]['SALARIO_SECTOR'] = [[float(val) for val in sal.split(';')] if isinstance(sal, str) else [sal] \n",
    "                                          for sal in dic_sim[cedula]['SALARIO_SECTOR']]\n",
    "    dic_sim[cedula]['ATI_CJ_AS'] = [ 1 if any(sal > ls for sal in salarios) else 0 \n",
    "                                    for salarios, ls in zip( dic_sim[cedula]['SALARIO_SECTOR'], dic_sim[cedula]['LS4'])]\n",
    "\n",
    "fin = time.time()  \n",
    "print('\\tTiempo de ejecución es: ',  (fin-inicio)//3600, ' horas con ' ,  (fin-inicio)%3600//60 , ' minutos y', (fin-inicio)%60, ' segundos')\n",
    "\n",
    "del grupo1   \n",
    "gc.collect()"
   ]
  },
  {
   "cell_type": "code",
   "execution_count": 13,
   "id": "70a1f76b",
   "metadata": {
    "ExecuteTime": {
     "end_time": "2024-07-29T21:19:52.133338Z",
     "start_time": "2024-07-29T21:19:34.845927Z"
    }
   },
   "outputs": [
    {
     "data": {
      "text/html": [
       "<div>\n",
       "<style scoped>\n",
       "    .dataframe tbody tr th:only-of-type {\n",
       "        vertical-align: middle;\n",
       "    }\n",
       "\n",
       "    .dataframe tbody tr th {\n",
       "        vertical-align: top;\n",
       "    }\n",
       "\n",
       "    .dataframe thead th {\n",
       "        text-align: right;\n",
       "    }\n",
       "</style>\n",
       "<table border=\"1\" class=\"dataframe\">\n",
       "  <thead>\n",
       "    <tr style=\"text-align: right;\">\n",
       "      <th></th>\n",
       "      <th>CEDULA_COD</th>\n",
       "      <th>SALARIO_SECTOR</th>\n",
       "      <th>LS4</th>\n",
       "      <th>ATI_CJ_AS</th>\n",
       "    </tr>\n",
       "    <tr>\n",
       "      <th>INDICE</th>\n",
       "      <th></th>\n",
       "      <th></th>\n",
       "      <th></th>\n",
       "      <th></th>\n",
       "    </tr>\n",
       "  </thead>\n",
       "  <tbody>\n",
       "    <tr>\n",
       "      <th>136</th>\n",
       "      <td>216</td>\n",
       "      <td>[282.95]</td>\n",
       "      <td>793.735</td>\n",
       "      <td>0</td>\n",
       "    </tr>\n",
       "    <tr>\n",
       "      <th>137</th>\n",
       "      <td>216</td>\n",
       "      <td>[282.95]</td>\n",
       "      <td>793.735</td>\n",
       "      <td>0</td>\n",
       "    </tr>\n",
       "    <tr>\n",
       "      <th>138</th>\n",
       "      <td>216</td>\n",
       "      <td>[282.95, 168.68]</td>\n",
       "      <td>793.735</td>\n",
       "      <td>0</td>\n",
       "    </tr>\n",
       "    <tr>\n",
       "      <th>139</th>\n",
       "      <td>216</td>\n",
       "      <td>[282.95, 168.68]</td>\n",
       "      <td>793.735</td>\n",
       "      <td>0</td>\n",
       "    </tr>\n",
       "    <tr>\n",
       "      <th>140</th>\n",
       "      <td>216</td>\n",
       "      <td>[168.68, 282.95]</td>\n",
       "      <td>793.735</td>\n",
       "      <td>0</td>\n",
       "    </tr>\n",
       "    <tr>\n",
       "      <th>...</th>\n",
       "      <td>...</td>\n",
       "      <td>...</td>\n",
       "      <td>...</td>\n",
       "      <td>...</td>\n",
       "    </tr>\n",
       "    <tr>\n",
       "      <th>62129759</th>\n",
       "      <td>21729781</td>\n",
       "      <td>[394.0]</td>\n",
       "      <td>508.000</td>\n",
       "      <td>0</td>\n",
       "    </tr>\n",
       "    <tr>\n",
       "      <th>62129760</th>\n",
       "      <td>21729781</td>\n",
       "      <td>[394.0]</td>\n",
       "      <td>508.000</td>\n",
       "      <td>0</td>\n",
       "    </tr>\n",
       "    <tr>\n",
       "      <th>62129761</th>\n",
       "      <td>21729781</td>\n",
       "      <td>[394.0]</td>\n",
       "      <td>508.000</td>\n",
       "      <td>0</td>\n",
       "    </tr>\n",
       "    <tr>\n",
       "      <th>62129762</th>\n",
       "      <td>21729781</td>\n",
       "      <td>[394.0]</td>\n",
       "      <td>508.000</td>\n",
       "      <td>0</td>\n",
       "    </tr>\n",
       "    <tr>\n",
       "      <th>62129763</th>\n",
       "      <td>21729781</td>\n",
       "      <td>[394.0]</td>\n",
       "      <td>508.000</td>\n",
       "      <td>0</td>\n",
       "    </tr>\n",
       "  </tbody>\n",
       "</table>\n",
       "<p>17038057 rows × 4 columns</p>\n",
       "</div>"
      ],
      "text/plain": [
       "          CEDULA_COD    SALARIO_SECTOR      LS4  ATI_CJ_AS\n",
       "INDICE                                                    \n",
       "136              216          [282.95]  793.735          0\n",
       "137              216          [282.95]  793.735          0\n",
       "138              216  [282.95, 168.68]  793.735          0\n",
       "139              216  [282.95, 168.68]  793.735          0\n",
       "140              216  [168.68, 282.95]  793.735          0\n",
       "...              ...               ...      ...        ...\n",
       "62129759    21729781           [394.0]  508.000          0\n",
       "62129760    21729781           [394.0]  508.000          0\n",
       "62129761    21729781           [394.0]  508.000          0\n",
       "62129762    21729781           [394.0]  508.000          0\n",
       "62129763    21729781           [394.0]  508.000          0\n",
       "\n",
       "[17038057 rows x 4 columns]"
      ]
     },
     "execution_count": 13,
     "metadata": {},
     "output_type": "execute_result"
    }
   ],
   "source": [
    "data1 = { 'CEDULA_COD': [], #'SALARIO_SECTOR': [], \n",
    "         'LS4' : [], 'ATI_CJ_AS':[],  'INDICE':[]}\n",
    "\n",
    "# Llenar las listas con los datos del diccionario\n",
    "for cedula, values in dic_sim.items():\n",
    "    #salario = values['SALARIO_SECTOR']\n",
    "    ls = values[ 'LS4' ]\n",
    "    atipico = values[ 'ATI_CJ_AS' ]\n",
    "    indice = values['INDICE']\n",
    "    num_rows = len(salario)\n",
    "\n",
    "    # Extender las listas en el diccionario de datos\n",
    "    data1['CEDULA_COD'].extend([cedula] * num_rows)\n",
    "    #data1['SALARIO_SECTOR'].extend(salario)\n",
    "    data1['LS4' ].extend(ls)\n",
    "    data1['ATI_CJ_AS' ].extend(atipico)\n",
    "    data1['INDICE'].extend(indice)\n",
    "    \n",
    "data1 = pd.DataFrame( data1 )\n",
    "data1.set_index('INDICE', inplace=True )\n",
    "data1"
   ]
  },
  {
   "cell_type": "code",
   "execution_count": 15,
   "id": "7dbee2f6",
   "metadata": {
    "ExecuteTime": {
     "end_time": "2024-07-29T21:50:14.446197Z",
     "start_time": "2024-07-29T21:47:23.148917Z"
    }
   },
   "outputs": [
    {
     "ename": "KeyboardInterrupt",
     "evalue": "",
     "output_type": "error",
     "traceback": [
      "\u001b[1;31m---------------------------------------------------------------------------\u001b[0m",
      "\u001b[1;31mKeyboardInterrupt\u001b[0m                         Traceback (most recent call last)",
      "Cell \u001b[1;32mIn[15], line 5\u001b[0m\n\u001b[0;32m      3\u001b[0m     indi \u001b[38;5;241m=\u001b[39m data1[data1[\u001b[38;5;124m'\u001b[39m\u001b[38;5;124mCEDULA_COD\u001b[39m\u001b[38;5;124m'\u001b[39m]\u001b[38;5;241m==\u001b[39mcedula]\u001b[38;5;241m.\u001b[39mindex\n\u001b[0;32m      4\u001b[0m     valor \u001b[38;5;241m=\u001b[39m data1\u001b[38;5;241m.\u001b[39mloc[indi, \u001b[38;5;124m'\u001b[39m\u001b[38;5;124mATI_CJ_AS\u001b[39m\u001b[38;5;124m'\u001b[39m]\n\u001b[1;32m----> 5\u001b[0m     data_l\u001b[38;5;241m.\u001b[39mloc[ indi, \u001b[38;5;124m'\u001b[39m\u001b[38;5;124mATI_CJ_AS\u001b[39m\u001b[38;5;124m'\u001b[39m] \u001b[38;5;241m=\u001b[39m valor\n\u001b[0;32m      6\u001b[0m fin \u001b[38;5;241m=\u001b[39m time\u001b[38;5;241m.\u001b[39mtime()  \n\u001b[0;32m      7\u001b[0m \u001b[38;5;28mprint\u001b[39m(\u001b[38;5;124m'\u001b[39m\u001b[38;5;130;01m\\t\u001b[39;00m\u001b[38;5;124mTiempo de ejecución es: \u001b[39m\u001b[38;5;124m'\u001b[39m,  (fin\u001b[38;5;241m-\u001b[39minicio)\u001b[38;5;241m/\u001b[39m\u001b[38;5;241m/\u001b[39m\u001b[38;5;241m3600\u001b[39m, \u001b[38;5;124m'\u001b[39m\u001b[38;5;124m horas con \u001b[39m\u001b[38;5;124m'\u001b[39m ,  (fin\u001b[38;5;241m-\u001b[39minicio)\u001b[38;5;241m%\u001b[39m\u001b[38;5;241m3600\u001b[39m\u001b[38;5;241m/\u001b[39m\u001b[38;5;241m/\u001b[39m\u001b[38;5;241m60\u001b[39m , \u001b[38;5;124m'\u001b[39m\u001b[38;5;124m minutos y\u001b[39m\u001b[38;5;124m'\u001b[39m, (fin\u001b[38;5;241m-\u001b[39minicio)\u001b[38;5;241m%\u001b[39m\u001b[38;5;241m60\u001b[39m, \u001b[38;5;124m'\u001b[39m\u001b[38;5;124m segundos\u001b[39m\u001b[38;5;124m'\u001b[39m)\n",
      "File \u001b[1;32mC:\\ProgramData\\anaconda3\\Lib\\site-packages\\pandas\\core\\indexing.py:818\u001b[0m, in \u001b[0;36m_LocationIndexer.__setitem__\u001b[1;34m(self, key, value)\u001b[0m\n\u001b[0;32m    815\u001b[0m \u001b[38;5;28mself\u001b[39m\u001b[38;5;241m.\u001b[39m_has_valid_setitem_indexer(key)\n\u001b[0;32m    817\u001b[0m iloc \u001b[38;5;241m=\u001b[39m \u001b[38;5;28mself\u001b[39m \u001b[38;5;28;01mif\u001b[39;00m \u001b[38;5;28mself\u001b[39m\u001b[38;5;241m.\u001b[39mname \u001b[38;5;241m==\u001b[39m \u001b[38;5;124m\"\u001b[39m\u001b[38;5;124miloc\u001b[39m\u001b[38;5;124m\"\u001b[39m \u001b[38;5;28;01melse\u001b[39;00m \u001b[38;5;28mself\u001b[39m\u001b[38;5;241m.\u001b[39mobj\u001b[38;5;241m.\u001b[39miloc\n\u001b[1;32m--> 818\u001b[0m iloc\u001b[38;5;241m.\u001b[39m_setitem_with_indexer(indexer, value, \u001b[38;5;28mself\u001b[39m\u001b[38;5;241m.\u001b[39mname)\n",
      "File \u001b[1;32mC:\\ProgramData\\anaconda3\\Lib\\site-packages\\pandas\\core\\indexing.py:1795\u001b[0m, in \u001b[0;36m_iLocIndexer._setitem_with_indexer\u001b[1;34m(self, indexer, value, name)\u001b[0m\n\u001b[0;32m   1792\u001b[0m \u001b[38;5;66;03m# align and set the values\u001b[39;00m\n\u001b[0;32m   1793\u001b[0m \u001b[38;5;28;01mif\u001b[39;00m take_split_path:\n\u001b[0;32m   1794\u001b[0m     \u001b[38;5;66;03m# We have to operate column-wise\u001b[39;00m\n\u001b[1;32m-> 1795\u001b[0m     \u001b[38;5;28mself\u001b[39m\u001b[38;5;241m.\u001b[39m_setitem_with_indexer_split_path(indexer, value, name)\n\u001b[0;32m   1796\u001b[0m \u001b[38;5;28;01melse\u001b[39;00m:\n\u001b[0;32m   1797\u001b[0m     \u001b[38;5;28mself\u001b[39m\u001b[38;5;241m.\u001b[39m_setitem_single_block(indexer, value, name)\n",
      "File \u001b[1;32mC:\\ProgramData\\anaconda3\\Lib\\site-packages\\pandas\\core\\indexing.py:1838\u001b[0m, in \u001b[0;36m_iLocIndexer._setitem_with_indexer_split_path\u001b[1;34m(self, indexer, value, name)\u001b[0m\n\u001b[0;32m   1834\u001b[0m     \u001b[38;5;28mself\u001b[39m\u001b[38;5;241m.\u001b[39m_setitem_with_indexer_2d_value(indexer, value)\n\u001b[0;32m   1836\u001b[0m \u001b[38;5;28;01melif\u001b[39;00m \u001b[38;5;28mlen\u001b[39m(ilocs) \u001b[38;5;241m==\u001b[39m \u001b[38;5;241m1\u001b[39m \u001b[38;5;129;01mand\u001b[39;00m lplane_indexer \u001b[38;5;241m==\u001b[39m \u001b[38;5;28mlen\u001b[39m(value) \u001b[38;5;129;01mand\u001b[39;00m \u001b[38;5;129;01mnot\u001b[39;00m is_scalar(pi):\n\u001b[0;32m   1837\u001b[0m     \u001b[38;5;66;03m# We are setting multiple rows in a single column.\u001b[39;00m\n\u001b[1;32m-> 1838\u001b[0m     \u001b[38;5;28mself\u001b[39m\u001b[38;5;241m.\u001b[39m_setitem_single_column(ilocs[\u001b[38;5;241m0\u001b[39m], value, pi)\n\u001b[0;32m   1840\u001b[0m \u001b[38;5;28;01melif\u001b[39;00m \u001b[38;5;28mlen\u001b[39m(ilocs) \u001b[38;5;241m==\u001b[39m \u001b[38;5;241m1\u001b[39m \u001b[38;5;129;01mand\u001b[39;00m \u001b[38;5;241m0\u001b[39m \u001b[38;5;241m!=\u001b[39m lplane_indexer \u001b[38;5;241m!=\u001b[39m \u001b[38;5;28mlen\u001b[39m(value):\n\u001b[0;32m   1841\u001b[0m     \u001b[38;5;66;03m# We are trying to set N values into M entries of a single\u001b[39;00m\n\u001b[0;32m   1842\u001b[0m     \u001b[38;5;66;03m#  column, which is invalid for N != M\u001b[39;00m\n\u001b[0;32m   1843\u001b[0m     \u001b[38;5;66;03m# Exclude zero-len for e.g. boolean masking that is all-false\u001b[39;00m\n\u001b[0;32m   1845\u001b[0m     \u001b[38;5;28;01mif\u001b[39;00m \u001b[38;5;28mlen\u001b[39m(value) \u001b[38;5;241m==\u001b[39m \u001b[38;5;241m1\u001b[39m \u001b[38;5;129;01mand\u001b[39;00m \u001b[38;5;129;01mnot\u001b[39;00m is_integer(info_axis):\n\u001b[0;32m   1846\u001b[0m         \u001b[38;5;66;03m# This is a case like df.iloc[:3, [1]] = [0]\u001b[39;00m\n\u001b[0;32m   1847\u001b[0m         \u001b[38;5;66;03m#  where we treat as df.iloc[:3, 1] = 0\u001b[39;00m\n",
      "File \u001b[1;32mC:\\ProgramData\\anaconda3\\Lib\\site-packages\\pandas\\core\\indexing.py:1992\u001b[0m, in \u001b[0;36m_iLocIndexer._setitem_single_column\u001b[1;34m(self, loc, value, plane_indexer)\u001b[0m\n\u001b[0;32m   1988\u001b[0m         value \u001b[38;5;241m=\u001b[39m value[pi]\n\u001b[0;32m   1989\u001b[0m \u001b[38;5;28;01melse\u001b[39;00m:\n\u001b[0;32m   1990\u001b[0m     \u001b[38;5;66;03m# set value into the column (first attempting to operate inplace, then\u001b[39;00m\n\u001b[0;32m   1991\u001b[0m     \u001b[38;5;66;03m#  falling back to casting if necessary)\u001b[39;00m\n\u001b[1;32m-> 1992\u001b[0m     \u001b[38;5;28mself\u001b[39m\u001b[38;5;241m.\u001b[39mobj\u001b[38;5;241m.\u001b[39m_mgr\u001b[38;5;241m.\u001b[39mcolumn_setitem(loc, plane_indexer, value)\n\u001b[0;32m   1993\u001b[0m     \u001b[38;5;28mself\u001b[39m\u001b[38;5;241m.\u001b[39mobj\u001b[38;5;241m.\u001b[39m_clear_item_cache()\n\u001b[0;32m   1994\u001b[0m     \u001b[38;5;28;01mreturn\u001b[39;00m\n",
      "File \u001b[1;32mC:\\ProgramData\\anaconda3\\Lib\\site-packages\\pandas\\core\\internals\\managers.py:1392\u001b[0m, in \u001b[0;36mBlockManager.column_setitem\u001b[1;34m(self, loc, idx, value, inplace)\u001b[0m\n\u001b[0;32m   1390\u001b[0m \u001b[38;5;28;01melse\u001b[39;00m:\n\u001b[0;32m   1391\u001b[0m     new_mgr \u001b[38;5;241m=\u001b[39m col_mgr\u001b[38;5;241m.\u001b[39msetitem((idx,), value)\n\u001b[1;32m-> 1392\u001b[0m     \u001b[38;5;28mself\u001b[39m\u001b[38;5;241m.\u001b[39miset(loc, new_mgr\u001b[38;5;241m.\u001b[39m_block\u001b[38;5;241m.\u001b[39mvalues, inplace\u001b[38;5;241m=\u001b[39m\u001b[38;5;28;01mTrue\u001b[39;00m)\n",
      "File \u001b[1;32mC:\\ProgramData\\anaconda3\\Lib\\site-packages\\pandas\\core\\internals\\managers.py:1259\u001b[0m, in \u001b[0;36mBlockManager.iset\u001b[1;34m(self, loc, value, inplace)\u001b[0m\n\u001b[0;32m   1257\u001b[0m         \u001b[38;5;28mself\u001b[39m\u001b[38;5;241m.\u001b[39m_clear_reference_block(blkno_l)\n\u001b[0;32m   1258\u001b[0m     \u001b[38;5;28;01melse\u001b[39;00m:\n\u001b[1;32m-> 1259\u001b[0m         blk\u001b[38;5;241m.\u001b[39mset_inplace(blk_locs, value_getitem(val_locs))\n\u001b[0;32m   1260\u001b[0m \u001b[38;5;28;01melse\u001b[39;00m:\n\u001b[0;32m   1261\u001b[0m     unfit_mgr_locs\u001b[38;5;241m.\u001b[39mappend(blk\u001b[38;5;241m.\u001b[39mmgr_locs\u001b[38;5;241m.\u001b[39mas_array[blk_locs])\n",
      "\u001b[1;31mKeyboardInterrupt\u001b[0m: "
     ]
    }
   ],
   "source": [
    "inicio = time.time()   \n",
    "for cedula in dic_sim:\n",
    "    indi = data1[data1['CEDULA_COD']==cedula].index\n",
    "    valor = data1.loc[indi, 'ATI_CJ_AS']\n",
    "    data_l.loc[ indi, 'ATI_CJ_AS'] = valor\n",
    "fin = time.time()  \n",
    "print('\\tTiempo de ejecución es: ',  (fin-inicio)//3600, ' horas con ' ,  (fin-inicio)%3600//60 , ' minutos y', (fin-inicio)%60, ' segundos')"
   ]
  },
  {
   "cell_type": "code",
   "execution_count": null,
   "id": "f80439ae",
   "metadata": {},
   "outputs": [],
   "source": [
    "ml = data_l[  data_l['CEDULA_COD'].isin( cedula_dist )].copy()\n",
    "print('*' * 50, 'Caso ', str( 1 ), '*' * 50)\n",
    "print('\\tCedulas que tienen más de un sector y que fue clasificado como atípico, que se modificaran a no atipico:',\n",
    "ml[ (ml['GRUPO_SEL']==1) & (ml['ATI_CJ_M1']==1) & ( ml['ATI_CJ_AS']==0)]['CEDULA_COD'].nunique()) #17837\n",
    "print('\\tCedulas que tienen más de un sector y que fue clasificado como  no atípico, que se modificaran a atipico',\n",
    "ml[ (ml['GRUPO_SEL']==1) & (ml['ATI_CJ_M1']==0) & ( ml['ATI_CJ_AS']==1)]['CEDULA_COD'].nunique()) #12495\n",
    "\n",
    "print('*' * 50, 'Caso ', str( 2 ), '*' * 50)\n",
    "print('\\tCedulas que tienen más de un sector y que fue clasificado como atípico, que se modificarann a no atipico:',\n",
    "ml[ (ml['GRUPO_SEL']==1) & (ml['ATI_CJ_M2']==1) & ( m['ATI_CJ_AS']==0)]['CEDULA_COD'].nunique()) #16628\n",
    "print('\\tCedulas que tienen más de un sector y que fue clasificado como  no atípico, que se modificaran a atipico',\n",
    "ml[ (ml['GRUPO_SEL']==1) & (ml['ATI_CJ_M2']==0) & ( ml['ATI_CJ_AS']==1)]['CEDULA_COD'].nunique()) #12550\n",
    "\n",
    "print('*' * 50, 'Caso ', str( 3 ), '*' * 50)\n",
    "print('\\tCedulas que tienen más de un sector y que fue clasificado como atípico, que se modificarann a no atipico:',\n",
    "ml[ (ml['GRUPO_SEL']==1) & (ml['ATI_CJ_M3']==1) & ( ml['ATI_CJ_AS']==0)]['CEDULA_COD'].nunique()) #16630\n",
    "print('\\tCedulas que tienen más de un sector y que fue clasificado como  no atípico, que se modificaran a atipico',\n",
    "ml[ (ml['GRUPO_SEL']==1) & (ml['ATI_CJ_M3']==0) & ( ml['ATI_CJ_AS']==1)]['CEDULA_COD'].nunique()) #12550"
   ]
  },
  {
   "cell_type": "code",
   "execution_count": null,
   "id": "347db378",
   "metadata": {},
   "outputs": [],
   "source": [
    "ml[ (ml['GRUPO_SEL']==1) & (ml['ATI_CJ_M1']==1) & ( ml['ATI_CJ_AS']==0)]['CEDULA_COD'].unique()"
   ]
  },
  {
   "cell_type": "code",
   "execution_count": null,
   "id": "7a02f3b4",
   "metadata": {},
   "outputs": [],
   "source": [
    "ml[ (ml['GRUPO_SEL']==1) & (ml['ATI_CJ_M1']==0) & ( ml['ATI_CJ_AS']==1)]['CEDULA_COD'].unique()"
   ]
  },
  {
   "cell_type": "code",
   "execution_count": null,
   "id": "c9809ece",
   "metadata": {},
   "outputs": [],
   "source": [
    "ml[ (ml['GRUPO_SEL']==1) & (ml['CEDULA_COD']==3039)]"
   ]
  },
  {
   "cell_type": "code",
   "execution_count": null,
   "id": "6c17d548",
   "metadata": {},
   "outputs": [],
   "source": [
    "#Gráficas para cuando de 1->0 en aportes simultáneos\n",
    "graf_ati(3039, 1)"
   ]
  },
  {
   "cell_type": "code",
   "execution_count": null,
   "id": "404fb697",
   "metadata": {},
   "outputs": [],
   "source": [
    "ml[ (ml['GRUPO_SEL']==1) & (ml['CEDULA_COD']==472)]"
   ]
  },
  {
   "cell_type": "code",
   "execution_count": null,
   "id": "4970efd5",
   "metadata": {},
   "outputs": [],
   "source": [
    "data_l[data_l['CEDULA_COD']==472].tail(60)"
   ]
  },
  {
   "cell_type": "code",
   "execution_count": null,
   "id": "25894444",
   "metadata": {},
   "outputs": [],
   "source": [
    "#Gráficas para cuando de 0->1 en aportes simultáneos\n",
    "graf_ati(472, 1)"
   ]
  },
  {
   "cell_type": "code",
   "execution_count": null,
   "id": "b251a61c",
   "metadata": {},
   "outputs": [],
   "source": [
    "#Se hacen las correcciones\n",
    "#Caso 1\n",
    "data_l.loc[ ( (data_l['GRUPO_SEL']==1) & (data_l['NUM_SEC_MES']>1) & (data_l['ATI_CJ_M1']==1) & ( data_l['ATI_CJ_AS']==0) ) , 'ATI_CJ_M1'] = data_l['ATI_CJ_AS']\n",
    "data_l.loc[ ( (data_l['GRUPO_SEL']==1) & (data_l['NUM_SEC_MES']>1) & (data_l['ATI_CJ_M1']==0) & ( data_l['ATI_CJ_AS']==1) ) , 'ATI_CJ_M1'] = data_l['ATI_CJ_AS']\n",
    "\n",
    "#Caso 2\n",
    "data_l.loc[ ( (data_l['GRUPO_SEL']==1) & (data_l['NUM_SEC_MES']>1) & (data_l['ATI_CJ_M2']==1) & ( data_l['ATI_CJ_AS']==0) ) , 'ATI_CJ_M2'] = data_l['ATI_CJ_AS']\n",
    "data_l.loc[ ( (data_l['GRUPO_SEL']==1) & (data_l['NUM_SEC_MES']>1) & (data_l['ATI_CJ_M2']==0) & ( data_l['ATI_CJ_AS']==1) ) , 'ATI_CJ_M2'] = data_l['ATI_CJ_AS']\n",
    "\n",
    "#Caso 3\n",
    "data_l.loc[ ( (data_l['GRUPO_SEL']==1) & (data_l['NUM_SEC_MES']>1) & (data_l['ATI_CJ_M3']==1) & ( data_l['ATI_CJ_AS']==0) ) , 'ATI_CJ_M3'] = data_l['ATI_CJ_AS']\n",
    "data_l.loc[ ( (data_l['GRUPO_SEL']==1) & (data_l['NUM_SEC_MES']>1) & (data_l['ATI_CJ_M3']==0) & ( data_l['ATI_CJ_AS']==1) ) , 'ATI_CJ_M3'] = data_l['ATI_CJ_AS']"
   ]
  },
  {
   "cell_type": "code",
   "execution_count": null,
   "id": "df698e5a",
   "metadata": {},
   "outputs": [],
   "source": [
    "# data_l[ (data_l['GRUPO_SEL']==1) & (data_l['CEDULA_COD']==397)][['CEDULA_COD', 'ANIO', 'MES', 'SALARIO', 'SALARIO_SECTOR',\n",
    "#                                                                'SECTOR_A', 'NUM_SEC_MES', 'GRUPO_SEL', 'GRUPO', 'ATI_CJ_M1',\n",
    "#                                                                 'ATI_CJ_M2','ATI_CJ_M3','LS1','LS2','LS3','LS4','ATI_CJ_AS']]"
   ]
  },
  {
   "cell_type": "code",
   "execution_count": null,
   "id": "1e73fcfa",
   "metadata": {},
   "outputs": [],
   "source": [
    "del grupo1, data1, dic_sim, indi, valor\n",
    "gc.collect()"
   ]
  },
  {
   "cell_type": "code",
   "execution_count": null,
   "id": "81e6a1a5",
   "metadata": {},
   "outputs": [],
   "source": [
    "#Cedulas que tiene datos atípicos luego de la corrección---------------------------------------------------------------------\n",
    "print('*' * 50, 'Caso ', str( 1 ), '*' * 50)\n",
    "print('\\tCedulas con al menos un atípico con un único sector:',\n",
    "      data_l[ (data_l['GRUPO_SEL']==1) & (data_l['ATI_CJ_M1']==1) & (data_l['NUM_SEC_MES']==1)]['CEDULA_COD'].nunique()) \n",
    "print('\\tCedulas con al menos un atípico con más de un único sector:',\n",
    "      data_l[ (data_l['GRUPO_SEL']==1) & (data_l['ATI_CJ_M1']==1) & (data_l['NUM_SEC_MES']>1)]['CEDULA_COD'].nunique())\n",
    "print('*' * 50, 'Caso ', str( 2 ), '*' * 50)\n",
    "print('\\tCedulas con al menos un atípico con un único sector:',\n",
    "      data_l[ (data_l['GRUPO_SEL']==1) & (data_l['ATI_CJ_M2']==1) & (data_l['NUM_SEC_MES']==1)]['CEDULA_COD'].nunique()) \n",
    "print('\\tCedulas con al menos un atípico con más de un único sector:',\n",
    "      data_l[ (data_l['GRUPO_SEL']==1) & (data_l['ATI_CJ_M2']==1) & (data_l['NUM_SEC_MES']>1)]['CEDULA_COD'].nunique())\n",
    "print('*' * 50, 'Caso ', str( 3 ), '*' * 50)\n",
    "print('\\tCedulas con al menos un atípico con un único sector:',\n",
    "      data_l[ (data_l['GRUPO_SEL']==1) & (data_l['ATI_CJ_M3']==1) & (data_l['NUM_SEC_MES']==1)]['CEDULA_COD'].nunique()) \n",
    "print('\\tCedulas con al menos un atípico con más de un único sector:',\n",
    "      data_l[ (data_l['GRUPO_SEL']==1) & (data_l['ATI_CJ_M3']==1) & (data_l['NUM_SEC_MES']>1)]['CEDULA_COD'].nunique())\n",
    "print('*' * 102)"
   ]
  },
  {
   "cell_type": "code",
   "execution_count": null,
   "id": "51d39378",
   "metadata": {},
   "outputs": [],
   "source": [
    "graf_ati(397, 1)"
   ]
  },
  {
   "cell_type": "code",
   "execution_count": null,
   "id": "c37b7001",
   "metadata": {},
   "outputs": [],
   "source": [
    "data_l[ (data_l['GRUPO_SEL']==1) & (data_l['CEDULA_COD']==397)]"
   ]
  },
  {
   "cell_type": "code",
   "execution_count": null,
   "id": "d0ea797c",
   "metadata": {},
   "outputs": [],
   "source": [
    "data_l[data_l['CEDULA_COD']==397].head(60)"
   ]
  },
  {
   "cell_type": "code",
   "execution_count": null,
   "id": "81333006",
   "metadata": {},
   "outputs": [],
   "source": [
    "#K-MEANS"
   ]
  }
 ],
 "metadata": {
  "kernelspec": {
   "display_name": "Python 3 (ipykernel)",
   "language": "python",
   "name": "python3"
  },
  "language_info": {
   "codemirror_mode": {
    "name": "ipython",
    "version": 3
   },
   "file_extension": ".py",
   "mimetype": "text/x-python",
   "name": "python",
   "nbconvert_exporter": "python",
   "pygments_lexer": "ipython3",
   "version": "3.11.4"
  },
  "toc": {
   "base_numbering": 1,
   "nav_menu": {},
   "number_sections": true,
   "sideBar": true,
   "skip_h1_title": false,
   "title_cell": "Table of Contents",
   "title_sidebar": "Contents",
   "toc_cell": false,
   "toc_position": {},
   "toc_section_display": true,
   "toc_window_display": false
  }
 },
 "nbformat": 4,
 "nbformat_minor": 5
}

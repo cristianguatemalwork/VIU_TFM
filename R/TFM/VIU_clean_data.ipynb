{
 "cells": [
  {
   "cell_type": "code",
   "execution_count": 1,
   "id": "305b533b",
   "metadata": {
    "ExecuteTime": {
     "end_time": "2024-07-25T13:53:30.648498Z",
     "start_time": "2024-07-25T13:53:20.671782Z"
    }
   },
   "outputs": [],
   "source": [
    "#Importación de librearías necesarias\n",
    "import pandas as pd\n",
    "from datetime import datetime\n",
    "import socket\n",
    "import numpy as np\n",
    "import math\n",
    "import time\n",
    "import pickle  #Para guardar archivos\n",
    "import os\n",
    "\n",
    "from pympler import asizeof #Para liberar memoria\n",
    "import gc\n",
    "\n",
    "import matplotlib.pyplot as plt\n",
    "from matplotlib.colors import ListedColormap\n",
    "from scipy.cluster.hierarchy import dendrogram, linkage, fcluster\n",
    "from scipy.spatial.distance import cdist"
   ]
  },
  {
   "cell_type": "code",
   "execution_count": 2,
   "id": "3ad7f70c",
   "metadata": {
    "ExecuteTime": {
     "end_time": "2024-07-25T13:53:30.656418Z",
     "start_time": "2024-07-25T13:53:30.648498Z"
    }
   },
   "outputs": [],
   "source": [
    "#Path general de archivos\n",
    "if socket.gethostname()=='LAPTOP-PUSGG08B': #Ip de la laptop\n",
    "    ruta = \"E:/Cristian Guatemal/Master/Big Data y Ciencia de Datos/VIU_TFM/Data/TFM/\"\n",
    "    r_ruta = \"E:/Cristian Guatemal/Master/Big Data y Ciencia de Datos/VIU_TFM/RData/TFM/\"\n",
    "elif socket.gethostname()=='PCUIOMTDAIE6382': #Ip del working\n",
    "    ruta =   \"D:/Master/Big_Data_Ciencia_Datos/VIU_TFM/Data/TFM/\"\n",
    "    r_ruta = \"D:/Master/Big_Data_Ciencia_Datos/VIU_TFM/RData/TFM/\"\n",
    "# Ruta del archivo de pensionistas de vejez\n",
    "ruta_vj = ruta + 'POB_VEJ_CD656_NEW.dsv'\n",
    "# Ruta del archivo de historia laboral de pensionistas\n",
    "ruta_afi = ruta + 'APORTES_CD656_new.dsv'"
   ]
  },
  {
   "cell_type": "code",
   "execution_count": null,
   "id": "28dfb4e5",
   "metadata": {
    "ExecuteTime": {
     "end_time": "2024-07-15T17:40:29.504433Z",
     "start_time": "2024-07-15T17:38:33.999235Z"
    }
   },
   "outputs": [],
   "source": [
    "#Importación de archivos de afiliados\n",
    "inicio = time.time()\n",
    "afi = pd.read_csv( ruta_afi, delimiter='\\t', encoding='iso-8859-1', decimal='.')\n",
    "fin = time.time()  \n",
    "print('Tiempo de ejecución es: ',  (fin-inicio)//3600, ' horas con ' ,  (fin-inicio)%3600//60 , ' minutos y', \n",
    "        (fin-inicio)%60, ' segundos' )"
   ]
  },
  {
   "cell_type": "code",
   "execution_count": null,
   "id": "c19aaa90",
   "metadata": {
    "ExecuteTime": {
     "end_time": "2024-07-15T17:41:21.920678Z",
     "start_time": "2024-07-15T17:40:55.737050Z"
    }
   },
   "outputs": [],
   "source": [
    "#Agrupamiento por relación de trabajo\n",
    "inicio = time.time()\n",
    "agrupa = [ (afi['SECTOR'].isin(['PRIVADO', 'PASANTE PRIVADO'])), \n",
    "           (afi['SECTOR'].isin(['PUBLICO', 'PASANTE PUBLICO'])), \n",
    "           (afi['SECTOR'].isin(['INDEPENDIENTES', '108-ARTISTA Y GESTOR DE CULTURA', \n",
    "                                '02-TRABAJ. AUT Y SIN RELAC DEPEN DESDE  2011-12 SOLO AF.VOLUNT  '])),\n",
    "           (afi['SECTOR'].isin(['69-VOLUNTARIO ECUATORIANO DOMICILIADO EN EL EXTERIOR ',\n",
    "                                '89-AFILIACION DOMICILIADO EN EL EXTERIOR'])),\n",
    "           (afi['SECTOR'] == '90-AFILIACION DOMICILIADO EN EL PAIS / SIN RELACION DEPENDENCIA'),\n",
    "           (afi['SECTOR'] == '06-CODIGO DEL TRABAJO - CT ')\n",
    "            ]\n",
    "            \n",
    "tipo = ['PRI', 'PUB', 'IND', 'VOL_EX', 'VOL_EC', 'COD_TR']\n",
    "\n",
    "afi['SECTOR_A'] = np.select( agrupa, tipo, default=afi['SECTOR'])\n",
    "fin = time.time()  \n",
    "print('Tiempo de ejecución es: ',  (fin-inicio)//3600, ' horas con ' ,  (fin-inicio)%3600//60 , ' minutos y', \n",
    "        (fin-inicio)%60, ' segundos' )"
   ]
  },
  {
   "cell_type": "code",
   "execution_count": null,
   "id": "8a62a1f0",
   "metadata": {
    "ExecuteTime": {
     "end_time": "2024-07-15T17:41:26.031814Z",
     "start_time": "2024-07-15T17:41:21.923839Z"
    }
   },
   "outputs": [],
   "source": [
    "afi['SECTOR'].unique()"
   ]
  },
  {
   "cell_type": "code",
   "execution_count": null,
   "id": "b9d7fce7",
   "metadata": {
    "ExecuteTime": {
     "end_time": "2024-07-15T17:41:29.344291Z",
     "start_time": "2024-07-15T17:41:26.033925Z"
    }
   },
   "outputs": [],
   "source": [
    "afi['SECTOR_A'].unique()"
   ]
  },
  {
   "cell_type": "code",
   "execution_count": null,
   "id": "a03a3ae9",
   "metadata": {
    "ExecuteTime": {
     "end_time": "2024-07-15T17:41:29.351637Z",
     "start_time": "2024-07-15T17:41:29.346292Z"
    }
   },
   "outputs": [],
   "source": [
    "afi.shape"
   ]
  },
  {
   "cell_type": "code",
   "execution_count": null,
   "id": "04746277",
   "metadata": {
    "ExecuteTime": {
     "end_time": "2024-07-15T17:42:22.570617Z",
     "start_time": "2024-07-15T17:41:29.353744Z"
    }
   },
   "outputs": [],
   "source": [
    "#Para acceder a las prestaciones de IVM debe tener al menos 5 años de aporte o 60 imposiciones\n",
    "ced_counts = afi.drop_duplicates(subset=['CEDULA_COD', 'ANIO', 'MES'])['CEDULA_COD'].value_counts()"
   ]
  },
  {
   "cell_type": "code",
   "execution_count": null,
   "id": "dbad0c44",
   "metadata": {
    "ExecuteTime": {
     "end_time": "2024-07-15T17:42:22.635232Z",
     "start_time": "2024-07-15T17:42:22.572609Z"
    }
   },
   "outputs": [],
   "source": [
    "# numero de cedulas que tienen menos de 60 imposiciones\n",
    "ced_counts[ced_counts < 60].index.nunique()"
   ]
  },
  {
   "cell_type": "code",
   "execution_count": null,
   "id": "6165f941",
   "metadata": {
    "ExecuteTime": {
     "start_time": "2024-07-15T17:41:05.174Z"
    }
   },
   "outputs": [],
   "source": [
    "#Se filtran a las cedulas con menos de 60 imposicones \n",
    "inicio = time.time()\n",
    "afi_fil = afi[~afi['CEDULA_COD'].isin(ced_counts[ced_counts < 60].index)].copy()\n",
    "fin = time.time()  \n",
    "print('Tiempo de ejecución es: ',  (fin-inicio)//3600, ' horas con ' ,  (fin-inicio)%3600//60 , ' minutos y', (fin-inicio)%60, ' segundos' )\n",
    "\n",
    "#Se crea una variable fecha\n",
    "inicio = time.time()\n",
    "afi_fil.loc[:, 'FECHA'] = pd.to_datetime(afi_fil['ANIO'].astype(str) + '-' + afi_fil['MES'].astype(str).str.zfill(2) + '-01')\n",
    "fin = time.time()  \n",
    "print('Tiempo de ejecución es: ',  (fin-inicio)//3600, ' horas con ' ,  (fin-inicio)%3600//60 , ' minutos y', (fin-inicio)%60, ' segundos' )\n",
    "\n",
    "#Se ordenan los registros\n",
    "inicio = time.time()\n",
    "afi_fil = afi_fil.sort_values( by=[\"CEDULA_COD\",\"ANIO\", \"MES\"], ascending=[True, True, True] )\n",
    "fin = time.time()  \n",
    "print('Tiempo de ejecución es: ',  (fin-inicio)//3600, ' horas con ' ,  (fin-inicio)%3600//60 , ' minutos y', (fin-inicio)%60, ' segundos' )\n",
    "afi_fil.shape"
   ]
  },
  {
   "cell_type": "code",
   "execution_count": null,
   "id": "68f9e80c",
   "metadata": {
    "ExecuteTime": {
     "start_time": "2024-07-15T17:41:07.198Z"
    }
   },
   "outputs": [],
   "source": [
    "# Especifica la ruta del directorio donde quieres guardar el archivo\n",
    "directorio = r_ruta\n",
    "\n",
    "# Asegúrate de que el directorio existe\n",
    "os.makedirs(directorio, exist_ok=True)\n",
    "\n",
    "# Nombre del archivo\n",
    "nombre_archivo = 'viu_clean_afi.pkl'\n",
    "# Ruta completa del archivo\n",
    "ruta_archivo = os.path.join(directorio, nombre_archivo)\n",
    "# Objetos a guardar\n",
    "objeto1 = afi\n",
    "\n",
    "# Guardar los objetos en el archivo\n",
    "with open(ruta_archivo, 'wb') as archivo:\n",
    "    pickle.dump(objeto1, archivo)\n",
    "    \n",
    "    \n",
    "# Nombre del archivo\n",
    "nombre_archivo = 'viu_clean_afi_fil.pkl'\n",
    "# Ruta completa del archivo\n",
    "ruta_archivo = os.path.join(directorio, nombre_archivo)\n",
    "# Objetos a guardar\n",
    "objeto2 = afi_fil\n",
    "\n",
    "# Guardar los objetos en el archivo\n",
    "with open(ruta_archivo, 'wb') as archivo:\n",
    "    pickle.dump(objeto2, archivo)\n",
    "        \n",
    "    \n",
    "# #Cargar los archivos\n",
    "# with open( ruta_archivo, 'rb') as archivo:\n",
    "#     pickle.load(archivo)  # Carga y descarta el primer objeto\n",
    "#     afi_fil = pickle.load(archivo)  # Carga el segundo objeto    "
   ]
  },
  {
   "cell_type": "code",
   "execution_count": null,
   "id": "d3968aa2",
   "metadata": {
    "ExecuteTime": {
     "end_time": "2024-07-15T17:15:23.991547Z",
     "start_time": "2024-07-15T17:15:23.991547Z"
    }
   },
   "outputs": [],
   "source": [
    "#Se eliminan archivos no necesarios para liberar la memoria\n",
    "del afi\n",
    "del objeto1\n",
    "del objeto2\n",
    "del ced_counts"
   ]
  },
  {
   "cell_type": "code",
   "execution_count": null,
   "id": "87d43629",
   "metadata": {
    "ExecuteTime": {
     "end_time": "2024-07-15T17:15:23.993540Z",
     "start_time": "2024-07-15T17:15:23.993540Z"
    }
   },
   "outputs": [],
   "source": [
    "afi_fil #Tiene una dimensión de (64638969 rows × 14 columns)"
   ]
  },
  {
   "cell_type": "code",
   "execution_count": null,
   "id": "3903704c",
   "metadata": {
    "ExecuteTime": {
     "end_time": "2024-07-15T17:15:23.995553Z",
     "start_time": "2024-07-15T17:15:23.995553Z"
    }
   },
   "outputs": [],
   "source": [
    "#Se seleccionan las características de la población para los año y mes de aportación\n",
    "afi_sel = afi_fil[['CEDULA_COD', 'ANIO', 'MES', 'FECHA','SALARIO', 'SECTOR_A']].copy()\n",
    "del afi_fil"
   ]
  },
  {
   "cell_type": "code",
   "execution_count": null,
   "id": "adcadef1",
   "metadata": {
    "ExecuteTime": {
     "end_time": "2024-07-15T17:15:23.996542Z",
     "start_time": "2024-07-15T17:15:23.996542Z"
    }
   },
   "outputs": [],
   "source": [
    "#Inicio de la HL\n",
    "caract = afi_sel.groupby('CEDULA_COD')['FECHA'].min().reset_index() \n",
    "caract.rename( columns={'FECHA': 'INI_HL'}, inplace=True)\n",
    "#Fin de la HL\n",
    "caract['FIN_HL'] = caract['CEDULA_COD'].map( afi_sel.groupby('CEDULA_COD')['FECHA'].max() )\n",
    "#Contar los meses, considerando duplicidad en los meses que puede tener aporte simultaneos\n",
    "caract['MES_AS'] = caract['CEDULA_COD'].map( afi_sel['CEDULA_COD'].value_counts() )\n",
    "#Meses trabajados unicos\n",
    "aux = afi_sel.drop_duplicates(subset=['CEDULA_COD', 'ANIO', 'MES'])\n",
    "caract['MES_TU'] = caract['CEDULA_COD'].map( aux['CEDULA_COD'].value_counts() )"
   ]
  },
  {
   "cell_type": "code",
   "execution_count": null,
   "id": "48d6a6d8",
   "metadata": {
    "ExecuteTime": {
     "end_time": "2024-07-15T17:15:23.998674Z",
     "start_time": "2024-07-15T17:15:23.998674Z"
    }
   },
   "outputs": [],
   "source": [
    "# Nombre del archivo\n",
    "nombre_archivo = 'viu_clean_caract.pkl'\n",
    "# Ruta completa del archivo\n",
    "ruta_archivo = os.path.join(directorio, nombre_archivo)\n",
    "# Objetos a guardar\n",
    "objeto3 = caract\n",
    "\n",
    "# Guardar los objetos en el archivo\n",
    "with open(ruta_archivo, 'wb') as archivo:\n",
    "    pickle.dump(objeto3, archivo)    "
   ]
  },
  {
   "cell_type": "code",
   "execution_count": null,
   "id": "4c3149c5",
   "metadata": {
    "ExecuteTime": {
     "end_time": "2024-07-15T17:15:23.999664Z",
     "start_time": "2024-07-15T17:15:23.999664Z"
    }
   },
   "outputs": [],
   "source": [
    "del objeto3"
   ]
  },
  {
   "cell_type": "code",
   "execution_count": null,
   "id": "5d78279e",
   "metadata": {
    "ExecuteTime": {
     "end_time": "2024-07-15T17:15:24.002664Z",
     "start_time": "2024-07-15T17:15:24.002664Z"
    }
   },
   "outputs": [],
   "source": [
    "caract"
   ]
  },
  {
   "cell_type": "code",
   "execution_count": null,
   "id": "bc22a036",
   "metadata": {
    "ExecuteTime": {
     "end_time": "2024-07-15T17:15:24.003666Z",
     "start_time": "2024-07-15T17:15:24.003666Z"
    }
   },
   "outputs": [],
   "source": [
    "#Personas que tienen varios aportes simultaneos\n",
    "caract[caract['MES_AS']>caract['MES_TU']]"
   ]
  },
  {
   "cell_type": "code",
   "execution_count": null,
   "id": "16e523d3",
   "metadata": {
    "ExecuteTime": {
     "end_time": "2024-07-15T17:15:24.005665Z",
     "start_time": "2024-07-15T17:15:24.005665Z"
    }
   },
   "outputs": [],
   "source": [
    "#afi_sel[afi_sel['CEDULA_COD']==21729781].tail(60)"
   ]
  },
  {
   "cell_type": "code",
   "execution_count": null,
   "id": "bd0c7ea9",
   "metadata": {
    "ExecuteTime": {
     "end_time": "2024-07-15T17:15:24.007842Z",
     "start_time": "2024-07-15T17:15:24.007842Z"
    }
   },
   "outputs": [],
   "source": [
    "afi_sel =  afi_sel.sort_values( by=[\"CEDULA_COD\",\"ANIO\", \"MES\"], ascending=[True, False, False] )\n",
    "afi_sel['NUM_SEC_MES'] = 1\n",
    "afi_sel['%_NUM_SECTOR'] = afi_sel['SALARIO']"
   ]
  },
  {
   "cell_type": "code",
   "execution_count": null,
   "id": "508c16c5",
   "metadata": {
    "ExecuteTime": {
     "end_time": "2024-07-15T17:15:24.008844Z",
     "start_time": "2024-07-15T17:15:24.008844Z"
    }
   },
   "outputs": [],
   "source": [
    "aux = afi_sel[afi_sel.duplicated(subset=['CEDULA_COD', 'ANIO', 'MES'], keep=False)]\n",
    "aux1 = afi_sel[~afi_sel.duplicated(subset=['CEDULA_COD', 'ANIO', 'MES'], keep=False)]"
   ]
  },
  {
   "cell_type": "code",
   "execution_count": null,
   "id": "413f07c9",
   "metadata": {
    "ExecuteTime": {
     "end_time": "2024-07-15T17:15:24.010840Z",
     "start_time": "2024-07-15T17:15:24.010840Z"
    }
   },
   "outputs": [],
   "source": [
    "#Se debe analizar a las personas que tienen varios aportes en un mismo mes\n",
    "#Se suman los salarios y se concatenan los sectores para la cedula que en el mismo anio y mes tienen más de un sector\n",
    "inicio = time.time()\n",
    "afi_sel_g = aux.groupby(['CEDULA_COD', 'ANIO', 'MES']).agg({'SALARIO': 'sum',\n",
    "                                                            'SECTOR_A': lambda x: ';'.join(x),\n",
    "                                                            'NUM_SEC_MES': lambda x: len(x),\n",
    "                                                            '%_NUM_SECTOR': lambda x:  ';'.join((x / x.sum()).round(4).astype(str))\n",
    "                                                                }).reset_index()\n",
    "fin = time.time()  \n",
    "print('Tiempo de ejecución es: ',  (fin-inicio)//3600, ' horas con ' ,  (fin-inicio)%3600//60 , ' minutos y', (fin-inicio)%60, ' segundos' )\n"
   ]
  },
  {
   "cell_type": "code",
   "execution_count": null,
   "id": "666ab864",
   "metadata": {
    "ExecuteTime": {
     "end_time": "2024-07-15T17:15:24.012840Z",
     "start_time": "2024-07-15T17:15:24.012840Z"
    }
   },
   "outputs": [],
   "source": [
    "afi_sel_g"
   ]
  },
  {
   "cell_type": "code",
   "execution_count": null,
   "id": "cbe59597",
   "metadata": {
    "ExecuteTime": {
     "end_time": "2024-07-15T17:15:24.014839Z",
     "start_time": "2024-07-15T17:15:24.014839Z"
    }
   },
   "outputs": [],
   "source": [
    "afi_sel_g_all = pd.concat( [aux1[['CEDULA_COD', 'ANIO', 'MES', 'SALARIO', 'SECTOR_A', 'NUM_SEC_MES', '%_NUM_SECTOR']], \n",
    "                            afi_sel_g], ignore_index=True )"
   ]
  },
  {
   "cell_type": "code",
   "execution_count": null,
   "id": "4bfdd552",
   "metadata": {
    "ExecuteTime": {
     "end_time": "2024-07-15T17:15:24.015841Z",
     "start_time": "2024-07-15T17:15:24.015841Z"
    }
   },
   "outputs": [],
   "source": [
    "afi_sel_g_all"
   ]
  },
  {
   "cell_type": "code",
   "execution_count": null,
   "id": "bb3917c8",
   "metadata": {
    "ExecuteTime": {
     "end_time": "2024-07-15T17:15:24.017984Z",
     "start_time": "2024-07-15T17:15:24.017984Z"
    }
   },
   "outputs": [],
   "source": [
    "# Nombre del archivo\n",
    "nombre_archivo = 'viu_clean_afi_sel_g_all.pkl'\n",
    "# Ruta completa del archivo\n",
    "ruta_archivo = os.path.join(directorio, nombre_archivo)\n",
    "# Objetos a guardar\n",
    "objeto4 = afi_sel_g_all\n",
    "\n",
    "# Guardar los objetos en el archivo\n",
    "with open(ruta_archivo, 'wb') as archivo:\n",
    "    pickle.dump(objeto4, archivo)      "
   ]
  },
  {
   "cell_type": "code",
   "execution_count": null,
   "id": "64e1b80c",
   "metadata": {
    "ExecuteTime": {
     "end_time": "2024-07-15T20:35:18.490089Z",
     "start_time": "2024-07-15T20:35:17.362006Z"
    }
   },
   "outputs": [],
   "source": [
    "#afi_sel_g_all = objetos[3]"
   ]
  },
  {
   "cell_type": "code",
   "execution_count": null,
   "id": "12ce8372",
   "metadata": {
    "ExecuteTime": {
     "end_time": "2024-07-15T17:57:16.383287Z",
     "start_time": "2024-07-15T17:57:04.665045Z"
    }
   },
   "outputs": [],
   "source": [
    "del aux\n",
    "del aux1\n",
    "del objeto4"
   ]
  },
  {
   "cell_type": "code",
   "execution_count": null,
   "id": "3c213049",
   "metadata": {
    "ExecuteTime": {
     "start_time": "2024-07-15T20:35:59.850Z"
    }
   },
   "outputs": [],
   "source": [
    "afi_sel_g_all = afi_sel_g_all.sort_values( by=[\"CEDULA_COD\",\"ANIO\", \"MES\"], ascending=[True, False, False] )\n",
    "afi_sel_g_all.loc[ (afi_sel_g_all['NUM_SEC_MES'] == 1), '%_NUM_SECTOR'] = '1'"
   ]
  },
  {
   "cell_type": "code",
   "execution_count": null,
   "id": "828d7f59",
   "metadata": {
    "ExecuteTime": {
     "start_time": "2024-07-15T20:36:04.170Z"
    }
   },
   "outputs": [],
   "source": [
    "afi_sel_g_all[afi_sel_g_all['CEDULA_COD']==216]"
   ]
  },
  {
   "cell_type": "code",
   "execution_count": null,
   "id": "5a4c3357",
   "metadata": {
    "ExecuteTime": {
     "start_time": "2024-07-15T20:36:06.439Z"
    }
   },
   "outputs": [],
   "source": [
    "#Se reinician los index\n",
    "afi_sel_g_all.reset_index(inplace=True)\n",
    "afi_sel_g_all.rename(columns={'index': 'nuevo_indice'}, inplace=True)\n",
    "afi_sel_g_all.drop(columns=['nuevo_indice'], inplace=True)"
   ]
  },
  {
   "cell_type": "code",
   "execution_count": null,
   "id": "e48b33ad",
   "metadata": {
    "ExecuteTime": {
     "start_time": "2024-07-15T20:36:08.095Z"
    }
   },
   "outputs": [],
   "source": [
    "afi_sel_g_all[afi_sel_g_all['CEDULA_COD']==126]"
   ]
  },
  {
   "cell_type": "code",
   "execution_count": null,
   "id": "87616db7",
   "metadata": {
    "ExecuteTime": {
     "end_time": "2024-07-15T16:49:15.698723Z",
     "start_time": "2024-07-15T16:48:59.956839Z"
    }
   },
   "outputs": [],
   "source": [
    "#se crean los grupos de 12 meses trabajados para tener\n",
    "n_grupo = 12\n",
    "afi_sel_g_all['GRUPO'] = (afi_sel_g_all.groupby('CEDULA_COD').cumcount() // n_grupo ) + 1\n",
    "#Se saca el salario promedio de cada grupo\n",
    "afi_sel_g_all['SAL_PROM_GRUPO'] = afi_sel_g_all.groupby(['CEDULA_COD', 'GRUPO'])['SALARIO'].transform('mean')"
   ]
  },
  {
   "cell_type": "code",
   "execution_count": null,
   "id": "79bc8b95",
   "metadata": {
    "ExecuteTime": {
     "end_time": "2024-07-15T16:49:15.769801Z",
     "start_time": "2024-07-15T16:49:15.701731Z"
    }
   },
   "outputs": [],
   "source": [
    "afi_sel_g_all"
   ]
  },
  {
   "cell_type": "code",
   "execution_count": null,
   "id": "edc13f78",
   "metadata": {
    "ExecuteTime": {
     "end_time": "2024-07-15T16:49:18.892556Z",
     "start_time": "2024-07-15T16:49:18.454964Z"
    }
   },
   "outputs": [],
   "source": [
    "afi_sel_g_all[afi_sel_g_all['CEDULA_COD']==126]['GRUPO'].unique()"
   ]
  },
  {
   "cell_type": "code",
   "execution_count": null,
   "id": "2ede2e6c",
   "metadata": {
    "ExecuteTime": {
     "end_time": "2024-07-15T16:49:28.056278Z",
     "start_time": "2024-07-15T16:49:18.894563Z"
    }
   },
   "outputs": [],
   "source": [
    "#Se obtienen los sueldos promedios para cada grupo y cada cedula\n",
    "inicio = time.time()\n",
    "df1 = afi_sel_g_all.groupby(['CEDULA_COD', 'GRUPO'])['SAL_PROM_GRUPO'].first().reset_index().copy()\n",
    "df1 = df1.sort_values(by = ['CEDULA_COD','SAL_PROM_GRUPO'], ascending=[True,False])\n",
    "fin = time.time()  \n",
    "print('Tiempo de ejecución es: ',  (fin-inicio)//3600, ' horas con ' ,  (fin-inicio)%3600//60 , ' minutos y', (fin-inicio)%60, ' segundos' )"
   ]
  },
  {
   "cell_type": "code",
   "execution_count": null,
   "id": "ca9b660f",
   "metadata": {
    "ExecuteTime": {
     "end_time": "2024-07-15T16:49:28.097696Z",
     "start_time": "2024-07-15T16:49:28.067742Z"
    }
   },
   "outputs": [],
   "source": [
    "df1"
   ]
  },
  {
   "cell_type": "code",
   "execution_count": null,
   "id": "d853c7f0",
   "metadata": {
    "ExecuteTime": {
     "end_time": "2024-07-15T16:49:28.438155Z",
     "start_time": "2024-07-15T16:49:28.099707Z"
    }
   },
   "outputs": [],
   "source": [
    " df1[df1['CEDULA_COD']==126]"
   ]
  },
  {
   "cell_type": "code",
   "execution_count": null,
   "id": "61e44e66",
   "metadata": {
    "ExecuteTime": {
     "end_time": "2024-07-15T16:49:39.865820Z",
     "start_time": "2024-07-15T16:49:28.443179Z"
    }
   },
   "outputs": [],
   "source": [
    "#Se seleccionan los 5 mejores años de sueldo\n",
    "inicio = time.time()\n",
    "top = 5\n",
    "#top_sal = df1.groupby('CEDULA_COD')['SAL_PROM_GRUPO'].nlargest(top).reset_index(level=0, drop=True)\n",
    "indices = df1.groupby('CEDULA_COD').apply(lambda x: x.index[:top]).explode()\n",
    "df2 = df1.loc[indices].reset_index(drop=True)\n",
    "fin = time.time()  \n",
    "print('Tiempo de ejecución es: ',  (fin-inicio)//3600, ' horas con ' ,  (fin-inicio)%3600//60 , ' minutos y', (fin-inicio)%60, ' segundos' )"
   ]
  },
  {
   "cell_type": "code",
   "execution_count": null,
   "id": "4590b8c7",
   "metadata": {
    "ExecuteTime": {
     "end_time": "2024-07-15T16:49:39.886734Z",
     "start_time": "2024-07-15T16:49:39.867971Z"
    }
   },
   "outputs": [],
   "source": [
    "df2[df2['CEDULA_COD']==126]"
   ]
  },
  {
   "cell_type": "code",
   "execution_count": null,
   "id": "7a5efcc3",
   "metadata": {
    "ExecuteTime": {
     "end_time": "2024-07-15T16:50:06.025672Z",
     "start_time": "2024-07-15T16:49:39.888915Z"
    }
   },
   "outputs": [],
   "source": [
    "#Seleccionar los cinco mejores años del grupo total de años de aporte\n",
    "combinaciones = set(zip(df2['CEDULA_COD'], df2['GRUPO']))\n",
    "afi_sel_g_all['GRUPO_SEL'] = [(cedula, grupo) in combinaciones for cedula, grupo in zip(afi_sel_g_all['CEDULA_COD'], afi_sel_g_all['GRUPO'])]\n",
    "afi_sel_g_all['GRUPO_SEL'] = afi_sel_g_all['GRUPO_SEL'].astype(int)"
   ]
  },
  {
   "cell_type": "code",
   "execution_count": null,
   "id": "92f94379",
   "metadata": {},
   "outputs": [],
   "source": [
    "#Verificar que todas las cédulas tengan al menos 60 registros de los salarios\n",
    "ced_counts1 = afi_sel_g_all.drop_duplicates(subset=['CEDULA_COD', 'ANIO', 'MES'])['CEDULA_COD'].value_counts()\n",
    "ced_counts1[ced_counts1 < 60].index.nunique()"
   ]
  },
  {
   "cell_type": "code",
   "execution_count": null,
   "id": "7f02e554",
   "metadata": {
    "ExecuteTime": {
     "end_time": "2024-07-15T16:50:06.134042Z",
     "start_time": "2024-07-15T16:50:06.027696Z"
    }
   },
   "outputs": [],
   "source": [
    "afi_sel_g_all[afi_sel_g_all['CEDULA_COD']==126].tail(60)"
   ]
  },
  {
   "cell_type": "code",
   "execution_count": null,
   "id": "964f1d61",
   "metadata": {
    "ExecuteTime": {
     "end_time": "2024-07-15T16:50:43.971377Z",
     "start_time": "2024-07-15T16:50:06.135066Z"
    }
   },
   "outputs": [],
   "source": [
    "#Se crea una variable fecha para el período de mejores años y la base de cálculo\n",
    "inicio = time.time()\n",
    "mejores = afi_sel_g_all[afi_sel_g_all['GRUPO_SEL']==1].copy()\n",
    "mejores.loc[:, 'FECHA'] = pd.to_datetime(mejores['ANIO'].astype(str) + '-' + mejores['MES'].astype(str).str.zfill(2) + '-01')\n",
    "\n",
    "#Se calcula la base de calculo\n",
    "df_prom = mejores.groupby('CEDULA_COD')['SALARIO'].mean()\n",
    "fin = time.time()  \n",
    "print('Tiempo de ejecución es: ',  (fin-inicio)//3600, ' horas con ' ,  (fin-inicio)%3600//60 , ' minutos y', (fin-inicio)%60, ' segundos' )"
   ]
  },
  {
   "cell_type": "code",
   "execution_count": null,
   "id": "72f96eda",
   "metadata": {
    "ExecuteTime": {
     "end_time": "2024-07-15T16:50:43.973544Z",
     "start_time": "2024-07-15T16:50:43.973544Z"
    }
   },
   "outputs": [],
   "source": [
    "mejores"
   ]
  },
  {
   "cell_type": "code",
   "execution_count": null,
   "id": "97e8eed6",
   "metadata": {
    "ExecuteTime": {
     "end_time": "2024-07-15T16:50:43.974547Z",
     "start_time": "2024-07-15T16:50:43.974547Z"
    }
   },
   "outputs": [],
   "source": [
    "afi_sel_g_all['INI_CAL'] = afi_sel_g_all['CEDULA_COD'].map( mejores.groupby('CEDULA_COD')['FECHA'].max() )\n",
    "afi_sel_g_all['FIN_CAL'] = afi_sel_g_all['CEDULA_COD'].map( mejores.groupby('CEDULA_COD')['FECHA'].min() )\n",
    "afi_sel_g_all['BASE_CAL'] = afi_sel_g_all['CEDULA_COD'].map( df_prom )"
   ]
  },
  {
   "cell_type": "code",
   "execution_count": null,
   "id": "43447a9b",
   "metadata": {},
   "outputs": [],
   "source": [
    "caract['INI_CAL'] = caract['CEDULA_COD'].map( mejores.groupby('CEDULA_COD')['FECHA'].max() )\n",
    "caract['FIN_CAL'] = caract['CEDULA_COD'].map( mejores.groupby('CEDULA_COD')['FECHA'].min() )\n",
    "caract['BASE_CAL'] = caract['CEDULA_COD'].map( df_prom )\n",
    "caract"
   ]
  },
  {
   "cell_type": "code",
   "execution_count": null,
   "id": "63f0f8d6",
   "metadata": {
    "ExecuteTime": {
     "end_time": "2024-07-15T16:50:43.976543Z",
     "start_time": "2024-07-15T16:50:43.976543Z"
    }
   },
   "outputs": [],
   "source": [
    "del df1, df2, mejores"
   ]
  },
  {
   "cell_type": "code",
   "execution_count": null,
   "id": "8c4d61ef",
   "metadata": {
    "ExecuteTime": {
     "end_time": "2024-07-15T16:50:43.977547Z",
     "start_time": "2024-07-15T16:50:43.977547Z"
    }
   },
   "outputs": [],
   "source": [
    "afi_sel_g_all[ (afi_sel_g_all['CEDULA_COD']==126) & (afi_sel_g_all['GRUPO_SEL']==1)]['SALARIO'].mean()"
   ]
  },
  {
   "cell_type": "code",
   "execution_count": null,
   "id": "dcf1c923",
   "metadata": {
    "ExecuteTime": {
     "end_time": "2024-07-15T16:50:43.978544Z",
     "start_time": "2024-07-15T16:50:43.978544Z"
    }
   },
   "outputs": [],
   "source": [
    "afi_sel_g_all[ (afi_sel_g_all['CEDULA_COD']==126)]"
   ]
  },
  {
   "cell_type": "code",
   "execution_count": null,
   "id": "91b8ca09",
   "metadata": {},
   "outputs": [],
   "source": [
    "# #     df = asignar_grupo(sect, n_grupo)\n",
    "# #     df1 = valores_unicos_grupos(df)\n",
    "# #     df2 = sel_top_salarios(df1, top)\n",
    "# #     df = sel_grupo(df, df2)\n",
    "#     df = fec_sel_grupo(df)\n",
    "#     df = base_cal(df)\n",
    "#     df = ati_base_cal_m1(df, inferior)\n",
    "#     df = base_cal_sin_ati_m1(df)\n",
    "#     df = sbu_ajuste_m1(df, SBU)"
   ]
  },
  {
   "cell_type": "code",
   "execution_count": null,
   "id": "197dac7a",
   "metadata": {
    "ExecuteTime": {
     "end_time": "2024-07-15T16:50:43.979546Z",
     "start_time": "2024-07-15T16:50:43.979546Z"
    }
   },
   "outputs": [],
   "source": [
    "#Registros con años menores al 2000\n",
    "afi_sel_g_all[afi_sel_g_all['FIN_CAL'].dt.year<2000]"
   ]
  },
  {
   "cell_type": "code",
   "execution_count": null,
   "id": "cef47382",
   "metadata": {
    "ExecuteTime": {
     "end_time": "2024-07-15T16:50:43.981545Z",
     "start_time": "2024-07-15T16:50:43.981545Z"
    }
   },
   "outputs": [],
   "source": [
    "#Se agrega el valor del SBU\n",
    "SBU = pd.DataFrame( { 'ANIO':[2000,2001,2002, 2003, 2004, 2005, 2006, 2007, 2008, 2009, 2010, 2011, 2012, 2013, 2014, 2015, 2016, 2017, 2018, 2019, 2020,\n",
    "                              2021, 2022, 2023, 2024],\n",
    "                      'VALOR':[57,85.65,105, 122, 136, 150, 160, 170, 200, 218, 240, 264, 292, 318, 340, 354, 366, 375, 386, 394, 400, \n",
    "                              400, 425, 450, 460]})\n",
    "SBU"
   ]
  },
  {
   "cell_type": "code",
   "execution_count": null,
   "id": "c1ce61c6",
   "metadata": {
    "ExecuteTime": {
     "end_time": "2024-07-15T16:50:43.982578Z",
     "start_time": "2024-07-15T16:50:43.982578Z"
    }
   },
   "outputs": [],
   "source": [
    "afi_sel_g_all['SBU'] = afi_sel_g_all['ANIO'].map( SBU.groupby('ANIO')['VALOR'].first())"
   ]
  },
  {
   "cell_type": "code",
   "execution_count": null,
   "id": "9b77c8dc",
   "metadata": {
    "ExecuteTime": {
     "end_time": "2024-07-15T16:50:43.983668Z",
     "start_time": "2024-07-15T16:50:43.983668Z"
    }
   },
   "outputs": [],
   "source": [
    "afi_sel_g_all"
   ]
  },
  {
   "cell_type": "code",
   "execution_count": null,
   "id": "2719e7c9",
   "metadata": {
    "ExecuteTime": {
     "end_time": "2024-07-15T16:50:43.984670Z",
     "start_time": "2024-07-15T16:50:43.984670Z"
    }
   },
   "outputs": [],
   "source": [
    "#Cédula que tienen su historia laboral igual al SBU\n",
    "afi_sel_g_all['ID_SBU'] = afi_sel_g_all['SALARIO'] == afi_sel_g_all['SBU']\n",
    "#Si tiene -1 es un valor que no es un SBU en ese año y mes\n",
    "afi_sel_g_all['ID_SBU'] = afi_sel_g_all['ID_SBU'].astype(int)-1\n",
    "afi_sel_g_all"
   ]
  },
  {
   "cell_type": "code",
   "execution_count": null,
   "id": "fca249ce",
   "metadata": {},
   "outputs": [],
   "source": [
    "#Verificar que todas las cédulas tengan 60 registros\n",
    "ced_counts2 = afi_sel_g_all.drop_duplicates(subset=['CEDULA_COD', 'ANIO', 'MES'])['CEDULA_COD'].value_counts()\n",
    "ced_counts2[ced_counts2 < 60].index.nunique()"
   ]
  },
  {
   "cell_type": "code",
   "execution_count": null,
   "id": "d0c9f210",
   "metadata": {
    "ExecuteTime": {
     "end_time": "2024-07-15T16:50:43.986668Z",
     "start_time": "2024-07-15T16:50:43.986668Z"
    }
   },
   "outputs": [],
   "source": [
    "afi_sel_g_all[afi_sel_g_all['CEDULA_COD']==126].shape"
   ]
  },
  {
   "cell_type": "code",
   "execution_count": null,
   "id": "be1b64fc",
   "metadata": {
    "ExecuteTime": {
     "end_time": "2024-07-15T16:50:43.987670Z",
     "start_time": "2024-07-15T16:50:43.987670Z"
    }
   },
   "outputs": [],
   "source": [
    "afi_sel_g_all[(afi_sel_g_all['CEDULA_COD']==126) & (afi_sel_g_all['GRUPO_SEL']==1)]"
   ]
  },
  {
   "cell_type": "code",
   "execution_count": null,
   "id": "c0a09e4a",
   "metadata": {},
   "outputs": [],
   "source": [
    "# Nombre del archivo\n",
    "nombre_archivo = 'viu_clean_afi_sel_g_all_2.pkl'\n",
    "# Ruta completa del archivo\n",
    "ruta_archivo = os.path.join(directorio, nombre_archivo)\n",
    "# Objetos a guardar\n",
    "objeto5 = afi_sel_g_all\n",
    "\n",
    "# Guardar los objetos en el archivo\n",
    "with open(ruta_archivo, 'wb') as archivo:\n",
    "    pickle.dump(objeto5, archivo)          "
   ]
  },
  {
   "cell_type": "code",
   "execution_count": null,
   "id": "8a54aec4",
   "metadata": {},
   "outputs": [],
   "source": [
    "del objeto5"
   ]
  },
  {
   "cell_type": "code",
   "execution_count": null,
   "id": "0ba21b68",
   "metadata": {},
   "outputs": [],
   "source": [
    "#Selección de cedulas con sus mejores años de sueldo y que su salario no sea un SBU\n",
    "data_sin_ati = afi_sel_g_all[ (afi_sel_g_all['GRUPO_SEL']==1) & (afi_sel_g_all['ID_SBU']!=-1)]\n",
    "data_ati = afi_sel_g_all[ (afi_sel_g_all['GRUPO_SEL']==1) & (afi_sel_g_all['ID_SBU']!=0)]"
   ]
  },
  {
   "cell_type": "code",
   "execution_count": null,
   "id": "0a14bf2d",
   "metadata": {},
   "outputs": [],
   "source": [
    "data_ati.shape #(21022610, 15)\n",
    "data_sin_ati.shape #(5449506, 15)"
   ]
  },
  {
   "cell_type": "code",
   "execution_count": null,
   "id": "1bcf53b0",
   "metadata": {},
   "outputs": [],
   "source": [
    "data_ati[data_ati['CEDULA_COD']==126][['CEDULA_COD','ANIO','MES','SALARIO']].shape"
   ]
  },
  {
   "cell_type": "code",
   "execution_count": null,
   "id": "faf69b4e",
   "metadata": {},
   "outputs": [],
   "source": [
    "data_ati[data_ati['CEDULA_COD']==126]"
   ]
  },
  {
   "cell_type": "code",
   "execution_count": null,
   "id": "e63dc2c2",
   "metadata": {},
   "outputs": [],
   "source": [
    "# Nombre del archivo\n",
    "nombre_archivo = 'viu_clean_data_ati.pkl'\n",
    "# Ruta completa del archivo\n",
    "ruta_archivo = os.path.join(directorio, nombre_archivo)\n",
    "# Objetos a guardar\n",
    "objeto6 = data_ati\n",
    "\n",
    "# Guardar los objetos en el archivo\n",
    "with open(ruta_archivo, 'wb') as archivo:\n",
    "    pickle.dump(objeto6, archivo)         \n",
    "\n",
    "# Nombre del archivo\n",
    "nombre_archivo = 'viu_clean_data_sin_ati.pkl'\n",
    "# Ruta completa del archivo\n",
    "ruta_archivo = os.path.join(directorio, nombre_archivo)\n",
    "# Objetos a guardar\n",
    "objeto7 = data_sin_ati\n",
    "\n",
    "# Guardar los objetos en el archivo\n",
    "with open(ruta_archivo, 'wb') as archivo:\n",
    "    pickle.dump(objeto7, archivo)     \n",
    "    \n",
    "del objeto6, objeto7"
   ]
  },
  {
   "cell_type": "code",
   "execution_count": 3,
   "id": "a1526f38",
   "metadata": {
    "ExecuteTime": {
     "end_time": "2024-07-25T13:54:37.871992Z",
     "start_time": "2024-07-25T13:53:30.659011Z"
    }
   },
   "outputs": [],
   "source": [
    "#Cargar los archivos\n",
    "directorio = r_ruta\n",
    "nombre_archivo = 'viu_clean_afi_sel_g_all_2.pkl'\n",
    "ruta_archivo = os.path.join(directorio, nombre_archivo)\n",
    "\n",
    "with open( ruta_archivo, 'rb') as archivo:\n",
    "    data_l = pickle.load( archivo )     "
   ]
  },
  {
   "cell_type": "code",
   "execution_count": 4,
   "id": "db0b424a",
   "metadata": {
    "ExecuteTime": {
     "end_time": "2024-07-25T13:54:37.883025Z",
     "start_time": "2024-07-25T13:54:37.875032Z"
    }
   },
   "outputs": [
    {
     "data": {
      "text/plain": [
       "(62130167, 15)"
      ]
     },
     "execution_count": 4,
     "metadata": {},
     "output_type": "execute_result"
    }
   ],
   "source": [
    "#Análisis de atípicos\n",
    "#Método de clustering jerárquico\n",
    "data_l.shape #(62130167, 15)"
   ]
  },
  {
   "cell_type": "code",
   "execution_count": 5,
   "id": "a6177b78",
   "metadata": {
    "ExecuteTime": {
     "end_time": "2024-07-25T13:55:31.932891Z",
     "start_time": "2024-07-25T13:54:37.884857Z"
    }
   },
   "outputs": [
    {
     "name": "stdout",
     "output_type": "stream",
     "text": [
      "Tiempo de ejecución es:  0.0  horas con  0.0  minutos y 53.70737981796265  segundos\n"
     ]
    }
   ],
   "source": [
    "inicio = time.time()\n",
    "data_l = data_l.sort_values( by=[\"CEDULA_COD\",\"ANIO\", \"MES\"], ascending=[ True, True, True] )\n",
    "data_l.reset_index(inplace=True)\n",
    "data_l.rename(columns={'index': 'nuevo_indice'}, inplace=True)\n",
    "data_l.drop(columns=['nuevo_indice'], inplace=True)\n",
    "data_l['INDICE'] = data_l.index\n",
    "\n",
    "#Casos de no análisis\n",
    "data_no_grupo = data_l[ (data_l['GRUPO_SEL']==0) ].copy()\n",
    "data_no_grupo['ATI_CJ_M1'] = np.nan\n",
    "data_no_grupo['ATI_CJ_M2'] = np.nan\n",
    "data_no_grupo['ATI_CJ_M3'] = np.nan\n",
    "\n",
    "#Casos de análisis\n",
    "data = data_l[ (data_l['GRUPO_SEL']==1) ].copy()\n",
    "\n",
    "fin = time.time()  \n",
    "print('Tiempo de ejecución es: ',  (fin-inicio)//3600, ' horas con ' ,  (fin-inicio)%3600//60 , ' minutos y', (fin-inicio)%60, ' segundos' )\n"
   ]
  },
  {
   "cell_type": "code",
   "execution_count": 25,
   "id": "7baa127e",
   "metadata": {
    "ExecuteTime": {
     "end_time": "2024-07-25T16:52:12.117273Z",
     "start_time": "2024-07-25T16:52:12.058336Z"
    }
   },
   "outputs": [],
   "source": [
    "#Para ejecutar el cluster jerarquico\n",
    "def cluster_jerarquico( data_si_dic, k):\n",
    "    inicio = time.time()\n",
    "    nom = 'ATI_CJ_M' + str( k+1 )\n",
    "    data_val_ati = {}\n",
    "    for cedula in data_si_dic:\n",
    "\n",
    "        if( len( data_si_dic[ cedula ]['SALARIO'] ) > 1 ): #Para formar al menos un cluster\n",
    "\n",
    "            aux = np.array( data_si_dic[ cedula ]['SALARIO'] ).reshape(-1, 1)\n",
    "            Z = linkage( aux , method='single', metric='euclidean')\n",
    "\n",
    "            num_clusters = 2  # Puedes ajustar este valor según tus necesidades\n",
    "            clusters = fcluster(Z, num_clusters, criterion='maxclust')\n",
    "\n",
    "            if( len( np.unique(clusters) ) > 1 ): #Para considerar al menos 2 cluster\n",
    "                # Calcular el centroide de cada clúster\n",
    "                cluster_centers = np.array([[ np.nanmean(aux[clusters == i], axis=0)[0], i ] for i in range(1, num_clusters + 1)] ) \n",
    "\n",
    "                Q1 = np.quantile(aux, 0.25)\n",
    "                Q3 = np.quantile(aux, 0.75)\n",
    "                IQR = Q3-Q1\n",
    "                LI = Q1 - 1.5 * IQR\n",
    "                LS = Q3 + 1.5 * IQR\n",
    "\n",
    "                cl_at = np.where( cluster_centers[:,0] > (LS +  1e-8) )[0]\n",
    "                cluster_centers[cl_at][:, 1]\n",
    "\n",
    "                mod_aux = np.zeros((len(aux), 2))\n",
    "                mod_aux[:, 0] = aux[:, 0]  # Copiar los valores originales de aux en la primera columna\n",
    "                mod_aux[np.isin(clusters, cluster_centers[cl_at][:, 1]), 1] = 1  # Asignar 1 en la segunda columna donde el cluster es 1\n",
    "\n",
    "                data_val_ati[cedula] = {'SALARIO': mod_aux[:, 0].tolist(),\n",
    "                                             nom : mod_aux[:, 1].tolist(),\n",
    "                                        'INDICE' : data_si_dic[ cedula ]['INDICE']}\n",
    "            else:\n",
    "                data_val_ati[cedula] = { 'SALARIO': aux.flatten().tolist(),\n",
    "                                               nom:  [-1] * len(aux),\n",
    "                                         'INDICE' : data_si_dic[ cedula ]['INDICE']} \n",
    "\n",
    "        else:\n",
    "            data_val_ati[cedula] = { 'SALARIO': data_si_dic[ cedula ]['SALARIO'],\n",
    "                                           nom:  [-2] * len( data_si_dic[ cedula ]['SALARIO'] ),\n",
    "                                     'INDICE' : data_si_dic[ cedula ]['INDICE']}\n",
    "    fin = time.time()  \n",
    "    print('\\tTiempo de ejecución es: ',  (fin-inicio)//3600, ' horas con ' ,  (fin-inicio)%3600//60 , ' minutos y', (fin-inicio)%60, ' segundos' )\n",
    "    \n",
    "    return data_val_ati\n",
    " \n",
    "#Para unir los resultados\n",
    "def extend_data( data_val_ati, k ):\n",
    "    inicio = time.time()\n",
    "    nom = 'ATI_CJ_M' + str( k + 1 )\n",
    "    data1 = { 'CEDULA_COD': [], 'SALARIO': [], nom : [], 'INDICE':[]}\n",
    "\n",
    "    # Llenar las listas con los datos del diccionario\n",
    "    for cedula, values in data_val_ati.items():\n",
    "        salario = values['SALARIO']\n",
    "        atipico = values[ nom ]\n",
    "        indice = values['INDICE']\n",
    "        num_rows = len(salario)\n",
    "\n",
    "        # Extender las listas en el diccionario de datos\n",
    "        data1['CEDULA_COD'].extend([cedula] * num_rows)\n",
    "        data1['SALARIO'].extend(salario)\n",
    "        data1[ nom ].extend(atipico)\n",
    "        data1['INDICE'].extend(indice)\n",
    "\n",
    "    fin = time.time()  \n",
    "    print('\\tTiempo de ejecución es: ',  (fin-inicio)//3600, ' horas con ' ,  (fin-inicio)%3600//60 , ' minutos y', (fin-inicio)%60, ' segundos' )\n",
    "    return data1\n",
    "\n",
    "#Para graficar el comportamiento de los atipicos\n",
    "def graf_ati(ced, k):\n",
    "    nom = 'ATI_CJ_M'+ str(k)\n",
    "    dt = data_l[(data_l['GRUPO_SEL']==1) & (data_l['CEDULA_COD']==ced)]\n",
    "    unique_ati = dt[ nom ].nunique()\n",
    "    categories = dt[ nom ].unique()\n",
    "\n",
    "    # Generar una lista de colores discretos\n",
    "    colors = plt.cm.coolwarm(np.linspace(0, 1, unique_ati))\n",
    "\n",
    "    # Crear un mapa de colores discreto\n",
    "    cmap = ListedColormap(colors)\n",
    "\n",
    "    # Graficar\n",
    "    plt.figure(figsize=(8, 5))\n",
    "    scatter = plt.scatter(dt.index, dt['SALARIO'], c=dt[ nom ], cmap=cmap)\n",
    "\n",
    "    plt.xlabel('Index')\n",
    "    plt.ylabel('Salario')\n",
    "    plt.title('Gráfico de Salario')\n",
    "\n",
    "    # Crear una leyenda discreta personalizada\n",
    "    # Definir las etiquetas para cada categoría\n",
    "    labels = { 0: 'No es atípico', 1: 'Es atípico', -1: 'Es un solo clúter', -2:'No forma parte del proceso'}\n",
    "\n",
    "    # Crear los handles para la leyenda\n",
    "    handles = [plt.Line2D([0], [0], marker='o', color='w', \n",
    "                          markersize=10, markerfacecolor=cmap(i), \n",
    "                          label=labels[i]) for i in categories]\n",
    "\n",
    "    plt.legend(handles=handles, title='Tipo de Salario')\n",
    "    plt.show()"
   ]
  },
  {
   "cell_type": "code",
   "execution_count": 7,
   "id": "54c0c1e4",
   "metadata": {
    "ExecuteTime": {
     "end_time": "2024-07-25T14:13:10.321316Z",
     "start_time": "2024-07-25T13:55:31.987807Z"
    }
   },
   "outputs": [
    {
     "name": "stdout",
     "output_type": "stream",
     "text": [
      "************************************************** Caso  1 **************************************************\n",
      "Tamaño de la data utilizada dentro de los años seleccionados (26006294, 16)\n",
      "Tamaño de la data no utilizada dentro de los años seleccionados (465822, 17)\n",
      "Algoritmo Cluster Jerárquico\n",
      "\tTiempo de ejecución es:  0.0  horas con  4.0  minutos y 19.01749539375305  segundos\n",
      "Extensión del diccionario\n",
      "\tTiempo de ejecución es:  0.0  horas con  0.0  minutos y 3.405071496963501  segundos\n",
      "Concatenación de dataframe\n",
      "\tTiempo de ejecución es:  0.0  horas con  0.0  minutos y 44.72632884979248  segundos\n",
      "Creación de la columna\n",
      "\tTiempo de ejecución es:  0.0  horas con  0.0  minutos y 0.46343994140625  segundos\n",
      "Verificación de posibles errores\n",
      "\tTiempo de ejecución es:  0.0  horas con  0.0  minutos y 2.3847646713256836  segundos\n",
      "************************************************************************************************************ \n",
      "\n",
      "************************************************** Caso  2 **************************************************\n",
      "Tamaño de la data utilizada dentro de los años seleccionados (26472116, 16)\n",
      "Algoritmo Cluster Jerárquico\n",
      "\tTiempo de ejecución es:  0.0  horas con  4.0  minutos y 21.141281843185425  segundos\n",
      "Extensión del diccionario\n",
      "\tTiempo de ejecución es:  0.0  horas con  0.0  minutos y 3.5819787979125977  segundos\n",
      "Concatenación de dataframe\n",
      "\tTiempo de ejecución es:  0.0  horas con  0.0  minutos y 25.946322202682495  segundos\n",
      "Creación de la columna\n",
      "\tTiempo de ejecución es:  0.0  horas con  0.0  minutos y 0.4001128673553467  segundos\n",
      "Verificación de posibles errores\n",
      "\tTiempo de ejecución es:  0.0  horas con  0.0  minutos y 5.3952531814575195  segundos\n",
      "************************************************************************************************************ \n",
      "\n",
      "************************************************** Caso  3 **************************************************\n",
      "Tamaño de la data utilizada dentro de los años seleccionados (26464662, 16)\n",
      "Tamaño de la data no utilizada dentro de los años seleccionados (7454, 17)\n",
      "Algoritmo Cluster Jerárquico\n",
      "\tTiempo de ejecución es:  0.0  horas con  4.0  minutos y 19.753244638442993  segundos\n",
      "Extensión del diccionario\n",
      "\tTiempo de ejecución es:  0.0  horas con  0.0  minutos y 3.112093210220337  segundos\n",
      "Concatenación de dataframe\n",
      "\tTiempo de ejecución es:  0.0  horas con  0.0  minutos y 25.986399173736572  segundos\n",
      "Creación de la columna\n",
      "\tTiempo de ejecución es:  0.0  horas con  0.0  minutos y 0.3772306442260742  segundos\n",
      "Verificación de posibles errores\n",
      "\tTiempo de ejecución es:  0.0  horas con  0.0  minutos y 7.551459074020386  segundos\n",
      "************************************************************************************************************ \n",
      "\n"
     ]
    }
   ],
   "source": [
    "#Se crea un bucle para cada caso\n",
    "for k in range(0,3):\n",
    "    nom = 'ATI_CJ_M' + str( k+1 )\n",
    "    if (k==0):\n",
    "        ##Primer Caso--Considerando solo los salarios mayores al SBU y desde el año 2000\n",
    "        print('*' * 50, 'Caso ', str( k+1 ), '*' * 50)\n",
    "        data_si = data[   ( data['SALARIO'] >= data['SBU'] ) & ( data['ANIO'] >= 2000 ) ].copy() \n",
    "        data_no = data[ ~(( data['SALARIO'] >= data['SBU'] ) & ( data['ANIO'] >= 2000 )) ].copy() \n",
    "        data_no[ nom ] = np.nan\n",
    "        print('Tamaño de la data utilizada dentro de los años seleccionados', data_si.shape) #(26006294, 16)\n",
    "        print('Tamaño de la data no utilizada dentro de los años seleccionados',data_no.shape)  #(465822, 16)\n",
    "        \n",
    "        data_si_dic = data_si.groupby('CEDULA_COD').agg({'SALARIO': list, 'INDICE': list}).to_dict(orient='index')\n",
    "        data_no_dic = data_no.groupby('CEDULA_COD').agg({'SALARIO': list, 'INDICE': list}).to_dict(orient='index')\n",
    "        \n",
    "        print('Algoritmo Cluster Jerárquico')\n",
    "        data_val_ati = cluster_jerarquico( data_si_dic, k )\n",
    "        print('Extensión del diccionario')\n",
    "        data1 = extend_data( data_val_ati, k )\n",
    "        \n",
    "        print('Concatenación de dataframe')\n",
    "        inicio = time.time()\n",
    "        data_jerar = None\n",
    "        data_jerar = pd.concat( [ data_no_grupo[['CEDULA_COD', 'SALARIO',  nom , 'INDICE']],\n",
    "                                  pd.DataFrame( data1 ), \n",
    "                                  data_no[['CEDULA_COD', 'SALARIO',  nom , 'INDICE']] ], axis=0)\n",
    "    \n",
    "        data_jerar = data_jerar.sort_values( by=[\"INDICE\"], ascending=[ True ] )\n",
    "        data_jerar.reset_index(inplace=True)\n",
    "        data_jerar.rename(columns={'index': 'nuevo_indice'}, inplace=True)\n",
    "        data_jerar.drop(columns=['nuevo_indice'], inplace=True)\n",
    "        fin = time.time()  \n",
    "        print('\\tTiempo de ejecución es: ',  (fin-inicio)//3600, ' horas con ' ,  (fin-inicio)%3600//60 , ' minutos y', (fin-inicio)%60, ' segundos' )\n",
    "        \n",
    "        print('Creación de la columna')\n",
    "        inicio = time.time()\n",
    "        data_l[ nom ] = np.nan\n",
    "        aux = data_jerar[ nom ].to_numpy()\n",
    "        data_l.iloc[:, data_l.columns.get_loc( nom )] = aux\n",
    "        fin = time.time()  \n",
    "        print('\\tTiempo de ejecución es: ',  (fin-inicio)//3600, ' horas con ' ,  (fin-inicio)%3600//60 , ' minutos y', (fin-inicio)%60, ' segundos' )\n",
    "        \n",
    "        print('Verificación de posibles errores')\n",
    "        inicio = time.time()\n",
    "        dif1 = data_l[data_l['SALARIO']!= data_jerar['SALARIO']].index\n",
    "        fin = time.time()  \n",
    "        print('\\tTiempo de ejecución es: ',  (fin-inicio)//3600, ' horas con ' ,  (fin-inicio)%3600//60 , ' minutos y', (fin-inicio)%60, ' segundos' )\n",
    "        print('*' * 108, '\\n')  \n",
    "        \n",
    "    if (k==1):\n",
    "        ##Segundo Caso--Considerando todo el registro de los mejores años\n",
    "        print('*' * 50, 'Caso ', str( k+1 ), '*' * 50)\n",
    "        data_si = data.copy()\n",
    "        print('Tamaño de la data utilizada dentro de los años seleccionados', data_si.shape) \n",
    "        \n",
    "        data_si_dic = data_si.groupby('CEDULA_COD').agg({'SALARIO': list, 'INDICE': list}).to_dict(orient='index')\n",
    "        \n",
    "        print('Algoritmo Cluster Jerárquico')\n",
    "        data_val_ati = cluster_jerarquico( data_si_dic, k )\n",
    "        print('Extensión del diccionario')\n",
    "        data1 = extend_data( data_val_ati, k )\n",
    "        \n",
    "        print('Concatenación de dataframe')\n",
    "        inicio = time.time()\n",
    "        data_jerar = None\n",
    "        data_jerar = pd.concat( [ data_no_grupo[['CEDULA_COD', 'SALARIO', nom, 'INDICE']],\n",
    "                                  pd.DataFrame( data1 ) ], axis=0)\n",
    "    \n",
    "        data_jerar = data_jerar.sort_values( by=[\"INDICE\"], ascending=[ True ] )\n",
    "        data_jerar.reset_index(inplace=True)\n",
    "        data_jerar.rename(columns={'index': 'nuevo_indice'}, inplace=True)\n",
    "        data_jerar.drop(columns=['nuevo_indice'], inplace=True)\n",
    "        fin = time.time()  \n",
    "        print('\\tTiempo de ejecución es: ',  (fin-inicio)//3600, ' horas con ' ,  (fin-inicio)%3600//60 , ' minutos y', (fin-inicio)%60, ' segundos' )\n",
    "        \n",
    "        print('Creación de la columna')\n",
    "        inicio = time.time()\n",
    "        data_l[ nom ] = np.nan\n",
    "        aux = data_jerar[ nom ].to_numpy()\n",
    "        data_l.iloc[:, data_l.columns.get_loc( nom ) ] = aux\n",
    "        fin = time.time()  \n",
    "        print('\\tTiempo de ejecución es: ',  (fin-inicio)//3600, ' horas con ' ,  (fin-inicio)%3600//60 , ' minutos y', (fin-inicio)%60, ' segundos' )\n",
    "        \n",
    "        print('Verificación de posibles errores')\n",
    "        inicio = time.time()\n",
    "        dif2 = data_l[data_l['SALARIO']!= data_jerar['SALARIO']].index\n",
    "        fin = time.time()  \n",
    "        print('\\tTiempo de ejecución es: ',  (fin-inicio)//3600, ' horas con ' ,  (fin-inicio)%3600//60 , ' minutos y', (fin-inicio)%60, ' segundos' )\n",
    "        print('*' * 108, '\\n')\n",
    "        \n",
    "    if (k==2):\n",
    "        ##Tercer Caso--Considerando todo el registro de los mejores años, pero a partir del año 2000\n",
    "        print('*' * 50, 'Caso ', str( k+1 ), '*' * 50)\n",
    "        data_si = data[  ( ( data['ANIO'] >= 2000 )) ].copy()\n",
    "        data_no = data[ ~( ( data['ANIO'] >= 2000 )) ].copy()   \n",
    "        data_no[ nom ] = np.nan\n",
    "        print('Tamaño de la data utilizada dentro de los años seleccionados', data_si.shape) \n",
    "        print('Tamaño de la data no utilizada dentro de los años seleccionados',data_no.shape) \n",
    "        \n",
    "        data_si_dic = data_si.groupby('CEDULA_COD').agg({'SALARIO': list, 'INDICE': list}).to_dict(orient='index')\n",
    "        data_no_dic = data_no.groupby('CEDULA_COD').agg({'SALARIO': list, 'INDICE': list}).to_dict(orient='index')\n",
    "        \n",
    "        print('Algoritmo Cluster Jerárquico')\n",
    "        data_val_ati = cluster_jerarquico( data_si_dic, k )\n",
    "        print('Extensión del diccionario')\n",
    "        data1 = extend_data( data_val_ati, k )\n",
    "        \n",
    "        print('Concatenación de dataframe')\n",
    "        inicio = time.time()\n",
    "        data_jerar = None\n",
    "        data_jerar = pd.concat( [ data_no_grupo[['CEDULA_COD', 'SALARIO', nom, 'INDICE']],\n",
    "                                  pd.DataFrame( data1 ), \n",
    "                                  data_no[['CEDULA_COD', 'SALARIO', nom, 'INDICE']] ], axis=0)\n",
    "    \n",
    "        data_jerar = data_jerar.sort_values( by=[\"INDICE\"], ascending=[ True ] )\n",
    "        data_jerar.reset_index(inplace=True)\n",
    "        data_jerar.rename(columns={'index': 'nuevo_indice'}, inplace=True)\n",
    "        data_jerar.drop(columns=['nuevo_indice'], inplace=True)\n",
    "        fin = time.time()  \n",
    "        print('\\tTiempo de ejecución es: ',  (fin-inicio)//3600, ' horas con ' ,  (fin-inicio)%3600//60 , ' minutos y', (fin-inicio)%60, ' segundos' )\n",
    "        \n",
    "        print('Creación de la columna')\n",
    "        inicio = time.time()\n",
    "        data_l[ nom ] = np.nan\n",
    "        aux = data_jerar[ nom ].to_numpy()\n",
    "        data_l.iloc[:, data_l.columns.get_loc( nom )] = aux\n",
    "        fin = time.time()  \n",
    "        print('\\tTiempo de ejecución es: ',  (fin-inicio)//3600, ' horas con ' ,  (fin-inicio)%3600//60 , ' minutos y', (fin-inicio)%60, ' segundos' )\n",
    "        \n",
    "        print('Verificación de posibles errores')\n",
    "        inicio = time.time()\n",
    "        dif3 = data_l[data_l['SALARIO']!= data_jerar['SALARIO']].index\n",
    "        fin = time.time()  \n",
    "        print('\\tTiempo de ejecución es: ',  (fin-inicio)//3600, ' horas con ' ,  (fin-inicio)%3600//60 , ' minutos y', (fin-inicio)%60, ' segundos' )\n",
    "        print('*' * 108, '\\n')\n",
    "\n",
    "\n",
    "\n",
    "        "
   ]
  },
  {
   "cell_type": "code",
   "execution_count": 8,
   "id": "996ae463",
   "metadata": {
    "ExecuteTime": {
     "end_time": "2024-07-25T14:46:08.495237Z",
     "start_time": "2024-07-25T14:13:10.718522Z"
    }
   },
   "outputs": [],
   "source": [
    "#Se calculan los limítes máximos de aportación en función de la HL\n",
    "##Primer Caso -- Para toda la historia laboral\n",
    "grupo1 = data_l.copy()\n",
    "Q1 = grupo1.groupby('CEDULA_COD')['SALARIO'].quantile(0.25)\n",
    "Q3 = grupo1.groupby('CEDULA_COD')['SALARIO'].quantile(0.75)\n",
    "IQR = Q3-Q1\n",
    "LI = Q1 - 1.5 * IQR\n",
    "LS = Q3 + 1.5 * IQR\n",
    "data_l['LS1'] = data_l['CEDULA_COD'].map( LS )\n",
    "##Segundo Caso --Para la historia laboral a partir del año 2020\n",
    "grupo2 = data_l[data_l['ANIO']>=2000].copy()\n",
    "Q1 = grupo2.groupby('CEDULA_COD')['SALARIO'].quantile(0.25)\n",
    "Q3 = grupo2.groupby('CEDULA_COD')['SALARIO'].quantile(0.75)\n",
    "IQR = Q3-Q1\n",
    "LI = Q1 - 1.5 * IQR\n",
    "LS = Q3 + 1.5 * IQR\n",
    "data_l['LS2'] = data_l['CEDULA_COD'].map( LS )"
   ]
  },
  {
   "cell_type": "code",
   "execution_count": null,
   "id": "526778c8",
   "metadata": {
    "ExecuteTime": {
     "end_time": "2024-07-24T20:49:09.599399Z",
     "start_time": "2024-07-24T20:49:09.382160Z"
    }
   },
   "outputs": [],
   "source": [
    "#El valor de NA implica que esos datos no son parte de data_si, por lo que no se analizaron\n",
    "#El valor de -1 implica que se formó un solo cluster\n",
    "#El valor de -2 implica que en la selección de datos (data_si), la cedula solo tenía un único valor para formar los cluster\n",
    "#por lo que, para el caso 2, no deben hacer valores de -2, porque se toma en cuenta toda la HL\n",
    "\n",
    "##Primero se analiza el caso de los valores -2 método 1\n",
    "# data_l[ ( data_l['GRUPO_SEL']==1 )]['ATI_CJ_M3'].unique()\n",
    "# data_l[ ( data_l['GRUPO_SEL']==1 ) & (data_l['ATI_CJ_M1']==-2)] \n",
    "# data_l[ ( data_l['GRUPO_SEL']==1 ) & (data_l['ATI_CJ_M1'].isna())]  #465822 rows × 21 columns\n",
    "# data_l[ ( data_l['GRUPO_SEL']==1 ) & (data_l['ATI_CJ_M1']==-1)]  # 3292785 rows × 21 columns\n",
    "\n",
    "#data_l[ ( data_l['GRUPO_SEL']==1 ) & (data_l['ATI_CJ_M2']==-1)]  #3125765\n",
    "\n",
    "#data_l[ ( data_l['GRUPO_SEL']==1 ) & (data_l['ATI_CJ_M3']==-2)]  #2 rows × 21 columns\n",
    "#data_l[ ( data_l['GRUPO_SEL']==1 ) & (data_l['ATI_CJ_M3'].isna())]  # 7454 rows × 21 columns\n",
    "data_l[ ( data_l['GRUPO_SEL']==1 ) & (data_l['ATI_CJ_M3']==-1)] #3125140 rows × 21 columns"
   ]
  },
  {
   "cell_type": "code",
   "execution_count": 9,
   "id": "4b28217e",
   "metadata": {
    "ExecuteTime": {
     "end_time": "2024-07-25T14:46:16.752536Z",
     "start_time": "2024-07-25T14:46:08.986645Z"
    }
   },
   "outputs": [],
   "source": [
    "#Caso 1- Correcciones\n",
    "#Se hacen las correcciones para los valores -2, en donde si el Salario es menor o igual a un SBU no es atípico( -2 -> 0 )\n",
    "data_l.loc[ ( (data_l['GRUPO_SEL']==1) & (data_l['ATI_CJ_M1']==-2) & (data_l['SALARIO'] <= data_l['SBU']) ), 'ATI_CJ_M1'] = 0 # nos quedan solo 23 casos que analizar, aplicado esto\n",
    "#Ahora se corrige en función deL Límite máximo de la HL a apartir del año 2000, pues es la fecha en la que entra en dolar a ecuador ( -2 -> 1 )\n",
    "data_l.loc[ ( (data_l['GRUPO_SEL']==1) & (data_l['ATI_CJ_M1']==-2) & (data_l['SALARIO'] > data_l['LS2']) ), 'ATI_CJ_M1'] = 1\n",
    "#Ahora se corrige en función del valores menoRes al limite máximo la HL a apartir del año 2000, pues es la fecha en la que entra en dolar a ecuador ( -2 -> 0 )\n",
    "data_l.loc[ ( (data_l['GRUPO_SEL']==1) & (data_l['ATI_CJ_M1']==-2) & (data_l['SALARIO'] <= data_l['LS2']) ), 'ATI_CJ_M1'] = 0\n",
    "\n",
    "#Se hacen las correcciones para los valores NA, en donde si el Salario es menor o igual a un SBU no es atípico( NA -> 0 )\n",
    "data_l.loc[ ( (data_l['GRUPO_SEL']==1) & (data_l['ATI_CJ_M1'].isna()) & (data_l['SALARIO'] <= data_l['SBU']) ), 'ATI_CJ_M1'] = 0  #quedan 7454 casos\n",
    "#Ahora se corrige en función deL Límite máximo de toda la HL, pues sno hay datos del SBU para atrás ( NA -> 1 )\n",
    "data_l.loc[ ( (data_l['GRUPO_SEL']==1) & (data_l['ATI_CJ_M1'].isna()) & (data_l['SALARIO'] > data_l['LS1']) ), 'ATI_CJ_M1'] = 1  #quedan 7190 casos\n",
    "#Ahora se corrige en función del valores menoRes al limite máximo la HL, pues sno hay datos del SBU para atrás ( NA -> 0 )\n",
    "data_l.loc[ ( (data_l['GRUPO_SEL']==1) & (data_l['ATI_CJ_M1'].isna()) & (data_l['SALARIO'] <= data_l['LS1']) ), 'ATI_CJ_M1'] = 0  #quedan 7190 casos\n",
    "\n",
    "#Se hacen las correcciones para los valores -1, en donde si el Salario es menor o igual a un SBU no es atípico( -1 -> 0 )\n",
    "data_l.loc[ ( (data_l['GRUPO_SEL']==1) & (data_l['ATI_CJ_M1']==-1) & (data_l['SALARIO'] <= data_l['SBU']) ), 'ATI_CJ_M1'] = 0 #quedan 2745303\n",
    "#Se hacen las correcciones para los valores -1, en donde si el Salario es mayor a LS1 es atípico( -1 -> 1 )\n",
    "data_l.loc[ ( (data_l['GRUPO_SEL']==1) & (data_l['ATI_CJ_M1']==-1) & (data_l['SALARIO'] > data_l['LS1']) ), 'ATI_CJ_M1'] = 1 #quedan 2730050\n",
    "#Se hacen las correcciones para los valores -1, en donde si el Salario es menor o igual a LS1 no es atípico( -1 -> 0 )\n",
    "data_l.loc[ ( (data_l['GRUPO_SEL']==1) & (data_l['ATI_CJ_M1']==-1) & (data_l['SALARIO'] <= data_l['LS1']) ), 'ATI_CJ_M1'] = 0 #quedan 2730050"
   ]
  },
  {
   "cell_type": "code",
   "execution_count": 10,
   "id": "3540288f",
   "metadata": {
    "ExecuteTime": {
     "end_time": "2024-07-25T14:46:19.391032Z",
     "start_time": "2024-07-25T14:46:17.620324Z"
    }
   },
   "outputs": [],
   "source": [
    "#Caso 2 - Correcciones\n",
    "#No existen valores igual a NA e igual a -2\n",
    "#Se hacen las correcciones para los valores -1, en donde si el Salario es menor o igual a un SBU no es atípico( -1 -> 0 )\n",
    "data_l.loc[ ( (data_l['GRUPO_SEL']==1) & (data_l['ATI_CJ_M2']==-1) & (data_l['SALARIO'] <= data_l['SBU']) ), 'ATI_CJ_M2'] = 0 #quedan  2685385 casos\n",
    "#Se hacen las correcciones para los valores -1, en donde si el Salario es mayor a LS1 es atípico( -1 -> 1 )\n",
    "data_l.loc[ ( (data_l['GRUPO_SEL']==1) & (data_l['ATI_CJ_M2']==-1) & (data_l['SALARIO'] > data_l['LS1']) ), 'ATI_CJ_M2'] = 1 # quedan 2671407\n",
    "#Se hacen las correcciones para los valores -1, en donde si el Salario es menor o igual a LS1 no es atípico( -1 -> 0 )\n",
    "data_l.loc[ ( (data_l['GRUPO_SEL']==1) & (data_l['ATI_CJ_M2']==-1) & (data_l['SALARIO'] <= data_l['LS1']) ), 'ATI_CJ_M2'] = 0"
   ]
  },
  {
   "cell_type": "code",
   "execution_count": 11,
   "id": "34bb134c",
   "metadata": {
    "ExecuteTime": {
     "end_time": "2024-07-25T14:46:23.432354Z",
     "start_time": "2024-07-25T14:46:19.534154Z"
    }
   },
   "outputs": [],
   "source": [
    "#Caso 3 - Correcciones\n",
    "#Se hacen las correcciones para los valores -2, en donde si el Salario es menor o igual a un SBU no es atípico( -2 -> 0 )\n",
    "data_l.loc[ ( (data_l['GRUPO_SEL']==1) & (data_l['ATI_CJ_M3']==-2) & (data_l['SALARIO'] <= data_l['SBU']) ), 'ATI_CJ_M3'] = 0 #quedan 2 casos\n",
    "#Ahora se corrige en función deL Límite máximo de la HL a apartir del año 2000, pues es la fecha en la que entra en dolar a ecuador ( -2 -> 1 )\n",
    "data_l.loc[ ( (data_l['GRUPO_SEL']==1) & (data_l['ATI_CJ_M3']==-2) & (data_l['SALARIO'] > data_l['LS2']) ), 'ATI_CJ_M3'] = 1 #quedan 2 casos\n",
    "#Ahora se corrige en función del valores menores al limite máximo la HL a apartir del año 2000, pues es la fecha en la que entra en dolar a ecuador ( -2 -> 0 )\n",
    "data_l.loc[ ( (data_l['GRUPO_SEL']==1) & (data_l['ATI_CJ_M3']==-2) & (data_l['SALARIO'] <= data_l['LS2']) ), 'ATI_CJ_M3'] = 0\n",
    "\n",
    "#Se hacen las correcciones para los valores NA, en donde si el Salario es menor o igual a un SBU no es atípico( NA -> 0 )\n",
    "data_l.loc[ ( (data_l['GRUPO_SEL']==1) & (data_l['ATI_CJ_M3'].isna()) & (data_l['SALARIO'] <= data_l['SBU']) ), 'ATI_CJ_M3'] = 0 #quedan 7454 casos\n",
    "#Ahora se corrige en función deL Límite máximo de toda la HL, pues si no hay datos del SBU para atrás ( NA -> 1 )\n",
    "data_l.loc[ ( (data_l['GRUPO_SEL']==1) & (data_l['ATI_CJ_M3'].isna()) & (data_l['SALARIO'] > data_l['LS1']) ), 'ATI_CJ_M3'] = 1 #quedan 7394 casos\n",
    "#Ahora se corrige en función del valores menoRes al limite máximo la HL, pues sno hay datos del SBU para atrás ( NA -> 0 )\n",
    "data_l.loc[ ( (data_l['GRUPO_SEL']==1) & (data_l['ATI_CJ_M3'].isna()) & (data_l['SALARIO'] <= data_l['LS1']) ), 'ATI_CJ_M3'] = 0  #quedan 7190 casos\n",
    "\n",
    "#Se hacen las correcciones para los valores -1, en donde si el Salario es menor o igual a un SBU no es atípico( -1 -> 0 )\n",
    "data_l.loc[ ( (data_l['GRUPO_SEL']==1) & (data_l['ATI_CJ_M3']==-1) & (data_l['SALARIO'] <= data_l['SBU']) ), 'ATI_CJ_M3'] = 0 #quedan 2684680 casos\n",
    "#Se hacen las correcciones para los valores -1, en donde si el Salario es mayor a LS1 es atípico( -1 -> 1 )\n",
    "data_l.loc[ ( (data_l['GRUPO_SEL']==1) & (data_l['ATI_CJ_M3']==-1) & (data_l['SALARIO'] > data_l['LS1']) ), 'ATI_CJ_M3'] = 1 #quedan 2670679  casos\n",
    "#Se hacen las correcciones para los valores -1, en donde si el Salario es menor o igual a LS1 no es atípico( -1 -> 0 )\n",
    "data_l.loc[ ( (data_l['GRUPO_SEL']==1) & (data_l['ATI_CJ_M3']==-1) & (data_l['SALARIO'] <= data_l['LS1']) ), 'ATI_CJ_M3'] = 0"
   ]
  },
  {
   "cell_type": "code",
   "execution_count": null,
   "id": "ae07f4a8",
   "metadata": {
    "ExecuteTime": {
     "end_time": "2024-07-24T22:02:15.268646Z",
     "start_time": "2024-07-24T21:44:52.732741Z"
    }
   },
   "outputs": [],
   "source": [
    "data_l[data_l['ATI_CJ_M1']==1]"
   ]
  },
  {
   "cell_type": "code",
   "execution_count": 23,
   "id": "2a68ccfc",
   "metadata": {
    "ExecuteTime": {
     "end_time": "2024-07-25T16:51:13.598217Z",
     "start_time": "2024-07-25T16:50:59.228662Z"
    }
   },
   "outputs": [
    {
     "data": {
      "text/plain": [
       "1346449"
      ]
     },
     "execution_count": 23,
     "metadata": {},
     "output_type": "execute_result"
    }
   ],
   "source": [
    "del data, data_jerar, data1, aux, data_si, data_no, data_no_grupo, data_val_ati\n",
    "gc.collect()"
   ]
  },
  {
   "cell_type": "code",
   "execution_count": 24,
   "id": "cc347566",
   "metadata": {
    "ExecuteTime": {
     "end_time": "2024-07-25T16:51:24.807471Z",
     "start_time": "2024-07-25T16:51:24.473105Z"
    }
   },
   "outputs": [
    {
     "data": {
      "image/png": "[encoded data removed]",
      "text/plain": [
       "<Figure size 800x500 with 1 Axes>"
      ]
     },
     "metadata": {},
     "output_type": "display_data"
    }
   ],
   "source": [
    "ced, k =23594465,1\n",
    "graf_ati(ced, k)"
   ]
  },
  {
   "cell_type": "code",
   "execution_count": 22,
   "id": "c19c1a03",
   "metadata": {
    "ExecuteTime": {
     "end_time": "2024-07-25T16:50:52.727688Z",
     "start_time": "2024-07-25T16:50:52.710912Z"
    }
   },
   "outputs": [],
   "source": [
    "# Obtener el número de categorías únicas en ati\n",
    "ced=23594465\n",
    "def graf_ati(ced, k):\n",
    "    nom = 'ATI_CJ_M'+ str(k)\n",
    "    dt = data_l[(data_l['GRUPO_SEL']==1) & (data_l['CEDULA_COD']==ced)]\n",
    "    unique_ati = dt[ nom ].nunique()\n",
    "    categories = dt[ nom ].unique()\n",
    "\n",
    "    # Generar una lista de colores discretos\n",
    "    colors = plt.cm.coolwarm(np.linspace(0, 1, unique_ati))\n",
    "\n",
    "    # Crear un mapa de colores discreto\n",
    "    cmap = ListedColormap(colors)\n",
    "\n",
    "    # Graficar\n",
    "    plt.figure(figsize=(8, 5))\n",
    "    scatter = plt.scatter(dt.index, dt['SALARIO'], c=dt[ nom ], cmap=cmap)\n",
    "\n",
    "    plt.xlabel('Index')\n",
    "    plt.ylabel('Salario')\n",
    "    plt.title('Gráfico de Salario')\n",
    "\n",
    "    # Crear una leyenda discreta personalizada\n",
    "    # Definir las etiquetas para cada categoría\n",
    "    labels = { 0: 'No es atípico', 1: 'Es atípico', -1: 'Es un solo clúter', -2:'No forma parte del proceso'}\n",
    "\n",
    "    # Crear los handles para la leyenda\n",
    "    handles = [plt.Line2D([0], [0], marker='o', color='w', \n",
    "                          markersize=10, markerfacecolor=cmap(i), \n",
    "                          label=labels[i]) for i in categories]\n",
    "\n",
    "    plt.legend(handles=handles, title='Tipo de Salario')\n",
    "    plt.show()"
   ]
  },
  {
   "cell_type": "code",
   "execution_count": null,
   "id": "aed5ecd6",
   "metadata": {
    "ExecuteTime": {
     "end_time": "2024-07-16T19:47:15.693726Z",
     "start_time": "2024-07-16T19:47:15.413843Z"
    }
   },
   "outputs": [],
   "source": [
    "aux=data_l[(data_l['CEDULA_COD']==23594465) & (data_l['GRUPO_SEL']==1) & (data_l['ATI_CJ_M1']==1)]['SALARIO'].reset_index()\n",
    "aux1 =data_l[(data_l['CEDULA_COD']==23594465) & (data_l['GRUPO_SEL']==1) & (data_l['ATI_CJ_M1']==0)]['SALARIO'].reset_index()\n",
    "plt.figure(figsize=(10, 6))\n",
    "plt.scatter(aux.index, aux['SALARIO'], color='r', label='ATI_CJ_M1 == 1')\n",
    "plt.scatter(aux1.index, aux1['SALARIO'], color='b', label='ATI_CJ_M1 == 0')\n",
    "plt.title('Distribución de Salarios')\n",
    "plt.xlabel('Índice')\n",
    "plt.ylabel('Salario')\n",
    "plt.grid(True)\n",
    "plt.legend()\n",
    "plt.tight_layout()\n",
    "\n",
    "# Mostrar el gráfico\n",
    "plt.show()\n"
   ]
  },
  {
   "cell_type": "code",
   "execution_count": null,
   "id": "84ff88c8",
   "metadata": {},
   "outputs": [],
   "source": [
    "plt.figure(figsize=(10, 6))\n",
    "plt.plot(data_l[(data_l['CEDULA_COD']==23594465) & (data_l['GRUPO_SEL']==1)]['SALARIO'], marker='o', linestyle='-', color='b', label='Salarios')  # Graficar como línea con puntos\n",
    "plt.title('Distribución de Salarios')\n",
    "plt.xlabel('Índice')\n",
    "plt.ylabel('Salario')\n",
    "plt.grid(True)\n",
    "plt.legend()\n",
    "plt.tight_layout()\n",
    "\n",
    "# Mostrar el gráfico\n",
    "plt.show()"
   ]
  }
 ],
 "metadata": {
  "kernelspec": {
   "display_name": "Python 3 (ipykernel)",
   "language": "python",
   "name": "python3"
  },
  "language_info": {
   "codemirror_mode": {
    "name": "ipython",
    "version": 3
   },
   "file_extension": ".py",
   "mimetype": "text/x-python",
   "name": "python",
   "nbconvert_exporter": "python",
   "pygments_lexer": "ipython3",
   "version": "3.11.4"
  },
  "toc": {
   "base_numbering": 1,
   "nav_menu": {},
   "number_sections": true,
   "sideBar": true,
   "skip_h1_title": false,
   "title_cell": "Table of Contents",
   "title_sidebar": "Contents",
   "toc_cell": false,
   "toc_position": {},
   "toc_section_display": true,
   "toc_window_display": false
  }
 },
 "nbformat": 4,
 "nbformat_minor": 5
}

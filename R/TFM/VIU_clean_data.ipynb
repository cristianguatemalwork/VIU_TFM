{
 "cells": [
  {
   "cell_type": "code",
   "execution_count": 1,
   "id": "305b533b",
   "metadata": {
    "ExecuteTime": {
     "end_time": "2024-07-25T20:37:27.145003Z",
     "start_time": "2024-07-25T20:37:27.139381Z"
    }
   },
   "outputs": [],
   "source": [
    "#Importación de librearías necesarias\n",
    "import pandas as pd\n",
    "from datetime import datetime\n",
    "import socket\n",
    "import numpy as np\n",
    "import math\n",
    "import time\n",
    "import pickle  #Para guardar archivos\n",
    "import os\n",
    "\n",
    "from pympler import asizeof #Para liberar memoria\n",
    "import gc\n",
    "\n",
    "import matplotlib.pyplot as plt\n",
    "from matplotlib.colors import ListedColormap, to_rgb\n",
    "\n",
    "\n",
    "from scipy.cluster.hierarchy import dendrogram, linkage, fcluster\n",
    "from scipy.spatial.distance import cdist"
   ]
  },
  {
   "cell_type": "code",
   "execution_count": 2,
   "id": "3ad7f70c",
   "metadata": {
    "ExecuteTime": {
     "end_time": "2024-07-25T19:00:45.483662Z",
     "start_time": "2024-07-25T19:00:45.478365Z"
    }
   },
   "outputs": [],
   "source": [
    "#Path general de archivos\n",
    "if socket.gethostname()=='LAPTOP-PUSGG08B': #Ip de la laptop\n",
    "    ruta = \"E:/Cristian Guatemal/Master/Big Data y Ciencia de Datos/VIU_TFM/Data/TFM/\"\n",
    "    r_ruta = \"E:/Cristian Guatemal/Master/Big Data y Ciencia de Datos/VIU_TFM/RData/TFM/\"\n",
    "elif socket.gethostname()=='PCUIOMTDAIE6382': #Ip del working\n",
    "    ruta =   \"D:/Master/Big_Data_Ciencia_Datos/VIU_TFM/Data/TFM/\"\n",
    "    r_ruta = \"D:/Master/Big_Data_Ciencia_Datos/VIU_TFM/RData/TFM/\"\n",
    "# Ruta del archivo de pensionistas de vejez\n",
    "ruta_vj = ruta + 'POB_VEJ_CD656_NEW.dsv'\n",
    "# Ruta del archivo de historia laboral de pensionistas\n",
    "ruta_afi = ruta + 'APORTES_CD656_new.dsv'"
   ]
  },
  {
   "cell_type": "code",
   "execution_count": null,
   "id": "28dfb4e5",
   "metadata": {
    "ExecuteTime": {
     "end_time": "2024-07-15T17:40:29.504433Z",
     "start_time": "2024-07-15T17:38:33.999235Z"
    }
   },
   "outputs": [],
   "source": [
    "#Importación de archivos de afiliados\n",
    "inicio = time.time()\n",
    "afi = pd.read_csv( ruta_afi, delimiter='\\t', encoding='iso-8859-1', decimal='.')\n",
    "fin = time.time()  \n",
    "print('Tiempo de ejecución es: ',  (fin-inicio)//3600, ' horas con ' ,  (fin-inicio)%3600//60 , ' minutos y', \n",
    "        (fin-inicio)%60, ' segundos' )"
   ]
  },
  {
   "cell_type": "code",
   "execution_count": null,
   "id": "c19aaa90",
   "metadata": {
    "ExecuteTime": {
     "end_time": "2024-07-15T17:41:21.920678Z",
     "start_time": "2024-07-15T17:40:55.737050Z"
    }
   },
   "outputs": [],
   "source": [
    "#Agrupamiento por relación de trabajo\n",
    "inicio = time.time()\n",
    "agrupa = [ (afi['SECTOR'].isin(['PRIVADO', 'PASANTE PRIVADO'])), \n",
    "           (afi['SECTOR'].isin(['PUBLICO', 'PASANTE PUBLICO'])), \n",
    "           (afi['SECTOR'].isin(['INDEPENDIENTES', '108-ARTISTA Y GESTOR DE CULTURA', \n",
    "                                '02-TRABAJ. AUT Y SIN RELAC DEPEN DESDE  2011-12 SOLO AF.VOLUNT  '])),\n",
    "           (afi['SECTOR'].isin(['69-VOLUNTARIO ECUATORIANO DOMICILIADO EN EL EXTERIOR ',\n",
    "                                '89-AFILIACION DOMICILIADO EN EL EXTERIOR'])),\n",
    "           (afi['SECTOR'] == '90-AFILIACION DOMICILIADO EN EL PAIS / SIN RELACION DEPENDENCIA'),\n",
    "           (afi['SECTOR'] == '06-CODIGO DEL TRABAJO - CT ')\n",
    "            ]\n",
    "            \n",
    "tipo = ['PRI', 'PUB', 'IND', 'VOL_EX', 'VOL_EC', 'COD_TR']\n",
    "\n",
    "afi['SECTOR_A'] = np.select( agrupa, tipo, default=afi['SECTOR'])\n",
    "fin = time.time()  \n",
    "print('Tiempo de ejecución es: ',  (fin-inicio)//3600, ' horas con ' ,  (fin-inicio)%3600//60 , ' minutos y', \n",
    "        (fin-inicio)%60, ' segundos' )"
   ]
  },
  {
   "cell_type": "code",
   "execution_count": null,
   "id": "8a62a1f0",
   "metadata": {
    "ExecuteTime": {
     "end_time": "2024-07-15T17:41:26.031814Z",
     "start_time": "2024-07-15T17:41:21.923839Z"
    }
   },
   "outputs": [],
   "source": [
    "afi['SECTOR'].unique()"
   ]
  },
  {
   "cell_type": "code",
   "execution_count": null,
   "id": "b9d7fce7",
   "metadata": {
    "ExecuteTime": {
     "end_time": "2024-07-15T17:41:29.344291Z",
     "start_time": "2024-07-15T17:41:26.033925Z"
    }
   },
   "outputs": [],
   "source": [
    "afi['SECTOR_A'].unique()"
   ]
  },
  {
   "cell_type": "code",
   "execution_count": null,
   "id": "a03a3ae9",
   "metadata": {
    "ExecuteTime": {
     "end_time": "2024-07-15T17:41:29.351637Z",
     "start_time": "2024-07-15T17:41:29.346292Z"
    }
   },
   "outputs": [],
   "source": [
    "afi.shape"
   ]
  },
  {
   "cell_type": "code",
   "execution_count": null,
   "id": "04746277",
   "metadata": {
    "ExecuteTime": {
     "end_time": "2024-07-15T17:42:22.570617Z",
     "start_time": "2024-07-15T17:41:29.353744Z"
    }
   },
   "outputs": [],
   "source": [
    "#Para acceder a las prestaciones de IVM debe tener al menos 5 años de aporte o 60 imposiciones\n",
    "ced_counts = afi.drop_duplicates(subset=['CEDULA_COD', 'ANIO', 'MES'])['CEDULA_COD'].value_counts()"
   ]
  },
  {
   "cell_type": "code",
   "execution_count": null,
   "id": "dbad0c44",
   "metadata": {
    "ExecuteTime": {
     "end_time": "2024-07-15T17:42:22.635232Z",
     "start_time": "2024-07-15T17:42:22.572609Z"
    }
   },
   "outputs": [],
   "source": [
    "# numero de cedulas que tienen menos de 60 imposiciones\n",
    "ced_counts[ced_counts < 60].index.nunique()"
   ]
  },
  {
   "cell_type": "code",
   "execution_count": null,
   "id": "6165f941",
   "metadata": {
    "ExecuteTime": {
     "start_time": "2024-07-15T17:41:05.174Z"
    }
   },
   "outputs": [],
   "source": [
    "#Se filtran a las cedulas con menos de 60 imposicones \n",
    "inicio = time.time()\n",
    "afi_fil = afi[~afi['CEDULA_COD'].isin(ced_counts[ced_counts < 60].index)].copy()\n",
    "fin = time.time()  \n",
    "print('Tiempo de ejecución es: ',  (fin-inicio)//3600, ' horas con ' ,  (fin-inicio)%3600//60 , ' minutos y', (fin-inicio)%60, ' segundos' )\n",
    "\n",
    "#Se crea una variable fecha\n",
    "inicio = time.time()\n",
    "afi_fil.loc[:, 'FECHA'] = pd.to_datetime(afi_fil['ANIO'].astype(str) + '-' + afi_fil['MES'].astype(str).str.zfill(2) + '-01')\n",
    "fin = time.time()  \n",
    "print('Tiempo de ejecución es: ',  (fin-inicio)//3600, ' horas con ' ,  (fin-inicio)%3600//60 , ' minutos y', (fin-inicio)%60, ' segundos' )\n",
    "\n",
    "#Se ordenan los registros\n",
    "inicio = time.time()\n",
    "afi_fil = afi_fil.sort_values( by=[\"CEDULA_COD\",\"ANIO\", \"MES\"], ascending=[True, True, True] )\n",
    "fin = time.time()  \n",
    "print('Tiempo de ejecución es: ',  (fin-inicio)//3600, ' horas con ' ,  (fin-inicio)%3600//60 , ' minutos y', (fin-inicio)%60, ' segundos' )\n",
    "afi_fil.shape"
   ]
  },
  {
   "cell_type": "code",
   "execution_count": null,
   "id": "68f9e80c",
   "metadata": {
    "ExecuteTime": {
     "start_time": "2024-07-15T17:41:07.198Z"
    }
   },
   "outputs": [],
   "source": [
    "# Especifica la ruta del directorio donde quieres guardar el archivo\n",
    "directorio = r_ruta\n",
    "\n",
    "# Asegúrate de que el directorio existe\n",
    "os.makedirs(directorio, exist_ok=True)\n",
    "\n",
    "# Nombre del archivo\n",
    "nombre_archivo = 'viu_clean_afi.pkl'\n",
    "# Ruta completa del archivo\n",
    "ruta_archivo = os.path.join(directorio, nombre_archivo)\n",
    "# Objetos a guardar\n",
    "objeto1 = afi\n",
    "\n",
    "# Guardar los objetos en el archivo\n",
    "with open(ruta_archivo, 'wb') as archivo:\n",
    "    pickle.dump(objeto1, archivo)\n",
    "    \n",
    "    \n",
    "# Nombre del archivo\n",
    "nombre_archivo = 'viu_clean_afi_fil.pkl'\n",
    "# Ruta completa del archivo\n",
    "ruta_archivo = os.path.join(directorio, nombre_archivo)\n",
    "# Objetos a guardar\n",
    "objeto2 = afi_fil\n",
    "\n",
    "# Guardar los objetos en el archivo\n",
    "with open(ruta_archivo, 'wb') as archivo:\n",
    "    pickle.dump(objeto2, archivo)"
   ]
  },
  {
   "cell_type": "code",
   "execution_count": 3,
   "id": "8f44bc9e",
   "metadata": {},
   "outputs": [],
   "source": [
    "##Cargar los archivos\n",
    "directorio = r_ruta\n",
    "nombre_archivo = 'viu_clean_afi_fil.pkl'\n",
    "ruta_archivo = os.path.join(directorio, nombre_archivo)\n",
    "\n",
    "with open( ruta_archivo, 'rb') as archivo:\n",
    "    afi_fil = pickle.load( archivo )    "
   ]
  },
  {
   "cell_type": "code",
   "execution_count": null,
   "id": "d3968aa2",
   "metadata": {
    "ExecuteTime": {
     "end_time": "2024-07-15T17:15:23.991547Z",
     "start_time": "2024-07-15T17:15:23.991547Z"
    }
   },
   "outputs": [],
   "source": [
    "#Se eliminan archivos no necesarios para liberar la memoria\n",
    "del afi\n",
    "del objeto1\n",
    "del objeto2\n",
    "del ced_counts"
   ]
  },
  {
   "cell_type": "code",
   "execution_count": null,
   "id": "87d43629",
   "metadata": {
    "ExecuteTime": {
     "end_time": "2024-07-15T17:15:23.993540Z",
     "start_time": "2024-07-15T17:15:23.993540Z"
    }
   },
   "outputs": [],
   "source": [
    "afi_fil #Tiene una dimensión de (64638969 rows × 14 columns) "
   ]
  },
  {
   "cell_type": "code",
   "execution_count": 4,
   "id": "3903704c",
   "metadata": {
    "ExecuteTime": {
     "end_time": "2024-07-15T17:15:23.995553Z",
     "start_time": "2024-07-15T17:15:23.995553Z"
    }
   },
   "outputs": [],
   "source": [
    "#Se seleccionan las características de la población para los año y mes de aportación\n",
    "afi_sel = afi_fil[['CEDULA_COD', 'ANIO', 'MES', 'FECHA','SALARIO', 'SECTOR_A']].copy()\n",
    "del afi_fil"
   ]
  },
  {
   "cell_type": "code",
   "execution_count": null,
   "id": "adcadef1",
   "metadata": {
    "ExecuteTime": {
     "end_time": "2024-07-15T17:15:23.996542Z",
     "start_time": "2024-07-15T17:15:23.996542Z"
    }
   },
   "outputs": [],
   "source": [
    "#Inicio de la HL\n",
    "caract = afi_sel.groupby('CEDULA_COD')['FECHA'].min().reset_index() \n",
    "caract.rename( columns={'FECHA': 'INI_HL'}, inplace=True)\n",
    "#Fin de la HL\n",
    "caract['FIN_HL'] = caract['CEDULA_COD'].map( afi_sel.groupby('CEDULA_COD')['FECHA'].max() )\n",
    "#Contar los meses, considerando duplicidad en los meses que puede tener aporte simultaneos\n",
    "caract['MES_AS'] = caract['CEDULA_COD'].map( afi_sel['CEDULA_COD'].value_counts() )\n",
    "#Meses trabajados unicos\n",
    "aux = afi_sel.drop_duplicates(subset=['CEDULA_COD', 'ANIO', 'MES'])\n",
    "caract['MES_TU'] = caract['CEDULA_COD'].map( aux['CEDULA_COD'].value_counts() )"
   ]
  },
  {
   "cell_type": "code",
   "execution_count": null,
   "id": "48d6a6d8",
   "metadata": {
    "ExecuteTime": {
     "end_time": "2024-07-15T17:15:23.998674Z",
     "start_time": "2024-07-15T17:15:23.998674Z"
    }
   },
   "outputs": [],
   "source": [
    "# Nombre del archivo\n",
    "nombre_archivo = 'viu_clean_caract.pkl'\n",
    "# Ruta completa del archivo\n",
    "ruta_archivo = os.path.join(directorio, nombre_archivo)\n",
    "# Objetos a guardar\n",
    "objeto3 = caract\n",
    "\n",
    "# Guardar los objetos en el archivo\n",
    "with open(ruta_archivo, 'wb') as archivo:\n",
    "    pickle.dump(objeto3, archivo)    "
   ]
  },
  {
   "cell_type": "code",
   "execution_count": null,
   "id": "4c3149c5",
   "metadata": {
    "ExecuteTime": {
     "end_time": "2024-07-15T17:15:23.999664Z",
     "start_time": "2024-07-15T17:15:23.999664Z"
    }
   },
   "outputs": [],
   "source": [
    "del objeto3"
   ]
  },
  {
   "cell_type": "code",
   "execution_count": null,
   "id": "5d78279e",
   "metadata": {
    "ExecuteTime": {
     "end_time": "2024-07-15T17:15:24.002664Z",
     "start_time": "2024-07-15T17:15:24.002664Z"
    }
   },
   "outputs": [],
   "source": [
    "caract"
   ]
  },
  {
   "cell_type": "code",
   "execution_count": null,
   "id": "bc22a036",
   "metadata": {
    "ExecuteTime": {
     "end_time": "2024-07-15T17:15:24.003666Z",
     "start_time": "2024-07-15T17:15:24.003666Z"
    }
   },
   "outputs": [],
   "source": [
    "#Personas que tienen varios aportes simultaneos\n",
    "caract[caract['MES_AS']>caract['MES_TU']]"
   ]
  },
  {
   "cell_type": "code",
   "execution_count": null,
   "id": "16e523d3",
   "metadata": {
    "ExecuteTime": {
     "end_time": "2024-07-15T17:15:24.005665Z",
     "start_time": "2024-07-15T17:15:24.005665Z"
    }
   },
   "outputs": [],
   "source": [
    "#afi_sel[afi_sel['CEDULA_COD']==21729781].tail(60)"
   ]
  },
  {
   "cell_type": "code",
   "execution_count": 5,
   "id": "bd0c7ea9",
   "metadata": {
    "ExecuteTime": {
     "end_time": "2024-07-15T17:15:24.007842Z",
     "start_time": "2024-07-15T17:15:24.007842Z"
    }
   },
   "outputs": [],
   "source": [
    "afi_sel =  afi_sel.sort_values( by=[\"CEDULA_COD\",\"ANIO\", \"MES\"], ascending=[True, False, False] )\n",
    "afi_sel['SALARIO_SECTOR'] = afi_sel['SALARIO']\n",
    "afi_sel['NUM_SEC_MES'] = 1\n",
    "afi_sel['%_NUM_SECTOR'] = afi_sel['SALARIO']"
   ]
  },
  {
   "cell_type": "code",
   "execution_count": 6,
   "id": "508c16c5",
   "metadata": {
    "ExecuteTime": {
     "end_time": "2024-07-15T17:15:24.008844Z",
     "start_time": "2024-07-15T17:15:24.008844Z"
    }
   },
   "outputs": [],
   "source": [
    "aux = afi_sel[afi_sel.duplicated(subset=['CEDULA_COD', 'ANIO', 'MES'], keep=False)]\n",
    "aux1 = afi_sel[~afi_sel.duplicated(subset=['CEDULA_COD', 'ANIO', 'MES'], keep=False)]"
   ]
  },
  {
   "cell_type": "code",
   "execution_count": 7,
   "id": "9f992a36",
   "metadata": {},
   "outputs": [
    {
     "data": {
      "text/html": [
       "<div>\n",
       "<style scoped>\n",
       "    .dataframe tbody tr th:only-of-type {\n",
       "        vertical-align: middle;\n",
       "    }\n",
       "\n",
       "    .dataframe tbody tr th {\n",
       "        vertical-align: top;\n",
       "    }\n",
       "\n",
       "    .dataframe thead th {\n",
       "        text-align: right;\n",
       "    }\n",
       "</style>\n",
       "<table border=\"1\" class=\"dataframe\">\n",
       "  <thead>\n",
       "    <tr style=\"text-align: right;\">\n",
       "      <th></th>\n",
       "      <th>CEDULA_COD</th>\n",
       "      <th>ANIO</th>\n",
       "      <th>MES</th>\n",
       "      <th>FECHA</th>\n",
       "      <th>SALARIO</th>\n",
       "      <th>SECTOR_A</th>\n",
       "      <th>SALARIO_SECTOR</th>\n",
       "      <th>NUM_SEC_MES</th>\n",
       "      <th>%_NUM_SECTOR</th>\n",
       "    </tr>\n",
       "  </thead>\n",
       "  <tbody>\n",
       "    <tr>\n",
       "      <th>49903381</th>\n",
       "      <td>216</td>\n",
       "      <td>2007</td>\n",
       "      <td>7</td>\n",
       "      <td>2007-07-01</td>\n",
       "      <td>214.73</td>\n",
       "      <td>PRI</td>\n",
       "      <td>214.73</td>\n",
       "      <td>1</td>\n",
       "      <td>214.73</td>\n",
       "    </tr>\n",
       "    <tr>\n",
       "      <th>55083518</th>\n",
       "      <td>216</td>\n",
       "      <td>2007</td>\n",
       "      <td>7</td>\n",
       "      <td>2007-07-01</td>\n",
       "      <td>434.60</td>\n",
       "      <td>PUB</td>\n",
       "      <td>434.60</td>\n",
       "      <td>1</td>\n",
       "      <td>434.60</td>\n",
       "    </tr>\n",
       "    <tr>\n",
       "      <th>10965727</th>\n",
       "      <td>216</td>\n",
       "      <td>2007</td>\n",
       "      <td>6</td>\n",
       "      <td>2007-06-01</td>\n",
       "      <td>214.73</td>\n",
       "      <td>PRI</td>\n",
       "      <td>214.73</td>\n",
       "      <td>1</td>\n",
       "      <td>214.73</td>\n",
       "    </tr>\n",
       "    <tr>\n",
       "      <th>47034764</th>\n",
       "      <td>216</td>\n",
       "      <td>2007</td>\n",
       "      <td>6</td>\n",
       "      <td>2007-06-01</td>\n",
       "      <td>434.60</td>\n",
       "      <td>PUB</td>\n",
       "      <td>434.60</td>\n",
       "      <td>1</td>\n",
       "      <td>434.60</td>\n",
       "    </tr>\n",
       "    <tr>\n",
       "      <th>14328233</th>\n",
       "      <td>216</td>\n",
       "      <td>2007</td>\n",
       "      <td>5</td>\n",
       "      <td>2007-05-01</td>\n",
       "      <td>434.60</td>\n",
       "      <td>PUB</td>\n",
       "      <td>434.60</td>\n",
       "      <td>1</td>\n",
       "      <td>434.60</td>\n",
       "    </tr>\n",
       "    <tr>\n",
       "      <th>...</th>\n",
       "      <td>...</td>\n",
       "      <td>...</td>\n",
       "      <td>...</td>\n",
       "      <td>...</td>\n",
       "      <td>...</td>\n",
       "      <td>...</td>\n",
       "      <td>...</td>\n",
       "      <td>...</td>\n",
       "      <td>...</td>\n",
       "    </tr>\n",
       "    <tr>\n",
       "      <th>49799993</th>\n",
       "      <td>21035907</td>\n",
       "      <td>2008</td>\n",
       "      <td>6</td>\n",
       "      <td>2008-06-01</td>\n",
       "      <td>239.27</td>\n",
       "      <td>PUB</td>\n",
       "      <td>239.27</td>\n",
       "      <td>1</td>\n",
       "      <td>239.27</td>\n",
       "    </tr>\n",
       "    <tr>\n",
       "      <th>3581920</th>\n",
       "      <td>21104059</td>\n",
       "      <td>2016</td>\n",
       "      <td>4</td>\n",
       "      <td>2016-04-01</td>\n",
       "      <td>120.72</td>\n",
       "      <td>PRI</td>\n",
       "      <td>120.72</td>\n",
       "      <td>1</td>\n",
       "      <td>120.72</td>\n",
       "    </tr>\n",
       "    <tr>\n",
       "      <th>23862301</th>\n",
       "      <td>21104059</td>\n",
       "      <td>2016</td>\n",
       "      <td>4</td>\n",
       "      <td>2016-04-01</td>\n",
       "      <td>150.00</td>\n",
       "      <td>PRI</td>\n",
       "      <td>150.00</td>\n",
       "      <td>1</td>\n",
       "      <td>150.00</td>\n",
       "    </tr>\n",
       "    <tr>\n",
       "      <th>17467547</th>\n",
       "      <td>21729781</td>\n",
       "      <td>2018</td>\n",
       "      <td>1</td>\n",
       "      <td>2018-01-01</td>\n",
       "      <td>425.00</td>\n",
       "      <td>VOL_EC</td>\n",
       "      <td>425.00</td>\n",
       "      <td>1</td>\n",
       "      <td>425.00</td>\n",
       "    </tr>\n",
       "    <tr>\n",
       "      <th>55481283</th>\n",
       "      <td>21729781</td>\n",
       "      <td>2018</td>\n",
       "      <td>1</td>\n",
       "      <td>2018-01-01</td>\n",
       "      <td>193.00</td>\n",
       "      <td>PRI</td>\n",
       "      <td>193.00</td>\n",
       "      <td>1</td>\n",
       "      <td>193.00</td>\n",
       "    </tr>\n",
       "  </tbody>\n",
       "</table>\n",
       "<p>4856034 rows × 9 columns</p>\n",
       "</div>"
      ],
      "text/plain": [
       "          CEDULA_COD  ANIO  MES      FECHA  SALARIO SECTOR_A  SALARIO_SECTOR  \\\n",
       "49903381         216  2007    7 2007-07-01   214.73      PRI          214.73   \n",
       "55083518         216  2007    7 2007-07-01   434.60      PUB          434.60   \n",
       "10965727         216  2007    6 2007-06-01   214.73      PRI          214.73   \n",
       "47034764         216  2007    6 2007-06-01   434.60      PUB          434.60   \n",
       "14328233         216  2007    5 2007-05-01   434.60      PUB          434.60   \n",
       "...              ...   ...  ...        ...      ...      ...             ...   \n",
       "49799993    21035907  2008    6 2008-06-01   239.27      PUB          239.27   \n",
       "3581920     21104059  2016    4 2016-04-01   120.72      PRI          120.72   \n",
       "23862301    21104059  2016    4 2016-04-01   150.00      PRI          150.00   \n",
       "17467547    21729781  2018    1 2018-01-01   425.00   VOL_EC          425.00   \n",
       "55481283    21729781  2018    1 2018-01-01   193.00      PRI          193.00   \n",
       "\n",
       "          NUM_SEC_MES  %_NUM_SECTOR  \n",
       "49903381            1        214.73  \n",
       "55083518            1        434.60  \n",
       "10965727            1        214.73  \n",
       "47034764            1        434.60  \n",
       "14328233            1        434.60  \n",
       "...               ...           ...  \n",
       "49799993            1        239.27  \n",
       "3581920             1        120.72  \n",
       "23862301            1        150.00  \n",
       "17467547            1        425.00  \n",
       "55481283            1        193.00  \n",
       "\n",
       "[4856034 rows x 9 columns]"
      ]
     },
     "execution_count": 7,
     "metadata": {},
     "output_type": "execute_result"
    }
   ],
   "source": [
    "aux"
   ]
  },
  {
   "cell_type": "code",
   "execution_count": 8,
   "id": "413f07c9",
   "metadata": {
    "ExecuteTime": {
     "end_time": "2024-07-15T17:15:24.010840Z",
     "start_time": "2024-07-15T17:15:24.010840Z"
    }
   },
   "outputs": [
    {
     "name": "stdout",
     "output_type": "stream",
     "text": [
      "Tiempo de ejecución es:  0.0  horas con  9.0  minutos y 3.796420097351074  segundos\n"
     ]
    }
   ],
   "source": [
    "#Se debe analizar a las personas que tienen varios aportes en un mismo mes\n",
    "#Se suman los salarios y se concatenan los sectores para la cedula que en el mismo anio y mes tienen más de un sector\n",
    "inicio = time.time()\n",
    "afi_sel_g = aux.groupby(['CEDULA_COD', 'ANIO', 'MES']).agg({'SALARIO': 'sum',\n",
    "                                                            'SALARIO_SECTOR': lambda x: ';'.join(x.astype(str)),\n",
    "                                                            'SECTOR_A': lambda x: ';'.join(x),\n",
    "                                                            'NUM_SEC_MES': lambda x: len(x),\n",
    "                                                            '%_NUM_SECTOR': lambda x:  ';'.join((x / x.sum()).round(4).astype(str))\n",
    "                                                                }).reset_index()\n",
    "fin = time.time()  \n",
    "print('Tiempo de ejecución es: ',  (fin-inicio)//3600, ' horas con ' ,  (fin-inicio)%3600//60 , ' minutos y', (fin-inicio)%60, ' segundos' )\n"
   ]
  },
  {
   "cell_type": "code",
   "execution_count": 9,
   "id": "666ab864",
   "metadata": {
    "ExecuteTime": {
     "end_time": "2024-07-15T17:15:24.012840Z",
     "start_time": "2024-07-15T17:15:24.012840Z"
    }
   },
   "outputs": [
    {
     "data": {
      "text/html": [
       "<div>\n",
       "<style scoped>\n",
       "    .dataframe tbody tr th:only-of-type {\n",
       "        vertical-align: middle;\n",
       "    }\n",
       "\n",
       "    .dataframe tbody tr th {\n",
       "        vertical-align: top;\n",
       "    }\n",
       "\n",
       "    .dataframe thead th {\n",
       "        text-align: right;\n",
       "    }\n",
       "</style>\n",
       "<table border=\"1\" class=\"dataframe\">\n",
       "  <thead>\n",
       "    <tr style=\"text-align: right;\">\n",
       "      <th></th>\n",
       "      <th>CEDULA_COD</th>\n",
       "      <th>ANIO</th>\n",
       "      <th>MES</th>\n",
       "      <th>SALARIO</th>\n",
       "      <th>SALARIO_SECTOR</th>\n",
       "      <th>SECTOR_A</th>\n",
       "      <th>NUM_SEC_MES</th>\n",
       "      <th>%_NUM_SECTOR</th>\n",
       "    </tr>\n",
       "  </thead>\n",
       "  <tbody>\n",
       "    <tr>\n",
       "      <th>0</th>\n",
       "      <td>216</td>\n",
       "      <td>2004</td>\n",
       "      <td>9</td>\n",
       "      <td>451.63</td>\n",
       "      <td>282.95;168.68</td>\n",
       "      <td>PUB;PRI</td>\n",
       "      <td>2</td>\n",
       "      <td>0.6265;0.3735</td>\n",
       "    </tr>\n",
       "    <tr>\n",
       "      <th>1</th>\n",
       "      <td>216</td>\n",
       "      <td>2004</td>\n",
       "      <td>10</td>\n",
       "      <td>451.63</td>\n",
       "      <td>282.95;168.68</td>\n",
       "      <td>PUB;PRI</td>\n",
       "      <td>2</td>\n",
       "      <td>0.6265;0.3735</td>\n",
       "    </tr>\n",
       "    <tr>\n",
       "      <th>2</th>\n",
       "      <td>216</td>\n",
       "      <td>2004</td>\n",
       "      <td>11</td>\n",
       "      <td>451.63</td>\n",
       "      <td>168.68;282.95</td>\n",
       "      <td>PRI;PUB</td>\n",
       "      <td>2</td>\n",
       "      <td>0.3735;0.6265</td>\n",
       "    </tr>\n",
       "    <tr>\n",
       "      <th>3</th>\n",
       "      <td>216</td>\n",
       "      <td>2004</td>\n",
       "      <td>12</td>\n",
       "      <td>451.63</td>\n",
       "      <td>282.95;168.68</td>\n",
       "      <td>PUB;PRI</td>\n",
       "      <td>2</td>\n",
       "      <td>0.6265;0.3735</td>\n",
       "    </tr>\n",
       "    <tr>\n",
       "      <th>4</th>\n",
       "      <td>216</td>\n",
       "      <td>2005</td>\n",
       "      <td>1</td>\n",
       "      <td>487.94</td>\n",
       "      <td>311.26;176.68</td>\n",
       "      <td>PUB;PRI</td>\n",
       "      <td>2</td>\n",
       "      <td>0.6379;0.3621</td>\n",
       "    </tr>\n",
       "    <tr>\n",
       "      <th>...</th>\n",
       "      <td>...</td>\n",
       "      <td>...</td>\n",
       "      <td>...</td>\n",
       "      <td>...</td>\n",
       "      <td>...</td>\n",
       "      <td>...</td>\n",
       "      <td>...</td>\n",
       "      <td>...</td>\n",
       "    </tr>\n",
       "    <tr>\n",
       "      <th>2347227</th>\n",
       "      <td>20949683</td>\n",
       "      <td>2014</td>\n",
       "      <td>3</td>\n",
       "      <td>696.22</td>\n",
       "      <td>528.9;167.32</td>\n",
       "      <td>PRI;PUB</td>\n",
       "      <td>2</td>\n",
       "      <td>0.7597;0.2403</td>\n",
       "    </tr>\n",
       "    <tr>\n",
       "      <th>2347228</th>\n",
       "      <td>21035240</td>\n",
       "      <td>2010</td>\n",
       "      <td>9</td>\n",
       "      <td>332.59</td>\n",
       "      <td>194.4;138.19</td>\n",
       "      <td>PRI;PRI</td>\n",
       "      <td>2</td>\n",
       "      <td>0.5845;0.4155</td>\n",
       "    </tr>\n",
       "    <tr>\n",
       "      <th>2347229</th>\n",
       "      <td>21035907</td>\n",
       "      <td>2008</td>\n",
       "      <td>6</td>\n",
       "      <td>409.27</td>\n",
       "      <td>170.0;239.27</td>\n",
       "      <td>PRI;PUB</td>\n",
       "      <td>2</td>\n",
       "      <td>0.4154;0.5846</td>\n",
       "    </tr>\n",
       "    <tr>\n",
       "      <th>2347230</th>\n",
       "      <td>21104059</td>\n",
       "      <td>2016</td>\n",
       "      <td>4</td>\n",
       "      <td>270.72</td>\n",
       "      <td>120.72;150.0</td>\n",
       "      <td>PRI;PRI</td>\n",
       "      <td>2</td>\n",
       "      <td>0.4459;0.5541</td>\n",
       "    </tr>\n",
       "    <tr>\n",
       "      <th>2347231</th>\n",
       "      <td>21729781</td>\n",
       "      <td>2018</td>\n",
       "      <td>1</td>\n",
       "      <td>618.00</td>\n",
       "      <td>425.0;193.0</td>\n",
       "      <td>VOL_EC;PRI</td>\n",
       "      <td>2</td>\n",
       "      <td>0.6877;0.3123</td>\n",
       "    </tr>\n",
       "  </tbody>\n",
       "</table>\n",
       "<p>2347232 rows × 8 columns</p>\n",
       "</div>"
      ],
      "text/plain": [
       "         CEDULA_COD  ANIO  MES  SALARIO SALARIO_SECTOR    SECTOR_A  \\\n",
       "0               216  2004    9   451.63  282.95;168.68     PUB;PRI   \n",
       "1               216  2004   10   451.63  282.95;168.68     PUB;PRI   \n",
       "2               216  2004   11   451.63  168.68;282.95     PRI;PUB   \n",
       "3               216  2004   12   451.63  282.95;168.68     PUB;PRI   \n",
       "4               216  2005    1   487.94  311.26;176.68     PUB;PRI   \n",
       "...             ...   ...  ...      ...            ...         ...   \n",
       "2347227    20949683  2014    3   696.22   528.9;167.32     PRI;PUB   \n",
       "2347228    21035240  2010    9   332.59   194.4;138.19     PRI;PRI   \n",
       "2347229    21035907  2008    6   409.27   170.0;239.27     PRI;PUB   \n",
       "2347230    21104059  2016    4   270.72   120.72;150.0     PRI;PRI   \n",
       "2347231    21729781  2018    1   618.00    425.0;193.0  VOL_EC;PRI   \n",
       "\n",
       "         NUM_SEC_MES   %_NUM_SECTOR  \n",
       "0                  2  0.6265;0.3735  \n",
       "1                  2  0.6265;0.3735  \n",
       "2                  2  0.3735;0.6265  \n",
       "3                  2  0.6265;0.3735  \n",
       "4                  2  0.6379;0.3621  \n",
       "...              ...            ...  \n",
       "2347227            2  0.7597;0.2403  \n",
       "2347228            2  0.5845;0.4155  \n",
       "2347229            2  0.4154;0.5846  \n",
       "2347230            2  0.4459;0.5541  \n",
       "2347231            2  0.6877;0.3123  \n",
       "\n",
       "[2347232 rows x 8 columns]"
      ]
     },
     "execution_count": 9,
     "metadata": {},
     "output_type": "execute_result"
    }
   ],
   "source": [
    "afi_sel_g"
   ]
  },
  {
   "cell_type": "code",
   "execution_count": 10,
   "id": "cbe59597",
   "metadata": {
    "ExecuteTime": {
     "end_time": "2024-07-15T17:15:24.014839Z",
     "start_time": "2024-07-15T17:15:24.014839Z"
    }
   },
   "outputs": [],
   "source": [
    "afi_sel_g_all = pd.concat( [aux1[['CEDULA_COD', 'ANIO', 'MES', 'SALARIO', 'SALARIO_SECTOR','SECTOR_A', 'NUM_SEC_MES', '%_NUM_SECTOR']], \n",
    "                            afi_sel_g], ignore_index=True )"
   ]
  },
  {
   "cell_type": "code",
   "execution_count": 11,
   "id": "4bfdd552",
   "metadata": {
    "ExecuteTime": {
     "end_time": "2024-07-15T17:15:24.015841Z",
     "start_time": "2024-07-15T17:15:24.015841Z"
    }
   },
   "outputs": [
    {
     "data": {
      "text/html": [
       "<div>\n",
       "<style scoped>\n",
       "    .dataframe tbody tr th:only-of-type {\n",
       "        vertical-align: middle;\n",
       "    }\n",
       "\n",
       "    .dataframe tbody tr th {\n",
       "        vertical-align: top;\n",
       "    }\n",
       "\n",
       "    .dataframe thead th {\n",
       "        text-align: right;\n",
       "    }\n",
       "</style>\n",
       "<table border=\"1\" class=\"dataframe\">\n",
       "  <thead>\n",
       "    <tr style=\"text-align: right;\">\n",
       "      <th></th>\n",
       "      <th>CEDULA_COD</th>\n",
       "      <th>ANIO</th>\n",
       "      <th>MES</th>\n",
       "      <th>SALARIO</th>\n",
       "      <th>SALARIO_SECTOR</th>\n",
       "      <th>SECTOR_A</th>\n",
       "      <th>NUM_SEC_MES</th>\n",
       "      <th>%_NUM_SECTOR</th>\n",
       "    </tr>\n",
       "  </thead>\n",
       "  <tbody>\n",
       "    <tr>\n",
       "      <th>0</th>\n",
       "      <td>126</td>\n",
       "      <td>2010</td>\n",
       "      <td>12</td>\n",
       "      <td>8.06</td>\n",
       "      <td>8.06</td>\n",
       "      <td>PRI</td>\n",
       "      <td>1</td>\n",
       "      <td>8.06</td>\n",
       "    </tr>\n",
       "    <tr>\n",
       "      <th>1</th>\n",
       "      <td>126</td>\n",
       "      <td>2010</td>\n",
       "      <td>11</td>\n",
       "      <td>250.00</td>\n",
       "      <td>250.0</td>\n",
       "      <td>PRI</td>\n",
       "      <td>1</td>\n",
       "      <td>250.0</td>\n",
       "    </tr>\n",
       "    <tr>\n",
       "      <th>2</th>\n",
       "      <td>126</td>\n",
       "      <td>2010</td>\n",
       "      <td>10</td>\n",
       "      <td>250.00</td>\n",
       "      <td>250.0</td>\n",
       "      <td>PRI</td>\n",
       "      <td>1</td>\n",
       "      <td>250.0</td>\n",
       "    </tr>\n",
       "    <tr>\n",
       "      <th>3</th>\n",
       "      <td>126</td>\n",
       "      <td>2010</td>\n",
       "      <td>9</td>\n",
       "      <td>250.00</td>\n",
       "      <td>250.0</td>\n",
       "      <td>PRI</td>\n",
       "      <td>1</td>\n",
       "      <td>250.0</td>\n",
       "    </tr>\n",
       "    <tr>\n",
       "      <th>4</th>\n",
       "      <td>126</td>\n",
       "      <td>2010</td>\n",
       "      <td>8</td>\n",
       "      <td>250.00</td>\n",
       "      <td>250.0</td>\n",
       "      <td>PRI</td>\n",
       "      <td>1</td>\n",
       "      <td>250.0</td>\n",
       "    </tr>\n",
       "    <tr>\n",
       "      <th>...</th>\n",
       "      <td>...</td>\n",
       "      <td>...</td>\n",
       "      <td>...</td>\n",
       "      <td>...</td>\n",
       "      <td>...</td>\n",
       "      <td>...</td>\n",
       "      <td>...</td>\n",
       "      <td>...</td>\n",
       "    </tr>\n",
       "    <tr>\n",
       "      <th>62130162</th>\n",
       "      <td>20949683</td>\n",
       "      <td>2014</td>\n",
       "      <td>3</td>\n",
       "      <td>696.22</td>\n",
       "      <td>528.9;167.32</td>\n",
       "      <td>PRI;PUB</td>\n",
       "      <td>2</td>\n",
       "      <td>0.7597;0.2403</td>\n",
       "    </tr>\n",
       "    <tr>\n",
       "      <th>62130163</th>\n",
       "      <td>21035240</td>\n",
       "      <td>2010</td>\n",
       "      <td>9</td>\n",
       "      <td>332.59</td>\n",
       "      <td>194.4;138.19</td>\n",
       "      <td>PRI;PRI</td>\n",
       "      <td>2</td>\n",
       "      <td>0.5845;0.4155</td>\n",
       "    </tr>\n",
       "    <tr>\n",
       "      <th>62130164</th>\n",
       "      <td>21035907</td>\n",
       "      <td>2008</td>\n",
       "      <td>6</td>\n",
       "      <td>409.27</td>\n",
       "      <td>170.0;239.27</td>\n",
       "      <td>PRI;PUB</td>\n",
       "      <td>2</td>\n",
       "      <td>0.4154;0.5846</td>\n",
       "    </tr>\n",
       "    <tr>\n",
       "      <th>62130165</th>\n",
       "      <td>21104059</td>\n",
       "      <td>2016</td>\n",
       "      <td>4</td>\n",
       "      <td>270.72</td>\n",
       "      <td>120.72;150.0</td>\n",
       "      <td>PRI;PRI</td>\n",
       "      <td>2</td>\n",
       "      <td>0.4459;0.5541</td>\n",
       "    </tr>\n",
       "    <tr>\n",
       "      <th>62130166</th>\n",
       "      <td>21729781</td>\n",
       "      <td>2018</td>\n",
       "      <td>1</td>\n",
       "      <td>618.00</td>\n",
       "      <td>425.0;193.0</td>\n",
       "      <td>VOL_EC;PRI</td>\n",
       "      <td>2</td>\n",
       "      <td>0.6877;0.3123</td>\n",
       "    </tr>\n",
       "  </tbody>\n",
       "</table>\n",
       "<p>62130167 rows × 8 columns</p>\n",
       "</div>"
      ],
      "text/plain": [
       "          CEDULA_COD  ANIO  MES  SALARIO SALARIO_SECTOR    SECTOR_A  \\\n",
       "0                126  2010   12     8.06           8.06         PRI   \n",
       "1                126  2010   11   250.00          250.0         PRI   \n",
       "2                126  2010   10   250.00          250.0         PRI   \n",
       "3                126  2010    9   250.00          250.0         PRI   \n",
       "4                126  2010    8   250.00          250.0         PRI   \n",
       "...              ...   ...  ...      ...            ...         ...   \n",
       "62130162    20949683  2014    3   696.22   528.9;167.32     PRI;PUB   \n",
       "62130163    21035240  2010    9   332.59   194.4;138.19     PRI;PRI   \n",
       "62130164    21035907  2008    6   409.27   170.0;239.27     PRI;PUB   \n",
       "62130165    21104059  2016    4   270.72   120.72;150.0     PRI;PRI   \n",
       "62130166    21729781  2018    1   618.00    425.0;193.0  VOL_EC;PRI   \n",
       "\n",
       "          NUM_SEC_MES   %_NUM_SECTOR  \n",
       "0                   1           8.06  \n",
       "1                   1          250.0  \n",
       "2                   1          250.0  \n",
       "3                   1          250.0  \n",
       "4                   1          250.0  \n",
       "...               ...            ...  \n",
       "62130162            2  0.7597;0.2403  \n",
       "62130163            2  0.5845;0.4155  \n",
       "62130164            2  0.4154;0.5846  \n",
       "62130165            2  0.4459;0.5541  \n",
       "62130166            2  0.6877;0.3123  \n",
       "\n",
       "[62130167 rows x 8 columns]"
      ]
     },
     "execution_count": 11,
     "metadata": {},
     "output_type": "execute_result"
    }
   ],
   "source": [
    "afi_sel_g_all"
   ]
  },
  {
   "cell_type": "code",
   "execution_count": 12,
   "id": "bb3917c8",
   "metadata": {
    "ExecuteTime": {
     "end_time": "2024-07-15T17:15:24.017984Z",
     "start_time": "2024-07-15T17:15:24.017984Z"
    }
   },
   "outputs": [],
   "source": [
    "# Nombre del archivo\n",
    "nombre_archivo = 'viu_clean_afi_sel_g_all.pkl'\n",
    "# Ruta completa del archivo\n",
    "ruta_archivo = os.path.join(directorio, nombre_archivo)\n",
    "# Objetos a guardar\n",
    "objeto4 = afi_sel_g_all\n",
    "\n",
    "# Guardar los objetos en el archivo\n",
    "with open(ruta_archivo, 'wb') as archivo:\n",
    "    pickle.dump(objeto4, archivo)      "
   ]
  },
  {
   "cell_type": "code",
   "execution_count": null,
   "id": "64e1b80c",
   "metadata": {
    "ExecuteTime": {
     "end_time": "2024-07-15T20:35:18.490089Z",
     "start_time": "2024-07-15T20:35:17.362006Z"
    }
   },
   "outputs": [],
   "source": [
    "#afi_sel_g_all = objetos[3]"
   ]
  },
  {
   "cell_type": "code",
   "execution_count": null,
   "id": "12ce8372",
   "metadata": {
    "ExecuteTime": {
     "end_time": "2024-07-15T17:57:16.383287Z",
     "start_time": "2024-07-15T17:57:04.665045Z"
    }
   },
   "outputs": [],
   "source": [
    "del aux\n",
    "del aux1\n",
    "del objeto4"
   ]
  },
  {
   "cell_type": "code",
   "execution_count": 13,
   "id": "3c213049",
   "metadata": {
    "ExecuteTime": {
     "start_time": "2024-07-15T20:35:59.850Z"
    }
   },
   "outputs": [],
   "source": [
    "afi_sel_g_all = afi_sel_g_all.sort_values( by=[\"CEDULA_COD\",\"ANIO\", \"MES\"], ascending=[True, False, False] )\n",
    "afi_sel_g_all.loc[ (afi_sel_g_all['NUM_SEC_MES'] == 1), '%_NUM_SECTOR'] = '1'"
   ]
  },
  {
   "cell_type": "code",
   "execution_count": null,
   "id": "828d7f59",
   "metadata": {
    "ExecuteTime": {
     "start_time": "2024-07-15T20:36:04.170Z"
    }
   },
   "outputs": [],
   "source": [
    "afi_sel_g_all[afi_sel_g_all['CEDULA_COD']==216]"
   ]
  },
  {
   "cell_type": "code",
   "execution_count": 14,
   "id": "5a4c3357",
   "metadata": {
    "ExecuteTime": {
     "start_time": "2024-07-15T20:36:06.439Z"
    }
   },
   "outputs": [],
   "source": [
    "#Se reinician los index\n",
    "afi_sel_g_all.reset_index(inplace=True)\n",
    "afi_sel_g_all.rename(columns={'index': 'nuevo_indice'}, inplace=True)\n",
    "afi_sel_g_all.drop(columns=['nuevo_indice'], inplace=True)"
   ]
  },
  {
   "cell_type": "code",
   "execution_count": null,
   "id": "e48b33ad",
   "metadata": {
    "ExecuteTime": {
     "start_time": "2024-07-15T20:36:08.095Z"
    }
   },
   "outputs": [],
   "source": [
    "afi_sel_g_all[afi_sel_g_all['CEDULA_COD']==126]"
   ]
  },
  {
   "cell_type": "code",
   "execution_count": 15,
   "id": "87616db7",
   "metadata": {
    "ExecuteTime": {
     "end_time": "2024-07-15T16:49:15.698723Z",
     "start_time": "2024-07-15T16:48:59.956839Z"
    }
   },
   "outputs": [],
   "source": [
    "#se crean los grupos de 12 meses trabajados para tener\n",
    "n_grupo = 12\n",
    "afi_sel_g_all['GRUPO'] = (afi_sel_g_all.groupby('CEDULA_COD').cumcount() // n_grupo ) + 1\n",
    "#Se saca el salario promedio de cada grupo\n",
    "afi_sel_g_all['SAL_PROM_GRUPO'] = afi_sel_g_all.groupby(['CEDULA_COD', 'GRUPO'])['SALARIO'].transform('mean')"
   ]
  },
  {
   "cell_type": "code",
   "execution_count": null,
   "id": "79bc8b95",
   "metadata": {
    "ExecuteTime": {
     "end_time": "2024-07-15T16:49:15.769801Z",
     "start_time": "2024-07-15T16:49:15.701731Z"
    }
   },
   "outputs": [],
   "source": [
    "afi_sel_g_all"
   ]
  },
  {
   "cell_type": "code",
   "execution_count": null,
   "id": "edc13f78",
   "metadata": {
    "ExecuteTime": {
     "end_time": "2024-07-15T16:49:18.892556Z",
     "start_time": "2024-07-15T16:49:18.454964Z"
    }
   },
   "outputs": [],
   "source": [
    "afi_sel_g_all[afi_sel_g_all['CEDULA_COD']==126]['GRUPO'].unique()"
   ]
  },
  {
   "cell_type": "code",
   "execution_count": 16,
   "id": "2ede2e6c",
   "metadata": {
    "ExecuteTime": {
     "end_time": "2024-07-15T16:49:28.056278Z",
     "start_time": "2024-07-15T16:49:18.894563Z"
    }
   },
   "outputs": [
    {
     "name": "stdout",
     "output_type": "stream",
     "text": [
      "Tiempo de ejecución es:  0.0  horas con  0.0  minutos y 5.357856512069702  segundos\n"
     ]
    }
   ],
   "source": [
    "#Se obtienen los sueldos promedios para cada grupo y cada cedula\n",
    "inicio = time.time()\n",
    "df1 = afi_sel_g_all.groupby(['CEDULA_COD', 'GRUPO'])['SAL_PROM_GRUPO'].first().reset_index().copy()\n",
    "df1 = df1.sort_values(by = ['CEDULA_COD','SAL_PROM_GRUPO'], ascending=[True,False])\n",
    "fin = time.time()  \n",
    "print('Tiempo de ejecución es: ',  (fin-inicio)//3600, ' horas con ' ,  (fin-inicio)%3600//60 , ' minutos y', (fin-inicio)%60, ' segundos' )"
   ]
  },
  {
   "cell_type": "code",
   "execution_count": null,
   "id": "ca9b660f",
   "metadata": {
    "ExecuteTime": {
     "end_time": "2024-07-15T16:49:28.097696Z",
     "start_time": "2024-07-15T16:49:28.067742Z"
    }
   },
   "outputs": [],
   "source": [
    "df1"
   ]
  },
  {
   "cell_type": "code",
   "execution_count": null,
   "id": "d853c7f0",
   "metadata": {
    "ExecuteTime": {
     "end_time": "2024-07-15T16:49:28.438155Z",
     "start_time": "2024-07-15T16:49:28.099707Z"
    }
   },
   "outputs": [],
   "source": [
    " df1[df1['CEDULA_COD']==126]"
   ]
  },
  {
   "cell_type": "code",
   "execution_count": 17,
   "id": "61e44e66",
   "metadata": {
    "ExecuteTime": {
     "end_time": "2024-07-15T16:49:39.865820Z",
     "start_time": "2024-07-15T16:49:28.443179Z"
    }
   },
   "outputs": [
    {
     "name": "stdout",
     "output_type": "stream",
     "text": [
      "Tiempo de ejecución es:  0.0  horas con  0.0  minutos y 8.086708784103394  segundos\n"
     ]
    }
   ],
   "source": [
    "#Se seleccionan los 5 mejores años de sueldo\n",
    "inicio = time.time()\n",
    "top = 5\n",
    "#top_sal = df1.groupby('CEDULA_COD')['SAL_PROM_GRUPO'].nlargest(top).reset_index(level=0, drop=True)\n",
    "indices = df1.groupby('CEDULA_COD').apply(lambda x: x.index[:top]).explode()\n",
    "df2 = df1.loc[indices].reset_index(drop=True)\n",
    "fin = time.time()  \n",
    "print('Tiempo de ejecución es: ',  (fin-inicio)//3600, ' horas con ' ,  (fin-inicio)%3600//60 , ' minutos y', (fin-inicio)%60, ' segundos' )"
   ]
  },
  {
   "cell_type": "code",
   "execution_count": null,
   "id": "4590b8c7",
   "metadata": {
    "ExecuteTime": {
     "end_time": "2024-07-15T16:49:39.886734Z",
     "start_time": "2024-07-15T16:49:39.867971Z"
    }
   },
   "outputs": [],
   "source": [
    "df2[df2['CEDULA_COD']==126]"
   ]
  },
  {
   "cell_type": "code",
   "execution_count": 18,
   "id": "7a5efcc3",
   "metadata": {
    "ExecuteTime": {
     "end_time": "2024-07-15T16:50:06.025672Z",
     "start_time": "2024-07-15T16:49:39.888915Z"
    }
   },
   "outputs": [],
   "source": [
    "#Seleccionar los cinco mejores años del grupo total de años de aporte\n",
    "combinaciones = set(zip(df2['CEDULA_COD'], df2['GRUPO']))\n",
    "afi_sel_g_all['GRUPO_SEL'] = [(cedula, grupo) in combinaciones for cedula, grupo in zip(afi_sel_g_all['CEDULA_COD'], afi_sel_g_all['GRUPO'])]\n",
    "afi_sel_g_all['GRUPO_SEL'] = afi_sel_g_all['GRUPO_SEL'].astype(int)"
   ]
  },
  {
   "cell_type": "code",
   "execution_count": 19,
   "id": "92f94379",
   "metadata": {},
   "outputs": [
    {
     "data": {
      "text/plain": [
       "0"
      ]
     },
     "execution_count": 19,
     "metadata": {},
     "output_type": "execute_result"
    }
   ],
   "source": [
    "#Verificar que todas las cédulas tengan al menos 60 registros de los salarios\n",
    "ced_counts1 = afi_sel_g_all.drop_duplicates(subset=['CEDULA_COD', 'ANIO', 'MES'])['CEDULA_COD'].value_counts()\n",
    "ced_counts1[ced_counts1 < 60].index.nunique()"
   ]
  },
  {
   "cell_type": "code",
   "execution_count": null,
   "id": "7f02e554",
   "metadata": {
    "ExecuteTime": {
     "end_time": "2024-07-15T16:50:06.134042Z",
     "start_time": "2024-07-15T16:50:06.027696Z"
    }
   },
   "outputs": [],
   "source": [
    "afi_sel_g_all[afi_sel_g_all['CEDULA_COD']==126].tail(60)"
   ]
  },
  {
   "cell_type": "code",
   "execution_count": 20,
   "id": "964f1d61",
   "metadata": {
    "ExecuteTime": {
     "end_time": "2024-07-15T16:50:43.971377Z",
     "start_time": "2024-07-15T16:50:06.135066Z"
    }
   },
   "outputs": [
    {
     "name": "stdout",
     "output_type": "stream",
     "text": [
      "Tiempo de ejecución es:  0.0  horas con  0.0  minutos y 31.285127639770508  segundos\n"
     ]
    }
   ],
   "source": [
    "#Se crea una variable fecha para el período de mejores años y la base de cálculo\n",
    "inicio = time.time()\n",
    "mejores = afi_sel_g_all[afi_sel_g_all['GRUPO_SEL']==1].copy()\n",
    "mejores.loc[:, 'FECHA'] = pd.to_datetime(mejores['ANIO'].astype(str) + '-' + mejores['MES'].astype(str).str.zfill(2) + '-01')\n",
    "\n",
    "#Se calcula la base de calculo\n",
    "df_prom = mejores.groupby('CEDULA_COD')['SALARIO'].mean()\n",
    "fin = time.time()  \n",
    "print('Tiempo de ejecución es: ',  (fin-inicio)//3600, ' horas con ' ,  (fin-inicio)%3600//60 , ' minutos y', (fin-inicio)%60, ' segundos' )"
   ]
  },
  {
   "cell_type": "code",
   "execution_count": null,
   "id": "72f96eda",
   "metadata": {
    "ExecuteTime": {
     "end_time": "2024-07-15T16:50:43.973544Z",
     "start_time": "2024-07-15T16:50:43.973544Z"
    }
   },
   "outputs": [],
   "source": [
    "mejores"
   ]
  },
  {
   "cell_type": "code",
   "execution_count": 21,
   "id": "97e8eed6",
   "metadata": {
    "ExecuteTime": {
     "end_time": "2024-07-15T16:50:43.974547Z",
     "start_time": "2024-07-15T16:50:43.974547Z"
    }
   },
   "outputs": [],
   "source": [
    "afi_sel_g_all['INI_CAL'] = afi_sel_g_all['CEDULA_COD'].map( mejores.groupby('CEDULA_COD')['FECHA'].max() )\n",
    "afi_sel_g_all['FIN_CAL'] = afi_sel_g_all['CEDULA_COD'].map( mejores.groupby('CEDULA_COD')['FECHA'].min() )\n",
    "afi_sel_g_all['BASE_CAL'] = afi_sel_g_all['CEDULA_COD'].map( df_prom )"
   ]
  },
  {
   "cell_type": "code",
   "execution_count": 22,
   "id": "43447a9b",
   "metadata": {},
   "outputs": [
    {
     "ename": "NameError",
     "evalue": "name 'caract' is not defined",
     "output_type": "error",
     "traceback": [
      "\u001b[1;31m---------------------------------------------------------------------------\u001b[0m",
      "\u001b[1;31mNameError\u001b[0m                                 Traceback (most recent call last)",
      "\u001b[1;32m~\\AppData\\Local\\Temp\\ipykernel_8780\\2587092852.py\u001b[0m in \u001b[0;36m<module>\u001b[1;34m\u001b[0m\n\u001b[1;32m----> 1\u001b[1;33m \u001b[0mcaract\u001b[0m\u001b[1;33m[\u001b[0m\u001b[1;34m'INI_CAL'\u001b[0m\u001b[1;33m]\u001b[0m \u001b[1;33m=\u001b[0m \u001b[0mcaract\u001b[0m\u001b[1;33m[\u001b[0m\u001b[1;34m'CEDULA_COD'\u001b[0m\u001b[1;33m]\u001b[0m\u001b[1;33m.\u001b[0m\u001b[0mmap\u001b[0m\u001b[1;33m(\u001b[0m \u001b[0mmejores\u001b[0m\u001b[1;33m.\u001b[0m\u001b[0mgroupby\u001b[0m\u001b[1;33m(\u001b[0m\u001b[1;34m'CEDULA_COD'\u001b[0m\u001b[1;33m)\u001b[0m\u001b[1;33m[\u001b[0m\u001b[1;34m'FECHA'\u001b[0m\u001b[1;33m]\u001b[0m\u001b[1;33m.\u001b[0m\u001b[0mmax\u001b[0m\u001b[1;33m(\u001b[0m\u001b[1;33m)\u001b[0m \u001b[1;33m)\u001b[0m\u001b[1;33m\u001b[0m\u001b[1;33m\u001b[0m\u001b[0m\n\u001b[0m\u001b[0;32m      2\u001b[0m \u001b[0mcaract\u001b[0m\u001b[1;33m[\u001b[0m\u001b[1;34m'FIN_CAL'\u001b[0m\u001b[1;33m]\u001b[0m \u001b[1;33m=\u001b[0m \u001b[0mcaract\u001b[0m\u001b[1;33m[\u001b[0m\u001b[1;34m'CEDULA_COD'\u001b[0m\u001b[1;33m]\u001b[0m\u001b[1;33m.\u001b[0m\u001b[0mmap\u001b[0m\u001b[1;33m(\u001b[0m \u001b[0mmejores\u001b[0m\u001b[1;33m.\u001b[0m\u001b[0mgroupby\u001b[0m\u001b[1;33m(\u001b[0m\u001b[1;34m'CEDULA_COD'\u001b[0m\u001b[1;33m)\u001b[0m\u001b[1;33m[\u001b[0m\u001b[1;34m'FECHA'\u001b[0m\u001b[1;33m]\u001b[0m\u001b[1;33m.\u001b[0m\u001b[0mmin\u001b[0m\u001b[1;33m(\u001b[0m\u001b[1;33m)\u001b[0m \u001b[1;33m)\u001b[0m\u001b[1;33m\u001b[0m\u001b[1;33m\u001b[0m\u001b[0m\n\u001b[0;32m      3\u001b[0m \u001b[0mcaract\u001b[0m\u001b[1;33m[\u001b[0m\u001b[1;34m'BASE_CAL'\u001b[0m\u001b[1;33m]\u001b[0m \u001b[1;33m=\u001b[0m \u001b[0mcaract\u001b[0m\u001b[1;33m[\u001b[0m\u001b[1;34m'CEDULA_COD'\u001b[0m\u001b[1;33m]\u001b[0m\u001b[1;33m.\u001b[0m\u001b[0mmap\u001b[0m\u001b[1;33m(\u001b[0m \u001b[0mdf_prom\u001b[0m \u001b[1;33m)\u001b[0m\u001b[1;33m\u001b[0m\u001b[1;33m\u001b[0m\u001b[0m\n\u001b[0;32m      4\u001b[0m \u001b[0mcaract\u001b[0m\u001b[1;33m\u001b[0m\u001b[1;33m\u001b[0m\u001b[0m\n",
      "\u001b[1;31mNameError\u001b[0m: name 'caract' is not defined"
     ]
    }
   ],
   "source": [
    "caract['INI_CAL'] = caract['CEDULA_COD'].map( mejores.groupby('CEDULA_COD')['FECHA'].max() )\n",
    "caract['FIN_CAL'] = caract['CEDULA_COD'].map( mejores.groupby('CEDULA_COD')['FECHA'].min() )\n",
    "caract['BASE_CAL'] = caract['CEDULA_COD'].map( df_prom )\n",
    "caract"
   ]
  },
  {
   "cell_type": "code",
   "execution_count": null,
   "id": "63f0f8d6",
   "metadata": {
    "ExecuteTime": {
     "end_time": "2024-07-15T16:50:43.976543Z",
     "start_time": "2024-07-15T16:50:43.976543Z"
    }
   },
   "outputs": [],
   "source": [
    "del df1, df2, mejores"
   ]
  },
  {
   "cell_type": "code",
   "execution_count": null,
   "id": "8c4d61ef",
   "metadata": {
    "ExecuteTime": {
     "end_time": "2024-07-15T16:50:43.977547Z",
     "start_time": "2024-07-15T16:50:43.977547Z"
    }
   },
   "outputs": [],
   "source": [
    "afi_sel_g_all[ (afi_sel_g_all['CEDULA_COD']==126) & (afi_sel_g_all['GRUPO_SEL']==1)]['SALARIO'].mean()"
   ]
  },
  {
   "cell_type": "code",
   "execution_count": null,
   "id": "dcf1c923",
   "metadata": {
    "ExecuteTime": {
     "end_time": "2024-07-15T16:50:43.978544Z",
     "start_time": "2024-07-15T16:50:43.978544Z"
    }
   },
   "outputs": [],
   "source": [
    "afi_sel_g_all[ (afi_sel_g_all['CEDULA_COD']==126)]"
   ]
  },
  {
   "cell_type": "code",
   "execution_count": null,
   "id": "91b8ca09",
   "metadata": {},
   "outputs": [],
   "source": [
    "# #     df = asignar_grupo(sect, n_grupo)\n",
    "# #     df1 = valores_unicos_grupos(df)\n",
    "# #     df2 = sel_top_salarios(df1, top)\n",
    "# #     df = sel_grupo(df, df2)\n",
    "#     df = fec_sel_grupo(df)\n",
    "#     df = base_cal(df)\n",
    "#     df = ati_base_cal_m1(df, inferior)\n",
    "#     df = base_cal_sin_ati_m1(df)\n",
    "#     df = sbu_ajuste_m1(df, SBU)"
   ]
  },
  {
   "cell_type": "code",
   "execution_count": null,
   "id": "197dac7a",
   "metadata": {
    "ExecuteTime": {
     "end_time": "2024-07-15T16:50:43.979546Z",
     "start_time": "2024-07-15T16:50:43.979546Z"
    }
   },
   "outputs": [],
   "source": [
    "#Registros con años menores al 2000\n",
    "afi_sel_g_all[afi_sel_g_all['FIN_CAL'].dt.year<2000]"
   ]
  },
  {
   "cell_type": "code",
   "execution_count": 23,
   "id": "cef47382",
   "metadata": {
    "ExecuteTime": {
     "end_time": "2024-07-15T16:50:43.981545Z",
     "start_time": "2024-07-15T16:50:43.981545Z"
    }
   },
   "outputs": [
    {
     "data": {
      "text/html": [
       "<div>\n",
       "<style scoped>\n",
       "    .dataframe tbody tr th:only-of-type {\n",
       "        vertical-align: middle;\n",
       "    }\n",
       "\n",
       "    .dataframe tbody tr th {\n",
       "        vertical-align: top;\n",
       "    }\n",
       "\n",
       "    .dataframe thead th {\n",
       "        text-align: right;\n",
       "    }\n",
       "</style>\n",
       "<table border=\"1\" class=\"dataframe\">\n",
       "  <thead>\n",
       "    <tr style=\"text-align: right;\">\n",
       "      <th></th>\n",
       "      <th>ANIO</th>\n",
       "      <th>VALOR</th>\n",
       "    </tr>\n",
       "  </thead>\n",
       "  <tbody>\n",
       "    <tr>\n",
       "      <th>0</th>\n",
       "      <td>2000</td>\n",
       "      <td>57.00</td>\n",
       "    </tr>\n",
       "    <tr>\n",
       "      <th>1</th>\n",
       "      <td>2001</td>\n",
       "      <td>85.65</td>\n",
       "    </tr>\n",
       "    <tr>\n",
       "      <th>2</th>\n",
       "      <td>2002</td>\n",
       "      <td>105.00</td>\n",
       "    </tr>\n",
       "    <tr>\n",
       "      <th>3</th>\n",
       "      <td>2003</td>\n",
       "      <td>122.00</td>\n",
       "    </tr>\n",
       "    <tr>\n",
       "      <th>4</th>\n",
       "      <td>2004</td>\n",
       "      <td>136.00</td>\n",
       "    </tr>\n",
       "    <tr>\n",
       "      <th>5</th>\n",
       "      <td>2005</td>\n",
       "      <td>150.00</td>\n",
       "    </tr>\n",
       "    <tr>\n",
       "      <th>6</th>\n",
       "      <td>2006</td>\n",
       "      <td>160.00</td>\n",
       "    </tr>\n",
       "    <tr>\n",
       "      <th>7</th>\n",
       "      <td>2007</td>\n",
       "      <td>170.00</td>\n",
       "    </tr>\n",
       "    <tr>\n",
       "      <th>8</th>\n",
       "      <td>2008</td>\n",
       "      <td>200.00</td>\n",
       "    </tr>\n",
       "    <tr>\n",
       "      <th>9</th>\n",
       "      <td>2009</td>\n",
       "      <td>218.00</td>\n",
       "    </tr>\n",
       "    <tr>\n",
       "      <th>10</th>\n",
       "      <td>2010</td>\n",
       "      <td>240.00</td>\n",
       "    </tr>\n",
       "    <tr>\n",
       "      <th>11</th>\n",
       "      <td>2011</td>\n",
       "      <td>264.00</td>\n",
       "    </tr>\n",
       "    <tr>\n",
       "      <th>12</th>\n",
       "      <td>2012</td>\n",
       "      <td>292.00</td>\n",
       "    </tr>\n",
       "    <tr>\n",
       "      <th>13</th>\n",
       "      <td>2013</td>\n",
       "      <td>318.00</td>\n",
       "    </tr>\n",
       "    <tr>\n",
       "      <th>14</th>\n",
       "      <td>2014</td>\n",
       "      <td>340.00</td>\n",
       "    </tr>\n",
       "    <tr>\n",
       "      <th>15</th>\n",
       "      <td>2015</td>\n",
       "      <td>354.00</td>\n",
       "    </tr>\n",
       "    <tr>\n",
       "      <th>16</th>\n",
       "      <td>2016</td>\n",
       "      <td>366.00</td>\n",
       "    </tr>\n",
       "    <tr>\n",
       "      <th>17</th>\n",
       "      <td>2017</td>\n",
       "      <td>375.00</td>\n",
       "    </tr>\n",
       "    <tr>\n",
       "      <th>18</th>\n",
       "      <td>2018</td>\n",
       "      <td>386.00</td>\n",
       "    </tr>\n",
       "    <tr>\n",
       "      <th>19</th>\n",
       "      <td>2019</td>\n",
       "      <td>394.00</td>\n",
       "    </tr>\n",
       "    <tr>\n",
       "      <th>20</th>\n",
       "      <td>2020</td>\n",
       "      <td>400.00</td>\n",
       "    </tr>\n",
       "    <tr>\n",
       "      <th>21</th>\n",
       "      <td>2021</td>\n",
       "      <td>400.00</td>\n",
       "    </tr>\n",
       "    <tr>\n",
       "      <th>22</th>\n",
       "      <td>2022</td>\n",
       "      <td>425.00</td>\n",
       "    </tr>\n",
       "    <tr>\n",
       "      <th>23</th>\n",
       "      <td>2023</td>\n",
       "      <td>450.00</td>\n",
       "    </tr>\n",
       "    <tr>\n",
       "      <th>24</th>\n",
       "      <td>2024</td>\n",
       "      <td>460.00</td>\n",
       "    </tr>\n",
       "  </tbody>\n",
       "</table>\n",
       "</div>"
      ],
      "text/plain": [
       "    ANIO   VALOR\n",
       "0   2000   57.00\n",
       "1   2001   85.65\n",
       "2   2002  105.00\n",
       "3   2003  122.00\n",
       "4   2004  136.00\n",
       "5   2005  150.00\n",
       "6   2006  160.00\n",
       "7   2007  170.00\n",
       "8   2008  200.00\n",
       "9   2009  218.00\n",
       "10  2010  240.00\n",
       "11  2011  264.00\n",
       "12  2012  292.00\n",
       "13  2013  318.00\n",
       "14  2014  340.00\n",
       "15  2015  354.00\n",
       "16  2016  366.00\n",
       "17  2017  375.00\n",
       "18  2018  386.00\n",
       "19  2019  394.00\n",
       "20  2020  400.00\n",
       "21  2021  400.00\n",
       "22  2022  425.00\n",
       "23  2023  450.00\n",
       "24  2024  460.00"
      ]
     },
     "execution_count": 23,
     "metadata": {},
     "output_type": "execute_result"
    }
   ],
   "source": [
    "#Se agrega el valor del SBU\n",
    "SBU = pd.DataFrame( { 'ANIO':[2000,2001,2002, 2003, 2004, 2005, 2006, 2007, 2008, 2009, 2010, 2011, 2012, 2013, 2014, 2015, 2016, 2017, 2018, 2019, 2020,\n",
    "                              2021, 2022, 2023, 2024],\n",
    "                      'VALOR':[57,85.65,105, 122, 136, 150, 160, 170, 200, 218, 240, 264, 292, 318, 340, 354, 366, 375, 386, 394, 400, \n",
    "                              400, 425, 450, 460]})\n",
    "SBU"
   ]
  },
  {
   "cell_type": "code",
   "execution_count": 24,
   "id": "c1ce61c6",
   "metadata": {
    "ExecuteTime": {
     "end_time": "2024-07-15T16:50:43.982578Z",
     "start_time": "2024-07-15T16:50:43.982578Z"
    }
   },
   "outputs": [],
   "source": [
    "afi_sel_g_all['SBU'] = afi_sel_g_all['ANIO'].map( SBU.groupby('ANIO')['VALOR'].first())"
   ]
  },
  {
   "cell_type": "code",
   "execution_count": null,
   "id": "9b77c8dc",
   "metadata": {
    "ExecuteTime": {
     "end_time": "2024-07-15T16:50:43.983668Z",
     "start_time": "2024-07-15T16:50:43.983668Z"
    }
   },
   "outputs": [],
   "source": [
    "afi_sel_g_all"
   ]
  },
  {
   "cell_type": "code",
   "execution_count": 25,
   "id": "2719e7c9",
   "metadata": {
    "ExecuteTime": {
     "end_time": "2024-07-15T16:50:43.984670Z",
     "start_time": "2024-07-15T16:50:43.984670Z"
    }
   },
   "outputs": [
    {
     "data": {
      "text/html": [
       "<div>\n",
       "<style scoped>\n",
       "    .dataframe tbody tr th:only-of-type {\n",
       "        vertical-align: middle;\n",
       "    }\n",
       "\n",
       "    .dataframe tbody tr th {\n",
       "        vertical-align: top;\n",
       "    }\n",
       "\n",
       "    .dataframe thead th {\n",
       "        text-align: right;\n",
       "    }\n",
       "</style>\n",
       "<table border=\"1\" class=\"dataframe\">\n",
       "  <thead>\n",
       "    <tr style=\"text-align: right;\">\n",
       "      <th></th>\n",
       "      <th>CEDULA_COD</th>\n",
       "      <th>ANIO</th>\n",
       "      <th>MES</th>\n",
       "      <th>SALARIO</th>\n",
       "      <th>SALARIO_SECTOR</th>\n",
       "      <th>SECTOR_A</th>\n",
       "      <th>NUM_SEC_MES</th>\n",
       "      <th>%_NUM_SECTOR</th>\n",
       "      <th>GRUPO</th>\n",
       "      <th>SAL_PROM_GRUPO</th>\n",
       "      <th>GRUPO_SEL</th>\n",
       "      <th>INI_CAL</th>\n",
       "      <th>FIN_CAL</th>\n",
       "      <th>BASE_CAL</th>\n",
       "      <th>SBU</th>\n",
       "      <th>ID_SBU</th>\n",
       "    </tr>\n",
       "  </thead>\n",
       "  <tbody>\n",
       "    <tr>\n",
       "      <th>0</th>\n",
       "      <td>126</td>\n",
       "      <td>2010</td>\n",
       "      <td>12</td>\n",
       "      <td>8.06</td>\n",
       "      <td>8.06</td>\n",
       "      <td>PRI</td>\n",
       "      <td>1</td>\n",
       "      <td>1</td>\n",
       "      <td>1</td>\n",
       "      <td>229.838333</td>\n",
       "      <td>1</td>\n",
       "      <td>2010-12-01</td>\n",
       "      <td>2006-01-01</td>\n",
       "      <td>210.635</td>\n",
       "      <td>240.0</td>\n",
       "      <td>-1</td>\n",
       "    </tr>\n",
       "    <tr>\n",
       "      <th>1</th>\n",
       "      <td>126</td>\n",
       "      <td>2010</td>\n",
       "      <td>11</td>\n",
       "      <td>250.00</td>\n",
       "      <td>250.0</td>\n",
       "      <td>PRI</td>\n",
       "      <td>1</td>\n",
       "      <td>1</td>\n",
       "      <td>1</td>\n",
       "      <td>229.838333</td>\n",
       "      <td>1</td>\n",
       "      <td>2010-12-01</td>\n",
       "      <td>2006-01-01</td>\n",
       "      <td>210.635</td>\n",
       "      <td>240.0</td>\n",
       "      <td>-1</td>\n",
       "    </tr>\n",
       "    <tr>\n",
       "      <th>2</th>\n",
       "      <td>126</td>\n",
       "      <td>2010</td>\n",
       "      <td>10</td>\n",
       "      <td>250.00</td>\n",
       "      <td>250.0</td>\n",
       "      <td>PRI</td>\n",
       "      <td>1</td>\n",
       "      <td>1</td>\n",
       "      <td>1</td>\n",
       "      <td>229.838333</td>\n",
       "      <td>1</td>\n",
       "      <td>2010-12-01</td>\n",
       "      <td>2006-01-01</td>\n",
       "      <td>210.635</td>\n",
       "      <td>240.0</td>\n",
       "      <td>-1</td>\n",
       "    </tr>\n",
       "    <tr>\n",
       "      <th>3</th>\n",
       "      <td>126</td>\n",
       "      <td>2010</td>\n",
       "      <td>9</td>\n",
       "      <td>250.00</td>\n",
       "      <td>250.0</td>\n",
       "      <td>PRI</td>\n",
       "      <td>1</td>\n",
       "      <td>1</td>\n",
       "      <td>1</td>\n",
       "      <td>229.838333</td>\n",
       "      <td>1</td>\n",
       "      <td>2010-12-01</td>\n",
       "      <td>2006-01-01</td>\n",
       "      <td>210.635</td>\n",
       "      <td>240.0</td>\n",
       "      <td>-1</td>\n",
       "    </tr>\n",
       "    <tr>\n",
       "      <th>4</th>\n",
       "      <td>126</td>\n",
       "      <td>2010</td>\n",
       "      <td>8</td>\n",
       "      <td>250.00</td>\n",
       "      <td>250.0</td>\n",
       "      <td>PRI</td>\n",
       "      <td>1</td>\n",
       "      <td>1</td>\n",
       "      <td>1</td>\n",
       "      <td>229.838333</td>\n",
       "      <td>1</td>\n",
       "      <td>2010-12-01</td>\n",
       "      <td>2006-01-01</td>\n",
       "      <td>210.635</td>\n",
       "      <td>240.0</td>\n",
       "      <td>-1</td>\n",
       "    </tr>\n",
       "    <tr>\n",
       "      <th>...</th>\n",
       "      <td>...</td>\n",
       "      <td>...</td>\n",
       "      <td>...</td>\n",
       "      <td>...</td>\n",
       "      <td>...</td>\n",
       "      <td>...</td>\n",
       "      <td>...</td>\n",
       "      <td>...</td>\n",
       "      <td>...</td>\n",
       "      <td>...</td>\n",
       "      <td>...</td>\n",
       "      <td>...</td>\n",
       "      <td>...</td>\n",
       "      <td>...</td>\n",
       "      <td>...</td>\n",
       "      <td>...</td>\n",
       "    </tr>\n",
       "    <tr>\n",
       "      <th>62130162</th>\n",
       "      <td>23594465</td>\n",
       "      <td>2012</td>\n",
       "      <td>9</td>\n",
       "      <td>10528.81</td>\n",
       "      <td>10528.81</td>\n",
       "      <td>PRI</td>\n",
       "      <td>1</td>\n",
       "      <td>1</td>\n",
       "      <td>6</td>\n",
       "      <td>11149.854545</td>\n",
       "      <td>0</td>\n",
       "      <td>2018-03-01</td>\n",
       "      <td>2013-04-01</td>\n",
       "      <td>16604.299</td>\n",
       "      <td>292.0</td>\n",
       "      <td>-1</td>\n",
       "    </tr>\n",
       "    <tr>\n",
       "      <th>62130163</th>\n",
       "      <td>23594465</td>\n",
       "      <td>2012</td>\n",
       "      <td>8</td>\n",
       "      <td>10722.25</td>\n",
       "      <td>10722.25</td>\n",
       "      <td>PRI</td>\n",
       "      <td>1</td>\n",
       "      <td>1</td>\n",
       "      <td>6</td>\n",
       "      <td>11149.854545</td>\n",
       "      <td>0</td>\n",
       "      <td>2018-03-01</td>\n",
       "      <td>2013-04-01</td>\n",
       "      <td>16604.299</td>\n",
       "      <td>292.0</td>\n",
       "      <td>-1</td>\n",
       "    </tr>\n",
       "    <tr>\n",
       "      <th>62130164</th>\n",
       "      <td>23594465</td>\n",
       "      <td>2012</td>\n",
       "      <td>7</td>\n",
       "      <td>10722.25</td>\n",
       "      <td>10722.25</td>\n",
       "      <td>PRI</td>\n",
       "      <td>1</td>\n",
       "      <td>1</td>\n",
       "      <td>6</td>\n",
       "      <td>11149.854545</td>\n",
       "      <td>0</td>\n",
       "      <td>2018-03-01</td>\n",
       "      <td>2013-04-01</td>\n",
       "      <td>16604.299</td>\n",
       "      <td>292.0</td>\n",
       "      <td>-1</td>\n",
       "    </tr>\n",
       "    <tr>\n",
       "      <th>62130165</th>\n",
       "      <td>23594465</td>\n",
       "      <td>2012</td>\n",
       "      <td>6</td>\n",
       "      <td>13046.07</td>\n",
       "      <td>13046.07</td>\n",
       "      <td>PRI</td>\n",
       "      <td>1</td>\n",
       "      <td>1</td>\n",
       "      <td>6</td>\n",
       "      <td>11149.854545</td>\n",
       "      <td>0</td>\n",
       "      <td>2018-03-01</td>\n",
       "      <td>2013-04-01</td>\n",
       "      <td>16604.299</td>\n",
       "      <td>292.0</td>\n",
       "      <td>-1</td>\n",
       "    </tr>\n",
       "    <tr>\n",
       "      <th>62130166</th>\n",
       "      <td>23594465</td>\n",
       "      <td>2012</td>\n",
       "      <td>5</td>\n",
       "      <td>8482.60</td>\n",
       "      <td>8482.6</td>\n",
       "      <td>PRI</td>\n",
       "      <td>1</td>\n",
       "      <td>1</td>\n",
       "      <td>6</td>\n",
       "      <td>11149.854545</td>\n",
       "      <td>0</td>\n",
       "      <td>2018-03-01</td>\n",
       "      <td>2013-04-01</td>\n",
       "      <td>16604.299</td>\n",
       "      <td>292.0</td>\n",
       "      <td>-1</td>\n",
       "    </tr>\n",
       "  </tbody>\n",
       "</table>\n",
       "<p>62130167 rows × 16 columns</p>\n",
       "</div>"
      ],
      "text/plain": [
       "          CEDULA_COD  ANIO  MES   SALARIO SALARIO_SECTOR SECTOR_A  \\\n",
       "0                126  2010   12      8.06           8.06      PRI   \n",
       "1                126  2010   11    250.00          250.0      PRI   \n",
       "2                126  2010   10    250.00          250.0      PRI   \n",
       "3                126  2010    9    250.00          250.0      PRI   \n",
       "4                126  2010    8    250.00          250.0      PRI   \n",
       "...              ...   ...  ...       ...            ...      ...   \n",
       "62130162    23594465  2012    9  10528.81       10528.81      PRI   \n",
       "62130163    23594465  2012    8  10722.25       10722.25      PRI   \n",
       "62130164    23594465  2012    7  10722.25       10722.25      PRI   \n",
       "62130165    23594465  2012    6  13046.07       13046.07      PRI   \n",
       "62130166    23594465  2012    5   8482.60         8482.6      PRI   \n",
       "\n",
       "          NUM_SEC_MES %_NUM_SECTOR  GRUPO  SAL_PROM_GRUPO  GRUPO_SEL  \\\n",
       "0                   1            1      1      229.838333          1   \n",
       "1                   1            1      1      229.838333          1   \n",
       "2                   1            1      1      229.838333          1   \n",
       "3                   1            1      1      229.838333          1   \n",
       "4                   1            1      1      229.838333          1   \n",
       "...               ...          ...    ...             ...        ...   \n",
       "62130162            1            1      6    11149.854545          0   \n",
       "62130163            1            1      6    11149.854545          0   \n",
       "62130164            1            1      6    11149.854545          0   \n",
       "62130165            1            1      6    11149.854545          0   \n",
       "62130166            1            1      6    11149.854545          0   \n",
       "\n",
       "            INI_CAL    FIN_CAL   BASE_CAL    SBU  ID_SBU  \n",
       "0        2010-12-01 2006-01-01    210.635  240.0      -1  \n",
       "1        2010-12-01 2006-01-01    210.635  240.0      -1  \n",
       "2        2010-12-01 2006-01-01    210.635  240.0      -1  \n",
       "3        2010-12-01 2006-01-01    210.635  240.0      -1  \n",
       "4        2010-12-01 2006-01-01    210.635  240.0      -1  \n",
       "...             ...        ...        ...    ...     ...  \n",
       "62130162 2018-03-01 2013-04-01  16604.299  292.0      -1  \n",
       "62130163 2018-03-01 2013-04-01  16604.299  292.0      -1  \n",
       "62130164 2018-03-01 2013-04-01  16604.299  292.0      -1  \n",
       "62130165 2018-03-01 2013-04-01  16604.299  292.0      -1  \n",
       "62130166 2018-03-01 2013-04-01  16604.299  292.0      -1  \n",
       "\n",
       "[62130167 rows x 16 columns]"
      ]
     },
     "execution_count": 25,
     "metadata": {},
     "output_type": "execute_result"
    }
   ],
   "source": [
    "#Cédula que tienen su historia laboral igual al SBU\n",
    "afi_sel_g_all['ID_SBU'] = afi_sel_g_all['SALARIO'] == afi_sel_g_all['SBU']\n",
    "#Si tiene -1 es un valor que no es un SBU en ese año y mes\n",
    "afi_sel_g_all['ID_SBU'] = afi_sel_g_all['ID_SBU'].astype(int)-1\n",
    "afi_sel_g_all"
   ]
  },
  {
   "cell_type": "code",
   "execution_count": 26,
   "id": "fca249ce",
   "metadata": {},
   "outputs": [
    {
     "data": {
      "text/plain": [
       "0"
      ]
     },
     "execution_count": 26,
     "metadata": {},
     "output_type": "execute_result"
    }
   ],
   "source": [
    "#Verificar que todas las cédulas tengan 60 registros\n",
    "ced_counts2 = afi_sel_g_all.drop_duplicates(subset=['CEDULA_COD', 'ANIO', 'MES'])['CEDULA_COD'].value_counts()\n",
    "ced_counts2[ced_counts2 < 60].index.nunique()"
   ]
  },
  {
   "cell_type": "code",
   "execution_count": null,
   "id": "d0c9f210",
   "metadata": {
    "ExecuteTime": {
     "end_time": "2024-07-15T16:50:43.986668Z",
     "start_time": "2024-07-15T16:50:43.986668Z"
    }
   },
   "outputs": [],
   "source": [
    "afi_sel_g_all[afi_sel_g_all['CEDULA_COD']==126].shape"
   ]
  },
  {
   "cell_type": "code",
   "execution_count": null,
   "id": "be1b64fc",
   "metadata": {
    "ExecuteTime": {
     "end_time": "2024-07-15T16:50:43.987670Z",
     "start_time": "2024-07-15T16:50:43.987670Z"
    }
   },
   "outputs": [],
   "source": [
    "afi_sel_g_all[(afi_sel_g_all['CEDULA_COD']==126) & (afi_sel_g_all['GRUPO_SEL']==1)]"
   ]
  },
  {
   "cell_type": "code",
   "execution_count": 28,
   "id": "c0a09e4a",
   "metadata": {},
   "outputs": [],
   "source": [
    "# Nombre del archivo\n",
    "nombre_archivo = 'viu_clean_afi_sel_g_all_2.pkl'\n",
    "# Ruta completa del archivo\n",
    "ruta_archivo = os.path.join(directorio, nombre_archivo)\n",
    "# Objetos a guardar\n",
    "objeto5 = afi_sel_g_all\n",
    "\n",
    "# Guardar los objetos en el archivo\n",
    "with open(ruta_archivo, 'wb') as archivo:\n",
    "    pickle.dump(objeto5, archivo)          "
   ]
  },
  {
   "cell_type": "code",
   "execution_count": 29,
   "id": "8a54aec4",
   "metadata": {},
   "outputs": [
    {
     "data": {
      "text/html": [
       "<div>\n",
       "<style scoped>\n",
       "    .dataframe tbody tr th:only-of-type {\n",
       "        vertical-align: middle;\n",
       "    }\n",
       "\n",
       "    .dataframe tbody tr th {\n",
       "        vertical-align: top;\n",
       "    }\n",
       "\n",
       "    .dataframe thead th {\n",
       "        text-align: right;\n",
       "    }\n",
       "</style>\n",
       "<table border=\"1\" class=\"dataframe\">\n",
       "  <thead>\n",
       "    <tr style=\"text-align: right;\">\n",
       "      <th></th>\n",
       "      <th>CEDULA_COD</th>\n",
       "      <th>ANIO</th>\n",
       "      <th>MES</th>\n",
       "      <th>SALARIO</th>\n",
       "      <th>SALARIO_SECTOR</th>\n",
       "      <th>SECTOR_A</th>\n",
       "      <th>NUM_SEC_MES</th>\n",
       "      <th>%_NUM_SECTOR</th>\n",
       "      <th>GRUPO</th>\n",
       "      <th>SAL_PROM_GRUPO</th>\n",
       "      <th>GRUPO_SEL</th>\n",
       "      <th>INI_CAL</th>\n",
       "      <th>FIN_CAL</th>\n",
       "      <th>BASE_CAL</th>\n",
       "      <th>SBU</th>\n",
       "      <th>ID_SBU</th>\n",
       "    </tr>\n",
       "  </thead>\n",
       "  <tbody>\n",
       "    <tr>\n",
       "      <th>0</th>\n",
       "      <td>126</td>\n",
       "      <td>2010</td>\n",
       "      <td>12</td>\n",
       "      <td>8.06</td>\n",
       "      <td>8.06</td>\n",
       "      <td>PRI</td>\n",
       "      <td>1</td>\n",
       "      <td>1</td>\n",
       "      <td>1</td>\n",
       "      <td>229.838333</td>\n",
       "      <td>1</td>\n",
       "      <td>2010-12-01</td>\n",
       "      <td>2006-01-01</td>\n",
       "      <td>210.635</td>\n",
       "      <td>240.0</td>\n",
       "      <td>-1</td>\n",
       "    </tr>\n",
       "    <tr>\n",
       "      <th>1</th>\n",
       "      <td>126</td>\n",
       "      <td>2010</td>\n",
       "      <td>11</td>\n",
       "      <td>250.00</td>\n",
       "      <td>250.0</td>\n",
       "      <td>PRI</td>\n",
       "      <td>1</td>\n",
       "      <td>1</td>\n",
       "      <td>1</td>\n",
       "      <td>229.838333</td>\n",
       "      <td>1</td>\n",
       "      <td>2010-12-01</td>\n",
       "      <td>2006-01-01</td>\n",
       "      <td>210.635</td>\n",
       "      <td>240.0</td>\n",
       "      <td>-1</td>\n",
       "    </tr>\n",
       "    <tr>\n",
       "      <th>2</th>\n",
       "      <td>126</td>\n",
       "      <td>2010</td>\n",
       "      <td>10</td>\n",
       "      <td>250.00</td>\n",
       "      <td>250.0</td>\n",
       "      <td>PRI</td>\n",
       "      <td>1</td>\n",
       "      <td>1</td>\n",
       "      <td>1</td>\n",
       "      <td>229.838333</td>\n",
       "      <td>1</td>\n",
       "      <td>2010-12-01</td>\n",
       "      <td>2006-01-01</td>\n",
       "      <td>210.635</td>\n",
       "      <td>240.0</td>\n",
       "      <td>-1</td>\n",
       "    </tr>\n",
       "    <tr>\n",
       "      <th>3</th>\n",
       "      <td>126</td>\n",
       "      <td>2010</td>\n",
       "      <td>9</td>\n",
       "      <td>250.00</td>\n",
       "      <td>250.0</td>\n",
       "      <td>PRI</td>\n",
       "      <td>1</td>\n",
       "      <td>1</td>\n",
       "      <td>1</td>\n",
       "      <td>229.838333</td>\n",
       "      <td>1</td>\n",
       "      <td>2010-12-01</td>\n",
       "      <td>2006-01-01</td>\n",
       "      <td>210.635</td>\n",
       "      <td>240.0</td>\n",
       "      <td>-1</td>\n",
       "    </tr>\n",
       "    <tr>\n",
       "      <th>4</th>\n",
       "      <td>126</td>\n",
       "      <td>2010</td>\n",
       "      <td>8</td>\n",
       "      <td>250.00</td>\n",
       "      <td>250.0</td>\n",
       "      <td>PRI</td>\n",
       "      <td>1</td>\n",
       "      <td>1</td>\n",
       "      <td>1</td>\n",
       "      <td>229.838333</td>\n",
       "      <td>1</td>\n",
       "      <td>2010-12-01</td>\n",
       "      <td>2006-01-01</td>\n",
       "      <td>210.635</td>\n",
       "      <td>240.0</td>\n",
       "      <td>-1</td>\n",
       "    </tr>\n",
       "    <tr>\n",
       "      <th>...</th>\n",
       "      <td>...</td>\n",
       "      <td>...</td>\n",
       "      <td>...</td>\n",
       "      <td>...</td>\n",
       "      <td>...</td>\n",
       "      <td>...</td>\n",
       "      <td>...</td>\n",
       "      <td>...</td>\n",
       "      <td>...</td>\n",
       "      <td>...</td>\n",
       "      <td>...</td>\n",
       "      <td>...</td>\n",
       "      <td>...</td>\n",
       "      <td>...</td>\n",
       "      <td>...</td>\n",
       "      <td>...</td>\n",
       "    </tr>\n",
       "    <tr>\n",
       "      <th>62130162</th>\n",
       "      <td>23594465</td>\n",
       "      <td>2012</td>\n",
       "      <td>9</td>\n",
       "      <td>10528.81</td>\n",
       "      <td>10528.81</td>\n",
       "      <td>PRI</td>\n",
       "      <td>1</td>\n",
       "      <td>1</td>\n",
       "      <td>6</td>\n",
       "      <td>11149.854545</td>\n",
       "      <td>0</td>\n",
       "      <td>2018-03-01</td>\n",
       "      <td>2013-04-01</td>\n",
       "      <td>16604.299</td>\n",
       "      <td>292.0</td>\n",
       "      <td>-1</td>\n",
       "    </tr>\n",
       "    <tr>\n",
       "      <th>62130163</th>\n",
       "      <td>23594465</td>\n",
       "      <td>2012</td>\n",
       "      <td>8</td>\n",
       "      <td>10722.25</td>\n",
       "      <td>10722.25</td>\n",
       "      <td>PRI</td>\n",
       "      <td>1</td>\n",
       "      <td>1</td>\n",
       "      <td>6</td>\n",
       "      <td>11149.854545</td>\n",
       "      <td>0</td>\n",
       "      <td>2018-03-01</td>\n",
       "      <td>2013-04-01</td>\n",
       "      <td>16604.299</td>\n",
       "      <td>292.0</td>\n",
       "      <td>-1</td>\n",
       "    </tr>\n",
       "    <tr>\n",
       "      <th>62130164</th>\n",
       "      <td>23594465</td>\n",
       "      <td>2012</td>\n",
       "      <td>7</td>\n",
       "      <td>10722.25</td>\n",
       "      <td>10722.25</td>\n",
       "      <td>PRI</td>\n",
       "      <td>1</td>\n",
       "      <td>1</td>\n",
       "      <td>6</td>\n",
       "      <td>11149.854545</td>\n",
       "      <td>0</td>\n",
       "      <td>2018-03-01</td>\n",
       "      <td>2013-04-01</td>\n",
       "      <td>16604.299</td>\n",
       "      <td>292.0</td>\n",
       "      <td>-1</td>\n",
       "    </tr>\n",
       "    <tr>\n",
       "      <th>62130165</th>\n",
       "      <td>23594465</td>\n",
       "      <td>2012</td>\n",
       "      <td>6</td>\n",
       "      <td>13046.07</td>\n",
       "      <td>13046.07</td>\n",
       "      <td>PRI</td>\n",
       "      <td>1</td>\n",
       "      <td>1</td>\n",
       "      <td>6</td>\n",
       "      <td>11149.854545</td>\n",
       "      <td>0</td>\n",
       "      <td>2018-03-01</td>\n",
       "      <td>2013-04-01</td>\n",
       "      <td>16604.299</td>\n",
       "      <td>292.0</td>\n",
       "      <td>-1</td>\n",
       "    </tr>\n",
       "    <tr>\n",
       "      <th>62130166</th>\n",
       "      <td>23594465</td>\n",
       "      <td>2012</td>\n",
       "      <td>5</td>\n",
       "      <td>8482.60</td>\n",
       "      <td>8482.6</td>\n",
       "      <td>PRI</td>\n",
       "      <td>1</td>\n",
       "      <td>1</td>\n",
       "      <td>6</td>\n",
       "      <td>11149.854545</td>\n",
       "      <td>0</td>\n",
       "      <td>2018-03-01</td>\n",
       "      <td>2013-04-01</td>\n",
       "      <td>16604.299</td>\n",
       "      <td>292.0</td>\n",
       "      <td>-1</td>\n",
       "    </tr>\n",
       "  </tbody>\n",
       "</table>\n",
       "<p>62130167 rows × 16 columns</p>\n",
       "</div>"
      ],
      "text/plain": [
       "          CEDULA_COD  ANIO  MES   SALARIO SALARIO_SECTOR SECTOR_A  \\\n",
       "0                126  2010   12      8.06           8.06      PRI   \n",
       "1                126  2010   11    250.00          250.0      PRI   \n",
       "2                126  2010   10    250.00          250.0      PRI   \n",
       "3                126  2010    9    250.00          250.0      PRI   \n",
       "4                126  2010    8    250.00          250.0      PRI   \n",
       "...              ...   ...  ...       ...            ...      ...   \n",
       "62130162    23594465  2012    9  10528.81       10528.81      PRI   \n",
       "62130163    23594465  2012    8  10722.25       10722.25      PRI   \n",
       "62130164    23594465  2012    7  10722.25       10722.25      PRI   \n",
       "62130165    23594465  2012    6  13046.07       13046.07      PRI   \n",
       "62130166    23594465  2012    5   8482.60         8482.6      PRI   \n",
       "\n",
       "          NUM_SEC_MES %_NUM_SECTOR  GRUPO  SAL_PROM_GRUPO  GRUPO_SEL  \\\n",
       "0                   1            1      1      229.838333          1   \n",
       "1                   1            1      1      229.838333          1   \n",
       "2                   1            1      1      229.838333          1   \n",
       "3                   1            1      1      229.838333          1   \n",
       "4                   1            1      1      229.838333          1   \n",
       "...               ...          ...    ...             ...        ...   \n",
       "62130162            1            1      6    11149.854545          0   \n",
       "62130163            1            1      6    11149.854545          0   \n",
       "62130164            1            1      6    11149.854545          0   \n",
       "62130165            1            1      6    11149.854545          0   \n",
       "62130166            1            1      6    11149.854545          0   \n",
       "\n",
       "            INI_CAL    FIN_CAL   BASE_CAL    SBU  ID_SBU  \n",
       "0        2010-12-01 2006-01-01    210.635  240.0      -1  \n",
       "1        2010-12-01 2006-01-01    210.635  240.0      -1  \n",
       "2        2010-12-01 2006-01-01    210.635  240.0      -1  \n",
       "3        2010-12-01 2006-01-01    210.635  240.0      -1  \n",
       "4        2010-12-01 2006-01-01    210.635  240.0      -1  \n",
       "...             ...        ...        ...    ...     ...  \n",
       "62130162 2018-03-01 2013-04-01  16604.299  292.0      -1  \n",
       "62130163 2018-03-01 2013-04-01  16604.299  292.0      -1  \n",
       "62130164 2018-03-01 2013-04-01  16604.299  292.0      -1  \n",
       "62130165 2018-03-01 2013-04-01  16604.299  292.0      -1  \n",
       "62130166 2018-03-01 2013-04-01  16604.299  292.0      -1  \n",
       "\n",
       "[62130167 rows x 16 columns]"
      ]
     },
     "execution_count": 29,
     "metadata": {},
     "output_type": "execute_result"
    }
   ],
   "source": [
    "objeto5"
   ]
  },
  {
   "cell_type": "code",
   "execution_count": null,
   "id": "0ba21b68",
   "metadata": {},
   "outputs": [],
   "source": [
    "#Selección de cedulas con sus mejores años de sueldo y que su salario no sea un SBU\n",
    "data_sin_ati = afi_sel_g_all[ (afi_sel_g_all['GRUPO_SEL']==1) & (afi_sel_g_all['ID_SBU']!=-1)]\n",
    "data_ati = afi_sel_g_all[ (afi_sel_g_all['GRUPO_SEL']==1) & (afi_sel_g_all['ID_SBU']!=0)]"
   ]
  },
  {
   "cell_type": "code",
   "execution_count": null,
   "id": "0a14bf2d",
   "metadata": {},
   "outputs": [],
   "source": [
    "data_ati.shape #(21022610, 15)\n",
    "data_sin_ati.shape #(5449506, 15)"
   ]
  },
  {
   "cell_type": "code",
   "execution_count": null,
   "id": "1bcf53b0",
   "metadata": {},
   "outputs": [],
   "source": [
    "data_ati[data_ati['CEDULA_COD']==126][['CEDULA_COD','ANIO','MES','SALARIO']].shape"
   ]
  },
  {
   "cell_type": "code",
   "execution_count": null,
   "id": "faf69b4e",
   "metadata": {},
   "outputs": [],
   "source": [
    "data_ati[data_ati['CEDULA_COD']==126]"
   ]
  },
  {
   "cell_type": "code",
   "execution_count": null,
   "id": "e63dc2c2",
   "metadata": {},
   "outputs": [],
   "source": [
    "# Nombre del archivo\n",
    "nombre_archivo = 'viu_clean_data_ati.pkl'\n",
    "# Ruta completa del archivo\n",
    "ruta_archivo = os.path.join(directorio, nombre_archivo)\n",
    "# Objetos a guardar\n",
    "objeto6 = data_ati\n",
    "\n",
    "# Guardar los objetos en el archivo\n",
    "with open(ruta_archivo, 'wb') as archivo:\n",
    "    pickle.dump(objeto6, archivo)         \n",
    "\n",
    "# Nombre del archivo\n",
    "nombre_archivo = 'viu_clean_data_sin_ati.pkl'\n",
    "# Ruta completa del archivo\n",
    "ruta_archivo = os.path.join(directorio, nombre_archivo)\n",
    "# Objetos a guardar\n",
    "objeto7 = data_sin_ati\n",
    "\n",
    "# Guardar los objetos en el archivo\n",
    "with open(ruta_archivo, 'wb') as archivo:\n",
    "    pickle.dump(objeto7, archivo)     \n",
    "    \n",
    "del objeto6, objeto7"
   ]
  },
  {
   "cell_type": "code",
   "execution_count": null,
   "id": "a1526f38",
   "metadata": {
    "ExecuteTime": {
     "end_time": "2024-07-25T19:02:20.038021Z",
     "start_time": "2024-07-25T19:00:54.950382Z"
    }
   },
   "outputs": [],
   "source": [
    "#Cargar los archivos\n",
    "directorio = r_ruta\n",
    "nombre_archivo = 'viu_clean_afi_sel_g_all_2.pkl'\n",
    "ruta_archivo = os.path.join(directorio, nombre_archivo)\n",
    "\n",
    "with open( ruta_archivo, 'rb') as archivo:\n",
    "    data_l = pickle.load( archivo )     "
   ]
  },
  {
   "cell_type": "code",
   "execution_count": null,
   "id": "db0b424a",
   "metadata": {
    "ExecuteTime": {
     "end_time": "2024-07-25T19:02:20.048070Z",
     "start_time": "2024-07-25T19:02:20.040114Z"
    }
   },
   "outputs": [],
   "source": [
    "#Análisis de atípicos\n",
    "#Método de clustering jerárquico\n",
    "data_l.shape #(62130167, 15)"
   ]
  },
  {
   "cell_type": "code",
   "execution_count": null,
   "id": "a6177b78",
   "metadata": {
    "ExecuteTime": {
     "end_time": "2024-07-25T19:03:08.916976Z",
     "start_time": "2024-07-25T19:02:20.050083Z"
    }
   },
   "outputs": [],
   "source": [
    "inicio = time.time()\n",
    "data_l = data_l.sort_values( by=[\"CEDULA_COD\",\"ANIO\", \"MES\"], ascending=[ True, True, True] )\n",
    "data_l.reset_index(inplace=True)\n",
    "data_l.rename(columns={'index': 'nuevo_indice'}, inplace=True)\n",
    "data_l.drop(columns=['nuevo_indice'], inplace=True)\n",
    "data_l['INDICE'] = data_l.index\n",
    "\n",
    "#Casos de no análisis\n",
    "data_no_grupo = data_l[ (data_l['GRUPO_SEL']==0) ].copy()\n",
    "data_no_grupo['ATI_CJ_M1'] = np.nan\n",
    "data_no_grupo['ATI_CJ_M2'] = np.nan\n",
    "data_no_grupo['ATI_CJ_M3'] = np.nan\n",
    "\n",
    "#Casos de análisis\n",
    "data = data_l[ (data_l['GRUPO_SEL']==1) ].copy()\n",
    "\n",
    "fin = time.time()  \n",
    "print('Tiempo de ejecución es: ',  (fin-inicio)//3600, ' horas con ' ,  (fin-inicio)%3600//60 , ' minutos y', (fin-inicio)%60, ' segundos' )\n"
   ]
  },
  {
   "cell_type": "code",
   "execution_count": null,
   "id": "7baa127e",
   "metadata": {
    "ExecuteTime": {
     "end_time": "2024-07-25T20:49:10.375088Z",
     "start_time": "2024-07-25T20:49:10.357656Z"
    }
   },
   "outputs": [],
   "source": [
    "#Para ejecutar el cluster jerarquico\n",
    "def cluster_jerarquico( data_si_dic, k):\n",
    "    inicio = time.time()\n",
    "    nom = 'ATI_CJ_M' + str( k+1 )\n",
    "    data_val_ati = {}\n",
    "    for cedula in data_si_dic:\n",
    "\n",
    "        if( len( data_si_dic[ cedula ]['SALARIO'] ) > 1 ): #Para formar al menos un cluster\n",
    "\n",
    "            aux = np.array( data_si_dic[ cedula ]['SALARIO'] ).reshape(-1, 1)\n",
    "            Z = linkage( aux , method='single', metric='euclidean')\n",
    "\n",
    "            num_clusters = 2  # Puedes ajustar este valor según tus necesidades\n",
    "            clusters = fcluster(Z, num_clusters, criterion='maxclust')\n",
    "\n",
    "            if( len( np.unique(clusters) ) > 1 ): #Para considerar al menos 2 cluster\n",
    "                # Calcular el centroide de cada clúster\n",
    "                cluster_centers = np.array([[ np.nanmean(aux[clusters == i], axis=0)[0], i ] for i in range(1, num_clusters + 1)] ) \n",
    "\n",
    "                Q1 = np.quantile(aux, 0.25)\n",
    "                Q3 = np.quantile(aux, 0.75)\n",
    "                IQR = Q3-Q1\n",
    "                LI = Q1 - 1.5 * IQR\n",
    "                LS = Q3 + 1.5 * IQR\n",
    "\n",
    "                cl_at = np.where( cluster_centers[:,0] > (LS +  1e-8) )[0]\n",
    "                cluster_centers[cl_at][:, 1]\n",
    "\n",
    "                mod_aux = np.zeros((len(aux), 2))\n",
    "                mod_aux[:, 0] = aux[:, 0]  # Copiar los valores originales de aux en la primera columna\n",
    "                mod_aux[np.isin(clusters, cluster_centers[cl_at][:, 1]), 1] = 1  # Asignar 1 en la segunda columna donde el cluster es 1\n",
    "\n",
    "                data_val_ati[cedula] = {'SALARIO': mod_aux[:, 0].tolist(),\n",
    "                                             nom : mod_aux[:, 1].tolist(),\n",
    "                                        'INDICE' : data_si_dic[ cedula ]['INDICE']}\n",
    "            else:\n",
    "                data_val_ati[cedula] = { 'SALARIO': aux.flatten().tolist(),\n",
    "                                               nom:  [-1] * len(aux),\n",
    "                                         'INDICE' : data_si_dic[ cedula ]['INDICE']} \n",
    "\n",
    "        else:\n",
    "            data_val_ati[cedula] = { 'SALARIO': data_si_dic[ cedula ]['SALARIO'],\n",
    "                                           nom:  [-2] * len( data_si_dic[ cedula ]['SALARIO'] ),\n",
    "                                     'INDICE' : data_si_dic[ cedula ]['INDICE']}\n",
    "    fin = time.time()  \n",
    "    print('\\tTiempo de ejecución es: ',  (fin-inicio)//3600, ' horas con ' ,  (fin-inicio)%3600//60 , ' minutos y', (fin-inicio)%60, ' segundos' )\n",
    "    \n",
    "    return data_val_ati\n",
    " \n",
    "#Para unir los resultados\n",
    "def extend_data( data_val_ati, k ):\n",
    "    inicio = time.time()\n",
    "    nom = 'ATI_CJ_M' + str( k + 1 )\n",
    "    data1 = { 'CEDULA_COD': [], 'SALARIO': [], nom : [], 'INDICE':[]}\n",
    "\n",
    "    # Llenar las listas con los datos del diccionario\n",
    "    for cedula, values in data_val_ati.items():\n",
    "        salario = values['SALARIO']\n",
    "        atipico = values[ nom ]\n",
    "        indice = values['INDICE']\n",
    "        num_rows = len(salario)\n",
    "\n",
    "        # Extender las listas en el diccionario de datos\n",
    "        data1['CEDULA_COD'].extend([cedula] * num_rows)\n",
    "        data1['SALARIO'].extend(salario)\n",
    "        data1[ nom ].extend(atipico)\n",
    "        data1['INDICE'].extend(indice)\n",
    "\n",
    "    fin = time.time()  \n",
    "    print('\\tTiempo de ejecución es: ',  (fin-inicio)//3600, ' horas con ' ,  (fin-inicio)%3600//60 , ' minutos y', (fin-inicio)%60, ' segundos' )\n",
    "    return data1\n",
    "\n",
    "#Para graficar el comportamiento de los atipicos\n",
    "def graf_ati(ced, k):\n",
    "    nom = 'ATI_CJ_M'+ str(k)\n",
    "    dt = data_l[(data_l['GRUPO_SEL']==1) & (data_l['CEDULA_COD']==ced)]\n",
    "    unique_ati = dt[ nom ].nunique(dropna=False)\n",
    "    categories = dt[ nom ].unique()\n",
    "\n",
    "    # Generar una lista de colores discretos\n",
    "    colors = plt.cm.coolwarm(np.linspace(0, 1, unique_ati))\n",
    "\n",
    "    # Crear un mapa de colores discreto\n",
    "    cmap = ListedColormap(colors)\n",
    "\n",
    "    # Graficar\n",
    "    plt.figure(figsize=(8, 5))\n",
    "    scatter = plt.scatter(dt.index, dt['SALARIO'], c=dt[ nom ], cmap=cmap)\n",
    "\n",
    "    plt.xlabel('Index')\n",
    "    plt.ylabel('Salario')\n",
    "    plt.title('Gráfico de Salario')\n",
    "\n",
    "    # Crear una leyenda discreta personalizada\n",
    "    # Definir las etiquetas para cada categoría\n",
    "    labels = { 0: 'No es atípico', 1: 'Es atípico', -1: 'Es un solo clúter', -2:'No forma parte del proceso',\n",
    "               np.nan: 'Valor NA'}\n",
    "\n",
    "    # Crear los handles para la leyenda\n",
    "    handles = [plt.Line2D([0], [0], marker='o', color='w', \n",
    "                          markersize=10, markerfacecolor=cmap(i), \n",
    "                          label=labels[i]) for i in categories]\n",
    "\n",
    "    plt.legend(handles=handles, title='Tipo de Salario')\n",
    "    plt.show()"
   ]
  },
  {
   "cell_type": "code",
   "execution_count": null,
   "id": "21fce47c",
   "metadata": {
    "ExecuteTime": {
     "end_time": "2024-07-25T20:45:29.331279Z",
     "start_time": "2024-07-25T20:45:29.040611Z"
    }
   },
   "outputs": [],
   "source": [
    "data[ ~(( data['SALARIO'] >= data['SBU'] ) & ( data['ANIO'] >= 2000 )) ]"
   ]
  },
  {
   "cell_type": "code",
   "execution_count": null,
   "id": "54c0c1e4",
   "metadata": {
    "ExecuteTime": {
     "end_time": "2024-07-25T19:21:54.907233Z",
     "start_time": "2024-07-25T19:03:19.095243Z"
    }
   },
   "outputs": [],
   "source": [
    "#Se crea un bucle para cada caso\n",
    "for k in range(0,3):\n",
    "    nom = 'ATI_CJ_M' + str( k+1 )\n",
    "    if (k==0):\n",
    "        ##Primer Caso--Considerando solo los salarios mayores al SBU y desde el año 2000\n",
    "        print('*' * 50, 'Caso ', str( k+1 ), '*' * 50)\n",
    "        data_si = data[   (( data['SALARIO'] >= data['SBU'] ) & ( data['ANIO'] >= 2000 )) ].copy() \n",
    "        data_no = data[ ~(( data['SALARIO'] >= data['SBU'] ) & ( data['ANIO'] >= 2000 )) ].copy() \n",
    "        data_no[ nom ] = np.nan\n",
    "        print('Tamaño de la data utilizada dentro de los años seleccionados', data_si.shape) #(26006294, 16)\n",
    "        print('Tamaño de la data no utilizada dentro de los años seleccionados',data_no.shape)  #(465822, 16)\n",
    "        \n",
    "        data_si_dic = data_si.groupby('CEDULA_COD').agg({'SALARIO': list, 'INDICE': list}).to_dict(orient='index')\n",
    "        data_no_dic = data_no.groupby('CEDULA_COD').agg({'SALARIO': list, 'INDICE': list}).to_dict(orient='index')\n",
    "        \n",
    "        print('Algoritmo Cluster Jerárquico')\n",
    "        data_val_ati = cluster_jerarquico( data_si_dic, k )\n",
    "        print('Extensión del diccionario')\n",
    "        data1 = extend_data( data_val_ati, k )\n",
    "        \n",
    "        print('Concatenación de dataframe')\n",
    "        inicio = time.time()\n",
    "        data_jerar = None\n",
    "        data_jerar = pd.concat( [ data_no_grupo[['CEDULA_COD', 'SALARIO',  nom , 'INDICE']],\n",
    "                                  pd.DataFrame( data1 ), \n",
    "                                  data_no[['CEDULA_COD', 'SALARIO',  nom , 'INDICE']] ], axis=0)\n",
    "    \n",
    "        data_jerar = data_jerar.sort_values( by=[\"INDICE\"], ascending=[ True ] )\n",
    "        data_jerar.reset_index(inplace=True)\n",
    "        data_jerar.rename(columns={'index': 'nuevo_indice'}, inplace=True)\n",
    "        data_jerar.drop(columns=['nuevo_indice'], inplace=True)\n",
    "        fin = time.time()  \n",
    "        print('\\tTiempo de ejecución es: ',  (fin-inicio)//3600, ' horas con ' ,  (fin-inicio)%3600//60 , ' minutos y', (fin-inicio)%60, ' segundos' )\n",
    "        \n",
    "        print('Creación de la columna')\n",
    "        inicio = time.time()\n",
    "        data_l[ nom ] = np.nan\n",
    "        aux = data_jerar[ nom ].to_numpy()\n",
    "        data_l.iloc[:, data_l.columns.get_loc( nom )] = aux\n",
    "        fin = time.time()  \n",
    "        print('\\tTiempo de ejecución es: ',  (fin-inicio)//3600, ' horas con ' ,  (fin-inicio)%3600//60 , ' minutos y', (fin-inicio)%60, ' segundos' )\n",
    "        \n",
    "        print('Verificación de posibles errores')\n",
    "        inicio = time.time()\n",
    "        dif1 = data_l[data_l['SALARIO']!= data_jerar['SALARIO']].index\n",
    "        fin = time.time()  \n",
    "        print('\\tTiempo de ejecución es: ',  (fin-inicio)//3600, ' horas con ' ,  (fin-inicio)%3600//60 , ' minutos y', (fin-inicio)%60, ' segundos' )\n",
    "        print('*' * 108, '\\n')  \n",
    "        \n",
    "    if (k==1):\n",
    "        ##Segundo Caso--Considerando todo el registro de los mejores años\n",
    "        print('*' * 50, 'Caso ', str( k+1 ), '*' * 50)\n",
    "        data_si = data.copy()\n",
    "        print('Tamaño de la data utilizada dentro de los años seleccionados', data_si.shape) \n",
    "        \n",
    "        data_si_dic = data_si.groupby('CEDULA_COD').agg({'SALARIO': list, 'INDICE': list}).to_dict(orient='index')\n",
    "        \n",
    "        print('Algoritmo Cluster Jerárquico')\n",
    "        data_val_ati = cluster_jerarquico( data_si_dic, k )\n",
    "        print('Extensión del diccionario')\n",
    "        data1 = extend_data( data_val_ati, k )\n",
    "        \n",
    "        print('Concatenación de dataframe')\n",
    "        inicio = time.time()\n",
    "        data_jerar = None\n",
    "        data_jerar = pd.concat( [ data_no_grupo[['CEDULA_COD', 'SALARIO', nom, 'INDICE']],\n",
    "                                  pd.DataFrame( data1 ) ], axis=0)\n",
    "    \n",
    "        data_jerar = data_jerar.sort_values( by=[\"INDICE\"], ascending=[ True ] )\n",
    "        data_jerar.reset_index(inplace=True)\n",
    "        data_jerar.rename(columns={'index': 'nuevo_indice'}, inplace=True)\n",
    "        data_jerar.drop(columns=['nuevo_indice'], inplace=True)\n",
    "        fin = time.time()  \n",
    "        print('\\tTiempo de ejecución es: ',  (fin-inicio)//3600, ' horas con ' ,  (fin-inicio)%3600//60 , ' minutos y', (fin-inicio)%60, ' segundos' )\n",
    "        \n",
    "        print('Creación de la columna')\n",
    "        inicio = time.time()\n",
    "        data_l[ nom ] = np.nan\n",
    "        aux = data_jerar[ nom ].to_numpy()\n",
    "        data_l.iloc[:, data_l.columns.get_loc( nom ) ] = aux\n",
    "        fin = time.time()  \n",
    "        print('\\tTiempo de ejecución es: ',  (fin-inicio)//3600, ' horas con ' ,  (fin-inicio)%3600//60 , ' minutos y', (fin-inicio)%60, ' segundos' )\n",
    "        \n",
    "        print('Verificación de posibles errores')\n",
    "        inicio = time.time()\n",
    "        dif2 = data_l[data_l['SALARIO']!= data_jerar['SALARIO']].index\n",
    "        fin = time.time()  \n",
    "        print('\\tTiempo de ejecución es: ',  (fin-inicio)//3600, ' horas con ' ,  (fin-inicio)%3600//60 , ' minutos y', (fin-inicio)%60, ' segundos' )\n",
    "        print('*' * 108, '\\n')\n",
    "        \n",
    "    if (k==2):\n",
    "        ##Tercer Caso--Considerando todo el registro de los mejores años, pero a partir del año 2000\n",
    "        print('*' * 50, 'Caso ', str( k+1 ), '*' * 50)\n",
    "        data_si = data[  ( ( data['ANIO'] >= 2000 )) ].copy()\n",
    "        data_no = data[ ~( ( data['ANIO'] >= 2000 )) ].copy()   \n",
    "        data_no[ nom ] = np.nan\n",
    "        print('Tamaño de la data utilizada dentro de los años seleccionados', data_si.shape) \n",
    "        print('Tamaño de la data no utilizada dentro de los años seleccionados',data_no.shape) \n",
    "        \n",
    "        data_si_dic = data_si.groupby('CEDULA_COD').agg({'SALARIO': list, 'INDICE': list}).to_dict(orient='index')\n",
    "        data_no_dic = data_no.groupby('CEDULA_COD').agg({'SALARIO': list, 'INDICE': list}).to_dict(orient='index')\n",
    "        \n",
    "        print('Algoritmo Cluster Jerárquico')\n",
    "        data_val_ati = cluster_jerarquico( data_si_dic, k )\n",
    "        print('Extensión del diccionario')\n",
    "        data1 = extend_data( data_val_ati, k )\n",
    "        \n",
    "        print('Concatenación de dataframe')\n",
    "        inicio = time.time()\n",
    "        data_jerar = None\n",
    "        data_jerar = pd.concat( [ data_no_grupo[['CEDULA_COD', 'SALARIO', nom, 'INDICE']],\n",
    "                                  pd.DataFrame( data1 ), \n",
    "                                  data_no[['CEDULA_COD', 'SALARIO', nom, 'INDICE']] ], axis=0)\n",
    "    \n",
    "        data_jerar = data_jerar.sort_values( by=[\"INDICE\"], ascending=[ True ] )\n",
    "        data_jerar.reset_index(inplace=True)\n",
    "        data_jerar.rename(columns={'index': 'nuevo_indice'}, inplace=True)\n",
    "        data_jerar.drop(columns=['nuevo_indice'], inplace=True)\n",
    "        fin = time.time()  \n",
    "        print('\\tTiempo de ejecución es: ',  (fin-inicio)//3600, ' horas con ' ,  (fin-inicio)%3600//60 , ' minutos y', (fin-inicio)%60, ' segundos' )\n",
    "        \n",
    "        print('Creación de la columna')\n",
    "        inicio = time.time()\n",
    "        data_l[ nom ] = np.nan\n",
    "        aux = data_jerar[ nom ].to_numpy()\n",
    "        data_l.iloc[:, data_l.columns.get_loc( nom )] = aux\n",
    "        fin = time.time()  \n",
    "        print('\\tTiempo de ejecución es: ',  (fin-inicio)//3600, ' horas con ' ,  (fin-inicio)%3600//60 , ' minutos y', (fin-inicio)%60, ' segundos' )\n",
    "        \n",
    "        print('Verificación de posibles errores')\n",
    "        inicio = time.time()\n",
    "        dif3 = data_l[data_l['SALARIO']!= data_jerar['SALARIO']].index\n",
    "        fin = time.time()  \n",
    "        print('\\tTiempo de ejecución es: ',  (fin-inicio)//3600, ' horas con ' ,  (fin-inicio)%3600//60 , ' minutos y', (fin-inicio)%60, ' segundos' )\n",
    "        print('*' * 108, '\\n')\n",
    "\n",
    "\n",
    "\n",
    "        "
   ]
  },
  {
   "cell_type": "code",
   "execution_count": null,
   "id": "2a68ccfc",
   "metadata": {
    "ExecuteTime": {
     "end_time": "2024-07-25T16:51:13.598217Z",
     "start_time": "2024-07-25T16:50:59.228662Z"
    }
   },
   "outputs": [],
   "source": [
    "del data, data_jerar, data1, aux, data_si, data_no, data_no_grupo, data_val_ati\n",
    "gc.collect()"
   ]
  },
  {
   "cell_type": "code",
   "execution_count": null,
   "id": "996ae463",
   "metadata": {
    "ExecuteTime": {
     "end_time": "2024-07-25T19:59:59.289302Z",
     "start_time": "2024-07-25T19:22:09.489799Z"
    }
   },
   "outputs": [],
   "source": [
    "#Se calculan los limítes máximos de aportación en función de la HL\n",
    "##Primer Caso -- Para toda la historia laboral\n",
    "grupo1 = data_l.copy()\n",
    "Q1 = grupo1.groupby('CEDULA_COD')['SALARIO'].quantile(0.25)\n",
    "Q3 = grupo1.groupby('CEDULA_COD')['SALARIO'].quantile(0.75)\n",
    "IQR = Q3-Q1\n",
    "LI = Q1 - 1.5 * IQR\n",
    "LS = Q3 + 1.5 * IQR\n",
    "data_l['LS1'] = data_l['CEDULA_COD'].map( LS )\n",
    "##Segundo Caso --Para la historia laboral a partir del año 2020\n",
    "grupo2 = data_l[data_l['ANIO']>=2000].copy()\n",
    "Q1 = grupo2.groupby('CEDULA_COD')['SALARIO'].quantile(0.25)\n",
    "Q3 = grupo2.groupby('CEDULA_COD')['SALARIO'].quantile(0.75)\n",
    "IQR = Q3-Q1\n",
    "LI = Q1 - 1.5 * IQR\n",
    "LS = Q3 + 1.5 * IQR\n",
    "data_l['LS2'] = data_l['CEDULA_COD'].map( LS )"
   ]
  },
  {
   "cell_type": "code",
   "execution_count": null,
   "id": "526778c8",
   "metadata": {
    "ExecuteTime": {
     "end_time": "2024-07-25T21:29:49.388343Z",
     "start_time": "2024-07-25T21:29:49.231131Z"
    }
   },
   "outputs": [],
   "source": [
    "#El valor de NA implica que esos datos no son parte de data_si, por lo que no se analizaron\n",
    "#El valor de -1 implica que se formó un solo cluster\n",
    "#El valor de -2 implica que en la selección de datos (data_si), la cedula solo tenía un único valor para formar los cluster\n",
    "# pues era el resultado de filtrar el data_si\n",
    "\n",
    "##Se analiza el caso de los valores de atipicos del método 1\n",
    "# data_l[ ( data_l['GRUPO_SEL']==1 )]['ATI_CJ_M1'].unique() #array([ 0., nan,  1., -1., -2.])\n",
    "# data_l[ ( data_l['GRUPO_SEL']==1 ) & (data_l['ATI_CJ_M1']==-2)] #86 rows × 21 columns\n",
    "# data_l[ ( data_l['GRUPO_SEL']==1 ) & (data_l['ATI_CJ_M1'].isna())]  #465822 rows × 21 columns\n",
    "# data_l[ ( data_l['GRUPO_SEL']==1 ) & (data_l['ATI_CJ_M1']==-1)]  # 3292785 rows × 21 columns\n",
    "\n",
    "##Se analiza el caso de los valores de atipicos del método 2\n",
    "# data_l[ ( data_l['GRUPO_SEL']==1 )]['ATI_CJ_M2'].unique() #rray([ 0.,  1., -1.])\n",
    "# ata_l[ ( data_l['GRUPO_SEL']==1 ) & (data_l['ATI_CJ_M2']==-1)]  #3125765 rows × 21 columns\n",
    "\n",
    "##Se analiza el caso de los valores de atipicos del método 3\n",
    "# data_l[ ( data_l['GRUPO_SEL']==1 )]['ATI_CJ_M3'].unique() #array([ 0.,  1., -1., nan, -2.])\n",
    "# data_l[ ( data_l['GRUPO_SEL']==1 ) & (data_l['ATI_CJ_M3']==-2)] #2 rows × 21 columns\n",
    "# data_l[ ( data_l['GRUPO_SEL']==1 ) & (data_l['ATI_CJ_M3'].isna())]  # 7454 rows × 21 columns\n",
    "data_l[ ( data_l['GRUPO_SEL']==1 ) & (data_l['ATI_CJ_M3']==-1)] #3125140 rows × 21 columns"
   ]
  },
  {
   "cell_type": "code",
   "execution_count": null,
   "id": "8e954366",
   "metadata": {
    "ExecuteTime": {
     "end_time": "2024-07-25T21:45:18.282658Z",
     "start_time": "2024-07-25T21:45:16.613882Z"
    }
   },
   "outputs": [],
   "source": [
    "#Cedulas que tiene datos atípicos----------------------------------------------------------------------------------------------\n",
    "print('*' * 50, 'Caso ', str( 1 ), '*' * 50)\n",
    "print('\\tCedulas con al menos un atípico:', data_l[ (data_l['GRUPO_SEL']==1) & (data_l['ATI_CJ_M1']==1)]['CEDULA_COD'].nunique()) #134017\n",
    "print('\\tCedulas con valor -2:', data_l[ (data_l['GRUPO_SEL']==1) & (data_l['ATI_CJ_M1']==-2)]['CEDULA_COD'].nunique()) #86\n",
    "print('\\tCedulas con valor nan:', data_l[ (data_l['GRUPO_SEL']==1) & (data_l['ATI_CJ_M1'].isna())]['CEDULA_COD'].nunique()) #85804\n",
    "print('\\tCedulas con valor -1:', data_l[ (data_l['GRUPO_SEL']==1) & (data_l['ATI_CJ_M1']==-1)]['CEDULA_COD'].nunique()) #55669\n",
    "print('\\tCedulas con valor 0:',  data_l[ (data_l['GRUPO_SEL']==1) & (data_l['ATI_CJ_M1']==0)]['CEDULA_COD'].nunique()) #379216\n",
    "print('*' * 50, 'Caso ', str( 2 ), '*' * 50)\n",
    "print('\\tCedulas con al menos un atípico:', data_l[ (data_l['GRUPO_SEL']==1) & (data_l['ATI_CJ_M2']==1)]['CEDULA_COD'].nunique()) #123850\n",
    "print('\\tCedulas con valor -2:', data_l[ (data_l['GRUPO_SEL']==1) & (data_l['ATI_CJ_M2']==-2)]['CEDULA_COD'].nunique()) #0\n",
    "print('\\tCedulas con valor nan:', data_l[ (data_l['GRUPO_SEL']==1) & (data_l['ATI_CJ_M2'].isna())]['CEDULA_COD'].nunique()) #0\n",
    "print('\\tCedulas con valor -1:', data_l[ (data_l['GRUPO_SEL']==1) & (data_l['ATI_CJ_M2']==-1)]['CEDULA_COD'].nunique()) #52121\n",
    "print('\\tCedulas con valor 0:',  data_l[ (data_l['GRUPO_SEL']==1) & (data_l['ATI_CJ_M2']==0)]['CEDULA_COD'].nunique()) #383682\n",
    "print('*' * 50, 'Caso ', str( 3 ), '*' * 50)\n",
    "print('\\tCedulas con al menos un atípico:', data_l[ (data_l['GRUPO_SEL']==1) & (data_l['ATI_CJ_M3']==1)]['CEDULA_COD'].nunique()) #123826\n",
    "print('\\tCedulas con valor -2:', data_l[ (data_l['GRUPO_SEL']==1) & (data_l['ATI_CJ_M3']==-2)]['CEDULA_COD'].nunique()) #2\n",
    "print('\\tCedulas con valor nan:', data_l[ (data_l['GRUPO_SEL']==1) & (data_l['ATI_CJ_M3'].isna())]['CEDULA_COD'].nunique()) #499\n",
    "print('\\tCedulas con valor -1:', data_l[ (data_l['GRUPO_SEL']==1) & (data_l['ATI_CJ_M3']==-1)]['CEDULA_COD'].nunique()) # 52124\n",
    "print('\\tCedulas con valor 0:',  data_l[ (data_l['GRUPO_SEL']==1) & (data_l['ATI_CJ_M3']==0)]['CEDULA_COD'].nunique()) #383653\n",
    "print('*' * 50, 'Caso ', str( 1 ), '*' * 50)"
   ]
  },
  {
   "cell_type": "code",
   "execution_count": null,
   "id": "91c660c0",
   "metadata": {
    "ExecuteTime": {
     "end_time": "2024-07-25T21:38:53.498456Z",
     "start_time": "2024-07-25T21:38:53.139066Z"
    }
   },
   "outputs": [],
   "source": [
    "graf_ati(23075971, 1)"
   ]
  },
  {
   "cell_type": "code",
   "execution_count": null,
   "id": "4b28217e",
   "metadata": {
    "ExecuteTime": {
     "end_time": "2024-07-25T21:16:44.105401Z",
     "start_time": "2024-07-25T21:16:40.435608Z"
    }
   },
   "outputs": [],
   "source": [
    "#Caso 1- Correcciones---------------------------------------------------------------------------------------------------\n",
    "#Se corrige en función deL Límite máximo de la HL a apartir del año 2000, pues es la fecha en la que entra en dolar a ecuador ( -2 -> 1 )\n",
    "data_l.loc[ ( (data_l['GRUPO_SEL']==1) & (data_l['ATI_CJ_M1']==-2) & (data_l['SALARIO'] > data_l['LS2']) ), 'ATI_CJ_M1'] = 1 #quedan 45 casos\n",
    "#Se corrige en función del valores menoRes al limite máximo la HL a apartir del año 2000, pues es la fecha en la que entra en dolar a ecuador ( -2 -> 0 )\n",
    "data_l.loc[ ( (data_l['GRUPO_SEL']==1) & (data_l['ATI_CJ_M1']==-2) & (data_l['SALARIO'] <= data_l['LS2']) ), 'ATI_CJ_M1'] = 0 \n",
    "# Se hacen las correcciones para los valores -2, en donde si el Salario es menor o igual a un SBU no es atípico( -2 -> 0 )\n",
    "data_l.loc[ ( (data_l['GRUPO_SEL']==1) & (data_l['ATI_CJ_M1']==-2) & (data_l['SALARIO'] <= data_l['SBU']) ), 'ATI_CJ_M1'] = 0 \n",
    "\n",
    "#Se corrige en función deL Límite máximo de toda la HL, pues si no hay datos del SBU para atrás ( NA -> 1 )\n",
    "data_l.loc[ ( (data_l['GRUPO_SEL']==1) & (data_l['ATI_CJ_M1'].isna()) & (data_l['SALARIO'] > data_l['LS1']) ), 'ATI_CJ_M1'] = 1  #quedan 463235 casos\n",
    "#Se corrige en función del valores menoRes al limite máximo la HL, pues si no hay datos del SBU para atrás ( NA -> 0 )\n",
    "data_l.loc[ ( (data_l['GRUPO_SEL']==1) & (data_l['ATI_CJ_M1'].isna()) & (data_l['SALARIO'] <= data_l['LS1']) ), 'ATI_CJ_M1'] = 0  #\n",
    "#Se hacen las correcciones para los valores NA, en donde si el Salario es menor o igual a un SBU no es atípico( NA -> 0 )\n",
    "data_l.loc[ ( (data_l['GRUPO_SEL']==1) & (data_l['ATI_CJ_M1'].isna()) & (data_l['SALARIO'] <= data_l['SBU']) ), 'ATI_CJ_M1'] = 0  \n",
    "\n",
    "#Se hacen las correcciones para los valores -1, en donde si el Salario es mayor a LS1 es atípico( -1 -> 1 )\n",
    "data_l.loc[ ( (data_l['GRUPO_SEL']==1) & (data_l['ATI_CJ_M1']==-1) & (data_l['SALARIO'] > data_l['LS1']) ), 'ATI_CJ_M1'] = 1 #quedan 3267088\n",
    "#Se hacen las correcciones para los valores -1, en donde si el Salario es menor o igual a LS1 no es atípico( -1 -> 0 )\n",
    "data_l.loc[ ( (data_l['GRUPO_SEL']==1) & (data_l['ATI_CJ_M1']==-1) & (data_l['SALARIO'] <= data_l['LS1']) ), 'ATI_CJ_M1'] = 0 #q \n",
    "#Se hacen las correcciones para los valores -1, en donde si el Salario es menor o igual a un SBU no es atípico( -1 -> 0 )\n",
    "data_l.loc[ ( (data_l['GRUPO_SEL']==1) & (data_l['ATI_CJ_M1']==-1) & (data_l['SALARIO'] <= data_l['SBU']) ), 'ATI_CJ_M1'] = 0 #\n",
    "\n",
    "#Se hacen las correcciones para los valores 1, en donde si el Salario es menor o igual al SBU no es atípico( 1 -> 0 )\n",
    "data_l.loc[ ( (data_l['GRUPO_SEL']==1) & (data_l['ATI_CJ_M1']==1) & (data_l['SALARIO'] <= data_l['SBU']) ), 'ATI_CJ_M1'] = 0"
   ]
  },
  {
   "cell_type": "code",
   "execution_count": null,
   "id": "3540288f",
   "metadata": {
    "ExecuteTime": {
     "end_time": "2024-07-25T21:22:55.507498Z",
     "start_time": "2024-07-25T21:22:54.407972Z"
    }
   },
   "outputs": [],
   "source": [
    "#Caso 2 - Correcciones---------------------------------------------------------------------------------------------------\n",
    "#No existen valores igual a NA e igual a -2\n",
    "#Se hacen las correcciones para los valores -1, en donde si el Salario es mayor a LS1 es atípico( -1 -> 1 )\n",
    "data_l.loc[ ( (data_l['GRUPO_SEL']==1) & (data_l['ATI_CJ_M2']==-1) & (data_l['SALARIO'] > data_l['LS1']) ), 'ATI_CJ_M2'] = 1 # quedan 3104185\n",
    "#Se hacen las correcciones para los valores -1, en donde si el Salario es menor o igual a LS1 no es atípico( -1 -> 0 )\n",
    "data_l.loc[ ( (data_l['GRUPO_SEL']==1) & (data_l['ATI_CJ_M2']==-1) & (data_l['SALARIO'] <= data_l['LS1']) ), 'ATI_CJ_M2'] = 0\n",
    "#Se hacen las correcciones para los valores -1, en donde si el Salario es menor o igual a un SBU no es atípico( -1 -> 0 )\n",
    "data_l.loc[ ( (data_l['GRUPO_SEL']==1) & (data_l['ATI_CJ_M2']==-1) & (data_l['SALARIO'] <= data_l['SBU']) ), 'ATI_CJ_M2'] = 0 \n",
    "#Se hacen las correcciones para los valores 1, en donde si el Salario es menor o igual al SBU no es atípico( 1 -> 0 )\n",
    "data_l.loc[ ( (data_l['GRUPO_SEL']==1) & (data_l['ATI_CJ_M2']==1) & (data_l['SALARIO'] <= data_l['SBU']) ), 'ATI_CJ_M2'] = 0"
   ]
  },
  {
   "cell_type": "code",
   "execution_count": null,
   "id": "34bb134c",
   "metadata": {
    "ExecuteTime": {
     "end_time": "2024-07-25T21:29:49.231131Z",
     "start_time": "2024-07-25T21:29:45.628932Z"
    }
   },
   "outputs": [],
   "source": [
    "#Caso 3 - Correcciones-------------------------------------------------------------------------------------------------\n",
    "#Se corrige en función deL Límite máximo de la HL a apartir del año 2000, pues es la fecha en la que entra en dolar a ecuador ( -2 -> 1 )\n",
    "data_l.loc[ ( (data_l['GRUPO_SEL']==1) & (data_l['ATI_CJ_M3']==-2) & (data_l['SALARIO'] > data_l['LS2']) ), 'ATI_CJ_M3'] = 1 # quedan 2 casos\n",
    "#Se corrige en función del valores menores al limite máximo la HL a apartir del año 2000, pues es la fecha en la que entra en dolar a ecuador ( -2 -> 0 )\n",
    "data_l.loc[ ( (data_l['GRUPO_SEL']==1) & (data_l['ATI_CJ_M3']==-2) & (data_l['SALARIO'] <= data_l['LS2']) ), 'ATI_CJ_M3'] = 0\n",
    "#Se hacen las correcciones para los valores -2, en donde si el Salario es menor o igual a un SBU no es atípico( -2 -> 0 )\n",
    "data_l.loc[ ( (data_l['GRUPO_SEL']==1) & (data_l['ATI_CJ_M3']==-2) & (data_l['SALARIO'] <= data_l['SBU']) ), 'ATI_CJ_M3'] = 0 #\n",
    "\n",
    "#Se corrige en función deL Límite máximo de toda la HL, pues si no hay datos del SBU para atrás ( NA -> 1 )\n",
    "data_l.loc[ ( (data_l['GRUPO_SEL']==1) & (data_l['ATI_CJ_M3'].isna()) & (data_l['SALARIO'] > data_l['LS1']) ), 'ATI_CJ_M3'] = 1 #quedan 7394 casos\n",
    "#Se corrige en función del valores menoRes al limite máximo la HL, pues sno hay datos del SBU para atrás ( NA -> 0 )\n",
    "data_l.loc[ ( (data_l['GRUPO_SEL']==1) & (data_l['ATI_CJ_M3'].isna()) & (data_l['SALARIO'] <= data_l['LS1']) ), 'ATI_CJ_M3'] = 0  \n",
    "#Se hacen las correcciones para los valores NA, en donde si el Salario es menor o igual a un SBU no es atípico( NA -> 0 )\n",
    "data_l.loc[ ( (data_l['GRUPO_SEL']==1) & (data_l['ATI_CJ_M3'].isna()) & (data_l['SALARIO'] <= data_l['SBU']) ), 'ATI_CJ_M3'] = 0 \n",
    "\n",
    "#Se hacen las correcciones para los valores -1, en donde si el Salario es mayor a LS1 es atípico( -1 -> 1 )\n",
    "data_l.loc[ ( (data_l['GRUPO_SEL']==1) & (data_l['ATI_CJ_M3']==-1) & (data_l['SALARIO'] > data_l['LS1']) ), 'ATI_CJ_M3'] = 1 #quedan 3103457  casos\n",
    "#Se hacen las correcciones para los valores -1, en donde si el Salario es menor o igual a LS1 no es atípico( -1 -> 0 )\n",
    "data_l.loc[ ( (data_l['GRUPO_SEL']==1) & (data_l['ATI_CJ_M3']==-1) & (data_l['SALARIO'] <= data_l['LS1']) ), 'ATI_CJ_M3'] = 0\n",
    "#Se hacen las correcciones para los valores -1, en donde si el Salario es menor o igual a un SBU no es atípico( -1 -> 0 )\n",
    "data_l.loc[ ( (data_l['GRUPO_SEL']==1) & (data_l['ATI_CJ_M3']==-1) & (data_l['SALARIO'] <= data_l['SBU']) ), 'ATI_CJ_M3'] = 0 \n",
    "#Se hacen las correcciones para los valores 1, en donde si el Salario es menor o igual al SBU no es atípico( 1 -> 0 )\n",
    "data_l.loc[ ( (data_l['GRUPO_SEL']==1) & (data_l['ATI_CJ_M3']==1) & (data_l['SALARIO'] <= data_l['SBU']) ), 'ATI_CJ_M3'] = 0"
   ]
  },
  {
   "cell_type": "code",
   "execution_count": null,
   "id": "ae07f4a8",
   "metadata": {
    "ExecuteTime": {
     "end_time": "2024-07-25T21:17:16.525356Z",
     "start_time": "2024-07-25T21:17:16.319844Z"
    }
   },
   "outputs": [],
   "source": [
    "data_l[ (data_l['CEDULA_COD']==23075971) & (data_l['GRUPO_SEL']==1)]"
   ]
  },
  {
   "cell_type": "code",
   "execution_count": null,
   "id": "960ed602",
   "metadata": {},
   "outputs": [],
   "source": [
    "#Cedulas que tiene datos atípicos----------------------------------------------------------------------------------------------\n",
    "print('*' * 50, 'Caso ', str( 1 ), '*' * 50)\n",
    "print('\\tCedulas con al menos un atípico:', data_l[ (data_l['GRUPO_SEL']==1) & (data_l['ATI_CJ_M1']==1)]['CEDULA_COD'].nunique()) #125237\n",
    "print('\\tCedulas con valor 0:',  data_l[ (data_l['GRUPO_SEL']==1) & (data_l['ATI_CJ_M1']==0)]['CEDULA_COD'].nunique()) #436149\n",
    "print('*' * 50, 'Caso ', str( 2 ), '*' * 50)\n",
    "print('\\tCedulas con al menos un atípico:', data_l[ (data_l['GRUPO_SEL']==1) & (data_l['ATI_CJ_M2']==1)]['CEDULA_COD'].nunique()) #116931\n",
    "print('\\tCedulas con valor 0:',  data_l[ (data_l['GRUPO_SEL']==1) & (data_l['ATI_CJ_M2']==0)]['CEDULA_COD'].nunique()) #436148\n",
    "print('*' * 50, 'Caso ', str( 3 ), '*' * 50)\n",
    "print('\\tCedulas con al menos un atípico:', data_l[ (data_l['GRUPO_SEL']==1) & (data_l['ATI_CJ_M3']==1)]['CEDULA_COD'].nunique()) #116938\n",
    "print('\\tCedulas con valor 0:',  data_l[ (data_l['GRUPO_SEL']==1) & (data_l['ATI_CJ_M3']==0)]['CEDULA_COD'].nunique()) #436149\n",
    "print('*' * 102)"
   ]
  },
  {
   "cell_type": "code",
   "execution_count": null,
   "id": "b3d91b63",
   "metadata": {},
   "outputs": [],
   "source": [
    "data_l[ (data_l['GRUPO_SEL']==1) & (data_l['ATI_CJ_M1']==1)]['CEDULA_COD'].unique()"
   ]
  },
  {
   "cell_type": "code",
   "execution_count": null,
   "id": "5cf8223c",
   "metadata": {},
   "outputs": [],
   "source": [
    "graf_ati(21729781, 1)"
   ]
  },
  {
   "cell_type": "code",
   "execution_count": null,
   "id": "74ad6cda",
   "metadata": {},
   "outputs": [],
   "source": [
    "data_l[ (data_l['GRUPO_SEL']==1) & (data_l['CEDULA_COD']==21729781)]"
   ]
  },
  {
   "cell_type": "code",
   "execution_count": null,
   "id": "2ad6f24b",
   "metadata": {
    "ExecuteTime": {
     "end_time": "2024-07-25T16:51:24.807471Z",
     "start_time": "2024-07-25T16:51:24.473105Z"
    }
   },
   "outputs": [],
   "source": [
    "#Analisis para atitpicos vs aportes simultáneos\n",
    "#Cedulas que tiene datos atípicos----------------------------------------------------------------------------------------------\n",
    "print('*' * 50, 'Caso ', str( 1 ), '*' * 50)\n",
    "print('\\tCedulas con al menos un atípico con un único sector:',\n",
    "      data_l[ (data_l['GRUPO_SEL']==1) & (data_l['ATI_CJ_M1']==1) & (data_l['NUM_SEC_MES']==1)]['CEDULA_COD'].nunique()) \n",
    "print('\\tCedulas con al menos un atípico con más de un único sector:',\n",
    "      data_l[ (data_l['GRUPO_SEL']==1) & (data_l['ATI_CJ_M1']==1) & (data_l['NUM_SEC_MES']>1)]['CEDULA_COD'].nunique())\n",
    "print('*' * 50, 'Caso ', str( 2 ), '*' * 50)\n",
    "print('\\tCedulas con al menos un atípico con un único sector:',\n",
    "      data_l[ (data_l['GRUPO_SEL']==1) & (data_l['ATI_CJ_M2']==1) & (data_l['NUM_SEC_MES']==1)]['CEDULA_COD'].nunique()) \n",
    "print('\\tCedulas con al menos un atípico con más de un único sector:',\n",
    "      data_l[ (data_l['GRUPO_SEL']==1) & (data_l['ATI_CJ_M2']==1) & (data_l['NUM_SEC_MES']>1)]['CEDULA_COD'].nunique())\n",
    "print('*' * 50, 'Caso ', str( 3 ), '*' * 50)\n",
    "print('\\tCedulas con al menos un atípico con un único sector:',\n",
    "      data_l[ (data_l['GRUPO_SEL']==1) & (data_l['ATI_CJ_M3']==1) & (data_l['NUM_SEC_MES']==1)]['CEDULA_COD'].nunique()) \n",
    "print('\\tCedulas con al menos un atípico con más de un único sector:',\n",
    "      data_l[ (data_l['GRUPO_SEL']==1) & (data_l['ATI_CJ_M3']==1) & (data_l['NUM_SEC_MES']>1)]['CEDULA_COD'].nunique())\n",
    "print('*' * 102)"
   ]
  },
  {
   "cell_type": "code",
   "execution_count": null,
   "id": "30211982",
   "metadata": {},
   "outputs": [],
   "source": [
    "#Para el caso 1-- Correcciones en función del número de sectores trabajados\n",
    "data_l[ (data_l['GRUPO_SEL']==1) & (data_l['ATI_CJ_M1']==1) & (data_l['NUM_SEC_MES']>1)]"
   ]
  },
  {
   "cell_type": "code",
   "execution_count": null,
   "id": "9f03a34c",
   "metadata": {},
   "outputs": [],
   "source": [
    "data_l[ (data_l['GRUPO_SEL']==1) & (data_l['CEDULA_COD']==397)]"
   ]
  }
 ],
 "metadata": {
  "kernelspec": {
   "display_name": "Python 3 (ipykernel)",
   "language": "python",
   "name": "python3"
  },
  "language_info": {
   "codemirror_mode": {
    "name": "ipython",
    "version": 3
   },
   "file_extension": ".py",
   "mimetype": "text/x-python",
   "name": "python",
   "nbconvert_exporter": "python",
   "pygments_lexer": "ipython3",
   "version": "3.9.13"
  },
  "toc": {
   "base_numbering": 1,
   "nav_menu": {},
   "number_sections": true,
   "sideBar": true,
   "skip_h1_title": false,
   "title_cell": "Table of Contents",
   "title_sidebar": "Contents",
   "toc_cell": false,
   "toc_position": {},
   "toc_section_display": true,
   "toc_window_display": false
  }
 },
 "nbformat": 4,
 "nbformat_minor": 5
}

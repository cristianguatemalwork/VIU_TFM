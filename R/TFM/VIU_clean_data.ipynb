{
 "cells": [
  {
   "cell_type": "code",
   "execution_count": 1,
   "id": "305b533b",
   "metadata": {
    "ExecuteTime": {
     "end_time": "2024-07-23T20:19:41.048013Z",
     "start_time": "2024-07-23T20:19:21.209443Z"
    }
   },
   "outputs": [],
   "source": [
    "#Importación de librearías necesarias\n",
    "import pandas as pd\n",
    "from datetime import datetime\n",
    "import socket\n",
    "import numpy as np\n",
    "import math\n",
    "import time\n",
    "import pickle  #Para guardar archivos\n",
    "import os\n",
    "\n",
    "from pympler import asizeof #Para liberar memoria\n",
    "import gc\n",
    "\n",
    "import matplotlib.pyplot as plt\n",
    "from scipy.cluster.hierarchy import dendrogram, linkage, fcluster\n",
    "from scipy.spatial.distance import cdist"
   ]
  },
  {
   "cell_type": "code",
   "execution_count": 2,
   "id": "3ad7f70c",
   "metadata": {
    "ExecuteTime": {
     "end_time": "2024-07-23T20:19:41.076516Z",
     "start_time": "2024-07-23T20:19:41.068699Z"
    }
   },
   "outputs": [],
   "source": [
    "#Path general de archivos\n",
    "if socket.gethostname()=='LAPTOP-PUSGG08B': #Ip de la laptop\n",
    "    ruta = \"E:/Cristian Guatemal/Master/Big Data y Ciencia de Datos/VIU_TFM/Data/TFM/\"\n",
    "    r_ruta = \"E:/Cristian Guatemal/Master/Big Data y Ciencia de Datos/VIU_TFM/RData/TFM/\"\n",
    "elif socket.gethostname()=='PCUIOMTDAIE6382': #Ip del working\n",
    "    ruta =   \"D:/Master/Big_Data_Ciencia_Datos/VIU_TFM/Data/TFM/\"\n",
    "    r_ruta = \"D:/Master/Big_Data_Ciencia_Datos/VIU_TFM/RData/TFM/\"\n",
    "# Ruta del archivo de pensionistas de vejez\n",
    "ruta_vj = ruta + 'POB_VEJ_CD656_NEW.dsv'\n",
    "# Ruta del archivo de historia laboral de pensionistas\n",
    "ruta_afi = ruta + 'APORTES_CD656_new.dsv'"
   ]
  },
  {
   "cell_type": "code",
   "execution_count": null,
   "id": "28dfb4e5",
   "metadata": {
    "ExecuteTime": {
     "end_time": "2024-07-15T17:40:29.504433Z",
     "start_time": "2024-07-15T17:38:33.999235Z"
    }
   },
   "outputs": [],
   "source": [
    "#Importación de archivos de afiliados\n",
    "inicio = time.time()\n",
    "afi = pd.read_csv( ruta_afi, delimiter='\\t', encoding='iso-8859-1', decimal='.')\n",
    "fin = time.time()  \n",
    "print('Tiempo de ejecución es: ',  (fin-inicio)//3600, ' horas con ' ,  (fin-inicio)%3600//60 , ' minutos y', \n",
    "        (fin-inicio)%60, ' segundos' )"
   ]
  },
  {
   "cell_type": "code",
   "execution_count": null,
   "id": "c19aaa90",
   "metadata": {
    "ExecuteTime": {
     "end_time": "2024-07-15T17:41:21.920678Z",
     "start_time": "2024-07-15T17:40:55.737050Z"
    }
   },
   "outputs": [],
   "source": [
    "#Agrupamiento por relación de trabajo\n",
    "inicio = time.time()\n",
    "agrupa = [ (afi['SECTOR'].isin(['PRIVADO', 'PASANTE PRIVADO'])), \n",
    "           (afi['SECTOR'].isin(['PUBLICO', 'PASANTE PUBLICO'])), \n",
    "           (afi['SECTOR'].isin(['INDEPENDIENTES', '108-ARTISTA Y GESTOR DE CULTURA', \n",
    "                                '02-TRABAJ. AUT Y SIN RELAC DEPEN DESDE  2011-12 SOLO AF.VOLUNT  '])),\n",
    "           (afi['SECTOR'].isin(['69-VOLUNTARIO ECUATORIANO DOMICILIADO EN EL EXTERIOR ',\n",
    "                                '89-AFILIACION DOMICILIADO EN EL EXTERIOR'])),\n",
    "           (afi['SECTOR'] == '90-AFILIACION DOMICILIADO EN EL PAIS / SIN RELACION DEPENDENCIA'),\n",
    "           (afi['SECTOR'] == '06-CODIGO DEL TRABAJO - CT ')\n",
    "            ]\n",
    "            \n",
    "tipo = ['PRI', 'PUB', 'IND', 'VOL_EX', 'VOL_EC', 'COD_TR']\n",
    "\n",
    "afi['SECTOR_A'] = np.select( agrupa, tipo, default=afi['SECTOR'])\n",
    "fin = time.time()  \n",
    "print('Tiempo de ejecución es: ',  (fin-inicio)//3600, ' horas con ' ,  (fin-inicio)%3600//60 , ' minutos y', \n",
    "        (fin-inicio)%60, ' segundos' )"
   ]
  },
  {
   "cell_type": "code",
   "execution_count": null,
   "id": "8a62a1f0",
   "metadata": {
    "ExecuteTime": {
     "end_time": "2024-07-15T17:41:26.031814Z",
     "start_time": "2024-07-15T17:41:21.923839Z"
    }
   },
   "outputs": [],
   "source": [
    "afi['SECTOR'].unique()"
   ]
  },
  {
   "cell_type": "code",
   "execution_count": null,
   "id": "b9d7fce7",
   "metadata": {
    "ExecuteTime": {
     "end_time": "2024-07-15T17:41:29.344291Z",
     "start_time": "2024-07-15T17:41:26.033925Z"
    }
   },
   "outputs": [],
   "source": [
    "afi['SECTOR_A'].unique()"
   ]
  },
  {
   "cell_type": "code",
   "execution_count": null,
   "id": "a03a3ae9",
   "metadata": {
    "ExecuteTime": {
     "end_time": "2024-07-15T17:41:29.351637Z",
     "start_time": "2024-07-15T17:41:29.346292Z"
    }
   },
   "outputs": [],
   "source": [
    "afi.shape"
   ]
  },
  {
   "cell_type": "code",
   "execution_count": null,
   "id": "04746277",
   "metadata": {
    "ExecuteTime": {
     "end_time": "2024-07-15T17:42:22.570617Z",
     "start_time": "2024-07-15T17:41:29.353744Z"
    }
   },
   "outputs": [],
   "source": [
    "#Para acceder a las prestaciones de IVM debe tener al menos 5 años de aporte o 60 imposiciones\n",
    "ced_counts = afi.drop_duplicates(subset=['CEDULA_COD', 'ANIO', 'MES'])['CEDULA_COD'].value_counts()"
   ]
  },
  {
   "cell_type": "code",
   "execution_count": null,
   "id": "dbad0c44",
   "metadata": {
    "ExecuteTime": {
     "end_time": "2024-07-15T17:42:22.635232Z",
     "start_time": "2024-07-15T17:42:22.572609Z"
    }
   },
   "outputs": [],
   "source": [
    "# numero de cedulas que tienen menos de 60 imposiciones\n",
    "ced_counts[ced_counts < 60].index.nunique()"
   ]
  },
  {
   "cell_type": "code",
   "execution_count": null,
   "id": "6165f941",
   "metadata": {
    "ExecuteTime": {
     "start_time": "2024-07-15T17:41:05.174Z"
    }
   },
   "outputs": [],
   "source": [
    "#Se filtran a las cedulas con menos de 60 imposicones \n",
    "inicio = time.time()\n",
    "afi_fil = afi[~afi['CEDULA_COD'].isin(ced_counts[ced_counts < 60].index)].copy()\n",
    "fin = time.time()  \n",
    "print('Tiempo de ejecución es: ',  (fin-inicio)//3600, ' horas con ' ,  (fin-inicio)%3600//60 , ' minutos y', (fin-inicio)%60, ' segundos' )\n",
    "\n",
    "#Se crea una variable fecha\n",
    "inicio = time.time()\n",
    "afi_fil.loc[:, 'FECHA'] = pd.to_datetime(afi_fil['ANIO'].astype(str) + '-' + afi_fil['MES'].astype(str).str.zfill(2) + '-01')\n",
    "fin = time.time()  \n",
    "print('Tiempo de ejecución es: ',  (fin-inicio)//3600, ' horas con ' ,  (fin-inicio)%3600//60 , ' minutos y', (fin-inicio)%60, ' segundos' )\n",
    "\n",
    "#Se ordenan los registros\n",
    "inicio = time.time()\n",
    "afi_fil = afi_fil.sort_values( by=[\"CEDULA_COD\",\"ANIO\", \"MES\"], ascending=[True, True, True] )\n",
    "fin = time.time()  \n",
    "print('Tiempo de ejecución es: ',  (fin-inicio)//3600, ' horas con ' ,  (fin-inicio)%3600//60 , ' minutos y', (fin-inicio)%60, ' segundos' )\n",
    "afi_fil.shape"
   ]
  },
  {
   "cell_type": "code",
   "execution_count": null,
   "id": "68f9e80c",
   "metadata": {
    "ExecuteTime": {
     "start_time": "2024-07-15T17:41:07.198Z"
    }
   },
   "outputs": [],
   "source": [
    "# Especifica la ruta del directorio donde quieres guardar el archivo\n",
    "directorio = r_ruta\n",
    "\n",
    "# Asegúrate de que el directorio existe\n",
    "os.makedirs(directorio, exist_ok=True)\n",
    "\n",
    "# Nombre del archivo\n",
    "nombre_archivo = 'viu_clean_afi.pkl'\n",
    "# Ruta completa del archivo\n",
    "ruta_archivo = os.path.join(directorio, nombre_archivo)\n",
    "# Objetos a guardar\n",
    "objeto1 = afi\n",
    "\n",
    "# Guardar los objetos en el archivo\n",
    "with open(ruta_archivo, 'wb') as archivo:\n",
    "    pickle.dump(objeto1, archivo)\n",
    "    \n",
    "    \n",
    "# Nombre del archivo\n",
    "nombre_archivo = 'viu_clean_afi_fil.pkl'\n",
    "# Ruta completa del archivo\n",
    "ruta_archivo = os.path.join(directorio, nombre_archivo)\n",
    "# Objetos a guardar\n",
    "objeto2 = afi_fil\n",
    "\n",
    "# Guardar los objetos en el archivo\n",
    "with open(ruta_archivo, 'wb') as archivo:\n",
    "    pickle.dump(objeto2, archivo)\n",
    "        \n",
    "    \n",
    "# #Cargar los archivos\n",
    "# with open( ruta_archivo, 'rb') as archivo:\n",
    "#     pickle.load(archivo)  # Carga y descarta el primer objeto\n",
    "#     afi_fil = pickle.load(archivo)  # Carga el segundo objeto    "
   ]
  },
  {
   "cell_type": "code",
   "execution_count": null,
   "id": "d3968aa2",
   "metadata": {
    "ExecuteTime": {
     "end_time": "2024-07-15T17:15:23.991547Z",
     "start_time": "2024-07-15T17:15:23.991547Z"
    }
   },
   "outputs": [],
   "source": [
    "#Se eliminan archivos no necesarios para liberar la memoria\n",
    "del afi\n",
    "del objeto1\n",
    "del objeto2\n",
    "del ced_counts"
   ]
  },
  {
   "cell_type": "code",
   "execution_count": null,
   "id": "87d43629",
   "metadata": {
    "ExecuteTime": {
     "end_time": "2024-07-15T17:15:23.993540Z",
     "start_time": "2024-07-15T17:15:23.993540Z"
    }
   },
   "outputs": [],
   "source": [
    "afi_fil #Tiene una dimensión de (64638969 rows × 14 columns)"
   ]
  },
  {
   "cell_type": "code",
   "execution_count": null,
   "id": "3903704c",
   "metadata": {
    "ExecuteTime": {
     "end_time": "2024-07-15T17:15:23.995553Z",
     "start_time": "2024-07-15T17:15:23.995553Z"
    }
   },
   "outputs": [],
   "source": [
    "#Se seleccionan las características de la población para los año y mes de aportación\n",
    "afi_sel = afi_fil[['CEDULA_COD', 'ANIO', 'MES', 'FECHA','SALARIO', 'SECTOR_A']].copy()\n",
    "del afi_fil"
   ]
  },
  {
   "cell_type": "code",
   "execution_count": null,
   "id": "adcadef1",
   "metadata": {
    "ExecuteTime": {
     "end_time": "2024-07-15T17:15:23.996542Z",
     "start_time": "2024-07-15T17:15:23.996542Z"
    }
   },
   "outputs": [],
   "source": [
    "#Inicio de la HL\n",
    "caract = afi_sel.groupby('CEDULA_COD')['FECHA'].min().reset_index() \n",
    "caract.rename( columns={'FECHA': 'INI_HL'}, inplace=True)\n",
    "#Fin de la HL\n",
    "caract['FIN_HL'] = caract['CEDULA_COD'].map( afi_sel.groupby('CEDULA_COD')['FECHA'].max() )\n",
    "#Contar los meses, considerando duplicidad en los meses que puede tener aporte simultaneos\n",
    "caract['MES_AS'] = caract['CEDULA_COD'].map( afi_sel['CEDULA_COD'].value_counts() )\n",
    "#Meses trabajados unicos\n",
    "aux = afi_sel.drop_duplicates(subset=['CEDULA_COD', 'ANIO', 'MES'])\n",
    "caract['MES_TU'] = caract['CEDULA_COD'].map( aux['CEDULA_COD'].value_counts() )"
   ]
  },
  {
   "cell_type": "code",
   "execution_count": null,
   "id": "48d6a6d8",
   "metadata": {
    "ExecuteTime": {
     "end_time": "2024-07-15T17:15:23.998674Z",
     "start_time": "2024-07-15T17:15:23.998674Z"
    }
   },
   "outputs": [],
   "source": [
    "# Nombre del archivo\n",
    "nombre_archivo = 'viu_clean_caract.pkl'\n",
    "# Ruta completa del archivo\n",
    "ruta_archivo = os.path.join(directorio, nombre_archivo)\n",
    "# Objetos a guardar\n",
    "objeto3 = caract\n",
    "\n",
    "# Guardar los objetos en el archivo\n",
    "with open(ruta_archivo, 'wb') as archivo:\n",
    "    pickle.dump(objeto3, archivo)    "
   ]
  },
  {
   "cell_type": "code",
   "execution_count": null,
   "id": "4c3149c5",
   "metadata": {
    "ExecuteTime": {
     "end_time": "2024-07-15T17:15:23.999664Z",
     "start_time": "2024-07-15T17:15:23.999664Z"
    }
   },
   "outputs": [],
   "source": [
    "del objeto3"
   ]
  },
  {
   "cell_type": "code",
   "execution_count": null,
   "id": "5d78279e",
   "metadata": {
    "ExecuteTime": {
     "end_time": "2024-07-15T17:15:24.002664Z",
     "start_time": "2024-07-15T17:15:24.002664Z"
    }
   },
   "outputs": [],
   "source": [
    "caract"
   ]
  },
  {
   "cell_type": "code",
   "execution_count": null,
   "id": "bc22a036",
   "metadata": {
    "ExecuteTime": {
     "end_time": "2024-07-15T17:15:24.003666Z",
     "start_time": "2024-07-15T17:15:24.003666Z"
    }
   },
   "outputs": [],
   "source": [
    "#Personas que tienen varios aportes simultaneos\n",
    "caract[caract['MES_AS']>caract['MES_TU']]"
   ]
  },
  {
   "cell_type": "code",
   "execution_count": null,
   "id": "16e523d3",
   "metadata": {
    "ExecuteTime": {
     "end_time": "2024-07-15T17:15:24.005665Z",
     "start_time": "2024-07-15T17:15:24.005665Z"
    }
   },
   "outputs": [],
   "source": [
    "#afi_sel[afi_sel['CEDULA_COD']==21729781].tail(60)"
   ]
  },
  {
   "cell_type": "code",
   "execution_count": null,
   "id": "bd0c7ea9",
   "metadata": {
    "ExecuteTime": {
     "end_time": "2024-07-15T17:15:24.007842Z",
     "start_time": "2024-07-15T17:15:24.007842Z"
    }
   },
   "outputs": [],
   "source": [
    "afi_sel =  afi_sel.sort_values( by=[\"CEDULA_COD\",\"ANIO\", \"MES\"], ascending=[True, False, False] )\n",
    "afi_sel['NUM_SEC_MES'] = 1\n",
    "afi_sel['%_NUM_SECTOR'] = afi_sel['SALARIO']"
   ]
  },
  {
   "cell_type": "code",
   "execution_count": null,
   "id": "508c16c5",
   "metadata": {
    "ExecuteTime": {
     "end_time": "2024-07-15T17:15:24.008844Z",
     "start_time": "2024-07-15T17:15:24.008844Z"
    }
   },
   "outputs": [],
   "source": [
    "aux = afi_sel[afi_sel.duplicated(subset=['CEDULA_COD', 'ANIO', 'MES'], keep=False)]\n",
    "aux1 = afi_sel[~afi_sel.duplicated(subset=['CEDULA_COD', 'ANIO', 'MES'], keep=False)]"
   ]
  },
  {
   "cell_type": "code",
   "execution_count": null,
   "id": "413f07c9",
   "metadata": {
    "ExecuteTime": {
     "end_time": "2024-07-15T17:15:24.010840Z",
     "start_time": "2024-07-15T17:15:24.010840Z"
    }
   },
   "outputs": [],
   "source": [
    "#Se debe analizar a las personas que tienen varios aportes en un mismo mes\n",
    "#Se suman los salarios y se concatenan los sectores para la cedula que en el mismo anio y mes tienen más de un sector\n",
    "inicio = time.time()\n",
    "afi_sel_g = aux.groupby(['CEDULA_COD', 'ANIO', 'MES']).agg({'SALARIO': 'sum',\n",
    "                                                            'SECTOR_A': lambda x: ';'.join(x),\n",
    "                                                            'NUM_SEC_MES': lambda x: len(x),\n",
    "                                                            '%_NUM_SECTOR': lambda x:  ';'.join((x / x.sum()).round(4).astype(str))\n",
    "                                                                }).reset_index()\n",
    "fin = time.time()  \n",
    "print('Tiempo de ejecución es: ',  (fin-inicio)//3600, ' horas con ' ,  (fin-inicio)%3600//60 , ' minutos y', (fin-inicio)%60, ' segundos' )\n"
   ]
  },
  {
   "cell_type": "code",
   "execution_count": null,
   "id": "666ab864",
   "metadata": {
    "ExecuteTime": {
     "end_time": "2024-07-15T17:15:24.012840Z",
     "start_time": "2024-07-15T17:15:24.012840Z"
    }
   },
   "outputs": [],
   "source": [
    "afi_sel_g"
   ]
  },
  {
   "cell_type": "code",
   "execution_count": null,
   "id": "cbe59597",
   "metadata": {
    "ExecuteTime": {
     "end_time": "2024-07-15T17:15:24.014839Z",
     "start_time": "2024-07-15T17:15:24.014839Z"
    }
   },
   "outputs": [],
   "source": [
    "afi_sel_g_all = pd.concat( [aux1[['CEDULA_COD', 'ANIO', 'MES', 'SALARIO', 'SECTOR_A', 'NUM_SEC_MES', '%_NUM_SECTOR']], \n",
    "                            afi_sel_g], ignore_index=True )"
   ]
  },
  {
   "cell_type": "code",
   "execution_count": null,
   "id": "4bfdd552",
   "metadata": {
    "ExecuteTime": {
     "end_time": "2024-07-15T17:15:24.015841Z",
     "start_time": "2024-07-15T17:15:24.015841Z"
    }
   },
   "outputs": [],
   "source": [
    "afi_sel_g_all"
   ]
  },
  {
   "cell_type": "code",
   "execution_count": null,
   "id": "bb3917c8",
   "metadata": {
    "ExecuteTime": {
     "end_time": "2024-07-15T17:15:24.017984Z",
     "start_time": "2024-07-15T17:15:24.017984Z"
    }
   },
   "outputs": [],
   "source": [
    "# Nombre del archivo\n",
    "nombre_archivo = 'viu_clean_afi_sel_g_all.pkl'\n",
    "# Ruta completa del archivo\n",
    "ruta_archivo = os.path.join(directorio, nombre_archivo)\n",
    "# Objetos a guardar\n",
    "objeto4 = afi_sel_g_all\n",
    "\n",
    "# Guardar los objetos en el archivo\n",
    "with open(ruta_archivo, 'wb') as archivo:\n",
    "    pickle.dump(objeto4, archivo)      "
   ]
  },
  {
   "cell_type": "code",
   "execution_count": null,
   "id": "64e1b80c",
   "metadata": {
    "ExecuteTime": {
     "end_time": "2024-07-15T20:35:18.490089Z",
     "start_time": "2024-07-15T20:35:17.362006Z"
    }
   },
   "outputs": [],
   "source": [
    "#afi_sel_g_all = objetos[3]"
   ]
  },
  {
   "cell_type": "code",
   "execution_count": null,
   "id": "12ce8372",
   "metadata": {
    "ExecuteTime": {
     "end_time": "2024-07-15T17:57:16.383287Z",
     "start_time": "2024-07-15T17:57:04.665045Z"
    }
   },
   "outputs": [],
   "source": [
    "del aux\n",
    "del aux1\n",
    "del objeto4"
   ]
  },
  {
   "cell_type": "code",
   "execution_count": null,
   "id": "3c213049",
   "metadata": {
    "ExecuteTime": {
     "start_time": "2024-07-15T20:35:59.850Z"
    }
   },
   "outputs": [],
   "source": [
    "afi_sel_g_all = afi_sel_g_all.sort_values( by=[\"CEDULA_COD\",\"ANIO\", \"MES\"], ascending=[True, False, False] )\n",
    "afi_sel_g_all.loc[ (afi_sel_g_all['NUM_SEC_MES'] == 1), '%_NUM_SECTOR'] = '1'"
   ]
  },
  {
   "cell_type": "code",
   "execution_count": null,
   "id": "828d7f59",
   "metadata": {
    "ExecuteTime": {
     "start_time": "2024-07-15T20:36:04.170Z"
    }
   },
   "outputs": [],
   "source": [
    "afi_sel_g_all[afi_sel_g_all['CEDULA_COD']==216]"
   ]
  },
  {
   "cell_type": "code",
   "execution_count": null,
   "id": "5a4c3357",
   "metadata": {
    "ExecuteTime": {
     "start_time": "2024-07-15T20:36:06.439Z"
    }
   },
   "outputs": [],
   "source": [
    "#Se reinician los index\n",
    "afi_sel_g_all.reset_index(inplace=True)\n",
    "afi_sel_g_all.rename(columns={'index': 'nuevo_indice'}, inplace=True)\n",
    "afi_sel_g_all.drop(columns=['nuevo_indice'], inplace=True)"
   ]
  },
  {
   "cell_type": "code",
   "execution_count": null,
   "id": "e48b33ad",
   "metadata": {
    "ExecuteTime": {
     "start_time": "2024-07-15T20:36:08.095Z"
    }
   },
   "outputs": [],
   "source": [
    "afi_sel_g_all[afi_sel_g_all['CEDULA_COD']==126]"
   ]
  },
  {
   "cell_type": "code",
   "execution_count": null,
   "id": "87616db7",
   "metadata": {
    "ExecuteTime": {
     "end_time": "2024-07-15T16:49:15.698723Z",
     "start_time": "2024-07-15T16:48:59.956839Z"
    }
   },
   "outputs": [],
   "source": [
    "#se crean los grupos de 12 meses trabajados para tener\n",
    "n_grupo = 12\n",
    "afi_sel_g_all['GRUPO'] = (afi_sel_g_all.groupby('CEDULA_COD').cumcount() // n_grupo ) + 1\n",
    "#Se saca el salario promedio de cada grupo\n",
    "afi_sel_g_all['SAL_PROM_GRUPO'] = afi_sel_g_all.groupby(['CEDULA_COD', 'GRUPO'])['SALARIO'].transform('mean')"
   ]
  },
  {
   "cell_type": "code",
   "execution_count": null,
   "id": "79bc8b95",
   "metadata": {
    "ExecuteTime": {
     "end_time": "2024-07-15T16:49:15.769801Z",
     "start_time": "2024-07-15T16:49:15.701731Z"
    }
   },
   "outputs": [],
   "source": [
    "afi_sel_g_all"
   ]
  },
  {
   "cell_type": "code",
   "execution_count": null,
   "id": "edc13f78",
   "metadata": {
    "ExecuteTime": {
     "end_time": "2024-07-15T16:49:18.892556Z",
     "start_time": "2024-07-15T16:49:18.454964Z"
    }
   },
   "outputs": [],
   "source": [
    "afi_sel_g_all[afi_sel_g_all['CEDULA_COD']==126]['GRUPO'].unique()"
   ]
  },
  {
   "cell_type": "code",
   "execution_count": null,
   "id": "2ede2e6c",
   "metadata": {
    "ExecuteTime": {
     "end_time": "2024-07-15T16:49:28.056278Z",
     "start_time": "2024-07-15T16:49:18.894563Z"
    }
   },
   "outputs": [],
   "source": [
    "#Se obtienen los sueldos promedios para cada grupo y cada cedula\n",
    "inicio = time.time()\n",
    "df1 = afi_sel_g_all.groupby(['CEDULA_COD', 'GRUPO'])['SAL_PROM_GRUPO'].first().reset_index().copy()\n",
    "df1 = df1.sort_values(by = ['CEDULA_COD','SAL_PROM_GRUPO'], ascending=[True,False])\n",
    "fin = time.time()  \n",
    "print('Tiempo de ejecución es: ',  (fin-inicio)//3600, ' horas con ' ,  (fin-inicio)%3600//60 , ' minutos y', (fin-inicio)%60, ' segundos' )"
   ]
  },
  {
   "cell_type": "code",
   "execution_count": null,
   "id": "ca9b660f",
   "metadata": {
    "ExecuteTime": {
     "end_time": "2024-07-15T16:49:28.097696Z",
     "start_time": "2024-07-15T16:49:28.067742Z"
    }
   },
   "outputs": [],
   "source": [
    "df1"
   ]
  },
  {
   "cell_type": "code",
   "execution_count": null,
   "id": "d853c7f0",
   "metadata": {
    "ExecuteTime": {
     "end_time": "2024-07-15T16:49:28.438155Z",
     "start_time": "2024-07-15T16:49:28.099707Z"
    }
   },
   "outputs": [],
   "source": [
    " df1[df1['CEDULA_COD']==126]"
   ]
  },
  {
   "cell_type": "code",
   "execution_count": null,
   "id": "61e44e66",
   "metadata": {
    "ExecuteTime": {
     "end_time": "2024-07-15T16:49:39.865820Z",
     "start_time": "2024-07-15T16:49:28.443179Z"
    }
   },
   "outputs": [],
   "source": [
    "#Se seleccionan los 5 mejores años de sueldo\n",
    "inicio = time.time()\n",
    "top = 5\n",
    "#top_sal = df1.groupby('CEDULA_COD')['SAL_PROM_GRUPO'].nlargest(top).reset_index(level=0, drop=True)\n",
    "indices = df1.groupby('CEDULA_COD').apply(lambda x: x.index[:top]).explode()\n",
    "df2 = df1.loc[indices].reset_index(drop=True)\n",
    "fin = time.time()  \n",
    "print('Tiempo de ejecución es: ',  (fin-inicio)//3600, ' horas con ' ,  (fin-inicio)%3600//60 , ' minutos y', (fin-inicio)%60, ' segundos' )"
   ]
  },
  {
   "cell_type": "code",
   "execution_count": null,
   "id": "4590b8c7",
   "metadata": {
    "ExecuteTime": {
     "end_time": "2024-07-15T16:49:39.886734Z",
     "start_time": "2024-07-15T16:49:39.867971Z"
    }
   },
   "outputs": [],
   "source": [
    "df2[df2['CEDULA_COD']==126]"
   ]
  },
  {
   "cell_type": "code",
   "execution_count": null,
   "id": "7a5efcc3",
   "metadata": {
    "ExecuteTime": {
     "end_time": "2024-07-15T16:50:06.025672Z",
     "start_time": "2024-07-15T16:49:39.888915Z"
    }
   },
   "outputs": [],
   "source": [
    "#Seleccionar los cinco mejores años del grupo total de años de aporte\n",
    "combinaciones = set(zip(df2['CEDULA_COD'], df2['GRUPO']))\n",
    "afi_sel_g_all['GRUPO_SEL'] = [(cedula, grupo) in combinaciones for cedula, grupo in zip(afi_sel_g_all['CEDULA_COD'], afi_sel_g_all['GRUPO'])]\n",
    "afi_sel_g_all['GRUPO_SEL'] = afi_sel_g_all['GRUPO_SEL'].astype(int)"
   ]
  },
  {
   "cell_type": "code",
   "execution_count": null,
   "id": "92f94379",
   "metadata": {},
   "outputs": [],
   "source": [
    "#Verificar que todas las cédulas tengan 60 registros de los salarios\n",
    "ced_counts1 = afi_sel_g_all.drop_duplicates(subset=['CEDULA_COD', 'ANIO', 'MES'])['CEDULA_COD'].value_counts()\n",
    "ced_counts1[ced_counts1 < 60].index.nunique()"
   ]
  },
  {
   "cell_type": "code",
   "execution_count": null,
   "id": "7f02e554",
   "metadata": {
    "ExecuteTime": {
     "end_time": "2024-07-15T16:50:06.134042Z",
     "start_time": "2024-07-15T16:50:06.027696Z"
    }
   },
   "outputs": [],
   "source": [
    "afi_sel_g_all[afi_sel_g_all['CEDULA_COD']==126].tail(60)"
   ]
  },
  {
   "cell_type": "code",
   "execution_count": null,
   "id": "964f1d61",
   "metadata": {
    "ExecuteTime": {
     "end_time": "2024-07-15T16:50:43.971377Z",
     "start_time": "2024-07-15T16:50:06.135066Z"
    }
   },
   "outputs": [],
   "source": [
    "#Se crea una variable fecha para el período de mejores años y la base de cálculo\n",
    "inicio = time.time()\n",
    "mejores = afi_sel_g_all[afi_sel_g_all['GRUPO_SEL']==1].copy()\n",
    "mejores.loc[:, 'FECHA'] = pd.to_datetime(mejores['ANIO'].astype(str) + '-' + mejores['MES'].astype(str).str.zfill(2) + '-01')\n",
    "\n",
    "#Se calcula la base de calculo\n",
    "df_prom = mejores.groupby('CEDULA_COD')['SALARIO'].mean()\n",
    "fin = time.time()  \n",
    "print('Tiempo de ejecución es: ',  (fin-inicio)//3600, ' horas con ' ,  (fin-inicio)%3600//60 , ' minutos y', (fin-inicio)%60, ' segundos' )"
   ]
  },
  {
   "cell_type": "code",
   "execution_count": null,
   "id": "72f96eda",
   "metadata": {
    "ExecuteTime": {
     "end_time": "2024-07-15T16:50:43.973544Z",
     "start_time": "2024-07-15T16:50:43.973544Z"
    }
   },
   "outputs": [],
   "source": [
    "mejores"
   ]
  },
  {
   "cell_type": "code",
   "execution_count": null,
   "id": "97e8eed6",
   "metadata": {
    "ExecuteTime": {
     "end_time": "2024-07-15T16:50:43.974547Z",
     "start_time": "2024-07-15T16:50:43.974547Z"
    }
   },
   "outputs": [],
   "source": [
    "afi_sel_g_all['INI_CAL'] = afi_sel_g_all['CEDULA_COD'].map( mejores.groupby('CEDULA_COD')['FECHA'].max() )\n",
    "afi_sel_g_all['FIN_CAL'] = afi_sel_g_all['CEDULA_COD'].map( mejores.groupby('CEDULA_COD')['FECHA'].min() )\n",
    "afi_sel_g_all['BASE_CAL'] = afi_sel_g_all['CEDULA_COD'].map( df_prom )"
   ]
  },
  {
   "cell_type": "code",
   "execution_count": null,
   "id": "43447a9b",
   "metadata": {},
   "outputs": [],
   "source": [
    "caract['INI_CAL'] = caract['CEDULA_COD'].map( mejores.groupby('CEDULA_COD')['FECHA'].max() )\n",
    "caract['FIN_CAL'] = caract['CEDULA_COD'].map( mejores.groupby('CEDULA_COD')['FECHA'].min() )\n",
    "caract['BASE_CAL'] = caract['CEDULA_COD'].map( df_prom )\n",
    "caract"
   ]
  },
  {
   "cell_type": "code",
   "execution_count": null,
   "id": "63f0f8d6",
   "metadata": {
    "ExecuteTime": {
     "end_time": "2024-07-15T16:50:43.976543Z",
     "start_time": "2024-07-15T16:50:43.976543Z"
    }
   },
   "outputs": [],
   "source": [
    "del df1, df2, mejores"
   ]
  },
  {
   "cell_type": "code",
   "execution_count": null,
   "id": "8c4d61ef",
   "metadata": {
    "ExecuteTime": {
     "end_time": "2024-07-15T16:50:43.977547Z",
     "start_time": "2024-07-15T16:50:43.977547Z"
    }
   },
   "outputs": [],
   "source": [
    "afi_sel_g_all[ (afi_sel_g_all['CEDULA_COD']==126) & (afi_sel_g_all['GRUPO_SEL']==1)]['SALARIO'].mean()"
   ]
  },
  {
   "cell_type": "code",
   "execution_count": null,
   "id": "dcf1c923",
   "metadata": {
    "ExecuteTime": {
     "end_time": "2024-07-15T16:50:43.978544Z",
     "start_time": "2024-07-15T16:50:43.978544Z"
    }
   },
   "outputs": [],
   "source": [
    "afi_sel_g_all[ (afi_sel_g_all['CEDULA_COD']==126)]"
   ]
  },
  {
   "cell_type": "code",
   "execution_count": null,
   "id": "91b8ca09",
   "metadata": {},
   "outputs": [],
   "source": [
    "# #     df = asignar_grupo(sect, n_grupo)\n",
    "# #     df1 = valores_unicos_grupos(df)\n",
    "# #     df2 = sel_top_salarios(df1, top)\n",
    "# #     df = sel_grupo(df, df2)\n",
    "#     df = fec_sel_grupo(df)\n",
    "#     df = base_cal(df)\n",
    "#     df = ati_base_cal_m1(df, inferior)\n",
    "#     df = base_cal_sin_ati_m1(df)\n",
    "#     df = sbu_ajuste_m1(df, SBU)"
   ]
  },
  {
   "cell_type": "code",
   "execution_count": null,
   "id": "197dac7a",
   "metadata": {
    "ExecuteTime": {
     "end_time": "2024-07-15T16:50:43.979546Z",
     "start_time": "2024-07-15T16:50:43.979546Z"
    }
   },
   "outputs": [],
   "source": [
    "#Registros con años menores al 2000\n",
    "afi_sel_g_all[afi_sel_g_all['FIN_CAL'].dt.year<2000]"
   ]
  },
  {
   "cell_type": "code",
   "execution_count": null,
   "id": "cef47382",
   "metadata": {
    "ExecuteTime": {
     "end_time": "2024-07-15T16:50:43.981545Z",
     "start_time": "2024-07-15T16:50:43.981545Z"
    }
   },
   "outputs": [],
   "source": [
    "#Se agrega el valor del SBU\n",
    "SBU = pd.DataFrame( { 'ANIO':[2000,2001,2002, 2003, 2004, 2005, 2006, 2007, 2008, 2009, 2010, 2011, 2012, 2013, 2014, 2015, 2016, 2017, 2018, 2019, 2020,\n",
    "                              2021, 2022, 2023, 2024],\n",
    "                      'VALOR':[57,85.65,105, 122, 136, 150, 160, 170, 200, 218, 240, 264, 292, 318, 340, 354, 366, 375, 386, 394, 400, \n",
    "                              400, 425, 450, 460]})\n",
    "SBU"
   ]
  },
  {
   "cell_type": "code",
   "execution_count": null,
   "id": "c1ce61c6",
   "metadata": {
    "ExecuteTime": {
     "end_time": "2024-07-15T16:50:43.982578Z",
     "start_time": "2024-07-15T16:50:43.982578Z"
    }
   },
   "outputs": [],
   "source": [
    "afi_sel_g_all['SBU'] = afi_sel_g_all['ANIO'].map( SBU.groupby('ANIO')['VALOR'].first())"
   ]
  },
  {
   "cell_type": "code",
   "execution_count": null,
   "id": "9b77c8dc",
   "metadata": {
    "ExecuteTime": {
     "end_time": "2024-07-15T16:50:43.983668Z",
     "start_time": "2024-07-15T16:50:43.983668Z"
    }
   },
   "outputs": [],
   "source": [
    "afi_sel_g_all"
   ]
  },
  {
   "cell_type": "code",
   "execution_count": null,
   "id": "2719e7c9",
   "metadata": {
    "ExecuteTime": {
     "end_time": "2024-07-15T16:50:43.984670Z",
     "start_time": "2024-07-15T16:50:43.984670Z"
    }
   },
   "outputs": [],
   "source": [
    "#Cédula que tienen su historia laboral igual al SBU\n",
    "afi_sel_g_all['ID_SBU'] = afi_sel_g_all['SALARIO'] == afi_sel_g_all['SBU']\n",
    "#Si tiene -1 es un valor que no es un SBU en ese año y mes\n",
    "afi_sel_g_all['ID_SBU'] = afi_sel_g_all['ID_SBU'].astype(int)-1\n",
    "afi_sel_g_all"
   ]
  },
  {
   "cell_type": "code",
   "execution_count": null,
   "id": "fca249ce",
   "metadata": {},
   "outputs": [],
   "source": [
    "#Verificar que todas las cédulas tengan 60 registros\n",
    "ced_counts2 = afi_sel_g_all.drop_duplicates(subset=['CEDULA_COD', 'ANIO', 'MES'])['CEDULA_COD'].value_counts()\n",
    "ced_counts2[ced_counts2 < 60].index.nunique()"
   ]
  },
  {
   "cell_type": "code",
   "execution_count": null,
   "id": "d0c9f210",
   "metadata": {
    "ExecuteTime": {
     "end_time": "2024-07-15T16:50:43.986668Z",
     "start_time": "2024-07-15T16:50:43.986668Z"
    }
   },
   "outputs": [],
   "source": [
    "afi_sel_g_all[afi_sel_g_all['CEDULA_COD']==126].shape"
   ]
  },
  {
   "cell_type": "code",
   "execution_count": null,
   "id": "be1b64fc",
   "metadata": {
    "ExecuteTime": {
     "end_time": "2024-07-15T16:50:43.987670Z",
     "start_time": "2024-07-15T16:50:43.987670Z"
    }
   },
   "outputs": [],
   "source": [
    "afi_sel_g_all[(afi_sel_g_all['CEDULA_COD']==126) & (afi_sel_g_all['GRUPO_SEL']==1)]"
   ]
  },
  {
   "cell_type": "code",
   "execution_count": null,
   "id": "c0a09e4a",
   "metadata": {},
   "outputs": [],
   "source": [
    "# Nombre del archivo\n",
    "nombre_archivo = 'viu_clean_afi_sel_g_all_2.pkl'\n",
    "# Ruta completa del archivo\n",
    "ruta_archivo = os.path.join(directorio, nombre_archivo)\n",
    "# Objetos a guardar\n",
    "objeto5 = afi_sel_g_all\n",
    "\n",
    "# Guardar los objetos en el archivo\n",
    "with open(ruta_archivo, 'wb') as archivo:\n",
    "    pickle.dump(objeto5, archivo)          "
   ]
  },
  {
   "cell_type": "code",
   "execution_count": null,
   "id": "8a54aec4",
   "metadata": {},
   "outputs": [],
   "source": [
    "del objeto5"
   ]
  },
  {
   "cell_type": "code",
   "execution_count": null,
   "id": "0ba21b68",
   "metadata": {},
   "outputs": [],
   "source": [
    "#Selección de cedulas con sus mejores años de sueldo y que su salario no sea un SBU\n",
    "data_sin_ati = afi_sel_g_all[ (afi_sel_g_all['GRUPO_SEL']==1) & (afi_sel_g_all['ID_SBU']!=-1)]\n",
    "data_ati = afi_sel_g_all[ (afi_sel_g_all['GRUPO_SEL']==1) & (afi_sel_g_all['ID_SBU']!=0)]"
   ]
  },
  {
   "cell_type": "code",
   "execution_count": null,
   "id": "0a14bf2d",
   "metadata": {},
   "outputs": [],
   "source": [
    "data_ati.shape #(21022610, 15)\n",
    "data_sin_ati.shape #(5449506, 15)"
   ]
  },
  {
   "cell_type": "code",
   "execution_count": null,
   "id": "1bcf53b0",
   "metadata": {},
   "outputs": [],
   "source": [
    "data_ati[data_ati['CEDULA_COD']==126][['CEDULA_COD','ANIO','MES','SALARIO']].shape"
   ]
  },
  {
   "cell_type": "code",
   "execution_count": null,
   "id": "faf69b4e",
   "metadata": {},
   "outputs": [],
   "source": [
    "data_ati[data_ati['CEDULA_COD']==126]"
   ]
  },
  {
   "cell_type": "code",
   "execution_count": null,
   "id": "e63dc2c2",
   "metadata": {},
   "outputs": [],
   "source": [
    "# Nombre del archivo\n",
    "nombre_archivo = 'viu_clean_data_ati.pkl'\n",
    "# Ruta completa del archivo\n",
    "ruta_archivo = os.path.join(directorio, nombre_archivo)\n",
    "# Objetos a guardar\n",
    "objeto6 = data_ati\n",
    "\n",
    "# Guardar los objetos en el archivo\n",
    "with open(ruta_archivo, 'wb') as archivo:\n",
    "    pickle.dump(objeto6, archivo)         \n",
    "\n",
    "# Nombre del archivo\n",
    "nombre_archivo = 'viu_clean_data_sin_ati.pkl'\n",
    "# Ruta completa del archivo\n",
    "ruta_archivo = os.path.join(directorio, nombre_archivo)\n",
    "# Objetos a guardar\n",
    "objeto7 = data_sin_ati\n",
    "\n",
    "# Guardar los objetos en el archivo\n",
    "with open(ruta_archivo, 'wb') as archivo:\n",
    "    pickle.dump(objeto7, archivo)     \n",
    "    \n",
    "del objeto6, objeto7"
   ]
  },
  {
   "cell_type": "code",
   "execution_count": 3,
   "id": "a1526f38",
   "metadata": {
    "ExecuteTime": {
     "end_time": "2024-07-23T20:20:51.927170Z",
     "start_time": "2024-07-23T20:19:41.079723Z"
    }
   },
   "outputs": [],
   "source": [
    "#Cargar los archivos\n",
    "directorio = r_ruta\n",
    "nombre_archivo = 'viu_clean_afi_sel_g_all_2.pkl'\n",
    "ruta_archivo = os.path.join(directorio, nombre_archivo)\n",
    "\n",
    "with open( ruta_archivo, 'rb') as archivo:\n",
    "    data_l = pickle.load( archivo )     "
   ]
  },
  {
   "cell_type": "code",
   "execution_count": 4,
   "id": "db0b424a",
   "metadata": {
    "ExecuteTime": {
     "end_time": "2024-07-23T20:21:13.983689Z",
     "start_time": "2024-07-23T20:21:13.975010Z"
    }
   },
   "outputs": [
    {
     "data": {
      "text/plain": [
       "(62130167, 15)"
      ]
     },
     "execution_count": 4,
     "metadata": {},
     "output_type": "execute_result"
    }
   ],
   "source": [
    "#Análisis de atípicos\n",
    "#Método de clustering jerárquico\n",
    "data_l.shape"
   ]
  },
  {
   "cell_type": "code",
   "execution_count": 5,
   "id": "a6177b78",
   "metadata": {
    "ExecuteTime": {
     "end_time": "2024-07-23T20:22:18.053855Z",
     "start_time": "2024-07-23T20:21:22.860730Z"
    }
   },
   "outputs": [],
   "source": [
    "data_l = data_l.sort_values( by=[\"CEDULA_COD\",\"ANIO\", \"MES\"], ascending=[ True, True, True] )\n",
    "data_l.reset_index(inplace=True)\n",
    "data_l.rename(columns={'index': 'nuevo_indice'}, inplace=True)\n",
    "data_l.drop(columns=['nuevo_indice'], inplace=True)\n",
    "data_l['INDICE'] = data_l.index\n",
    "\n",
    "#Casos de no análisis\n",
    "data_no_grupo = data_l[ (data_l['GRUPO_SEL']==0) ].copy()\n",
    "data_no_grupo['ATI_CJ_M1'] = np.nan\n",
    "data_no_grupo['ATI_CJ_M2'] = np.nan\n",
    "data_no_grupo['ATI_CJ_M3'] = np.nan\n",
    "\n",
    "#Casos de análisis\n",
    "data = data_l[ (data_l['GRUPO_SEL']==1) ].copy()\n",
    "\n",
    "#División del caso de análisis\n",
    "\n",
    "##Primer caso--Considerando solo los salarios mayores al SBU y desde el año 2000\n",
    "#data_si = data[   ( data['SALARIO'] >= data['SBU'] ) & ( data['ANIO'] >= 2000 ) ].copy() #Para evitar las aportaciones a tiempo parcial\n",
    "#data_no = data[ ~(( data['SALARIO'] >= data['SBU'] ) & ( data['ANIO'] >= 2000 )) ].copy() #Sueldos menores al SBU o en epoca del sucre\n",
    "\n",
    "# ##Segundo caso--Considerando toda la historia laboral\n",
    "# data_si = data #Para evitar las aportaciones a tiempo parcial\n",
    "# data_no = None #Sueldos menores al SBU o en epoca del sucre\n",
    "\n",
    "# ##Tercer caso--Considerando toda la historia laboral desde el año 2000\n",
    "# data_si = data[  ( ( data['ANIO'] >= 2000 )) ] #Para evitar las aportaciones a tiempo parcial\n",
    "# data_no = data[ ~( ( data['ANIO'] >= 2000 )) ] #Sueldos menores al SBU o en epoca del sucre\n",
    "# data_no['ATI_CJ_M3'] = np.nan"
   ]
  },
  {
   "cell_type": "code",
   "execution_count": null,
   "id": "54c0c1e4",
   "metadata": {},
   "outputs": [],
   "source": [
    "#Se crea un bucle para cada caso\n",
    "for k in range(0,3):\n",
    "    if (k==1):\n",
    "        data_si = data[   ( data['SALARIO'] >= data['SBU'] ) & ( data['ANIO'] >= 2000 ) ].copy() \n",
    "        data_no = data[ ~(( data['SALARIO'] >= data['SBU'] ) & ( data['ANIO'] >= 2000 )) ].copy() \n",
    "        data_no['ATI_CJ_M1'] = np.nan\n",
    "        print('data_si', data_si.shape) #(26006294, 16)\n",
    "        print('data_no',data_no.shape)  #(465822, 16)\n",
    "        \n",
    "        data_si_dic = data_si.groupby('CEDULA_COD').agg({'SALARIO': list, 'INDICE': list}).to_dict(orient='index')\n",
    "        data_no_dic = data_no.groupby('CEDULA_COD').agg({'SALARIO': list, 'INDICE': list}).to_dict(orient='index')\n",
    "        \n",
    "        data_val_ati = cluster_jerarquico( data_si_dic )\n",
    "        data1 = extend_data( data_val_ati )\n",
    "        \n",
    "        data_jerar = None\n",
    "        data_jerar = pd.concat( [ data_no_grupo[['CEDULA_COD', 'SALARIO', 'ATI_CJ_M1', 'INDICE']],\n",
    "                                  pd.DataFrame( data1 ), \n",
    "                                  data_no[['CEDULA_COD', 'SALARIO', 'ATI_CJ_M1', 'INDICE']] ], axis=0)\n",
    "    \n",
    "        data_jerar = data_jerar.sort_values( by=[\"INDICE\"], ascending=[ True ] )\n",
    "        data_jerar = data_jerar.reindex(data_l.index)\n",
    "        \n",
    "        data_l['ATI_CJ_M1'] = data_jerar['ATI_CJ_M1']\n",
    "        \n",
    "    if (k==2):\n",
    "        data_si = data\n",
    "        print('data_si', data_si.shape) \n",
    "        \n",
    "        data_si_dic = data_si.groupby('CEDULA_COD').agg({'SALARIO': list, 'INDICE': list}).to_dict(orient='index')\n",
    "        data_val_ati = cluster_jerarquico( data_si_dic )\n",
    "        data1 = extend_data( data_val_ati )\n",
    "        \n",
    "        data_jerar = None\n",
    "        data_jerar = pd.concat( [ data_no_grupo[['CEDULA_COD', 'SALARIO', 'ATI_CJ_M2', 'INDICE']],\n",
    "                                  pd.DataFrame( data1 ) ], axis=0)\n",
    "    \n",
    "        data_jerar = data_jerar.sort_values( by=[\"INDICE\"], ascending=[ True ] )\n",
    "        data_jerar = data_jerar.reindex(data_l.index)\n",
    "        \n",
    "        data_l['ATI_CJ_M2'] = data_jerar['ATI_CJ_M2']\n",
    "        \n",
    "    if (k==3):\n",
    "        data_si = data[  ( ( data['ANIO'] >= 2000 )) ] \n",
    "        data_no = data[ ~( ( data['ANIO'] >= 2000 )) ]       \n",
    "        data_no['ATI_CJ_M3'] = np.nan\n",
    "        print('data_si', data_si.shape) \n",
    "        print('data_no',data_no.shape)\n",
    "        \n",
    "        data_si_dic = data_si.groupby('CEDULA_COD').agg({'SALARIO': list, 'INDICE': list}).to_dict(orient='index')\n",
    "        data_no_dic = data_no.groupby('CEDULA_COD').agg({'SALARIO': list, 'INDICE': list}).to_dict(orient='index')\n",
    "        \n",
    "        data_val_ati = cluster_jerarquico( data_si_dic )\n",
    "        data1 = extend_data( data_val_ati )\n",
    "        \n",
    "        data_jerar = None\n",
    "        data_jerar = pd.concat( [ data_no_grupo[['CEDULA_COD', 'SALARIO', 'ATI_CJ_M3', 'INDICE']],\n",
    "                                  pd.DataFrame( data1 ), \n",
    "                                  data_no[['CEDULA_COD', 'SALARIO', 'ATI_CJ_M3', 'INDICE']] ], axis=0)\n",
    "    \n",
    "        data_jerar = data_jerar.sort_values( by=[\"INDICE\"], ascending=[ True ] )\n",
    "        data_jerar = data_jerar.reindex(data_l.index)\n",
    "        \n",
    "        data_l['ATI_CJ_M3'] = data_jerar['ATI_CJ_M3']"
   ]
  },
  {
   "cell_type": "code",
   "execution_count": 6,
   "id": "c9235766",
   "metadata": {
    "ExecuteTime": {
     "end_time": "2024-07-23T20:22:53.630085Z",
     "start_time": "2024-07-23T20:22:53.625669Z"
    }
   },
   "outputs": [
    {
     "name": "stdout",
     "output_type": "stream",
     "text": [
      "data_l (62130167, 16)\n",
      "data_no_grupo (35658051, 17)\n",
      "data (26472116, 16)\n",
      "data_si (26006294, 16)\n",
      "data_no (465822, 17)\n"
     ]
    }
   ],
   "source": [
    "print('data_l', data_l.shape)  #(62130167, 16)\n",
    "print('data_no_grupo', data_no_grupo.shape)  #(35658051, 16)\n",
    "\n",
    "#print(data_l[ (data_l['GRUPO_SEL']==0)].shape)  #(35658051, 16)\n",
    "#print(data_l[ (data_l['GRUPO_SEL']==1)].shape)  #(26472116, 16)   #35658051+26472116=62130167\n",
    "\n",
    "print('data', data.shape) #((26472116, 16)\n",
    "print('data_si', data_si.shape) #(26006294, 16)\n",
    "print('data_no',data_no.shape)  #(465822, 16)"
   ]
  },
  {
   "cell_type": "code",
   "execution_count": null,
   "id": "dd088cd4",
   "metadata": {},
   "outputs": [],
   "source": [
    "26006294+465822"
   ]
  },
  {
   "cell_type": "code",
   "execution_count": 7,
   "id": "4115c310",
   "metadata": {
    "ExecuteTime": {
     "end_time": "2024-07-23T20:23:05.658789Z",
     "start_time": "2024-07-23T20:23:04.841352Z"
    }
   },
   "outputs": [
    {
     "data": {
      "text/plain": [
       "24"
      ]
     },
     "execution_count": 7,
     "metadata": {},
     "output_type": "execute_result"
    }
   ],
   "source": [
    "del data\n",
    "gc.collect()"
   ]
  },
  {
   "cell_type": "code",
   "execution_count": null,
   "id": "c781fd34",
   "metadata": {
    "ExecuteTime": {
     "end_time": "2024-07-16T17:34:30.991512Z",
     "start_time": "2024-07-16T17:34:30.935873Z"
    }
   },
   "outputs": [],
   "source": [
    "data_si[data_si['CEDULA_COD']==188869]"
   ]
  },
  {
   "cell_type": "code",
   "execution_count": 8,
   "id": "e7b2deda",
   "metadata": {
    "ExecuteTime": {
     "end_time": "2024-07-23T20:23:44.614555Z",
     "start_time": "2024-07-23T20:23:12.729614Z"
    }
   },
   "outputs": [],
   "source": [
    "inicio = time.time()\n",
    "data_si_dic = data_si.groupby('CEDULA_COD').agg({'SALARIO': list, 'INDICE': list}).to_dict(orient='index')\n",
    "data_no_dic = data_no.groupby('CEDULA_COD').agg({'SALARIO': list, 'INDICE': list}).to_dict(orient='index')\n",
    "fin = time.time()  \n",
    "print('Tiempo de ejecución es: ',  (fin-inicio)//3600, ' horas con ' ,  (fin-inicio)%3600//60 , ' minutos y', (fin-inicio)%60, ' segundos' )"
   ]
  },
  {
   "cell_type": "code",
   "execution_count": null,
   "id": "7baa127e",
   "metadata": {},
   "outputs": [],
   "source": [
    "#Para ejecutar el cluster jerarquico\n",
    "def cluster_jerarquico( data_si_dic ):\n",
    "    inicio = time.time()\n",
    "    data_val_ati = {}\n",
    "    for cedula in data_si_dic:\n",
    "\n",
    "        if( len( data_si_dic[ cedula ]['SALARIO'] ) > 1 ): #Para formar al menos un cluster\n",
    "\n",
    "            aux = np.array( data_si_dic[ cedula ]['SALARIO'] ).reshape(-1, 1)\n",
    "            Z = linkage( aux , method='single', metric='euclidean')\n",
    "\n",
    "            num_clusters = 2  # Puedes ajustar este valor según tus necesidades\n",
    "            clusters = fcluster(Z, num_clusters, criterion='maxclust')\n",
    "\n",
    "            if( len( np.unique(clusters) ) > 1 ): #Para considerar al menos 2 cluster\n",
    "                # Calcular el centroide de cada clúster\n",
    "                cluster_centers = np.array([[ np.nanmean(aux[clusters == i], axis=0)[0], i ] for i in range(1, num_clusters + 1)] ) \n",
    "\n",
    "                Q1 = np.quantile(aux, 0.25)\n",
    "                Q3 = np.quantile(aux, 0.75)\n",
    "                IQR = Q3-Q1\n",
    "                LI = Q1 - 1.5 * IQR\n",
    "                LS = Q3 + 1.5 * IQR\n",
    "\n",
    "                cl_at = np.where( cluster_centers[:,0] > (LS +  1e-8) )[0]\n",
    "                cluster_centers[cl_at][:, 1]\n",
    "\n",
    "                mod_aux = np.zeros((len(aux), 2))\n",
    "                mod_aux[:, 0] = aux[:, 0]  # Copiar los valores originales de aux en la primera columna\n",
    "                mod_aux[np.isin(clusters, cluster_centers[cl_at][:, 1]), 1] = 1  # Asignar 1 en la segunda columna donde el cluster es 1\n",
    "                mod_aux\n",
    "\n",
    "                data_val_ati[cedula] = {'SALARIO': mod_aux[:, 0].tolist(),\n",
    "                                        'ATI_CJ_M1': mod_aux[:, 1].tolist(),\n",
    "                                        'INDICE' : data_si_dic[ cedula ]['INDICE']}\n",
    "            else:\n",
    "                data_val_ati[cedula] = { 'SALARIO': aux.flatten().tolist(),\n",
    "                                         'ATI_CJ_M1':  [-1] * len(aux),\n",
    "                                         'INDICE' : data_si_dic[ cedula ]['INDICE']} \n",
    "\n",
    "        else:\n",
    "            data_val_ati[cedula] = { 'SALARIO': data_si_dic[ cedula ]['SALARIO'],\n",
    "                                     'ATI_CJ_M1':  [-1] * len( data_si_dic[ cedula ]['SALARIO'] ),\n",
    "                                     'INDICE' : data_si_dic[ cedula ]['INDICE']}\n",
    "    fin = time.time()  \n",
    "    print('Tiempo de ejecución es: ',  (fin-inicio)//3600, ' horas con ' ,  (fin-inicio)%3600//60 , ' minutos y', (fin-inicio)%60, ' segundos' )\n",
    "    \n",
    "    return data_val_ati\n",
    " \n",
    "#Para unir los resultados\n",
    "def extend_data( data_val_ati ):\n",
    "    inicio = time.time()\n",
    "    data1 = { 'CEDULA_COD': [], 'SALARIO': [], 'ATI_CJ_M1': [], 'INDICE':[]}\n",
    "\n",
    "    # Llenar las listas con los datos del diccionario\n",
    "    for cedula, values in data_val_ati.items():\n",
    "        salario = values['SALARIO']\n",
    "        atipico = values['ATI_CJ_M1']\n",
    "        indice = values['INDICE']\n",
    "        num_rows = len(salario)\n",
    "\n",
    "        # Extender las listas en el diccionario de datos\n",
    "        data1['CEDULA_COD'].extend([cedula] * num_rows)\n",
    "        data1['SALARIO'].extend(salario)\n",
    "        data1['ATI_CJ_M1'].extend(atipico)\n",
    "        data1['INDICE'].extend(indice)\n",
    "\n",
    "    fin = time.time()  \n",
    "    print('Tiempo de ejecución es: ',  (fin-inicio)//3600, ' horas con ' ,  (fin-inicio)%3600//60 , ' minutos y', (fin-inicio)%60, ' segundos' )\n",
    "    return data1"
   ]
  },
  {
   "cell_type": "code",
   "execution_count": 9,
   "id": "f1b069c8",
   "metadata": {
    "ExecuteTime": {
     "end_time": "2024-07-23T20:28:18.746308Z",
     "start_time": "2024-07-23T20:23:53.771140Z"
    }
   },
   "outputs": [
    {
     "name": "stdout",
     "output_type": "stream",
     "text": [
      "Tiempo de ejecución es:  0.0  horas con  4.0  minutos y 24.964767456054688  segundos\n"
     ]
    }
   ],
   "source": [
    "#Algoritmo jerarquico\n",
    "inicio = time.time()\n",
    "data_val_ati = {}\n",
    "\n",
    "for cedula in data_si_dic:\n",
    "    \n",
    "    if( len( data_si_dic[ cedula ]['SALARIO'] ) > 1 ): #Para formar al menos un cluster\n",
    "        \n",
    "        aux = np.array( data_si_dic[ cedula ]['SALARIO'] ).reshape(-1, 1)\n",
    "        Z = linkage( aux , method='single', metric='euclidean')\n",
    "\n",
    "        num_clusters = 2  # Puedes ajustar este valor según tus necesidades\n",
    "        clusters = fcluster(Z, num_clusters, criterion='maxclust')\n",
    "\n",
    "        if( len( np.unique(clusters) ) > 1 ): #Para considerar al menos 2 cluster\n",
    "            # Calcular el centroide de cada clúster\n",
    "            cluster_centers = np.array([[ np.nanmean(aux[clusters == i], axis=0)[0], i ] for i in range(1, num_clusters + 1)] ) \n",
    "                    \n",
    "            Q1 = np.quantile(aux, 0.25)\n",
    "            Q3 = np.quantile(aux, 0.75)\n",
    "            IQR = Q3-Q1\n",
    "            LI = Q1 - 1.5 * IQR\n",
    "            LS = Q3 + 1.5 * IQR\n",
    "\n",
    "            cl_at = np.where( cluster_centers[:,0] > (LS +  1e-8) )[0]\n",
    "            cluster_centers[cl_at][:, 1]\n",
    "\n",
    "            mod_aux = np.zeros((len(aux), 2))\n",
    "            mod_aux[:, 0] = aux[:, 0]  # Copiar los valores originales de aux en la primera columna\n",
    "            mod_aux[np.isin(clusters, cluster_centers[cl_at][:, 1]), 1] = 1  # Asignar 1 en la segunda columna donde el cluster es 1\n",
    "            mod_aux\n",
    "\n",
    "            data_val_ati[cedula] = {'SALARIO': mod_aux[:, 0].tolist(),\n",
    "                                    'ATI_CJ_M1': mod_aux[:, 1].tolist(),\n",
    "                                    'INDICE' : data_si_dic[ cedula ]['INDICE']}\n",
    "        else:\n",
    "            data_val_ati[cedula] = { 'SALARIO': aux.flatten().tolist(),\n",
    "                                     'ATI_CJ_M1':  [-1] * len(aux),\n",
    "                                     'INDICE' : data_si_dic[ cedula ]['INDICE']} \n",
    "            \n",
    "    else:\n",
    "        data_val_ati[cedula] = { 'SALARIO': data_si_dic[ cedula ]['SALARIO'],\n",
    "                                 'ATI_CJ_M1':  [-1] * len( data_si_dic[ cedula ]['SALARIO'] ),\n",
    "                                 'INDICE' : data_si_dic[ cedula ]['INDICE']}\n",
    "fin = time.time()  \n",
    "print('Tiempo de ejecución es: ',  (fin-inicio)//3600, ' horas con ' ,  (fin-inicio)%3600//60 , ' minutos y', (fin-inicio)%60, ' segundos' )"
   ]
  },
  {
   "cell_type": "code",
   "execution_count": 10,
   "id": "adf274c7",
   "metadata": {
    "ExecuteTime": {
     "end_time": "2024-07-23T21:07:10.416840Z",
     "start_time": "2024-07-23T20:29:37.449375Z"
    }
   },
   "outputs": [
    {
     "ename": "KeyboardInterrupt",
     "evalue": "",
     "output_type": "error",
     "traceback": [
      "\u001b[1;31m---------------------------------------------------------------------------\u001b[0m",
      "\u001b[1;31mKeyboardInterrupt\u001b[0m                         Traceback (most recent call last)",
      "    \u001b[1;31m[... skipping hidden 1 frame]\u001b[0m\n",
      "Cell \u001b[1;32mIn[10], line 21\u001b[0m\n\u001b[0;32m     20\u001b[0m data_jerar \u001b[38;5;241m=\u001b[39m data_jerar\u001b[38;5;241m.\u001b[39msort_values( by\u001b[38;5;241m=\u001b[39m[\u001b[38;5;124m\"\u001b[39m\u001b[38;5;124mINDICE\u001b[39m\u001b[38;5;124m\"\u001b[39m], ascending\u001b[38;5;241m=\u001b[39m[ \u001b[38;5;28;01mTrue\u001b[39;00m ] )\n\u001b[1;32m---> 21\u001b[0m data_jerar \u001b[38;5;241m=\u001b[39m data_jerar\u001b[38;5;241m.\u001b[39mreindex(data_l\u001b[38;5;241m.\u001b[39mindex)\n\u001b[0;32m     22\u001b[0m fin \u001b[38;5;241m=\u001b[39m time\u001b[38;5;241m.\u001b[39mtime()  \n",
      "File \u001b[1;32mC:\\ProgramData\\anaconda3\\Lib\\site-packages\\pandas\\util\\_decorators.py:347\u001b[0m, in \u001b[0;36mrewrite_axis_style_signature.<locals>.decorate.<locals>.wrapper\u001b[1;34m(*args, **kwargs)\u001b[0m\n\u001b[0;32m    345\u001b[0m \u001b[38;5;129m@wraps\u001b[39m(func)\n\u001b[0;32m    346\u001b[0m \u001b[38;5;28;01mdef\u001b[39;00m \u001b[38;5;21mwrapper\u001b[39m(\u001b[38;5;241m*\u001b[39margs, \u001b[38;5;241m*\u001b[39m\u001b[38;5;241m*\u001b[39mkwargs) \u001b[38;5;241m-\u001b[39m\u001b[38;5;241m>\u001b[39m Callable[\u001b[38;5;241m.\u001b[39m\u001b[38;5;241m.\u001b[39m\u001b[38;5;241m.\u001b[39m, Any]:\n\u001b[1;32m--> 347\u001b[0m     \u001b[38;5;28;01mreturn\u001b[39;00m func(\u001b[38;5;241m*\u001b[39margs, \u001b[38;5;241m*\u001b[39m\u001b[38;5;241m*\u001b[39mkwargs)\n",
      "File \u001b[1;32mC:\\ProgramData\\anaconda3\\Lib\\site-packages\\pandas\\core\\frame.py:5205\u001b[0m, in \u001b[0;36mDataFrame.reindex\u001b[1;34m(self, *args, **kwargs)\u001b[0m\n\u001b[0;32m   5204\u001b[0m kwargs\u001b[38;5;241m.\u001b[39mpop(\u001b[38;5;124m\"\u001b[39m\u001b[38;5;124mlabels\u001b[39m\u001b[38;5;124m\"\u001b[39m, \u001b[38;5;28;01mNone\u001b[39;00m)\n\u001b[1;32m-> 5205\u001b[0m \u001b[38;5;28;01mreturn\u001b[39;00m \u001b[38;5;28msuper\u001b[39m()\u001b[38;5;241m.\u001b[39mreindex(\u001b[38;5;241m*\u001b[39m\u001b[38;5;241m*\u001b[39mkwargs)\n",
      "File \u001b[1;32mC:\\ProgramData\\anaconda3\\Lib\\site-packages\\pandas\\core\\generic.py:5289\u001b[0m, in \u001b[0;36mNDFrame.reindex\u001b[1;34m(self, *args, **kwargs)\u001b[0m\n\u001b[0;32m   5288\u001b[0m \u001b[38;5;66;03m# perform the reindex on the axes\u001b[39;00m\n\u001b[1;32m-> 5289\u001b[0m \u001b[38;5;28;01mreturn\u001b[39;00m \u001b[38;5;28mself\u001b[39m\u001b[38;5;241m.\u001b[39m_reindex_axes(\n\u001b[0;32m   5290\u001b[0m     axes, level, limit, tolerance, method, fill_value, copy\n\u001b[0;32m   5291\u001b[0m )\u001b[38;5;241m.\u001b[39m__finalize__(\u001b[38;5;28mself\u001b[39m, method\u001b[38;5;241m=\u001b[39m\u001b[38;5;124m\"\u001b[39m\u001b[38;5;124mreindex\u001b[39m\u001b[38;5;124m\"\u001b[39m)\n",
      "File \u001b[1;32mC:\\ProgramData\\anaconda3\\Lib\\site-packages\\pandas\\core\\frame.py:5004\u001b[0m, in \u001b[0;36mDataFrame._reindex_axes\u001b[1;34m(self, axes, level, limit, tolerance, method, fill_value, copy)\u001b[0m\n\u001b[0;32m   5003\u001b[0m \u001b[38;5;28;01mif\u001b[39;00m index \u001b[38;5;129;01mis\u001b[39;00m \u001b[38;5;129;01mnot\u001b[39;00m \u001b[38;5;28;01mNone\u001b[39;00m:\n\u001b[1;32m-> 5004\u001b[0m     frame \u001b[38;5;241m=\u001b[39m frame\u001b[38;5;241m.\u001b[39m_reindex_index(\n\u001b[0;32m   5005\u001b[0m         index, method, copy, level, fill_value, limit, tolerance\n\u001b[0;32m   5006\u001b[0m     )\n\u001b[0;32m   5008\u001b[0m \u001b[38;5;28;01mreturn\u001b[39;00m frame\n",
      "File \u001b[1;32mC:\\ProgramData\\anaconda3\\Lib\\site-packages\\pandas\\core\\frame.py:5020\u001b[0m, in \u001b[0;36mDataFrame._reindex_index\u001b[1;34m(self, new_index, method, copy, level, fill_value, limit, tolerance)\u001b[0m\n\u001b[0;32m   5010\u001b[0m \u001b[38;5;28;01mdef\u001b[39;00m \u001b[38;5;21m_reindex_index\u001b[39m(\n\u001b[0;32m   5011\u001b[0m     \u001b[38;5;28mself\u001b[39m,\n\u001b[0;32m   5012\u001b[0m     new_index,\n\u001b[1;32m   (...)\u001b[0m\n\u001b[0;32m   5018\u001b[0m     tolerance\u001b[38;5;241m=\u001b[39m\u001b[38;5;28;01mNone\u001b[39;00m,\n\u001b[0;32m   5019\u001b[0m ):\n\u001b[1;32m-> 5020\u001b[0m     new_index, indexer \u001b[38;5;241m=\u001b[39m \u001b[38;5;28mself\u001b[39m\u001b[38;5;241m.\u001b[39mindex\u001b[38;5;241m.\u001b[39mreindex(\n\u001b[0;32m   5021\u001b[0m         new_index, method\u001b[38;5;241m=\u001b[39mmethod, level\u001b[38;5;241m=\u001b[39mlevel, limit\u001b[38;5;241m=\u001b[39mlimit, tolerance\u001b[38;5;241m=\u001b[39mtolerance\n\u001b[0;32m   5022\u001b[0m     )\n\u001b[0;32m   5023\u001b[0m     \u001b[38;5;28;01mreturn\u001b[39;00m \u001b[38;5;28mself\u001b[39m\u001b[38;5;241m.\u001b[39m_reindex_with_indexers(\n\u001b[0;32m   5024\u001b[0m         {\u001b[38;5;241m0\u001b[39m: [new_index, indexer]},\n\u001b[0;32m   5025\u001b[0m         copy\u001b[38;5;241m=\u001b[39mcopy,\n\u001b[0;32m   5026\u001b[0m         fill_value\u001b[38;5;241m=\u001b[39mfill_value,\n\u001b[0;32m   5027\u001b[0m         allow_dups\u001b[38;5;241m=\u001b[39m\u001b[38;5;28;01mFalse\u001b[39;00m,\n\u001b[0;32m   5028\u001b[0m     )\n",
      "File \u001b[1;32mC:\\ProgramData\\anaconda3\\Lib\\site-packages\\pandas\\core\\indexes\\base.py:4423\u001b[0m, in \u001b[0;36mIndex.reindex\u001b[1;34m(self, target, method, level, limit, tolerance)\u001b[0m\n\u001b[0;32m   4419\u001b[0m         \u001b[38;5;28;01mraise\u001b[39;00m \u001b[38;5;167;01mValueError\u001b[39;00m(\n\u001b[0;32m   4420\u001b[0m             \u001b[38;5;124m\"\u001b[39m\u001b[38;5;124mcannot reindex a non-unique index \u001b[39m\u001b[38;5;124m\"\u001b[39m\n\u001b[0;32m   4421\u001b[0m             \u001b[38;5;124m\"\u001b[39m\u001b[38;5;124mwith a method or limit\u001b[39m\u001b[38;5;124m\"\u001b[39m\n\u001b[0;32m   4422\u001b[0m         )\n\u001b[1;32m-> 4423\u001b[0m     indexer, _ \u001b[38;5;241m=\u001b[39m \u001b[38;5;28mself\u001b[39m\u001b[38;5;241m.\u001b[39mget_indexer_non_unique(target)\n\u001b[0;32m   4425\u001b[0m \u001b[38;5;28;01mif\u001b[39;00m \u001b[38;5;129;01mnot\u001b[39;00m \u001b[38;5;28mself\u001b[39m\u001b[38;5;241m.\u001b[39mis_unique:\n\u001b[0;32m   4426\u001b[0m     \u001b[38;5;66;03m# GH#42568\u001b[39;00m\n",
      "File \u001b[1;32mC:\\ProgramData\\anaconda3\\Lib\\site-packages\\pandas\\core\\indexes\\base.py:6029\u001b[0m, in \u001b[0;36mIndex.get_indexer_non_unique\u001b[1;34m(self, target)\u001b[0m\n\u001b[0;32m   6027\u001b[0m     tgt_values \u001b[38;5;241m=\u001b[39m engine\u001b[38;5;241m.\u001b[39m_extract_level_codes(target)  \u001b[38;5;66;03m# type: ignore[union-attr]\u001b[39;00m\n\u001b[1;32m-> 6029\u001b[0m indexer, missing \u001b[38;5;241m=\u001b[39m \u001b[38;5;28mself\u001b[39m\u001b[38;5;241m.\u001b[39m_engine\u001b[38;5;241m.\u001b[39mget_indexer_non_unique(tgt_values)\n\u001b[0;32m   6030\u001b[0m \u001b[38;5;28;01mreturn\u001b[39;00m ensure_platform_int(indexer), ensure_platform_int(missing)\n",
      "File \u001b[1;32mC:\\ProgramData\\anaconda3\\Lib\\site-packages\\pandas\\_libs\\index.pyx:437\u001b[0m, in \u001b[0;36mpandas._libs.index.IndexEngine.get_indexer_non_unique\u001b[1;34m()\u001b[0m\n",
      "File \u001b[1;32m<__array_function__ internals>:200\u001b[0m, in \u001b[0;36mresize\u001b[1;34m(*args, **kwargs)\u001b[0m\n",
      "File \u001b[1;32mC:\\ProgramData\\anaconda3\\Lib\\site-packages\\numpy\\core\\fromnumeric.py:1495\u001b[0m, in \u001b[0;36mresize\u001b[1;34m(a, new_shape)\u001b[0m\n\u001b[0;32m   1494\u001b[0m repeats \u001b[38;5;241m=\u001b[39m \u001b[38;5;241m-\u001b[39m(\u001b[38;5;241m-\u001b[39mnew_size \u001b[38;5;241m/\u001b[39m\u001b[38;5;241m/\u001b[39m a\u001b[38;5;241m.\u001b[39msize)  \u001b[38;5;66;03m# ceil division\u001b[39;00m\n\u001b[1;32m-> 1495\u001b[0m a \u001b[38;5;241m=\u001b[39m concatenate((a,) \u001b[38;5;241m*\u001b[39m repeats)[:new_size]\n\u001b[0;32m   1497\u001b[0m \u001b[38;5;28;01mreturn\u001b[39;00m reshape(a, new_shape)\n",
      "File \u001b[1;32m<__array_function__ internals>:200\u001b[0m, in \u001b[0;36mconcatenate\u001b[1;34m(*args, **kwargs)\u001b[0m\n",
      "\u001b[1;31mKeyboardInterrupt\u001b[0m: ",
      "\nDuring handling of the above exception, another exception occurred:\n",
      "\u001b[1;31mKeyboardInterrupt\u001b[0m                         Traceback (most recent call last)",
      "    \u001b[1;31m[... skipping hidden 1 frame]\u001b[0m\n",
      "File \u001b[1;32mC:\\ProgramData\\anaconda3\\Lib\\site-packages\\IPython\\core\\interactiveshell.py:2062\u001b[0m, in \u001b[0;36mInteractiveShell.showtraceback\u001b[1;34m(self, exc_tuple, filename, tb_offset, exception_only, running_compiled_code)\u001b[0m\n\u001b[0;32m   2059\u001b[0m     msg \u001b[38;5;241m=\u001b[39m traceback\u001b[38;5;241m.\u001b[39mformat_exception_only(etype, value)\n\u001b[0;32m   2060\u001b[0m     \u001b[38;5;28;01mreturn\u001b[39;00m \u001b[38;5;124m'\u001b[39m\u001b[38;5;124m'\u001b[39m\u001b[38;5;241m.\u001b[39mjoin(msg)\n\u001b[1;32m-> 2062\u001b[0m \u001b[38;5;28;01mdef\u001b[39;00m \u001b[38;5;21mshowtraceback\u001b[39m(\u001b[38;5;28mself\u001b[39m, exc_tuple\u001b[38;5;241m=\u001b[39m\u001b[38;5;28;01mNone\u001b[39;00m, filename\u001b[38;5;241m=\u001b[39m\u001b[38;5;28;01mNone\u001b[39;00m, tb_offset\u001b[38;5;241m=\u001b[39m\u001b[38;5;28;01mNone\u001b[39;00m,\n\u001b[0;32m   2063\u001b[0m                   exception_only\u001b[38;5;241m=\u001b[39m\u001b[38;5;28;01mFalse\u001b[39;00m, running_compiled_code\u001b[38;5;241m=\u001b[39m\u001b[38;5;28;01mFalse\u001b[39;00m):\n\u001b[0;32m   2064\u001b[0m \u001b[38;5;250m    \u001b[39m\u001b[38;5;124;03m\"\"\"Display the exception that just occurred.\u001b[39;00m\n\u001b[0;32m   2065\u001b[0m \n\u001b[0;32m   2066\u001b[0m \u001b[38;5;124;03m    If nothing is known about the exception, this is the method which\u001b[39;00m\n\u001b[1;32m   (...)\u001b[0m\n\u001b[0;32m   2072\u001b[0m \u001b[38;5;124;03m    SyntaxError exception, don't try to analyze the stack manually and\u001b[39;00m\n\u001b[0;32m   2073\u001b[0m \u001b[38;5;124;03m    simply call this method.\"\"\"\u001b[39;00m\n\u001b[0;32m   2075\u001b[0m     \u001b[38;5;28;01mtry\u001b[39;00m:\n",
      "\u001b[1;31mKeyboardInterrupt\u001b[0m: "
     ]
    }
   ],
   "source": [
    "inicio = time.time()\n",
    "data1 = { 'CEDULA_COD': [], 'SALARIO': [], 'ATI_CJ_M1': [], 'INDICE':[]}\n",
    "\n",
    "# Llenar las listas con los datos del diccionario\n",
    "for cedula, values in data_val_ati.items():\n",
    "    salario = values['SALARIO']\n",
    "    atipico = values['ATI_CJ_M1']\n",
    "    indice = values['INDICE']\n",
    "    num_rows = len(salario)\n",
    "    \n",
    "    # Extender las listas en el diccionario de datos\n",
    "    data1['CEDULA_COD'].extend([cedula] * num_rows)\n",
    "    data1['SALARIO'].extend(salario)\n",
    "    data1['ATI_CJ_M1'].extend(atipico)\n",
    "    data1['INDICE'].extend(indice)\n",
    "\n",
    "data_jerar = pd.concat( [ data_no_grupo[['CEDULA_COD', 'SALARIO', 'ATI_CJ_M1', 'INDICE']],\n",
    "                          pd.DataFrame( data1 ), \n",
    "                          data_no[['CEDULA_COD', 'SALARIO', 'ATI_CJ_M1', 'INDICE']] ], axis=0)\n",
    "data_jerar = data_jerar.sort_values( by=[\"INDICE\"], ascending=[ True ] )\n",
    "data_jerar = data_jerar.reindex(data_l.index)\n",
    "fin = time.time()  \n",
    "print('Tiempo de ejecución es: ',  (fin-inicio)//3600, ' horas con ' ,  (fin-inicio)%3600//60 , ' minutos y', (fin-inicio)%60, ' segundos' )\n",
    "data_jerar"
   ]
  },
  {
   "cell_type": "code",
   "execution_count": null,
   "id": "31971ec4",
   "metadata": {
    "ExecuteTime": {
     "start_time": "2024-07-23T19:46:49.356Z"
    }
   },
   "outputs": [],
   "source": [
    "print(data_jerar.shape) #(62130167, 4)\n",
    "print(data_l.shape)     #(62130167, 16)"
   ]
  },
  {
   "cell_type": "code",
   "execution_count": null,
   "id": "62026e2b",
   "metadata": {
    "ExecuteTime": {
     "start_time": "2024-07-23T19:46:55.293Z"
    }
   },
   "outputs": [],
   "source": [
    "data_l"
   ]
  },
  {
   "cell_type": "code",
   "execution_count": null,
   "id": "2e4c7b50",
   "metadata": {
    "ExecuteTime": {
     "start_time": "2024-07-23T19:46:57.084Z"
    }
   },
   "outputs": [],
   "source": [
    "data_jerar"
   ]
  },
  {
   "cell_type": "code",
   "execution_count": null,
   "id": "7ba35a81",
   "metadata": {
    "ExecuteTime": {
     "start_time": "2024-07-23T19:50:58.699Z"
    }
   },
   "outputs": [],
   "source": [
    "inicio = time.time()\n",
    "data_l['ATI_CJ_M1'] = data_jerar['ATI_CJ_M1']\n",
    "fin = time.time()  \n",
    "print('Tiempo de ejecución es: ',  (fin-inicio)//3600, ' horas con ' ,  (fin-inicio)%3600//60 , ' minutos y', (fin-inicio)%60, ' segundos' )"
   ]
  },
  {
   "cell_type": "code",
   "execution_count": null,
   "id": "b577be82",
   "metadata": {
    "ExecuteTime": {
     "start_time": "2024-07-23T17:20:27.271Z"
    }
   },
   "outputs": [],
   "source": [
    "data_l"
   ]
  },
  {
   "cell_type": "code",
   "execution_count": null,
   "id": "227ab3e6",
   "metadata": {},
   "outputs": [],
   "source": [
    "data_l = pd.concat( [ data_l, data_jerar['ATI_CJ_M1'] ], axis = 1 )"
   ]
  },
  {
   "cell_type": "code",
   "execution_count": null,
   "id": "03d00f12",
   "metadata": {
    "ExecuteTime": {
     "end_time": "2024-07-19T16:16:16.201404Z",
     "start_time": "2024-07-19T16:16:16.196115Z"
    }
   },
   "outputs": [],
   "source": [
    "del data1, data_val_ati\n",
    "gc.collect()"
   ]
  },
  {
   "cell_type": "code",
   "execution_count": null,
   "id": "aed5ecd6",
   "metadata": {
    "ExecuteTime": {
     "end_time": "2024-07-16T19:47:15.693726Z",
     "start_time": "2024-07-16T19:47:15.413843Z"
    }
   },
   "outputs": [],
   "source": [
    "plt.figure(figsize=(10, 6))\n",
    "plt.plot(data_dic[2778], marker='o', linestyle='-', color='b', label='Salarios')  # Graficar como línea con puntos\n",
    "plt.title('Distribución de Salarios')\n",
    "plt.xlabel('Índice')\n",
    "plt.ylabel('Salario')\n",
    "plt.grid(True)\n",
    "plt.legend()\n",
    "plt.tight_layout()\n",
    "\n",
    "# Mostrar el gráfico\n",
    "plt.show()\n"
   ]
  },
  {
   "cell_type": "code",
   "execution_count": null,
   "id": "3a7305fc",
   "metadata": {
    "ExecuteTime": {
     "end_time": "2024-07-16T19:33:22.242508Z",
     "start_time": "2024-07-16T19:33:22.236917Z"
    }
   },
   "outputs": [],
   "source": [
    "len(a)"
   ]
  },
  {
   "cell_type": "code",
   "execution_count": null,
   "id": "f15b609c",
   "metadata": {
    "ExecuteTime": {
     "end_time": "2024-07-16T19:37:41.838182Z",
     "start_time": "2024-07-16T19:37:41.831440Z"
    }
   },
   "outputs": [],
   "source": [
    "aux"
   ]
  },
  {
   "cell_type": "code",
   "execution_count": null,
   "id": "b80f34e9",
   "metadata": {
    "ExecuteTime": {
     "end_time": "2024-07-16T17:15:36.834469Z",
     "start_time": "2024-07-16T17:15:36.827382Z"
    }
   },
   "outputs": [],
   "source": [
    "import numpy as np\n",
    "\n",
    "# Ejemplo de datos auxiliares y clusters\n",
    "aux = np.array([\n",
    "    [161.67], [161.67], [161.67],\n",
    "    [170.], [170.], [200.], [200.], [250.]\n",
    "])\n",
    "\n",
    "clusters = np.array([\n",
    "    2, 2, 2,\n",
    "    1, 1, 1, 1, 1\n",
    "], dtype=np.int32)\n",
    "\n",
    "# Crear un array modificado según los clusters\n",
    "modified_aux = np.zeros((len(aux), 2))\n",
    "modified_aux[:, 0] = aux[:, 0]  # Copiar los valores originales de aux en la primera columna\n",
    "modified_aux[clusters == 1, 1] = 1  # Asignar 1 en la segunda columna donde el cluster es 1\n",
    "\n",
    "print(\"Array modificado:\")\n",
    "print(modified_aux)"
   ]
  },
  {
   "cell_type": "code",
   "execution_count": null,
   "id": "1f963e02",
   "metadata": {
    "ExecuteTime": {
     "end_time": "2024-07-16T15:23:33.305515Z",
     "start_time": "2024-07-16T15:23:32.634459Z"
    }
   },
   "outputs": [],
   "source": [
    "plt.figure(figsize=(25, 10))\n",
    "plt.title('Dendrograma')\n",
    "plt.xlabel('índice de la muestra')\n",
    "plt.ylabel('distancia')\n",
    "dendrogram(\n",
    "    Z,\n",
    "    leaf_rotation=90.,  # rotates the x axis labels\n",
    "    leaf_font_size=8.,  # font size for the x axis labels\n",
    ")\n",
    "plt.show()"
   ]
  },
  {
   "cell_type": "code",
   "execution_count": null,
   "id": "b6171742",
   "metadata": {
    "ExecuteTime": {
     "end_time": "2024-07-16T15:26:47.396474Z",
     "start_time": "2024-07-16T15:26:47.389685Z"
    }
   },
   "outputs": [],
   "source": [
    "Z"
   ]
  },
  {
   "cell_type": "code",
   "execution_count": null,
   "id": "b4002f39",
   "metadata": {
    "ExecuteTime": {
     "end_time": "2024-07-16T15:30:12.950795Z",
     "start_time": "2024-07-16T15:30:12.945190Z"
    }
   },
   "outputs": [],
   "source": [
    "#Código para graficar los datos\n",
    "plt.figure(figsize=(25, 10))\n",
    "plt.title('Dendrograma')\n",
    "plt.xlabel('índice de la muestra')\n",
    "plt.ylabel('distancia')\n",
    "dendrogram(\n",
    "    Z,\n",
    "    leaf_rotation=90.,  # rotates the x axis labels\n",
    "    leaf_font_size=8.,  # font size for the x axis labels\n",
    ")\n",
    "plt.show()"
   ]
  },
  {
   "cell_type": "code",
   "execution_count": null,
   "id": "84ff88c8",
   "metadata": {},
   "outputs": [],
   "source": [
    "plt.figure(figsize=(10, 6))\n",
    "plt.plot(data_dic[2778], marker='o', linestyle='-', color='b', label='Salarios')  # Graficar como línea con puntos\n",
    "plt.title('Distribución de Salarios')\n",
    "plt.xlabel('Índice')\n",
    "plt.ylabel('Salario')\n",
    "plt.grid(True)\n",
    "plt.legend()\n",
    "plt.tight_layout()\n",
    "\n",
    "# Mostrar el gráfico\n",
    "plt.show()"
   ]
  }
 ],
 "metadata": {
  "kernelspec": {
   "display_name": "Python 3 (ipykernel)",
   "language": "python",
   "name": "python3"
  },
  "language_info": {
   "codemirror_mode": {
    "name": "ipython",
    "version": 3
   },
   "file_extension": ".py",
   "mimetype": "text/x-python",
   "name": "python",
   "nbconvert_exporter": "python",
   "pygments_lexer": "ipython3",
   "version": "3.11.4"
  },
  "toc": {
   "base_numbering": 1,
   "nav_menu": {},
   "number_sections": true,
   "sideBar": true,
   "skip_h1_title": false,
   "title_cell": "Table of Contents",
   "title_sidebar": "Contents",
   "toc_cell": false,
   "toc_position": {},
   "toc_section_display": true,
   "toc_window_display": false
  }
 },
 "nbformat": 4,
 "nbformat_minor": 5
}

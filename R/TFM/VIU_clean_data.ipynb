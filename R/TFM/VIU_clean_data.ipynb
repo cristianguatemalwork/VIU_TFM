{
 "cells": [
  {
   "cell_type": "code",
   "execution_count": 1,
   "id": "305b533b",
   "metadata": {},
   "outputs": [],
   "source": [
    "#Importación de librearías necesarias\n",
    "import pandas as pd\n",
    "from datetime import datetime\n",
    "import socket\n",
    "import numpy as np\n",
    "import time"
   ]
  },
  {
   "cell_type": "code",
   "execution_count": 2,
   "id": "3ad7f70c",
   "metadata": {},
   "outputs": [],
   "source": [
    "#Path general de archivos\n",
    "if socket.gethostname()=='LAPTOP-PUSGG08B': #Ip de la laptop\n",
    "    ruta = \"E:/Cristian Guatemal/Master/Big Data y Ciencia de Datos/VIU_TFM/Data/TFM/\"\n",
    "elif socket.gethostname()=='PCUIOMTDAIE6382': #Ip del working\n",
    "    ruta = \"C:/Users/cristian.guatemal/Documents/Master/Big_Data_Ciencia_Datos/VIU_TFM/Data/TFM/\"\n",
    "# Ruta del archivo de pensionistas de vejez\n",
    "ruta_vj = ruta + 'POB_VEJ_CD656_NEW.dsv'\n",
    "# Ruta del archivo de historia laboral de pensionistas\n",
    "ruta_afi = ruta + 'APORTES_CD656_new.dsv'"
   ]
  },
  {
   "cell_type": "code",
   "execution_count": 3,
   "id": "28dfb4e5",
   "metadata": {},
   "outputs": [
    {
     "name": "stdout",
     "output_type": "stream",
     "text": [
      "Tiempo de ejecución es:  0.0  horas con  1.0  minutos y 54.736570596694946  segundos\n"
     ]
    }
   ],
   "source": [
    "#Importación de archivos de afiliados\n",
    "inicio = time.time()\n",
    "afi = pd.read_csv( ruta_afi, delimiter='\\t', encoding='iso-8859-1', decimal='.')\n",
    "fin = time.time()  \n",
    "print('Tiempo de ejecución es: ',  (fin-inicio)//3600, ' horas con ' ,  (fin-inicio)%3600//60 , ' minutos y', \n",
    "        (fin-inicio)%60, ' segundos' )"
   ]
  },
  {
   "cell_type": "code",
   "execution_count": 4,
   "id": "c19aaa90",
   "metadata": {},
   "outputs": [
    {
     "name": "stdout",
     "output_type": "stream",
     "text": [
      "Tiempo de ejecución es:  0.0  horas con  0.0  minutos y 16.630993127822876  segundos\n"
     ]
    }
   ],
   "source": [
    "#Agrupamiento por relación de trabajo\n",
    "inicio = time.time()\n",
    "agrupa = [ (afi['SECTOR'].isin(['PRIVADO', 'PASANTE PRIVADO'])), \n",
    "               (afi['SECTOR'].isin(['PUBLICO', 'PASANTE PUBLICO'])), \n",
    "               (afi['SECTOR'].isin(['INDEPENDIENTES', '108-ARTISTA Y GESTOR DE CULTURA', \n",
    "                                     '02-TRABAJ. AUT Y SIN RELAC DEPEN DESDE  2011-12 SOLO AF.VOLUNT  '])),\n",
    "               (afi['SECTOR'].isin(['69-VOLUNTARIO ECUATORIANO DOMICILIADO EN EL EXTERIOR ',\n",
    "                                    '89-AFILIACION DOMICILIADO EN EL EXTERIOR'])),\n",
    "               (afi['SECTOR'] == '90-AFILIACION DOMICILIADO EN EL PAIS / SIN RELACION DEPENDENCIA'),\n",
    "               (afi['SECTOR'] == '06-CODIGO DEL TRABAJO - CT ')\n",
    "            ]\n",
    "            \n",
    "tipo = ['PRI', 'PUB', 'IND', 'VOL_EX', 'VOL_EC', 'COD_TR']\n",
    "\n",
    "afi['SECTOR_A'] = np.select( agrupa, tipo, default=afi['SECTOR'])\n",
    "fin = time.time()  \n",
    "print('Tiempo de ejecución es: ',  (fin-inicio)//3600, ' horas con ' ,  (fin-inicio)%3600//60 , ' minutos y', \n",
    "        (fin-inicio)%60, ' segundos' )"
   ]
  },
  {
   "cell_type": "code",
   "execution_count": 5,
   "id": "8a62a1f0",
   "metadata": {},
   "outputs": [
    {
     "data": {
      "text/plain": [
       "array(['PRIVADO', 'PUBLICO',\n",
       "       '02-TRABAJ. AUT Y SIN RELAC DEPEN DESDE  2011-12 SOLO AF.VOLUNT  ',\n",
       "       'INDEPENDIENTES',\n",
       "       '69-VOLUNTARIO ECUATORIANO DOMICILIADO EN EL EXTERIOR ',\n",
       "       'PASANTE PRIVADO',\n",
       "       '90-AFILIACION DOMICILIADO EN EL PAIS / SIN RELACION DEPENDENCIA',\n",
       "       '89-AFILIACION DOMICILIADO EN EL EXTERIOR', 'PASANTE PUBLICO',\n",
       "       '108-ARTISTA Y GESTOR DE CULTURA', '06-CODIGO DEL TRABAJO - CT '],\n",
       "      dtype=object)"
      ]
     },
     "execution_count": 5,
     "metadata": {},
     "output_type": "execute_result"
    }
   ],
   "source": [
    "afi['SECTOR'].unique()"
   ]
  },
  {
   "cell_type": "code",
   "execution_count": 6,
   "id": "b9d7fce7",
   "metadata": {},
   "outputs": [
    {
     "data": {
      "text/plain": [
       "array(['PRI', 'PUB', 'IND', 'VOL_EX', 'VOL_EC', 'COD_TR'], dtype=object)"
      ]
     },
     "execution_count": 6,
     "metadata": {},
     "output_type": "execute_result"
    }
   ],
   "source": [
    "afi['SECTOR_A'].unique()"
   ]
  },
  {
   "cell_type": "code",
   "execution_count": 7,
   "id": "a03a3ae9",
   "metadata": {},
   "outputs": [
    {
     "data": {
      "text/plain": [
       "(68062270, 13)"
      ]
     },
     "execution_count": 7,
     "metadata": {},
     "output_type": "execute_result"
    }
   ],
   "source": [
    "afi.shape"
   ]
  },
  {
   "cell_type": "code",
   "execution_count": 8,
   "id": "04746277",
   "metadata": {},
   "outputs": [],
   "source": [
    "#Para acceder a las prestaciones de IVM debe tener al menos 5 años de aporte o 60 imposiciones\n",
    "ced_counts = afi['CEDULA_COD'].value_counts()"
   ]
  },
  {
   "cell_type": "code",
   "execution_count": 9,
   "id": "dbad0c44",
   "metadata": {},
   "outputs": [
    {
     "data": {
      "text/plain": [
       "112665"
      ]
     },
     "execution_count": 9,
     "metadata": {},
     "output_type": "execute_result"
    }
   ],
   "source": [
    "# numero de cedulas que tienen menos de 60 imposiciones\n",
    "ced_counts[ced_counts < 60].index.nunique()"
   ]
  },
  {
   "cell_type": "code",
   "execution_count": 10,
   "id": "6165f941",
   "metadata": {},
   "outputs": [
    {
     "name": "stdout",
     "output_type": "stream",
     "text": [
      "Tiempo de ejecución es:  0.0  horas con  0.0  minutos y 28.073200225830078  segundos\n",
      "Tiempo de ejecución es:  0.0  horas con  1.0  minutos y 17.89201283454895  segundos\n",
      "Tiempo de ejecución es:  0.0  horas con  2.0  minutos y 57.444562673568726  segundos\n"
     ]
    },
    {
     "data": {
      "text/plain": [
       "(64756154, 14)"
      ]
     },
     "execution_count": 10,
     "metadata": {},
     "output_type": "execute_result"
    }
   ],
   "source": [
    "#Se filtran a las cedulas con menos de 60 imposicones \n",
    "inicio = time.time()\n",
    "afi_fil = afi[~afi['CEDULA_COD'].isin(ced_counts[ced_counts < 60].index)].copy()\n",
    "fin = time.time()  \n",
    "print('Tiempo de ejecución es: ',  (fin-inicio)//3600, ' horas con ' ,  (fin-inicio)%3600//60 , ' minutos y', (fin-inicio)%60, ' segundos' )\n",
    "\n",
    "#Se crea una variable fecha\n",
    "inicio = time.time()\n",
    "afi_fil.loc[:, 'FECHA'] = pd.to_datetime(afi_fil['ANIO'].astype(str) + '-' + afi_fil['MES'].astype(str).str.zfill(2) + '-01')\n",
    "fin = time.time()  \n",
    "print('Tiempo de ejecución es: ',  (fin-inicio)//3600, ' horas con ' ,  (fin-inicio)%3600//60 , ' minutos y', (fin-inicio)%60, ' segundos' )\n",
    "\n",
    "#Se ordenan los registros\n",
    "inicio = time.time()\n",
    "afi_fil = afi_fil.sort_values( by=[\"CEDULA_COD\",\"ANIO\", \"MES\"], ascending=[True, True, True] )\n",
    "afi_fil.loc[:, 'FECHA'] = pd.to_datetime(afi_fil['ANIO'].astype(str) + '-' + afi_fil['MES'].astype(str).str.zfill(2) + '-01')\n",
    "fin = time.time()  \n",
    "print('Tiempo de ejecución es: ',  (fin-inicio)//3600, ' horas con ' ,  (fin-inicio)%3600//60 , ' minutos y', (fin-inicio)%60, ' segundos' )\n",
    "afi_fil.shape"
   ]
  },
  {
   "cell_type": "code",
   "execution_count": 11,
   "id": "d3968aa2",
   "metadata": {},
   "outputs": [
    {
     "data": {
      "text/html": [
       "<div>\n",
       "<style scoped>\n",
       "    .dataframe tbody tr th:only-of-type {\n",
       "        vertical-align: middle;\n",
       "    }\n",
       "\n",
       "    .dataframe tbody tr th {\n",
       "        vertical-align: top;\n",
       "    }\n",
       "\n",
       "    .dataframe thead th {\n",
       "        text-align: right;\n",
       "    }\n",
       "</style>\n",
       "<table border=\"1\" class=\"dataframe\">\n",
       "  <thead>\n",
       "    <tr style=\"text-align: right;\">\n",
       "      <th></th>\n",
       "      <th>CEDULA_COD</th>\n",
       "      <th>ANIO</th>\n",
       "      <th>MES</th>\n",
       "      <th>CODSEC</th>\n",
       "      <th>SECTOR</th>\n",
       "      <th>DESTIPEMP</th>\n",
       "      <th>DESRELTRA</th>\n",
       "      <th>CODCII</th>\n",
       "      <th>PROVINCIA</th>\n",
       "      <th>CANTON</th>\n",
       "      <th>SALARIO</th>\n",
       "      <th>PORCENTAJE_AP</th>\n",
       "      <th>SECTOR_A</th>\n",
       "      <th>FECHA</th>\n",
       "    </tr>\n",
       "  </thead>\n",
       "  <tbody>\n",
       "    <tr>\n",
       "      <th>26481585</th>\n",
       "      <td>126</td>\n",
       "      <td>2004</td>\n",
       "      <td>12</td>\n",
       "      <td>R</td>\n",
       "      <td>PRIVADO</td>\n",
       "      <td>2-EMPRESA PRIVADA -SOCIEDADES / COMPANIAS</td>\n",
       "      <td>06-CODIGO DEL TRABAJO - CT</td>\n",
       "      <td>K66220001</td>\n",
       "      <td>AZUAY</td>\n",
       "      <td>CUENCA</td>\n",
       "      <td>147.45</td>\n",
       "      <td>20.5</td>\n",
       "      <td>PRI</td>\n",
       "      <td>2004-12-01</td>\n",
       "    </tr>\n",
       "    <tr>\n",
       "      <th>67442511</th>\n",
       "      <td>126</td>\n",
       "      <td>2005</td>\n",
       "      <td>1</td>\n",
       "      <td>R</td>\n",
       "      <td>PRIVADO</td>\n",
       "      <td>2-EMPRESA PRIVADA -SOCIEDADES / COMPANIAS</td>\n",
       "      <td>06-CODIGO DEL TRABAJO - CT</td>\n",
       "      <td>K66220001</td>\n",
       "      <td>AZUAY</td>\n",
       "      <td>CUENCA</td>\n",
       "      <td>161.67</td>\n",
       "      <td>41.0</td>\n",
       "      <td>PRI</td>\n",
       "      <td>2005-01-01</td>\n",
       "    </tr>\n",
       "    <tr>\n",
       "      <th>41179435</th>\n",
       "      <td>126</td>\n",
       "      <td>2005</td>\n",
       "      <td>2</td>\n",
       "      <td>R</td>\n",
       "      <td>PRIVADO</td>\n",
       "      <td>2-EMPRESA PRIVADA -SOCIEDADES / COMPANIAS</td>\n",
       "      <td>06-CODIGO DEL TRABAJO - CT</td>\n",
       "      <td>K66220001</td>\n",
       "      <td>AZUAY</td>\n",
       "      <td>CUENCA</td>\n",
       "      <td>161.67</td>\n",
       "      <td>20.5</td>\n",
       "      <td>PRI</td>\n",
       "      <td>2005-02-01</td>\n",
       "    </tr>\n",
       "    <tr>\n",
       "      <th>44033860</th>\n",
       "      <td>126</td>\n",
       "      <td>2005</td>\n",
       "      <td>3</td>\n",
       "      <td>R</td>\n",
       "      <td>PRIVADO</td>\n",
       "      <td>2-EMPRESA PRIVADA -SOCIEDADES / COMPANIAS</td>\n",
       "      <td>06-CODIGO DEL TRABAJO - CT</td>\n",
       "      <td>K66220001</td>\n",
       "      <td>AZUAY</td>\n",
       "      <td>CUENCA</td>\n",
       "      <td>161.67</td>\n",
       "      <td>20.5</td>\n",
       "      <td>PRI</td>\n",
       "      <td>2005-03-01</td>\n",
       "    </tr>\n",
       "    <tr>\n",
       "      <th>47099991</th>\n",
       "      <td>126</td>\n",
       "      <td>2005</td>\n",
       "      <td>4</td>\n",
       "      <td>R</td>\n",
       "      <td>PRIVADO</td>\n",
       "      <td>2-EMPRESA PRIVADA -SOCIEDADES / COMPANIAS</td>\n",
       "      <td>06-CODIGO DEL TRABAJO - CT</td>\n",
       "      <td>K66220001</td>\n",
       "      <td>AZUAY</td>\n",
       "      <td>CUENCA</td>\n",
       "      <td>161.67</td>\n",
       "      <td>20.5</td>\n",
       "      <td>PRI</td>\n",
       "      <td>2005-04-01</td>\n",
       "    </tr>\n",
       "    <tr>\n",
       "      <th>...</th>\n",
       "      <td>...</td>\n",
       "      <td>...</td>\n",
       "      <td>...</td>\n",
       "      <td>...</td>\n",
       "      <td>...</td>\n",
       "      <td>...</td>\n",
       "      <td>...</td>\n",
       "      <td>...</td>\n",
       "      <td>...</td>\n",
       "      <td>...</td>\n",
       "      <td>...</td>\n",
       "      <td>...</td>\n",
       "      <td>...</td>\n",
       "      <td>...</td>\n",
       "    </tr>\n",
       "    <tr>\n",
       "      <th>27896256</th>\n",
       "      <td>23594465</td>\n",
       "      <td>2017</td>\n",
       "      <td>11</td>\n",
       "      <td>R</td>\n",
       "      <td>PRIVADO</td>\n",
       "      <td>2-EMPRESA PRIVADA -SOCIEDADES / COMPANIAS</td>\n",
       "      <td>06-CODIGO DEL TRABAJO - CT</td>\n",
       "      <td>C111</td>\n",
       "      <td>PICHINCHA</td>\n",
       "      <td>DISTRITO METROPOLITANO DE QUITO</td>\n",
       "      <td>14045.72</td>\n",
       "      <td>20.6</td>\n",
       "      <td>PRI</td>\n",
       "      <td>2017-11-01</td>\n",
       "    </tr>\n",
       "    <tr>\n",
       "      <th>5107034</th>\n",
       "      <td>23594465</td>\n",
       "      <td>2017</td>\n",
       "      <td>12</td>\n",
       "      <td>R</td>\n",
       "      <td>PRIVADO</td>\n",
       "      <td>2-EMPRESA PRIVADA -SOCIEDADES / COMPANIAS</td>\n",
       "      <td>06-CODIGO DEL TRABAJO - CT</td>\n",
       "      <td>C111</td>\n",
       "      <td>PICHINCHA</td>\n",
       "      <td>DISTRITO METROPOLITANO DE QUITO</td>\n",
       "      <td>14164.25</td>\n",
       "      <td>20.6</td>\n",
       "      <td>PRI</td>\n",
       "      <td>2017-12-01</td>\n",
       "    </tr>\n",
       "    <tr>\n",
       "      <th>44333802</th>\n",
       "      <td>23594465</td>\n",
       "      <td>2018</td>\n",
       "      <td>1</td>\n",
       "      <td>R</td>\n",
       "      <td>PRIVADO</td>\n",
       "      <td>2-EMPRESA PRIVADA -SOCIEDADES / COMPANIAS</td>\n",
       "      <td>06-CODIGO DEL TRABAJO - CT</td>\n",
       "      <td>C111</td>\n",
       "      <td>PICHINCHA</td>\n",
       "      <td>DISTRITO METROPOLITANO DE QUITO</td>\n",
       "      <td>12903.21</td>\n",
       "      <td>20.6</td>\n",
       "      <td>PRI</td>\n",
       "      <td>2018-01-01</td>\n",
       "    </tr>\n",
       "    <tr>\n",
       "      <th>38102314</th>\n",
       "      <td>23594465</td>\n",
       "      <td>2018</td>\n",
       "      <td>2</td>\n",
       "      <td>R</td>\n",
       "      <td>PRIVADO</td>\n",
       "      <td>2-EMPRESA PRIVADA -SOCIEDADES / COMPANIAS</td>\n",
       "      <td>06-CODIGO DEL TRABAJO - CT</td>\n",
       "      <td>C111</td>\n",
       "      <td>PICHINCHA</td>\n",
       "      <td>DISTRITO METROPOLITANO DE QUITO</td>\n",
       "      <td>42432.21</td>\n",
       "      <td>20.6</td>\n",
       "      <td>PRI</td>\n",
       "      <td>2018-02-01</td>\n",
       "    </tr>\n",
       "    <tr>\n",
       "      <th>54561026</th>\n",
       "      <td>23594465</td>\n",
       "      <td>2018</td>\n",
       "      <td>3</td>\n",
       "      <td>R</td>\n",
       "      <td>PRIVADO</td>\n",
       "      <td>2-EMPRESA PRIVADA -SOCIEDADES / COMPANIAS</td>\n",
       "      <td>06-CODIGO DEL TRABAJO - CT</td>\n",
       "      <td>C111</td>\n",
       "      <td>PICHINCHA</td>\n",
       "      <td>DISTRITO METROPOLITANO DE QUITO</td>\n",
       "      <td>12738.28</td>\n",
       "      <td>20.6</td>\n",
       "      <td>PRI</td>\n",
       "      <td>2018-03-01</td>\n",
       "    </tr>\n",
       "  </tbody>\n",
       "</table>\n",
       "<p>64756154 rows × 14 columns</p>\n",
       "</div>"
      ],
      "text/plain": [
       "          CEDULA_COD  ANIO  MES CODSEC   SECTOR  \\\n",
       "26481585         126  2004   12      R  PRIVADO   \n",
       "67442511         126  2005    1      R  PRIVADO   \n",
       "41179435         126  2005    2      R  PRIVADO   \n",
       "44033860         126  2005    3      R  PRIVADO   \n",
       "47099991         126  2005    4      R  PRIVADO   \n",
       "...              ...   ...  ...    ...      ...   \n",
       "27896256    23594465  2017   11      R  PRIVADO   \n",
       "5107034     23594465  2017   12      R  PRIVADO   \n",
       "44333802    23594465  2018    1      R  PRIVADO   \n",
       "38102314    23594465  2018    2      R  PRIVADO   \n",
       "54561026    23594465  2018    3      R  PRIVADO   \n",
       "\n",
       "                                          DESTIPEMP  \\\n",
       "26481585  2-EMPRESA PRIVADA -SOCIEDADES / COMPANIAS   \n",
       "67442511  2-EMPRESA PRIVADA -SOCIEDADES / COMPANIAS   \n",
       "41179435  2-EMPRESA PRIVADA -SOCIEDADES / COMPANIAS   \n",
       "44033860  2-EMPRESA PRIVADA -SOCIEDADES / COMPANIAS   \n",
       "47099991  2-EMPRESA PRIVADA -SOCIEDADES / COMPANIAS   \n",
       "...                                             ...   \n",
       "27896256  2-EMPRESA PRIVADA -SOCIEDADES / COMPANIAS   \n",
       "5107034   2-EMPRESA PRIVADA -SOCIEDADES / COMPANIAS   \n",
       "44333802  2-EMPRESA PRIVADA -SOCIEDADES / COMPANIAS   \n",
       "38102314  2-EMPRESA PRIVADA -SOCIEDADES / COMPANIAS   \n",
       "54561026  2-EMPRESA PRIVADA -SOCIEDADES / COMPANIAS   \n",
       "\n",
       "                            DESRELTRA     CODCII  PROVINCIA  \\\n",
       "26481585  06-CODIGO DEL TRABAJO - CT   K66220001      AZUAY   \n",
       "67442511  06-CODIGO DEL TRABAJO - CT   K66220001      AZUAY   \n",
       "41179435  06-CODIGO DEL TRABAJO - CT   K66220001      AZUAY   \n",
       "44033860  06-CODIGO DEL TRABAJO - CT   K66220001      AZUAY   \n",
       "47099991  06-CODIGO DEL TRABAJO - CT   K66220001      AZUAY   \n",
       "...                               ...        ...        ...   \n",
       "27896256  06-CODIGO DEL TRABAJO - CT        C111  PICHINCHA   \n",
       "5107034   06-CODIGO DEL TRABAJO - CT        C111  PICHINCHA   \n",
       "44333802  06-CODIGO DEL TRABAJO - CT        C111  PICHINCHA   \n",
       "38102314  06-CODIGO DEL TRABAJO - CT        C111  PICHINCHA   \n",
       "54561026  06-CODIGO DEL TRABAJO - CT        C111  PICHINCHA   \n",
       "\n",
       "                                   CANTON   SALARIO  PORCENTAJE_AP SECTOR_A  \\\n",
       "26481585                           CUENCA    147.45           20.5      PRI   \n",
       "67442511                           CUENCA    161.67           41.0      PRI   \n",
       "41179435                           CUENCA    161.67           20.5      PRI   \n",
       "44033860                           CUENCA    161.67           20.5      PRI   \n",
       "47099991                           CUENCA    161.67           20.5      PRI   \n",
       "...                                   ...       ...            ...      ...   \n",
       "27896256  DISTRITO METROPOLITANO DE QUITO  14045.72           20.6      PRI   \n",
       "5107034   DISTRITO METROPOLITANO DE QUITO  14164.25           20.6      PRI   \n",
       "44333802  DISTRITO METROPOLITANO DE QUITO  12903.21           20.6      PRI   \n",
       "38102314  DISTRITO METROPOLITANO DE QUITO  42432.21           20.6      PRI   \n",
       "54561026  DISTRITO METROPOLITANO DE QUITO  12738.28           20.6      PRI   \n",
       "\n",
       "              FECHA  \n",
       "26481585 2004-12-01  \n",
       "67442511 2005-01-01  \n",
       "41179435 2005-02-01  \n",
       "44033860 2005-03-01  \n",
       "47099991 2005-04-01  \n",
       "...             ...  \n",
       "27896256 2017-11-01  \n",
       "5107034  2017-12-01  \n",
       "44333802 2018-01-01  \n",
       "38102314 2018-02-01  \n",
       "54561026 2018-03-01  \n",
       "\n",
       "[64756154 rows x 14 columns]"
      ]
     },
     "execution_count": 11,
     "metadata": {},
     "output_type": "execute_result"
    }
   ],
   "source": [
    "del afi\n",
    "del ced_counts\n",
    "afi_fil"
   ]
  },
  {
   "cell_type": "code",
   "execution_count": 12,
   "id": "3903704c",
   "metadata": {},
   "outputs": [],
   "source": [
    "#Se seleccionan las características de la población para los año y mes de aportación\n",
    "afi_sel = afi_fil[['CEDULA_COD', 'ANIO', 'MES', 'FECHA','SALARIO', 'SECTOR_A']].copy()\n",
    "del afi_fil"
   ]
  },
  {
   "cell_type": "code",
   "execution_count": 13,
   "id": "adcadef1",
   "metadata": {},
   "outputs": [],
   "source": [
    "#Inicio de la HL\n",
    "caract = afi_sel.groupby('CEDULA_COD')['FECHA'].min().reset_index() \n",
    "caract.rename( columns={'FECHA': 'INI_HL'}, inplace=True)\n",
    "#Fin de la HL\n",
    "caract['FIN_HL'] = caract['CEDULA_COD'].map( afi_sel.groupby('CEDULA_COD')['FECHA'].max() )\n",
    "#Contar los meses, considerando duplicidad en los meses que puede tener aporte simultaneos\n",
    "caract['MES_C'] = caract['CEDULA_COD'].map( afi_sel['CEDULA_COD'].value_counts() )\n",
    "#Meses trabajados unicos\n",
    "aux = afi_sel.drop_duplicates(subset=['CEDULA_COD', 'ANIO', 'MES'])\n",
    "caract['MES_T'] = caract['CEDULA_COD'].map( aux['CEDULA_COD'].value_counts() )"
   ]
  },
  {
   "cell_type": "code",
   "execution_count": 14,
   "id": "5d78279e",
   "metadata": {},
   "outputs": [
    {
     "data": {
      "text/html": [
       "<div>\n",
       "<style scoped>\n",
       "    .dataframe tbody tr th:only-of-type {\n",
       "        vertical-align: middle;\n",
       "    }\n",
       "\n",
       "    .dataframe tbody tr th {\n",
       "        vertical-align: top;\n",
       "    }\n",
       "\n",
       "    .dataframe thead th {\n",
       "        text-align: right;\n",
       "    }\n",
       "</style>\n",
       "<table border=\"1\" class=\"dataframe\">\n",
       "  <thead>\n",
       "    <tr style=\"text-align: right;\">\n",
       "      <th></th>\n",
       "      <th>CEDULA_COD</th>\n",
       "      <th>INI_HL</th>\n",
       "      <th>FIN_HL</th>\n",
       "      <th>MES_C</th>\n",
       "      <th>MES_T</th>\n",
       "    </tr>\n",
       "  </thead>\n",
       "  <tbody>\n",
       "    <tr>\n",
       "      <th>0</th>\n",
       "      <td>126</td>\n",
       "      <td>2004-12-01</td>\n",
       "      <td>2010-12-01</td>\n",
       "      <td>73</td>\n",
       "      <td>73</td>\n",
       "    </tr>\n",
       "    <tr>\n",
       "      <th>1</th>\n",
       "      <td>152</td>\n",
       "      <td>2004-07-01</td>\n",
       "      <td>2009-09-01</td>\n",
       "      <td>63</td>\n",
       "      <td>63</td>\n",
       "    </tr>\n",
       "    <tr>\n",
       "      <th>2</th>\n",
       "      <td>216</td>\n",
       "      <td>2004-07-01</td>\n",
       "      <td>2009-09-01</td>\n",
       "      <td>98</td>\n",
       "      <td>63</td>\n",
       "    </tr>\n",
       "    <tr>\n",
       "      <th>3</th>\n",
       "      <td>230</td>\n",
       "      <td>2004-12-01</td>\n",
       "      <td>2015-05-01</td>\n",
       "      <td>126</td>\n",
       "      <td>126</td>\n",
       "    </tr>\n",
       "    <tr>\n",
       "      <th>4</th>\n",
       "      <td>235</td>\n",
       "      <td>2004-08-01</td>\n",
       "      <td>2011-06-01</td>\n",
       "      <td>83</td>\n",
       "      <td>83</td>\n",
       "    </tr>\n",
       "    <tr>\n",
       "      <th>...</th>\n",
       "      <td>...</td>\n",
       "      <td>...</td>\n",
       "      <td>...</td>\n",
       "      <td>...</td>\n",
       "      <td>...</td>\n",
       "    </tr>\n",
       "    <tr>\n",
       "      <th>444112</th>\n",
       "      <td>23075971</td>\n",
       "      <td>2017-02-01</td>\n",
       "      <td>2022-10-01</td>\n",
       "      <td>66</td>\n",
       "      <td>66</td>\n",
       "    </tr>\n",
       "    <tr>\n",
       "      <th>444113</th>\n",
       "      <td>23402574</td>\n",
       "      <td>2010-01-01</td>\n",
       "      <td>2019-02-01</td>\n",
       "      <td>110</td>\n",
       "      <td>110</td>\n",
       "    </tr>\n",
       "    <tr>\n",
       "      <th>444114</th>\n",
       "      <td>23456125</td>\n",
       "      <td>2016-07-01</td>\n",
       "      <td>2022-03-01</td>\n",
       "      <td>69</td>\n",
       "      <td>69</td>\n",
       "    </tr>\n",
       "    <tr>\n",
       "      <th>444115</th>\n",
       "      <td>23503686</td>\n",
       "      <td>2004-09-01</td>\n",
       "      <td>2011-11-01</td>\n",
       "      <td>87</td>\n",
       "      <td>87</td>\n",
       "    </tr>\n",
       "    <tr>\n",
       "      <th>444116</th>\n",
       "      <td>23594465</td>\n",
       "      <td>2012-05-01</td>\n",
       "      <td>2018-03-01</td>\n",
       "      <td>71</td>\n",
       "      <td>71</td>\n",
       "    </tr>\n",
       "  </tbody>\n",
       "</table>\n",
       "<p>444117 rows × 5 columns</p>\n",
       "</div>"
      ],
      "text/plain": [
       "        CEDULA_COD     INI_HL     FIN_HL  MES_C  MES_T\n",
       "0              126 2004-12-01 2010-12-01     73     73\n",
       "1              152 2004-07-01 2009-09-01     63     63\n",
       "2              216 2004-07-01 2009-09-01     98     63\n",
       "3              230 2004-12-01 2015-05-01    126    126\n",
       "4              235 2004-08-01 2011-06-01     83     83\n",
       "...            ...        ...        ...    ...    ...\n",
       "444112    23075971 2017-02-01 2022-10-01     66     66\n",
       "444113    23402574 2010-01-01 2019-02-01    110    110\n",
       "444114    23456125 2016-07-01 2022-03-01     69     69\n",
       "444115    23503686 2004-09-01 2011-11-01     87     87\n",
       "444116    23594465 2012-05-01 2018-03-01     71     71\n",
       "\n",
       "[444117 rows x 5 columns]"
      ]
     },
     "execution_count": 14,
     "metadata": {},
     "output_type": "execute_result"
    }
   ],
   "source": [
    "caract"
   ]
  },
  {
   "cell_type": "code",
   "execution_count": 15,
   "id": "67e8a0cd",
   "metadata": {},
   "outputs": [
    {
     "data": {
      "text/html": [
       "<div>\n",
       "<style scoped>\n",
       "    .dataframe tbody tr th:only-of-type {\n",
       "        vertical-align: middle;\n",
       "    }\n",
       "\n",
       "    .dataframe tbody tr th {\n",
       "        vertical-align: top;\n",
       "    }\n",
       "\n",
       "    .dataframe thead th {\n",
       "        text-align: right;\n",
       "    }\n",
       "</style>\n",
       "<table border=\"1\" class=\"dataframe\">\n",
       "  <thead>\n",
       "    <tr style=\"text-align: right;\">\n",
       "      <th></th>\n",
       "      <th>CEDULA_COD</th>\n",
       "      <th>INI_HL</th>\n",
       "      <th>FIN_HL</th>\n",
       "      <th>MES_C</th>\n",
       "      <th>MES_T</th>\n",
       "    </tr>\n",
       "  </thead>\n",
       "  <tbody>\n",
       "    <tr>\n",
       "      <th>2</th>\n",
       "      <td>216</td>\n",
       "      <td>2004-07-01</td>\n",
       "      <td>2009-09-01</td>\n",
       "      <td>98</td>\n",
       "      <td>63</td>\n",
       "    </tr>\n",
       "    <tr>\n",
       "      <th>10</th>\n",
       "      <td>397</td>\n",
       "      <td>2004-07-01</td>\n",
       "      <td>2012-01-01</td>\n",
       "      <td>138</td>\n",
       "      <td>91</td>\n",
       "    </tr>\n",
       "    <tr>\n",
       "      <th>12</th>\n",
       "      <td>419</td>\n",
       "      <td>2004-11-01</td>\n",
       "      <td>2009-12-01</td>\n",
       "      <td>115</td>\n",
       "      <td>58</td>\n",
       "    </tr>\n",
       "    <tr>\n",
       "      <th>20</th>\n",
       "      <td>461</td>\n",
       "      <td>2004-07-01</td>\n",
       "      <td>2010-09-01</td>\n",
       "      <td>221</td>\n",
       "      <td>75</td>\n",
       "    </tr>\n",
       "    <tr>\n",
       "      <th>23</th>\n",
       "      <td>472</td>\n",
       "      <td>2004-09-01</td>\n",
       "      <td>2012-01-01</td>\n",
       "      <td>176</td>\n",
       "      <td>89</td>\n",
       "    </tr>\n",
       "    <tr>\n",
       "      <th>...</th>\n",
       "      <td>...</td>\n",
       "      <td>...</td>\n",
       "      <td>...</td>\n",
       "      <td>...</td>\n",
       "      <td>...</td>\n",
       "    </tr>\n",
       "    <tr>\n",
       "      <th>444102</th>\n",
       "      <td>20949683</td>\n",
       "      <td>2011-08-01</td>\n",
       "      <td>2019-07-01</td>\n",
       "      <td>92</td>\n",
       "      <td>91</td>\n",
       "    </tr>\n",
       "    <tr>\n",
       "      <th>444104</th>\n",
       "      <td>21035240</td>\n",
       "      <td>2010-03-01</td>\n",
       "      <td>2019-09-01</td>\n",
       "      <td>112</td>\n",
       "      <td>111</td>\n",
       "    </tr>\n",
       "    <tr>\n",
       "      <th>444105</th>\n",
       "      <td>21035907</td>\n",
       "      <td>2006-07-01</td>\n",
       "      <td>2013-08-01</td>\n",
       "      <td>68</td>\n",
       "      <td>67</td>\n",
       "    </tr>\n",
       "    <tr>\n",
       "      <th>444106</th>\n",
       "      <td>21104059</td>\n",
       "      <td>2014-07-01</td>\n",
       "      <td>2023-02-01</td>\n",
       "      <td>105</td>\n",
       "      <td>104</td>\n",
       "    </tr>\n",
       "    <tr>\n",
       "      <th>444111</th>\n",
       "      <td>21729781</td>\n",
       "      <td>2011-12-01</td>\n",
       "      <td>2019-08-01</td>\n",
       "      <td>94</td>\n",
       "      <td>93</td>\n",
       "    </tr>\n",
       "  </tbody>\n",
       "</table>\n",
       "<p>113450 rows × 5 columns</p>\n",
       "</div>"
      ],
      "text/plain": [
       "        CEDULA_COD     INI_HL     FIN_HL  MES_C  MES_T\n",
       "2              216 2004-07-01 2009-09-01     98     63\n",
       "10             397 2004-07-01 2012-01-01    138     91\n",
       "12             419 2004-11-01 2009-12-01    115     58\n",
       "20             461 2004-07-01 2010-09-01    221     75\n",
       "23             472 2004-09-01 2012-01-01    176     89\n",
       "...            ...        ...        ...    ...    ...\n",
       "444102    20949683 2011-08-01 2019-07-01     92     91\n",
       "444104    21035240 2010-03-01 2019-09-01    112    111\n",
       "444105    21035907 2006-07-01 2013-08-01     68     67\n",
       "444106    21104059 2014-07-01 2023-02-01    105    104\n",
       "444111    21729781 2011-12-01 2019-08-01     94     93\n",
       "\n",
       "[113450 rows x 5 columns]"
      ]
     },
     "execution_count": 15,
     "metadata": {},
     "output_type": "execute_result"
    }
   ],
   "source": [
    "#Personas que tienen varios aportes simultaneos\n",
    "caract[caract['MES_C']>caract['MES_T']]"
   ]
  },
  {
   "cell_type": "code",
   "execution_count": 16,
   "id": "80d9bfe0",
   "metadata": {},
   "outputs": [],
   "source": [
    "#afi_sel[afi_sel['CEDULA_COD']==21729781].tail(60)"
   ]
  },
  {
   "cell_type": "code",
   "execution_count": 17,
   "id": "bd0c7ea9",
   "metadata": {},
   "outputs": [],
   "source": [
    "afi_sel =  afi_sel.sort_values( by=[\"CEDULA_COD\",\"ANIO\", \"MES\"], ascending=[True, False, False] )\n",
    "afi_sel['NUM_SEC_MES'] = 1\n",
    "afi_sel['%_NUM_SECTOR'] = afi_sel['SALARIO']"
   ]
  },
  {
   "cell_type": "code",
   "execution_count": 18,
   "id": "508c16c5",
   "metadata": {},
   "outputs": [],
   "source": [
    "aux = afi_sel[afi_sel.duplicated(subset=['CEDULA_COD', 'ANIO', 'MES'], keep=False)]\n",
    "aux1 = afi_sel[~afi_sel.duplicated(subset=['CEDULA_COD', 'ANIO', 'MES'], keep=False)]"
   ]
  },
  {
   "cell_type": "code",
   "execution_count": null,
   "id": "413f07c9",
   "metadata": {},
   "outputs": [],
   "source": [
    "#Se debe analizar a las personas que tienen varios aportes en un mismo mes\n",
    "#Se suman los salarios y se concatenan los sectores para la cedula que en el mismo anio y mes tienen más de un sector\n",
    "\n",
    "inicio = time.time()\n",
    "# afi_sel_g = aux.groupby(['CEDULA_COD', 'ANIO', 'MES']).agg({'SALARIO': 'sum',\n",
    "#                                                             'SECTOR_A': lambda x: ';'.join(x),\n",
    "#                                                             'NUM_SEC_MES': lambda x: len(x),\n",
    "#                                                             '%_NUM_SECTOR': lambda x:  ';'.join((x / x.sum()).round(4).astype(str))\n",
    "#                                                                 }).reset_index()\n",
    "fin = time.time()  \n",
    "print('Tiempo de ejecución es: ',  (fin-inicio)//3600, ' horas con ' ,  (fin-inicio)%3600//60 , ' minutos y', (fin-inicio)%60, ' segundos' )\n"
   ]
  },
  {
   "cell_type": "code",
   "execution_count": null,
   "id": "666ab864",
   "metadata": {},
   "outputs": [],
   "source": [
    "afi_sel"
   ]
  },
  {
   "cell_type": "code",
   "execution_count": null,
   "id": "0aea063a",
   "metadata": {},
   "outputs": [],
   "source": [
    "afi_sel_g_all = pd.concat([aux1[['CEDULA_COD', 'ANIO', 'MES', 'SALARIO', 'SECTOR_A', 'NUM_SEC_MES', '%_NUM_SECTOR']], \n",
    "                           afi_sel_g], ignore_index=True)"
   ]
  },
  {
   "cell_type": "code",
   "execution_count": null,
   "id": "c9801632",
   "metadata": {},
   "outputs": [],
   "source": [
    "afi_sel_g_all = afi_sel_g_all.sort_values( by=[\"CEDULA_COD\",\"ANIO\", \"MES\"], ascending=[True, False, False] )\n",
    "afi_sel_g_all "
   ]
  },
  {
   "cell_type": "code",
   "execution_count": null,
   "id": "bfc944d7",
   "metadata": {},
   "outputs": [],
   "source": [
    "afi_sel_g_all[afi_sel_g_all['NUM_SEC_MES']>1]"
   ]
  },
  {
   "cell_type": "code",
   "execution_count": null,
   "id": "1c652a89",
   "metadata": {},
   "outputs": [],
   "source": [
    "afi_sel[afi_sel['CEDULA_COD']==216].head(60)"
   ]
  },
  {
   "cell_type": "code",
   "execution_count": null,
   "id": "12ce8372",
   "metadata": {},
   "outputs": [],
   "source": [
    "del aux\n",
    "del aux1"
   ]
  },
  {
   "cell_type": "code",
   "execution_count": null,
   "id": "9b7fb7c4",
   "metadata": {},
   "outputs": [],
   "source": [
    "import multiprocessing\n",
    "\n",
    "# Función de ejemplo que realiza una tarea intensiva en CPU\n",
    "def compute_square(data):\n",
    "    afi_sel_g = data.groupby(['CEDULA_COD', 'ANIO', 'MES']).agg({'SALARIO': 'sum',\n",
    "                                                            'SECTOR_A': lambda x: ';'.join(x),\n",
    "                                                            'NUM_SEC_MES': lambda x: len(x),\n",
    "                                                            '%_NUM_SECTOR': lambda x:  ';'.join((x / x.sum()).round(4).astype(str))\n",
    "                                                                }).reset_index()\n",
    "    return afi_sel_g\n",
    "\n",
    "if __name__ == '__main__':\n",
    "    # Número de núcleos disponibles\n",
    "    num_cores = multiprocessing.cpu_count()\n",
    "  \n",
    "    # Datos de ejemplo\n",
    "    data = aux\n",
    "    \n",
    "    # Dividir el DataFrame en partes iguales\n",
    "    data_split = np.array_split(data, num_cores)\n",
    "    \n",
    "    # Crear un Pool de procesos\n",
    "    pool = multiprocessing.Pool(processes=num_cores)\n",
    "\n",
    "    # Medir el tiempo de ejecución\n",
    "    start_time = time.time()\n",
    "\n",
    "    # Dividir la tarea y ejecutarla en paralelo\n",
    "    results = pool.map(compute_square, data_split)\n",
    "\n",
    "    # Cerrar el Pool y esperar a que todos los procesos terminen\n",
    "    pool.close()\n",
    "    pool.join()\n",
    "    \n",
    "    # Combinar los resultados\n",
    "    combined_results = pd.concat(results)\n",
    "    \n",
    "    # Medir el tiempo de ejecución\n",
    "    end_time = time.time()\n",
    "\n",
    "    print(f\"Tiempo de ejecución en paralelo: {end_time - start_time} segundos\")"
   ]
  },
  {
   "cell_type": "code",
   "execution_count": null,
   "id": "dae86cbe",
   "metadata": {},
   "outputs": [],
   "source": [
    "#Se crea la variable que cuenta el número de sectores para cada anio y mes\n",
    "inicio = time.time()\n",
    "afi_sel_g['NUM_SEC_MES'] = afi_sel.groupby(['CEDULA_COD', 'ANIO', 'MES'])['SECTOR'].nunique().values\n",
    "fin = time.time()  \n",
    "print('Tiempo de ejecución es: ',  (fin-inicio)//3600, ' horas con ' ,  (fin-inicio)%3600//60 , ' minutos y', (fin-inicio)%60, ' segundos' )\n"
   ]
  },
  {
   "cell_type": "code",
   "execution_count": null,
   "id": "8b70a78c",
   "metadata": {},
   "outputs": [],
   "source": [
    "inicio = time.time()\n",
    "#Se suma por cedula, anio, mes y sector\n",
    "temp_df = afi_sel.groupby(['CEDULA_COD', 'ANIO', 'MES', 'SECTOR']).agg({'SALARIO': 'sum'}).reset_index()\n",
    "sum_df = temp_df.groupby(['CEDULA_COD', 'ANIO', 'MES'])['SALARIO'].sum().reset_index()\n",
    "sum_df.rename(columns={'SAL': 'TOTAL_SAL'}, inplace=True)\n",
    "temp_df = temp_df.merge( sum_df, on=['CEDULA_COD', 'ANIO', 'MES'])\n",
    "fin = time.time()  \n",
    "print('Tiempo de ejecución es: ',  (fin-inicio)//3600, ' horas con ' ,  (fin-inicio)%3600//60 , ' minutos y', (fin-inicio)%60, ' segundos' )"
   ]
  },
  {
   "cell_type": "code",
   "execution_count": null,
   "id": "95ee4455",
   "metadata": {},
   "outputs": [],
   "source": [
    "sum_df = temp_df.groupby(['CEDULA_COD', 'ANIO', 'MES'])['SALARIO'].sum().reset_index()"
   ]
  },
  {
   "cell_type": "code",
   "execution_count": null,
   "id": "008c9c2a",
   "metadata": {},
   "outputs": [],
   "source": [
    "temp_df"
   ]
  },
  {
   "cell_type": "code",
   "execution_count": null,
   "id": "84b87cfc",
   "metadata": {},
   "outputs": [],
   "source": [
    "sum_df"
   ]
  },
  {
   "cell_type": "code",
   "execution_count": null,
   "id": "543f7f41",
   "metadata": {},
   "outputs": [],
   "source": [
    "inicio = time.time()\n",
    "#Se calcula el ´porcentaje del sueldo en cada sector\n",
    "temp_df['PERC'] = temp_df.groupby(['CEDULA_COD', 'ANIO', 'MES'])['SALARIO'].transform(lambda x: (x / x.sum()).round(4).astype(str))\n",
    "\n",
    "# #Se concatenan los porcentajes de sueldo de cada sector\n",
    "# perc_concat = temp_df.groupby(['CEDULA_COD', 'ANIO', 'MES'])['PERC'].apply(lambda x: ';'.join(x)).reset_index()\n",
    "\n",
    "# #Se cambia de nombre a la variable\n",
    "# perc_concat.rename(columns={'PERC': '%_NUM_SECTOR'}, inplace=True)\n",
    "\n",
    "fin = time.time()  \n",
    "print('Tiempo de ejecución es: ',  (fin-inicio)//3600, ' horas con ' ,  (fin-inicio)%3600//60 , ' minutos y', (fin-inicio)%60, ' segundos' )"
   ]
  },
  {
   "cell_type": "code",
   "execution_count": null,
   "id": "3f1ceea5",
   "metadata": {},
   "outputs": [],
   "source": []
  },
  {
   "cell_type": "code",
   "execution_count": null,
   "id": "64ff6e4b",
   "metadata": {},
   "outputs": [],
   "source": [
    "afi_sel[afi_sel['CEDULA_COD']==216].head(60)"
   ]
  },
  {
   "cell_type": "code",
   "execution_count": null,
   "id": "87616db7",
   "metadata": {},
   "outputs": [],
   "source": [
    "#se crean los grupos de 12 meses trabajados para tener\n",
    "n_grupo = 12\n",
    "afi_sel['GRUPO'] = (afi_sel.groupby('CEDULA_COD').cumcount() // n_grupo ) + 1\n",
    "#Se saca el salario promedio de cada grupo\n",
    "afi_sel['SAL_PROM_GRUPO'] = afi_sel.groupby(['CEDULA_COD', 'GRUPO'])['SALARIO'].transform('mean')\n"
   ]
  },
  {
   "cell_type": "code",
   "execution_count": null,
   "id": "edc13f78",
   "metadata": {},
   "outputs": [],
   "source": [
    "afi_sel[afi_sel['CEDULA_COD']==126].head(60)"
   ]
  },
  {
   "cell_type": "code",
   "execution_count": null,
   "id": "2ede2e6c",
   "metadata": {},
   "outputs": [],
   "source": [
    "afi_sel.groupby(['CEDULA_COD', 'GRUPO'])['SAL_PROM_GRUPO'].unique()\n",
    "#     df1 = df1.reset_index()\n",
    "#     df1['SAL_PROM_GRUPO'] = df1['SAL_PROM_GRUPO'].apply(lambda x: x[0])\n",
    "#     df1 = df1.sort_values(by = ['CEDULA_COD','SAL_PROM_GRUPO'], ascending=[True,False])"
   ]
  },
  {
   "cell_type": "code",
   "execution_count": null,
   "id": "ca9b660f",
   "metadata": {},
   "outputs": [],
   "source": [
    "afi_sel.groupby('CEDULA_COD')['FECHA'].min()\n",
    "#grupo['ANIO_MIN'] = grupo['CEDULA_COD'].map( grupo.groupby('CEDULA_COD')['ANIO'].min() )\n",
    "#    grupo['MES_MIN']  = grupo['CEDULA_COD'].map(grupo[ grupo['ANIO']==grupo['ANIO_MIN']].groupby('CEDULA_COD')['MES'].min())"
   ]
  }
 ],
 "metadata": {
  "kernelspec": {
   "display_name": "Python 3 (ipykernel)",
   "language": "python",
   "name": "python3"
  },
  "language_info": {
   "codemirror_mode": {
    "name": "ipython",
    "version": 3
   },
   "file_extension": ".py",
   "mimetype": "text/x-python",
   "name": "python",
   "nbconvert_exporter": "python",
   "pygments_lexer": "ipython3",
   "version": "3.9.13"
  }
 },
 "nbformat": 4,
 "nbformat_minor": 5
}

{
 "cells": [
  {
   "cell_type": "code",
   "execution_count": 1,
   "id": "305b533b",
   "metadata": {
    "ExecuteTime": {
     "end_time": "2024-07-29T21:09:00.409492Z",
     "start_time": "2024-07-29T21:08:56.268612Z"
    }
   },
   "outputs": [],
   "source": [
    "#Importación de librearías necesarias\n",
    "import pandas as pd\n",
    "from datetime import datetime\n",
    "import socket\n",
    "import numpy as np\n",
    "import math\n",
    "import time\n",
    "import pickle  #Para guardar archivos\n",
    "import os\n",
    "\n",
    "from pympler import asizeof #Para liberar memoria\n",
    "import gc\n",
    "\n",
    "import matplotlib.pyplot as plt\n",
    "from matplotlib.colors import ListedColormap, to_rgb\n",
    "\n",
    "\n",
    "from scipy.cluster.hierarchy import dendrogram, linkage, fcluster\n",
    "from scipy.spatial.distance import cdist"
   ]
  },
  {
   "cell_type": "code",
   "execution_count": 2,
   "id": "3ad7f70c",
   "metadata": {
    "ExecuteTime": {
     "end_time": "2024-07-29T21:09:00.417798Z",
     "start_time": "2024-07-29T21:09:00.409492Z"
    }
   },
   "outputs": [],
   "source": [
    "#Importación de librearías necesarias\n",
    "import pandas as pd\n",
    "from datetime import datetime\n",
    "import socket\n",
    "import numpy as np\n",
    "import math\n",
    "import time\n",
    "import pickle  #Para guardar archivos\n",
    "import os\n",
    "\n",
    "from pympler import asizeof #Para liberar memoria\n",
    "import gc\n",
    "\n",
    "import matplotlib.pyplot as plt\n",
    "from matplotlib.colors import ListedColormap, to_rgb\n",
    "\n",
    "\n",
    "from scipy.cluster.hierarchy import dendrogram, linkage, fcluster\n",
    "from scipy.spatial.distance import cdist"
   ]
  },
  {
   "cell_type": "code",
   "execution_count": 3,
   "id": "6ac88073",
   "metadata": {},
   "outputs": [],
   "source": [
    "#Path general de archivos\n",
    "if socket.gethostname()=='LAPTOP-PUSGG08B': #Ip de la laptop\n",
    "    ruta = \"E:/Cristian Guatemal/Master/Big Data y Ciencia de Datos/VIU_TFM/Data/TFM/\"\n",
    "    r_ruta = \"E:/Cristian Guatemal/Master/Big Data y Ciencia de Datos/VIU_TFM/RData/TFM/\"\n",
    "elif socket.gethostname()=='PCUIOMTDAIE6382': #Ip del working\n",
    "    ruta =   \"D:/Master/Big_Data_Ciencia_Datos/VIU_TFM/Data/TFM/\"\n",
    "    r_ruta = \"D:/Master/Big_Data_Ciencia_Datos/VIU_TFM/RData/TFM/\"\n",
    "\n",
    "# Ruta del archivo de pensionistas de vejez\n",
    "ruta_vj = ruta + 'POB_VEJ_CD656_NEW.dsv'\n",
    "# Ruta del archivo de pensionistas de vejez\n",
    "ruta_inv = ruta + 'POB_INV_CD656_NEW.dsv'\n",
    "# Ruta del archivo de pensionistas de vejez\n",
    "ruta_dis = ruta + 'POB_DIS_CD656_NEW.dsv'\n",
    "\n",
    "# Ruta del archivo de historia laboral de pensionistas\n",
    "ruta_afi = ruta + 'APORTES_CD656_new.dsv'"
   ]
  },
  {
   "cell_type": "code",
   "execution_count": null,
   "id": "28dfb4e5",
   "metadata": {
    "ExecuteTime": {
     "end_time": "2024-07-15T17:40:29.504433Z",
     "start_time": "2024-07-15T17:38:33.999235Z"
    }
   },
   "outputs": [],
   "source": [
    "#Importación de archivos de afiliados\n",
    "inicio = time.time()\n",
    "afi = pd.read_csv( ruta_afi, delimiter='\\t', encoding='iso-8859-1', decimal='.')\n",
    "fin = time.time()  \n",
    "print('Tiempo de ejecución es: ',  (fin-inicio)//3600, ' horas con ' ,  (fin-inicio)%3600//60 , ' minutos y', \n",
    "        (fin-inicio)%60, ' segundos' )"
   ]
  },
  {
   "cell_type": "code",
   "execution_count": null,
   "id": "c19aaa90",
   "metadata": {
    "ExecuteTime": {
     "end_time": "2024-07-15T17:41:21.920678Z",
     "start_time": "2024-07-15T17:40:55.737050Z"
    }
   },
   "outputs": [],
   "source": [
    "#Agrupamiento por relación de trabajo\n",
    "inicio = time.time()\n",
    "agrupa = [ (afi['SECTOR'].isin(['PRIVADO', 'PASANTE PRIVADO'])), \n",
    "           (afi['SECTOR'].isin(['PUBLICO', 'PASANTE PUBLICO'])), \n",
    "           (afi['SECTOR'].isin(['INDEPENDIENTES', '108-ARTISTA Y GESTOR DE CULTURA', \n",
    "                                '02-TRABAJ. AUT Y SIN RELAC DEPEN DESDE  2011-12 SOLO AF.VOLUNT  '])),\n",
    "           (afi['SECTOR'].isin(['69-VOLUNTARIO ECUATORIANO DOMICILIADO EN EL EXTERIOR ',\n",
    "                                '89-AFILIACION DOMICILIADO EN EL EXTERIOR'])),\n",
    "           (afi['SECTOR'] == '90-AFILIACION DOMICILIADO EN EL PAIS / SIN RELACION DEPENDENCIA'),\n",
    "           (afi['SECTOR'] == '06-CODIGO DEL TRABAJO - CT ')\n",
    "            ]\n",
    "            \n",
    "tipo = ['PRI', 'PUB', 'IND', 'VOL_EX', 'VOL_EC', 'COD_TR']\n",
    "\n",
    "afi['SECTOR_A'] = np.select( agrupa, tipo, default=afi['SECTOR'])\n",
    "fin = time.time()  \n",
    "print('Tiempo de ejecución es: ',  (fin-inicio)//3600, ' horas con ' ,  (fin-inicio)%3600//60 , ' minutos y', \n",
    "        (fin-inicio)%60, ' segundos' )"
   ]
  },
  {
   "cell_type": "code",
   "execution_count": null,
   "id": "8a62a1f0",
   "metadata": {
    "ExecuteTime": {
     "end_time": "2024-07-15T17:41:26.031814Z",
     "start_time": "2024-07-15T17:41:21.923839Z"
    }
   },
   "outputs": [],
   "source": [
    "afi['SECTOR'].unique()"
   ]
  },
  {
   "cell_type": "code",
   "execution_count": null,
   "id": "b9d7fce7",
   "metadata": {
    "ExecuteTime": {
     "end_time": "2024-07-15T17:41:29.344291Z",
     "start_time": "2024-07-15T17:41:26.033925Z"
    }
   },
   "outputs": [],
   "source": [
    "afi['SECTOR_A'].unique()"
   ]
  },
  {
   "cell_type": "code",
   "execution_count": null,
   "id": "a03a3ae9",
   "metadata": {
    "ExecuteTime": {
     "end_time": "2024-07-15T17:41:29.351637Z",
     "start_time": "2024-07-15T17:41:29.346292Z"
    }
   },
   "outputs": [],
   "source": [
    "afi.shape"
   ]
  },
  {
   "cell_type": "code",
   "execution_count": null,
   "id": "04746277",
   "metadata": {
    "ExecuteTime": {
     "end_time": "2024-07-15T17:42:22.570617Z",
     "start_time": "2024-07-15T17:41:29.353744Z"
    }
   },
   "outputs": [],
   "source": [
    "#Para acceder a las prestaciones de IVM debe tener al menos 5 años de aporte o 60 imposiciones\n",
    "ced_counts = afi.drop_duplicates(subset=['CEDULA_COD', 'ANIO', 'MES'])['CEDULA_COD'].value_counts()"
   ]
  },
  {
   "cell_type": "code",
   "execution_count": null,
   "id": "dbad0c44",
   "metadata": {
    "ExecuteTime": {
     "end_time": "2024-07-15T17:42:22.635232Z",
     "start_time": "2024-07-15T17:42:22.572609Z"
    }
   },
   "outputs": [],
   "source": [
    "# numero de cedulas que tienen menos de 60 imposiciones\n",
    "ced_counts[ced_counts < 60].index.nunique()"
   ]
  },
  {
   "cell_type": "code",
   "execution_count": null,
   "id": "6165f941",
   "metadata": {
    "ExecuteTime": {
     "start_time": "2024-07-15T17:41:05.174Z"
    }
   },
   "outputs": [],
   "source": [
    "#Se filtran a las cedulas con menos de 60 imposicones \n",
    "inicio = time.time()\n",
    "afi_fil = afi[~afi['CEDULA_COD'].isin(ced_counts[ced_counts < 60].index)].copy()\n",
    "fin = time.time()  \n",
    "print('Tiempo de ejecución es: ',  (fin-inicio)//3600, ' horas con ' ,  (fin-inicio)%3600//60 , ' minutos y', (fin-inicio)%60, ' segundos' )\n",
    "\n",
    "#Se crea una variable fecha\n",
    "inicio = time.time()\n",
    "afi_fil.loc[:, 'FECHA'] = pd.to_datetime(afi_fil['ANIO'].astype(str) + '-' + afi_fil['MES'].astype(str).str.zfill(2) + '-01')\n",
    "fin = time.time()  \n",
    "print('Tiempo de ejecución es: ',  (fin-inicio)//3600, ' horas con ' ,  (fin-inicio)%3600//60 , ' minutos y', (fin-inicio)%60, ' segundos' )\n",
    "\n",
    "#Se ordenan los registros\n",
    "inicio = time.time()\n",
    "afi_fil = afi_fil.sort_values( by=[\"CEDULA_COD\",\"ANIO\", \"MES\"], ascending=[True, True, True] )\n",
    "fin = time.time()  \n",
    "print('Tiempo de ejecución es: ',  (fin-inicio)//3600, ' horas con ' ,  (fin-inicio)%3600//60 , ' minutos y', (fin-inicio)%60, ' segundos' )\n",
    "afi_fil.shape"
   ]
  },
  {
   "cell_type": "code",
   "execution_count": null,
   "id": "68f9e80c",
   "metadata": {
    "ExecuteTime": {
     "start_time": "2024-07-15T17:41:07.198Z"
    }
   },
   "outputs": [],
   "source": [
    "# Guadar archivo------------------------------------------------------------------------------------------------------------\n",
    "directorio = r_ruta\n",
    "\n",
    "# Asegúrate de que el directorio existe\n",
    "os.makedirs(directorio, exist_ok=True)\n",
    "\n",
    "# Nombre del archivo\n",
    "nombre_archivo = 'viu_clean_afi.pkl'\n",
    "# Ruta completa del archivo\n",
    "ruta_archivo = os.path.join(directorio, nombre_archivo)\n",
    "# Objetos a guardar\n",
    "objeto1 = afi\n",
    "\n",
    "# Guardar los objetos en el archivo\n",
    "with open(ruta_archivo, 'wb') as archivo:\n",
    "    pickle.dump(objeto1, archivo)\n",
    "    \n",
    "    \n",
    "# Nombre del archivo\n",
    "nombre_archivo = 'viu_clean_afi_fil.pkl'\n",
    "# Ruta completa del archivo\n",
    "ruta_archivo = os.path.join(directorio, nombre_archivo)\n",
    "# Objetos a guardar\n",
    "objeto2 = afi_fil\n",
    "\n",
    "# Guardar los objetos en el archivo\n",
    "with open(ruta_archivo, 'wb') as archivo:\n",
    "    pickle.dump(objeto2, archivo)"
   ]
  },
  {
   "cell_type": "code",
   "execution_count": 4,
   "id": "8f44bc9e",
   "metadata": {},
   "outputs": [],
   "source": [
    "# Cargar archivo------------------------------------------------------------------------------------------------------------\n",
    "directorio = r_ruta\n",
    "nombre_archivo = 'viu_clean_afi_fil.pkl'\n",
    "ruta_archivo = os.path.join(directorio, nombre_archivo)\n",
    "\n",
    "with open( ruta_archivo, 'rb') as archivo:\n",
    "    afi_fil = pickle.load( archivo )    "
   ]
  },
  {
   "cell_type": "code",
   "execution_count": null,
   "id": "d3968aa2",
   "metadata": {
    "ExecuteTime": {
     "end_time": "2024-07-15T17:15:23.991547Z",
     "start_time": "2024-07-15T17:15:23.991547Z"
    }
   },
   "outputs": [],
   "source": [
    "#Se eliminan archivos no necesarios para liberar la memoria\n",
    "del afi\n",
    "del objeto1\n",
    "del objeto2\n",
    "del ced_counts"
   ]
  },
  {
   "cell_type": "code",
   "execution_count": 5,
   "id": "87d43629",
   "metadata": {
    "ExecuteTime": {
     "end_time": "2024-07-15T17:15:23.993540Z",
     "start_time": "2024-07-15T17:15:23.993540Z"
    }
   },
   "outputs": [
    {
     "data": {
      "text/html": [
       "<div>\n",
       "<style scoped>\n",
       "    .dataframe tbody tr th:only-of-type {\n",
       "        vertical-align: middle;\n",
       "    }\n",
       "\n",
       "    .dataframe tbody tr th {\n",
       "        vertical-align: top;\n",
       "    }\n",
       "\n",
       "    .dataframe thead th {\n",
       "        text-align: right;\n",
       "    }\n",
       "</style>\n",
       "<table border=\"1\" class=\"dataframe\">\n",
       "  <thead>\n",
       "    <tr style=\"text-align: right;\">\n",
       "      <th></th>\n",
       "      <th>CEDULA_COD</th>\n",
       "      <th>ANIO</th>\n",
       "      <th>MES</th>\n",
       "      <th>CODSEC</th>\n",
       "      <th>SECTOR</th>\n",
       "      <th>DESTIPEMP</th>\n",
       "      <th>DESRELTRA</th>\n",
       "      <th>CODCII</th>\n",
       "      <th>PROVINCIA</th>\n",
       "      <th>CANTON</th>\n",
       "      <th>SALARIO</th>\n",
       "      <th>PORCENTAJE_AP</th>\n",
       "      <th>SECTOR_A</th>\n",
       "      <th>FECHA</th>\n",
       "    </tr>\n",
       "  </thead>\n",
       "  <tbody>\n",
       "    <tr>\n",
       "      <th>26481585</th>\n",
       "      <td>126</td>\n",
       "      <td>2004</td>\n",
       "      <td>12</td>\n",
       "      <td>R</td>\n",
       "      <td>PRIVADO</td>\n",
       "      <td>2-EMPRESA PRIVADA -SOCIEDADES / COMPANIAS</td>\n",
       "      <td>06-CODIGO DEL TRABAJO - CT</td>\n",
       "      <td>K66220001</td>\n",
       "      <td>AZUAY</td>\n",
       "      <td>CUENCA</td>\n",
       "      <td>147.45</td>\n",
       "      <td>20.5</td>\n",
       "      <td>PRI</td>\n",
       "      <td>2004-12-01</td>\n",
       "    </tr>\n",
       "    <tr>\n",
       "      <th>67442511</th>\n",
       "      <td>126</td>\n",
       "      <td>2005</td>\n",
       "      <td>1</td>\n",
       "      <td>R</td>\n",
       "      <td>PRIVADO</td>\n",
       "      <td>2-EMPRESA PRIVADA -SOCIEDADES / COMPANIAS</td>\n",
       "      <td>06-CODIGO DEL TRABAJO - CT</td>\n",
       "      <td>K66220001</td>\n",
       "      <td>AZUAY</td>\n",
       "      <td>CUENCA</td>\n",
       "      <td>161.67</td>\n",
       "      <td>41.0</td>\n",
       "      <td>PRI</td>\n",
       "      <td>2005-01-01</td>\n",
       "    </tr>\n",
       "    <tr>\n",
       "      <th>41179435</th>\n",
       "      <td>126</td>\n",
       "      <td>2005</td>\n",
       "      <td>2</td>\n",
       "      <td>R</td>\n",
       "      <td>PRIVADO</td>\n",
       "      <td>2-EMPRESA PRIVADA -SOCIEDADES / COMPANIAS</td>\n",
       "      <td>06-CODIGO DEL TRABAJO - CT</td>\n",
       "      <td>K66220001</td>\n",
       "      <td>AZUAY</td>\n",
       "      <td>CUENCA</td>\n",
       "      <td>161.67</td>\n",
       "      <td>20.5</td>\n",
       "      <td>PRI</td>\n",
       "      <td>2005-02-01</td>\n",
       "    </tr>\n",
       "    <tr>\n",
       "      <th>44033860</th>\n",
       "      <td>126</td>\n",
       "      <td>2005</td>\n",
       "      <td>3</td>\n",
       "      <td>R</td>\n",
       "      <td>PRIVADO</td>\n",
       "      <td>2-EMPRESA PRIVADA -SOCIEDADES / COMPANIAS</td>\n",
       "      <td>06-CODIGO DEL TRABAJO - CT</td>\n",
       "      <td>K66220001</td>\n",
       "      <td>AZUAY</td>\n",
       "      <td>CUENCA</td>\n",
       "      <td>161.67</td>\n",
       "      <td>20.5</td>\n",
       "      <td>PRI</td>\n",
       "      <td>2005-03-01</td>\n",
       "    </tr>\n",
       "    <tr>\n",
       "      <th>47099991</th>\n",
       "      <td>126</td>\n",
       "      <td>2005</td>\n",
       "      <td>4</td>\n",
       "      <td>R</td>\n",
       "      <td>PRIVADO</td>\n",
       "      <td>2-EMPRESA PRIVADA -SOCIEDADES / COMPANIAS</td>\n",
       "      <td>06-CODIGO DEL TRABAJO - CT</td>\n",
       "      <td>K66220001</td>\n",
       "      <td>AZUAY</td>\n",
       "      <td>CUENCA</td>\n",
       "      <td>161.67</td>\n",
       "      <td>20.5</td>\n",
       "      <td>PRI</td>\n",
       "      <td>2005-04-01</td>\n",
       "    </tr>\n",
       "    <tr>\n",
       "      <th>...</th>\n",
       "      <td>...</td>\n",
       "      <td>...</td>\n",
       "      <td>...</td>\n",
       "      <td>...</td>\n",
       "      <td>...</td>\n",
       "      <td>...</td>\n",
       "      <td>...</td>\n",
       "      <td>...</td>\n",
       "      <td>...</td>\n",
       "      <td>...</td>\n",
       "      <td>...</td>\n",
       "      <td>...</td>\n",
       "      <td>...</td>\n",
       "      <td>...</td>\n",
       "    </tr>\n",
       "    <tr>\n",
       "      <th>27896256</th>\n",
       "      <td>23594465</td>\n",
       "      <td>2017</td>\n",
       "      <td>11</td>\n",
       "      <td>R</td>\n",
       "      <td>PRIVADO</td>\n",
       "      <td>2-EMPRESA PRIVADA -SOCIEDADES / COMPANIAS</td>\n",
       "      <td>06-CODIGO DEL TRABAJO - CT</td>\n",
       "      <td>C111</td>\n",
       "      <td>PICHINCHA</td>\n",
       "      <td>DISTRITO METROPOLITANO DE QUITO</td>\n",
       "      <td>14045.72</td>\n",
       "      <td>20.6</td>\n",
       "      <td>PRI</td>\n",
       "      <td>2017-11-01</td>\n",
       "    </tr>\n",
       "    <tr>\n",
       "      <th>5107034</th>\n",
       "      <td>23594465</td>\n",
       "      <td>2017</td>\n",
       "      <td>12</td>\n",
       "      <td>R</td>\n",
       "      <td>PRIVADO</td>\n",
       "      <td>2-EMPRESA PRIVADA -SOCIEDADES / COMPANIAS</td>\n",
       "      <td>06-CODIGO DEL TRABAJO - CT</td>\n",
       "      <td>C111</td>\n",
       "      <td>PICHINCHA</td>\n",
       "      <td>DISTRITO METROPOLITANO DE QUITO</td>\n",
       "      <td>14164.25</td>\n",
       "      <td>20.6</td>\n",
       "      <td>PRI</td>\n",
       "      <td>2017-12-01</td>\n",
       "    </tr>\n",
       "    <tr>\n",
       "      <th>44333802</th>\n",
       "      <td>23594465</td>\n",
       "      <td>2018</td>\n",
       "      <td>1</td>\n",
       "      <td>R</td>\n",
       "      <td>PRIVADO</td>\n",
       "      <td>2-EMPRESA PRIVADA -SOCIEDADES / COMPANIAS</td>\n",
       "      <td>06-CODIGO DEL TRABAJO - CT</td>\n",
       "      <td>C111</td>\n",
       "      <td>PICHINCHA</td>\n",
       "      <td>DISTRITO METROPOLITANO DE QUITO</td>\n",
       "      <td>12903.21</td>\n",
       "      <td>20.6</td>\n",
       "      <td>PRI</td>\n",
       "      <td>2018-01-01</td>\n",
       "    </tr>\n",
       "    <tr>\n",
       "      <th>38102314</th>\n",
       "      <td>23594465</td>\n",
       "      <td>2018</td>\n",
       "      <td>2</td>\n",
       "      <td>R</td>\n",
       "      <td>PRIVADO</td>\n",
       "      <td>2-EMPRESA PRIVADA -SOCIEDADES / COMPANIAS</td>\n",
       "      <td>06-CODIGO DEL TRABAJO - CT</td>\n",
       "      <td>C111</td>\n",
       "      <td>PICHINCHA</td>\n",
       "      <td>DISTRITO METROPOLITANO DE QUITO</td>\n",
       "      <td>42432.21</td>\n",
       "      <td>20.6</td>\n",
       "      <td>PRI</td>\n",
       "      <td>2018-02-01</td>\n",
       "    </tr>\n",
       "    <tr>\n",
       "      <th>54561026</th>\n",
       "      <td>23594465</td>\n",
       "      <td>2018</td>\n",
       "      <td>3</td>\n",
       "      <td>R</td>\n",
       "      <td>PRIVADO</td>\n",
       "      <td>2-EMPRESA PRIVADA -SOCIEDADES / COMPANIAS</td>\n",
       "      <td>06-CODIGO DEL TRABAJO - CT</td>\n",
       "      <td>C111</td>\n",
       "      <td>PICHINCHA</td>\n",
       "      <td>DISTRITO METROPOLITANO DE QUITO</td>\n",
       "      <td>12738.28</td>\n",
       "      <td>20.6</td>\n",
       "      <td>PRI</td>\n",
       "      <td>2018-03-01</td>\n",
       "    </tr>\n",
       "  </tbody>\n",
       "</table>\n",
       "<p>64638969 rows × 14 columns</p>\n",
       "</div>"
      ],
      "text/plain": [
       "          CEDULA_COD  ANIO  MES CODSEC   SECTOR  \\\n",
       "26481585         126  2004   12      R  PRIVADO   \n",
       "67442511         126  2005    1      R  PRIVADO   \n",
       "41179435         126  2005    2      R  PRIVADO   \n",
       "44033860         126  2005    3      R  PRIVADO   \n",
       "47099991         126  2005    4      R  PRIVADO   \n",
       "...              ...   ...  ...    ...      ...   \n",
       "27896256    23594465  2017   11      R  PRIVADO   \n",
       "5107034     23594465  2017   12      R  PRIVADO   \n",
       "44333802    23594465  2018    1      R  PRIVADO   \n",
       "38102314    23594465  2018    2      R  PRIVADO   \n",
       "54561026    23594465  2018    3      R  PRIVADO   \n",
       "\n",
       "                                          DESTIPEMP  \\\n",
       "26481585  2-EMPRESA PRIVADA -SOCIEDADES / COMPANIAS   \n",
       "67442511  2-EMPRESA PRIVADA -SOCIEDADES / COMPANIAS   \n",
       "41179435  2-EMPRESA PRIVADA -SOCIEDADES / COMPANIAS   \n",
       "44033860  2-EMPRESA PRIVADA -SOCIEDADES / COMPANIAS   \n",
       "47099991  2-EMPRESA PRIVADA -SOCIEDADES / COMPANIAS   \n",
       "...                                             ...   \n",
       "27896256  2-EMPRESA PRIVADA -SOCIEDADES / COMPANIAS   \n",
       "5107034   2-EMPRESA PRIVADA -SOCIEDADES / COMPANIAS   \n",
       "44333802  2-EMPRESA PRIVADA -SOCIEDADES / COMPANIAS   \n",
       "38102314  2-EMPRESA PRIVADA -SOCIEDADES / COMPANIAS   \n",
       "54561026  2-EMPRESA PRIVADA -SOCIEDADES / COMPANIAS   \n",
       "\n",
       "                            DESRELTRA     CODCII  PROVINCIA  \\\n",
       "26481585  06-CODIGO DEL TRABAJO - CT   K66220001      AZUAY   \n",
       "67442511  06-CODIGO DEL TRABAJO - CT   K66220001      AZUAY   \n",
       "41179435  06-CODIGO DEL TRABAJO - CT   K66220001      AZUAY   \n",
       "44033860  06-CODIGO DEL TRABAJO - CT   K66220001      AZUAY   \n",
       "47099991  06-CODIGO DEL TRABAJO - CT   K66220001      AZUAY   \n",
       "...                               ...        ...        ...   \n",
       "27896256  06-CODIGO DEL TRABAJO - CT        C111  PICHINCHA   \n",
       "5107034   06-CODIGO DEL TRABAJO - CT        C111  PICHINCHA   \n",
       "44333802  06-CODIGO DEL TRABAJO - CT        C111  PICHINCHA   \n",
       "38102314  06-CODIGO DEL TRABAJO - CT        C111  PICHINCHA   \n",
       "54561026  06-CODIGO DEL TRABAJO - CT        C111  PICHINCHA   \n",
       "\n",
       "                                   CANTON   SALARIO  PORCENTAJE_AP SECTOR_A  \\\n",
       "26481585                           CUENCA    147.45           20.5      PRI   \n",
       "67442511                           CUENCA    161.67           41.0      PRI   \n",
       "41179435                           CUENCA    161.67           20.5      PRI   \n",
       "44033860                           CUENCA    161.67           20.5      PRI   \n",
       "47099991                           CUENCA    161.67           20.5      PRI   \n",
       "...                                   ...       ...            ...      ...   \n",
       "27896256  DISTRITO METROPOLITANO DE QUITO  14045.72           20.6      PRI   \n",
       "5107034   DISTRITO METROPOLITANO DE QUITO  14164.25           20.6      PRI   \n",
       "44333802  DISTRITO METROPOLITANO DE QUITO  12903.21           20.6      PRI   \n",
       "38102314  DISTRITO METROPOLITANO DE QUITO  42432.21           20.6      PRI   \n",
       "54561026  DISTRITO METROPOLITANO DE QUITO  12738.28           20.6      PRI   \n",
       "\n",
       "              FECHA  \n",
       "26481585 2004-12-01  \n",
       "67442511 2005-01-01  \n",
       "41179435 2005-02-01  \n",
       "44033860 2005-03-01  \n",
       "47099991 2005-04-01  \n",
       "...             ...  \n",
       "27896256 2017-11-01  \n",
       "5107034  2017-12-01  \n",
       "44333802 2018-01-01  \n",
       "38102314 2018-02-01  \n",
       "54561026 2018-03-01  \n",
       "\n",
       "[64638969 rows x 14 columns]"
      ]
     },
     "execution_count": 5,
     "metadata": {},
     "output_type": "execute_result"
    }
   ],
   "source": [
    "afi_fil #Tiene una dimensión de (64638969 rows × 14 columns) "
   ]
  },
  {
   "cell_type": "code",
   "execution_count": 6,
   "id": "3903704c",
   "metadata": {
    "ExecuteTime": {
     "end_time": "2024-07-15T17:15:23.995553Z",
     "start_time": "2024-07-15T17:15:23.995553Z"
    }
   },
   "outputs": [],
   "source": [
    "#Se seleccionan las características de la población para los año y mes de aportación\n",
    "afi_sel = afi_fil[['CEDULA_COD', 'ANIO', 'MES', 'FECHA','SALARIO', 'SECTOR_A']].copy()\n",
    "del afi_fil"
   ]
  },
  {
   "cell_type": "code",
   "execution_count": 7,
   "id": "2779ae23",
   "metadata": {},
   "outputs": [
    {
     "data": {
      "text/html": [
       "<div>\n",
       "<style scoped>\n",
       "    .dataframe tbody tr th:only-of-type {\n",
       "        vertical-align: middle;\n",
       "    }\n",
       "\n",
       "    .dataframe tbody tr th {\n",
       "        vertical-align: top;\n",
       "    }\n",
       "\n",
       "    .dataframe thead th {\n",
       "        text-align: right;\n",
       "    }\n",
       "</style>\n",
       "<table border=\"1\" class=\"dataframe\">\n",
       "  <thead>\n",
       "    <tr style=\"text-align: right;\">\n",
       "      <th></th>\n",
       "      <th>CEDULA_COD</th>\n",
       "      <th>ANIO</th>\n",
       "      <th>MES</th>\n",
       "      <th>FECHA</th>\n",
       "      <th>SALARIO</th>\n",
       "      <th>SECTOR_A</th>\n",
       "    </tr>\n",
       "  </thead>\n",
       "  <tbody>\n",
       "    <tr>\n",
       "      <th>26481585</th>\n",
       "      <td>126</td>\n",
       "      <td>2004</td>\n",
       "      <td>12</td>\n",
       "      <td>2004-12-01</td>\n",
       "      <td>147.45</td>\n",
       "      <td>PRI</td>\n",
       "    </tr>\n",
       "    <tr>\n",
       "      <th>67442511</th>\n",
       "      <td>126</td>\n",
       "      <td>2005</td>\n",
       "      <td>1</td>\n",
       "      <td>2005-01-01</td>\n",
       "      <td>161.67</td>\n",
       "      <td>PRI</td>\n",
       "    </tr>\n",
       "    <tr>\n",
       "      <th>41179435</th>\n",
       "      <td>126</td>\n",
       "      <td>2005</td>\n",
       "      <td>2</td>\n",
       "      <td>2005-02-01</td>\n",
       "      <td>161.67</td>\n",
       "      <td>PRI</td>\n",
       "    </tr>\n",
       "    <tr>\n",
       "      <th>44033860</th>\n",
       "      <td>126</td>\n",
       "      <td>2005</td>\n",
       "      <td>3</td>\n",
       "      <td>2005-03-01</td>\n",
       "      <td>161.67</td>\n",
       "      <td>PRI</td>\n",
       "    </tr>\n",
       "    <tr>\n",
       "      <th>47099991</th>\n",
       "      <td>126</td>\n",
       "      <td>2005</td>\n",
       "      <td>4</td>\n",
       "      <td>2005-04-01</td>\n",
       "      <td>161.67</td>\n",
       "      <td>PRI</td>\n",
       "    </tr>\n",
       "    <tr>\n",
       "      <th>...</th>\n",
       "      <td>...</td>\n",
       "      <td>...</td>\n",
       "      <td>...</td>\n",
       "      <td>...</td>\n",
       "      <td>...</td>\n",
       "      <td>...</td>\n",
       "    </tr>\n",
       "    <tr>\n",
       "      <th>27896256</th>\n",
       "      <td>23594465</td>\n",
       "      <td>2017</td>\n",
       "      <td>11</td>\n",
       "      <td>2017-11-01</td>\n",
       "      <td>14045.72</td>\n",
       "      <td>PRI</td>\n",
       "    </tr>\n",
       "    <tr>\n",
       "      <th>5107034</th>\n",
       "      <td>23594465</td>\n",
       "      <td>2017</td>\n",
       "      <td>12</td>\n",
       "      <td>2017-12-01</td>\n",
       "      <td>14164.25</td>\n",
       "      <td>PRI</td>\n",
       "    </tr>\n",
       "    <tr>\n",
       "      <th>44333802</th>\n",
       "      <td>23594465</td>\n",
       "      <td>2018</td>\n",
       "      <td>1</td>\n",
       "      <td>2018-01-01</td>\n",
       "      <td>12903.21</td>\n",
       "      <td>PRI</td>\n",
       "    </tr>\n",
       "    <tr>\n",
       "      <th>38102314</th>\n",
       "      <td>23594465</td>\n",
       "      <td>2018</td>\n",
       "      <td>2</td>\n",
       "      <td>2018-02-01</td>\n",
       "      <td>42432.21</td>\n",
       "      <td>PRI</td>\n",
       "    </tr>\n",
       "    <tr>\n",
       "      <th>54561026</th>\n",
       "      <td>23594465</td>\n",
       "      <td>2018</td>\n",
       "      <td>3</td>\n",
       "      <td>2018-03-01</td>\n",
       "      <td>12738.28</td>\n",
       "      <td>PRI</td>\n",
       "    </tr>\n",
       "  </tbody>\n",
       "</table>\n",
       "<p>64638969 rows × 6 columns</p>\n",
       "</div>"
      ],
      "text/plain": [
       "          CEDULA_COD  ANIO  MES      FECHA   SALARIO SECTOR_A\n",
       "26481585         126  2004   12 2004-12-01    147.45      PRI\n",
       "67442511         126  2005    1 2005-01-01    161.67      PRI\n",
       "41179435         126  2005    2 2005-02-01    161.67      PRI\n",
       "44033860         126  2005    3 2005-03-01    161.67      PRI\n",
       "47099991         126  2005    4 2005-04-01    161.67      PRI\n",
       "...              ...   ...  ...        ...       ...      ...\n",
       "27896256    23594465  2017   11 2017-11-01  14045.72      PRI\n",
       "5107034     23594465  2017   12 2017-12-01  14164.25      PRI\n",
       "44333802    23594465  2018    1 2018-01-01  12903.21      PRI\n",
       "38102314    23594465  2018    2 2018-02-01  42432.21      PRI\n",
       "54561026    23594465  2018    3 2018-03-01  12738.28      PRI\n",
       "\n",
       "[64638969 rows x 6 columns]"
      ]
     },
     "execution_count": 7,
     "metadata": {},
     "output_type": "execute_result"
    }
   ],
   "source": [
    "afi_sel "
   ]
  },
  {
   "cell_type": "code",
   "execution_count": 8,
   "id": "61d59b8c",
   "metadata": {},
   "outputs": [],
   "source": [
    "#lEY DE SEGURIDAD SOCIAL\n",
    "#personal                                     #patronal\n",
    "#obreros  5%\n",
    "#publicos 7%                                  #1.5% /3.5% (sumando 7+1.5=8.5)\n",
    "#independientes 8.5%\n",
    "\n",
    "prima = pd.DataFrame( { 'ANIO':[ 2000,2001,2002,2003,2004,2005,2006,2007,2008,2009,2010,2011,2012,2013,2014, #CI 150,CD 081,261,\n",
    "                                2015, 2016, 2017, 2018, 2019, 2020, 2021,  2022, 2023, 2024], #CD 501,515,609\n",
    "                        'VALOR':[8.5,8.5,8.5,9.15,9.15,9.74,9.74,9.74,9.74,9.74,9.74,9.74,9.74,9.74,9.74,\n",
    "                                 5.96, 5.96, 6.90, 7.76, 8.96, 9.96, 11.06, 11.06, 11.06, 11.06],\n",
    "                        'TASA':[ 4,4,4,4,4,4,4,4,4,4,4,4,4,4,4,4,4,4,4,4,4,6.25,6.25,6.25,6.25] # CI 141, cd 459\n",
    "                      })\n",
    "prima['VALOR'] = prima['VALOR'] * (1/100)\n",
    "prima['TASA'] = prima['TASA'] * (1/100)\n",
    "pri = prima.groupby('ANIO')['VALOR'].first()\n",
    "tasa = prima.groupby('ANIO')['TASA'].first()"
   ]
  },
  {
   "cell_type": "code",
   "execution_count": 9,
   "id": "8332e058",
   "metadata": {},
   "outputs": [],
   "source": [
    "afi_sel['prima'] = afi_sel['ANIO'].map(pri)\n",
    "afi_sel['tasa_act'] = afi_sel['ANIO'].map(tasa)"
   ]
  },
  {
   "cell_type": "code",
   "execution_count": 10,
   "id": "1771e377",
   "metadata": {},
   "outputs": [],
   "source": [
    "afi_sel.loc[ afi_sel['prima'].isna(), 'prima'] = 8.5/100\n",
    "afi_sel.loc[ afi_sel['tasa_act'].isna(), 'tasa_act'] = 4/100"
   ]
  },
  {
   "cell_type": "code",
   "execution_count": 11,
   "id": "735c33f0",
   "metadata": {},
   "outputs": [
    {
     "data": {
      "text/html": [
       "<div>\n",
       "<style scoped>\n",
       "    .dataframe tbody tr th:only-of-type {\n",
       "        vertical-align: middle;\n",
       "    }\n",
       "\n",
       "    .dataframe tbody tr th {\n",
       "        vertical-align: top;\n",
       "    }\n",
       "\n",
       "    .dataframe thead th {\n",
       "        text-align: right;\n",
       "    }\n",
       "</style>\n",
       "<table border=\"1\" class=\"dataframe\">\n",
       "  <thead>\n",
       "    <tr style=\"text-align: right;\">\n",
       "      <th></th>\n",
       "      <th>CEDULA_COD</th>\n",
       "      <th>ANIO</th>\n",
       "      <th>MES</th>\n",
       "      <th>FECHA</th>\n",
       "      <th>SALARIO</th>\n",
       "      <th>SECTOR_A</th>\n",
       "      <th>prima</th>\n",
       "      <th>tasa_act</th>\n",
       "    </tr>\n",
       "  </thead>\n",
       "  <tbody>\n",
       "  </tbody>\n",
       "</table>\n",
       "</div>"
      ],
      "text/plain": [
       "Empty DataFrame\n",
       "Columns: [CEDULA_COD, ANIO, MES, FECHA, SALARIO, SECTOR_A, prima, tasa_act]\n",
       "Index: []"
      ]
     },
     "execution_count": 11,
     "metadata": {},
     "output_type": "execute_result"
    }
   ],
   "source": [
    "afi_sel[ afi_sel['prima'].isna()]"
   ]
  },
  {
   "cell_type": "code",
   "execution_count": 12,
   "id": "37dce2e2",
   "metadata": {},
   "outputs": [
    {
     "data": {
      "text/html": [
       "<div>\n",
       "<style scoped>\n",
       "    .dataframe tbody tr th:only-of-type {\n",
       "        vertical-align: middle;\n",
       "    }\n",
       "\n",
       "    .dataframe tbody tr th {\n",
       "        vertical-align: top;\n",
       "    }\n",
       "\n",
       "    .dataframe thead th {\n",
       "        text-align: right;\n",
       "    }\n",
       "</style>\n",
       "<table border=\"1\" class=\"dataframe\">\n",
       "  <thead>\n",
       "    <tr style=\"text-align: right;\">\n",
       "      <th></th>\n",
       "      <th>CEDULA_COD</th>\n",
       "      <th>ANIO</th>\n",
       "      <th>MES</th>\n",
       "      <th>FECHA</th>\n",
       "      <th>SALARIO</th>\n",
       "      <th>SECTOR_A</th>\n",
       "      <th>prima</th>\n",
       "      <th>tasa_act</th>\n",
       "    </tr>\n",
       "  </thead>\n",
       "  <tbody>\n",
       "  </tbody>\n",
       "</table>\n",
       "</div>"
      ],
      "text/plain": [
       "Empty DataFrame\n",
       "Columns: [CEDULA_COD, ANIO, MES, FECHA, SALARIO, SECTOR_A, prima, tasa_act]\n",
       "Index: []"
      ]
     },
     "execution_count": 12,
     "metadata": {},
     "output_type": "execute_result"
    }
   ],
   "source": [
    "afi_sel[ afi_sel['tasa_act'].isna()]"
   ]
  },
  {
   "cell_type": "code",
   "execution_count": 13,
   "id": "15d2f28c",
   "metadata": {},
   "outputs": [
    {
     "data": {
      "text/html": [
       "<div>\n",
       "<style scoped>\n",
       "    .dataframe tbody tr th:only-of-type {\n",
       "        vertical-align: middle;\n",
       "    }\n",
       "\n",
       "    .dataframe tbody tr th {\n",
       "        vertical-align: top;\n",
       "    }\n",
       "\n",
       "    .dataframe thead th {\n",
       "        text-align: right;\n",
       "    }\n",
       "</style>\n",
       "<table border=\"1\" class=\"dataframe\">\n",
       "  <thead>\n",
       "    <tr style=\"text-align: right;\">\n",
       "      <th></th>\n",
       "      <th>CEDULA_COD</th>\n",
       "      <th>ANIO</th>\n",
       "      <th>SUM_SAL_ANIO</th>\n",
       "    </tr>\n",
       "  </thead>\n",
       "  <tbody>\n",
       "    <tr>\n",
       "      <th>0</th>\n",
       "      <td>126</td>\n",
       "      <td>2004</td>\n",
       "      <td>147.45</td>\n",
       "    </tr>\n",
       "    <tr>\n",
       "      <th>1</th>\n",
       "      <td>126</td>\n",
       "      <td>2005</td>\n",
       "      <td>1940.04</td>\n",
       "    </tr>\n",
       "    <tr>\n",
       "      <th>2</th>\n",
       "      <td>126</td>\n",
       "      <td>2006</td>\n",
       "      <td>1940.04</td>\n",
       "    </tr>\n",
       "    <tr>\n",
       "      <th>3</th>\n",
       "      <td>126</td>\n",
       "      <td>2007</td>\n",
       "      <td>2040.00</td>\n",
       "    </tr>\n",
       "    <tr>\n",
       "      <th>4</th>\n",
       "      <td>126</td>\n",
       "      <td>2008</td>\n",
       "      <td>2900.00</td>\n",
       "    </tr>\n",
       "    <tr>\n",
       "      <th>...</th>\n",
       "      <td>...</td>\n",
       "      <td>...</td>\n",
       "      <td>...</td>\n",
       "    </tr>\n",
       "    <tr>\n",
       "      <th>5720218</th>\n",
       "      <td>23594465</td>\n",
       "      <td>2014</td>\n",
       "      <td>216697.15</td>\n",
       "    </tr>\n",
       "    <tr>\n",
       "      <th>5720219</th>\n",
       "      <td>23594465</td>\n",
       "      <td>2015</td>\n",
       "      <td>198107.31</td>\n",
       "    </tr>\n",
       "    <tr>\n",
       "      <th>5720220</th>\n",
       "      <td>23594465</td>\n",
       "      <td>2016</td>\n",
       "      <td>200745.78</td>\n",
       "    </tr>\n",
       "    <tr>\n",
       "      <th>5720221</th>\n",
       "      <td>23594465</td>\n",
       "      <td>2017</td>\n",
       "      <td>193440.44</td>\n",
       "    </tr>\n",
       "    <tr>\n",
       "      <th>5720222</th>\n",
       "      <td>23594465</td>\n",
       "      <td>2018</td>\n",
       "      <td>68073.70</td>\n",
       "    </tr>\n",
       "  </tbody>\n",
       "</table>\n",
       "<p>5720223 rows × 3 columns</p>\n",
       "</div>"
      ],
      "text/plain": [
       "         CEDULA_COD  ANIO  SUM_SAL_ANIO\n",
       "0               126  2004        147.45\n",
       "1               126  2005       1940.04\n",
       "2               126  2006       1940.04\n",
       "3               126  2007       2040.00\n",
       "4               126  2008       2900.00\n",
       "...             ...   ...           ...\n",
       "5720218    23594465  2014     216697.15\n",
       "5720219    23594465  2015     198107.31\n",
       "5720220    23594465  2016     200745.78\n",
       "5720221    23594465  2017     193440.44\n",
       "5720222    23594465  2018      68073.70\n",
       "\n",
       "[5720223 rows x 3 columns]"
      ]
     },
     "execution_count": 13,
     "metadata": {},
     "output_type": "execute_result"
    }
   ],
   "source": [
    "aux1 = afi_sel.groupby(['CEDULA_COD','ANIO'])['SALARIO'].sum().reset_index()\n",
    "aux1.rename( columns={'SALARIO': 'SUM_SAL_ANIO'}, inplace=True)\n",
    "aux1"
   ]
  },
  {
   "cell_type": "code",
   "execution_count": 14,
   "id": "505256fa",
   "metadata": {},
   "outputs": [],
   "source": [
    "afi_sel  = afi_sel.merge(aux1[['CEDULA_COD', 'ANIO', 'SUM_SAL_ANIO']], on=['CEDULA_COD', 'ANIO'], how='left')"
   ]
  },
  {
   "cell_type": "code",
   "execution_count": 15,
   "id": "4508a6f7",
   "metadata": {},
   "outputs": [
    {
     "data": {
      "text/html": [
       "<div>\n",
       "<style scoped>\n",
       "    .dataframe tbody tr th:only-of-type {\n",
       "        vertical-align: middle;\n",
       "    }\n",
       "\n",
       "    .dataframe tbody tr th {\n",
       "        vertical-align: top;\n",
       "    }\n",
       "\n",
       "    .dataframe thead th {\n",
       "        text-align: right;\n",
       "    }\n",
       "</style>\n",
       "<table border=\"1\" class=\"dataframe\">\n",
       "  <thead>\n",
       "    <tr style=\"text-align: right;\">\n",
       "      <th></th>\n",
       "      <th>CEDULA_COD</th>\n",
       "      <th>ANIO</th>\n",
       "      <th>MES</th>\n",
       "      <th>FECHA</th>\n",
       "      <th>SALARIO</th>\n",
       "      <th>SECTOR_A</th>\n",
       "      <th>prima</th>\n",
       "      <th>tasa_act</th>\n",
       "      <th>SUM_SAL_ANIO</th>\n",
       "    </tr>\n",
       "  </thead>\n",
       "  <tbody>\n",
       "    <tr>\n",
       "      <th>0</th>\n",
       "      <td>126</td>\n",
       "      <td>2004</td>\n",
       "      <td>12</td>\n",
       "      <td>2004-12-01</td>\n",
       "      <td>147.45</td>\n",
       "      <td>PRI</td>\n",
       "      <td>0.0915</td>\n",
       "      <td>0.04</td>\n",
       "      <td>147.45</td>\n",
       "    </tr>\n",
       "    <tr>\n",
       "      <th>1</th>\n",
       "      <td>126</td>\n",
       "      <td>2005</td>\n",
       "      <td>1</td>\n",
       "      <td>2005-01-01</td>\n",
       "      <td>161.67</td>\n",
       "      <td>PRI</td>\n",
       "      <td>0.0974</td>\n",
       "      <td>0.04</td>\n",
       "      <td>1940.04</td>\n",
       "    </tr>\n",
       "    <tr>\n",
       "      <th>2</th>\n",
       "      <td>126</td>\n",
       "      <td>2005</td>\n",
       "      <td>2</td>\n",
       "      <td>2005-02-01</td>\n",
       "      <td>161.67</td>\n",
       "      <td>PRI</td>\n",
       "      <td>0.0974</td>\n",
       "      <td>0.04</td>\n",
       "      <td>1940.04</td>\n",
       "    </tr>\n",
       "    <tr>\n",
       "      <th>3</th>\n",
       "      <td>126</td>\n",
       "      <td>2005</td>\n",
       "      <td>3</td>\n",
       "      <td>2005-03-01</td>\n",
       "      <td>161.67</td>\n",
       "      <td>PRI</td>\n",
       "      <td>0.0974</td>\n",
       "      <td>0.04</td>\n",
       "      <td>1940.04</td>\n",
       "    </tr>\n",
       "    <tr>\n",
       "      <th>4</th>\n",
       "      <td>126</td>\n",
       "      <td>2005</td>\n",
       "      <td>4</td>\n",
       "      <td>2005-04-01</td>\n",
       "      <td>161.67</td>\n",
       "      <td>PRI</td>\n",
       "      <td>0.0974</td>\n",
       "      <td>0.04</td>\n",
       "      <td>1940.04</td>\n",
       "    </tr>\n",
       "    <tr>\n",
       "      <th>...</th>\n",
       "      <td>...</td>\n",
       "      <td>...</td>\n",
       "      <td>...</td>\n",
       "      <td>...</td>\n",
       "      <td>...</td>\n",
       "      <td>...</td>\n",
       "      <td>...</td>\n",
       "      <td>...</td>\n",
       "      <td>...</td>\n",
       "    </tr>\n",
       "    <tr>\n",
       "      <th>64638964</th>\n",
       "      <td>23594465</td>\n",
       "      <td>2017</td>\n",
       "      <td>11</td>\n",
       "      <td>2017-11-01</td>\n",
       "      <td>14045.72</td>\n",
       "      <td>PRI</td>\n",
       "      <td>0.0690</td>\n",
       "      <td>0.04</td>\n",
       "      <td>193440.44</td>\n",
       "    </tr>\n",
       "    <tr>\n",
       "      <th>64638965</th>\n",
       "      <td>23594465</td>\n",
       "      <td>2017</td>\n",
       "      <td>12</td>\n",
       "      <td>2017-12-01</td>\n",
       "      <td>14164.25</td>\n",
       "      <td>PRI</td>\n",
       "      <td>0.0690</td>\n",
       "      <td>0.04</td>\n",
       "      <td>193440.44</td>\n",
       "    </tr>\n",
       "    <tr>\n",
       "      <th>64638966</th>\n",
       "      <td>23594465</td>\n",
       "      <td>2018</td>\n",
       "      <td>1</td>\n",
       "      <td>2018-01-01</td>\n",
       "      <td>12903.21</td>\n",
       "      <td>PRI</td>\n",
       "      <td>0.0776</td>\n",
       "      <td>0.04</td>\n",
       "      <td>68073.70</td>\n",
       "    </tr>\n",
       "    <tr>\n",
       "      <th>64638967</th>\n",
       "      <td>23594465</td>\n",
       "      <td>2018</td>\n",
       "      <td>2</td>\n",
       "      <td>2018-02-01</td>\n",
       "      <td>42432.21</td>\n",
       "      <td>PRI</td>\n",
       "      <td>0.0776</td>\n",
       "      <td>0.04</td>\n",
       "      <td>68073.70</td>\n",
       "    </tr>\n",
       "    <tr>\n",
       "      <th>64638968</th>\n",
       "      <td>23594465</td>\n",
       "      <td>2018</td>\n",
       "      <td>3</td>\n",
       "      <td>2018-03-01</td>\n",
       "      <td>12738.28</td>\n",
       "      <td>PRI</td>\n",
       "      <td>0.0776</td>\n",
       "      <td>0.04</td>\n",
       "      <td>68073.70</td>\n",
       "    </tr>\n",
       "  </tbody>\n",
       "</table>\n",
       "<p>64638969 rows × 9 columns</p>\n",
       "</div>"
      ],
      "text/plain": [
       "          CEDULA_COD  ANIO  MES      FECHA   SALARIO SECTOR_A   prima  \\\n",
       "0                126  2004   12 2004-12-01    147.45      PRI  0.0915   \n",
       "1                126  2005    1 2005-01-01    161.67      PRI  0.0974   \n",
       "2                126  2005    2 2005-02-01    161.67      PRI  0.0974   \n",
       "3                126  2005    3 2005-03-01    161.67      PRI  0.0974   \n",
       "4                126  2005    4 2005-04-01    161.67      PRI  0.0974   \n",
       "...              ...   ...  ...        ...       ...      ...     ...   \n",
       "64638964    23594465  2017   11 2017-11-01  14045.72      PRI  0.0690   \n",
       "64638965    23594465  2017   12 2017-12-01  14164.25      PRI  0.0690   \n",
       "64638966    23594465  2018    1 2018-01-01  12903.21      PRI  0.0776   \n",
       "64638967    23594465  2018    2 2018-02-01  42432.21      PRI  0.0776   \n",
       "64638968    23594465  2018    3 2018-03-01  12738.28      PRI  0.0776   \n",
       "\n",
       "          tasa_act  SUM_SAL_ANIO  \n",
       "0             0.04        147.45  \n",
       "1             0.04       1940.04  \n",
       "2             0.04       1940.04  \n",
       "3             0.04       1940.04  \n",
       "4             0.04       1940.04  \n",
       "...            ...           ...  \n",
       "64638964      0.04     193440.44  \n",
       "64638965      0.04     193440.44  \n",
       "64638966      0.04      68073.70  \n",
       "64638967      0.04      68073.70  \n",
       "64638968      0.04      68073.70  \n",
       "\n",
       "[64638969 rows x 9 columns]"
      ]
     },
     "execution_count": 15,
     "metadata": {},
     "output_type": "execute_result"
    }
   ],
   "source": [
    "afi_sel"
   ]
  },
  {
   "cell_type": "code",
   "execution_count": 16,
   "id": "f9839974",
   "metadata": {},
   "outputs": [],
   "source": [
    "afi_sel['APORTE'] = afi_sel['prima'] * afi_sel['SUM_SAL_ANIO']\n",
    "afi_sel['INTERES_APORTE'] = afi_sel['APORTE'] * afi_sel['tasa_act']"
   ]
  },
  {
   "cell_type": "code",
   "execution_count": 17,
   "id": "3bd7bb74",
   "metadata": {},
   "outputs": [
    {
     "data": {
      "text/html": [
       "<div>\n",
       "<style scoped>\n",
       "    .dataframe tbody tr th:only-of-type {\n",
       "        vertical-align: middle;\n",
       "    }\n",
       "\n",
       "    .dataframe tbody tr th {\n",
       "        vertical-align: top;\n",
       "    }\n",
       "\n",
       "    .dataframe thead th {\n",
       "        text-align: right;\n",
       "    }\n",
       "</style>\n",
       "<table border=\"1\" class=\"dataframe\">\n",
       "  <thead>\n",
       "    <tr style=\"text-align: right;\">\n",
       "      <th></th>\n",
       "      <th>CEDULA_COD</th>\n",
       "      <th>ANIO</th>\n",
       "      <th>MES</th>\n",
       "      <th>FECHA</th>\n",
       "      <th>SALARIO</th>\n",
       "      <th>SECTOR_A</th>\n",
       "      <th>prima</th>\n",
       "      <th>tasa_act</th>\n",
       "      <th>SUM_SAL_ANIO</th>\n",
       "      <th>APORTE</th>\n",
       "      <th>INTERES_APORTE</th>\n",
       "    </tr>\n",
       "  </thead>\n",
       "  <tbody>\n",
       "    <tr>\n",
       "      <th>0</th>\n",
       "      <td>126</td>\n",
       "      <td>2004</td>\n",
       "      <td>12</td>\n",
       "      <td>2004-12-01</td>\n",
       "      <td>147.45</td>\n",
       "      <td>PRI</td>\n",
       "      <td>0.0915</td>\n",
       "      <td>0.04</td>\n",
       "      <td>147.45</td>\n",
       "      <td>13.491675</td>\n",
       "      <td>0.539667</td>\n",
       "    </tr>\n",
       "    <tr>\n",
       "      <th>1</th>\n",
       "      <td>126</td>\n",
       "      <td>2005</td>\n",
       "      <td>1</td>\n",
       "      <td>2005-01-01</td>\n",
       "      <td>161.67</td>\n",
       "      <td>PRI</td>\n",
       "      <td>0.0974</td>\n",
       "      <td>0.04</td>\n",
       "      <td>1940.04</td>\n",
       "      <td>188.959896</td>\n",
       "      <td>7.558396</td>\n",
       "    </tr>\n",
       "    <tr>\n",
       "      <th>2</th>\n",
       "      <td>126</td>\n",
       "      <td>2005</td>\n",
       "      <td>2</td>\n",
       "      <td>2005-02-01</td>\n",
       "      <td>161.67</td>\n",
       "      <td>PRI</td>\n",
       "      <td>0.0974</td>\n",
       "      <td>0.04</td>\n",
       "      <td>1940.04</td>\n",
       "      <td>188.959896</td>\n",
       "      <td>7.558396</td>\n",
       "    </tr>\n",
       "    <tr>\n",
       "      <th>3</th>\n",
       "      <td>126</td>\n",
       "      <td>2005</td>\n",
       "      <td>3</td>\n",
       "      <td>2005-03-01</td>\n",
       "      <td>161.67</td>\n",
       "      <td>PRI</td>\n",
       "      <td>0.0974</td>\n",
       "      <td>0.04</td>\n",
       "      <td>1940.04</td>\n",
       "      <td>188.959896</td>\n",
       "      <td>7.558396</td>\n",
       "    </tr>\n",
       "    <tr>\n",
       "      <th>4</th>\n",
       "      <td>126</td>\n",
       "      <td>2005</td>\n",
       "      <td>4</td>\n",
       "      <td>2005-04-01</td>\n",
       "      <td>161.67</td>\n",
       "      <td>PRI</td>\n",
       "      <td>0.0974</td>\n",
       "      <td>0.04</td>\n",
       "      <td>1940.04</td>\n",
       "      <td>188.959896</td>\n",
       "      <td>7.558396</td>\n",
       "    </tr>\n",
       "    <tr>\n",
       "      <th>...</th>\n",
       "      <td>...</td>\n",
       "      <td>...</td>\n",
       "      <td>...</td>\n",
       "      <td>...</td>\n",
       "      <td>...</td>\n",
       "      <td>...</td>\n",
       "      <td>...</td>\n",
       "      <td>...</td>\n",
       "      <td>...</td>\n",
       "      <td>...</td>\n",
       "      <td>...</td>\n",
       "    </tr>\n",
       "    <tr>\n",
       "      <th>64638964</th>\n",
       "      <td>23594465</td>\n",
       "      <td>2017</td>\n",
       "      <td>11</td>\n",
       "      <td>2017-11-01</td>\n",
       "      <td>14045.72</td>\n",
       "      <td>PRI</td>\n",
       "      <td>0.0690</td>\n",
       "      <td>0.04</td>\n",
       "      <td>193440.44</td>\n",
       "      <td>13347.390360</td>\n",
       "      <td>533.895614</td>\n",
       "    </tr>\n",
       "    <tr>\n",
       "      <th>64638965</th>\n",
       "      <td>23594465</td>\n",
       "      <td>2017</td>\n",
       "      <td>12</td>\n",
       "      <td>2017-12-01</td>\n",
       "      <td>14164.25</td>\n",
       "      <td>PRI</td>\n",
       "      <td>0.0690</td>\n",
       "      <td>0.04</td>\n",
       "      <td>193440.44</td>\n",
       "      <td>13347.390360</td>\n",
       "      <td>533.895614</td>\n",
       "    </tr>\n",
       "    <tr>\n",
       "      <th>64638966</th>\n",
       "      <td>23594465</td>\n",
       "      <td>2018</td>\n",
       "      <td>1</td>\n",
       "      <td>2018-01-01</td>\n",
       "      <td>12903.21</td>\n",
       "      <td>PRI</td>\n",
       "      <td>0.0776</td>\n",
       "      <td>0.04</td>\n",
       "      <td>68073.70</td>\n",
       "      <td>5282.519120</td>\n",
       "      <td>211.300765</td>\n",
       "    </tr>\n",
       "    <tr>\n",
       "      <th>64638967</th>\n",
       "      <td>23594465</td>\n",
       "      <td>2018</td>\n",
       "      <td>2</td>\n",
       "      <td>2018-02-01</td>\n",
       "      <td>42432.21</td>\n",
       "      <td>PRI</td>\n",
       "      <td>0.0776</td>\n",
       "      <td>0.04</td>\n",
       "      <td>68073.70</td>\n",
       "      <td>5282.519120</td>\n",
       "      <td>211.300765</td>\n",
       "    </tr>\n",
       "    <tr>\n",
       "      <th>64638968</th>\n",
       "      <td>23594465</td>\n",
       "      <td>2018</td>\n",
       "      <td>3</td>\n",
       "      <td>2018-03-01</td>\n",
       "      <td>12738.28</td>\n",
       "      <td>PRI</td>\n",
       "      <td>0.0776</td>\n",
       "      <td>0.04</td>\n",
       "      <td>68073.70</td>\n",
       "      <td>5282.519120</td>\n",
       "      <td>211.300765</td>\n",
       "    </tr>\n",
       "  </tbody>\n",
       "</table>\n",
       "<p>64638969 rows × 11 columns</p>\n",
       "</div>"
      ],
      "text/plain": [
       "          CEDULA_COD  ANIO  MES      FECHA   SALARIO SECTOR_A   prima  \\\n",
       "0                126  2004   12 2004-12-01    147.45      PRI  0.0915   \n",
       "1                126  2005    1 2005-01-01    161.67      PRI  0.0974   \n",
       "2                126  2005    2 2005-02-01    161.67      PRI  0.0974   \n",
       "3                126  2005    3 2005-03-01    161.67      PRI  0.0974   \n",
       "4                126  2005    4 2005-04-01    161.67      PRI  0.0974   \n",
       "...              ...   ...  ...        ...       ...      ...     ...   \n",
       "64638964    23594465  2017   11 2017-11-01  14045.72      PRI  0.0690   \n",
       "64638965    23594465  2017   12 2017-12-01  14164.25      PRI  0.0690   \n",
       "64638966    23594465  2018    1 2018-01-01  12903.21      PRI  0.0776   \n",
       "64638967    23594465  2018    2 2018-02-01  42432.21      PRI  0.0776   \n",
       "64638968    23594465  2018    3 2018-03-01  12738.28      PRI  0.0776   \n",
       "\n",
       "          tasa_act  SUM_SAL_ANIO        APORTE  INTERES_APORTE  \n",
       "0             0.04        147.45     13.491675        0.539667  \n",
       "1             0.04       1940.04    188.959896        7.558396  \n",
       "2             0.04       1940.04    188.959896        7.558396  \n",
       "3             0.04       1940.04    188.959896        7.558396  \n",
       "4             0.04       1940.04    188.959896        7.558396  \n",
       "...            ...           ...           ...             ...  \n",
       "64638964      0.04     193440.44  13347.390360      533.895614  \n",
       "64638965      0.04     193440.44  13347.390360      533.895614  \n",
       "64638966      0.04      68073.70   5282.519120      211.300765  \n",
       "64638967      0.04      68073.70   5282.519120      211.300765  \n",
       "64638968      0.04      68073.70   5282.519120      211.300765  \n",
       "\n",
       "[64638969 rows x 11 columns]"
      ]
     },
     "execution_count": 17,
     "metadata": {},
     "output_type": "execute_result"
    }
   ],
   "source": [
    "afi_sel"
   ]
  },
  {
   "cell_type": "code",
   "execution_count": 18,
   "id": "adcadef1",
   "metadata": {
    "ExecuteTime": {
     "end_time": "2024-07-15T17:15:23.996542Z",
     "start_time": "2024-07-15T17:15:23.996542Z"
    }
   },
   "outputs": [],
   "source": [
    "#Inicio de la HL\n",
    "caract = afi_sel.groupby('CEDULA_COD')['FECHA'].min().reset_index() \n",
    "caract.rename( columns={'FECHA': 'INI_HL'}, inplace=True)\n",
    "#Fin de la HL\n",
    "caract['FIN_HL'] = caract['CEDULA_COD'].map( afi_sel.groupby('CEDULA_COD')['FECHA'].max() )\n",
    "#Contar los meses, considerando duplicidad en los meses que puede tener aporte simultaneos\n",
    "caract['MES_AS'] = caract['CEDULA_COD'].map( afi_sel['CEDULA_COD'].value_counts() )\n",
    "#Meses trabajados unicos\n",
    "aux = afi_sel.drop_duplicates(subset=['CEDULA_COD', 'ANIO', 'MES'])\n",
    "caract['MES_TU'] = caract['CEDULA_COD'].map( aux['CEDULA_COD'].value_counts() )\n",
    "#Materia gravada acumulada\n",
    "aux = afi_sel.groupby(['CEDULA_COD'])['SALARIO'].sum()\n",
    "caract['SUELDO'] = caract['CEDULA_COD'].map( aux )\n",
    "#Aporte\n",
    "aux1 = afi_sel.groupby(['CEDULA_COD', 'ANIO'])['APORTE'].first().reset_index()\n",
    "aux1 = aux1.groupby('CEDULA_COD')['APORTE'].sum()\n",
    "caract['APORTE'] = caract['CEDULA_COD'].map( aux1 )\n",
    "#interes\n",
    "aux2 = afi_sel.groupby(['CEDULA_COD', 'ANIO'])['INTERES_APORTE'].first().reset_index()\n",
    "aux2 = aux2.groupby('CEDULA_COD')['INTERES_APORTE'].sum()\n",
    "caract['INTERES_APORTE'] = caract['CEDULA_COD'].map( aux2 )"
   ]
  },
  {
   "cell_type": "code",
   "execution_count": 19,
   "id": "be668517",
   "metadata": {},
   "outputs": [
    {
     "data": {
      "text/html": [
       "<div>\n",
       "<style scoped>\n",
       "    .dataframe tbody tr th:only-of-type {\n",
       "        vertical-align: middle;\n",
       "    }\n",
       "\n",
       "    .dataframe tbody tr th {\n",
       "        vertical-align: top;\n",
       "    }\n",
       "\n",
       "    .dataframe thead th {\n",
       "        text-align: right;\n",
       "    }\n",
       "</style>\n",
       "<table border=\"1\" class=\"dataframe\">\n",
       "  <thead>\n",
       "    <tr style=\"text-align: right;\">\n",
       "      <th></th>\n",
       "      <th>CEDULA_COD</th>\n",
       "      <th>INI_HL</th>\n",
       "      <th>FIN_HL</th>\n",
       "      <th>MES_AS</th>\n",
       "      <th>MES_TU</th>\n",
       "      <th>SUELDO</th>\n",
       "      <th>APORTE</th>\n",
       "      <th>INTERES_APORTE</th>\n",
       "    </tr>\n",
       "  </thead>\n",
       "  <tbody>\n",
       "    <tr>\n",
       "      <th>0</th>\n",
       "      <td>126</td>\n",
       "      <td>2004-12-01</td>\n",
       "      <td>2010-12-01</td>\n",
       "      <td>73</td>\n",
       "      <td>73</td>\n",
       "      <td>14725.59</td>\n",
       "      <td>1433.402511</td>\n",
       "      <td>57.336100</td>\n",
       "    </tr>\n",
       "    <tr>\n",
       "      <th>1</th>\n",
       "      <td>152</td>\n",
       "      <td>2004-07-01</td>\n",
       "      <td>2009-09-01</td>\n",
       "      <td>63</td>\n",
       "      <td>63</td>\n",
       "      <td>31470.31</td>\n",
       "      <td>3054.106400</td>\n",
       "      <td>122.164256</td>\n",
       "    </tr>\n",
       "    <tr>\n",
       "      <th>2</th>\n",
       "      <td>216</td>\n",
       "      <td>2004-07-01</td>\n",
       "      <td>2009-09-01</td>\n",
       "      <td>98</td>\n",
       "      <td>63</td>\n",
       "      <td>34997.92</td>\n",
       "      <td>3394.800130</td>\n",
       "      <td>135.792005</td>\n",
       "    </tr>\n",
       "    <tr>\n",
       "      <th>3</th>\n",
       "      <td>230</td>\n",
       "      <td>2004-12-01</td>\n",
       "      <td>2015-05-01</td>\n",
       "      <td>126</td>\n",
       "      <td>126</td>\n",
       "      <td>107347.00</td>\n",
       "      <td>10076.565300</td>\n",
       "      <td>403.062612</td>\n",
       "    </tr>\n",
       "    <tr>\n",
       "      <th>4</th>\n",
       "      <td>235</td>\n",
       "      <td>2004-08-01</td>\n",
       "      <td>2011-06-01</td>\n",
       "      <td>83</td>\n",
       "      <td>83</td>\n",
       "      <td>88406.76</td>\n",
       "      <td>8601.230924</td>\n",
       "      <td>344.049237</td>\n",
       "    </tr>\n",
       "    <tr>\n",
       "      <th>...</th>\n",
       "      <td>...</td>\n",
       "      <td>...</td>\n",
       "      <td>...</td>\n",
       "      <td>...</td>\n",
       "      <td>...</td>\n",
       "      <td>...</td>\n",
       "      <td>...</td>\n",
       "      <td>...</td>\n",
       "    </tr>\n",
       "    <tr>\n",
       "      <th>442565</th>\n",
       "      <td>23075971</td>\n",
       "      <td>2017-02-01</td>\n",
       "      <td>2022-10-01</td>\n",
       "      <td>66</td>\n",
       "      <td>66</td>\n",
       "      <td>26210.00</td>\n",
       "      <td>2469.082000</td>\n",
       "      <td>121.284205</td>\n",
       "    </tr>\n",
       "    <tr>\n",
       "      <th>442566</th>\n",
       "      <td>23402574</td>\n",
       "      <td>2010-01-01</td>\n",
       "      <td>2019-02-01</td>\n",
       "      <td>110</td>\n",
       "      <td>110</td>\n",
       "      <td>42021.89</td>\n",
       "      <td>3503.924998</td>\n",
       "      <td>140.157000</td>\n",
       "    </tr>\n",
       "    <tr>\n",
       "      <th>442567</th>\n",
       "      <td>23456125</td>\n",
       "      <td>2016-07-01</td>\n",
       "      <td>2022-03-01</td>\n",
       "      <td>69</td>\n",
       "      <td>69</td>\n",
       "      <td>38973.52</td>\n",
       "      <td>3423.696782</td>\n",
       "      <td>156.835117</td>\n",
       "    </tr>\n",
       "    <tr>\n",
       "      <th>442568</th>\n",
       "      <td>23503686</td>\n",
       "      <td>2004-09-01</td>\n",
       "      <td>2011-11-01</td>\n",
       "      <td>87</td>\n",
       "      <td>87</td>\n",
       "      <td>17107.87</td>\n",
       "      <td>1662.908138</td>\n",
       "      <td>66.516326</td>\n",
       "    </tr>\n",
       "    <tr>\n",
       "      <th>442569</th>\n",
       "      <td>23594465</td>\n",
       "      <td>2012-05-01</td>\n",
       "      <td>2018-03-01</td>\n",
       "      <td>71</td>\n",
       "      <td>71</td>\n",
       "      <td>1118906.34</td>\n",
       "      <td>87063.262958</td>\n",
       "      <td>3482.530518</td>\n",
       "    </tr>\n",
       "  </tbody>\n",
       "</table>\n",
       "<p>442570 rows × 8 columns</p>\n",
       "</div>"
      ],
      "text/plain": [
       "        CEDULA_COD     INI_HL     FIN_HL  MES_AS  MES_TU      SUELDO  \\\n",
       "0              126 2004-12-01 2010-12-01      73      73    14725.59   \n",
       "1              152 2004-07-01 2009-09-01      63      63    31470.31   \n",
       "2              216 2004-07-01 2009-09-01      98      63    34997.92   \n",
       "3              230 2004-12-01 2015-05-01     126     126   107347.00   \n",
       "4              235 2004-08-01 2011-06-01      83      83    88406.76   \n",
       "...            ...        ...        ...     ...     ...         ...   \n",
       "442565    23075971 2017-02-01 2022-10-01      66      66    26210.00   \n",
       "442566    23402574 2010-01-01 2019-02-01     110     110    42021.89   \n",
       "442567    23456125 2016-07-01 2022-03-01      69      69    38973.52   \n",
       "442568    23503686 2004-09-01 2011-11-01      87      87    17107.87   \n",
       "442569    23594465 2012-05-01 2018-03-01      71      71  1118906.34   \n",
       "\n",
       "              APORTE  INTERES_APORTE  \n",
       "0        1433.402511       57.336100  \n",
       "1        3054.106400      122.164256  \n",
       "2        3394.800130      135.792005  \n",
       "3       10076.565300      403.062612  \n",
       "4        8601.230924      344.049237  \n",
       "...              ...             ...  \n",
       "442565   2469.082000      121.284205  \n",
       "442566   3503.924998      140.157000  \n",
       "442567   3423.696782      156.835117  \n",
       "442568   1662.908138       66.516326  \n",
       "442569  87063.262958     3482.530518  \n",
       "\n",
       "[442570 rows x 8 columns]"
      ]
     },
     "execution_count": 19,
     "metadata": {},
     "output_type": "execute_result"
    }
   ],
   "source": [
    "caract"
   ]
  },
  {
   "cell_type": "code",
   "execution_count": 23,
   "id": "28458cf1",
   "metadata": {},
   "outputs": [
    {
     "data": {
      "text/plain": [
       "CEDULA_COD\n",
       "216    34997.92\n",
       "Name: SALARIO, dtype: float64"
      ]
     },
     "execution_count": 23,
     "metadata": {},
     "output_type": "execute_result"
    }
   ],
   "source": [
    "afi_sel[afi_sel['CEDULA_COD']==216].groupby(['CEDULA_COD','ANIO'])['SALARIO'].sum()"
   ]
  },
  {
   "cell_type": "code",
   "execution_count": 21,
   "id": "32150eb0",
   "metadata": {},
   "outputs": [
    {
     "name": "stdout",
     "output_type": "stream",
     "text": [
      "aporte 3394.8001300000005\n",
      "interes 135.7920052\n"
     ]
    }
   ],
   "source": [
    "#PARA CEDULA 152\n",
    "# print('aporte', 1881.66*0.0915+4139.64*0.0974+5161.20*0.0974+6281.55* 0.0974+7639.92*0.0974+6366.34*0.0974)\n",
    "# print('interes',1881.66*0.0915*0.04+4139.64*0.0974*0.04+5161.20*0.0974*0.04+6281.55* 0.0974*0.04+7639.92*0.0974*0.04+\n",
    "#       6366.34*0.0974*0.04 )\n",
    "#PARA CEDULA 216\n",
    "print('aporte', 2372.42*0.0915+6118.72*0.0974+6978.48*0.0974+6863.31*0.0974+6892.93*0.0974+5772.06*0.0974)\n",
    "     \n",
    "print('interes',2372.42*0.0915*0.04+6118.72*0.0974*0.04+6978.48*0.0974*0.04+6863.31*0.0974*0.04+6892.93*0.0974*0.04+5772.06*0.0974*0.04 )"
   ]
  },
  {
   "cell_type": "code",
   "execution_count": null,
   "id": "0da53a9f",
   "metadata": {},
   "outputs": [],
   "source": [
    "2372.42+ 6118.72+6978.486+6863.31+6892.93+5772.06"
   ]
  },
  {
   "cell_type": "code",
   "execution_count": 22,
   "id": "48d6a6d8",
   "metadata": {
    "ExecuteTime": {
     "end_time": "2024-07-15T17:15:23.998674Z",
     "start_time": "2024-07-15T17:15:23.998674Z"
    }
   },
   "outputs": [],
   "source": [
    "# Guadar archivo------------------------------------------------------------------------------------------------------------\n",
    "nombre_archivo = 'viu_clean_caract.pkl'\n",
    "# Ruta completa del archivo\n",
    "ruta_archivo = os.path.join(directorio, nombre_archivo)\n",
    "# Objetos a guardar\n",
    "objeto3 = caract\n",
    "\n",
    "# Guardar los objetos en el archivo\n",
    "with open(ruta_archivo, 'wb') as archivo:\n",
    "    pickle.dump(objeto3, archivo)    "
   ]
  },
  {
   "cell_type": "code",
   "execution_count": null,
   "id": "4c3149c5",
   "metadata": {
    "ExecuteTime": {
     "end_time": "2024-07-15T17:15:23.999664Z",
     "start_time": "2024-07-15T17:15:23.999664Z"
    }
   },
   "outputs": [],
   "source": [
    "del objeto3"
   ]
  },
  {
   "cell_type": "code",
   "execution_count": null,
   "id": "5d78279e",
   "metadata": {
    "ExecuteTime": {
     "end_time": "2024-07-15T17:15:24.002664Z",
     "start_time": "2024-07-15T17:15:24.002664Z"
    }
   },
   "outputs": [],
   "source": [
    "caract"
   ]
  },
  {
   "cell_type": "code",
   "execution_count": null,
   "id": "bc22a036",
   "metadata": {
    "ExecuteTime": {
     "end_time": "2024-07-15T17:15:24.003666Z",
     "start_time": "2024-07-15T17:15:24.003666Z"
    }
   },
   "outputs": [],
   "source": [
    "#Personas que tienen varios aportes simultaneos\n",
    "caract[caract['MES_AS']>caract['MES_TU']]"
   ]
  },
  {
   "cell_type": "code",
   "execution_count": null,
   "id": "16e523d3",
   "metadata": {
    "ExecuteTime": {
     "end_time": "2024-07-15T17:15:24.005665Z",
     "start_time": "2024-07-15T17:15:24.005665Z"
    }
   },
   "outputs": [],
   "source": [
    "#afi_sel[afi_sel['CEDULA_COD']==21729781].tail(60)"
   ]
  },
  {
   "cell_type": "code",
   "execution_count": null,
   "id": "bd0c7ea9",
   "metadata": {
    "ExecuteTime": {
     "end_time": "2024-07-15T17:15:24.007842Z",
     "start_time": "2024-07-15T17:15:24.007842Z"
    }
   },
   "outputs": [],
   "source": [
    "afi_sel =  afi_sel.sort_values( by=[\"CEDULA_COD\",\"ANIO\", \"MES\"], ascending=[True, False, False] )\n",
    "afi_sel['SALARIO_SECTOR'] = afi_sel['SALARIO']\n",
    "afi_sel['NUM_SEC_MES'] = 1\n",
    "afi_sel['%_NUM_SECTOR'] = afi_sel['SALARIO']"
   ]
  },
  {
   "cell_type": "code",
   "execution_count": null,
   "id": "508c16c5",
   "metadata": {
    "ExecuteTime": {
     "end_time": "2024-07-15T17:15:24.008844Z",
     "start_time": "2024-07-15T17:15:24.008844Z"
    }
   },
   "outputs": [],
   "source": [
    "aux = afi_sel[afi_sel.duplicated(subset=['CEDULA_COD', 'ANIO', 'MES'], keep=False)]\n",
    "aux1 = afi_sel[~afi_sel.duplicated(subset=['CEDULA_COD', 'ANIO', 'MES'], keep=False)]"
   ]
  },
  {
   "cell_type": "code",
   "execution_count": null,
   "id": "9f992a36",
   "metadata": {},
   "outputs": [],
   "source": [
    "aux"
   ]
  },
  {
   "cell_type": "code",
   "execution_count": null,
   "id": "413f07c9",
   "metadata": {
    "ExecuteTime": {
     "end_time": "2024-07-15T17:15:24.010840Z",
     "start_time": "2024-07-15T17:15:24.010840Z"
    }
   },
   "outputs": [],
   "source": [
    "#Se debe analizar a las personas que tienen varios aportes en un mismo mes\n",
    "#Se suman los salarios y se concatenan los sectores para la cedula que en el mismo anio y mes tienen más de un sector\n",
    "inicio = time.time()\n",
    "afi_sel_g = aux.groupby(['CEDULA_COD', 'ANIO', 'MES']).agg({'SALARIO': 'sum',\n",
    "                                                            'SALARIO_SECTOR': lambda x: ';'.join(x.astype(str)),\n",
    "                                                            'SECTOR_A': lambda x: ';'.join(x),\n",
    "                                                            'NUM_SEC_MES': lambda x: len(x),\n",
    "                                                            '%_NUM_SECTOR': lambda x:  ';'.join((x / x.sum()).round(4).astype(str))\n",
    "                                                                }).reset_index()\n",
    "fin = time.time()  \n",
    "print('Tiempo de ejecución es: ',  (fin-inicio)//3600, ' horas con ' ,  (fin-inicio)%3600//60 , ' minutos y', (fin-inicio)%60, ' segundos' )\n"
   ]
  },
  {
   "cell_type": "code",
   "execution_count": null,
   "id": "666ab864",
   "metadata": {
    "ExecuteTime": {
     "end_time": "2024-07-15T17:15:24.012840Z",
     "start_time": "2024-07-15T17:15:24.012840Z"
    }
   },
   "outputs": [],
   "source": [
    "afi_sel_g"
   ]
  },
  {
   "cell_type": "code",
   "execution_count": null,
   "id": "cbe59597",
   "metadata": {
    "ExecuteTime": {
     "end_time": "2024-07-15T17:15:24.014839Z",
     "start_time": "2024-07-15T17:15:24.014839Z"
    }
   },
   "outputs": [],
   "source": [
    "afi_sel_g_all = pd.concat( [aux1[['CEDULA_COD', 'ANIO', 'MES', 'SALARIO', 'SALARIO_SECTOR','SECTOR_A', 'NUM_SEC_MES', '%_NUM_SECTOR']], \n",
    "                            afi_sel_g], ignore_index=True )"
   ]
  },
  {
   "cell_type": "code",
   "execution_count": null,
   "id": "4bfdd552",
   "metadata": {
    "ExecuteTime": {
     "end_time": "2024-07-15T17:15:24.015841Z",
     "start_time": "2024-07-15T17:15:24.015841Z"
    }
   },
   "outputs": [],
   "source": [
    "afi_sel_g_all"
   ]
  },
  {
   "cell_type": "code",
   "execution_count": null,
   "id": "bb3917c8",
   "metadata": {
    "ExecuteTime": {
     "end_time": "2024-07-15T17:15:24.017984Z",
     "start_time": "2024-07-15T17:15:24.017984Z"
    }
   },
   "outputs": [],
   "source": [
    "# Guadar archivo------------------------------------------------------------------------------------------------------------\n",
    "nombre_archivo = 'viu_clean_afi_sel_g_all.pkl'\n",
    "# Ruta completa del archivo\n",
    "ruta_archivo = os.path.join(directorio, nombre_archivo)\n",
    "# Objetos a guardar\n",
    "objeto4 = afi_sel_g_all\n",
    "\n",
    "# Guardar los objetos en el archivo\n",
    "with open(ruta_archivo, 'wb') as archivo:\n",
    "    pickle.dump(objeto4, archivo)      "
   ]
  },
  {
   "cell_type": "code",
   "execution_count": null,
   "id": "64e1b80c",
   "metadata": {
    "ExecuteTime": {
     "end_time": "2024-07-15T20:35:18.490089Z",
     "start_time": "2024-07-15T20:35:17.362006Z"
    }
   },
   "outputs": [],
   "source": [
    "#afi_sel_g_all = objetos[3]"
   ]
  },
  {
   "cell_type": "code",
   "execution_count": null,
   "id": "12ce8372",
   "metadata": {
    "ExecuteTime": {
     "end_time": "2024-07-15T17:57:16.383287Z",
     "start_time": "2024-07-15T17:57:04.665045Z"
    }
   },
   "outputs": [],
   "source": [
    "del aux\n",
    "del aux1\n",
    "del objeto4"
   ]
  },
  {
   "cell_type": "code",
   "execution_count": null,
   "id": "3c213049",
   "metadata": {
    "ExecuteTime": {
     "start_time": "2024-07-15T20:35:59.850Z"
    }
   },
   "outputs": [],
   "source": [
    "afi_sel_g_all = afi_sel_g_all.sort_values( by=[\"CEDULA_COD\",\"ANIO\", \"MES\"], ascending=[True, False, False] )\n",
    "afi_sel_g_all.loc[ (afi_sel_g_all['NUM_SEC_MES'] == 1), '%_NUM_SECTOR'] = '1'"
   ]
  },
  {
   "cell_type": "code",
   "execution_count": null,
   "id": "828d7f59",
   "metadata": {
    "ExecuteTime": {
     "start_time": "2024-07-15T20:36:04.170Z"
    }
   },
   "outputs": [],
   "source": [
    "afi_sel_g_all[afi_sel_g_all['CEDULA_COD']==216]"
   ]
  },
  {
   "cell_type": "code",
   "execution_count": null,
   "id": "5a4c3357",
   "metadata": {
    "ExecuteTime": {
     "start_time": "2024-07-15T20:36:06.439Z"
    }
   },
   "outputs": [],
   "source": [
    "#Se reinician los index\n",
    "afi_sel_g_all.reset_index(inplace=True)\n",
    "afi_sel_g_all.rename(columns={'index': 'nuevo_indice'}, inplace=True)\n",
    "afi_sel_g_all.drop(columns=['nuevo_indice'], inplace=True)"
   ]
  },
  {
   "cell_type": "code",
   "execution_count": null,
   "id": "e48b33ad",
   "metadata": {
    "ExecuteTime": {
     "start_time": "2024-07-15T20:36:08.095Z"
    }
   },
   "outputs": [],
   "source": [
    "afi_sel_g_all[afi_sel_g_all['CEDULA_COD']==126]"
   ]
  },
  {
   "cell_type": "code",
   "execution_count": null,
   "id": "87616db7",
   "metadata": {
    "ExecuteTime": {
     "end_time": "2024-07-15T16:49:15.698723Z",
     "start_time": "2024-07-15T16:48:59.956839Z"
    }
   },
   "outputs": [],
   "source": [
    "#se crean los grupos de 12 meses trabajados para tener\n",
    "n_grupo = 12\n",
    "afi_sel_g_all['GRUPO'] = (afi_sel_g_all.groupby('CEDULA_COD').cumcount() // n_grupo ) + 1\n",
    "#Se saca el salario promedio de cada grupo\n",
    "afi_sel_g_all['SAL_PROM_GRUPO'] = afi_sel_g_all.groupby(['CEDULA_COD', 'GRUPO'])['SALARIO'].transform('mean')"
   ]
  },
  {
   "cell_type": "code",
   "execution_count": null,
   "id": "79bc8b95",
   "metadata": {
    "ExecuteTime": {
     "end_time": "2024-07-15T16:49:15.769801Z",
     "start_time": "2024-07-15T16:49:15.701731Z"
    }
   },
   "outputs": [],
   "source": [
    "afi_sel_g_all"
   ]
  },
  {
   "cell_type": "code",
   "execution_count": null,
   "id": "edc13f78",
   "metadata": {
    "ExecuteTime": {
     "end_time": "2024-07-15T16:49:18.892556Z",
     "start_time": "2024-07-15T16:49:18.454964Z"
    }
   },
   "outputs": [],
   "source": [
    "afi_sel_g_all[afi_sel_g_all['CEDULA_COD']==126]['GRUPO'].unique()"
   ]
  },
  {
   "cell_type": "code",
   "execution_count": null,
   "id": "2ede2e6c",
   "metadata": {
    "ExecuteTime": {
     "end_time": "2024-07-15T16:49:28.056278Z",
     "start_time": "2024-07-15T16:49:18.894563Z"
    }
   },
   "outputs": [],
   "source": [
    "#Se obtienen los sueldos promedios para cada grupo y cada cedula\n",
    "inicio = time.time()\n",
    "df1 = afi_sel_g_all.groupby(['CEDULA_COD', 'GRUPO'])['SAL_PROM_GRUPO'].first().reset_index().copy()\n",
    "df1 = df1.sort_values(by = ['CEDULA_COD','SAL_PROM_GRUPO'], ascending=[True,False])\n",
    "fin = time.time()  \n",
    "print('Tiempo de ejecución es: ',  (fin-inicio)//3600, ' horas con ' ,  (fin-inicio)%3600//60 , ' minutos y', (fin-inicio)%60, ' segundos' )"
   ]
  },
  {
   "cell_type": "code",
   "execution_count": null,
   "id": "ca9b660f",
   "metadata": {
    "ExecuteTime": {
     "end_time": "2024-07-15T16:49:28.097696Z",
     "start_time": "2024-07-15T16:49:28.067742Z"
    }
   },
   "outputs": [],
   "source": [
    "df1"
   ]
  },
  {
   "cell_type": "code",
   "execution_count": null,
   "id": "d853c7f0",
   "metadata": {
    "ExecuteTime": {
     "end_time": "2024-07-15T16:49:28.438155Z",
     "start_time": "2024-07-15T16:49:28.099707Z"
    }
   },
   "outputs": [],
   "source": [
    " df1[df1['CEDULA_COD']==126]"
   ]
  },
  {
   "cell_type": "code",
   "execution_count": null,
   "id": "61e44e66",
   "metadata": {
    "ExecuteTime": {
     "end_time": "2024-07-15T16:49:39.865820Z",
     "start_time": "2024-07-15T16:49:28.443179Z"
    }
   },
   "outputs": [],
   "source": [
    "#Se seleccionan los 5 mejores años de sueldo\n",
    "inicio = time.time()\n",
    "top = 5\n",
    "#top_sal = df1.groupby('CEDULA_COD')['SAL_PROM_GRUPO'].nlargest(top).reset_index(level=0, drop=True)\n",
    "indices = df1.groupby('CEDULA_COD').apply(lambda x: x.index[:top]).explode()\n",
    "df2 = df1.loc[indices].reset_index(drop=True)\n",
    "fin = time.time()  \n",
    "print('Tiempo de ejecución es: ',  (fin-inicio)//3600, ' horas con ' ,  (fin-inicio)%3600//60 , ' minutos y', (fin-inicio)%60, ' segundos' )"
   ]
  },
  {
   "cell_type": "code",
   "execution_count": null,
   "id": "4590b8c7",
   "metadata": {
    "ExecuteTime": {
     "end_time": "2024-07-15T16:49:39.886734Z",
     "start_time": "2024-07-15T16:49:39.867971Z"
    }
   },
   "outputs": [],
   "source": [
    "df2[df2['CEDULA_COD']==126]"
   ]
  },
  {
   "cell_type": "code",
   "execution_count": null,
   "id": "7a5efcc3",
   "metadata": {
    "ExecuteTime": {
     "end_time": "2024-07-15T16:50:06.025672Z",
     "start_time": "2024-07-15T16:49:39.888915Z"
    }
   },
   "outputs": [],
   "source": [
    "#Seleccionar los cinco mejores años del grupo total de años de aporte\n",
    "combinaciones = set(zip(df2['CEDULA_COD'], df2['GRUPO']))\n",
    "afi_sel_g_all['GRUPO_SEL'] = [(cedula, grupo) in combinaciones for cedula, grupo in zip(afi_sel_g_all['CEDULA_COD'], afi_sel_g_all['GRUPO'])]\n",
    "afi_sel_g_all['GRUPO_SEL'] = afi_sel_g_all['GRUPO_SEL'].astype(int)"
   ]
  },
  {
   "cell_type": "code",
   "execution_count": null,
   "id": "92f94379",
   "metadata": {},
   "outputs": [],
   "source": [
    "#Verificar que todas las cédulas tengan al menos 60 registros de los salarios\n",
    "ced_counts1 = afi_sel_g_all.drop_duplicates(subset=['CEDULA_COD', 'ANIO', 'MES'])['CEDULA_COD'].value_counts()\n",
    "ced_counts1[ced_counts1 < 60].index.nunique()"
   ]
  },
  {
   "cell_type": "code",
   "execution_count": null,
   "id": "7f02e554",
   "metadata": {
    "ExecuteTime": {
     "end_time": "2024-07-15T16:50:06.134042Z",
     "start_time": "2024-07-15T16:50:06.027696Z"
    }
   },
   "outputs": [],
   "source": [
    "afi_sel_g_all[afi_sel_g_all['CEDULA_COD']==126].tail(60)"
   ]
  },
  {
   "cell_type": "code",
   "execution_count": null,
   "id": "964f1d61",
   "metadata": {
    "ExecuteTime": {
     "end_time": "2024-07-15T16:50:43.971377Z",
     "start_time": "2024-07-15T16:50:06.135066Z"
    }
   },
   "outputs": [],
   "source": [
    "#Se crea una variable fecha para el período de mejores años y la base de cálculo\n",
    "inicio = time.time()\n",
    "mejores = afi_sel_g_all[afi_sel_g_all['GRUPO_SEL']==1].copy()\n",
    "mejores.loc[:, 'FECHA'] = pd.to_datetime(mejores['ANIO'].astype(str) + '-' + mejores['MES'].astype(str).str.zfill(2) + '-01')\n",
    "\n",
    "#Se calcula la base de calculo\n",
    "df_prom = mejores.groupby('CEDULA_COD')['SALARIO'].mean()\n",
    "fin = time.time()  \n",
    "print('Tiempo de ejecución es: ',  (fin-inicio)//3600, ' horas con ' ,  (fin-inicio)%3600//60 , ' minutos y', (fin-inicio)%60, ' segundos' )"
   ]
  },
  {
   "cell_type": "code",
   "execution_count": null,
   "id": "72f96eda",
   "metadata": {
    "ExecuteTime": {
     "end_time": "2024-07-15T16:50:43.973544Z",
     "start_time": "2024-07-15T16:50:43.973544Z"
    }
   },
   "outputs": [],
   "source": [
    "mejores"
   ]
  },
  {
   "cell_type": "code",
   "execution_count": null,
   "id": "97e8eed6",
   "metadata": {
    "ExecuteTime": {
     "end_time": "2024-07-15T16:50:43.974547Z",
     "start_time": "2024-07-15T16:50:43.974547Z"
    }
   },
   "outputs": [],
   "source": [
    "afi_sel_g_all['INI_CAL'] = afi_sel_g_all['CEDULA_COD'].map( mejores.groupby('CEDULA_COD')['FECHA'].max() )\n",
    "afi_sel_g_all['FIN_CAL'] = afi_sel_g_all['CEDULA_COD'].map( mejores.groupby('CEDULA_COD')['FECHA'].min() )\n",
    "afi_sel_g_all['BASE_CAL'] = afi_sel_g_all['CEDULA_COD'].map( df_prom )"
   ]
  },
  {
   "cell_type": "code",
   "execution_count": null,
   "id": "43447a9b",
   "metadata": {},
   "outputs": [],
   "source": [
    "caract['INI_CAL'] = caract['CEDULA_COD'].map( mejores.groupby('CEDULA_COD')['FECHA'].max() )\n",
    "caract['FIN_CAL'] = caract['CEDULA_COD'].map( mejores.groupby('CEDULA_COD')['FECHA'].min() )\n",
    "caract['BASE_CAL'] = caract['CEDULA_COD'].map( df_prom )\n",
    "caract"
   ]
  },
  {
   "cell_type": "code",
   "execution_count": null,
   "id": "63f0f8d6",
   "metadata": {
    "ExecuteTime": {
     "end_time": "2024-07-15T16:50:43.976543Z",
     "start_time": "2024-07-15T16:50:43.976543Z"
    }
   },
   "outputs": [],
   "source": [
    "del df1, df2, mejores"
   ]
  },
  {
   "cell_type": "code",
   "execution_count": null,
   "id": "8c4d61ef",
   "metadata": {
    "ExecuteTime": {
     "end_time": "2024-07-15T16:50:43.977547Z",
     "start_time": "2024-07-15T16:50:43.977547Z"
    }
   },
   "outputs": [],
   "source": [
    "afi_sel_g_all[ (afi_sel_g_all['CEDULA_COD']==126) & (afi_sel_g_all['GRUPO_SEL']==1)]['SALARIO'].mean()"
   ]
  },
  {
   "cell_type": "code",
   "execution_count": null,
   "id": "dcf1c923",
   "metadata": {
    "ExecuteTime": {
     "end_time": "2024-07-15T16:50:43.978544Z",
     "start_time": "2024-07-15T16:50:43.978544Z"
    }
   },
   "outputs": [],
   "source": [
    "afi_sel_g_all[ (afi_sel_g_all['CEDULA_COD']==126)]"
   ]
  },
  {
   "cell_type": "code",
   "execution_count": null,
   "id": "91b8ca09",
   "metadata": {},
   "outputs": [],
   "source": [
    "# #     df = asignar_grupo(sect, n_grupo)\n",
    "# #     df1 = valores_unicos_grupos(df)\n",
    "# #     df2 = sel_top_salarios(df1, top)\n",
    "# #     df = sel_grupo(df, df2)\n",
    "#     df = fec_sel_grupo(df)\n",
    "#     df = base_cal(df)\n",
    "#     df = ati_base_cal_m1(df, inferior)\n",
    "#     df = base_cal_sin_ati_m1(df)\n",
    "#     df = sbu_ajuste_m1(df, SBU)"
   ]
  },
  {
   "cell_type": "code",
   "execution_count": null,
   "id": "197dac7a",
   "metadata": {
    "ExecuteTime": {
     "end_time": "2024-07-15T16:50:43.979546Z",
     "start_time": "2024-07-15T16:50:43.979546Z"
    }
   },
   "outputs": [],
   "source": [
    "#Registros con años menores al 2000\n",
    "afi_sel_g_all[afi_sel_g_all['FIN_CAL'].dt.year<2000]"
   ]
  },
  {
   "cell_type": "code",
   "execution_count": null,
   "id": "cef47382",
   "metadata": {
    "ExecuteTime": {
     "end_time": "2024-07-15T16:50:43.981545Z",
     "start_time": "2024-07-15T16:50:43.981545Z"
    }
   },
   "outputs": [],
   "source": [
    "#Se agrega el valor del SBU\n",
    "SBU = pd.DataFrame( { 'ANIO':[2000,2001,2002, 2003, 2004, 2005, 2006, 2007, 2008, 2009, 2010, 2011, 2012, 2013, 2014, 2015, 2016, 2017, 2018, 2019, 2020,\n",
    "                              2021, 2022, 2023, 2024],\n",
    "                      'VALOR':[57,85.65,105, 122, 136, 150, 160, 170, 200, 218, 240, 264, 292, 318, 340, 354, 366, 375, 386, 394, 400, \n",
    "                              400, 425, 450, 460]})\n",
    "SBU"
   ]
  },
  {
   "cell_type": "code",
   "execution_count": null,
   "id": "c1ce61c6",
   "metadata": {
    "ExecuteTime": {
     "end_time": "2024-07-15T16:50:43.982578Z",
     "start_time": "2024-07-15T16:50:43.982578Z"
    }
   },
   "outputs": [],
   "source": [
    "afi_sel_g_all['SBU'] = afi_sel_g_all['ANIO'].map( SBU.groupby('ANIO')['VALOR'].first())"
   ]
  },
  {
   "cell_type": "code",
   "execution_count": null,
   "id": "9b77c8dc",
   "metadata": {
    "ExecuteTime": {
     "end_time": "2024-07-15T16:50:43.983668Z",
     "start_time": "2024-07-15T16:50:43.983668Z"
    }
   },
   "outputs": [],
   "source": [
    "afi_sel_g_all"
   ]
  },
  {
   "cell_type": "code",
   "execution_count": null,
   "id": "2719e7c9",
   "metadata": {
    "ExecuteTime": {
     "end_time": "2024-07-15T16:50:43.984670Z",
     "start_time": "2024-07-15T16:50:43.984670Z"
    }
   },
   "outputs": [],
   "source": [
    "#Cédula que tienen su historia laboral igual al SBU\n",
    "afi_sel_g_all['ID_SBU'] = afi_sel_g_all['SALARIO'] == afi_sel_g_all['SBU']\n",
    "#Si tiene -1 es un valor que no es un SBU en ese año y mes\n",
    "afi_sel_g_all['ID_SBU'] = afi_sel_g_all['ID_SBU'].astype(int)-1\n",
    "afi_sel_g_all"
   ]
  },
  {
   "cell_type": "code",
   "execution_count": null,
   "id": "fca249ce",
   "metadata": {},
   "outputs": [],
   "source": [
    "#Verificar que todas las cédulas tengan 60 registros\n",
    "ced_counts2 = afi_sel_g_all.drop_duplicates(subset=['CEDULA_COD', 'ANIO', 'MES'])['CEDULA_COD'].value_counts()\n",
    "ced_counts2[ced_counts2 < 60].index.nunique()"
   ]
  },
  {
   "cell_type": "code",
   "execution_count": null,
   "id": "d0c9f210",
   "metadata": {
    "ExecuteTime": {
     "end_time": "2024-07-15T16:50:43.986668Z",
     "start_time": "2024-07-15T16:50:43.986668Z"
    }
   },
   "outputs": [],
   "source": [
    "afi_sel_g_all[afi_sel_g_all['CEDULA_COD']==126].shape"
   ]
  },
  {
   "cell_type": "code",
   "execution_count": null,
   "id": "be1b64fc",
   "metadata": {
    "ExecuteTime": {
     "end_time": "2024-07-15T16:50:43.987670Z",
     "start_time": "2024-07-15T16:50:43.987670Z"
    }
   },
   "outputs": [],
   "source": [
    "afi_sel_g_all[(afi_sel_g_all['CEDULA_COD']==126) & (afi_sel_g_all['GRUPO_SEL']==1)]"
   ]
  },
  {
   "cell_type": "code",
   "execution_count": null,
   "id": "c0a09e4a",
   "metadata": {},
   "outputs": [],
   "source": [
    "# Guadar archivo------------------------------------------------------------------------------------------------------------\n",
    "nombre_archivo = 'viu_clean_afi_sel_g_all_2.pkl'\n",
    "# Ruta completa del archivo\n",
    "ruta_archivo = os.path.join(directorio, nombre_archivo)\n",
    "# Objetos a guardar\n",
    "objeto5 = afi_sel_g_all\n",
    "\n",
    "# Guardar los objetos en el archivo\n",
    "with open(ruta_archivo, 'wb') as archivo:\n",
    "    pickle.dump(objeto5, archivo)      \n",
    "\n",
    "del objeto 5"
   ]
  },
  {
   "cell_type": "code",
   "execution_count": null,
   "id": "8a54aec4",
   "metadata": {},
   "outputs": [],
   "source": [
    "objeto5"
   ]
  },
  {
   "cell_type": "code",
   "execution_count": null,
   "id": "0ba21b68",
   "metadata": {},
   "outputs": [],
   "source": [
    "#Selección de cedulas con sus mejores años de sueldo y que su salario no sea un SBU\n",
    "data_sin_ati = afi_sel_g_all[ (afi_sel_g_all['GRUPO_SEL']==1) & (afi_sel_g_all['ID_SBU']!=-1)]\n",
    "data_ati = afi_sel_g_all[ (afi_sel_g_all['GRUPO_SEL']==1) & (afi_sel_g_all['ID_SBU']!=0)]"
   ]
  },
  {
   "cell_type": "code",
   "execution_count": null,
   "id": "0a14bf2d",
   "metadata": {},
   "outputs": [],
   "source": [
    "data_ati.shape #(21022610, 15)\n",
    "data_sin_ati.shape #(5449506, 15)"
   ]
  },
  {
   "cell_type": "code",
   "execution_count": null,
   "id": "1bcf53b0",
   "metadata": {},
   "outputs": [],
   "source": [
    "data_ati[data_ati['CEDULA_COD']==126][['CEDULA_COD','ANIO','MES','SALARIO']].shape"
   ]
  },
  {
   "cell_type": "code",
   "execution_count": null,
   "id": "faf69b4e",
   "metadata": {},
   "outputs": [],
   "source": [
    "data_ati[data_ati['CEDULA_COD']==126]"
   ]
  },
  {
   "cell_type": "code",
   "execution_count": null,
   "id": "e63dc2c2",
   "metadata": {},
   "outputs": [],
   "source": [
    "# Guadar archivo------------------------------------------------------------------------------------------------------------\n",
    "nombre_archivo = 'viu_clean_data_ati.pkl'\n",
    "# Ruta completa del archivo\n",
    "ruta_archivo = os.path.join(directorio, nombre_archivo)\n",
    "# Objetos a guardar\n",
    "objeto6 = data_ati\n",
    "\n",
    "# Guardar los objetos en el archivo\n",
    "with open(ruta_archivo, 'wb') as archivo:\n",
    "    pickle.dump(objeto6, archivo)         \n",
    "\n",
    "# Nombre del archivo\n",
    "nombre_archivo = 'viu_clean_data_sin_ati.pkl'\n",
    "# Ruta completa del archivo\n",
    "ruta_archivo = os.path.join(directorio, nombre_archivo)\n",
    "# Objetos a guardar\n",
    "objeto7 = data_sin_ati\n",
    "\n",
    "# Guardar los objetos en el archivo\n",
    "with open(ruta_archivo, 'wb') as archivo:\n",
    "    pickle.dump(objeto7, archivo)     \n",
    "    \n",
    "del objeto6, objeto7"
   ]
  },
  {
   "cell_type": "code",
   "execution_count": null,
   "id": "a1526f38",
   "metadata": {
    "ExecuteTime": {
     "end_time": "2024-07-29T16:13:24.286278Z",
     "start_time": "2024-07-29T16:13:24.286278Z"
    }
   },
   "outputs": [],
   "source": [
    "# Cargar archivo------------------------------------------------------------------------------------------------------------\n",
    "directorio = r_ruta\n",
    "nombre_archivo = 'viu_clean_afi_sel_g_all_2.pkl'\n",
    "ruta_archivo = os.path.join(directorio, nombre_archivo)\n",
    "\n",
    "with open( ruta_archivo, 'rb') as archivo:\n",
    "    data_l = pickle.load( archivo )     "
   ]
  },
  {
   "cell_type": "code",
   "execution_count": null,
   "id": "db0b424a",
   "metadata": {
    "ExecuteTime": {
     "end_time": "2024-07-29T16:13:24.287282Z",
     "start_time": "2024-07-29T16:13:24.287282Z"
    }
   },
   "outputs": [],
   "source": [
    "#Análisis de atípicos\n",
    "#Método de clustering jerárquico\n",
    "# data_l = afi_sel_g_all.copy()\n",
    "data_l.shape #(62130167, 16)"
   ]
  },
  {
   "cell_type": "code",
   "execution_count": null,
   "id": "b6df3017",
   "metadata": {},
   "outputs": [],
   "source": [
    "# del objeto5,  afi_sel_g_all\n",
    "# gc.collect()"
   ]
  },
  {
   "cell_type": "code",
   "execution_count": null,
   "id": "a6177b78",
   "metadata": {
    "ExecuteTime": {
     "end_time": "2024-07-25T19:03:08.916976Z",
     "start_time": "2024-07-25T19:02:20.050083Z"
    }
   },
   "outputs": [],
   "source": [
    "inicio = time.time()\n",
    "data_l = data_l.sort_values( by=[\"CEDULA_COD\",\"ANIO\", \"MES\"], ascending=[ True, True, True] )\n",
    "data_l.reset_index(inplace=True)\n",
    "data_l.rename(columns={'index': 'nuevo_indice'}, inplace=True)\n",
    "data_l.drop(columns=['nuevo_indice'], inplace=True)\n",
    "data_l['INDICE'] = data_l.index\n",
    "\n",
    "#Casos de no análisis\n",
    "data_no_grupo = data_l[ (data_l['GRUPO_SEL']==0) ].copy()\n",
    "data_no_grupo['ATI_CJ_M1'] = np.nan\n",
    "data_no_grupo['ATI_CJ_M2'] = np.nan\n",
    "data_no_grupo['ATI_CJ_M3'] = np.nan\n",
    "\n",
    "#Casos de análisis\n",
    "data = data_l[ (data_l['GRUPO_SEL']==1) ].copy()\n",
    "\n",
    "fin = time.time()  \n",
    "print('Tiempo de ejecución es: ',  (fin-inicio)//3600, ' horas con ' ,  (fin-inicio)%3600//60 , ' minutos y', (fin-inicio)%60, ' segundos' )\n"
   ]
  },
  {
   "cell_type": "code",
   "execution_count": null,
   "id": "7baa127e",
   "metadata": {
    "ExecuteTime": {
     "end_time": "2024-07-29T21:17:22.965043Z",
     "start_time": "2024-07-29T21:17:22.870188Z"
    }
   },
   "outputs": [],
   "source": [
    "#Para ejecutar el cluster jerarquico\n",
    "def cluster_jerarquico( data_si_dic, k):\n",
    "    inicio = time.time()\n",
    "    nom = 'ATI_CJ_M' + str( k+1 )\n",
    "    data_val_ati = {}\n",
    "    for cedula in data_si_dic:\n",
    "\n",
    "        if( len( data_si_dic[ cedula ]['SALARIO'] ) > 1 ): #Para formar al menos un cluster\n",
    "\n",
    "            aux = np.array( data_si_dic[ cedula ]['SALARIO'] ).reshape(-1, 1)\n",
    "            Z = linkage( aux , method='single', metric='euclidean')\n",
    "\n",
    "            num_clusters = 2  # Puedes ajustar este valor según tus necesidades\n",
    "            clusters = fcluster(Z, num_clusters, criterion='maxclust')\n",
    "\n",
    "            if( len( np.unique(clusters) ) > 1 ): #Para considerar al menos 2 cluster\n",
    "                # Calcular el centroide de cada clúster\n",
    "                cluster_centers = np.array([[ np.nanmean(aux[clusters == i], axis=0)[0], i ] for i in range(1, num_clusters + 1)] ) \n",
    "\n",
    "                Q1 = np.quantile(aux, 0.25)\n",
    "                Q3 = np.quantile(aux, 0.75)\n",
    "                IQR = Q3-Q1\n",
    "                LI = Q1 - 1.5 * IQR\n",
    "                LS = Q3 + 1.5 * IQR\n",
    "\n",
    "                cl_at = np.where( cluster_centers[:,0] > (LS +  1e-8) )[0]\n",
    "                cluster_centers[cl_at][:, 1]\n",
    "\n",
    "                mod_aux = np.zeros((len(aux), 2))\n",
    "                mod_aux[:, 0] = aux[:, 0]  # Copiar los valores originales de aux en la primera columna\n",
    "                mod_aux[np.isin(clusters, cluster_centers[cl_at][:, 1]), 1] = 1  # Asignar 1 en la segunda columna donde el cluster es 1\n",
    "\n",
    "                data_val_ati[cedula] = {'SALARIO': mod_aux[:, 0].tolist(),\n",
    "                                             nom : mod_aux[:, 1].tolist(),\n",
    "                                        'INDICE' : data_si_dic[ cedula ]['INDICE']}\n",
    "            else:\n",
    "                data_val_ati[cedula] = { 'SALARIO': aux.flatten().tolist(),\n",
    "                                               nom:  [-1] * len(aux),\n",
    "                                         'INDICE' : data_si_dic[ cedula ]['INDICE']} \n",
    "\n",
    "        else:\n",
    "            data_val_ati[cedula] = { 'SALARIO': data_si_dic[ cedula ]['SALARIO'],\n",
    "                                           nom:  [-2] * len( data_si_dic[ cedula ]['SALARIO'] ),\n",
    "                                     'INDICE' : data_si_dic[ cedula ]['INDICE']}\n",
    "    fin = time.time()  \n",
    "    print('\\tTiempo de ejecución es: ',  (fin-inicio)//3600, ' horas con ' ,  (fin-inicio)%3600//60 , ' minutos y', (fin-inicio)%60, ' segundos' )\n",
    "    \n",
    "    return data_val_ati\n",
    " \n",
    "#Para unir los resultados\n",
    "def extend_data( data_val_ati, k ):\n",
    "    inicio = time.time()\n",
    "    nom = 'ATI_CJ_M' + str( k + 1 )\n",
    "    data1 = { 'CEDULA_COD': [], 'SALARIO': [], nom : [], 'INDICE':[]}\n",
    "\n",
    "    # Llenar las listas con los datos del diccionario\n",
    "    for cedula, values in data_val_ati.items():\n",
    "        salario = values['SALARIO']\n",
    "        atipico = values[ nom ]\n",
    "        indice = values['INDICE']\n",
    "        num_rows = len(salario)\n",
    "\n",
    "        # Extender las listas en el diccionario de datos\n",
    "        data1['CEDULA_COD'].extend([cedula] * num_rows)\n",
    "        data1['SALARIO'].extend(salario)\n",
    "        data1[ nom ].extend(atipico)\n",
    "        data1['INDICE'].extend(indice)\n",
    "\n",
    "    fin = time.time()  \n",
    "    print('\\tTiempo de ejecución es: ',  (fin-inicio)//3600, ' horas con ' ,  (fin-inicio)%3600//60 , ' minutos y', (fin-inicio)%60, ' segundos' )\n",
    "    return data1\n",
    "\n",
    "#Para graficar el comportamiento de los atipicos\n",
    "def graf_ati(ced, k):\n",
    "    nom = 'ATI_CJ_M'+ str(k)\n",
    "    dt = data_l[(data_l['GRUPO_SEL']==1) & (data_l['CEDULA_COD']==ced)]\n",
    "    unique_ati = dt[ nom ].nunique(dropna=False)\n",
    "    categories = dt[ nom ].unique()\n",
    "\n",
    "    # Generar una lista de colores discretos\n",
    "    colors = plt.cm.coolwarm(np.linspace(0, 1, unique_ati))\n",
    "\n",
    "    # Crear un mapa de colores discreto\n",
    "    cmap = ListedColormap(colors)\n",
    "\n",
    "    # Graficar\n",
    "    plt.figure(figsize=(8, 5))\n",
    "    scatter = plt.scatter(dt.index, dt['SALARIO'], c=dt[ nom ], cmap=cmap)\n",
    "\n",
    "    plt.xlabel('Index')\n",
    "    plt.ylabel('Salario')\n",
    "    plt.title('Gráfico de Salario')\n",
    "\n",
    "    # Crear una leyenda discreta personalizada\n",
    "    # Definir las etiquetas para cada categoría\n",
    "    labels = { 0: 'No es atípico', 1: 'Es atípico', -1: 'Es un solo clúter', -2:'No forma parte del proceso',\n",
    "               np.nan: 'Valor NA'}\n",
    "\n",
    "    # Crear los handles para la leyenda\n",
    "    handles = [plt.Line2D([0], [0], marker='o', color='w', \n",
    "                          markersize=10, markerfacecolor=cmap(i), \n",
    "                          label=labels[i]) for i in categories]\n",
    "\n",
    "    plt.legend(handles=handles, title='Tipo de Salario')\n",
    "    plt.show()"
   ]
  },
  {
   "cell_type": "code",
   "execution_count": null,
   "id": "21fce47c",
   "metadata": {
    "ExecuteTime": {
     "end_time": "2024-07-25T20:45:29.331279Z",
     "start_time": "2024-07-25T20:45:29.040611Z"
    }
   },
   "outputs": [],
   "source": [
    "data[ ~(( data['SALARIO'] >= data['SBU'] ) & ( data['ANIO'] >= 2000 )) ]"
   ]
  },
  {
   "cell_type": "code",
   "execution_count": null,
   "id": "54c0c1e4",
   "metadata": {
    "ExecuteTime": {
     "end_time": "2024-07-25T19:21:54.907233Z",
     "start_time": "2024-07-25T19:03:19.095243Z"
    }
   },
   "outputs": [],
   "source": [
    "#Se crea un bucle para cada caso\n",
    "for k in range(0,3):\n",
    "    nom = 'ATI_CJ_M' + str( k+1 )\n",
    "    if (k==0):\n",
    "        ##Primer Caso--Considerando solo los salarios mayores al SBU y desde el año 2000\n",
    "        print('*' * 50, 'Caso ', str( k+1 ), '*' * 50)\n",
    "        data_si = data[   (( data['SALARIO'] >= data['SBU'] ) & ( data['ANIO'] >= 2000 )) ].copy() \n",
    "        data_no = data[ ~(( data['SALARIO'] >= data['SBU'] ) & ( data['ANIO'] >= 2000 )) ].copy() \n",
    "        data_no[ nom ] = np.nan\n",
    "        print('Tamaño de la data utilizada dentro de los años seleccionados', data_si.shape) #(26006294, 16)\n",
    "        print('Tamaño de la data no utilizada dentro de los años seleccionados',data_no.shape)  #(465822, 16)\n",
    "        \n",
    "        data_si_dic = data_si.groupby('CEDULA_COD').agg({'SALARIO': list, 'INDICE': list}).to_dict(orient='index')\n",
    "        data_no_dic = data_no.groupby('CEDULA_COD').agg({'SALARIO': list, 'INDICE': list}).to_dict(orient='index')\n",
    "        \n",
    "        print('Algoritmo Cluster Jerárquico')\n",
    "        data_val_ati = cluster_jerarquico( data_si_dic, k )\n",
    "        print('Extensión del diccionario')\n",
    "        data1 = extend_data( data_val_ati, k )\n",
    "        \n",
    "        print('Concatenación de dataframe')\n",
    "        inicio = time.time()\n",
    "        data_jerar = None\n",
    "        data_jerar = pd.concat( [ data_no_grupo[['CEDULA_COD', 'SALARIO',  nom , 'INDICE']],\n",
    "                                  pd.DataFrame( data1 ), \n",
    "                                  data_no[['CEDULA_COD', 'SALARIO',  nom , 'INDICE']] ], axis=0)\n",
    "    \n",
    "        data_jerar = data_jerar.sort_values( by=[\"INDICE\"], ascending=[ True ] )\n",
    "        data_jerar.reset_index(inplace=True)\n",
    "        data_jerar.rename(columns={'index': 'nuevo_indice'}, inplace=True)\n",
    "        data_jerar.drop(columns=['nuevo_indice'], inplace=True)\n",
    "        fin = time.time()  \n",
    "        print('\\tTiempo de ejecución es: ',  (fin-inicio)//3600, ' horas con ' ,  (fin-inicio)%3600//60 , ' minutos y', (fin-inicio)%60, ' segundos' )\n",
    "        \n",
    "        print('Creación de la columna')\n",
    "        inicio = time.time()\n",
    "        data_l[ nom ] = np.nan\n",
    "        aux = data_jerar[ nom ].to_numpy()\n",
    "        data_l.iloc[:, data_l.columns.get_loc( nom )] = aux\n",
    "        fin = time.time()  \n",
    "        print('\\tTiempo de ejecución es: ',  (fin-inicio)//3600, ' horas con ' ,  (fin-inicio)%3600//60 , ' minutos y', (fin-inicio)%60, ' segundos' )\n",
    "        \n",
    "        print('Verificación de posibles errores')\n",
    "        inicio = time.time()\n",
    "        dif1 = data_l[data_l['SALARIO']!= data_jerar['SALARIO']].index\n",
    "        fin = time.time()  \n",
    "        print('\\tTiempo de ejecución es: ',  (fin-inicio)//3600, ' horas con ' ,  (fin-inicio)%3600//60 , ' minutos y', (fin-inicio)%60, ' segundos' )\n",
    "        print('*' * 108, '\\n')  \n",
    "        \n",
    "    if (k==1):\n",
    "        ##Segundo Caso--Considerando todo el registro de los mejores años\n",
    "        print('*' * 50, 'Caso ', str( k+1 ), '*' * 50)\n",
    "        data_si = data.copy()\n",
    "        print('Tamaño de la data utilizada dentro de los años seleccionados', data_si.shape) \n",
    "        \n",
    "        data_si_dic = data_si.groupby('CEDULA_COD').agg({'SALARIO': list, 'INDICE': list}).to_dict(orient='index')\n",
    "        \n",
    "        print('Algoritmo Cluster Jerárquico')\n",
    "        data_val_ati = cluster_jerarquico( data_si_dic, k )\n",
    "        print('Extensión del diccionario')\n",
    "        data1 = extend_data( data_val_ati, k )\n",
    "        \n",
    "        print('Concatenación de dataframe')\n",
    "        inicio = time.time()\n",
    "        data_jerar = None\n",
    "        data_jerar = pd.concat( [ data_no_grupo[['CEDULA_COD', 'SALARIO', nom, 'INDICE']],\n",
    "                                  pd.DataFrame( data1 ) ], axis=0)\n",
    "    \n",
    "        data_jerar = data_jerar.sort_values( by=[\"INDICE\"], ascending=[ True ] )\n",
    "        data_jerar.reset_index(inplace=True)\n",
    "        data_jerar.rename(columns={'index': 'nuevo_indice'}, inplace=True)\n",
    "        data_jerar.drop(columns=['nuevo_indice'], inplace=True)\n",
    "        fin = time.time()  \n",
    "        print('\\tTiempo de ejecución es: ',  (fin-inicio)//3600, ' horas con ' ,  (fin-inicio)%3600//60 , ' minutos y', (fin-inicio)%60, ' segundos' )\n",
    "        \n",
    "        print('Creación de la columna')\n",
    "        inicio = time.time()\n",
    "        data_l[ nom ] = np.nan\n",
    "        aux = data_jerar[ nom ].to_numpy()\n",
    "        data_l.iloc[:, data_l.columns.get_loc( nom ) ] = aux\n",
    "        fin = time.time()  \n",
    "        print('\\tTiempo de ejecución es: ',  (fin-inicio)//3600, ' horas con ' ,  (fin-inicio)%3600//60 , ' minutos y', (fin-inicio)%60, ' segundos' )\n",
    "        \n",
    "        print('Verificación de posibles errores')\n",
    "        inicio = time.time()\n",
    "        dif2 = data_l[data_l['SALARIO']!= data_jerar['SALARIO']].index\n",
    "        fin = time.time()  \n",
    "        print('\\tTiempo de ejecución es: ',  (fin-inicio)//3600, ' horas con ' ,  (fin-inicio)%3600//60 , ' minutos y', (fin-inicio)%60, ' segundos' )\n",
    "        print('*' * 108, '\\n')\n",
    "        \n",
    "    if (k==2):\n",
    "        ##Tercer Caso--Considerando todo el registro de los mejores años, pero a partir del año 2000\n",
    "        print('*' * 50, 'Caso ', str( k+1 ), '*' * 50)\n",
    "        data_si = data[  ( ( data['ANIO'] >= 2000 )) ].copy()\n",
    "        data_no = data[ ~( ( data['ANIO'] >= 2000 )) ].copy()   \n",
    "        data_no[ nom ] = np.nan\n",
    "        print('Tamaño de la data utilizada dentro de los años seleccionados', data_si.shape) \n",
    "        print('Tamaño de la data no utilizada dentro de los años seleccionados',data_no.shape) \n",
    "        \n",
    "        data_si_dic = data_si.groupby('CEDULA_COD').agg({'SALARIO': list, 'INDICE': list}).to_dict(orient='index')\n",
    "        data_no_dic = data_no.groupby('CEDULA_COD').agg({'SALARIO': list, 'INDICE': list}).to_dict(orient='index')\n",
    "        \n",
    "        print('Algoritmo Cluster Jerárquico')\n",
    "        data_val_ati = cluster_jerarquico( data_si_dic, k )\n",
    "        print('Extensión del diccionario')\n",
    "        data1 = extend_data( data_val_ati, k )\n",
    "        \n",
    "        print('Concatenación de dataframe')\n",
    "        inicio = time.time()\n",
    "        data_jerar = None\n",
    "        data_jerar = pd.concat( [ data_no_grupo[['CEDULA_COD', 'SALARIO', nom, 'INDICE']],\n",
    "                                  pd.DataFrame( data1 ), \n",
    "                                  data_no[['CEDULA_COD', 'SALARIO', nom, 'INDICE']] ], axis=0)\n",
    "    \n",
    "        data_jerar = data_jerar.sort_values( by=[\"INDICE\"], ascending=[ True ] )\n",
    "        data_jerar.reset_index(inplace=True)\n",
    "        data_jerar.rename(columns={'index': 'nuevo_indice'}, inplace=True)\n",
    "        data_jerar.drop(columns=['nuevo_indice'], inplace=True)\n",
    "        fin = time.time()  \n",
    "        print('\\tTiempo de ejecución es: ',  (fin-inicio)//3600, ' horas con ' ,  (fin-inicio)%3600//60 , ' minutos y', (fin-inicio)%60, ' segundos' )\n",
    "        \n",
    "        print('Creación de la columna')\n",
    "        inicio = time.time()\n",
    "        data_l[ nom ] = np.nan\n",
    "        aux = data_jerar[ nom ].to_numpy()\n",
    "        data_l.iloc[:, data_l.columns.get_loc( nom )] = aux\n",
    "        fin = time.time()  \n",
    "        print('\\tTiempo de ejecución es: ',  (fin-inicio)//3600, ' horas con ' ,  (fin-inicio)%3600//60 , ' minutos y', (fin-inicio)%60, ' segundos' )\n",
    "        \n",
    "        print('Verificación de posibles errores')\n",
    "        inicio = time.time()\n",
    "        dif3 = data_l[data_l['SALARIO']!= data_jerar['SALARIO']].index\n",
    "        fin = time.time()  \n",
    "        print('\\tTiempo de ejecución es: ',  (fin-inicio)//3600, ' horas con ' ,  (fin-inicio)%3600//60 , ' minutos y', (fin-inicio)%60, ' segundos' )\n",
    "        print('*' * 108, '\\n')\n",
    "\n",
    "\n",
    "\n",
    "        "
   ]
  },
  {
   "cell_type": "code",
   "execution_count": null,
   "id": "2a68ccfc",
   "metadata": {
    "ExecuteTime": {
     "end_time": "2024-07-25T16:51:13.598217Z",
     "start_time": "2024-07-25T16:50:59.228662Z"
    }
   },
   "outputs": [],
   "source": [
    "del data, data_jerar, data1, aux, data_si, data_no, data_no_grupo, data_val_ati\n",
    "gc.collect()"
   ]
  },
  {
   "cell_type": "code",
   "execution_count": null,
   "id": "996ae463",
   "metadata": {
    "ExecuteTime": {
     "end_time": "2024-07-25T19:59:59.289302Z",
     "start_time": "2024-07-25T19:22:09.489799Z"
    }
   },
   "outputs": [],
   "source": [
    "#Se calculan los limítes máximos de aportación en función de la HL\n",
    "#Caso 1: Para toda la historia laboral\n",
    "inicio = time.time()   \n",
    "grupo1 = data_l.copy()\n",
    "Q1 = grupo1.groupby('CEDULA_COD')['SALARIO'].quantile(0.25)\n",
    "Q3 = grupo1.groupby('CEDULA_COD')['SALARIO'].quantile(0.75)\n",
    "IQR = Q3-Q1\n",
    "LI = Q1 - 1.5 * IQR\n",
    "LS = Q3 + 1.5 * IQR\n",
    "data_l['LS1'] = data_l['CEDULA_COD'].map( LS )\n",
    "\n",
    "#Caso 2: Para la historia laboral a partir del año 2020\n",
    "grupo2 = data_l[ data_l['ANIO']>=2000 ].copy()\n",
    "Q1 = grupo2.groupby('CEDULA_COD')['SALARIO'].quantile(0.25)\n",
    "Q3 = grupo2.groupby('CEDULA_COD')['SALARIO'].quantile(0.75)\n",
    "IQR = Q3-Q1\n",
    "LI = Q1 - 1.5 * IQR\n",
    "LS = Q3 + 1.5 * IQR\n",
    "data_l['LS2'] = data_l['CEDULA_COD'].map( LS )\n",
    "\n",
    "fin = time.time()  \n",
    "print('\\tTiempo de ejecución es: ',  (fin-inicio)//3600, ' horas con ' ,  (fin-inicio)%3600//60 , ' minutos y', (fin-inicio)%60, ' segundos')\n",
    "\n",
    "del grupo1, grupo2, Q1, Q3, IQR, LI, LS\n",
    "gc.collect()"
   ]
  },
  {
   "cell_type": "code",
   "execution_count": null,
   "id": "526778c8",
   "metadata": {
    "ExecuteTime": {
     "end_time": "2024-07-25T21:29:49.388343Z",
     "start_time": "2024-07-25T21:29:49.231131Z"
    }
   },
   "outputs": [],
   "source": [
    "#El valor de NA implica que esos datos no son parte de data_si, por lo que no se analizaron\n",
    "#El valor de -1 implica que se formó un solo cluster\n",
    "#El valor de -2 implica que en la selección de datos (data_si), la cedula solo tenía un único valor para formar los cluster\n",
    "# pues era el resultado de filtrar el data_si\n",
    "\n",
    "##Se analiza el caso de los valores de atipicos del método 1\n",
    "# data_l[ ( data_l['GRUPO_SEL']==1 )]['ATI_CJ_M1'].unique() #array([ 0., nan,  1., -1., -2.])\n",
    "# data_l[ ( data_l['GRUPO_SEL']==1 ) & (data_l['ATI_CJ_M1']==-2)] #86 rows × 21 columns\n",
    "# data_l[ ( data_l['GRUPO_SEL']==1 ) & (data_l['ATI_CJ_M1'].isna())]  #465822 rows × 21 columns\n",
    "# data_l[ ( data_l['GRUPO_SEL']==1 ) & (data_l['ATI_CJ_M1']==-1)]  # 3292785 rows × 21 columns\n",
    "\n",
    "##Se analiza el caso de los valores de atipicos del método 2\n",
    "# data_l[ ( data_l['GRUPO_SEL']==1 )]['ATI_CJ_M2'].unique() #rray([ 0.,  1., -1.])\n",
    "# ata_l[ ( data_l['GRUPO_SEL']==1 ) & (data_l['ATI_CJ_M2']==-1)]  #3125765 rows × 21 columns\n",
    "\n",
    "##Se analiza el caso de los valores de atipicos del método 3\n",
    "# data_l[ ( data_l['GRUPO_SEL']==1 )]['ATI_CJ_M3'].unique() #array([ 0.,  1., -1., nan, -2.])\n",
    "# data_l[ ( data_l['GRUPO_SEL']==1 ) & (data_l['ATI_CJ_M3']==-2)] #2 rows × 21 columns\n",
    "# data_l[ ( data_l['GRUPO_SEL']==1 ) & (data_l['ATI_CJ_M3'].isna())]  # 7454 rows × 21 columns\n",
    "# data_l[ ( data_l['GRUPO_SEL']==1 ) & (data_l['ATI_CJ_M3']==-1)] #3125140 rows × 21 columns"
   ]
  },
  {
   "cell_type": "code",
   "execution_count": null,
   "id": "8e954366",
   "metadata": {
    "ExecuteTime": {
     "end_time": "2024-07-25T21:45:18.282658Z",
     "start_time": "2024-07-25T21:45:16.613882Z"
    }
   },
   "outputs": [],
   "source": [
    "#Cedulas que tiene datos atípicos----------------------------------------------------------------------------------------------\n",
    "print('*' * 50, 'Caso ', str( 1 ), '*' * 50)\n",
    "print('\\tCedulas con al menos un atípico:', data_l[ (data_l['GRUPO_SEL']==1) & (data_l['ATI_CJ_M1']==1)]['CEDULA_COD'].nunique()) #134017\n",
    "print('\\tCedulas con valor -2:',            data_l[ (data_l['GRUPO_SEL']==1) & (data_l['ATI_CJ_M1']==-2)]['CEDULA_COD'].nunique()) #86\n",
    "print('\\tCedulas con valor nan:',           data_l[ (data_l['GRUPO_SEL']==1) & (data_l['ATI_CJ_M1'].isna())]['CEDULA_COD'].nunique()) #85804\n",
    "print('\\tCedulas con valor -1:',            data_l[ (data_l['GRUPO_SEL']==1) & (data_l['ATI_CJ_M1']==-1)]['CEDULA_COD'].nunique()) #55669\n",
    "print('\\tCedulas con valor 0:',             data_l[ (data_l['GRUPO_SEL']==1) & (data_l['ATI_CJ_M1']==0)]['CEDULA_COD'].nunique()) #379216\n",
    "print('*' * 50, 'Caso ', str( 2 ), '*' * 50)\n",
    "print('\\tCedulas con al menos un atípico:', data_l[ (data_l['GRUPO_SEL']==1) & (data_l['ATI_CJ_M2']==1)]['CEDULA_COD'].nunique()) #123850\n",
    "print('\\tCedulas con valor -2:',            data_l[ (data_l['GRUPO_SEL']==1) & (data_l['ATI_CJ_M2']==-2)]['CEDULA_COD'].nunique()) #0\n",
    "print('\\tCedulas con valor nan:',           data_l[ (data_l['GRUPO_SEL']==1) & (data_l['ATI_CJ_M2'].isna())]['CEDULA_COD'].nunique()) #0\n",
    "print('\\tCedulas con valor -1:',            data_l[ (data_l['GRUPO_SEL']==1) & (data_l['ATI_CJ_M2']==-1)]['CEDULA_COD'].nunique()) #52121\n",
    "print('\\tCedulas con valor 0:',             data_l[ (data_l['GRUPO_SEL']==1) & (data_l['ATI_CJ_M2']==0)]['CEDULA_COD'].nunique()) #383682\n",
    "print('*' * 50, 'Caso ', str( 3 ), '*' * 50)\n",
    "print('\\tCedulas con al menos un atípico:', data_l[ (data_l['GRUPO_SEL']==1) & (data_l['ATI_CJ_M3']==1)]['CEDULA_COD'].nunique()) #123826\n",
    "print('\\tCedulas con valor -2:',            data_l[ (data_l['GRUPO_SEL']==1) & (data_l['ATI_CJ_M3']==-2)]['CEDULA_COD'].nunique()) #2\n",
    "print('\\tCedulas con valor nan:',           data_l[ (data_l['GRUPO_SEL']==1) & (data_l['ATI_CJ_M3'].isna())]['CEDULA_COD'].nunique()) #499\n",
    "print('\\tCedulas con valor -1:',            data_l[ (data_l['GRUPO_SEL']==1) & (data_l['ATI_CJ_M3']==-1)]['CEDULA_COD'].nunique()) # 52124\n",
    "print('\\tCedulas con valor 0:',             data_l[ (data_l['GRUPO_SEL']==1) & (data_l['ATI_CJ_M3']==0)]['CEDULA_COD'].nunique()) #383653\n",
    "print('*' * 50, 'Caso ', str( 1 ), '*' * 50)"
   ]
  },
  {
   "cell_type": "code",
   "execution_count": null,
   "id": "91c660c0",
   "metadata": {
    "ExecuteTime": {
     "end_time": "2024-07-25T21:38:53.498456Z",
     "start_time": "2024-07-25T21:38:53.139066Z"
    }
   },
   "outputs": [],
   "source": [
    "graf_ati(23075971, 1)"
   ]
  },
  {
   "cell_type": "code",
   "execution_count": null,
   "id": "4b28217e",
   "metadata": {
    "ExecuteTime": {
     "end_time": "2024-07-25T21:16:44.105401Z",
     "start_time": "2024-07-25T21:16:40.435608Z"
    }
   },
   "outputs": [],
   "source": [
    "#Caso 1- Correcciones---------------------------------------------------------------------------------------------------\n",
    "#Se corrige en función deL Límite máximo de la HL a apartir del año 2000, pues es la fecha en la que entra en dolar a ecuador ( -2 -> 1 )\n",
    "data_l.loc[ ( (data_l['GRUPO_SEL']==1) & (data_l['ATI_CJ_M1']==-2) & (data_l['SALARIO'] > data_l['LS2']) ), 'ATI_CJ_M1'] = 1 #quedan 45 casos\n",
    "#Se corrige en función del valores menoRes al limite máximo la HL a apartir del año 2000, pues es la fecha en la que entra en dolar a ecuador ( -2 -> 0 )\n",
    "data_l.loc[ ( (data_l['GRUPO_SEL']==1) & (data_l['ATI_CJ_M1']==-2) & (data_l['SALARIO'] <= data_l['LS2']) ), 'ATI_CJ_M1'] = 0 \n",
    "# Se hacen las correcciones para los valores -2, en donde si el Salario es menor o igual a un SBU no es atípico( -2 -> 0 )\n",
    "data_l.loc[ ( (data_l['GRUPO_SEL']==1) & (data_l['ATI_CJ_M1']==-2) & (data_l['SALARIO'] <= data_l['SBU']) ), 'ATI_CJ_M1'] = 0 \n",
    "\n",
    "#Se corrige en función deL Límite máximo de toda la HL, pues si no hay datos del SBU para atrás ( NA -> 1 )\n",
    "data_l.loc[ ( (data_l['GRUPO_SEL']==1) & (data_l['ATI_CJ_M1'].isna()) & (data_l['SALARIO'] > data_l['LS1']) ), 'ATI_CJ_M1'] = 1  #quedan 463235 casos\n",
    "#Se corrige en función del valores menoRes al limite máximo la HL, pues si no hay datos del SBU para atrás ( NA -> 0 )\n",
    "data_l.loc[ ( (data_l['GRUPO_SEL']==1) & (data_l['ATI_CJ_M1'].isna()) & (data_l['SALARIO'] <= data_l['LS1']) ), 'ATI_CJ_M1'] = 0  #\n",
    "#Se hacen las correcciones para los valores NA, en donde si el Salario es menor o igual a un SBU no es atípico( NA -> 0 )\n",
    "data_l.loc[ ( (data_l['GRUPO_SEL']==1) & (data_l['ATI_CJ_M1'].isna()) & (data_l['SALARIO'] <= data_l['SBU']) ), 'ATI_CJ_M1'] = 0  \n",
    "\n",
    "#Se hacen las correcciones para los valores -1, en donde si el Salario es mayor a LS1 es atípico( -1 -> 1 )\n",
    "data_l.loc[ ( (data_l['GRUPO_SEL']==1) & (data_l['ATI_CJ_M1']==-1) & (data_l['SALARIO'] > data_l['LS1']) ), 'ATI_CJ_M1'] = 1 #quedan 3267088\n",
    "#Se hacen las correcciones para los valores -1, en donde si el Salario es menor o igual a LS1 no es atípico( -1 -> 0 )\n",
    "data_l.loc[ ( (data_l['GRUPO_SEL']==1) & (data_l['ATI_CJ_M1']==-1) & (data_l['SALARIO'] <= data_l['LS1']) ), 'ATI_CJ_M1'] = 0 #q \n",
    "#Se hacen las correcciones para los valores -1, en donde si el Salario es menor o igual a un SBU no es atípico( -1 -> 0 )\n",
    "data_l.loc[ ( (data_l['GRUPO_SEL']==1) & (data_l['ATI_CJ_M1']==-1) & (data_l['SALARIO'] <= data_l['SBU']) ), 'ATI_CJ_M1'] = 0 #\n",
    "\n",
    "#Se hacen las correcciones para los valores 1, en donde si el Salario es menor o igual al SBU no es atípico( 1 -> 0 )\n",
    "data_l.loc[ ( (data_l['GRUPO_SEL']==1) & (data_l['ATI_CJ_M1']==1) & (data_l['SALARIO'] <= data_l['SBU']) ), 'ATI_CJ_M1'] = 0"
   ]
  },
  {
   "cell_type": "code",
   "execution_count": null,
   "id": "3540288f",
   "metadata": {
    "ExecuteTime": {
     "end_time": "2024-07-25T21:22:55.507498Z",
     "start_time": "2024-07-25T21:22:54.407972Z"
    }
   },
   "outputs": [],
   "source": [
    "#Caso 2 - Correcciones---------------------------------------------------------------------------------------------------\n",
    "#No existen valores igual a NA e igual a -2\n",
    "#Se hacen las correcciones para los valores -1, en donde si el Salario es mayor a LS1 es atípico( -1 -> 1 )\n",
    "data_l.loc[ ( (data_l['GRUPO_SEL']==1) & (data_l['ATI_CJ_M2']==-1) & (data_l['SALARIO'] > data_l['LS1']) ), 'ATI_CJ_M2'] = 1 # quedan 3104185\n",
    "#Se hacen las correcciones para los valores -1, en donde si el Salario es menor o igual a LS1 no es atípico( -1 -> 0 )\n",
    "data_l.loc[ ( (data_l['GRUPO_SEL']==1) & (data_l['ATI_CJ_M2']==-1) & (data_l['SALARIO'] <= data_l['LS1']) ), 'ATI_CJ_M2'] = 0\n",
    "#Se hacen las correcciones para los valores -1, en donde si el Salario es menor o igual a un SBU no es atípico( -1 -> 0 )\n",
    "data_l.loc[ ( (data_l['GRUPO_SEL']==1) & (data_l['ATI_CJ_M2']==-1) & (data_l['SALARIO'] <= data_l['SBU']) ), 'ATI_CJ_M2'] = 0 \n",
    "#Se hacen las correcciones para los valores 1, en donde si el Salario es menor o igual al SBU no es atípico( 1 -> 0 )\n",
    "data_l.loc[ ( (data_l['GRUPO_SEL']==1) & (data_l['ATI_CJ_M2']==1) & (data_l['SALARIO'] <= data_l['SBU']) ), 'ATI_CJ_M2'] = 0"
   ]
  },
  {
   "cell_type": "code",
   "execution_count": null,
   "id": "34bb134c",
   "metadata": {
    "ExecuteTime": {
     "end_time": "2024-07-25T21:29:49.231131Z",
     "start_time": "2024-07-25T21:29:45.628932Z"
    }
   },
   "outputs": [],
   "source": [
    "#Caso 3 - Correcciones-------------------------------------------------------------------------------------------------\n",
    "#Se corrige en función deL Límite máximo de la HL a apartir del año 2000, pues es la fecha en la que entra en dolar a ecuador ( -2 -> 1 )\n",
    "data_l.loc[ ( (data_l['GRUPO_SEL']==1) & (data_l['ATI_CJ_M3']==-2) & (data_l['SALARIO'] > data_l['LS2']) ), 'ATI_CJ_M3'] = 1 # quedan 2 casos\n",
    "#Se corrige en función del valores menores al limite máximo la HL a apartir del año 2000, pues es la fecha en la que entra en dolar a ecuador ( -2 -> 0 )\n",
    "data_l.loc[ ( (data_l['GRUPO_SEL']==1) & (data_l['ATI_CJ_M3']==-2) & (data_l['SALARIO'] <= data_l['LS2']) ), 'ATI_CJ_M3'] = 0\n",
    "#Se hacen las correcciones para los valores -2, en donde si el Salario es menor o igual a un SBU no es atípico( -2 -> 0 )\n",
    "data_l.loc[ ( (data_l['GRUPO_SEL']==1) & (data_l['ATI_CJ_M3']==-2) & (data_l['SALARIO'] <= data_l['SBU']) ), 'ATI_CJ_M3'] = 0 #\n",
    "\n",
    "#Se corrige en función deL Límite máximo de toda la HL, pues si no hay datos del SBU para atrás ( NA -> 1 )\n",
    "data_l.loc[ ( (data_l['GRUPO_SEL']==1) & (data_l['ATI_CJ_M3'].isna()) & (data_l['SALARIO'] > data_l['LS1']) ), 'ATI_CJ_M3'] = 1 #quedan 7394 casos\n",
    "#Se corrige en función del valores menoRes al limite máximo la HL, pues sno hay datos del SBU para atrás ( NA -> 0 )\n",
    "data_l.loc[ ( (data_l['GRUPO_SEL']==1) & (data_l['ATI_CJ_M3'].isna()) & (data_l['SALARIO'] <= data_l['LS1']) ), 'ATI_CJ_M3'] = 0  \n",
    "#Se hacen las correcciones para los valores NA, en donde si el Salario es menor o igual a un SBU no es atípico( NA -> 0 )\n",
    "data_l.loc[ ( (data_l['GRUPO_SEL']==1) & (data_l['ATI_CJ_M3'].isna()) & (data_l['SALARIO'] <= data_l['SBU']) ), 'ATI_CJ_M3'] = 0 \n",
    "\n",
    "#Se hacen las correcciones para los valores -1, en donde si el Salario es mayor a LS1 es atípico( -1 -> 1 )\n",
    "data_l.loc[ ( (data_l['GRUPO_SEL']==1) & (data_l['ATI_CJ_M3']==-1) & (data_l['SALARIO'] > data_l['LS1']) ), 'ATI_CJ_M3'] = 1 #quedan 3103457  casos\n",
    "#Se hacen las correcciones para los valores -1, en donde si el Salario es menor o igual a LS1 no es atípico( -1 -> 0 )\n",
    "data_l.loc[ ( (data_l['GRUPO_SEL']==1) & (data_l['ATI_CJ_M3']==-1) & (data_l['SALARIO'] <= data_l['LS1']) ), 'ATI_CJ_M3'] = 0\n",
    "#Se hacen las correcciones para los valores -1, en donde si el Salario es menor o igual a un SBU no es atípico( -1 -> 0 )\n",
    "data_l.loc[ ( (data_l['GRUPO_SEL']==1) & (data_l['ATI_CJ_M3']==-1) & (data_l['SALARIO'] <= data_l['SBU']) ), 'ATI_CJ_M3'] = 0 \n",
    "#Se hacen las correcciones para los valores 1, en donde si el Salario es menor o igual al SBU no es atípico( 1 -> 0 )\n",
    "data_l.loc[ ( (data_l['GRUPO_SEL']==1) & (data_l['ATI_CJ_M3']==1) & (data_l['SALARIO'] <= data_l['SBU']) ), 'ATI_CJ_M3'] = 0"
   ]
  },
  {
   "cell_type": "code",
   "execution_count": null,
   "id": "5cf8223c",
   "metadata": {},
   "outputs": [],
   "source": [
    "graf_ati(23075971, 1)"
   ]
  },
  {
   "cell_type": "code",
   "execution_count": null,
   "id": "960ed602",
   "metadata": {},
   "outputs": [],
   "source": [
    "#Cedulas que tiene datos atípicos----------------------------------------------------------------------------------------------\n",
    "print('*' * 50, 'Caso ', str( 1 ), '*' * 50)\n",
    "print('\\tCedulas con al menos un atípico:', data_l[ (data_l['GRUPO_SEL']==1) & (data_l['ATI_CJ_M1']==1)]['CEDULA_COD'].nunique()) #125237\n",
    "print('\\tCedulas con sin atípicos:',        data_l[ (data_l['GRUPO_SEL']==1) & (data_l['ATI_CJ_M1']==0)]['CEDULA_COD'].nunique()) #436149\n",
    "print('*' * 50, 'Caso ', str( 2 ), '*' * 50)\n",
    "print('\\tCedulas con al menos un atípico:', data_l[ (data_l['GRUPO_SEL']==1) & (data_l['ATI_CJ_M2']==1)]['CEDULA_COD'].nunique()) #116931\n",
    "print('\\tCedulas con sin atípicos:',        data_l[ (data_l['GRUPO_SEL']==1) & (data_l['ATI_CJ_M2']==0)]['CEDULA_COD'].nunique()) #436148\n",
    "print('*' * 50, 'Caso ', str( 3 ), '*' * 50)\n",
    "print('\\tCedulas con al menos un atípico:', data_l[ (data_l['GRUPO_SEL']==1) & (data_l['ATI_CJ_M3']==1)]['CEDULA_COD'].nunique()) #116938\n",
    "print('\\tCedulas con sin atípicos:',        data_l[ (data_l['GRUPO_SEL']==1) & (data_l['ATI_CJ_M3']==0)]['CEDULA_COD'].nunique()) #436149\n",
    "print('*' * 102)"
   ]
  },
  {
   "cell_type": "code",
   "execution_count": null,
   "id": "ae91edff",
   "metadata": {
    "ExecuteTime": {
     "end_time": "2024-07-29T15:48:00.380178Z",
     "start_time": "2024-07-29T15:48:00.357873Z"
    }
   },
   "outputs": [],
   "source": [
    "# Guadar archivo------------------------------------------------------------------------------------------------------------\n",
    "nombre_archivo = 'viu_clean_data_l.pkl'\n",
    "# Ruta completa del archivo\n",
    "ruta_archivo = os.path.join(directorio, nombre_archivo)\n",
    "# Objetos a guardar\n",
    "objeto8 = data_l\n",
    "\n",
    "# Guardar los objetos en el archivo\n",
    "with open(ruta_archivo, 'wb') as archivo:\n",
    "    pickle.dump(objeto8, archivo)      \n",
    "\n",
    "del objeto8"
   ]
  },
  {
   "cell_type": "code",
   "execution_count": null,
   "id": "70d03263",
   "metadata": {
    "ExecuteTime": {
     "end_time": "2024-07-29T16:15:47.567505Z",
     "start_time": "2024-07-29T16:15:47.557819Z"
    }
   },
   "outputs": [],
   "source": [
    "data_l.shape"
   ]
  },
  {
   "cell_type": "code",
   "execution_count": null,
   "id": "c37a6de3",
   "metadata": {
    "ExecuteTime": {
     "end_time": "2024-07-29T21:10:41.872950Z",
     "start_time": "2024-07-29T21:09:08.857893Z"
    }
   },
   "outputs": [],
   "source": [
    "# Cargar archivo------------------------------------------------------------------------------------------------------------\n",
    "directorio = r_ruta\n",
    "nombre_archivo = 'viu_clean_data_l.pkl'\n",
    "ruta_archivo = os.path.join(directorio, nombre_archivo)\n",
    "\n",
    "with open( ruta_archivo, 'rb') as archivo:\n",
    "    data_l = pickle.load( archivo )     "
   ]
  },
  {
   "cell_type": "code",
   "execution_count": null,
   "id": "2ad6f24b",
   "metadata": {
    "ExecuteTime": {
     "end_time": "2024-07-29T21:12:05.505781Z",
     "start_time": "2024-07-29T21:10:41.872950Z"
    }
   },
   "outputs": [],
   "source": [
    "#Analisis para atípicos vs aportes simultáneos\n",
    "cedula_1 = data_l.groupby('CEDULA_COD')['NUM_SEC_MES'].apply( lambda x: (x != 1).any() )\n",
    "cedula_dist = cedula_1[ cedula_1 ].index\n",
    "ul = data_l[ ~data_l['CEDULA_COD'].isin( cedula_dist )]\n",
    "ml = data_l[  data_l['CEDULA_COD'].isin( cedula_dist )]\n",
    "\n",
    "#Cedulas que tiene datos atípicos----------------------------------------------------------------------------------------------\n",
    "print('*' * 50, 'Caso ', str( 1 ), '*' * 50)\n",
    "print('\\tCedulas con al menos un atípico con un único sector:',\n",
    "      ul[ (ul['GRUPO_SEL']==1) & (ul['ATI_CJ_M1']==1)]['CEDULA_COD'].nunique()) \n",
    "print('\\tCedulas con al menos un atípico con más de un único sector:',\n",
    "      ml[ (ml['GRUPO_SEL']==1) & (ml['ATI_CJ_M1']==1)]['CEDULA_COD'].nunique())\n",
    "print('*' * 50, 'Caso ', str( 2 ), '*' * 50)\n",
    "print('\\tCedulas con al menos un atípico con un único sector:',\n",
    "      ul[ (ul['GRUPO_SEL']==1) & (ul['ATI_CJ_M2']==1)]['CEDULA_COD'].nunique()) \n",
    "print('\\tCedulas con al menos un atípico con más de un único sector:',\n",
    "      ml[ (ml['GRUPO_SEL']==1) & (ml['ATI_CJ_M2']==1)]['CEDULA_COD'].nunique())\n",
    "print('*' * 50, 'Caso ', str( 3 ), '*' * 50)\n",
    "print('\\tCedulas con al menos un atípico con un único sector:',\n",
    "      ul[ (ul['GRUPO_SEL']==1) & (ul['ATI_CJ_M3']==1)]['CEDULA_COD'].nunique()) \n",
    "print('\\tCedulas con al menos un atípico con más de un único sector:',\n",
    "      ml[ (ml['GRUPO_SEL']==1) & (ml['ATI_CJ_M3']==1)]['CEDULA_COD'].nunique())\n",
    "print('*' * 102)\n"
   ]
  },
  {
   "cell_type": "code",
   "execution_count": null,
   "id": "ad35e523",
   "metadata": {
    "ExecuteTime": {
     "end_time": "2024-07-29T21:13:27.393902Z",
     "start_time": "2024-07-29T21:12:05.505781Z"
    }
   },
   "outputs": [],
   "source": [
    "#Creando limites de atipicos\n",
    "inicio = time.time()   \n",
    "#Caso 3: Para toda la historia laboral sin considerar aportes simultáneos\n",
    "# cedula_1 = data_l.groupby('CEDULA_COD')['NUM_SEC_MES'].apply( lambda x: (x != 1).any() )\n",
    "# cedula_dist = cedula_1[ cedula_1 ].index\n",
    "# grupo3 = data_l[ ~data_l['CEDULA_COD'].isin( cedula_dist )]\n",
    "grupo3 = ul\n",
    "\n",
    "Q1 = grupo3.groupby('CEDULA_COD')['SALARIO'].quantile(0.25)\n",
    "Q3 = grupo3.groupby('CEDULA_COD')['SALARIO'].quantile(0.75)\n",
    "IQR = Q3-Q1\n",
    "LI = Q1 - 1.5 * IQR\n",
    "LS = Q3 + 1.5 * IQR\n",
    "data_l['LS3'] = data_l['CEDULA_COD'].map( LS )\n",
    "\n",
    "#Caso 4: Para toda la historia laboral considerando aportes simultáneos\n",
    "#grupo4 = data_l[ data_l['CEDULA_COD'].isin( cedula_dist )]\n",
    "grupo4 = ml\n",
    "dic_aux = grupo4.groupby('CEDULA_COD').agg({'SALARIO_SECTOR': list, 'INDICE': list}).to_dict(orient='index')\n",
    "\n",
    "for cedula in dic_aux:\n",
    "    dic_aux[cedula]['SALARIO_SECTOR'] = [ [float(val) for val in sal.replace(':', ';').split(';')] \n",
    "                                            if isinstance(sal, str) \n",
    "                                            else [float(sal)]\n",
    "                                            for sal in dic_aux[cedula]['SALARIO_SECTOR']\n",
    "                                        ]\n",
    "    # Aplanar la lista de listas de SALARIO_SECTOR\n",
    "    salarios = None\n",
    "    salarios = [salario for sublist in dic_aux[cedula]['SALARIO_SECTOR'] for salario in sublist]\n",
    "    dic_aux[cedula]['Q1'] =  np.percentile(salarios, 25)\n",
    "    dic_aux[cedula]['Q3'] =  np.percentile(salarios, 75)\n",
    "    dic_aux[cedula]['IQR'] = dic_aux[cedula]['Q3'] -  dic_aux[cedula]['Q1']\n",
    "    dic_aux[cedula]['LI'] =  dic_aux[cedula]['Q1'] -  1.5  * dic_aux[cedula]['IQR']\n",
    "    dic_aux[cedula]['LS'] =  dic_aux[cedula]['Q3'] +  1.5  * dic_aux[cedula]['IQR']\n",
    "\n",
    "data1 = { 'CEDULA_COD': [], 'LS': [] }\n",
    "\n",
    "for cedula, val in dic_aux.items():\n",
    "    data1['CEDULA_COD'].append(cedula)\n",
    "    data1['LS'].append( val['LS'] )\n",
    "\n",
    "LS = pd.DataFrame( data1 )\n",
    "LS = LS.groupby('CEDULA_COD')['LS'].first()\n",
    "data_l['LS4'] = data_l['CEDULA_COD'].map( LS )  \n",
    "\n",
    "fin = time.time()  \n",
    "print('\\tTiempo de ejecución es: ',  (fin-inicio)//3600, ' horas con ' ,  (fin-inicio)%3600//60 , ' minutos y', (fin-inicio)%60, ' segundos')\n",
    "\n",
    "del grupo3, grupo4, dic_aux, data1, Q1, Q3, IQR, LI, LS\n",
    "gc.collect()"
   ]
  },
  {
   "cell_type": "code",
   "execution_count": null,
   "id": "efd021ba",
   "metadata": {
    "ExecuteTime": {
     "end_time": "2024-07-29T21:13:43.452591Z",
     "start_time": "2024-07-29T21:13:42.320515Z"
    }
   },
   "outputs": [],
   "source": [
    "ml[ (ml['GRUPO_SEL']==1) & (ml['ATI_CJ_M1']==1) ]['CEDULA_COD'].unique()"
   ]
  },
  {
   "cell_type": "code",
   "execution_count": null,
   "id": "766ab806",
   "metadata": {
    "ExecuteTime": {
     "end_time": "2024-07-29T21:14:53.819673Z",
     "start_time": "2024-07-29T21:13:46.102691Z"
    }
   },
   "outputs": [],
   "source": [
    "data_l[ (data_l['GRUPO_SEL']==1) & (data_l['CEDULA_COD']==397)]"
   ]
  },
  {
   "cell_type": "code",
   "execution_count": null,
   "id": "c5234c9d",
   "metadata": {
    "ExecuteTime": {
     "end_time": "2024-07-29T21:47:21.104482Z",
     "start_time": "2024-07-29T21:47:21.104482Z"
    }
   },
   "outputs": [],
   "source": [
    "del ul, ml\n",
    "gc.collect()"
   ]
  },
  {
   "cell_type": "code",
   "execution_count": null,
   "id": "9d6c5b48",
   "metadata": {
    "ExecuteTime": {
     "end_time": "2024-07-29T21:17:47.901404Z",
     "start_time": "2024-07-29T21:17:30.842769Z"
    }
   },
   "outputs": [],
   "source": [
    "graf_ati(397, 1)"
   ]
  },
  {
   "cell_type": "code",
   "execution_count": null,
   "id": "9f03a34c",
   "metadata": {
    "ExecuteTime": {
     "end_time": "2024-07-29T21:19:28.730025Z",
     "start_time": "2024-07-29T21:17:52.237504Z"
    }
   },
   "outputs": [],
   "source": [
    "data_l['ATI_CJ_AS'] = 0\n",
    "grupo1 = None\n",
    "grupo1 = data_l[  data_l['CEDULA_COD'].isin( cedula_dist )].copy() #Es igual a ml pero se actualizan los valores\n",
    "\n",
    "inicio = time.time()   \n",
    "dic_sim = grupo1.groupby('CEDULA_COD').agg({'SALARIO_SECTOR': list, 'LS4': list,'INDICE': list}).to_dict(orient='index')\n",
    "\n",
    "for cedula in dic_sim:\n",
    "    dic_sim[cedula]['SALARIO_SECTOR'] = [[float(val) for val in sal.split(';')] if isinstance(sal, str) else [sal] \n",
    "                                          for sal in dic_sim[cedula]['SALARIO_SECTOR']]\n",
    "    dic_sim[cedula]['ATI_CJ_AS'] = [ 1 if any(sal > ls for sal in salarios) else 0 \n",
    "                                    for salarios, ls in zip( dic_sim[cedula]['SALARIO_SECTOR'], dic_sim[cedula]['LS4'])]\n",
    "\n",
    "fin = time.time()  \n",
    "print('\\tTiempo de ejecución es: ',  (fin-inicio)//3600, ' horas con ' ,  (fin-inicio)%3600//60 , ' minutos y', (fin-inicio)%60, ' segundos')\n",
    "\n",
    "del grupo1   \n",
    "gc.collect()"
   ]
  },
  {
   "cell_type": "code",
   "execution_count": null,
   "id": "70a1f76b",
   "metadata": {
    "ExecuteTime": {
     "end_time": "2024-07-29T21:19:52.133338Z",
     "start_time": "2024-07-29T21:19:34.845927Z"
    }
   },
   "outputs": [],
   "source": [
    "data1 = { 'CEDULA_COD': [], 'SALARIO_SECTOR': [], \n",
    "         'LS4' : [], 'ATI_CJ_AS':[],  'INDICE':[]}\n",
    "\n",
    "# Llenar las listas con los datos del diccionario\n",
    "for cedula, values in dic_sim.items():\n",
    "    salario = values['SALARIO_SECTOR']\n",
    "    ls = values[ 'LS4' ]\n",
    "    atipico = values[ 'ATI_CJ_AS' ]\n",
    "    indice = values['INDICE']\n",
    "    num_rows = len(salario)\n",
    "\n",
    "    # Extender las listas en el diccionario de datos\n",
    "    data1['CEDULA_COD'].extend([cedula] * num_rows)\n",
    "    data1['SALARIO_SECTOR'].extend(salario)\n",
    "    data1['LS4' ].extend(ls)\n",
    "    data1['ATI_CJ_AS' ].extend(atipico)\n",
    "    data1['INDICE'].extend(indice)\n",
    "    \n",
    "data1 = pd.DataFrame( data1 )\n",
    "data1.set_index('INDICE', inplace=True )\n",
    "data1"
   ]
  },
  {
   "cell_type": "code",
   "execution_count": null,
   "id": "7dbee2f6",
   "metadata": {
    "ExecuteTime": {
     "end_time": "2024-07-29T21:50:14.446197Z",
     "start_time": "2024-07-29T21:47:23.148917Z"
    }
   },
   "outputs": [],
   "source": [
    "inicio = time.time()   \n",
    "cedulas = list(dic_sim.keys())  #total de 111903\n",
    "filtro = data1[ data1['CEDULA_COD'].isin(cedulas )] # 111903 cedulas\n",
    "indi = filtro.index\n",
    "data_l.loc[ indi, 'ATI_CJ_AS'] = filtro['ATI_CJ_AS']\n",
    "\n",
    "fin = time.time()  \n",
    "print('\\tTiempo de ejecución es: ',  (fin-inicio)//3600, ' horas con ' ,  (fin-inicio)%3600//60 , ' minutos y', (fin-inicio)%60, ' segundos')"
   ]
  },
  {
   "cell_type": "code",
   "execution_count": null,
   "id": "0bbea1b6",
   "metadata": {},
   "outputs": [],
   "source": [
    "sal=[[float(val) for val in sal.split(';')] if isinstance(sal, str) else [sal] for sal in data_l[data_l['CEDULA_COD']==216]['SALARIO_SECTOR']]\n",
    "sala=[salario for sublist in sal for salario in sublist]\n",
    "LS = np.percentile(sala, 75) + 1.5 * (np.percentile(sala, 75)-np.percentile(sala, 25))\n",
    "LS"
   ]
  },
  {
   "cell_type": "code",
   "execution_count": null,
   "id": "7780ebd5",
   "metadata": {},
   "outputs": [],
   "source": [
    "data_l[data_l['CEDULA_COD']==216].head(60)"
   ]
  },
  {
   "cell_type": "code",
   "execution_count": null,
   "id": "663689be",
   "metadata": {},
   "outputs": [],
   "source": [
    "data1[data1['CEDULA_COD']==216].head(60)"
   ]
  },
  {
   "cell_type": "code",
   "execution_count": null,
   "id": "f80439ae",
   "metadata": {},
   "outputs": [],
   "source": [
    "ml = data_l[  data_l['CEDULA_COD'].isin( cedula_dist )].copy()\n",
    "print('*' * 50, 'Caso ', str( 1 ), '*' * 50)\n",
    "print('\\tCedulas que tienen más de un sector y que fue clasificado como atípico, que se modificaran a no atipico:',\n",
    "ml[ (ml['GRUPO_SEL']==1) & (ml['ATI_CJ_M1']==1) & ( ml['ATI_CJ_AS']==0)]['CEDULA_COD'].nunique()) #29408\n",
    "print('\\tCedulas que tienen más de un sector y que fue clasificado como  no atípico, que se modificaran a atipico',\n",
    "ml[ (ml['GRUPO_SEL']==1) & (ml['ATI_CJ_M1']==0) & ( ml['ATI_CJ_AS']==1)]['CEDULA_COD'].nunique()) #24171\n",
    "\n",
    "print('*' * 50, 'Caso ', str( 2 ), '*' * 50)\n",
    "print('\\tCedulas que tienen más de un sector y que fue clasificado como atípico, que se modificarann a no atipico:',\n",
    "ml[ (ml['GRUPO_SEL']==1) & (ml['ATI_CJ_M2']==1) & ( ml['ATI_CJ_AS']==0)]['CEDULA_COD'].nunique()) #26929\n",
    "print('\\tCedulas que tienen más de un sector y que fue clasificado como  no atípico, que se modificaran a atipico',\n",
    "ml[ (ml['GRUPO_SEL']==1) & (ml['ATI_CJ_M2']==0) & ( ml['ATI_CJ_AS']==1)]['CEDULA_COD'].nunique()) #24893\n",
    "\n",
    "print('*' * 50, 'Caso ', str( 3 ), '*' * 50)\n",
    "print('\\tCedulas que tienen más de un sector y que fue clasificado como atípico, que se modificarann a no atipico:',\n",
    "ml[ (ml['GRUPO_SEL']==1) & (ml['ATI_CJ_M3']==1) & ( ml['ATI_CJ_AS']==0)]['CEDULA_COD'].nunique()) #26933\n",
    "print('\\tCedulas que tienen más de un sector y que fue clasificado como  no atípico, que se modificaran a atipico',\n",
    "ml[ (ml['GRUPO_SEL']==1) & (ml['ATI_CJ_M3']==0) & ( ml['ATI_CJ_AS']==1)]['CEDULA_COD'].nunique()) #24893\n",
    "print('*' * 102)"
   ]
  },
  {
   "cell_type": "code",
   "execution_count": null,
   "id": "347db378",
   "metadata": {},
   "outputs": [],
   "source": [
    "#Cedulas que tiene varios sectores que se modificaran ( 1 -> 0 )\n",
    "ml[ (ml['GRUPO_SEL']==1) & (ml['ATI_CJ_M1']==1) & ( ml['ATI_CJ_AS']==0)]['CEDULA_COD'].unique() #29408"
   ]
  },
  {
   "cell_type": "code",
   "execution_count": null,
   "id": "7a02f3b4",
   "metadata": {},
   "outputs": [],
   "source": [
    "#Cedulas que tiene varios sectores que se modificaran ( 0 -> 1 )\n",
    "ml[ (ml['GRUPO_SEL']==1) & (ml['ATI_CJ_M1']==0) & ( ml['ATI_CJ_AS']==1)]['CEDULA_COD'].unique() #24171"
   ]
  },
  {
   "cell_type": "code",
   "execution_count": null,
   "id": "c9809ece",
   "metadata": {},
   "outputs": [],
   "source": [
    "ml[ (ml['GRUPO_SEL']==1) & (ml['CEDULA_COD']==1908)]"
   ]
  },
  {
   "cell_type": "code",
   "execution_count": null,
   "id": "6c17d548",
   "metadata": {},
   "outputs": [],
   "source": [
    "#Gráficas para cuando de 1->0 en aportes simultáneos\n",
    "graf_ati(1908, 1)"
   ]
  },
  {
   "cell_type": "code",
   "execution_count": null,
   "id": "404fb697",
   "metadata": {},
   "outputs": [],
   "source": [
    "#Gráficas para cuando de 0->1 en aportes simultáneos\n",
    "ml[ (ml['GRUPO_SEL']==1) & (ml['CEDULA_COD']==472)]"
   ]
  },
  {
   "cell_type": "code",
   "execution_count": null,
   "id": "25894444",
   "metadata": {},
   "outputs": [],
   "source": [
    "#Gráficas para cuando de 0 -> 1 en aportes simultáneos\n",
    "graf_ati(472, 1)"
   ]
  },
  {
   "cell_type": "code",
   "execution_count": null,
   "id": "cd4671c4",
   "metadata": {},
   "outputs": [],
   "source": [
    "cedula_dist "
   ]
  },
  {
   "cell_type": "code",
   "execution_count": null,
   "id": "b251a61c",
   "metadata": {},
   "outputs": [],
   "source": [
    "#Se hacen las correcciones\n",
    "#Caso 1\n",
    "data_l.loc[(data_l['CEDULA_COD'].isin(cedula_dist)) & \n",
    "           (data_l['GRUPO_SEL'] == 1) & (data_l['ATI_CJ_M1'] == 1) & (data_l['ATI_CJ_AS'] == 0), 'ATI_CJ_M1'] = data_l['ATI_CJ_AS']\n",
    "data_l.loc[(data_l['CEDULA_COD'].isin(cedula_dist)) & \n",
    "           (data_l['GRUPO_SEL'] == 1) & (data_l['ATI_CJ_M1'] == 0) & (data_l['ATI_CJ_AS'] == 1), 'ATI_CJ_M1'] = data_l['ATI_CJ_AS']\n",
    "\n",
    "#Caso 2\n",
    "data_l.loc[(data_l['CEDULA_COD'].isin(cedula_dist)) & \n",
    "           (data_l['GRUPO_SEL'] == 1) & (data_l['ATI_CJ_M2'] == 1) & (data_l['ATI_CJ_AS'] == 0), 'ATI_CJ_M1'] = data_l['ATI_CJ_AS']\n",
    "data_l.loc[(data_l['CEDULA_COD'].isin(cedula_dist)) & \n",
    "           (data_l['GRUPO_SEL'] == 1) & (data_l['ATI_CJ_M2'] == 0) & (data_l['ATI_CJ_AS'] == 1), 'ATI_CJ_M1'] = data_l['ATI_CJ_AS']\n",
    "\n",
    "#Caso 3\n",
    "data_l.loc[(data_l['CEDULA_COD'].isin(cedula_dist)) & \n",
    "           (data_l['GRUPO_SEL'] == 1) & (data_l['ATI_CJ_M3'] == 1) & (data_l['ATI_CJ_AS'] == 0), 'ATI_CJ_M1'] = data_l['ATI_CJ_AS']\n",
    "data_l.loc[(data_l['CEDULA_COD'].isin(cedula_dist)) & \n",
    "           (data_l['GRUPO_SEL'] == 1) & (data_l['ATI_CJ_M3'] == 0) & (data_l['ATI_CJ_AS'] == 1), 'ATI_CJ_M1'] = data_l['ATI_CJ_AS']\n"
   ]
  },
  {
   "cell_type": "code",
   "execution_count": null,
   "id": "df698e5a",
   "metadata": {},
   "outputs": [],
   "source": [
    "# data_l[ (data_l['GRUPO_SEL']==1) & (data_l['CEDULA_COD']==397)][['CEDULA_COD', 'ANIO', 'MES', 'SALARIO', 'SALARIO_SECTOR',\n",
    "#                                                                'SECTOR_A', 'NUM_SEC_MES', 'GRUPO_SEL', 'GRUPO', 'ATI_CJ_M1',\n",
    "#                                                                 'ATI_CJ_M2','ATI_CJ_M3','LS1','LS2','LS3','LS4','ATI_CJ_AS']]"
   ]
  },
  {
   "cell_type": "code",
   "execution_count": null,
   "id": "1e73fcfa",
   "metadata": {},
   "outputs": [],
   "source": [
    "del data1, dic_sim, filtro, indi, cedulas, ml\n",
    "gc.collect()"
   ]
  },
  {
   "cell_type": "code",
   "execution_count": null,
   "id": "81e6a1a5",
   "metadata": {},
   "outputs": [],
   "source": [
    "#Cedulas que tiene datos atípicos luego de la corrección---------------------------------------------------------------------\n",
    "print('*' * 50, 'Caso ', str( 1 ), '*' * 50)\n",
    "print('\\tCedulas con al menos un atípico con un único sector:',\n",
    "      data_l[ (data_l['GRUPO_SEL']==1) & (data_l['ATI_CJ_M1']==1) &(~data_l['CEDULA_COD'].isin(cedula_dist))]['CEDULA_COD'].nunique()) \n",
    "print('\\tCedulas con al menos un atípico con más de un único sector:',\n",
    "      data_l[ (data_l['GRUPO_SEL']==1) & (data_l['ATI_CJ_M1']==1) & (data_l['CEDULA_COD'].isin(cedula_dist))]['CEDULA_COD'].nunique())\n",
    "print('*' * 50, 'Caso ', str( 2 ), '*' * 50)\n",
    "print('\\tCedulas con al menos un atípico con un único sector:',\n",
    "      data_l[ (data_l['GRUPO_SEL']==1) & (data_l['ATI_CJ_M2']==1) &(~data_l['CEDULA_COD'].isin(cedula_dist))]['CEDULA_COD'].nunique()) \n",
    "print('\\tCedulas con al menos un atípico con más de un único sector:',\n",
    "      data_l[ (data_l['GRUPO_SEL']==1) & (data_l['ATI_CJ_M2']==1) &(data_l['CEDULA_COD'].isin(cedula_dist))]['CEDULA_COD'].nunique())\n",
    "print('*' * 50, 'Caso ', str( 3 ), '*' * 50)\n",
    "print('\\tCedulas con al menos un atípico con un único sector:',\n",
    "      data_l[ (data_l['GRUPO_SEL']==1) & (data_l['ATI_CJ_M3']==1) &(~data_l['CEDULA_COD'].isin(cedula_dist))]['CEDULA_COD'].nunique()) \n",
    "print('\\tCedulas con al menos un atípico con más de un único sector:',\n",
    "      data_l[ (data_l['GRUPO_SEL']==1) & (data_l['ATI_CJ_M3']==1) &(data_l['CEDULA_COD'].isin(cedula_dist))]['CEDULA_COD'].nunique())\n",
    "print('*' * 102)"
   ]
  },
  {
   "cell_type": "code",
   "execution_count": null,
   "id": "4b1bef6f",
   "metadata": {},
   "outputs": [],
   "source": [
    "ml = data_l[  data_l['CEDULA_COD'].isin( cedula_dist )]\n",
    "ul = data_l[ ~ data_l['CEDULA_COD'].isin( cedula_dist )]"
   ]
  },
  {
   "cell_type": "code",
   "execution_count": null,
   "id": "ac6b5fb5",
   "metadata": {},
   "outputs": [],
   "source": [
    "print(ul[ (ul['GRUPO_SEL']==1) & (ul['ATI_CJ_M1']==1)]['CEDULA_COD'].nunique())\n",
    "print(ml[ (ml['GRUPO_SEL']==1) & (ml['ATI_CJ_M1']==1)]['CEDULA_COD'].nunique())"
   ]
  },
  {
   "cell_type": "code",
   "execution_count": null,
   "id": "51d39378",
   "metadata": {},
   "outputs": [],
   "source": [
    "graf_ati(1908, 1)"
   ]
  },
  {
   "cell_type": "code",
   "execution_count": null,
   "id": "c37b7001",
   "metadata": {},
   "outputs": [],
   "source": [
    "graf_ati(472, 1)"
   ]
  },
  {
   "cell_type": "code",
   "execution_count": null,
   "id": "24ace0c7",
   "metadata": {},
   "outputs": [],
   "source": []
  },
  {
   "cell_type": "code",
   "execution_count": null,
   "id": "d0ea797c",
   "metadata": {},
   "outputs": [],
   "source": []
  },
  {
   "cell_type": "code",
   "execution_count": null,
   "id": "81333006",
   "metadata": {},
   "outputs": [],
   "source": [
    "#K-MEANS"
   ]
  }
 ],
 "metadata": {
  "kernelspec": {
   "display_name": "Python 3 (ipykernel)",
   "language": "python",
   "name": "python3"
  },
  "language_info": {
   "codemirror_mode": {
    "name": "ipython",
    "version": 3
   },
   "file_extension": ".py",
   "mimetype": "text/x-python",
   "name": "python",
   "nbconvert_exporter": "python",
   "pygments_lexer": "ipython3",
   "version": "3.9.13"
  },
  "toc": {
   "base_numbering": 1,
   "nav_menu": {},
   "number_sections": true,
   "sideBar": true,
   "skip_h1_title": false,
   "title_cell": "Table of Contents",
   "title_sidebar": "Contents",
   "toc_cell": false,
   "toc_position": {},
   "toc_section_display": true,
   "toc_window_display": false
  }
 },
 "nbformat": 4,
 "nbformat_minor": 5
}

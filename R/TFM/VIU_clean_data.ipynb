{
 "cells": [
  {
   "cell_type": "code",
   "execution_count": 3,
   "id": "305b533b",
   "metadata": {},
   "outputs": [],
   "source": [
    "#Importación de librearías necesarias\n",
    "import pandas as pd\n",
    "from datetime import datetime\n",
    "import socket\n",
    "import numpy as np\n",
    "import time"
   ]
  },
  {
   "cell_type": "code",
   "execution_count": 4,
   "id": "3ad7f70c",
   "metadata": {},
   "outputs": [],
   "source": [
    "#Path general de archivos\n",
    "if socket.gethostname()=='LAPTOP-PUSGG08B': #Ip de la laptop\n",
    "    ruta = \"E:/Cristian Guatemal/Master/Big Data y Ciencia de Datos/VIU_TFM/Data/TFM/\"\n",
    "elif socket.gethostname()=='PCUIOMTDAIE6382': #Ip del working\n",
    "    ruta = \"C:/Users/cristian.guatemal/Documents/Master/Big_Data_Ciencia_Datos/VIU_TFM/Data/TFM/\"\n",
    "# Ruta del archivo de pensionistas de vejez\n",
    "ruta_vj = ruta + 'POB_VEJ_CD656_NEW.dsv'\n",
    "# Ruta del archivo de historia laboral de pensionistas\n",
    "ruta_afi = ruta + 'APORTES_CD656_new.dsv'"
   ]
  },
  {
   "cell_type": "code",
   "execution_count": 5,
   "id": "28dfb4e5",
   "metadata": {},
   "outputs": [
    {
     "name": "stdout",
     "output_type": "stream",
     "text": [
      "Tiempo de ejecución es:  0.0  horas con  1.0  minutos y 46.28170609474182  segundos\n"
     ]
    }
   ],
   "source": [
    "#Importación de archivos de afiliados\n",
    "inicio = time.time()\n",
    "afi = pd.read_csv( ruta_afi, delimiter='\\t', encoding='iso-8859-1', decimal='.')\n",
    "fin = time.time()  \n",
    "print('Tiempo de ejecución es: ',  (fin-inicio)//3600, ' horas con ' ,  (fin-inicio)%3600//60 , ' minutos y', \n",
    "        (fin-inicio)%60, ' segundos' )"
   ]
  },
  {
   "cell_type": "code",
   "execution_count": 15,
   "id": "c19aaa90",
   "metadata": {},
   "outputs": [
    {
     "name": "stdout",
     "output_type": "stream",
     "text": [
      "Tiempo de ejecución es:  0.0  horas con  0.0  minutos y 17.424728393554688  segundos\n"
     ]
    }
   ],
   "source": [
    "#Agrupamiento por relación de trabajo\n",
    "inicio = time.time()\n",
    "conditions = [ (afi['SECTOR'].isin(['PRIVADO', 'PASANTE PRIVADO'])), \n",
    "               (afi['SECTOR'].isin(['PUBLICO', 'PASANTE PUBLICO'])), \n",
    "               (afi['SECTOR'].isin(['INDEPENDIENTES', '108-ARTISTA Y GESTOR DE CULTURA', \n",
    "                                     '02-TRABAJ. AUT Y SIN RELAC DEPEN DESDE  2011-12 SOLO AF.VOLUNT  '])),\n",
    "               (afi['SECTOR'].isin(['69-VOLUNTARIO ECUATORIANO DOMICILIADO EN EL EXTERIOR ',\n",
    "                                    '89-AFILIACION DOMICILIADO EN EL EXTERIOR'])),\n",
    "               (afi['SECTOR'] == '90-AFILIACION DOMICILIADO EN EL PAIS / SIN RELACION DEPENDENCIA'),\n",
    "               (afi['SECTOR'] == '06-CODIGO DEL TRABAJO - CT ')\n",
    "            ]\n",
    "            \n",
    "choices = ['PRI', 'PUB', 'IND', 'VOL_EX', 'VOL_EC', 'COD_TR']\n",
    "\n",
    "afi['SECTOR_A'] = np.select(conditions, choices, default=afi['SECTOR'])\n",
    "fin = time.time()  \n",
    "print('Tiempo de ejecución es: ',  (fin-inicio)//3600, ' horas con ' ,  (fin-inicio)%3600//60 , ' minutos y', \n",
    "        (fin-inicio)%60, ' segundos' )"
   ]
  },
  {
   "cell_type": "code",
   "execution_count": 8,
   "id": "8a62a1f0",
   "metadata": {},
   "outputs": [
    {
     "data": {
      "text/plain": [
       "array(['PRIVADO', 'PUBLICO',\n",
       "       '02-TRABAJ. AUT Y SIN RELAC DEPEN DESDE  2011-12 SOLO AF.VOLUNT  ',\n",
       "       'INDEPENDIENTES',\n",
       "       '69-VOLUNTARIO ECUATORIANO DOMICILIADO EN EL EXTERIOR ',\n",
       "       'PASANTE PRIVADO',\n",
       "       '90-AFILIACION DOMICILIADO EN EL PAIS / SIN RELACION DEPENDENCIA',\n",
       "       '89-AFILIACION DOMICILIADO EN EL EXTERIOR', 'PASANTE PUBLICO',\n",
       "       '108-ARTISTA Y GESTOR DE CULTURA', '06-CODIGO DEL TRABAJO - CT '],\n",
       "      dtype=object)"
      ]
     },
     "execution_count": 8,
     "metadata": {},
     "output_type": "execute_result"
    }
   ],
   "source": [
    "afi['SECTOR'].unique()"
   ]
  },
  {
   "cell_type": "code",
   "execution_count": 16,
   "id": "b9d7fce7",
   "metadata": {},
   "outputs": [
    {
     "data": {
      "text/plain": [
       "array(['PRI', 'PUB', 'IND', 'VOL_EX', 'VOL_EC', 'COD_TR'], dtype=object)"
      ]
     },
     "execution_count": 16,
     "metadata": {},
     "output_type": "execute_result"
    }
   ],
   "source": [
    "afi['SECTOR_A'].unique()"
   ]
  },
  {
   "cell_type": "code",
   "execution_count": null,
   "id": "a03a3ae9",
   "metadata": {},
   "outputs": [],
   "source": [
    "afi.shape"
   ]
  },
  {
   "cell_type": "code",
   "execution_count": null,
   "id": "04746277",
   "metadata": {},
   "outputs": [],
   "source": [
    "#Para acceder a las prestaciones de IVM debe tener al menos 5 años de aporte o 60 imposiciones\n",
    "ced_counts = afi['CEDULA_COD'].value_counts()"
   ]
  },
  {
   "cell_type": "code",
   "execution_count": null,
   "id": "dbad0c44",
   "metadata": {},
   "outputs": [],
   "source": [
    "# numero de cedulas que tienen menos de 60 imposiciones\n",
    "ced_counts[ced_counts < 60].index.nunique()"
   ]
  },
  {
   "cell_type": "code",
   "execution_count": null,
   "id": "6165f941",
   "metadata": {},
   "outputs": [],
   "source": [
    "#Se filtran a las cedulas con menos de 60 imposicones \n",
    "inicio = time.time()\n",
    "afi_fil = afi[~afi['CEDULA_COD'].isin(ced_counts[ced_counts < 60].index)].copy()\n",
    "fin = time.time()  \n",
    "print('Tiempo de ejecución es: ',  (fin-inicio)//3600, ' horas con ' ,  (fin-inicio)%3600//60 , ' minutos y', (fin-inicio)%60, ' segundos' )\n",
    "\n",
    "#Se crea una variable fecha\n",
    "inicio = time.time()\n",
    "afi_fil.loc[:, 'FECHA'] = pd.to_datetime(afi_fil['ANIO'].astype(str) + '-' + afi_fil['MES'].astype(str).str.zfill(2) + '-01')\n",
    "fin = time.time()  \n",
    "print('Tiempo de ejecución es: ',  (fin-inicio)//3600, ' horas con ' ,  (fin-inicio)%3600//60 , ' minutos y', (fin-inicio)%60, ' segundos' )\n",
    "\n",
    "#Se ordenan los registros\n",
    "inicio = time.time()\n",
    "afi_fil = afi_fil.sort_values( by=[\"CEDULA_COD\",\"ANIO\", \"MES\"], ascending=[True, True, True] )\n",
    "afi_fil.loc[:, 'FECHA'] = pd.to_datetime(afi_fil['ANIO'].astype(str) + '-' + afi_fil['MES'].astype(str).str.zfill(2) + '-01')\n",
    "fin = time.time()  \n",
    "print('Tiempo de ejecución es: ',  (fin-inicio)//3600, ' horas con ' ,  (fin-inicio)%3600//60 , ' minutos y', (fin-inicio)%60, ' segundos' )\n",
    "afi_fil.shape"
   ]
  },
  {
   "cell_type": "code",
   "execution_count": null,
   "id": "d3968aa2",
   "metadata": {},
   "outputs": [],
   "source": [
    "del afi\n",
    "del ced_counts\n",
    "afi_fil"
   ]
  },
  {
   "cell_type": "code",
   "execution_count": null,
   "id": "3903704c",
   "metadata": {},
   "outputs": [],
   "source": [
    "#Se seleccionan las características de la población para los año y mes de aportación\n",
    "afi_sel = afi_fil[['CEDULA_COD', 'ANIO', 'MES', 'FECHA','SALARIO', 'SECTOR_A']].copy()\n",
    "del afi_fil"
   ]
  },
  {
   "cell_type": "code",
   "execution_count": null,
   "id": "adcadef1",
   "metadata": {},
   "outputs": [],
   "source": [
    "#Inicio de la HL\n",
    "caract = afi_sel.groupby('CEDULA_COD')['FECHA'].min().reset_index() \n",
    "caract.rename( columns={'FECHA': 'INI_HL'}, inplace=True)\n",
    "#Fin de la HL\n",
    "caract['FIN_HL'] = caract['CEDULA_COD'].map( afi_sel.groupby('CEDULA_COD')['FECHA'].max() )\n",
    "#Meses trabajados\n",
    "caract['MES_T'] = caract['CEDULA_COD'].map( afi_sel['CEDULA_COD'].value_counts() )"
   ]
  },
  {
   "cell_type": "code",
   "execution_count": null,
   "id": "5d78279e",
   "metadata": {},
   "outputs": [],
   "source": [
    "caract"
   ]
  },
  {
   "cell_type": "code",
   "execution_count": null,
   "id": "bd0c7ea9",
   "metadata": {},
   "outputs": [],
   "source": [
    "afi_sel =  afi_sel.sort_values( by=[\"CEDULA_COD\",\"ANIO\", \"MES\"], ascending=[True, False, False] )\n",
    "afi_sel['NUM_SEC_MES'] = 1\n",
    "afi_sel['%_NUM_SECTOR'] = afi_sel['SALARIO']"
   ]
  },
  {
   "cell_type": "code",
   "execution_count": null,
   "id": "508c16c5",
   "metadata": {},
   "outputs": [],
   "source": [
    "afi_sel"
   ]
  },
  {
   "cell_type": "code",
   "execution_count": null,
   "id": "413f07c9",
   "metadata": {},
   "outputs": [],
   "source": [
    "#Se debe analizar a las personas que tienen varios aportes en un mismo mes\n",
    "#Se suman los salarios y se concatenan los sectores para la cedula que en el mismo anio y mes tiene dos sectores\n",
    "inicio = time.time()\n",
    "afi_sel_g = afi_sel.groupby(['CEDULA_COD', 'ANIO', 'MES', 'SECTOR_A']).agg({'SALARIO': 'sum',\n",
    "                                                                            'SECTOR_A': lambda x: ';'.join(x),\n",
    "                                                                            'NUM_SEC_MES': lambda x: len(x),\n",
    "                                                                            '%_NUM_SECTOR': lambda x:  ';'.join((x / x.sum()).round(4).astype(str))\n",
    "                                                                           }).reset_index()\n",
    "#afi_sel_g['NUM_SEC_MES'] = afi_sel.groupby(['CEDULA_COD', 'ANIO', 'MES'])['SECTOR'].nunique().values\n",
    "fin = time.time()  \n",
    "print('Tiempo de ejecución es: ',  (fin-inicio)//3600, ' horas con ' ,  (fin-inicio)%3600//60 , ' minutos y', (fin-inicio)%60, ' segundos' )\n"
   ]
  },
  {
   "cell_type": "code",
   "execution_count": null,
   "id": "f7258731",
   "metadata": {},
   "outputs": [],
   "source": []
  },
  {
   "cell_type": "code",
   "execution_count": null,
   "id": "666ab864",
   "metadata": {},
   "outputs": [],
   "source": [
    "afi_sel_g[afi_sel_g['NUM_SEC_MES']>1]"
   ]
  },
  {
   "cell_type": "code",
   "execution_count": null,
   "id": "12ce8372",
   "metadata": {},
   "outputs": [],
   "source": [
    "afi_sel.groupby(['CEDULA_COD', 'ANIO', 'MES'])['SECTOR'].nunique().values"
   ]
  },
  {
   "cell_type": "code",
   "execution_count": null,
   "id": "dae86cbe",
   "metadata": {},
   "outputs": [],
   "source": [
    "#Se crea la variable que cuenta el número de sectores para cada anio y mes\n",
    "inicio = time.time()\n",
    "afi_sel_g['NUM_SEC_MES'] = afi_sel.groupby(['CEDULA_COD', 'ANIO', 'MES'])['SECTOR'].nunique().values\n",
    "fin = time.time()  \n",
    "print('Tiempo de ejecución es: ',  (fin-inicio)//3600, ' horas con ' ,  (fin-inicio)%3600//60 , ' minutos y', (fin-inicio)%60, ' segundos' )\n"
   ]
  },
  {
   "cell_type": "code",
   "execution_count": null,
   "id": "8b70a78c",
   "metadata": {},
   "outputs": [],
   "source": [
    "inicio = time.time()\n",
    "#Se suma por cedula, anio, mes y sector\n",
    "temp_df = afi_sel.groupby(['CEDULA_COD', 'ANIO', 'MES', 'SECTOR']).agg({'SALARIO': 'sum'}).reset_index()\n",
    "sum_df = temp_df.groupby(['CEDULA_COD', 'ANIO', 'MES'])['SALARIO'].sum().reset_index()\n",
    "sum_df.rename(columns={'SAL': 'TOTAL_SAL'}, inplace=True)\n",
    "temp_df = temp_df.merge( sum_df, on=['CEDULA_COD', 'ANIO', 'MES'])\n",
    "fin = time.time()  \n",
    "print('Tiempo de ejecución es: ',  (fin-inicio)//3600, ' horas con ' ,  (fin-inicio)%3600//60 , ' minutos y', (fin-inicio)%60, ' segundos' )"
   ]
  },
  {
   "cell_type": "code",
   "execution_count": null,
   "id": "95ee4455",
   "metadata": {},
   "outputs": [],
   "source": [
    "sum_df = temp_df.groupby(['CEDULA_COD', 'ANIO', 'MES'])['SALARIO'].sum().reset_index()"
   ]
  },
  {
   "cell_type": "code",
   "execution_count": null,
   "id": "008c9c2a",
   "metadata": {},
   "outputs": [],
   "source": [
    "temp_df"
   ]
  },
  {
   "cell_type": "code",
   "execution_count": null,
   "id": "84b87cfc",
   "metadata": {},
   "outputs": [],
   "source": [
    "sum_df"
   ]
  },
  {
   "cell_type": "code",
   "execution_count": null,
   "id": "543f7f41",
   "metadata": {},
   "outputs": [],
   "source": [
    "inicio = time.time()\n",
    "#Se calcula el ´porcentaje del sueldo en cada sector\n",
    "temp_df['PERC'] = temp_df.groupby(['CEDULA_COD', 'ANIO', 'MES'])['SALARIO'].transform(lambda x: (x / x.sum()).round(4).astype(str))\n",
    "\n",
    "# #Se concatenan los porcentajes de sueldo de cada sector\n",
    "# perc_concat = temp_df.groupby(['CEDULA_COD', 'ANIO', 'MES'])['PERC'].apply(lambda x: ';'.join(x)).reset_index()\n",
    "\n",
    "# #Se cambia de nombre a la variable\n",
    "# perc_concat.rename(columns={'PERC': '%_NUM_SECTOR'}, inplace=True)\n",
    "\n",
    "fin = time.time()  \n",
    "print('Tiempo de ejecución es: ',  (fin-inicio)//3600, ' horas con ' ,  (fin-inicio)%3600//60 , ' minutos y', (fin-inicio)%60, ' segundos' )"
   ]
  },
  {
   "cell_type": "code",
   "execution_count": null,
   "id": "3f1ceea5",
   "metadata": {},
   "outputs": [],
   "source": []
  },
  {
   "cell_type": "code",
   "execution_count": null,
   "id": "64ff6e4b",
   "metadata": {},
   "outputs": [],
   "source": [
    "afi_sel[afi_sel['CEDULA_COD']==216].head(60)"
   ]
  },
  {
   "cell_type": "code",
   "execution_count": null,
   "id": "87616db7",
   "metadata": {},
   "outputs": [],
   "source": [
    "#se crean los grupos de 12 meses trabajados para tener\n",
    "n_grupo = 12\n",
    "afi_sel['GRUPO'] = (afi_sel.groupby('CEDULA_COD').cumcount() // n_grupo ) + 1\n",
    "#Se saca el salario promedio de cada grupo\n",
    "afi_sel['SAL_PROM_GRUPO'] = afi_sel.groupby(['CEDULA_COD', 'GRUPO'])['SALARIO'].transform('mean')\n"
   ]
  },
  {
   "cell_type": "code",
   "execution_count": null,
   "id": "edc13f78",
   "metadata": {},
   "outputs": [],
   "source": [
    "afi_sel[afi_sel['CEDULA_COD']==126].head(60)"
   ]
  },
  {
   "cell_type": "code",
   "execution_count": null,
   "id": "2ede2e6c",
   "metadata": {},
   "outputs": [],
   "source": [
    "afi_sel.groupby(['CEDULA_COD', 'GRUPO'])['SAL_PROM_GRUPO'].unique()\n",
    "#     df1 = df1.reset_index()\n",
    "#     df1['SAL_PROM_GRUPO'] = df1['SAL_PROM_GRUPO'].apply(lambda x: x[0])\n",
    "#     df1 = df1.sort_values(by = ['CEDULA_COD','SAL_PROM_GRUPO'], ascending=[True,False])"
   ]
  },
  {
   "cell_type": "code",
   "execution_count": null,
   "id": "ca9b660f",
   "metadata": {},
   "outputs": [],
   "source": [
    "afi_sel.groupby('CEDULA_COD')['FECHA'].min()\n",
    "#grupo['ANIO_MIN'] = grupo['CEDULA_COD'].map( grupo.groupby('CEDULA_COD')['ANIO'].min() )\n",
    "#    grupo['MES_MIN']  = grupo['CEDULA_COD'].map(grupo[ grupo['ANIO']==grupo['ANIO_MIN']].groupby('CEDULA_COD')['MES'].min())"
   ]
  }
 ],
 "metadata": {
  "kernelspec": {
   "display_name": "Python 3 (ipykernel)",
   "language": "python",
   "name": "python3"
  },
  "language_info": {
   "codemirror_mode": {
    "name": "ipython",
    "version": 3
   },
   "file_extension": ".py",
   "mimetype": "text/x-python",
   "name": "python",
   "nbconvert_exporter": "python",
   "pygments_lexer": "ipython3",
   "version": "3.9.13"
  }
 },
 "nbformat": 4,
 "nbformat_minor": 5
}

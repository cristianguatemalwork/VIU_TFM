{
 "cells": [
  {
   "cell_type": "code",
   "execution_count": 36,
   "id": "fb12dac7",
   "metadata": {
    "ExecuteTime": {
     "end_time": "2024-07-30T21:39:27.641316Z",
     "start_time": "2024-07-30T21:38:58.698959Z"
    }
   },
   "outputs": [
    {
     "name": "stdout",
     "output_type": "stream",
     "text": [
      "Defaulting to user installation because normal site-packages is not writeable\n",
      "Requirement already satisfied: kneed in c:\\users\\cristian.guatemal\\appdata\\roaming\\python\\python311\\site-packages (0.8.5)\n",
      "Requirement already satisfied: numpy>=1.14.2 in c:\\programdata\\anaconda3\\lib\\site-packages (from kneed) (1.24.3)\n",
      "Requirement already satisfied: scipy>=1.0.0 in c:\\programdata\\anaconda3\\lib\\site-packages (from kneed) (1.10.1)\n"
     ]
    }
   ],
   "source": [
    "#Importación de librearías necesarias\n",
    "import pandas as pd\n",
    "from datetime import datetime\n",
    "import socket\n",
    "import numpy as np\n",
    "import math\n",
    "import time\n",
    "import pickle  #Para guardar archivos\n",
    "import os\n",
    "os.environ['OMP_NUM_THREADS'] = '1'\n",
    "\n",
    "from pympler import asizeof #Para liberar memoria\n",
    "import gc\n",
    "\n",
    "import matplotlib.pyplot as plt\n",
    "from matplotlib.colors import ListedColormap, to_rgb\n",
    "\n",
    "from sklearn import metrics\n",
    "from sklearn.cluster import KMeans\n",
    "!pip install kneed\n",
    "import kneed\n",
    "\n",
    "semilla = 8"
   ]
  },
  {
   "cell_type": "code",
   "execution_count": 39,
   "id": "ef1e30fb",
   "metadata": {
    "ExecuteTime": {
     "end_time": "2024-07-30T21:41:38.077634Z",
     "start_time": "2024-07-30T21:41:38.069755Z"
    }
   },
   "outputs": [],
   "source": []
  },
  {
   "cell_type": "code",
   "execution_count": 2,
   "id": "db7a9f6f",
   "metadata": {
    "ExecuteTime": {
     "end_time": "2024-07-30T21:00:36.670195Z",
     "start_time": "2024-07-30T21:00:36.664934Z"
    }
   },
   "outputs": [],
   "source": [
    "#Path general de archivos\n",
    "if socket.gethostname()=='LAPTOP-PUSGG08B': #Ip de la laptop\n",
    "    ruta = \"E:/Cristian Guatemal/Master/Big Data y Ciencia de Datos/VIU_TFM/Data/TFM/\"\n",
    "    r_ruta = \"E:/Cristian Guatemal/Master/Big Data y Ciencia de Datos/VIU_TFM/RData/TFM/\"\n",
    "elif socket.gethostname()=='PCUIOMTDAIE6382': #Ip del working\n",
    "    ruta =   \"D:/Master/Big_Data_Ciencia_Datos/VIU_TFM/Data/TFM/\"\n",
    "    r_ruta = \"D:/Master/Big_Data_Ciencia_Datos/VIU_TFM/RData/TFM/\"\n",
    "# Ruta del archivo de pensionistas de vejez\n",
    "ruta_vj = ruta + 'POB_VEJ_CD656_NEW.dsv'\n",
    "# Ruta del archivo de historia laboral de pensionistas\n",
    "ruta_afi = ruta + 'APORTES_CD656_new.dsv'"
   ]
  },
  {
   "cell_type": "code",
   "execution_count": 3,
   "id": "5e15e93b",
   "metadata": {
    "ExecuteTime": {
     "end_time": "2024-07-30T21:05:19.115416Z",
     "start_time": "2024-07-30T21:00:37.854853Z"
    }
   },
   "outputs": [],
   "source": [
    "# Cargar archivo------------------------------------------------------------------------------------------------------------\n",
    "directorio = r_ruta\n",
    "nombre_archivo = 'viu_clean_afi_sel_g_all_2.pkl'\n",
    "ruta_archivo = os.path.join(directorio, nombre_archivo)\n",
    "\n",
    "with open( ruta_archivo, 'rb') as archivo:\n",
    "    data_l = pickle.load( archivo )     "
   ]
  },
  {
   "cell_type": "code",
   "execution_count": 4,
   "id": "6a9249e2",
   "metadata": {
    "ExecuteTime": {
     "end_time": "2024-07-30T21:05:19.126697Z",
     "start_time": "2024-07-30T21:05:19.118421Z"
    }
   },
   "outputs": [
    {
     "data": {
      "text/plain": [
       "(62130167, 16)"
      ]
     },
     "execution_count": 4,
     "metadata": {},
     "output_type": "execute_result"
    }
   ],
   "source": [
    "data_l.shape #(62130167, 16)"
   ]
  },
  {
   "cell_type": "code",
   "execution_count": 5,
   "id": "217c4de9",
   "metadata": {
    "ExecuteTime": {
     "end_time": "2024-07-30T21:06:23.391490Z",
     "start_time": "2024-07-30T21:05:19.129696Z"
    }
   },
   "outputs": [
    {
     "name": "stdout",
     "output_type": "stream",
     "text": [
      "Tiempo de ejecución es:  0.0  horas con  1.0  minutos y 4.1457343101501465  segundos\n"
     ]
    }
   ],
   "source": [
    "inicio = time.time()\n",
    "data_l = data_l.sort_values( by=[\"CEDULA_COD\",\"ANIO\", \"MES\"], ascending=[ True, True, True] )\n",
    "data_l.reset_index(inplace=True)\n",
    "data_l.rename(columns={'index': 'nuevo_indice'}, inplace=True)\n",
    "data_l.drop(columns=['nuevo_indice'], inplace=True)\n",
    "data_l['INDICE'] = data_l.index\n",
    "\n",
    "#Casos de no análisis\n",
    "data_no_grupo = data_l[ (data_l['GRUPO_SEL']==0) ].copy()\n",
    "data_no_grupo['ATI_CJ_M1'] = np.nan\n",
    "data_no_grupo['ATI_CJ_M2'] = np.nan\n",
    "data_no_grupo['ATI_CJ_M3'] = np.nan\n",
    "\n",
    "#Casos de análisis\n",
    "data = data_l[ (data_l['GRUPO_SEL']==1) ].copy()\n",
    "\n",
    "fin = time.time()  \n",
    "print('Tiempo de ejecución es: ',  (fin-inicio)//3600, ' horas con ' ,  (fin-inicio)%3600//60 , ' minutos y', (fin-inicio)%60, ' segundos' )"
   ]
  },
  {
   "cell_type": "code",
   "execution_count": 7,
   "id": "26e91003",
   "metadata": {
    "ExecuteTime": {
     "end_time": "2024-07-30T21:27:42.937467Z",
     "start_time": "2024-07-30T21:27:42.915908Z"
    }
   },
   "outputs": [
    {
     "data": {
      "text/html": [
       "<div>\n",
       "<style scoped>\n",
       "    .dataframe tbody tr th:only-of-type {\n",
       "        vertical-align: middle;\n",
       "    }\n",
       "\n",
       "    .dataframe tbody tr th {\n",
       "        vertical-align: top;\n",
       "    }\n",
       "\n",
       "    .dataframe thead th {\n",
       "        text-align: right;\n",
       "    }\n",
       "</style>\n",
       "<table border=\"1\" class=\"dataframe\">\n",
       "  <thead>\n",
       "    <tr style=\"text-align: right;\">\n",
       "      <th></th>\n",
       "      <th>CEDULA_COD</th>\n",
       "      <th>ANIO</th>\n",
       "      <th>MES</th>\n",
       "      <th>SALARIO</th>\n",
       "      <th>SALARIO_SECTOR</th>\n",
       "      <th>SECTOR_A</th>\n",
       "      <th>NUM_SEC_MES</th>\n",
       "      <th>%_NUM_SECTOR</th>\n",
       "      <th>GRUPO</th>\n",
       "      <th>SAL_PROM_GRUPO</th>\n",
       "      <th>GRUPO_SEL</th>\n",
       "      <th>INI_CAL</th>\n",
       "      <th>FIN_CAL</th>\n",
       "      <th>BASE_CAL</th>\n",
       "      <th>SBU</th>\n",
       "      <th>ID_SBU</th>\n",
       "      <th>INDICE</th>\n",
       "    </tr>\n",
       "  </thead>\n",
       "  <tbody>\n",
       "    <tr>\n",
       "      <th>13</th>\n",
       "      <td>126</td>\n",
       "      <td>2006</td>\n",
       "      <td>1</td>\n",
       "      <td>161.67</td>\n",
       "      <td>161.67</td>\n",
       "      <td>PRI</td>\n",
       "      <td>1</td>\n",
       "      <td>1</td>\n",
       "      <td>5</td>\n",
       "      <td>161.670000</td>\n",
       "      <td>1</td>\n",
       "      <td>2010-12-01</td>\n",
       "      <td>2006-01-01</td>\n",
       "      <td>210.635</td>\n",
       "      <td>160.0</td>\n",
       "      <td>-1</td>\n",
       "      <td>13</td>\n",
       "    </tr>\n",
       "    <tr>\n",
       "      <th>14</th>\n",
       "      <td>126</td>\n",
       "      <td>2006</td>\n",
       "      <td>2</td>\n",
       "      <td>161.67</td>\n",
       "      <td>161.67</td>\n",
       "      <td>PRI</td>\n",
       "      <td>1</td>\n",
       "      <td>1</td>\n",
       "      <td>5</td>\n",
       "      <td>161.670000</td>\n",
       "      <td>1</td>\n",
       "      <td>2010-12-01</td>\n",
       "      <td>2006-01-01</td>\n",
       "      <td>210.635</td>\n",
       "      <td>160.0</td>\n",
       "      <td>-1</td>\n",
       "      <td>14</td>\n",
       "    </tr>\n",
       "    <tr>\n",
       "      <th>15</th>\n",
       "      <td>126</td>\n",
       "      <td>2006</td>\n",
       "      <td>3</td>\n",
       "      <td>161.67</td>\n",
       "      <td>161.67</td>\n",
       "      <td>PRI</td>\n",
       "      <td>1</td>\n",
       "      <td>1</td>\n",
       "      <td>5</td>\n",
       "      <td>161.670000</td>\n",
       "      <td>1</td>\n",
       "      <td>2010-12-01</td>\n",
       "      <td>2006-01-01</td>\n",
       "      <td>210.635</td>\n",
       "      <td>160.0</td>\n",
       "      <td>-1</td>\n",
       "      <td>15</td>\n",
       "    </tr>\n",
       "    <tr>\n",
       "      <th>16</th>\n",
       "      <td>126</td>\n",
       "      <td>2006</td>\n",
       "      <td>4</td>\n",
       "      <td>161.67</td>\n",
       "      <td>161.67</td>\n",
       "      <td>PRI</td>\n",
       "      <td>1</td>\n",
       "      <td>1</td>\n",
       "      <td>5</td>\n",
       "      <td>161.670000</td>\n",
       "      <td>1</td>\n",
       "      <td>2010-12-01</td>\n",
       "      <td>2006-01-01</td>\n",
       "      <td>210.635</td>\n",
       "      <td>160.0</td>\n",
       "      <td>-1</td>\n",
       "      <td>16</td>\n",
       "    </tr>\n",
       "    <tr>\n",
       "      <th>17</th>\n",
       "      <td>126</td>\n",
       "      <td>2006</td>\n",
       "      <td>5</td>\n",
       "      <td>161.67</td>\n",
       "      <td>161.67</td>\n",
       "      <td>PRI</td>\n",
       "      <td>1</td>\n",
       "      <td>1</td>\n",
       "      <td>5</td>\n",
       "      <td>161.670000</td>\n",
       "      <td>1</td>\n",
       "      <td>2010-12-01</td>\n",
       "      <td>2006-01-01</td>\n",
       "      <td>210.635</td>\n",
       "      <td>160.0</td>\n",
       "      <td>-1</td>\n",
       "      <td>17</td>\n",
       "    </tr>\n",
       "    <tr>\n",
       "      <th>...</th>\n",
       "      <td>...</td>\n",
       "      <td>...</td>\n",
       "      <td>...</td>\n",
       "      <td>...</td>\n",
       "      <td>...</td>\n",
       "      <td>...</td>\n",
       "      <td>...</td>\n",
       "      <td>...</td>\n",
       "      <td>...</td>\n",
       "      <td>...</td>\n",
       "      <td>...</td>\n",
       "      <td>...</td>\n",
       "      <td>...</td>\n",
       "      <td>...</td>\n",
       "      <td>...</td>\n",
       "      <td>...</td>\n",
       "      <td>...</td>\n",
       "    </tr>\n",
       "    <tr>\n",
       "      <th>62130162</th>\n",
       "      <td>23594465</td>\n",
       "      <td>2017</td>\n",
       "      <td>11</td>\n",
       "      <td>14045.72</td>\n",
       "      <td>14045.72</td>\n",
       "      <td>PRI</td>\n",
       "      <td>1</td>\n",
       "      <td>1</td>\n",
       "      <td>1</td>\n",
       "      <td>16205.699167</td>\n",
       "      <td>1</td>\n",
       "      <td>2018-03-01</td>\n",
       "      <td>2013-04-01</td>\n",
       "      <td>16604.299</td>\n",
       "      <td>375.0</td>\n",
       "      <td>-1</td>\n",
       "      <td>62130162</td>\n",
       "    </tr>\n",
       "    <tr>\n",
       "      <th>62130163</th>\n",
       "      <td>23594465</td>\n",
       "      <td>2017</td>\n",
       "      <td>12</td>\n",
       "      <td>14164.25</td>\n",
       "      <td>14164.25</td>\n",
       "      <td>PRI</td>\n",
       "      <td>1</td>\n",
       "      <td>1</td>\n",
       "      <td>1</td>\n",
       "      <td>16205.699167</td>\n",
       "      <td>1</td>\n",
       "      <td>2018-03-01</td>\n",
       "      <td>2013-04-01</td>\n",
       "      <td>16604.299</td>\n",
       "      <td>375.0</td>\n",
       "      <td>-1</td>\n",
       "      <td>62130163</td>\n",
       "    </tr>\n",
       "    <tr>\n",
       "      <th>62130164</th>\n",
       "      <td>23594465</td>\n",
       "      <td>2018</td>\n",
       "      <td>1</td>\n",
       "      <td>12903.21</td>\n",
       "      <td>12903.21</td>\n",
       "      <td>PRI</td>\n",
       "      <td>1</td>\n",
       "      <td>1</td>\n",
       "      <td>1</td>\n",
       "      <td>16205.699167</td>\n",
       "      <td>1</td>\n",
       "      <td>2018-03-01</td>\n",
       "      <td>2013-04-01</td>\n",
       "      <td>16604.299</td>\n",
       "      <td>386.0</td>\n",
       "      <td>-1</td>\n",
       "      <td>62130164</td>\n",
       "    </tr>\n",
       "    <tr>\n",
       "      <th>62130165</th>\n",
       "      <td>23594465</td>\n",
       "      <td>2018</td>\n",
       "      <td>2</td>\n",
       "      <td>42432.21</td>\n",
       "      <td>42432.21</td>\n",
       "      <td>PRI</td>\n",
       "      <td>1</td>\n",
       "      <td>1</td>\n",
       "      <td>1</td>\n",
       "      <td>16205.699167</td>\n",
       "      <td>1</td>\n",
       "      <td>2018-03-01</td>\n",
       "      <td>2013-04-01</td>\n",
       "      <td>16604.299</td>\n",
       "      <td>386.0</td>\n",
       "      <td>-1</td>\n",
       "      <td>62130165</td>\n",
       "    </tr>\n",
       "    <tr>\n",
       "      <th>62130166</th>\n",
       "      <td>23594465</td>\n",
       "      <td>2018</td>\n",
       "      <td>3</td>\n",
       "      <td>12738.28</td>\n",
       "      <td>12738.28</td>\n",
       "      <td>PRI</td>\n",
       "      <td>1</td>\n",
       "      <td>1</td>\n",
       "      <td>1</td>\n",
       "      <td>16205.699167</td>\n",
       "      <td>1</td>\n",
       "      <td>2018-03-01</td>\n",
       "      <td>2013-04-01</td>\n",
       "      <td>16604.299</td>\n",
       "      <td>386.0</td>\n",
       "      <td>-1</td>\n",
       "      <td>62130166</td>\n",
       "    </tr>\n",
       "  </tbody>\n",
       "</table>\n",
       "<p>26472116 rows × 17 columns</p>\n",
       "</div>"
      ],
      "text/plain": [
       "          CEDULA_COD  ANIO  MES   SALARIO SALARIO_SECTOR SECTOR_A  \\\n",
       "13               126  2006    1    161.67         161.67      PRI   \n",
       "14               126  2006    2    161.67         161.67      PRI   \n",
       "15               126  2006    3    161.67         161.67      PRI   \n",
       "16               126  2006    4    161.67         161.67      PRI   \n",
       "17               126  2006    5    161.67         161.67      PRI   \n",
       "...              ...   ...  ...       ...            ...      ...   \n",
       "62130162    23594465  2017   11  14045.72       14045.72      PRI   \n",
       "62130163    23594465  2017   12  14164.25       14164.25      PRI   \n",
       "62130164    23594465  2018    1  12903.21       12903.21      PRI   \n",
       "62130165    23594465  2018    2  42432.21       42432.21      PRI   \n",
       "62130166    23594465  2018    3  12738.28       12738.28      PRI   \n",
       "\n",
       "          NUM_SEC_MES %_NUM_SECTOR  GRUPO  SAL_PROM_GRUPO  GRUPO_SEL  \\\n",
       "13                  1            1      5      161.670000          1   \n",
       "14                  1            1      5      161.670000          1   \n",
       "15                  1            1      5      161.670000          1   \n",
       "16                  1            1      5      161.670000          1   \n",
       "17                  1            1      5      161.670000          1   \n",
       "...               ...          ...    ...             ...        ...   \n",
       "62130162            1            1      1    16205.699167          1   \n",
       "62130163            1            1      1    16205.699167          1   \n",
       "62130164            1            1      1    16205.699167          1   \n",
       "62130165            1            1      1    16205.699167          1   \n",
       "62130166            1            1      1    16205.699167          1   \n",
       "\n",
       "            INI_CAL    FIN_CAL   BASE_CAL    SBU  ID_SBU    INDICE  \n",
       "13       2010-12-01 2006-01-01    210.635  160.0      -1        13  \n",
       "14       2010-12-01 2006-01-01    210.635  160.0      -1        14  \n",
       "15       2010-12-01 2006-01-01    210.635  160.0      -1        15  \n",
       "16       2010-12-01 2006-01-01    210.635  160.0      -1        16  \n",
       "17       2010-12-01 2006-01-01    210.635  160.0      -1        17  \n",
       "...             ...        ...        ...    ...     ...       ...  \n",
       "62130162 2018-03-01 2013-04-01  16604.299  375.0      -1  62130162  \n",
       "62130163 2018-03-01 2013-04-01  16604.299  375.0      -1  62130163  \n",
       "62130164 2018-03-01 2013-04-01  16604.299  386.0      -1  62130164  \n",
       "62130165 2018-03-01 2013-04-01  16604.299  386.0      -1  62130165  \n",
       "62130166 2018-03-01 2013-04-01  16604.299  386.0      -1  62130166  \n",
       "\n",
       "[26472116 rows x 17 columns]"
      ]
     },
     "execution_count": 7,
     "metadata": {},
     "output_type": "execute_result"
    }
   ],
   "source": [
    "data"
   ]
  },
  {
   "cell_type": "code",
   "execution_count": 10,
   "id": "45aaee27",
   "metadata": {
    "ExecuteTime": {
     "end_time": "2024-07-30T21:28:46.101064Z",
     "start_time": "2024-07-30T21:28:40.010680Z"
    }
   },
   "outputs": [],
   "source": [
    "data_si = data[  (( data['SALARIO'] >= data['SBU'] ) & ( data['ANIO'] >= 2000 )) ].copy() \n",
    "data_no = data[ ~(( data['SALARIO'] >= data['SBU'] ) & ( data['ANIO'] >= 2000 )) ].copy() "
   ]
  },
  {
   "cell_type": "code",
   "execution_count": 11,
   "id": "b70f6cb7",
   "metadata": {
    "ExecuteTime": {
     "end_time": "2024-07-30T21:29:19.857073Z",
     "start_time": "2024-07-30T21:28:47.947571Z"
    }
   },
   "outputs": [],
   "source": [
    "data_si_dic = data_si.groupby('CEDULA_COD').agg({'SALARIO': list, 'INDICE': list}).to_dict(orient='index')\n",
    "data_no_dic = data_no.groupby('CEDULA_COD').agg({'SALARIO': list, 'INDICE': list}).to_dict(orient='index')"
   ]
  },
  {
   "cell_type": "code",
   "execution_count": 48,
   "id": "749dcf13",
   "metadata": {
    "ExecuteTime": {
     "end_time": "2024-07-30T21:46:51.670051Z",
     "start_time": "2024-07-30T21:46:51.662984Z"
    }
   },
   "outputs": [
    {
     "data": {
      "text/plain": [
       "array([[434.62],\n",
       "       [451.63],\n",
       "       [482.92],\n",
       "       [487.94],\n",
       "       [508.68],\n",
       "       [512.21],\n",
       "       [513.1 ],\n",
       "       [575.49],\n",
       "       [577.24],\n",
       "       [587.59],\n",
       "       [641.34],\n",
       "       [649.33],\n",
       "       [701.75]])"
      ]
     },
     "execution_count": 48,
     "metadata": {},
     "output_type": "execute_result"
    }
   ],
   "source": [
    "data = np.unique( np.array( data_si_dic[216]['SALARIO'])).reshape(-1, 1)\n",
    "data"
   ]
  },
  {
   "cell_type": "code",
   "execution_count": 51,
   "id": "98779981",
   "metadata": {
    "ExecuteTime": {
     "end_time": "2024-07-30T21:49:21.978417Z",
     "start_time": "2024-07-30T21:48:55.040018Z"
    }
   },
   "outputs": [
    {
     "name": "stderr",
     "output_type": "stream",
     "text": [
      "C:\\ProgramData\\anaconda3\\Lib\\site-packages\\sklearn\\cluster\\_kmeans.py:1436: UserWarning: KMeans is known to have a memory leak on Windows with MKL, when there are less chunks than available threads. You can avoid it by setting the environment variable OMP_NUM_THREADS=1.\n",
      "  warnings.warn(\n",
      "C:\\ProgramData\\anaconda3\\Lib\\site-packages\\sklearn\\cluster\\_kmeans.py:1436: UserWarning: KMeans is known to have a memory leak on Windows with MKL, when there are less chunks than available threads. You can avoid it by setting the environment variable OMP_NUM_THREADS=1.\n",
      "  warnings.warn(\n",
      "C:\\ProgramData\\anaconda3\\Lib\\site-packages\\sklearn\\cluster\\_kmeans.py:1436: UserWarning: KMeans is known to have a memory leak on Windows with MKL, when there are less chunks than available threads. You can avoid it by setting the environment variable OMP_NUM_THREADS=1.\n",
      "  warnings.warn(\n",
      "C:\\ProgramData\\anaconda3\\Lib\\site-packages\\sklearn\\cluster\\_kmeans.py:1436: UserWarning: KMeans is known to have a memory leak on Windows with MKL, when there are less chunks than available threads. You can avoid it by setting the environment variable OMP_NUM_THREADS=1.\n",
      "  warnings.warn(\n",
      "C:\\ProgramData\\anaconda3\\Lib\\site-packages\\sklearn\\cluster\\_kmeans.py:1436: UserWarning: KMeans is known to have a memory leak on Windows with MKL, when there are less chunks than available threads. You can avoid it by setting the environment variable OMP_NUM_THREADS=1.\n",
      "  warnings.warn(\n",
      "C:\\ProgramData\\anaconda3\\Lib\\site-packages\\sklearn\\cluster\\_kmeans.py:1436: UserWarning: KMeans is known to have a memory leak on Windows with MKL, when there are less chunks than available threads. You can avoid it by setting the environment variable OMP_NUM_THREADS=1.\n",
      "  warnings.warn(\n",
      "C:\\ProgramData\\anaconda3\\Lib\\site-packages\\sklearn\\cluster\\_kmeans.py:1436: UserWarning: KMeans is known to have a memory leak on Windows with MKL, when there are less chunks than available threads. You can avoid it by setting the environment variable OMP_NUM_THREADS=1.\n",
      "  warnings.warn(\n",
      "C:\\ProgramData\\anaconda3\\Lib\\site-packages\\sklearn\\cluster\\_kmeans.py:1436: UserWarning: KMeans is known to have a memory leak on Windows with MKL, when there are less chunks than available threads. You can avoid it by setting the environment variable OMP_NUM_THREADS=1.\n",
      "  warnings.warn(\n",
      "C:\\ProgramData\\anaconda3\\Lib\\site-packages\\sklearn\\cluster\\_kmeans.py:1436: UserWarning: KMeans is known to have a memory leak on Windows with MKL, when there are less chunks than available threads. You can avoid it by setting the environment variable OMP_NUM_THREADS=1.\n",
      "  warnings.warn(\n",
      "C:\\ProgramData\\anaconda3\\Lib\\site-packages\\sklearn\\cluster\\_kmeans.py:1436: UserWarning: KMeans is known to have a memory leak on Windows with MKL, when there are less chunks than available threads. You can avoid it by setting the environment variable OMP_NUM_THREADS=1.\n",
      "  warnings.warn(\n",
      "C:\\ProgramData\\anaconda3\\Lib\\site-packages\\sklearn\\cluster\\_kmeans.py:1436: UserWarning: KMeans is known to have a memory leak on Windows with MKL, when there are less chunks than available threads. You can avoid it by setting the environment variable OMP_NUM_THREADS=1.\n",
      "  warnings.warn(\n",
      "C:\\ProgramData\\anaconda3\\Lib\\site-packages\\sklearn\\cluster\\_kmeans.py:1436: UserWarning: KMeans is known to have a memory leak on Windows with MKL, when there are less chunks than available threads. You can avoid it by setting the environment variable OMP_NUM_THREADS=1.\n",
      "  warnings.warn(\n",
      "C:\\ProgramData\\anaconda3\\Lib\\site-packages\\sklearn\\cluster\\_kmeans.py:1436: UserWarning: KMeans is known to have a memory leak on Windows with MKL, when there are less chunks than available threads. You can avoid it by setting the environment variable OMP_NUM_THREADS=1.\n",
      "  warnings.warn(\n",
      "C:\\ProgramData\\anaconda3\\Lib\\site-packages\\sklearn\\base.py:1151: ConvergenceWarning: Number of distinct clusters (13) found smaller than n_clusters (14). Possibly due to duplicate points in X.\n",
      "  return fit_method(estimator, *args, **kwargs)\n",
      "C:\\ProgramData\\anaconda3\\Lib\\site-packages\\sklearn\\cluster\\_kmeans.py:1436: UserWarning: KMeans is known to have a memory leak on Windows with MKL, when there are less chunks than available threads. You can avoid it by setting the environment variable OMP_NUM_THREADS=1.\n",
      "  warnings.warn(\n",
      "C:\\ProgramData\\anaconda3\\Lib\\site-packages\\sklearn\\base.py:1151: ConvergenceWarning: Number of distinct clusters (13) found smaller than n_clusters (15). Possibly due to duplicate points in X.\n",
      "  return fit_method(estimator, *args, **kwargs)\n",
      "C:\\ProgramData\\anaconda3\\Lib\\site-packages\\sklearn\\cluster\\_kmeans.py:1436: UserWarning: KMeans is known to have a memory leak on Windows with MKL, when there are less chunks than available threads. You can avoid it by setting the environment variable OMP_NUM_THREADS=1.\n",
      "  warnings.warn(\n",
      "C:\\ProgramData\\anaconda3\\Lib\\site-packages\\sklearn\\base.py:1151: ConvergenceWarning: Number of distinct clusters (13) found smaller than n_clusters (16). Possibly due to duplicate points in X.\n",
      "  return fit_method(estimator, *args, **kwargs)\n",
      "C:\\ProgramData\\anaconda3\\Lib\\site-packages\\sklearn\\cluster\\_kmeans.py:1436: UserWarning: KMeans is known to have a memory leak on Windows with MKL, when there are less chunks than available threads. You can avoid it by setting the environment variable OMP_NUM_THREADS=1.\n",
      "  warnings.warn(\n",
      "C:\\ProgramData\\anaconda3\\Lib\\site-packages\\sklearn\\base.py:1151: ConvergenceWarning: Number of distinct clusters (13) found smaller than n_clusters (17). Possibly due to duplicate points in X.\n",
      "  return fit_method(estimator, *args, **kwargs)\n",
      "C:\\ProgramData\\anaconda3\\Lib\\site-packages\\sklearn\\cluster\\_kmeans.py:1436: UserWarning: KMeans is known to have a memory leak on Windows with MKL, when there are less chunks than available threads. You can avoid it by setting the environment variable OMP_NUM_THREADS=1.\n",
      "  warnings.warn(\n",
      "C:\\ProgramData\\anaconda3\\Lib\\site-packages\\sklearn\\base.py:1151: ConvergenceWarning: Number of distinct clusters (13) found smaller than n_clusters (18). Possibly due to duplicate points in X.\n",
      "  return fit_method(estimator, *args, **kwargs)\n",
      "C:\\ProgramData\\anaconda3\\Lib\\site-packages\\sklearn\\cluster\\_kmeans.py:1436: UserWarning: KMeans is known to have a memory leak on Windows with MKL, when there are less chunks than available threads. You can avoid it by setting the environment variable OMP_NUM_THREADS=1.\n",
      "  warnings.warn(\n",
      "C:\\ProgramData\\anaconda3\\Lib\\site-packages\\sklearn\\base.py:1151: ConvergenceWarning: Number of distinct clusters (13) found smaller than n_clusters (19). Possibly due to duplicate points in X.\n",
      "  return fit_method(estimator, *args, **kwargs)\n"
     ]
    }
   ],
   "source": [
    "distortions = []\n",
    "silhouettes = []\n",
    "\n",
    "data = np.array( data_si_dic[216]['SALARIO'] ).reshape(-1, 1)\n",
    "for i in range(2, 20):\n",
    "    km = KMeans( i, init='random', n_init=10, max_iter=300, tol=1e-4, random_state = semilla)\n",
    "    clustering = km.fit_predict(data )\n",
    "    distortions.append(km.inertia_)\n",
    "    silhouettes.append(metrics.silhouette_score( data, clustering))"
   ]
  },
  {
   "cell_type": "code",
   "execution_count": 52,
   "id": "7f7b0efc",
   "metadata": {
    "ExecuteTime": {
     "end_time": "2024-07-30T21:49:22.208820Z",
     "start_time": "2024-07-30T21:49:21.981411Z"
    }
   },
   "outputs": [
    {
     "data": {
      "image/png": "[encoded data removed]",
      "text/plain": [
       "<Figure size 640x480 with 1 Axes>"
      ]
     },
     "metadata": {},
     "output_type": "display_data"
    }
   ],
   "source": [
    "plt.plot(range(2,20), distortions, marker='o')\n",
    "plt.xticks(range(2, 20))\n",
    "plt.xlabel('K')\n",
    "plt.ylabel('Distortion')\n",
    "plt.grid(True)\n",
    "plt.show()"
   ]
  },
  {
   "cell_type": "code",
   "execution_count": 53,
   "id": "4ed09354",
   "metadata": {
    "ExecuteTime": {
     "end_time": "2024-07-30T21:49:22.432933Z",
     "start_time": "2024-07-30T21:49:22.212043Z"
    }
   },
   "outputs": [
    {
     "name": "stdout",
     "output_type": "stream",
     "text": [
      "Elbow:  4\n"
     ]
    },
    {
     "data": {
      "image/png": "[encoded data removed]",
      "text/plain": [
       "<Figure size 600x600 with 1 Axes>"
      ]
     },
     "metadata": {},
     "output_type": "display_data"
    }
   ],
   "source": [
    "kneedle = kneed.KneeLocator(range(2, 20), distortions[:20], curve=\"convex\", direction=\"decreasing\")\n",
    "elbow_point = kneedle.elbow\n",
    "print('Elbow: ', elbow_point)\n",
    "kneedle.plot_knee()"
   ]
  },
  {
   "cell_type": "code",
   "execution_count": 54,
   "id": "484b23bd",
   "metadata": {
    "ExecuteTime": {
     "end_time": "2024-07-30T21:49:22.602194Z",
     "start_time": "2024-07-30T21:49:22.435935Z"
    }
   },
   "outputs": [
    {
     "data": {
      "image/png": "[encoded data removed]",
      "text/plain": [
       "<Figure size 640x480 with 1 Axes>"
      ]
     },
     "metadata": {},
     "output_type": "display_data"
    }
   ],
   "source": [
    "plt.plot(range(2,20), silhouettes , marker='o')\n",
    "plt.xticks(range(2, 20))\n",
    "plt.xlabel('K')\n",
    "plt.ylabel('Silhouette')\n",
    "plt.grid(True)\n",
    "plt.show()"
   ]
  },
  {
   "cell_type": "code",
   "execution_count": 55,
   "id": "c8be4473",
   "metadata": {
    "ExecuteTime": {
     "end_time": "2024-07-30T21:49:22.760799Z",
     "start_time": "2024-07-30T21:49:22.603720Z"
    }
   },
   "outputs": [
    {
     "data": {
      "image/png": "[encoded data removed]",
      "text/plain": [
       "<Figure size 640x480 with 1 Axes>"
      ]
     },
     "metadata": {},
     "output_type": "display_data"
    }
   ],
   "source": [
    "plt.scatter( np.arange(np.array( data_si_dic[216]['SALARIO'] ).shape[0]), np.array( data_si_dic[216]['SALARIO'] ) )\n",
    "\n",
    "# Añadir etiquetas y título\n",
    "plt.xlabel('Índice')\n",
    "plt.ylabel('Salario')\n",
    "plt.title('Gráfico de Puntos de Salarios')\n",
    "\n",
    "# Mostrar el gráfico\n",
    "plt.show()"
   ]
  }
 ],
 "metadata": {
  "kernelspec": {
   "display_name": "Python 3 (ipykernel)",
   "language": "python",
   "name": "python3"
  },
  "language_info": {
   "codemirror_mode": {
    "name": "ipython",
    "version": 3
   },
   "file_extension": ".py",
   "mimetype": "text/x-python",
   "name": "python",
   "nbconvert_exporter": "python",
   "pygments_lexer": "ipython3",
   "version": "3.11.4"
  },
  "toc": {
   "base_numbering": 1,
   "nav_menu": {},
   "number_sections": true,
   "sideBar": true,
   "skip_h1_title": false,
   "title_cell": "Table of Contents",
   "title_sidebar": "Contents",
   "toc_cell": false,
   "toc_position": {},
   "toc_section_display": true,
   "toc_window_display": false
  }
 },
 "nbformat": 4,
 "nbformat_minor": 5
}
